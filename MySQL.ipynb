{
 "cells": [
  {
   "cell_type": "markdown",
   "metadata": {},
   "source": [
    "# 04.12.월 database4"
   ]
  },
  {
   "cell_type": "markdown",
   "metadata": {},
   "source": [
    "## MySQL 연동하기"
   ]
  },
  {
   "cell_type": "markdown",
   "metadata": {},
   "source": [
    "### 필요한 모듈을 설치한다.\n",
    "    - pymsql 패키지를 설치한다.\n",
    "    - pip install pymysql"
   ]
  },
  {
   "cell_type": "code",
   "execution_count": 2,
   "metadata": {},
   "outputs": [
    {
     "name": "stdout",
     "output_type": "stream",
     "text": [
      "Requirement already satisfied: pymysql in c:\\users\\admin\\anaconda3\\lib\\site-packages (1.0.2)\n",
      "Note: you may need to restart the kernel to use updated packages.\n"
     ]
    }
   ],
   "source": [
    "pip install pymysql"
   ]
  },
  {
   "cell_type": "markdown",
   "metadata": {},
   "source": [
    "### 방법\n",
    "\n",
    "1. DB 모듈 import하기\n",
    "2. DB접속 - 접속객체 얻어오기!\n",
    "3. 퀴리작성하기\n",
    "4. 쿼리 실행\n",
    "5. 결과값을 얻어오기\n",
    "6. 접속종료 (접속을 해줬으면, 항상 접속을 종료해줘야한다.)"
   ]
  },
  {
   "cell_type": "code",
   "execution_count": 10,
   "metadata": {},
   "outputs": [
    {
     "data": {
      "text/plain": [
       "<pymysql.connections.Connection at 0x1dcdf73c220>"
      ]
     },
     "execution_count": 10,
     "metadata": {},
     "output_type": "execute_result"
    }
   ],
   "source": [
    "# DB에 접속하기\n",
    "import pymysql\n",
    "\n",
    "# 각 컴퓨터에 db에 연결할거니 localhost로 하기, 값이 나오는것은 변수로 받아야한다.\n",
    "conn = pymysql.connect(\n",
    "    host ='localhost',\n",
    "    port = 3306,\n",
    "    user = 'pbl',\n",
    "    passwd = 'pblpw',\n",
    "    db = 'pbldb'\n",
    ")\n",
    "conn"
   ]
  },
  {
   "cell_type": "code",
   "execution_count": 27,
   "metadata": {},
   "outputs": [
    {
     "data": {
      "text/plain": [
       "5"
      ]
     },
     "execution_count": 27,
     "metadata": {},
     "output_type": "execute_result"
    }
   ],
   "source": [
    "sql = 'SELECT * FROM member'\n",
    "cursor = conn.cursor()\n",
    "cursor.execute(sql)"
   ]
  },
  {
   "cell_type": "code",
   "execution_count": 12,
   "metadata": {},
   "outputs": [
    {
     "name": "stdout",
     "output_type": "stream",
     "text": [
      "(2, 'test@nate.com', '1224', 'goo', None, datetime.datetime(2021, 4, 9, 15, 35, 19))\n",
      "(3, 'kssg201@nate.com', '12235', 'suk', None, datetime.datetime(2021, 4, 9, 15, 35, 34))\n",
      "(4, 'kssg201@gmail.com', '1226', 'song', None, datetime.datetime(2021, 4, 9, 15, 38, 21))\n",
      "(5, 'Lee@nate.com', '4444', 'lee', '200', datetime.datetime(2021, 4, 12, 9, 32, 3))\n",
      "(6, 'Lee@nate.com', '4444', 'chio', '200', datetime.datetime(2021, 4, 12, 9, 40, 28))\n"
     ]
    }
   ],
   "source": [
    "for member in cursor:\n",
    "    print(member)   "
   ]
  },
  {
   "cell_type": "code",
   "execution_count": 21,
   "metadata": {},
   "outputs": [
    {
     "data": {
      "text/plain": [
       "((2,\n",
       "  'test@nate.com',\n",
       "  '1224',\n",
       "  'goo',\n",
       "  None,\n",
       "  datetime.datetime(2021, 4, 9, 15, 35, 19)),\n",
       " (3,\n",
       "  'kssg201@nate.com',\n",
       "  '12235',\n",
       "  'suk',\n",
       "  None,\n",
       "  datetime.datetime(2021, 4, 9, 15, 35, 34)),\n",
       " (4,\n",
       "  'kssg201@gmail.com',\n",
       "  '1226',\n",
       "  'song',\n",
       "  None,\n",
       "  datetime.datetime(2021, 4, 9, 15, 38, 21)),\n",
       " (5,\n",
       "  'Lee@nate.com',\n",
       "  '4444',\n",
       "  'lee',\n",
       "  '200',\n",
       "  datetime.datetime(2021, 4, 12, 9, 32, 3)),\n",
       " (6,\n",
       "  'Lee@nate.com',\n",
       "  '4444',\n",
       "  'chio',\n",
       "  '200',\n",
       "  datetime.datetime(2021, 4, 12, 9, 40, 28)))"
      ]
     },
     "execution_count": 21,
     "metadata": {},
     "output_type": "execute_result"
    }
   ],
   "source": [
    "# fetchall()은 모든걸 불러온다. 이미 for문으로 다 해버렸으니 그 다음 실행하면 다음이 없어서 진행되지 않는다.\n",
    "# fetchoen()dms 한건만을 나오게 한다. fetchall(), fetchone(), fetchmany(number) 라는 메소드가 있다고 보면 된다.\n",
    "# 그렇기에 위에 select을 다시해서 커서를 돌리고 실행하면 다시 커서가 올라가서 결과값을 얻을 수 있다.\n",
    "# 튜플형태로 리턴을 받고 있다.\n",
    "result = cursor.fetchall()\n",
    "result"
   ]
  },
  {
   "cell_type": "code",
   "execution_count": 31,
   "metadata": {},
   "outputs": [
    {
     "data": {
      "text/plain": [
       "[{'member_id': 2,\n",
       "  'email': 'test@nate.com',\n",
       "  'passwd': '1224',\n",
       "  'name': 'goo',\n",
       "  'department_name': None,\n",
       "  'join_date': datetime.datetime(2021, 4, 9, 15, 35, 19)},\n",
       " {'member_id': 3,\n",
       "  'email': 'kssg201@nate.com',\n",
       "  'passwd': '12235',\n",
       "  'name': 'suk',\n",
       "  'department_name': None,\n",
       "  'join_date': datetime.datetime(2021, 4, 9, 15, 35, 34)},\n",
       " {'member_id': 4,\n",
       "  'email': 'kssg201@gmail.com',\n",
       "  'passwd': '1226',\n",
       "  'name': 'song',\n",
       "  'department_name': None,\n",
       "  'join_date': datetime.datetime(2021, 4, 9, 15, 38, 21)},\n",
       " {'member_id': 5,\n",
       "  'email': 'Lee@nate.com',\n",
       "  'passwd': '4444',\n",
       "  'name': 'lee',\n",
       "  'department_name': '200',\n",
       "  'join_date': datetime.datetime(2021, 4, 12, 9, 32, 3)},\n",
       " {'member_id': 6,\n",
       "  'email': 'Lee@nate.com',\n",
       "  'passwd': '4444',\n",
       "  'name': 'chio',\n",
       "  'department_name': '200',\n",
       "  'join_date': datetime.datetime(2021, 4, 12, 9, 40, 28)}]"
      ]
     },
     "execution_count": 31,
     "metadata": {},
     "output_type": "execute_result"
    }
   ],
   "source": [
    "# 딕셔너리 형식으로는 좀 더 편하고 list로 담긴다.\n",
    "# []리스트, {}딕셔너리\n",
    "dictCur = conn.cursor(pymysql.cursors.DictCursor)\n",
    "dictCur.execute('select * from member')\n",
    "dictResult = dictCur.fetchall()\n",
    "dictResult"
   ]
  },
  {
   "cell_type": "code",
   "execution_count": 33,
   "metadata": {},
   "outputs": [],
   "source": [
    "# 다 한 후에는 닫아야한다.\n",
    "dictCur.close()\n",
    "cursor.close()\n",
    "conn.close()"
   ]
  },
  {
   "cell_type": "code",
   "execution_count": 37,
   "metadata": {},
   "outputs": [
    {
     "data": {
      "text/plain": [
       "<pymysql.connections.Connection at 0x1dcdf677820>"
      ]
     },
     "execution_count": 37,
     "metadata": {},
     "output_type": "execute_result"
    }
   ],
   "source": [
    "# DB에 접속하기\n",
    "import pymysql\n",
    "\n",
    "# 각 컴퓨터에 db에 연결할거니 localhost로 하기, 값이 나오는것은 변수로 받아야한다.\n",
    "conn = pymysql.connect(\n",
    "    host ='localhost',\n",
    "    port = 3306,\n",
    "    user = 'pbl',\n",
    "    passwd = 'pblpw',\n",
    "    db = 'pbldb'\n",
    ")\n",
    "conn"
   ]
  },
  {
   "cell_type": "code",
   "execution_count": 36,
   "metadata": {},
   "outputs": [],
   "source": [
    "# 입력하기\n",
    "query = '''\n",
    "insert member\n",
    "values(null,'Lee@nate.com','4444','chio','200',default)'''\n",
    "cur = conn.cursor()\n",
    "cur.execute(query)\n",
    "conn.commit()\n",
    "cursor.close()\n",
    "conn.close()\n",
    "# 다시 삽입할려면, conn을 열어주고 그다음에 MySQL에서 확인하면 삽입된 것을 확인할 수 있음."
   ]
  },
  {
   "cell_type": "code",
   "execution_count": 41,
   "metadata": {},
   "outputs": [],
   "source": [
    "# 변수를 선언해서 입력하기, 그냥 %s를 사용하면됨.\n",
    "email = 'ksg201232@nate.com'\n",
    "passwd = '123456'\n",
    "name = 'kwak'\n",
    "query = '''\n",
    "insert member\n",
    "values(null,%s, %s,%s,'220',default)'''\n",
    "cur = conn.cursor()\n",
    "cur.execute(query,(email,passwd,name))\n",
    "conn.commit()\n",
    "cursor.close()"
   ]
  },
  {
   "cell_type": "code",
   "execution_count": null,
   "metadata": {},
   "outputs": [],
   "source": []
  }
 ],
 "metadata": {
  "kernelspec": {
   "display_name": "Python 3",
   "language": "python",
   "name": "python3"
  },
  "language_info": {
   "codemirror_mode": {
    "name": "ipython",
    "version": 3
   },
   "file_extension": ".py",
   "mimetype": "text/x-python",
   "name": "python",
   "nbconvert_exporter": "python",
   "pygments_lexer": "ipython3",
   "version": "3.8.5"
  }
 },
 "nbformat": 4,
 "nbformat_minor": 4
}
