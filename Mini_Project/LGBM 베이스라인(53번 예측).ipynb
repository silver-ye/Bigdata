{
 "cells": [
  {
   "cell_type": "markdown",
   "metadata": {
    "id": "17nTsT74Ea1r"
   },
   "source": [
    "# (저와 같은) 초보 중에서도 초보를 위한 베이스라인\n",
    "\n",
    "### 저와 같은 초보 중에서도 초보들이 저처럼 시간낭비?를 하지 않기를 바라는 마음으로 이렇게 코드공유를 해봅니다.\n",
    "\n",
    "####! 이미 한번이라도 제출해본 적이 있으신 분은 안보고 넘어가셔도 좋습니다 !\n",
    "\n"
   ]
  },
  {
   "cell_type": "markdown",
   "metadata": {
    "id": "L5YYHfk6PYIE"
   },
   "source": [
    "이 코드 공유는 아래의 어려움을 겪으신 분들을 위한 베이스라인? 코드입니다.\n",
    "- 데이콘이라는걸 처음 알게 된 분들이 **경험삼아 한번이라도 제출하고 싶은 경우**\n",
    "- 베이스라인대로 코드를 돌려봤는데 데이터프레임 칼럼명(헤더)가 깨져서 당황하신 분들\n",
    "- 제공되는 기본 베이스라인코드를 그대로 돌려봤는데 본인이 코드 실행해서 만들어진 **submission.csv와 sample_submission.csv가 서로 다르게 생겨서** 당황하신 분들\n",
    "- sklearn에서 **GridSearchCV**를 써본적이 없는 분들\n",
    "- **SMAPE**를 어떻게 loss함수로 지정해야하는지 몰라 포기하셨던 분들\n",
    "\n"
   ]
  },
  {
   "cell_type": "markdown",
   "metadata": {
    "id": "N1AZuAlwPbsy"
   },
   "source": [
    "거의 대다수의 분들은 위의 사항에 해당되지 않음을 알고있습니다...만 그래도 저같이 판다스 람다함수 같은 기본적인 것도 못 외워서 검색하고 어디를 실수했는지 못찾아서 거의 하루를 매달려야 하는 분들도 있기는 있을 것이라고 생각하여 올려봅니다\n",
    "\n",
    "\n",
    "(주의) 기존 베이스라인코드를 많이 베껴왔습니다."
   ]
  },
  {
   "cell_type": "markdown",
   "metadata": {
    "id": "Er5XYCmiPjyq"
   },
   "source": []
  },
  {
   "cell_type": "markdown",
   "metadata": {
    "id": "8RNHJ8i7Pg7y"
   },
   "source": [
    "# 데이터 전처리"
   ]
  },
  {
   "cell_type": "code",
   "execution_count": 134,
   "metadata": {
    "executionInfo": {
     "elapsed": 867,
     "status": "ok",
     "timestamp": 1621102939945,
     "user": {
      "displayName": "Hyun Seok Lee",
      "photoUrl": "",
      "userId": "16888525911363350003"
     },
     "user_tz": -540
    },
    "id": "U6vuev4GIguU"
   },
   "outputs": [],
   "source": [
    "#Library Imports\n",
    "import numpy as np  # 넘파이\n",
    "import pandas as pd  # 판다스\n",
    "# import math\n",
    "import os  # 디렉토리 변경\n",
    "from sklearn.model_selection import GridSearchCV  # 파라미터 설정 고민을 줄여주는 고마운 친구\n",
    "from sklearn.metrics import make_scorer  # loss function 커스터마이징\n",
    "\n",
    "from lightgbm import LGBMRegressor  # 전 LGBMRegressor 만을 사용해서 돌려보았습니다.\n",
    "from sklearn.model_selection import train_test_split  # train, valid set 제작\n",
    "\n",
    "import warnings\n",
    "warnings.filterwarnings(action='ignore')\n",
    "\n",
    "\n",
    "#os.chdir('/content/drive/MyDrive/Colab Notebooks/데이콘/전력사용량 예측') "
   ]
  },
  {
   "cell_type": "code",
   "execution_count": 117,
   "metadata": {
    "executionInfo": {
     "elapsed": 707,
     "status": "ok",
     "timestamp": 1621102941230,
     "user": {
      "displayName": "Hyun Seok Lee",
      "photoUrl": "",
      "userId": "16888525911363350003"
     },
     "user_tz": -540
    },
    "id": "7xlHCPX-IqS5"
   },
   "outputs": [],
   "source": [
    "# 데이터 로드 (인코딩은 euc-kr)\n",
    "train=pd.read_csv('train.csv', encoding='euc-kr')\n",
    "test=pd.read_csv('test.csv', encoding='euc-kr')\n",
    "submission=pd.read_csv('sample_submission.csv', encoding='euc-kr')"
   ]
  },
  {
   "cell_type": "code",
   "execution_count": 5,
   "metadata": {
    "colab": {
     "base_uri": "https://localhost:8080/",
     "height": 266
    },
    "executionInfo": {
     "elapsed": 432,
     "status": "ok",
     "timestamp": 1621102942158,
     "user": {
      "displayName": "Hyun Seok Lee",
      "photoUrl": "",
      "userId": "16888525911363350003"
     },
     "user_tz": -540
    },
    "id": "yGumlF7mJ-ZH",
    "outputId": "3cb65e16-96f9-4653-f20d-07c8bbf122b4"
   },
   "outputs": [
    {
     "data": {
      "text/html": [
       "<div>\n",
       "<style scoped>\n",
       "    .dataframe tbody tr th:only-of-type {\n",
       "        vertical-align: middle;\n",
       "    }\n",
       "\n",
       "    .dataframe tbody tr th {\n",
       "        vertical-align: top;\n",
       "    }\n",
       "\n",
       "    .dataframe thead th {\n",
       "        text-align: right;\n",
       "    }\n",
       "</style>\n",
       "<table border=\"1\" class=\"dataframe\">\n",
       "  <thead>\n",
       "    <tr style=\"text-align: right;\">\n",
       "      <th></th>\n",
       "      <th>num</th>\n",
       "      <th>date_time</th>\n",
       "      <th>전력사용량(kWh)</th>\n",
       "      <th>기온(°C)</th>\n",
       "      <th>풍속(m/s)</th>\n",
       "      <th>습도(%)</th>\n",
       "      <th>강수량(mm)</th>\n",
       "      <th>일조(hr)</th>\n",
       "      <th>비전기냉방설비운영</th>\n",
       "      <th>태양광보유</th>\n",
       "    </tr>\n",
       "  </thead>\n",
       "  <tbody>\n",
       "    <tr>\n",
       "      <th>0</th>\n",
       "      <td>1</td>\n",
       "      <td>2020-06-01 00</td>\n",
       "      <td>8179.056</td>\n",
       "      <td>17.6</td>\n",
       "      <td>2.5</td>\n",
       "      <td>92.0</td>\n",
       "      <td>0.8</td>\n",
       "      <td>0.0</td>\n",
       "      <td>0.0</td>\n",
       "      <td>0.0</td>\n",
       "    </tr>\n",
       "    <tr>\n",
       "      <th>1</th>\n",
       "      <td>1</td>\n",
       "      <td>2020-06-01 01</td>\n",
       "      <td>8135.640</td>\n",
       "      <td>17.7</td>\n",
       "      <td>2.9</td>\n",
       "      <td>91.0</td>\n",
       "      <td>0.3</td>\n",
       "      <td>0.0</td>\n",
       "      <td>0.0</td>\n",
       "      <td>0.0</td>\n",
       "    </tr>\n",
       "    <tr>\n",
       "      <th>2</th>\n",
       "      <td>1</td>\n",
       "      <td>2020-06-01 02</td>\n",
       "      <td>8107.128</td>\n",
       "      <td>17.5</td>\n",
       "      <td>3.2</td>\n",
       "      <td>91.0</td>\n",
       "      <td>0.0</td>\n",
       "      <td>0.0</td>\n",
       "      <td>0.0</td>\n",
       "      <td>0.0</td>\n",
       "    </tr>\n",
       "    <tr>\n",
       "      <th>3</th>\n",
       "      <td>1</td>\n",
       "      <td>2020-06-01 03</td>\n",
       "      <td>8048.808</td>\n",
       "      <td>17.1</td>\n",
       "      <td>3.2</td>\n",
       "      <td>91.0</td>\n",
       "      <td>0.0</td>\n",
       "      <td>0.0</td>\n",
       "      <td>0.0</td>\n",
       "      <td>0.0</td>\n",
       "    </tr>\n",
       "    <tr>\n",
       "      <th>4</th>\n",
       "      <td>1</td>\n",
       "      <td>2020-06-01 04</td>\n",
       "      <td>8043.624</td>\n",
       "      <td>17.0</td>\n",
       "      <td>3.3</td>\n",
       "      <td>92.0</td>\n",
       "      <td>0.0</td>\n",
       "      <td>0.0</td>\n",
       "      <td>0.0</td>\n",
       "      <td>0.0</td>\n",
       "    </tr>\n",
       "    <tr>\n",
       "      <th>...</th>\n",
       "      <td>...</td>\n",
       "      <td>...</td>\n",
       "      <td>...</td>\n",
       "      <td>...</td>\n",
       "      <td>...</td>\n",
       "      <td>...</td>\n",
       "      <td>...</td>\n",
       "      <td>...</td>\n",
       "      <td>...</td>\n",
       "      <td>...</td>\n",
       "    </tr>\n",
       "    <tr>\n",
       "      <th>122395</th>\n",
       "      <td>60</td>\n",
       "      <td>2020-08-24 19</td>\n",
       "      <td>4114.368</td>\n",
       "      <td>27.8</td>\n",
       "      <td>2.3</td>\n",
       "      <td>68.0</td>\n",
       "      <td>0.0</td>\n",
       "      <td>0.7</td>\n",
       "      <td>1.0</td>\n",
       "      <td>1.0</td>\n",
       "    </tr>\n",
       "    <tr>\n",
       "      <th>122396</th>\n",
       "      <td>60</td>\n",
       "      <td>2020-08-24 20</td>\n",
       "      <td>3975.696</td>\n",
       "      <td>27.3</td>\n",
       "      <td>1.2</td>\n",
       "      <td>71.0</td>\n",
       "      <td>0.0</td>\n",
       "      <td>0.0</td>\n",
       "      <td>1.0</td>\n",
       "      <td>1.0</td>\n",
       "    </tr>\n",
       "    <tr>\n",
       "      <th>122397</th>\n",
       "      <td>60</td>\n",
       "      <td>2020-08-24 21</td>\n",
       "      <td>3572.208</td>\n",
       "      <td>27.3</td>\n",
       "      <td>1.8</td>\n",
       "      <td>71.0</td>\n",
       "      <td>0.0</td>\n",
       "      <td>0.0</td>\n",
       "      <td>1.0</td>\n",
       "      <td>1.0</td>\n",
       "    </tr>\n",
       "    <tr>\n",
       "      <th>122398</th>\n",
       "      <td>60</td>\n",
       "      <td>2020-08-24 22</td>\n",
       "      <td>3299.184</td>\n",
       "      <td>27.1</td>\n",
       "      <td>1.8</td>\n",
       "      <td>74.0</td>\n",
       "      <td>0.0</td>\n",
       "      <td>0.0</td>\n",
       "      <td>1.0</td>\n",
       "      <td>1.0</td>\n",
       "    </tr>\n",
       "    <tr>\n",
       "      <th>122399</th>\n",
       "      <td>60</td>\n",
       "      <td>2020-08-24 23</td>\n",
       "      <td>3204.576</td>\n",
       "      <td>27.1</td>\n",
       "      <td>2.6</td>\n",
       "      <td>75.0</td>\n",
       "      <td>0.0</td>\n",
       "      <td>0.0</td>\n",
       "      <td>1.0</td>\n",
       "      <td>1.0</td>\n",
       "    </tr>\n",
       "  </tbody>\n",
       "</table>\n",
       "<p>122400 rows × 10 columns</p>\n",
       "</div>"
      ],
      "text/plain": [
       "        num      date_time  전력사용량(kWh)  기온(°C)  풍속(m/s)  습도(%)  강수량(mm)  \\\n",
       "0         1  2020-06-01 00    8179.056    17.6      2.5   92.0      0.8   \n",
       "1         1  2020-06-01 01    8135.640    17.7      2.9   91.0      0.3   \n",
       "2         1  2020-06-01 02    8107.128    17.5      3.2   91.0      0.0   \n",
       "3         1  2020-06-01 03    8048.808    17.1      3.2   91.0      0.0   \n",
       "4         1  2020-06-01 04    8043.624    17.0      3.3   92.0      0.0   \n",
       "...     ...            ...         ...     ...      ...    ...      ...   \n",
       "122395   60  2020-08-24 19    4114.368    27.8      2.3   68.0      0.0   \n",
       "122396   60  2020-08-24 20    3975.696    27.3      1.2   71.0      0.0   \n",
       "122397   60  2020-08-24 21    3572.208    27.3      1.8   71.0      0.0   \n",
       "122398   60  2020-08-24 22    3299.184    27.1      1.8   74.0      0.0   \n",
       "122399   60  2020-08-24 23    3204.576    27.1      2.6   75.0      0.0   \n",
       "\n",
       "        일조(hr)  비전기냉방설비운영  태양광보유  \n",
       "0          0.0        0.0    0.0  \n",
       "1          0.0        0.0    0.0  \n",
       "2          0.0        0.0    0.0  \n",
       "3          0.0        0.0    0.0  \n",
       "4          0.0        0.0    0.0  \n",
       "...        ...        ...    ...  \n",
       "122395     0.7        1.0    1.0  \n",
       "122396     0.0        1.0    1.0  \n",
       "122397     0.0        1.0    1.0  \n",
       "122398     0.0        1.0    1.0  \n",
       "122399     0.0        1.0    1.0  \n",
       "\n",
       "[122400 rows x 10 columns]"
      ]
     },
     "execution_count": 5,
     "metadata": {},
     "output_type": "execute_result"
    }
   ],
   "source": [
    "train"
   ]
  },
  {
   "cell_type": "code",
   "execution_count": 6,
   "metadata": {
    "colab": {
     "base_uri": "https://localhost:8080/",
     "height": 266
    },
    "executionInfo": {
     "elapsed": 453,
     "status": "ok",
     "timestamp": 1621102943192,
     "user": {
      "displayName": "Hyun Seok Lee",
      "photoUrl": "",
      "userId": "16888525911363350003"
     },
     "user_tz": -540
    },
    "id": "cPLOmRnDJYB7",
    "outputId": "fdcdff98-57a9-415a-d521-e23ac4b2b3b8",
    "scrolled": true
   },
   "outputs": [
    {
     "data": {
      "text/html": [
       "<div>\n",
       "<style scoped>\n",
       "    .dataframe tbody tr th:only-of-type {\n",
       "        vertical-align: middle;\n",
       "    }\n",
       "\n",
       "    .dataframe tbody tr th {\n",
       "        vertical-align: top;\n",
       "    }\n",
       "\n",
       "    .dataframe thead th {\n",
       "        text-align: right;\n",
       "    }\n",
       "</style>\n",
       "<table border=\"1\" class=\"dataframe\">\n",
       "  <thead>\n",
       "    <tr style=\"text-align: right;\">\n",
       "      <th></th>\n",
       "      <th>num</th>\n",
       "      <th>date_time</th>\n",
       "      <th>기온(°C)</th>\n",
       "      <th>풍속(m/s)</th>\n",
       "      <th>습도(%)</th>\n",
       "      <th>강수량(mm, 6시간)</th>\n",
       "      <th>일조(hr, 3시간)</th>\n",
       "      <th>비전기냉방설비운영</th>\n",
       "      <th>태양광보유</th>\n",
       "    </tr>\n",
       "  </thead>\n",
       "  <tbody>\n",
       "    <tr>\n",
       "      <th>0</th>\n",
       "      <td>1</td>\n",
       "      <td>2020-08-25 00</td>\n",
       "      <td>27.8</td>\n",
       "      <td>1.5</td>\n",
       "      <td>74.0</td>\n",
       "      <td>0.0</td>\n",
       "      <td>0.0</td>\n",
       "      <td>NaN</td>\n",
       "      <td>NaN</td>\n",
       "    </tr>\n",
       "    <tr>\n",
       "      <th>1</th>\n",
       "      <td>1</td>\n",
       "      <td>2020-08-25 01</td>\n",
       "      <td>NaN</td>\n",
       "      <td>NaN</td>\n",
       "      <td>NaN</td>\n",
       "      <td>NaN</td>\n",
       "      <td>NaN</td>\n",
       "      <td>NaN</td>\n",
       "      <td>NaN</td>\n",
       "    </tr>\n",
       "    <tr>\n",
       "      <th>2</th>\n",
       "      <td>1</td>\n",
       "      <td>2020-08-25 02</td>\n",
       "      <td>NaN</td>\n",
       "      <td>NaN</td>\n",
       "      <td>NaN</td>\n",
       "      <td>NaN</td>\n",
       "      <td>NaN</td>\n",
       "      <td>NaN</td>\n",
       "      <td>NaN</td>\n",
       "    </tr>\n",
       "    <tr>\n",
       "      <th>3</th>\n",
       "      <td>1</td>\n",
       "      <td>2020-08-25 03</td>\n",
       "      <td>27.3</td>\n",
       "      <td>1.1</td>\n",
       "      <td>78.0</td>\n",
       "      <td>NaN</td>\n",
       "      <td>0.0</td>\n",
       "      <td>NaN</td>\n",
       "      <td>NaN</td>\n",
       "    </tr>\n",
       "    <tr>\n",
       "      <th>4</th>\n",
       "      <td>1</td>\n",
       "      <td>2020-08-25 04</td>\n",
       "      <td>NaN</td>\n",
       "      <td>NaN</td>\n",
       "      <td>NaN</td>\n",
       "      <td>NaN</td>\n",
       "      <td>NaN</td>\n",
       "      <td>NaN</td>\n",
       "      <td>NaN</td>\n",
       "    </tr>\n",
       "    <tr>\n",
       "      <th>...</th>\n",
       "      <td>...</td>\n",
       "      <td>...</td>\n",
       "      <td>...</td>\n",
       "      <td>...</td>\n",
       "      <td>...</td>\n",
       "      <td>...</td>\n",
       "      <td>...</td>\n",
       "      <td>...</td>\n",
       "      <td>...</td>\n",
       "    </tr>\n",
       "    <tr>\n",
       "      <th>10075</th>\n",
       "      <td>60</td>\n",
       "      <td>2020-08-31 19</td>\n",
       "      <td>NaN</td>\n",
       "      <td>NaN</td>\n",
       "      <td>NaN</td>\n",
       "      <td>NaN</td>\n",
       "      <td>NaN</td>\n",
       "      <td>NaN</td>\n",
       "      <td>NaN</td>\n",
       "    </tr>\n",
       "    <tr>\n",
       "      <th>10076</th>\n",
       "      <td>60</td>\n",
       "      <td>2020-08-31 20</td>\n",
       "      <td>NaN</td>\n",
       "      <td>NaN</td>\n",
       "      <td>NaN</td>\n",
       "      <td>NaN</td>\n",
       "      <td>NaN</td>\n",
       "      <td>NaN</td>\n",
       "      <td>NaN</td>\n",
       "    </tr>\n",
       "    <tr>\n",
       "      <th>10077</th>\n",
       "      <td>60</td>\n",
       "      <td>2020-08-31 21</td>\n",
       "      <td>27.9</td>\n",
       "      <td>4.1</td>\n",
       "      <td>68.0</td>\n",
       "      <td>NaN</td>\n",
       "      <td>0.0</td>\n",
       "      <td>1.0</td>\n",
       "      <td>1.0</td>\n",
       "    </tr>\n",
       "    <tr>\n",
       "      <th>10078</th>\n",
       "      <td>60</td>\n",
       "      <td>2020-08-31 22</td>\n",
       "      <td>NaN</td>\n",
       "      <td>NaN</td>\n",
       "      <td>NaN</td>\n",
       "      <td>NaN</td>\n",
       "      <td>NaN</td>\n",
       "      <td>NaN</td>\n",
       "      <td>NaN</td>\n",
       "    </tr>\n",
       "    <tr>\n",
       "      <th>10079</th>\n",
       "      <td>60</td>\n",
       "      <td>2020-08-31 23</td>\n",
       "      <td>NaN</td>\n",
       "      <td>NaN</td>\n",
       "      <td>NaN</td>\n",
       "      <td>NaN</td>\n",
       "      <td>NaN</td>\n",
       "      <td>NaN</td>\n",
       "      <td>NaN</td>\n",
       "    </tr>\n",
       "  </tbody>\n",
       "</table>\n",
       "<p>10080 rows × 9 columns</p>\n",
       "</div>"
      ],
      "text/plain": [
       "       num      date_time  기온(°C)  풍속(m/s)  습도(%)  강수량(mm, 6시간)  일조(hr, 3시간)  \\\n",
       "0        1  2020-08-25 00    27.8      1.5   74.0           0.0          0.0   \n",
       "1        1  2020-08-25 01     NaN      NaN    NaN           NaN          NaN   \n",
       "2        1  2020-08-25 02     NaN      NaN    NaN           NaN          NaN   \n",
       "3        1  2020-08-25 03    27.3      1.1   78.0           NaN          0.0   \n",
       "4        1  2020-08-25 04     NaN      NaN    NaN           NaN          NaN   \n",
       "...    ...            ...     ...      ...    ...           ...          ...   \n",
       "10075   60  2020-08-31 19     NaN      NaN    NaN           NaN          NaN   \n",
       "10076   60  2020-08-31 20     NaN      NaN    NaN           NaN          NaN   \n",
       "10077   60  2020-08-31 21    27.9      4.1   68.0           NaN          0.0   \n",
       "10078   60  2020-08-31 22     NaN      NaN    NaN           NaN          NaN   \n",
       "10079   60  2020-08-31 23     NaN      NaN    NaN           NaN          NaN   \n",
       "\n",
       "       비전기냉방설비운영  태양광보유  \n",
       "0            NaN    NaN  \n",
       "1            NaN    NaN  \n",
       "2            NaN    NaN  \n",
       "3            NaN    NaN  \n",
       "4            NaN    NaN  \n",
       "...          ...    ...  \n",
       "10075        NaN    NaN  \n",
       "10076        NaN    NaN  \n",
       "10077        1.0    1.0  \n",
       "10078        NaN    NaN  \n",
       "10079        NaN    NaN  \n",
       "\n",
       "[10080 rows x 9 columns]"
      ]
     },
     "execution_count": 6,
     "metadata": {},
     "output_type": "execute_result"
    }
   ],
   "source": [
    "test  # 전력사용량 없음"
   ]
  },
  {
   "cell_type": "code",
   "execution_count": 118,
   "metadata": {
    "executionInfo": {
     "elapsed": 5722,
     "status": "ok",
     "timestamp": 1621102949499,
     "user": {
      "displayName": "Hyun Seok Lee",
      "photoUrl": "",
      "userId": "16888525911363350003"
     },
     "user_tz": -540
    },
    "id": "c4t2t4QIJldB"
   },
   "outputs": [],
   "source": [
    "#건물별로 '비전기냉방설비운영'과 '태양광보유'를 판단해 test set의 결측치를 보간해줍니다\n",
    "# 건물별로의 비전기냉방설비운영, 태양광보유는 같은 건물로 위와 같으므로, 위에 값으로 대체해 줄 수 있다.\n",
    "train[['num', '비전기냉방설비운영','태양광보유']]\n",
    "ice={}\n",
    "hot={}\n",
    "count=0\n",
    "# 60개의 건물로 60개로 나누어준다.\n",
    "for i in range(0, len(train), len(train)//60):\n",
    "    count +=1\n",
    "    ice[count]=train.loc[i,'비전기냉방설비운영']\n",
    "    hot[count]=train.loc[i,'태양광보유']\n",
    "\n",
    "for i in range(len(test)):\n",
    "    test.loc[i, '비전기냉방설비운영']=ice[test['num'][i]]\n",
    "    test.loc[i, '태양광보유']=hot[test['num'][i]]"
   ]
  },
  {
   "cell_type": "code",
   "execution_count": 119,
   "metadata": {
    "executionInfo": {
     "elapsed": 10446,
     "status": "ok",
     "timestamp": 1621102962113,
     "user": {
      "displayName": "Hyun Seok Lee",
      "photoUrl": "",
      "userId": "16888525911363350003"
     },
     "user_tz": -540
    },
    "id": "xhvPhipnJxnu"
   },
   "outputs": [],
   "source": [
    "# 시간, 요일, 주말여부(new!) 추가\n",
    "def time(x):\n",
    "    return int(x[-2:])\n",
    "train['time']=train['date_time'].apply(lambda x: time(x))\n",
    "test['time']=test['date_time'].apply(lambda x: time(x))\n",
    "\n",
    "# 평일=0~4, 주말=5~6\n",
    "def weekday(x):\n",
    "    return pd.to_datetime(x[:10]).weekday()\n",
    "train['weekday']=train['date_time'].apply(lambda x :weekday(x))\n",
    "test['weekday']=test['date_time'].apply(lambda x :weekday(x))\n",
    "\n",
    "# 평일=0, 주말=1\n",
    "train['weekend']=train['weekday'].apply(lambda x: 0 if x < 4 else 1)\n",
    "test['weekend']=test['weekday'].apply(lambda x: 0 if x < 4 else 1)"
   ]
  },
  {
   "cell_type": "code",
   "execution_count": 120,
   "metadata": {
    "colab": {
     "base_uri": "https://localhost:8080/",
     "height": 142
    },
    "executionInfo": {
     "elapsed": 546,
     "status": "ok",
     "timestamp": 1621102965658,
     "user": {
      "displayName": "Hyun Seok Lee",
      "photoUrl": "",
      "userId": "16888525911363350003"
     },
     "user_tz": -540
    },
    "id": "LUxGCsTgKdjN",
    "outputId": "e3b8ce8b-5910-4fb4-e4a7-a0f41023fefc"
   },
   "outputs": [
    {
     "data": {
      "text/html": [
       "<div>\n",
       "<style scoped>\n",
       "    .dataframe tbody tr th:only-of-type {\n",
       "        vertical-align: middle;\n",
       "    }\n",
       "\n",
       "    .dataframe tbody tr th {\n",
       "        vertical-align: top;\n",
       "    }\n",
       "\n",
       "    .dataframe thead th {\n",
       "        text-align: right;\n",
       "    }\n",
       "</style>\n",
       "<table border=\"1\" class=\"dataframe\">\n",
       "  <thead>\n",
       "    <tr style=\"text-align: right;\">\n",
       "      <th></th>\n",
       "      <th>num</th>\n",
       "      <th>date_time</th>\n",
       "      <th>기온(°C)</th>\n",
       "      <th>풍속(m/s)</th>\n",
       "      <th>습도(%)</th>\n",
       "      <th>강수량(mm, 6시간)</th>\n",
       "      <th>일조(hr, 3시간)</th>\n",
       "      <th>비전기냉방설비운영</th>\n",
       "      <th>태양광보유</th>\n",
       "      <th>time</th>\n",
       "      <th>weekday</th>\n",
       "      <th>weekend</th>\n",
       "    </tr>\n",
       "  </thead>\n",
       "  <tbody>\n",
       "    <tr>\n",
       "      <th>0</th>\n",
       "      <td>1</td>\n",
       "      <td>2020-08-25 00</td>\n",
       "      <td>27.800000</td>\n",
       "      <td>1.500000</td>\n",
       "      <td>74.000000</td>\n",
       "      <td>0.0</td>\n",
       "      <td>0.0</td>\n",
       "      <td>0.0</td>\n",
       "      <td>0.0</td>\n",
       "      <td>0</td>\n",
       "      <td>1</td>\n",
       "      <td>0</td>\n",
       "    </tr>\n",
       "    <tr>\n",
       "      <th>1</th>\n",
       "      <td>1</td>\n",
       "      <td>2020-08-25 01</td>\n",
       "      <td>27.633333</td>\n",
       "      <td>1.366667</td>\n",
       "      <td>75.333333</td>\n",
       "      <td>0.0</td>\n",
       "      <td>0.0</td>\n",
       "      <td>0.0</td>\n",
       "      <td>0.0</td>\n",
       "      <td>1</td>\n",
       "      <td>1</td>\n",
       "      <td>0</td>\n",
       "    </tr>\n",
       "    <tr>\n",
       "      <th>2</th>\n",
       "      <td>1</td>\n",
       "      <td>2020-08-25 02</td>\n",
       "      <td>27.466667</td>\n",
       "      <td>1.233333</td>\n",
       "      <td>76.666667</td>\n",
       "      <td>0.0</td>\n",
       "      <td>0.0</td>\n",
       "      <td>0.0</td>\n",
       "      <td>0.0</td>\n",
       "      <td>2</td>\n",
       "      <td>1</td>\n",
       "      <td>0</td>\n",
       "    </tr>\n",
       "  </tbody>\n",
       "</table>\n",
       "</div>"
      ],
      "text/plain": [
       "   num      date_time     기온(°C)   풍속(m/s)      습도(%)  강수량(mm, 6시간)  \\\n",
       "0    1  2020-08-25 00  27.800000  1.500000  74.000000           0.0   \n",
       "1    1  2020-08-25 01  27.633333  1.366667  75.333333           0.0   \n",
       "2    1  2020-08-25 02  27.466667  1.233333  76.666667           0.0   \n",
       "\n",
       "   일조(hr, 3시간)  비전기냉방설비운영  태양광보유  time  weekday  weekend  \n",
       "0          0.0        0.0    0.0     0        1        0  \n",
       "1          0.0        0.0    0.0     1        1        0  \n",
       "2          0.0        0.0    0.0     2        1        0  "
      ]
     },
     "execution_count": 120,
     "metadata": {},
     "output_type": "execute_result"
    }
   ],
   "source": [
    "# 기온, 풍속, 습도 등, 기타 결측치를 적당히 1/3, 2/3 수치로 보간해줍니다.\n",
    "test = test.interpolate(method='values')  \n",
    "test.head(3)"
   ]
  },
  {
   "cell_type": "code",
   "execution_count": 10,
   "metadata": {
    "colab": {
     "base_uri": "https://localhost:8080/",
     "height": 142
    },
    "executionInfo": {
     "elapsed": 638,
     "status": "ok",
     "timestamp": 1621102967925,
     "user": {
      "displayName": "Hyun Seok Lee",
      "photoUrl": "",
      "userId": "16888525911363350003"
     },
     "user_tz": -540
    },
    "id": "mg7mMuaJLem5",
    "outputId": "080127c3-9bd4-4f76-ac72-4e6cfbf6b2ce",
    "scrolled": true
   },
   "outputs": [
    {
     "data": {
      "text/html": [
       "<div>\n",
       "<style scoped>\n",
       "    .dataframe tbody tr th:only-of-type {\n",
       "        vertical-align: middle;\n",
       "    }\n",
       "\n",
       "    .dataframe tbody tr th {\n",
       "        vertical-align: top;\n",
       "    }\n",
       "\n",
       "    .dataframe thead th {\n",
       "        text-align: right;\n",
       "    }\n",
       "</style>\n",
       "<table border=\"1\" class=\"dataframe\">\n",
       "  <thead>\n",
       "    <tr style=\"text-align: right;\">\n",
       "      <th></th>\n",
       "      <th>num</th>\n",
       "      <th>date_time</th>\n",
       "      <th>전력사용량(kWh)</th>\n",
       "      <th>기온(°C)</th>\n",
       "      <th>풍속(m/s)</th>\n",
       "      <th>습도(%)</th>\n",
       "      <th>강수량(mm)</th>\n",
       "      <th>일조(hr)</th>\n",
       "      <th>비전기냉방설비운영</th>\n",
       "      <th>태양광보유</th>\n",
       "      <th>time</th>\n",
       "      <th>weekday</th>\n",
       "      <th>weekend</th>\n",
       "    </tr>\n",
       "  </thead>\n",
       "  <tbody>\n",
       "    <tr>\n",
       "      <th>0</th>\n",
       "      <td>1</td>\n",
       "      <td>2020-06-01 00</td>\n",
       "      <td>8179.056</td>\n",
       "      <td>17.6</td>\n",
       "      <td>2.5</td>\n",
       "      <td>92.0</td>\n",
       "      <td>0.8</td>\n",
       "      <td>0.0</td>\n",
       "      <td>0.0</td>\n",
       "      <td>0.0</td>\n",
       "      <td>0</td>\n",
       "      <td>0</td>\n",
       "      <td>0</td>\n",
       "    </tr>\n",
       "    <tr>\n",
       "      <th>1</th>\n",
       "      <td>1</td>\n",
       "      <td>2020-06-01 01</td>\n",
       "      <td>8135.640</td>\n",
       "      <td>17.7</td>\n",
       "      <td>2.9</td>\n",
       "      <td>91.0</td>\n",
       "      <td>0.3</td>\n",
       "      <td>0.0</td>\n",
       "      <td>0.0</td>\n",
       "      <td>0.0</td>\n",
       "      <td>1</td>\n",
       "      <td>0</td>\n",
       "      <td>0</td>\n",
       "    </tr>\n",
       "    <tr>\n",
       "      <th>2</th>\n",
       "      <td>1</td>\n",
       "      <td>2020-06-01 02</td>\n",
       "      <td>8107.128</td>\n",
       "      <td>17.5</td>\n",
       "      <td>3.2</td>\n",
       "      <td>91.0</td>\n",
       "      <td>0.0</td>\n",
       "      <td>0.0</td>\n",
       "      <td>0.0</td>\n",
       "      <td>0.0</td>\n",
       "      <td>2</td>\n",
       "      <td>0</td>\n",
       "      <td>0</td>\n",
       "    </tr>\n",
       "  </tbody>\n",
       "</table>\n",
       "</div>"
      ],
      "text/plain": [
       "   num      date_time  전력사용량(kWh)  기온(°C)  풍속(m/s)  습도(%)  강수량(mm)  일조(hr)  \\\n",
       "0    1  2020-06-01 00    8179.056    17.6      2.5   92.0      0.8     0.0   \n",
       "1    1  2020-06-01 01    8135.640    17.7      2.9   91.0      0.3     0.0   \n",
       "2    1  2020-06-01 02    8107.128    17.5      3.2   91.0      0.0     0.0   \n",
       "\n",
       "   비전기냉방설비운영  태양광보유  time  weekday  weekend  \n",
       "0        0.0    0.0     0        0        0  \n",
       "1        0.0    0.0     1        0        0  \n",
       "2        0.0    0.0     2        0        0  "
      ]
     },
     "execution_count": 10,
     "metadata": {},
     "output_type": "execute_result"
    }
   ],
   "source": [
    "train.head(3)"
   ]
  },
  {
   "cell_type": "markdown",
   "metadata": {
    "id": "dUCxZvljLWf6"
   },
   "source": [
    "# 모델링"
   ]
  },
  {
   "cell_type": "code",
   "execution_count": 121,
   "metadata": {
    "executionInfo": {
     "elapsed": 529,
     "status": "ok",
     "timestamp": 1621102971929,
     "user": {
      "displayName": "Hyun Seok Lee",
      "photoUrl": "",
      "userId": "16888525911363350003"
     },
     "user_tz": -540
    },
    "id": "wQu_CymEK1im"
   },
   "outputs": [],
   "source": [
    "# 학습용set 생성\n",
    "train.drop('date_time', axis=1, inplace=True)  # 학습에 불필요한 날짜 제거\n",
    "train_x=train.drop('전력사용량(kWh)', axis=1)  # 문제\n",
    "train_y=train[['전력사용량(kWh)']]  # 정답\n",
    "\n",
    "# X_train, X_valid, y_train, y_valid = train_test_split(train_x, train_y, test_size=0.2, random_state=156)"
   ]
  },
  {
   "cell_type": "code",
   "execution_count": 122,
   "metadata": {},
   "outputs": [],
   "source": [
    "df_x_53 = train_x[train_x.num == 53]\n",
    "df_y_53 = train_y[train_x.num == 53]\n",
    "x_train_53 = df_x_53.iloc[:-72,]\n",
    "x_test_53 = df_x_53.iloc[-72:,]\n",
    "y_train_53 = df_y_53.iloc[:-72,]\n",
    "y_test_53 = df_y_53.iloc[-72:,]\n",
    "\n",
    "#X_train, X_valid, y_train, y_valid = train_test_split(x_train_53, y_train_53, test_size=0.2, random_state=156)"
   ]
  },
  {
   "cell_type": "code",
   "execution_count": 13,
   "metadata": {
    "colab": {
     "base_uri": "https://localhost:8080/",
     "height": 80
    },
    "executionInfo": {
     "elapsed": 369,
     "status": "ok",
     "timestamp": 1621102972744,
     "user": {
      "displayName": "Hyun Seok Lee",
      "photoUrl": "",
      "userId": "16888525911363350003"
     },
     "user_tz": -540
    },
    "id": "lJrfeIyvQ0jS",
    "outputId": "5a699eb9-47df-4cf1-9a1c-ba2c00a72585",
    "scrolled": true
   },
   "outputs": [
    {
     "data": {
      "text/html": [
       "<div>\n",
       "<style scoped>\n",
       "    .dataframe tbody tr th:only-of-type {\n",
       "        vertical-align: middle;\n",
       "    }\n",
       "\n",
       "    .dataframe tbody tr th {\n",
       "        vertical-align: top;\n",
       "    }\n",
       "\n",
       "    .dataframe thead th {\n",
       "        text-align: right;\n",
       "    }\n",
       "</style>\n",
       "<table border=\"1\" class=\"dataframe\">\n",
       "  <thead>\n",
       "    <tr style=\"text-align: right;\">\n",
       "      <th></th>\n",
       "      <th>num</th>\n",
       "      <th>기온(°C)</th>\n",
       "      <th>풍속(m/s)</th>\n",
       "      <th>습도(%)</th>\n",
       "      <th>강수량(mm)</th>\n",
       "      <th>일조(hr)</th>\n",
       "      <th>비전기냉방설비운영</th>\n",
       "      <th>태양광보유</th>\n",
       "      <th>time</th>\n",
       "      <th>weekday</th>\n",
       "      <th>weekend</th>\n",
       "    </tr>\n",
       "  </thead>\n",
       "  <tbody>\n",
       "    <tr>\n",
       "      <th>106080</th>\n",
       "      <td>53</td>\n",
       "      <td>19.9</td>\n",
       "      <td>1.4</td>\n",
       "      <td>83.0</td>\n",
       "      <td>0.0</td>\n",
       "      <td>0.0</td>\n",
       "      <td>1.0</td>\n",
       "      <td>0.0</td>\n",
       "      <td>0</td>\n",
       "      <td>0</td>\n",
       "      <td>0</td>\n",
       "    </tr>\n",
       "    <tr>\n",
       "      <th>106081</th>\n",
       "      <td>53</td>\n",
       "      <td>19.3</td>\n",
       "      <td>0.9</td>\n",
       "      <td>89.0</td>\n",
       "      <td>0.0</td>\n",
       "      <td>0.0</td>\n",
       "      <td>1.0</td>\n",
       "      <td>0.0</td>\n",
       "      <td>1</td>\n",
       "      <td>0</td>\n",
       "      <td>0</td>\n",
       "    </tr>\n",
       "    <tr>\n",
       "      <th>106082</th>\n",
       "      <td>53</td>\n",
       "      <td>18.5</td>\n",
       "      <td>0.7</td>\n",
       "      <td>94.0</td>\n",
       "      <td>0.2</td>\n",
       "      <td>0.0</td>\n",
       "      <td>1.0</td>\n",
       "      <td>0.0</td>\n",
       "      <td>2</td>\n",
       "      <td>0</td>\n",
       "      <td>0</td>\n",
       "    </tr>\n",
       "    <tr>\n",
       "      <th>106083</th>\n",
       "      <td>53</td>\n",
       "      <td>18.5</td>\n",
       "      <td>0.3</td>\n",
       "      <td>96.0</td>\n",
       "      <td>0.4</td>\n",
       "      <td>0.0</td>\n",
       "      <td>1.0</td>\n",
       "      <td>0.0</td>\n",
       "      <td>3</td>\n",
       "      <td>0</td>\n",
       "      <td>0</td>\n",
       "    </tr>\n",
       "    <tr>\n",
       "      <th>106084</th>\n",
       "      <td>53</td>\n",
       "      <td>18.6</td>\n",
       "      <td>1.5</td>\n",
       "      <td>95.0</td>\n",
       "      <td>0.0</td>\n",
       "      <td>0.0</td>\n",
       "      <td>1.0</td>\n",
       "      <td>0.0</td>\n",
       "      <td>4</td>\n",
       "      <td>0</td>\n",
       "      <td>0</td>\n",
       "    </tr>\n",
       "    <tr>\n",
       "      <th>...</th>\n",
       "      <td>...</td>\n",
       "      <td>...</td>\n",
       "      <td>...</td>\n",
       "      <td>...</td>\n",
       "      <td>...</td>\n",
       "      <td>...</td>\n",
       "      <td>...</td>\n",
       "      <td>...</td>\n",
       "      <td>...</td>\n",
       "      <td>...</td>\n",
       "      <td>...</td>\n",
       "    </tr>\n",
       "    <tr>\n",
       "      <th>108115</th>\n",
       "      <td>53</td>\n",
       "      <td>31.1</td>\n",
       "      <td>1.1</td>\n",
       "      <td>67.0</td>\n",
       "      <td>0.0</td>\n",
       "      <td>0.6</td>\n",
       "      <td>1.0</td>\n",
       "      <td>0.0</td>\n",
       "      <td>19</td>\n",
       "      <td>0</td>\n",
       "      <td>0</td>\n",
       "    </tr>\n",
       "    <tr>\n",
       "      <th>108116</th>\n",
       "      <td>53</td>\n",
       "      <td>29.3</td>\n",
       "      <td>0.7</td>\n",
       "      <td>80.0</td>\n",
       "      <td>0.0</td>\n",
       "      <td>0.0</td>\n",
       "      <td>1.0</td>\n",
       "      <td>0.0</td>\n",
       "      <td>20</td>\n",
       "      <td>0</td>\n",
       "      <td>0</td>\n",
       "    </tr>\n",
       "    <tr>\n",
       "      <th>108117</th>\n",
       "      <td>53</td>\n",
       "      <td>28.6</td>\n",
       "      <td>0.9</td>\n",
       "      <td>84.0</td>\n",
       "      <td>0.0</td>\n",
       "      <td>0.0</td>\n",
       "      <td>1.0</td>\n",
       "      <td>0.0</td>\n",
       "      <td>21</td>\n",
       "      <td>0</td>\n",
       "      <td>0</td>\n",
       "    </tr>\n",
       "    <tr>\n",
       "      <th>108118</th>\n",
       "      <td>53</td>\n",
       "      <td>28.3</td>\n",
       "      <td>1.3</td>\n",
       "      <td>88.0</td>\n",
       "      <td>0.0</td>\n",
       "      <td>0.0</td>\n",
       "      <td>1.0</td>\n",
       "      <td>0.0</td>\n",
       "      <td>22</td>\n",
       "      <td>0</td>\n",
       "      <td>0</td>\n",
       "    </tr>\n",
       "    <tr>\n",
       "      <th>108119</th>\n",
       "      <td>53</td>\n",
       "      <td>27.8</td>\n",
       "      <td>0.7</td>\n",
       "      <td>88.0</td>\n",
       "      <td>0.0</td>\n",
       "      <td>0.0</td>\n",
       "      <td>1.0</td>\n",
       "      <td>0.0</td>\n",
       "      <td>23</td>\n",
       "      <td>0</td>\n",
       "      <td>0</td>\n",
       "    </tr>\n",
       "  </tbody>\n",
       "</table>\n",
       "<p>2040 rows × 11 columns</p>\n",
       "</div>"
      ],
      "text/plain": [
       "        num  기온(°C)  풍속(m/s)  습도(%)  강수량(mm)  일조(hr)  비전기냉방설비운영  태양광보유  time  \\\n",
       "106080   53    19.9      1.4   83.0      0.0     0.0        1.0    0.0     0   \n",
       "106081   53    19.3      0.9   89.0      0.0     0.0        1.0    0.0     1   \n",
       "106082   53    18.5      0.7   94.0      0.2     0.0        1.0    0.0     2   \n",
       "106083   53    18.5      0.3   96.0      0.4     0.0        1.0    0.0     3   \n",
       "106084   53    18.6      1.5   95.0      0.0     0.0        1.0    0.0     4   \n",
       "...     ...     ...      ...    ...      ...     ...        ...    ...   ...   \n",
       "108115   53    31.1      1.1   67.0      0.0     0.6        1.0    0.0    19   \n",
       "108116   53    29.3      0.7   80.0      0.0     0.0        1.0    0.0    20   \n",
       "108117   53    28.6      0.9   84.0      0.0     0.0        1.0    0.0    21   \n",
       "108118   53    28.3      1.3   88.0      0.0     0.0        1.0    0.0    22   \n",
       "108119   53    27.8      0.7   88.0      0.0     0.0        1.0    0.0    23   \n",
       "\n",
       "        weekday  weekend  \n",
       "106080        0        0  \n",
       "106081        0        0  \n",
       "106082        0        0  \n",
       "106083        0        0  \n",
       "106084        0        0  \n",
       "...         ...      ...  \n",
       "108115        0        0  \n",
       "108116        0        0  \n",
       "108117        0        0  \n",
       "108118        0        0  \n",
       "108119        0        0  \n",
       "\n",
       "[2040 rows x 11 columns]"
      ]
     },
     "execution_count": 13,
     "metadata": {},
     "output_type": "execute_result"
    }
   ],
   "source": [
    "df_x_53"
   ]
  },
  {
   "cell_type": "code",
   "execution_count": 14,
   "metadata": {
    "colab": {
     "base_uri": "https://localhost:8080/",
     "height": 80
    },
    "executionInfo": {
     "elapsed": 535,
     "status": "ok",
     "timestamp": 1621102974470,
     "user": {
      "displayName": "Hyun Seok Lee",
      "photoUrl": "",
      "userId": "16888525911363350003"
     },
     "user_tz": -540
    },
    "id": "HTDmfgI2Q4CY",
    "outputId": "835f8591-108b-4601-8bbd-05eae6e6ebd1",
    "scrolled": true
   },
   "outputs": [
    {
     "data": {
      "text/html": [
       "<div>\n",
       "<style scoped>\n",
       "    .dataframe tbody tr th:only-of-type {\n",
       "        vertical-align: middle;\n",
       "    }\n",
       "\n",
       "    .dataframe tbody tr th {\n",
       "        vertical-align: top;\n",
       "    }\n",
       "\n",
       "    .dataframe thead th {\n",
       "        text-align: right;\n",
       "    }\n",
       "</style>\n",
       "<table border=\"1\" class=\"dataframe\">\n",
       "  <thead>\n",
       "    <tr style=\"text-align: right;\">\n",
       "      <th></th>\n",
       "      <th>전력사용량(kWh)</th>\n",
       "    </tr>\n",
       "  </thead>\n",
       "  <tbody>\n",
       "    <tr>\n",
       "      <th>106080</th>\n",
       "      <td>958.554</td>\n",
       "    </tr>\n",
       "    <tr>\n",
       "      <th>106081</th>\n",
       "      <td>924.210</td>\n",
       "    </tr>\n",
       "    <tr>\n",
       "      <th>106082</th>\n",
       "      <td>920.484</td>\n",
       "    </tr>\n",
       "    <tr>\n",
       "      <th>106083</th>\n",
       "      <td>921.618</td>\n",
       "    </tr>\n",
       "    <tr>\n",
       "      <th>106084</th>\n",
       "      <td>916.110</td>\n",
       "    </tr>\n",
       "    <tr>\n",
       "      <th>...</th>\n",
       "      <td>...</td>\n",
       "    </tr>\n",
       "    <tr>\n",
       "      <th>108115</th>\n",
       "      <td>1498.014</td>\n",
       "    </tr>\n",
       "    <tr>\n",
       "      <th>108116</th>\n",
       "      <td>1445.202</td>\n",
       "    </tr>\n",
       "    <tr>\n",
       "      <th>108117</th>\n",
       "      <td>1359.504</td>\n",
       "    </tr>\n",
       "    <tr>\n",
       "      <th>108118</th>\n",
       "      <td>1347.840</td>\n",
       "    </tr>\n",
       "    <tr>\n",
       "      <th>108119</th>\n",
       "      <td>1373.274</td>\n",
       "    </tr>\n",
       "  </tbody>\n",
       "</table>\n",
       "<p>2040 rows × 1 columns</p>\n",
       "</div>"
      ],
      "text/plain": [
       "        전력사용량(kWh)\n",
       "106080     958.554\n",
       "106081     924.210\n",
       "106082     920.484\n",
       "106083     921.618\n",
       "106084     916.110\n",
       "...            ...\n",
       "108115    1498.014\n",
       "108116    1445.202\n",
       "108117    1359.504\n",
       "108118    1347.840\n",
       "108119    1373.274\n",
       "\n",
       "[2040 rows x 1 columns]"
      ]
     },
     "execution_count": 14,
     "metadata": {},
     "output_type": "execute_result"
    }
   ],
   "source": [
    "df_y_53"
   ]
  },
  {
   "cell_type": "code",
   "execution_count": 15,
   "metadata": {},
   "outputs": [
    {
     "name": "stdout",
     "output_type": "stream",
     "text": [
      "<class 'pandas.core.frame.DataFrame'>\n",
      "Int64Index: 1968 entries, 106080 to 108047\n",
      "Data columns (total 11 columns):\n",
      " #   Column     Non-Null Count  Dtype  \n",
      "---  ------     --------------  -----  \n",
      " 0   num        1968 non-null   int64  \n",
      " 1   기온(°C)     1968 non-null   float64\n",
      " 2   풍속(m/s)    1968 non-null   float64\n",
      " 3   습도(%)      1968 non-null   float64\n",
      " 4   강수량(mm)    1968 non-null   float64\n",
      " 5   일조(hr)     1968 non-null   float64\n",
      " 6   비전기냉방설비운영  1968 non-null   float64\n",
      " 7   태양광보유      1968 non-null   float64\n",
      " 8   time       1968 non-null   int64  \n",
      " 9   weekday    1968 non-null   int64  \n",
      " 10  weekend    1968 non-null   int64  \n",
      "dtypes: float64(7), int64(4)\n",
      "memory usage: 184.5 KB\n"
     ]
    }
   ],
   "source": [
    "x_train_53.info()"
   ]
  },
  {
   "cell_type": "code",
   "execution_count": 124,
   "metadata": {},
   "outputs": [],
   "source": [
    "import os\n",
    "import glob\n",
    "def smape(true, pred):\n",
    "\n",
    "    v = 2 * abs(pred - true) / (abs(pred) + abs(true))\n",
    "\n",
    "    output = np.mean(v) * 100\n",
    "    eval_name = 'smape'\n",
    "    is_higher_better = False\n",
    "    \n",
    "    return (eval_name, output, is_higher_better)"
   ]
  },
  {
   "cell_type": "code",
   "execution_count": 50,
   "metadata": {
    "executionInfo": {
     "elapsed": 877,
     "status": "ok",
     "timestamp": 1621102985795,
     "user": {
      "displayName": "Hyun Seok Lee",
      "photoUrl": "",
      "userId": "16888525911363350003"
     },
     "user_tz": -540
    },
    "id": "IjvSL0_nc2Gu"
   },
   "outputs": [],
   "source": [
    "# 파라미터 설정, 모델생성 함수\n",
    "# def get_best_params(model, params):\n",
    "#     grid_model = GridSearchCV(\n",
    "#         model,\n",
    "#         param_grid = params,  # 파라미터\n",
    "#         cv=5,  # Kfold : 5\n",
    "#         scoring= smape)  #loss function\n",
    "    \n",
    "#     grid_model.fit(x_train_53, y_train_53, eval_set=(x_test_53, y_test_53))\n",
    "#     scr = grid_model.best_score_\n",
    "#     print(f'{model.__class__.__name__} 최적 score 값 {scr}')\n",
    "#     return grid_model.best_estimator_\n",
    "#     grid_model.fit(X_train, y_train, eval_set=[(X_train, y_train), (X_valid, y_valid)], verbose=100)\n",
    "#     scr = grid_model.best_score_\n",
    "#     print(f'{model.__class__.__name__} 최적 score 값 {scr}')\n",
    "#     return grid_model.best_estimator_"
   ]
  },
  {
   "cell_type": "code",
   "execution_count": 51,
   "metadata": {
    "executionInfo": {
     "elapsed": 733,
     "status": "ok",
     "timestamp": 1621102986142,
     "user": {
      "displayName": "Hyun Seok Lee",
      "photoUrl": "",
      "userId": "16888525911363350003"
     },
     "user_tz": -540
    },
    "id": "W-aJXVOadvWH"
   },
   "outputs": [],
   "source": [
    "# 파라미터 후보군 설정\n",
    "# 어떤 파라미터로 하는게 좋을지 고민된다면 고민하는 것들을 리스트 안에 다 넣어보세요 알아서 골라줄겁니다.\n",
    "# 저는 예시로 learning_rate만 0.1 or 0.01 중 더 좋은걸 골라달라고 했습니다.\n",
    "# params = {}\n",
    "# params['boosting_type'] = ['gbdt']\n",
    "# params['objective'] = ['regression']\n",
    "# params['n_estimators'] = [100]\n",
    "# params['learning_rate'] = [0.1, 0.01]  \n",
    "# params['subsample'] = [1]"
   ]
  },
  {
   "cell_type": "code",
   "execution_count": 125,
   "metadata": {
    "executionInfo": {
     "elapsed": 550,
     "status": "ok",
     "timestamp": 1621103009411,
     "user": {
      "displayName": "Hyun Seok Lee",
      "photoUrl": "",
      "userId": "16888525911363350003"
     },
     "user_tz": -540
    },
    "id": "tsDAYQZc4mOD"
   },
   "outputs": [
    {
     "name": "stdout",
     "output_type": "stream",
     "text": [
      "Training until validation scores don't improve for 30 rounds\n",
      "Early stopping, best iteration is:\n",
      "[28]\tvalid_0's l2: 51352\tvalid_0's mape: 0.0625141\tvalid_0's rmse: 226.61\tvalid_0's smape: 6.79792\n"
     ]
    },
    {
     "data": {
      "text/plain": [
       "LGBMRegressor(n_estimators=200, objective='rmse', random_state=156)"
      ]
     },
     "execution_count": 125,
     "metadata": {},
     "output_type": "execute_result"
    }
   ],
   "source": [
    "# 모델정의\n",
    "model=LGBMRegressor(n_estimators=200, objective='rmse', random_state=156)\n",
    "model.fit(x_train_53, y_train_53, eval_set=(x_test_53, y_test_53), \n",
    "            early_stopping_rounds=30, verbose=100, eval_metric = ['mse', 'rmse', 'mape', smape])"
   ]
  },
  {
   "cell_type": "code",
   "execution_count": 53,
   "metadata": {
    "colab": {
     "base_uri": "https://localhost:8080/"
    },
    "executionInfo": {
     "elapsed": 40435,
     "status": "ok",
     "timestamp": 1621103051334,
     "user": {
      "displayName": "Hyun Seok Lee",
      "photoUrl": "",
      "userId": "16888525911363350003"
     },
     "user_tz": -540
    },
    "id": "2me1q7VXZWDJ",
    "outputId": "ab687614-dd5b-43d1-d4e3-13e6331abe09"
   },
   "outputs": [],
   "source": [
    "# # 학습진행\n",
    "# best_lgbm = get_best_params(model, params)\n",
    "# best_lgbm  # learning_rate 0.1 or 0.01 중, 0.01이 더 좋았다고 하는군요. "
   ]
  },
  {
   "cell_type": "code",
   "execution_count": 126,
   "metadata": {
    "colab": {
     "base_uri": "https://localhost:8080/"
    },
    "executionInfo": {
     "elapsed": 851,
     "status": "ok",
     "timestamp": 1621103071678,
     "user": {
      "displayName": "Hyun Seok Lee",
      "photoUrl": "",
      "userId": "16888525911363350003"
     },
     "user_tz": -540
    },
    "id": "AxLOdu3myPTT",
    "outputId": "bb8505c4-d47a-4247-899a-8a25a26a3b99"
   },
   "outputs": [
    {
     "name": "stdout",
     "output_type": "stream",
     "text": [
      "MSE: 51352.02262658086\n",
      "R2 : 0.7425572921357801\n"
     ]
    }
   ],
   "source": [
    "# 기타 지표로 에러 측정\n",
    "from sklearn.metrics import mean_squared_error, r2_score\n",
    "y_pred = model.predict(x_test_53)\n",
    "\n",
    "mse_score = mean_squared_error(y_test_53, y_pred)\n",
    "r2_score = r2_score(y_test_53, y_pred)\n",
    "print('MSE:', mse_score)\n",
    "print('R2 :', r2_score)"
   ]
  },
  {
   "cell_type": "code",
   "execution_count": null,
   "metadata": {},
   "outputs": [],
   "source": [
    "lgbm_re = LGBMRegressor(n_estimators=200)\n",
    "\n",
    "params = {'boosting_type' : ['gbdt'],\n",
    "          'objective' : ['regression'],\n",
    "         'n_estimators' : [150, 200, 250, 300, 400],\n",
    "         'learning_rate' : [0.5, 0.1, 0.05, 0.01],\n",
    "          'subsample' : [0.5, 0.8, 1],\n",
    "          'num_leaves' : [10, 20, 30]\n",
    "          #'min_child_samples' : [1, 5, 10, 15, 20],\n",
    "          #'max_depth' : [0.1, 0.5, 0.01, -1]\n",
    "         }\n",
    "\n",
    "gridcv = GridSearchCV(lgbm_re, param_grid=params, cv=5)\n",
    "gridcv.fit(x_train_53, y_train_53, early_stopping_rounds=30, eval_set=(x_test_53, y_test_53), eval_metric=smape)\n",
    "\n",
    "print('GridSearchCV 최적 파라미터:', gridcv.best_params_)\n",
    "\n",
    "scr = gridcv.best_score_\n",
    "print('최적 score 값', scr)\n",
    "\n",
    "\n",
    "# params['boosting_type'] = ['gbdt']\n",
    "# params['objective'] = ['regression']\n",
    "# params['n_estimators'] = [100]\n",
    "# params['learning_rate'] = [0.1, 0.01]  \n",
    "# params['subsample'] = [1]"
   ]
  },
  {
   "cell_type": "code",
   "execution_count": 140,
   "metadata": {},
   "outputs": [
    {
     "name": "stdout",
     "output_type": "stream",
     "text": [
      "Training until validation scores don't improve for 30 rounds\n",
      "Early stopping, best iteration is:\n",
      "[23]\tvalid_0's l2: 46665.1\tvalid_0's rmse: 216.021\tvalid_0's mape: 0.0656831\tvalid_0's smape: 7.03486\n"
     ]
    },
    {
     "data": {
      "text/plain": [
       "LGBMRegressor(n_estimators=150, num_leaves=10, objective='regression',\n",
       "              random_state=156, subsample=0.5)"
      ]
     },
     "execution_count": 140,
     "metadata": {},
     "output_type": "execute_result"
    }
   ],
   "source": [
    "model=LGBMRegressor(n_estimators=150, learning_rate=0.1, boosting_type='gbdt', num_leaves=10, objective='regression', subsample=0.5,\n",
    "                   random_state=156)\n",
    "model.fit(x_train_53, y_train_53, eval_set=(x_test_53, y_test_53), \n",
    "            early_stopping_rounds=30, verbose=100, eval_metric = ['mse', 'rmse', 'mape', smape])"
   ]
  },
  {
   "cell_type": "code",
   "execution_count": 141,
   "metadata": {},
   "outputs": [
    {
     "name": "stdout",
     "output_type": "stream",
     "text": [
      "MSE: 46665.068740854884\n",
      "R2 : 0.7660543627137062\n"
     ]
    }
   ],
   "source": [
    "y_pred = model.predict(x_test_53)\n",
    "from sklearn.metrics import r2_score\n",
    "mse_score = mean_squared_error(y_test_53, y_pred)\n",
    "r2_score = r2_score(y_test_53, y_pred)\n",
    "print('MSE:', mse_score)\n",
    "print('R2 :', r2_score)"
   ]
  },
  {
   "cell_type": "code",
   "execution_count": 246,
   "metadata": {
    "colab": {
     "base_uri": "https://localhost:8080/"
    },
    "executionInfo": {
     "elapsed": 713,
     "status": "ok",
     "timestamp": 1621103078122,
     "user": {
      "displayName": "Hyun Seok Lee",
      "photoUrl": "",
      "userId": "16888525911363350003"
     },
     "user_tz": -540
    },
    "id": "Hab-h7Gv3GrE",
    "outputId": "87e35313-8ebc-4262-d397-bd297bce8174"
   },
   "outputs": [],
   "source": [
    "# # 모델저장, 로드\n",
    "# from sklearn.externals import joblib\n",
    "# joblib.dump(best_lgbm, 'best_lgbm.pkl')\n",
    "# load_lgbm = joblib.load('best_lgbm.pkl')"
   ]
  },
  {
   "cell_type": "markdown",
   "metadata": {
    "id": "WejFc03k5SMt"
   },
   "source": [
    "# 제출용 데이터"
   ]
  },
  {
   "cell_type": "code",
   "execution_count": 19,
   "metadata": {
    "executionInfo": {
     "elapsed": 582,
     "status": "ok",
     "timestamp": 1621103101680,
     "user": {
      "displayName": "Hyun Seok Lee",
      "photoUrl": "",
      "userId": "16888525911363350003"
     },
     "user_tz": -540
    },
    "id": "Bg6FbAk35HW6"
   },
   "outputs": [],
   "source": [
    "# # 모델에 넣기 위해 날짜칼럼 제거\n",
    "# test_x = test.drop('date_time', axis=1)"
   ]
  },
  {
   "cell_type": "code",
   "execution_count": 20,
   "metadata": {
    "executionInfo": {
     "elapsed": 479,
     "status": "ok",
     "timestamp": 1621103103048,
     "user": {
      "displayName": "Hyun Seok Lee",
      "photoUrl": "",
      "userId": "16888525911363350003"
     },
     "user_tz": -540
    },
    "id": "Mrw-CYUg4W1c"
   },
   "outputs": [],
   "source": [
    "# # 모델 예측\n",
    "# submission_y = best_lgbm.predict(test_x)"
   ]
  },
  {
   "cell_type": "code",
   "execution_count": 21,
   "metadata": {
    "colab": {
     "base_uri": "https://localhost:8080/",
     "height": 419
    },
    "executionInfo": {
     "elapsed": 488,
     "status": "ok",
     "timestamp": 1621103107504,
     "user": {
      "displayName": "Hyun Seok Lee",
      "photoUrl": "",
      "userId": "16888525911363350003"
     },
     "user_tz": -540
    },
    "id": "va-j-KBg4h0P",
    "outputId": "8848e54a-778f-4e63-fb65-e9c023f9e08a"
   },
   "outputs": [
    {
     "data": {
      "text/html": [
       "<div>\n",
       "<style scoped>\n",
       "    .dataframe tbody tr th:only-of-type {\n",
       "        vertical-align: middle;\n",
       "    }\n",
       "\n",
       "    .dataframe tbody tr th {\n",
       "        vertical-align: top;\n",
       "    }\n",
       "\n",
       "    .dataframe thead th {\n",
       "        text-align: right;\n",
       "    }\n",
       "</style>\n",
       "<table border=\"1\" class=\"dataframe\">\n",
       "  <thead>\n",
       "    <tr style=\"text-align: right;\">\n",
       "      <th></th>\n",
       "      <th>num_date_time</th>\n",
       "      <th>answer</th>\n",
       "    </tr>\n",
       "  </thead>\n",
       "  <tbody>\n",
       "    <tr>\n",
       "      <th>0</th>\n",
       "      <td>1 2020-08-25 00</td>\n",
       "      <td>6264.865912</td>\n",
       "    </tr>\n",
       "    <tr>\n",
       "      <th>1</th>\n",
       "      <td>1 2020-08-25 01</td>\n",
       "      <td>6264.865912</td>\n",
       "    </tr>\n",
       "    <tr>\n",
       "      <th>2</th>\n",
       "      <td>1 2020-08-25 02</td>\n",
       "      <td>6264.865912</td>\n",
       "    </tr>\n",
       "    <tr>\n",
       "      <th>3</th>\n",
       "      <td>1 2020-08-25 03</td>\n",
       "      <td>6264.865912</td>\n",
       "    </tr>\n",
       "    <tr>\n",
       "      <th>4</th>\n",
       "      <td>1 2020-08-25 04</td>\n",
       "      <td>6264.865912</td>\n",
       "    </tr>\n",
       "    <tr>\n",
       "      <th>...</th>\n",
       "      <td>...</td>\n",
       "      <td>...</td>\n",
       "    </tr>\n",
       "    <tr>\n",
       "      <th>10075</th>\n",
       "      <td>60 2020-08-31 19</td>\n",
       "      <td>2809.636990</td>\n",
       "    </tr>\n",
       "    <tr>\n",
       "      <th>10076</th>\n",
       "      <td>60 2020-08-31 20</td>\n",
       "      <td>2392.383243</td>\n",
       "    </tr>\n",
       "    <tr>\n",
       "      <th>10077</th>\n",
       "      <td>60 2020-08-31 21</td>\n",
       "      <td>2343.381185</td>\n",
       "    </tr>\n",
       "    <tr>\n",
       "      <th>10078</th>\n",
       "      <td>60 2020-08-31 22</td>\n",
       "      <td>2343.381185</td>\n",
       "    </tr>\n",
       "    <tr>\n",
       "      <th>10079</th>\n",
       "      <td>60 2020-08-31 23</td>\n",
       "      <td>2343.381185</td>\n",
       "    </tr>\n",
       "  </tbody>\n",
       "</table>\n",
       "<p>10080 rows × 2 columns</p>\n",
       "</div>"
      ],
      "text/plain": [
       "          num_date_time       answer\n",
       "0       1 2020-08-25 00  6264.865912\n",
       "1       1 2020-08-25 01  6264.865912\n",
       "2       1 2020-08-25 02  6264.865912\n",
       "3       1 2020-08-25 03  6264.865912\n",
       "4       1 2020-08-25 04  6264.865912\n",
       "...                 ...          ...\n",
       "10075  60 2020-08-31 19  2809.636990\n",
       "10076  60 2020-08-31 20  2392.383243\n",
       "10077  60 2020-08-31 21  2343.381185\n",
       "10078  60 2020-08-31 22  2343.381185\n",
       "10079  60 2020-08-31 23  2343.381185\n",
       "\n",
       "[10080 rows x 2 columns]"
      ]
     },
     "execution_count": 21,
     "metadata": {
      "tags": []
     },
     "output_type": "execute_result"
    }
   ],
   "source": [
    "# # submission.csv 생성\n",
    "# test['answer'] = submission_y\n",
    "# test['num_date_time'] = test.apply(lambda x: str(x['num']) +' '+ x['date_time'], axis=1)\n",
    "# submission = test[['num_date_time', 'answer']]\n",
    "# submission.to_csv('submission.csv', index=False)\n",
    "# submission"
   ]
  }
 ],
 "metadata": {
  "accelerator": "GPU",
  "colab": {
   "authorship_tag": "ABX9TyMWRNz0h/BUWdU5HLk4Cyed",
   "collapsed_sections": [],
   "mount_file_id": "1DhIKm3L_WfpKR6ZRbLotjUXn9noUpqfX",
   "name": "LGBM베이스라인.ipynb",
   "provenance": [
    {
     "file_id": "1pJvKGLE0LLACLe8G9aO02SeLl_vJp9n7",
     "timestamp": 1621099472903
    }
   ]
  },
  "kernelspec": {
   "display_name": "py38_tensorflow",
   "language": "python",
   "name": "conda-env-py38_tensorflow-py"
  },
  "language_info": {
   "codemirror_mode": {
    "name": "ipython",
    "version": 3
   },
   "file_extension": ".py",
   "mimetype": "text/x-python",
   "name": "python",
   "nbconvert_exporter": "python",
   "pygments_lexer": "ipython3",
   "version": "3.8.10"
  }
 },
 "nbformat": 4,
 "nbformat_minor": 1
}
