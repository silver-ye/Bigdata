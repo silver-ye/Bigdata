{
 "cells": [
  {
   "cell_type": "markdown",
   "metadata": {},
   "source": [
    "## 데이터 사이언스 스쿨\n",
    "\n",
    "### 3장 넘파이 배열 프로그래밍"
   ]
  },
  {
   "cell_type": "markdown",
   "metadata": {},
   "source": [
    "### 3.1 넘파이 배열"
   ]
  },
  {
   "cell_type": "code",
   "execution_count": 3,
   "metadata": {},
   "outputs": [
    {
     "data": {
      "text/plain": [
       "array([[10, 20, 30, 40],\n",
       "       [50, 60, 70, 80]])"
      ]
     },
     "execution_count": 3,
     "metadata": {},
     "output_type": "execute_result"
    }
   ],
   "source": [
    "# 연습문제 3.1.1\n",
    "\n",
    "import numpy as np\n",
    "\n",
    "c = np.array([[10, 20, 30, 40], [50, 60, 70, 80]])\n",
    "c"
   ]
  },
  {
   "cell_type": "code",
   "execution_count": 11,
   "metadata": {},
   "outputs": [
    {
     "data": {
      "text/plain": [
       "array([[3, 4],\n",
       "       [8, 9]])"
      ]
     },
     "execution_count": 11,
     "metadata": {},
     "output_type": "execute_result"
    }
   ],
   "source": [
    "# 연습문제 3.1.2\n",
    "\n",
    "m = np.array([[ 0,  1,  2,  3,  4],\n",
    "            [ 5,  6,  7,  8,  9],\n",
    "            [10, 11, 12, 13, 14]])\n",
    "\n",
    "m[1,2]\n",
    "m[-1, -1]\n",
    "m[1, 1:3]\n",
    "m[1:,2]\n",
    "m[:2, 3:]\n"
   ]
  },
  {
   "cell_type": "code",
   "execution_count": 17,
   "metadata": {},
   "outputs": [
    {
     "data": {
      "text/plain": [
       "array([9])"
      ]
     },
     "execution_count": 17,
     "metadata": {},
     "output_type": "execute_result"
    }
   ],
   "source": [
    "# 연습문제 3.1.3\n",
    "\n",
    "x = np.array([1, 2, 3, 4, 5, 6, 7, 8, 9, 10,\n",
    "             11, 12, 13, 14, 15, 16, 17, 18, 19, 20])\n",
    "\n",
    "x[x % 3 == 0]\n",
    "x[x % 4 == 1]\n",
    "x[(x % 3 == 0) & (x % 4 == 1)]"
   ]
  },
  {
   "cell_type": "markdown",
   "metadata": {},
   "source": [
    "### 3.2 배열의 생성과 변형"
   ]
  },
  {
   "cell_type": "code",
   "execution_count": 31,
   "metadata": {},
   "outputs": [
    {
     "name": "stdout",
     "output_type": "stream",
     "text": [
      "[[  0.   0.   0.   1.   1.]\n",
      " [  0.   0.   0.   1.   1.]\n",
      " [  0.   0.   0.   1.   1.]\n",
      " [ 10.  20.  30.  40.  50.]\n",
      " [ 60.  70.  80.  90. 100.]\n",
      " [110. 120. 130. 140. 150.]\n",
      " [  0.   0.   0.   1.   1.]\n",
      " [  0.   0.   0.   1.   1.]\n",
      " [  0.   0.   0.   1.   1.]\n",
      " [ 10.  20.  30.  40.  50.]\n",
      " [ 60.  70.  80.  90. 100.]\n",
      " [110. 120. 130. 140. 150.]]\n"
     ]
    }
   ],
   "source": [
    "# 연습문제 3.2.1\n",
    "\n",
    "a1 = np.zeros((3,3))\n",
    "a2 = np.ones((3, 2))\n",
    "hstack = np.hstack([a1,a2])\n",
    "a3 = np.arange(10, 60, 10)\n",
    "a4 = np.arange(60, 110, 10)\n",
    "a5 = np.arange(110, 160, 10)\n",
    "vstack = np.vstack([a3,a4,a5])\n",
    "first_line = np.vstack([hstack, vstack])\n",
    "total = np.vstack([first_line, first_line])\n",
    "print(total)"
   ]
  },
  {
   "cell_type": "markdown",
   "metadata": {},
   "source": [
    "### 3.3 배열의 연산"
   ]
  },
  {
   "cell_type": "code",
   "execution_count": null,
   "metadata": {},
   "outputs": [],
   "source": []
  }
 ],
 "metadata": {
  "kernelspec": {
   "display_name": "Python 3",
   "language": "python",
   "name": "python3"
  },
  "language_info": {
   "codemirror_mode": {
    "name": "ipython",
    "version": 3
   },
   "file_extension": ".py",
   "mimetype": "text/x-python",
   "name": "python",
   "nbconvert_exporter": "python",
   "pygments_lexer": "ipython3",
   "version": "3.8.5"
  }
 },
 "nbformat": 4,
 "nbformat_minor": 4
}
