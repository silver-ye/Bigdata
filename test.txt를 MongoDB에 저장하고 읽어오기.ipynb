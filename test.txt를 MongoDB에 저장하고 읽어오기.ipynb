{
 "cells": [
  {
   "cell_type": "code",
   "execution_count": 1,
   "metadata": {},
   "outputs": [],
   "source": [
    "## 빅데이터 저장 ppt 37p\n",
    "# MongoClient MongodDB에 접속을 해줄 객체 \n",
    "from pymongo import MongoClient"
   ]
  },
  {
   "cell_type": "code",
   "execution_count": 2,
   "metadata": {},
   "outputs": [
    {
     "data": {
      "text/plain": [
       "Database(MongoClient(host=['localhost:27017'], document_class=dict, tz_aware=False, connect=True), 'python_test')"
      ]
     },
     "execution_count": 2,
     "metadata": {},
     "output_type": "execute_result"
    }
   ],
   "source": [
    "# MongoClient() 객체생성\n",
    "# python_test접속할 database 이름\n",
    "# 현재를 만들지않아서 python_test database가 없지만, 업으면 생성하고 있다면 기존 DB에 저장한다.\n",
    "MongoClient().python_test"
   ]
  },
  {
   "cell_type": "code",
   "execution_count": 3,
   "metadata": {},
   "outputs": [],
   "source": [
    "# Mongodb의 python_test database의 접속\n",
    "db = MongoClient().python_test"
   ]
  },
  {
   "cell_type": "code",
   "execution_count": 4,
   "metadata": {},
   "outputs": [
    {
     "data": {
      "text/plain": [
       "Database(MongoClient(host=['localhost:27017'], document_class=dict, tz_aware=False, connect=True), 'python_test')"
      ]
     },
     "execution_count": 4,
     "metadata": {},
     "output_type": "execute_result"
    }
   ],
   "source": [
    "# Mongodb의 python_testDB에 레코드를 추가, 삭제, 조회할 객체를 만들 객체\n",
    "db"
   ]
  },
  {
   "cell_type": "code",
   "execution_count": 5,
   "metadata": {},
   "outputs": [],
   "source": [
    "# GridFS: MongoDB에 파일을 저장할 객체\n",
    "# import한다고 사용하는게 아니라, 객체를 생성해야한다.\n",
    "from gridfs import GridFS"
   ]
  },
  {
   "cell_type": "code",
   "execution_count": 7,
   "metadata": {},
   "outputs": [
    {
     "data": {
      "text/plain": [
       "<gridfs.GridFS at 0x1e20ea1d190>"
      ]
     },
     "execution_count": 7,
     "metadata": {},
     "output_type": "execute_result"
    }
   ],
   "source": [
    "# mongoDB에 파일을 저장할 객체 생성\n",
    "fs = GridFS(db)\n",
    "fs"
   ]
  },
  {
   "cell_type": "code",
   "execution_count": 8,
   "metadata": {
    "scrolled": true
   },
   "outputs": [
    {
     "name": "stdout",
     "output_type": "stream",
     "text": [
      "f =  <_io.BufferedReader name='c:/ai/workspace/mongodb/test.txt'>\n",
      "f.read() = b'\\xeb\\xaa\\xbd\\xea\\xb3\\xa0DB GRIDFS\\xec\\x97\\x90 \\xec\\xa0\\x80\\xec\\x9e\\xa5\\xed\\x95\\xa0 \\xeb\\x82\\xb4\\xec\\x9a\\xa9'\n"
     ]
    }
   ],
   "source": [
    "# with open('읽을 파일 경로', 'rd(r: read, b: 한글을 숫자로 변환)')\n",
    "# f는 파일의 내용을 읽을 객체가 된다.\n",
    "with open('c:/ai/workspace/mongodb/test.txt', 'rb') as f:\n",
    "    print('f = ', f)\n",
    "    # 읽어오니 영어는 그대로 있지만 한글은 숫자로 변환되어서 나온다.\n",
    "    print('f.read() =', f.read())    "
   ]
  },
  {
   "cell_type": "code",
   "execution_count": 10,
   "metadata": {},
   "outputs": [],
   "source": [
    "# fs는 mongodb에 파일을 저장할 객체\n",
    "# put을 통해서 저장\n",
    "# 1)f s.put -> f.read의 파일 내용을 가져와서 mongodb에 저장\n",
    "# 2) 파일 이름 설정\n",
    "with open('c:/ai/workspace/mongodb/test.txt', 'rb') as f:\n",
    "    fs.put(f, filename = 'test.txt') "
   ]
  },
  {
   "cell_type": "code",
   "execution_count": 12,
   "metadata": {},
   "outputs": [
    {
     "data": {
      "text/plain": [
       "<pymongo.cursor.Cursor at 0x1e20ea1d8e0>"
      ]
     },
     "execution_count": 12,
     "metadata": {},
     "output_type": "execute_result"
    }
   ],
   "source": [
    "## 33p로 손으로 직접 저장한 것 1개, 파이썬으로 만든 것 1개를 cmd mongoDB에서 확인 가능\n",
    "# fs.files: 테이블명(MongoDB에 저장한 파일 정보(파일명, 업로드일시, 크기, etc))\n",
    "# find(): 전체 조회\n",
    "db.fs.files.find()"
   ]
  },
  {
   "cell_type": "code",
   "execution_count": 13,
   "metadata": {},
   "outputs": [
    {
     "data": {
      "text/plain": [
       "[{'_id': ObjectId('608f5c6a54d549d2d7aff698'),\n",
       "  'filename': 'test.txt',\n",
       "  'md5': '0b97c2704cfb0e1892bb47a0b62bef96',\n",
       "  'chunkSize': 261120,\n",
       "  'length': 35,\n",
       "  'uploadDate': datetime.datetime(2021, 5, 3, 2, 14, 2, 318000)},\n",
       " {'_id': ObjectId('608f5d3c54d549d2d7aff69a'),\n",
       "  'filename': 'test.txt',\n",
       "  'md5': '0b97c2704cfb0e1892bb47a0b62bef96',\n",
       "  'chunkSize': 261120,\n",
       "  'length': 35,\n",
       "  'uploadDate': datetime.datetime(2021, 5, 3, 2, 17, 32, 750000)}]"
      ]
     },
     "execution_count": 13,
     "metadata": {},
     "output_type": "execute_result"
    }
   ],
   "source": [
    "# 객체가 안보일 때는 list함수에 넣어서 확인할 수 있다.\n",
    "list(db.fs.files.find())"
   ]
  },
  {
   "cell_type": "code",
   "execution_count": 20,
   "metadata": {},
   "outputs": [],
   "source": [
    "# MongoDB는 구글드라이브랑 비슷하게 예전버전과 새로운 버전도 가지고있기에 예전꺼를 다운받을 수도 있다.(버전별로 가지고있음)\n",
    "# 가장 마지막으로 업로드한 파일의 내용을 가져온다.\n",
    "f = fs.get_last_version(filename = 'test.txt')"
   ]
  },
  {
   "cell_type": "code",
   "execution_count": 21,
   "metadata": {},
   "outputs": [
    {
     "data": {
      "text/plain": [
       "'몽고DB GRIDFS에 저장할 내용'"
      ]
     },
     "execution_count": 21,
     "metadata": {},
     "output_type": "execute_result"
    }
   ],
   "source": [
    "# text.txt파일의 가장 마지막 업로드한 내용을 가져온다.\n",
    "# 글시를 숫자로 변경(encoding), 숫자를 글씨로 변경(decoding)\n",
    "# decoding을 해주어서 저장한 내용을 한글로 변환해서 불러온다.\n",
    "# 한번읽으면 다시 안나오기때문에 f를 다시 설정해주고 실행시킨다.\n",
    "f.read().decode('utf-8')"
   ]
  },
  {
   "cell_type": "code",
   "execution_count": null,
   "metadata": {},
   "outputs": [],
   "source": []
  }
 ],
 "metadata": {
  "kernelspec": {
   "display_name": "Python 3",
   "language": "python",
   "name": "python3"
  },
  "language_info": {
   "codemirror_mode": {
    "name": "ipython",
    "version": 3
   },
   "file_extension": ".py",
   "mimetype": "text/x-python",
   "name": "python",
   "nbconvert_exporter": "python",
   "pygments_lexer": "ipython3",
   "version": "3.8.5"
  }
 },
 "nbformat": 4,
 "nbformat_minor": 4
}
