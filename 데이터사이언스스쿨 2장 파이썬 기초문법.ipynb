{
 "cells": [
  {
   "cell_type": "markdown",
   "metadata": {},
   "source": [
    "# 데이터 사이언스 스쿨"
   ]
  },
  {
   "cell_type": "markdown",
   "metadata": {},
   "source": [
    "## 2장\n",
    "### 2.1 파이썬을 계산기로 사용하기"
   ]
  },
  {
   "cell_type": "code",
   "execution_count": 10,
   "metadata": {},
   "outputs": [
    {
     "data": {
      "text/plain": [
       "60"
      ]
     },
     "execution_count": 10,
     "metadata": {},
     "output_type": "execute_result"
    }
   ],
   "source": [
    "# 연습문제 2.1.1\n",
    "3 * 2 - 8 / 4\n",
    "25 * 6 / 3 +17\n",
    "39021 - 276920 / 12040\n",
    "2 ** 6 - 10 % 6"
   ]
  },
  {
   "cell_type": "code",
   "execution_count": 12,
   "metadata": {},
   "outputs": [
    {
     "data": {
      "text/plain": [
       "16"
      ]
     },
     "execution_count": 12,
     "metadata": {},
     "output_type": "execute_result"
    }
   ],
   "source": [
    "# 연습문제 2.1.2\n",
    "12 - (5 * 7 + 1)\n",
    "5 * ( + (10 - 6) / 2)\n",
    "48320 - ((65 -5 * 9) / 16)* 987\n",
    "((3**4 - 3 * 7) % 5 + 4 ** 2)"
   ]
  },
  {
   "cell_type": "code",
   "execution_count": 14,
   "metadata": {},
   "outputs": [
    {
     "name": "stdout",
     "output_type": "stream",
     "text": [
      "True True True False False False\n"
     ]
    }
   ],
   "source": [
    "# 연습문제 2.1.3\n",
    "a = (3 > 2)\n",
    "b = (50 < 120)\n",
    "c = (8 != 9)\n",
    "\n",
    "d = (29 == 27)\n",
    "e = (95 > 100)\n",
    "f = (30 <= 15)\n",
    "print(a,b,c,d,e,f)"
   ]
  },
  {
   "cell_type": "code",
   "execution_count": 15,
   "metadata": {},
   "outputs": [
    {
     "data": {
      "text/plain": [
       "False"
      ]
     },
     "execution_count": 15,
     "metadata": {},
     "output_type": "execute_result"
    }
   ],
   "source": [
    "# 연습문제 2.1.4\n",
    "(5 <= 6) and (3 == 4)"
   ]
  },
  {
   "cell_type": "code",
   "execution_count": 16,
   "metadata": {},
   "outputs": [
    {
     "data": {
      "text/plain": [
       "True"
      ]
     },
     "execution_count": 16,
     "metadata": {},
     "output_type": "execute_result"
    }
   ],
   "source": [
    "(2 != 1) or (3 >= 4)"
   ]
  },
  {
   "cell_type": "code",
   "execution_count": 17,
   "metadata": {},
   "outputs": [
    {
     "data": {
      "text/plain": [
       "True"
      ]
     },
     "execution_count": 17,
     "metadata": {},
     "output_type": "execute_result"
    }
   ],
   "source": [
    "(5 <= 6) and ((0 == 0) or (3 < 4))"
   ]
  },
  {
   "cell_type": "code",
   "execution_count": 19,
   "metadata": {},
   "outputs": [
    {
     "data": {
      "text/plain": [
       "2"
      ]
     },
     "execution_count": 19,
     "metadata": {},
     "output_type": "execute_result"
    }
   ],
   "source": [
    "# 연습문제 2.1.5\n",
    "x = 1\n",
    "y = 2\n",
    "z = 3\n",
    "(2*x - 1)**2 + 1"
   ]
  },
  {
   "cell_type": "code",
   "execution_count": 21,
   "metadata": {},
   "outputs": [
    {
     "data": {
      "text/plain": [
       "13"
      ]
     },
     "execution_count": 21,
     "metadata": {},
     "output_type": "execute_result"
    }
   ],
   "source": [
    "x**2**y * (z + 10)"
   ]
  },
  {
   "cell_type": "code",
   "execution_count": 23,
   "metadata": {},
   "outputs": [
    {
     "data": {
      "text/plain": [
       "True"
      ]
     },
     "execution_count": 23,
     "metadata": {},
     "output_type": "execute_result"
    }
   ],
   "source": [
    "j = 20\n",
    "k = 10\n",
    "i = 30\n",
    "\n",
    "((j == 0) and (0 < k)) or (i <= 100)"
   ]
  },
  {
   "cell_type": "markdown",
   "metadata": {},
   "source": [
    "### 2.2 부동소수점 실수 자료형\n",
    "\n",
    "부동소수점 실수\n",
    "\n",
    "123e2 = 123.0 * 100 = 12300.0 \n",
    "\n",
    "123e-2 = 123.0 * 0.01 = 1.23 \n",
    "\n",
    "123.456e-3 = 123.456 * 0.001 = 0.123456 "
   ]
  },
  {
   "cell_type": "code",
   "execution_count": 29,
   "metadata": {},
   "outputs": [
    {
     "data": {
      "text/plain": [
       "500000000.0"
      ]
     },
     "execution_count": 29,
     "metadata": {},
     "output_type": "execute_result"
    }
   ],
   "source": [
    "# 연습문제 2.2.1\n",
    "5e8"
   ]
  },
  {
   "cell_type": "code",
   "execution_count": 30,
   "metadata": {},
   "outputs": [
    {
     "data": {
      "text/plain": [
       "5600.0"
      ]
     },
     "execution_count": 30,
     "metadata": {},
     "output_type": "execute_result"
    }
   ],
   "source": [
    "5.6e3"
   ]
  },
  {
   "cell_type": "code",
   "execution_count": 31,
   "metadata": {},
   "outputs": [
    {
     "data": {
      "text/plain": [
       "-210.0"
      ]
     },
     "execution_count": 31,
     "metadata": {},
     "output_type": "execute_result"
    }
   ],
   "source": [
    "-2.1e2"
   ]
  },
  {
   "cell_type": "code",
   "execution_count": 32,
   "metadata": {},
   "outputs": [
    {
     "data": {
      "text/plain": [
       "-0.34"
      ]
     },
     "execution_count": 32,
     "metadata": {},
     "output_type": "execute_result"
    }
   ],
   "source": [
    "-3.4e-1"
   ]
  },
  {
   "cell_type": "code",
   "execution_count": 33,
   "metadata": {},
   "outputs": [
    {
     "data": {
      "text/plain": [
       "3.141592"
      ]
     },
     "execution_count": 33,
     "metadata": {},
     "output_type": "execute_result"
    }
   ],
   "source": [
    "# 연습문제 2.2.2\n",
    "31415.92e-4"
   ]
  },
  {
   "cell_type": "code",
   "execution_count": 34,
   "metadata": {},
   "outputs": [
    {
     "data": {
      "text/plain": [
       "2.718"
      ]
     },
     "execution_count": 34,
     "metadata": {},
     "output_type": "execute_result"
    }
   ],
   "source": [
    "0.2718e1"
   ]
  },
  {
   "cell_type": "code",
   "execution_count": 35,
   "metadata": {},
   "outputs": [
    {
     "data": {
      "text/plain": [
       "1.4"
      ]
     },
     "execution_count": 35,
     "metadata": {},
     "output_type": "execute_result"
    }
   ],
   "source": [
    "14e-1"
   ]
  },
  {
   "cell_type": "code",
   "execution_count": 36,
   "metadata": {},
   "outputs": [
    {
     "data": {
      "text/plain": [
       "1.73"
      ]
     },
     "execution_count": 36,
     "metadata": {},
     "output_type": "execute_result"
    }
   ],
   "source": [
    "0.173e1"
   ]
  },
  {
   "cell_type": "code",
   "execution_count": 38,
   "metadata": {},
   "outputs": [
    {
     "data": {
      "text/plain": [
       "1234"
      ]
     },
     "execution_count": 38,
     "metadata": {},
     "output_type": "execute_result"
    }
   ],
   "source": [
    "# 연습문제 2.2.3\n",
    "1*(10**3) + 2*(10**2) + 3*(10**1) + 4"
   ]
  },
  {
   "cell_type": "code",
   "execution_count": 39,
   "metadata": {},
   "outputs": [
    {
     "data": {
      "text/plain": [
       "1010"
      ]
     },
     "execution_count": 39,
     "metadata": {},
     "output_type": "execute_result"
    }
   ],
   "source": [
    "1*(10**3) + 0*(10**2) + 1*(10**1) + 0"
   ]
  },
  {
   "cell_type": "code",
   "execution_count": 41,
   "metadata": {},
   "outputs": [
    {
     "data": {
      "text/plain": [
       "3.14"
      ]
     },
     "execution_count": 41,
     "metadata": {},
     "output_type": "execute_result"
    }
   ],
   "source": [
    "3 + 1*(10**-1) + 4*(10**-2)"
   ]
  },
  {
   "cell_type": "code",
   "execution_count": 42,
   "metadata": {},
   "outputs": [
    {
     "data": {
      "text/plain": [
       "0.023"
      ]
     },
     "execution_count": 42,
     "metadata": {},
     "output_type": "execute_result"
    }
   ],
   "source": [
    "0 + 0*(10**-1) + 2*(10**-2) + 3*(10**-3)"
   ]
  },
  {
   "cell_type": "code",
   "execution_count": 44,
   "metadata": {},
   "outputs": [
    {
     "data": {
      "text/plain": [
       "13"
      ]
     },
     "execution_count": 44,
     "metadata": {},
     "output_type": "execute_result"
    }
   ],
   "source": [
    "# 연습문제 2.2.4 \n",
    "# bin() 명렁을 쓰면 정수 십진수를 이진수로 변환\n",
    "bin(13)\n",
    "1*(2**3) + 1*(2**2) + 1  "
   ]
  },
  {
   "cell_type": "code",
   "execution_count": 46,
   "metadata": {},
   "outputs": [
    {
     "data": {
      "text/plain": [
       "129"
      ]
     },
     "execution_count": 46,
     "metadata": {},
     "output_type": "execute_result"
    }
   ],
   "source": [
    "bin(129)\n",
    "1*(2**7) + 1"
   ]
  },
  {
   "cell_type": "code",
   "execution_count": 59,
   "metadata": {},
   "outputs": [
    {
     "data": {
      "text/plain": [
       "1.0"
      ]
     },
     "execution_count": 59,
     "metadata": {},
     "output_type": "execute_result"
    }
   ],
   "source": [
    "# bin(8)\n",
    "# 1*(2**-1) + 1*(2**-2) + (0*(2**-1) + 1*(2**-2))\n",
    "# .11001----"
   ]
  },
  {
   "cell_type": "markdown",
   "metadata": {},
   "source": [
    "### 2.3 파이썬으로 글자를 출력하기"
   ]
  },
  {
   "cell_type": "code",
   "execution_count": 60,
   "metadata": {},
   "outputs": [
    {
     "name": "stdout",
     "output_type": "stream",
     "text": [
      "Beautiful is better than ugly.\n",
      "Explicit is better than implicit.\n",
      "Simple is better than complex.\n",
      "Complex is better than complicated.\n",
      "Flat is better than nested.\n",
      "Sparse is better than dense.\n"
     ]
    }
   ],
   "source": [
    "# 연습문제 2.3.1\n",
    "print('''Beautiful is better than ugly.\n",
    "Explicit is better than implicit.\n",
    "Simple is better than complex.\n",
    "Complex is better than complicated.\n",
    "Flat is better than nested.\n",
    "Sparse is better than dense.''')"
   ]
  },
  {
   "cell_type": "code",
   "execution_count": 64,
   "metadata": {},
   "outputs": [
    {
     "name": "stdout",
     "output_type": "stream",
     "text": [
      "@@@@@@\n",
      "@    @\n",
      "@    @\n",
      "@    @\n",
      "@@@@@@\n"
     ]
    }
   ],
   "source": [
    "a = '@'\n",
    "b = 6\n",
    "print(a*b)\n",
    "print(a*(b-5), end=\"    \")\n",
    "print(a*(b-5))\n",
    "print(a*(b-5), end=\"    \")\n",
    "print(a*(b-5))\n",
    "print(a*(b-5), end=\"    \")\n",
    "print(a*(b-5))\n",
    "print(a*b)"
   ]
  },
  {
   "cell_type": "code",
   "execution_count": 65,
   "metadata": {},
   "outputs": [
    {
     "data": {
      "text/plain": [
       "'20201225'"
      ]
     },
     "execution_count": 65,
     "metadata": {},
     "output_type": "execute_result"
    }
   ],
   "source": [
    "# 연습문제 2.3.2\n",
    "# 문자열 치환 \n",
    "# replace('변경할 문자열', '변경될 문자열')\n",
    "\"2020-12-25\".replace('-','')"
   ]
  },
  {
   "cell_type": "markdown",
   "metadata": {},
   "source": [
    "### 2.4 파이썬의 문자열 형식화"
   ]
  },
  {
   "cell_type": "code",
   "execution_count": 66,
   "metadata": {},
   "outputs": [
    {
     "data": {
      "text/plain": [
       "'Tom is 13 years old'"
      ]
     },
     "execution_count": 66,
     "metadata": {},
     "output_type": "execute_result"
    }
   ],
   "source": [
    "# 연습문제 2.4.1\n",
    "'%s is %d years old'% ('Tom',13)   "
   ]
  },
  {
   "cell_type": "code",
   "execution_count": 67,
   "metadata": {},
   "outputs": [
    {
     "data": {
      "text/plain": [
       "'10 / 3 = 3.333333'"
      ]
     },
     "execution_count": 67,
     "metadata": {},
     "output_type": "execute_result"
    }
   ],
   "source": [
    "a = 10\n",
    "b = 3\n",
    "'%d / %d = %f'%(a,b,a/b) "
   ]
  },
  {
   "cell_type": "code",
   "execution_count": 112,
   "metadata": {},
   "outputs": [
    {
     "name": "stdout",
     "output_type": "stream",
     "text": [
      "       3\n",
      "x     12\n",
      "--------\n",
      "      36\n"
     ]
    }
   ],
   "source": [
    "# 연습문제 2.4.2\n",
    "a = 3\n",
    "b = 12\n",
    "print('%8d'% a)\n",
    "print('x' + '%7d'% b)\n",
    "print('--------')\n",
    "print('%8d' % (a*b))\n"
   ]
  },
  {
   "cell_type": "code",
   "execution_count": 115,
   "metadata": {},
   "outputs": [
    {
     "name": "stdout",
     "output_type": "stream",
     "text": [
      "    123456\n",
      "x     7890\n",
      "----------\n",
      "    131346\n"
     ]
    }
   ],
   "source": [
    "a = 123456\n",
    "b = 7890\n",
    "print('%10d' % a)\n",
    "print('x' + '%9d' % b)\n",
    "print('----------')\n",
    "print('%10d' % (a+b))"
   ]
  },
  {
   "attachments": {
    "image.png": {
     "image/png": "[encoded data removed]"
    }
   },
   "cell_type": "markdown",
   "metadata": {},
   "source": [
    "![image.png](attachment:image.png)"
   ]
  },
  {
   "cell_type": "code",
   "execution_count": 122,
   "metadata": {},
   "outputs": [
    {
     "name": "stdout",
     "output_type": "stream",
     "text": [
      "       3\n",
      "x     12\n",
      "--------\n",
      "      36\n"
     ]
    }
   ],
   "source": [
    "# 연습문제 2.4.3\n",
    "a = 3\n",
    "b = 12\n",
    "print('{:>8}'.format(a))\n",
    "print('x' + '{:>7}'.format(b))\n",
    "print('{:->8}'.format(''))\n",
    "print('{:>8}'.format(a*b))"
   ]
  },
  {
   "cell_type": "code",
   "execution_count": 123,
   "metadata": {},
   "outputs": [
    {
     "name": "stdout",
     "output_type": "stream",
     "text": [
      "    123456\n",
      "x     7890\n",
      "----------\n",
      "    131346\n"
     ]
    }
   ],
   "source": [
    "a = 123456\n",
    "b = 7890\n",
    "print('{:>10}'.format(a))\n",
    "print('x' + '{:>9}'.format(b))\n",
    "print('{:->10}'.format(''))\n",
    "print('{:>10}'.format(a+b))"
   ]
  },
  {
   "cell_type": "code",
   "execution_count": 130,
   "metadata": {},
   "outputs": [
    {
     "name": "stdout",
     "output_type": "stream",
     "text": [
      "       3\n",
      "x     12\n",
      "--------\n",
      "      36\n"
     ]
    }
   ],
   "source": [
    "a = 3\n",
    "b = 12\n",
    "print(f'{a:>8}')\n",
    "print('x' + f'{b:>7}')\n",
    "print('{:->8}'.format(''))\n",
    "print(f'{(a*b):>8}')"
   ]
  },
  {
   "cell_type": "code",
   "execution_count": 131,
   "metadata": {},
   "outputs": [
    {
     "name": "stdout",
     "output_type": "stream",
     "text": [
      "    123456\n",
      "x     7890\n",
      "----------\n",
      "    131346\n"
     ]
    }
   ],
   "source": [
    "a = 123456\n",
    "b = 7890\n",
    "print(f'{a:>10}')\n",
    "print('x' + f'{b:>9}')\n",
    "print('{:->10}'.format(''))\n",
    "print(f'{(a+b):>10}')"
   ]
  },
  {
   "cell_type": "markdown",
   "metadata": {},
   "source": [
    "### 2.5 파이썬 조건문 기초"
   ]
  },
  {
   "cell_type": "code",
   "execution_count": 134,
   "metadata": {},
   "outputs": [
    {
     "name": "stdout",
     "output_type": "stream",
     "text": [
      "짝수\n"
     ]
    }
   ],
   "source": [
    "# 연습문제 2.5.1\n",
    "a = 2\n",
    "\n",
    "if a % 2 == 0:\n",
    "    print(\"짝수\")\n",
    "else:\n",
    "    print(\"홀수\")"
   ]
  },
  {
   "cell_type": "code",
   "execution_count": 135,
   "metadata": {},
   "outputs": [
    {
     "name": "stdout",
     "output_type": "stream",
     "text": [
      "2자리 수의 짝수이다.\n"
     ]
    }
   ],
   "source": [
    "b = 38\n",
    "\n",
    "if (b >= 10) & (b < 100) & (b % 2 == 0):\n",
    "    print(\"2자리 수의 짝수이다.\")\n",
    "else:\n",
    "    print(\"2자리 수의 짝수가 아니다.\")"
   ]
  },
  {
   "cell_type": "code",
   "execution_count": 143,
   "metadata": {},
   "outputs": [
    {
     "name": "stdout",
     "output_type": "stream",
     "text": [
      "0\n",
      "20\n",
      "20\n",
      "윤년입니다.\n"
     ]
    }
   ],
   "source": [
    "# 연습문제 2.5.2\n",
    "y = 2020\n",
    "print(y%4)\n",
    "print(y%100)\n",
    "print(y%400)\n",
    "if y%4 == 0 and y%100 == 0:\n",
    "    print('윤년이 아닙니다.')\n",
    "    \n",
    "elif y%4 == 0 and y%100 == 0 and y%400 == 0:\n",
    "    print('윤년입니다.')\n",
    "    \n",
    "elif y%4 == 0:\n",
    "    print('윤년입니다.')\n",
    "\n",
    "else:\n",
    "    print('윤년이 아닙니다.')\n",
    "    "
   ]
  },
  {
   "cell_type": "code",
   "execution_count": 145,
   "metadata": {},
   "outputs": [
    {
     "name": "stdout",
     "output_type": "stream",
     "text": [
      "A\n"
     ]
    }
   ],
   "source": [
    "c = 10\n",
    "\n",
    "if c >= 8:\n",
    "    print(\"A\")\n",
    "elif c >= 5:\n",
    "    print(\"B\")\n",
    "else:\n",
    "    print(\"C\")"
   ]
  },
  {
   "cell_type": "code",
   "execution_count": 147,
   "metadata": {},
   "outputs": [
    {
     "name": "stdout",
     "output_type": "stream",
     "text": [
      "3등급\n"
     ]
    }
   ],
   "source": [
    "watermelon = 6\n",
    "\n",
    "if watermelon > 10:\n",
    "    print('1등급')\n",
    "\n",
    "elif watermelon > 7:\n",
    "    print('2등급')\n",
    "    \n",
    "elif watermelon > 4:\n",
    "    print('3등급')\n",
    "\n",
    "else:\n",
    "    print('4등급')"
   ]
  },
  {
   "cell_type": "code",
   "execution_count": 154,
   "metadata": {},
   "outputs": [
    {
     "name": "stdout",
     "output_type": "stream",
     "text": [
      "범죄자 A는 0년, 범죄자 B는 10년 입니다.\n"
     ]
    }
   ],
   "source": [
    "XA = 'True'\n",
    "XB = 'False'\n",
    "YA = 0\n",
    "YB = 0\n",
    "\n",
    "if XA == 'True':\n",
    "    if XB == 'False':\n",
    "        YA = 0\n",
    "        YB = 10\n",
    "    elif XB == 'True':\n",
    "        YA = 5\n",
    "        YB = 5\n",
    "        \n",
    "elif XB == 'True':\n",
    "    if XA == 'False':\n",
    "        YB = 0\n",
    "        YA = 10\n",
    "    elif XA == 'True':\n",
    "        YB = 5\n",
    "        YA = 5        \n",
    "elif XA == 'False' and XB == 'False':\n",
    "    YA = 1\n",
    "    YB = 1\n",
    "    \n",
    "print('범죄자 A는', str(YA) + '년,', '범죄자 B는', str(YB) + '년 입니다.')\n",
    "    "
   ]
  },
  {
   "cell_type": "markdown",
   "metadata": {},
   "source": [
    "### 2.6 파이썬 함수"
   ]
  },
  {
   "cell_type": "code",
   "execution_count": 157,
   "metadata": {},
   "outputs": [
    {
     "name": "stdout",
     "output_type": "stream",
     "text": [
      "짝수\n",
      "홀수\n"
     ]
    }
   ],
   "source": [
    "# 연습문제 2.6.1\n",
    "\n",
    "def num(a):\n",
    "    if a % 2 == 0:\n",
    "        print(\"짝수\")\n",
    "    else:\n",
    "        print(\"홀수\")\n",
    "num(2)\n",
    "num(3)"
   ]
  },
  {
   "cell_type": "code",
   "execution_count": 159,
   "metadata": {},
   "outputs": [
    {
     "name": "stdout",
     "output_type": "stream",
     "text": [
      "윤년입니다.\n",
      "평년입니다.\n"
     ]
    }
   ],
   "source": [
    "def fed_year(y):\n",
    "    if y%4 == 0 and y%100 == 0:\n",
    "        print('평년입니다.')\n",
    "\n",
    "    elif y%4 == 0 and y%100 == 0 and y%400 == 0:\n",
    "        print('윤년입니다.')\n",
    "\n",
    "    elif y%4 == 0:\n",
    "        print('윤년입니다.')\n",
    "\n",
    "    else:\n",
    "        print('평년입니다.')\n",
    "fed_year(2020)\n",
    "fed_year(2021)"
   ]
  },
  {
   "cell_type": "code",
   "execution_count": 160,
   "metadata": {},
   "outputs": [
    {
     "name": "stdout",
     "output_type": "stream",
     "text": [
      "31\n",
      "28\n",
      "30\n"
     ]
    }
   ],
   "source": [
    "# 연습문제 2.6.2\n",
    "\n",
    "def month_num(m):\n",
    "    if m in (1,3,5,7,8,10,12):\n",
    "        print(31)\n",
    "    elif m == 11:\n",
    "        print(30)\n",
    "    else:\n",
    "        print(28)\n",
    "month_num(1)\n",
    "month_num(2)\n",
    "month_num(11)"
   ]
  },
  {
   "cell_type": "code",
   "execution_count": 166,
   "metadata": {},
   "outputs": [
    {
     "name": "stdout",
     "output_type": "stream",
     "text": [
      "28\n",
      "29\n"
     ]
    }
   ],
   "source": [
    "# 연습문제 2.6.3\n",
    "\n",
    "def fed_year(y):\n",
    "    if y%4 == 0 and y%100 == 0:\n",
    "        return '평년입니다.'\n",
    "\n",
    "    elif y%4 == 0 and y%100 == 0 and y%400 == 0:\n",
    "        return '윤년입니다.'\n",
    "\n",
    "    elif y%4 == 0:\n",
    "        return '윤년입니다.'\n",
    "\n",
    "    else:\n",
    "        return '평년입니다.'\n",
    "\n",
    "def month_num_fed(m):\n",
    "    if m in (1,3,5,7,8,10,12):\n",
    "        return 31\n",
    "    elif m == 11:\n",
    "        return 30\n",
    "    else:\n",
    "        return 28\n",
    "    \n",
    "def month_num(m):\n",
    "    if m in (1,3,5,7,8,10,12):\n",
    "        return 31\n",
    "    elif m == 11:\n",
    "        return 30\n",
    "    else:\n",
    "        return 29\n",
    "    \n",
    "def year_mon(y,m):\n",
    "    if fed_year(y) == '평년입니다.':\n",
    "       return month_num_fed(m)\n",
    "    else:\n",
    "        return month_num(m)\n",
    "print(year_mon(2021,2))\n",
    "print(year_mon(2020,2))"
   ]
  },
  {
   "cell_type": "code",
   "execution_count": 170,
   "metadata": {},
   "outputs": [
    {
     "data": {
      "text/plain": [
       "6"
      ]
     },
     "execution_count": 170,
     "metadata": {},
     "output_type": "execute_result"
    }
   ],
   "source": [
    "# 연습문제 2.6.4\n",
    "\n",
    "def diffsum(a,b,c):\n",
    "    total_sum = a + b + c\n",
    "    total_squ= a**b**c\n",
    "    if total_squ > total_sum:\n",
    "        return total_squ - total_sum\n",
    "    else:\n",
    "        return total_sum - total_squ\n",
    "    \n",
    "diffsum(1,2,4)"
   ]
  },
  {
   "cell_type": "code",
   "execution_count": 175,
   "metadata": {},
   "outputs": [
    {
     "name": "stdout",
     "output_type": "stream",
     "text": [
      "6\n",
      "6\n"
     ]
    }
   ],
   "source": [
    "# 연습문제 2.6.5\n",
    "\n",
    "m = 0\n",
    "def diffsum2(a,b,c):\n",
    "    global m\n",
    "    total_sum = a + b + c\n",
    "    total_squ= a**b**c\n",
    "    if total_squ > total_sum:\n",
    "        if total_squ - total_sum > m:\n",
    "            m = total_squ - total_sum\n",
    "        return total_squ - total_sum\n",
    "        \n",
    "    else:\n",
    "        if total_sum - total_squ > m:\n",
    "            m = total_sum - total_squ\n",
    "        return total_sum - total_squ\n",
    "        \n",
    "    \n",
    "print(diffsum2(1,2,4))\n",
    "print(m)"
   ]
  },
  {
   "cell_type": "markdown",
   "metadata": {},
   "source": [
    "### 2.7 파이썬 for 반복문"
   ]
  },
  {
   "cell_type": "code",
   "execution_count": 176,
   "metadata": {},
   "outputs": [
    {
     "name": "stdout",
     "output_type": "stream",
     "text": [
      "\n",
      "*\n",
      "**\n",
      "***\n",
      "****\n",
      "*****\n",
      "******\n",
      "*******\n",
      "********\n",
      "*********\n",
      "**********\n"
     ]
    }
   ],
   "source": [
    "# 연습문제 2.7.1\n",
    "\n",
    "for i in range(11):\n",
    "    print(i * '*')"
   ]
  },
  {
   "cell_type": "code",
   "execution_count": 181,
   "metadata": {},
   "outputs": [
    {
     "name": "stdout",
     "output_type": "stream",
     "text": [
      "**********\n",
      "*********\n",
      "********\n",
      "*******\n",
      "******\n",
      "*****\n",
      "****\n",
      "***\n",
      "**\n",
      "*\n"
     ]
    }
   ],
   "source": [
    "# 연습문제 2.7.2\n",
    "\n",
    "for i in range(10):\n",
    "    print((10-i) * '*')"
   ]
  },
  {
   "cell_type": "code",
   "execution_count": 182,
   "metadata": {},
   "outputs": [
    {
     "name": "stdout",
     "output_type": "stream",
     "text": [
      "\n",
      "*\n",
      "**\n",
      "***\n",
      "****\n",
      "*****\n",
      "******\n",
      "*******\n",
      "********\n",
      "*********\n",
      "**********\n",
      "*********\n",
      "********\n",
      "*******\n",
      "******\n",
      "*****\n",
      "****\n",
      "***\n",
      "**\n",
      "*\n",
      "\n"
     ]
    }
   ],
   "source": [
    "# 연습문제 2.7.3\n",
    "\n",
    "for i in range(11):\n",
    "    print(i * '*')\n",
    "if i == 10:\n",
    "    for j in range(10):\n",
    "        print((9-j) * '*')"
   ]
  },
  {
   "cell_type": "code",
   "execution_count": 196,
   "metadata": {},
   "outputs": [
    {
     "name": "stdout",
     "output_type": "stream",
     "text": [
      "     *\n",
      "    ***\n",
      "   *****\n",
      "  *******\n",
      " *********\n",
      "***********\n",
      " *********\n",
      "  *******\n",
      "   *****\n",
      "    ***\n",
      "     *\n"
     ]
    }
   ],
   "source": [
    "# 연습문제 2.7.4\n",
    "cnt = 1\n",
    "for i in range(6):\n",
    "    print(' '*(5-i) + '*'*cnt)\n",
    "    cnt += 2\n",
    "if cnt == 13: \n",
    "    cnt = 9\n",
    "    for i in range(1,6):\n",
    "        print(' '*i + '*'*cnt)\n",
    "        cnt -= 2"
   ]
  },
  {
   "cell_type": "code",
   "execution_count": 197,
   "metadata": {},
   "outputs": [
    {
     "ename": "SyntaxError",
     "evalue": "unexpected EOF while parsing (<ipython-input-197-4818ce17f324>, line 7)",
     "output_type": "error",
     "traceback": [
      "\u001b[1;36m  File \u001b[1;32m\"<ipython-input-197-4818ce17f324>\"\u001b[1;36m, line \u001b[1;32m7\u001b[0m\n\u001b[1;33m    \u001b[0m\n\u001b[1;37m    ^\u001b[0m\n\u001b[1;31mSyntaxError\u001b[0m\u001b[1;31m:\u001b[0m unexpected EOF while parsing\n"
     ]
    }
   ],
   "source": [
    "# 연습문제 2.7.5\n",
    "\n",
    "for a in range(4):   \n",
    "    money = 1024\n",
    "    i = a\n",
    "    j = 3 - a\n",
    "    if i == 0:\n",
    "        money = money / (2**j)\n",
    "    elif j == 0:\n",
    "        money = money * (2**(i))\n",
    "    else: \n",
    "        money = money * (2**i) / (2**j)\n",
    "    money = int(money)\n",
    "    print(str(money)+'원')   "
   ]
  },
  {
   "cell_type": "code",
   "execution_count": 201,
   "metadata": {},
   "outputs": [
    {
     "name": "stdout",
     "output_type": "stream",
     "text": [
      "2 = 1\n",
      "2 = 8\n",
      "2 = 27\n",
      "2 = 64\n",
      "2 = 125\n",
      "2 = 216\n",
      "2 = 343\n",
      "2 = 512\n",
      "2 = 729\n",
      "2 = 1000\n",
      "9 = 1\n",
      "9 = 8\n",
      "9 = 27\n",
      "9 = 64\n",
      "9 = 125\n",
      "9 = 216\n",
      "9 = 343\n",
      "9 = 512\n",
      "9 = 729\n",
      "9 = 1000\n",
      "28 = 1\n",
      "28 = 8\n",
      "28 = 27\n",
      "28 = 64\n",
      "28 = 125\n",
      "28 = 216\n",
      "28 = 343\n",
      "28 = 512\n",
      "28 = 729\n",
      "28 = 1000\n",
      "65 = 1\n",
      "65 = 8\n",
      "65 = 27\n",
      "65 = 64\n",
      "65 = 125\n",
      "65 = 216\n",
      "65 = 343\n",
      "65 = 512\n",
      "65 = 729\n",
      "65 = 1000\n",
      "126 = 1\n",
      "126 = 8\n",
      "126 = 27\n",
      "126 = 64\n",
      "126 = 125\n",
      "126 = 216\n",
      "126 = 343\n",
      "126 = 512\n",
      "126 = 729\n",
      "126 = 1000\n",
      "217 = 1\n",
      "217 = 8\n",
      "217 = 27\n",
      "217 = 64\n",
      "217 = 125\n",
      "217 = 216\n",
      "217 = 343\n",
      "217 = 512\n",
      "217 = 729\n",
      "217 = 1000\n",
      "344 = 1\n",
      "344 = 8\n",
      "344 = 27\n",
      "344 = 64\n",
      "344 = 125\n",
      "344 = 216\n",
      "344 = 343\n",
      "344 = 512\n",
      "344 = 729\n",
      "344 = 1000\n",
      "513 = 1\n",
      "513 = 8\n",
      "513 = 27\n",
      "513 = 64\n",
      "513 = 125\n",
      "513 = 216\n",
      "513 = 343\n",
      "513 = 512\n",
      "513 = 729\n",
      "513 = 1000\n",
      "730 = 1\n",
      "730 = 8\n",
      "730 = 27\n",
      "730 = 64\n",
      "730 = 125\n",
      "730 = 216\n",
      "730 = 343\n",
      "730 = 512\n",
      "730 = 729\n",
      "730 = 1000\n",
      "1001 = 1\n",
      "1001 = 8\n",
      "1001 = 27\n",
      "1001 = 64\n",
      "1001 = 125\n",
      "1001 = 216\n",
      "1001 = 343\n",
      "1001 = 512\n",
      "1001 = 729\n",
      "1001 = 1000\n",
      "9 = 1\n",
      "9 = 8\n",
      "9 = 27\n",
      "9 = 64\n",
      "9 = 125\n",
      "9 = 216\n",
      "9 = 343\n",
      "9 = 512\n",
      "9 = 729\n",
      "9 = 1000\n",
      "16 = 1\n",
      "16 = 8\n",
      "16 = 27\n",
      "16 = 64\n",
      "16 = 125\n",
      "16 = 216\n",
      "16 = 343\n",
      "16 = 512\n",
      "16 = 729\n",
      "16 = 1000\n",
      "35 = 1\n",
      "35 = 8\n",
      "35 = 27\n",
      "35 = 64\n",
      "35 = 125\n",
      "35 = 216\n",
      "35 = 343\n",
      "35 = 512\n",
      "35 = 729\n",
      "35 = 1000\n",
      "72 = 1\n",
      "72 = 8\n",
      "72 = 27\n",
      "72 = 64\n",
      "72 = 125\n",
      "72 = 216\n",
      "72 = 343\n",
      "72 = 512\n",
      "72 = 729\n",
      "72 = 1000\n",
      "133 = 1\n",
      "133 = 8\n",
      "133 = 27\n",
      "133 = 64\n",
      "133 = 125\n",
      "133 = 216\n",
      "133 = 343\n",
      "133 = 512\n",
      "133 = 729\n",
      "133 = 1000\n",
      "224 = 1\n",
      "224 = 8\n",
      "224 = 27\n",
      "224 = 64\n",
      "224 = 125\n",
      "224 = 216\n",
      "224 = 343\n",
      "224 = 512\n",
      "224 = 729\n",
      "224 = 1000\n",
      "351 = 1\n",
      "351 = 8\n",
      "351 = 27\n",
      "351 = 64\n",
      "351 = 125\n",
      "351 = 216\n",
      "351 = 343\n",
      "351 = 512\n",
      "351 = 729\n",
      "351 = 1000\n",
      "520 = 1\n",
      "520 = 8\n",
      "520 = 27\n",
      "520 = 64\n",
      "520 = 125\n",
      "520 = 216\n",
      "520 = 343\n",
      "520 = 512\n",
      "520 = 729\n",
      "520 = 1000\n",
      "737 = 1\n",
      "737 = 8\n",
      "737 = 27\n",
      "737 = 64\n",
      "737 = 125\n",
      "737 = 216\n",
      "737 = 343\n",
      "737 = 512\n",
      "737 = 729\n",
      "737 = 1000\n",
      "1008 = 1\n",
      "1008 = 8\n",
      "1008 = 27\n",
      "1008 = 64\n",
      "1008 = 125\n",
      "1008 = 216\n",
      "1008 = 343\n",
      "1008 = 512\n",
      "1008 = 729\n",
      "1008 = 1000\n",
      "28 = 1\n",
      "28 = 8\n",
      "28 = 27\n",
      "28 = 64\n",
      "28 = 125\n",
      "28 = 216\n",
      "28 = 343\n",
      "28 = 512\n",
      "28 = 729\n",
      "28 = 1000\n",
      "35 = 1\n",
      "35 = 8\n",
      "35 = 27\n",
      "35 = 64\n",
      "35 = 125\n",
      "35 = 216\n",
      "35 = 343\n",
      "35 = 512\n",
      "35 = 729\n",
      "35 = 1000\n",
      "54 = 1\n",
      "54 = 8\n",
      "54 = 27\n",
      "54 = 64\n",
      "54 = 125\n",
      "54 = 216\n",
      "54 = 343\n",
      "54 = 512\n",
      "54 = 729\n",
      "54 = 1000\n",
      "91 = 1\n",
      "91 = 8\n",
      "91 = 27\n",
      "91 = 64\n",
      "91 = 125\n",
      "91 = 216\n",
      "91 = 343\n",
      "91 = 512\n",
      "91 = 729\n",
      "91 = 1000\n",
      "152 = 1\n",
      "152 = 8\n",
      "152 = 27\n",
      "152 = 64\n",
      "152 = 125\n",
      "152 = 216\n",
      "152 = 343\n",
      "152 = 512\n",
      "152 = 729\n",
      "152 = 1000\n",
      "243 = 1\n",
      "243 = 8\n",
      "243 = 27\n",
      "243 = 64\n",
      "243 = 125\n",
      "243 = 216\n",
      "243 = 343\n",
      "243 = 512\n",
      "243 = 729\n",
      "243 = 1000\n",
      "370 = 1\n",
      "370 = 8\n",
      "370 = 27\n",
      "370 = 64\n",
      "370 = 125\n",
      "370 = 216\n",
      "370 = 343\n",
      "370 = 512\n",
      "370 = 729\n",
      "370 = 1000\n",
      "539 = 1\n",
      "539 = 8\n",
      "539 = 27\n",
      "539 = 64\n",
      "539 = 125\n",
      "539 = 216\n",
      "539 = 343\n",
      "539 = 512\n",
      "539 = 729\n",
      "539 = 1000\n",
      "756 = 1\n",
      "756 = 8\n",
      "756 = 27\n",
      "756 = 64\n",
      "756 = 125\n",
      "756 = 216\n",
      "756 = 343\n",
      "756 = 512\n",
      "756 = 729\n",
      "756 = 1000\n",
      "1027 = 1\n",
      "1027 = 8\n",
      "1027 = 27\n",
      "1027 = 64\n",
      "1027 = 125\n",
      "1027 = 216\n",
      "1027 = 343\n",
      "1027 = 512\n",
      "1027 = 729\n",
      "1027 = 1000\n",
      "65 = 1\n",
      "65 = 8\n",
      "65 = 27\n",
      "65 = 64\n",
      "65 = 125\n",
      "65 = 216\n",
      "65 = 343\n",
      "65 = 512\n",
      "65 = 729\n",
      "65 = 1000\n",
      "72 = 1\n",
      "72 = 8\n",
      "72 = 27\n",
      "72 = 64\n",
      "72 = 125\n",
      "72 = 216\n",
      "72 = 343\n",
      "72 = 512\n",
      "72 = 729\n",
      "72 = 1000\n",
      "91 = 1\n",
      "91 = 8\n",
      "91 = 27\n",
      "91 = 64\n",
      "91 = 125\n",
      "91 = 216\n",
      "91 = 343\n",
      "91 = 512\n",
      "91 = 729\n",
      "91 = 1000\n",
      "128 = 1\n",
      "128 = 8\n",
      "128 = 27\n",
      "128 = 64\n",
      "128 = 125\n",
      "128 = 216\n",
      "128 = 343\n",
      "128 = 512\n",
      "128 = 729\n",
      "128 = 1000\n",
      "189 = 1\n",
      "189 = 8\n",
      "189 = 27\n",
      "189 = 64\n",
      "189 = 125\n",
      "189 = 216\n",
      "189 = 343\n",
      "189 = 512\n",
      "189 = 729\n",
      "189 = 1000\n",
      "280 = 1\n",
      "280 = 8\n",
      "280 = 27\n",
      "280 = 64\n",
      "280 = 125\n",
      "280 = 216\n",
      "280 = 343\n",
      "280 = 512\n",
      "280 = 729\n",
      "280 = 1000\n",
      "407 = 1\n",
      "407 = 8\n",
      "407 = 27\n",
      "407 = 64\n",
      "407 = 125\n",
      "407 = 216\n",
      "407 = 343\n",
      "407 = 512\n",
      "407 = 729\n",
      "407 = 1000\n",
      "576 = 1\n",
      "576 = 8\n",
      "576 = 27\n",
      "576 = 64\n",
      "576 = 125\n",
      "576 = 216\n",
      "576 = 343\n",
      "576 = 512\n",
      "576 = 729\n",
      "576 = 1000\n",
      "793 = 1\n",
      "793 = 8\n",
      "793 = 27\n",
      "793 = 64\n",
      "793 = 125\n",
      "793 = 216\n",
      "793 = 343\n",
      "793 = 512\n",
      "793 = 729\n",
      "793 = 1000\n",
      "1064 = 1\n",
      "1064 = 8\n",
      "1064 = 27\n",
      "1064 = 64\n",
      "1064 = 125\n",
      "1064 = 216\n",
      "1064 = 343\n",
      "1064 = 512\n",
      "1064 = 729\n",
      "1064 = 1000\n",
      "126 = 1\n",
      "126 = 8\n",
      "126 = 27\n",
      "126 = 64\n",
      "126 = 125\n",
      "126 = 216\n",
      "126 = 343\n",
      "126 = 512\n",
      "126 = 729\n",
      "126 = 1000\n",
      "133 = 1\n",
      "133 = 8\n",
      "133 = 27\n",
      "133 = 64\n",
      "133 = 125\n",
      "133 = 216\n",
      "133 = 343\n",
      "133 = 512\n",
      "133 = 729\n",
      "133 = 1000\n",
      "152 = 1\n",
      "152 = 8\n",
      "152 = 27\n",
      "152 = 64\n",
      "152 = 125\n",
      "152 = 216\n",
      "152 = 343\n",
      "152 = 512\n",
      "152 = 729\n",
      "152 = 1000\n",
      "189 = 1\n",
      "189 = 8\n",
      "189 = 27\n",
      "189 = 64\n",
      "189 = 125\n",
      "189 = 216\n",
      "189 = 343\n",
      "189 = 512\n",
      "189 = 729\n",
      "189 = 1000\n",
      "250 = 1\n",
      "250 = 8\n",
      "250 = 27\n",
      "250 = 64\n",
      "250 = 125\n",
      "250 = 216\n",
      "250 = 343\n",
      "250 = 512\n",
      "250 = 729\n",
      "250 = 1000\n",
      "341 = 1\n",
      "341 = 8\n",
      "341 = 27\n",
      "341 = 64\n",
      "341 = 125\n",
      "341 = 216\n",
      "341 = 343\n",
      "341 = 512\n",
      "341 = 729\n",
      "341 = 1000\n",
      "468 = 1\n",
      "468 = 8\n",
      "468 = 27\n",
      "468 = 64\n",
      "468 = 125\n",
      "468 = 216\n",
      "468 = 343\n",
      "468 = 512\n",
      "468 = 729\n",
      "468 = 1000\n",
      "637 = 1\n",
      "637 = 8\n",
      "637 = 27\n",
      "637 = 64\n",
      "637 = 125\n",
      "637 = 216\n",
      "637 = 343\n",
      "637 = 512\n",
      "637 = 729\n",
      "637 = 1000\n",
      "854 = 1\n",
      "854 = 8\n",
      "854 = 27\n",
      "854 = 64\n",
      "854 = 125\n",
      "854 = 216\n",
      "854 = 343\n",
      "854 = 512\n",
      "854 = 729\n",
      "854 = 1000\n",
      "1125 = 1\n",
      "1125 = 8\n",
      "1125 = 27\n",
      "1125 = 64\n",
      "1125 = 125\n",
      "1125 = 216\n",
      "1125 = 343\n",
      "1125 = 512\n",
      "1125 = 729\n",
      "1125 = 1000\n",
      "217 = 1\n",
      "217 = 8\n",
      "217 = 27\n",
      "217 = 64\n",
      "217 = 125\n",
      "217 = 216\n",
      "217 = 343\n",
      "217 = 512\n",
      "217 = 729\n",
      "217 = 1000\n",
      "224 = 1\n",
      "224 = 8\n",
      "224 = 27\n",
      "224 = 64\n",
      "224 = 125\n",
      "224 = 216\n",
      "224 = 343\n",
      "224 = 512\n",
      "224 = 729\n",
      "224 = 1000\n",
      "243 = 1\n",
      "243 = 8\n",
      "243 = 27\n",
      "243 = 64\n",
      "243 = 125\n",
      "243 = 216\n",
      "243 = 343\n",
      "243 = 512\n",
      "243 = 729\n",
      "243 = 1000\n",
      "280 = 1\n",
      "280 = 8\n",
      "280 = 27\n",
      "280 = 64\n",
      "280 = 125\n",
      "280 = 216\n",
      "280 = 343\n",
      "280 = 512\n",
      "280 = 729\n",
      "280 = 1000\n",
      "341 = 1\n",
      "341 = 8\n",
      "341 = 27\n",
      "341 = 64\n",
      "341 = 125\n",
      "341 = 216\n",
      "341 = 343\n",
      "341 = 512\n",
      "341 = 729\n",
      "341 = 1000\n",
      "432 = 1\n",
      "432 = 8\n",
      "432 = 27\n",
      "432 = 64\n",
      "432 = 125\n",
      "432 = 216\n",
      "432 = 343\n",
      "432 = 512\n",
      "432 = 729\n",
      "432 = 1000\n",
      "559 = 1\n",
      "559 = 8\n",
      "559 = 27\n",
      "559 = 64\n",
      "559 = 125\n",
      "559 = 216\n",
      "559 = 343\n",
      "559 = 512\n",
      "559 = 729\n",
      "559 = 1000\n",
      "728 = 1\n",
      "728 = 8\n",
      "728 = 27\n",
      "728 = 64\n",
      "728 = 125\n",
      "728 = 216\n",
      "728 = 343\n",
      "728 = 512\n",
      "728 = 729\n",
      "728 = 1000\n",
      "945 = 1\n",
      "945 = 8\n",
      "945 = 27\n",
      "945 = 64\n",
      "945 = 125\n",
      "945 = 216\n",
      "945 = 343\n",
      "945 = 512\n",
      "945 = 729\n",
      "945 = 1000\n",
      "1216 = 1\n",
      "1216 = 8\n",
      "1216 = 27\n",
      "1216 = 64\n",
      "1216 = 125\n",
      "1216 = 216\n",
      "1216 = 343\n",
      "1216 = 512\n",
      "1216 = 729\n",
      "1216 = 1000\n",
      "344 = 1\n",
      "344 = 8\n",
      "344 = 27\n",
      "344 = 64\n",
      "344 = 125\n",
      "344 = 216\n",
      "344 = 343\n",
      "344 = 512\n",
      "344 = 729\n",
      "344 = 1000\n",
      "351 = 1\n",
      "351 = 8\n",
      "351 = 27\n",
      "351 = 64\n",
      "351 = 125\n",
      "351 = 216\n",
      "351 = 343\n",
      "351 = 512\n",
      "351 = 729\n",
      "351 = 1000\n",
      "370 = 1\n",
      "370 = 8\n",
      "370 = 27\n",
      "370 = 64\n",
      "370 = 125\n",
      "370 = 216\n",
      "370 = 343\n",
      "370 = 512\n",
      "370 = 729\n",
      "370 = 1000\n",
      "407 = 1\n",
      "407 = 8\n",
      "407 = 27\n",
      "407 = 64\n",
      "407 = 125\n",
      "407 = 216\n",
      "407 = 343\n",
      "407 = 512\n",
      "407 = 729\n",
      "407 = 1000\n",
      "468 = 1\n",
      "468 = 8\n",
      "468 = 27\n",
      "468 = 64\n",
      "468 = 125\n",
      "468 = 216\n",
      "468 = 343\n",
      "468 = 512\n",
      "468 = 729\n",
      "468 = 1000\n",
      "559 = 1\n",
      "559 = 8\n",
      "559 = 27\n",
      "559 = 64\n",
      "559 = 125\n",
      "559 = 216\n",
      "559 = 343\n",
      "559 = 512\n",
      "559 = 729\n",
      "559 = 1000\n",
      "686 = 1\n",
      "686 = 8\n",
      "686 = 27\n",
      "686 = 64\n",
      "686 = 125\n",
      "686 = 216\n",
      "686 = 343\n",
      "686 = 512\n",
      "686 = 729\n",
      "686 = 1000\n",
      "855 = 1\n",
      "855 = 8\n",
      "855 = 27\n",
      "855 = 64\n",
      "855 = 125\n",
      "855 = 216\n",
      "855 = 343\n",
      "855 = 512\n",
      "855 = 729\n",
      "855 = 1000\n",
      "1072 = 1\n",
      "1072 = 8\n",
      "1072 = 27\n",
      "1072 = 64\n",
      "1072 = 125\n",
      "1072 = 216\n",
      "1072 = 343\n",
      "1072 = 512\n",
      "1072 = 729\n",
      "1072 = 1000\n",
      "1343 = 1\n",
      "1343 = 8\n",
      "1343 = 27\n",
      "1343 = 64\n",
      "1343 = 125\n",
      "1343 = 216\n",
      "1343 = 343\n",
      "1343 = 512\n",
      "1343 = 729\n",
      "1343 = 1000\n",
      "513 = 1\n",
      "513 = 8\n",
      "513 = 27\n",
      "513 = 64\n",
      "513 = 125\n",
      "513 = 216\n",
      "513 = 343\n",
      "513 = 512\n",
      "513 = 729\n",
      "513 = 1000\n",
      "520 = 1\n",
      "520 = 8\n",
      "520 = 27\n",
      "520 = 64\n",
      "520 = 125\n",
      "520 = 216\n",
      "520 = 343\n",
      "520 = 512\n",
      "520 = 729\n",
      "520 = 1000\n",
      "539 = 1\n",
      "539 = 8\n",
      "539 = 27\n",
      "539 = 64\n",
      "539 = 125\n",
      "539 = 216\n",
      "539 = 343\n",
      "539 = 512\n",
      "539 = 729\n",
      "539 = 1000\n",
      "576 = 1\n",
      "576 = 8\n",
      "576 = 27\n",
      "576 = 64\n",
      "576 = 125\n",
      "576 = 216\n",
      "576 = 343\n",
      "576 = 512\n",
      "576 = 729\n",
      "576 = 1000\n",
      "637 = 1\n",
      "637 = 8\n",
      "637 = 27\n",
      "637 = 64\n",
      "637 = 125\n",
      "637 = 216\n",
      "637 = 343\n",
      "637 = 512\n",
      "637 = 729\n",
      "637 = 1000\n",
      "728 = 1\n",
      "728 = 8\n",
      "728 = 27\n",
      "728 = 64\n",
      "728 = 125\n",
      "728 = 216\n",
      "728 = 343\n",
      "728 = 512\n",
      "728 = 729\n",
      "728 = 1000\n",
      "855 = 1\n",
      "855 = 8\n",
      "855 = 27\n",
      "855 = 64\n",
      "855 = 125\n",
      "855 = 216\n",
      "855 = 343\n",
      "855 = 512\n",
      "855 = 729\n",
      "855 = 1000\n",
      "1024 = 1\n",
      "1024 = 8\n",
      "1024 = 27\n",
      "1024 = 64\n",
      "1024 = 125\n",
      "1024 = 216\n",
      "1024 = 343\n",
      "1024 = 512\n",
      "1024 = 729\n",
      "1024 = 1000\n",
      "1241 = 1\n",
      "1241 = 8\n",
      "1241 = 27\n",
      "1241 = 64\n",
      "1241 = 125\n",
      "1241 = 216\n",
      "1241 = 343\n",
      "1241 = 512\n",
      "1241 = 729\n",
      "1241 = 1000\n",
      "1512 = 1\n",
      "1512 = 8\n",
      "1512 = 27\n",
      "1512 = 64\n",
      "1512 = 125\n",
      "1512 = 216\n",
      "1512 = 343\n",
      "1512 = 512\n",
      "1512 = 729\n",
      "1512 = 1000\n",
      "730 = 1\n",
      "730 = 8\n",
      "730 = 27\n",
      "730 = 64\n",
      "730 = 125\n",
      "730 = 216\n",
      "730 = 343\n",
      "730 = 512\n",
      "730 = 729\n",
      "730 = 1000\n",
      "737 = 1\n",
      "737 = 8\n",
      "737 = 27\n",
      "737 = 64\n",
      "737 = 125\n",
      "737 = 216\n",
      "737 = 343\n",
      "737 = 512\n",
      "737 = 729\n",
      "737 = 1000\n",
      "756 = 1\n",
      "756 = 8\n",
      "756 = 27\n",
      "756 = 64\n",
      "756 = 125\n",
      "756 = 216\n",
      "756 = 343\n",
      "756 = 512\n",
      "756 = 729\n",
      "756 = 1000\n",
      "793 = 1\n",
      "793 = 8\n",
      "793 = 27\n",
      "793 = 64\n",
      "793 = 125\n",
      "793 = 216\n",
      "793 = 343\n",
      "793 = 512\n",
      "793 = 729\n",
      "793 = 1000\n",
      "854 = 1\n",
      "854 = 8\n",
      "854 = 27\n",
      "854 = 64\n",
      "854 = 125\n",
      "854 = 216\n",
      "854 = 343\n",
      "854 = 512\n",
      "854 = 729\n",
      "854 = 1000\n",
      "945 = 1\n",
      "945 = 8\n",
      "945 = 27\n",
      "945 = 64\n",
      "945 = 125\n",
      "945 = 216\n",
      "945 = 343\n",
      "945 = 512\n",
      "945 = 729\n",
      "945 = 1000\n",
      "1072 = 1\n",
      "1072 = 8\n",
      "1072 = 27\n",
      "1072 = 64\n",
      "1072 = 125\n",
      "1072 = 216\n",
      "1072 = 343\n",
      "1072 = 512\n",
      "1072 = 729\n",
      "1072 = 1000\n",
      "1241 = 1\n",
      "1241 = 8\n",
      "1241 = 27\n",
      "1241 = 64\n",
      "1241 = 125\n",
      "1241 = 216\n",
      "1241 = 343\n",
      "1241 = 512\n",
      "1241 = 729\n",
      "1241 = 1000\n",
      "1458 = 1\n",
      "1458 = 8\n",
      "1458 = 27\n",
      "1458 = 64\n",
      "1458 = 125\n",
      "1458 = 216\n",
      "1458 = 343\n",
      "1458 = 512\n",
      "1458 = 729\n",
      "1458 = 1000\n",
      "1729 = 1\n",
      "1729 = 8\n",
      "1729 = 27\n",
      "1729 = 64\n",
      "1729 = 125\n",
      "1729 = 216\n",
      "1729 = 343\n",
      "1729 = 512\n",
      "1729 = 729\n",
      "1729 = 1000\n",
      "1001 = 1\n",
      "1001 = 8\n",
      "1001 = 27\n",
      "1001 = 64\n",
      "1001 = 125\n",
      "1001 = 216\n",
      "1001 = 343\n",
      "1001 = 512\n",
      "1001 = 729\n",
      "1001 = 1000\n",
      "1008 = 1\n",
      "1008 = 8\n",
      "1008 = 27\n",
      "1008 = 64\n",
      "1008 = 125\n",
      "1008 = 216\n",
      "1008 = 343\n",
      "1008 = 512\n",
      "1008 = 729\n",
      "1008 = 1000\n",
      "1027 = 1\n",
      "1027 = 8\n",
      "1027 = 27\n",
      "1027 = 64\n",
      "1027 = 125\n",
      "1027 = 216\n",
      "1027 = 343\n",
      "1027 = 512\n",
      "1027 = 729\n",
      "1027 = 1000\n",
      "1064 = 1\n",
      "1064 = 8\n",
      "1064 = 27\n",
      "1064 = 64\n",
      "1064 = 125\n",
      "1064 = 216\n",
      "1064 = 343\n",
      "1064 = 512\n",
      "1064 = 729\n",
      "1064 = 1000\n",
      "1125 = 1\n",
      "1125 = 8\n",
      "1125 = 27\n",
      "1125 = 64\n",
      "1125 = 125\n",
      "1125 = 216\n",
      "1125 = 343\n",
      "1125 = 512\n",
      "1125 = 729\n",
      "1125 = 1000\n",
      "1216 = 1\n",
      "1216 = 8\n",
      "1216 = 27\n",
      "1216 = 64\n",
      "1216 = 125\n",
      "1216 = 216\n",
      "1216 = 343\n",
      "1216 = 512\n",
      "1216 = 729\n",
      "1216 = 1000\n",
      "1343 = 1\n",
      "1343 = 8\n",
      "1343 = 27\n",
      "1343 = 64\n",
      "1343 = 125\n",
      "1343 = 216\n",
      "1343 = 343\n",
      "1343 = 512\n",
      "1343 = 729\n",
      "1343 = 1000\n",
      "1512 = 1\n",
      "1512 = 8\n",
      "1512 = 27\n",
      "1512 = 64\n",
      "1512 = 125\n",
      "1512 = 216\n",
      "1512 = 343\n",
      "1512 = 512\n",
      "1512 = 729\n",
      "1512 = 1000\n",
      "1729 = 1\n",
      "1729 = 8\n",
      "1729 = 27\n",
      "1729 = 64\n",
      "1729 = 125\n",
      "1729 = 216\n",
      "1729 = 343\n",
      "1729 = 512\n",
      "1729 = 729\n",
      "1729 = 1000\n",
      "2000 = 1\n",
      "2000 = 8\n",
      "2000 = 27\n",
      "2000 = 64\n",
      "2000 = 125\n",
      "2000 = 216\n",
      "2000 = 343\n",
      "2000 = 512\n",
      "2000 = 729\n",
      "2000 = 1000\n"
     ]
    }
   ],
   "source": [
    "# 연습문제 2.7.6\n",
    "\n",
    "n = 3\n",
    "for a in range(1,11):\n",
    "    for b in range(1,11):\n",
    "        for c in range(1,11):\n",
    "            print(a**n + b**n, '=', c**n)"
   ]
  },
  {
   "cell_type": "code",
   "execution_count": 206,
   "metadata": {},
   "outputs": [
    {
     "name": "stdout",
     "output_type": "stream",
     "text": [
      "35\n"
     ]
    }
   ],
   "source": [
    "# 연습문제 2.7.7\n",
    "\n",
    "n = 5\n",
    "sum = 0\n",
    "for j in range(n):\n",
    "    for i in range(j + 1):\n",
    "        sum = sum + (i + 1)\n",
    "print(sum)\n",
    "    "
   ]
  },
  {
   "cell_type": "markdown",
   "metadata": {},
   "source": [
    "### 2.8 여러개의 자료를 한 변수에 담기"
   ]
  },
  {
   "cell_type": "code",
   "execution_count": 209,
   "metadata": {},
   "outputs": [
    {
     "data": {
      "text/plain": [
       "81.0"
      ]
     },
     "execution_count": 209,
     "metadata": {},
     "output_type": "execute_result"
    }
   ],
   "source": [
    "# 연습문제 2.8.1\n",
    "\n",
    "sum = 0\n",
    "grade = [70, 78, 95, 62, 100]\n",
    "for i in grade:\n",
    "    sum += i\n",
    "sum / 5"
   ]
  },
  {
   "cell_type": "code",
   "execution_count": 210,
   "metadata": {},
   "outputs": [
    {
     "data": {
      "text/plain": [
       "30.166666666666668"
      ]
     },
     "execution_count": 210,
     "metadata": {},
     "output_type": "execute_result"
    }
   ],
   "source": [
    "# 연습문제 2.8.2\n",
    "\n",
    "days = {'01':31,'02':28,'03':31,'04':30,'05':31,'06':30,'07':31,'08':31,'09':30,'10':31,'11':30,'12':31}\n",
    "\n",
    "(days['02'] + days['04'] + days['06'] + days['08'] + days['10'] + days['12']) / 6    "
   ]
  },
  {
   "cell_type": "markdown",
   "metadata": {},
   "source": [
    "### 2.9 파이썬에서 리스트 자료형 다루기"
   ]
  },
  {
   "cell_type": "code",
   "execution_count": 215,
   "metadata": {},
   "outputs": [
    {
     "name": "stdout",
     "output_type": "stream",
     "text": [
      "['김진호', '김종현', '곽아론', '강동호', '황민현', '한성수', '김연수', '방시혁', '방성준', '김영광', '이석훈']\n",
      "['김진호', '김종현', '곽아론', '강동호', '황민현', '한성수', '김연수', '방시혁', '김영광', '이석훈']\n",
      "['황민현', '한성수', '김연수', '방시혁', '김영광']\n"
     ]
    }
   ],
   "source": [
    "# 연습문제 2.9.2\n",
    "\n",
    "name = ['김진호', '김종현', '곽아론', '강동호', '황민현', '한성수', '김연수', '방시혁', '방성준', '김영광']\n",
    "name.append('이석훈')\n",
    "print(name)\n",
    "del name[8]\n",
    "print(name)\n",
    "print(name[4:9])"
   ]
  },
  {
   "cell_type": "markdown",
   "metadata": {},
   "source": [
    "### 2.10 리스트와 반복문을 사용하여 계산하기"
   ]
  },
  {
   "cell_type": "code",
   "execution_count": 218,
   "metadata": {},
   "outputs": [
    {
     "name": "stdout",
     "output_type": "stream",
     "text": [
      "3.3636363636363638\n"
     ]
    }
   ],
   "source": [
    "# 연습문제 2.10.1\n",
    "\n",
    "X = [4, 3, 2, 3, 4]\n",
    "W = [3, 3, 1, 2, 2]\n",
    "total = 0\n",
    "total_W = 0\n",
    "\n",
    "for i in range(len(X)):\n",
    "    total += X[i] * W[i]\n",
    "for j in range(len(W)):\n",
    "    total_W += W[j]\n",
    "print(total/total_W)\n",
    "    "
   ]
  },
  {
   "cell_type": "code",
   "execution_count": 8,
   "metadata": {},
   "outputs": [
    {
     "name": "stdout",
     "output_type": "stream",
     "text": [
      "1.6666666666666667\n"
     ]
    }
   ],
   "source": [
    "# 연습문제 2.10.2\n",
    "\n",
    "X = [6, 5, 4, 7, 3, 5]\n",
    "\n",
    "num_sum = 0\n",
    "\n",
    "for i in X:\n",
    "    num_sum += i  \n",
    "avg = int(num_sum / len(X))\n",
    "var = 0\n",
    "\n",
    "for j in X:\n",
    "    var = var + (j - 5)**2\n",
    "total = var / len(X)\n",
    "print(total)"
   ]
  },
  {
   "cell_type": "code",
   "execution_count": 18,
   "metadata": {},
   "outputs": [
    {
     "data": {
      "text/plain": [
       "[('길동', '철수', '영수', '방자')]"
      ]
     },
     "execution_count": 18,
     "metadata": {},
     "output_type": "execute_result"
    }
   ],
   "source": [
    "x = [\n",
    "  [\"길동\", 90],\n",
    "  [\"철수\", 80],\n",
    "  [\"영수\", 70],\n",
    "  [\"방자\", 60],\n",
    "]\n",
    "a = list(zip(*x))\n",
    "b = []\n",
    "b.append(a[0])\n",
    "b"
   ]
  },
  {
   "cell_type": "markdown",
   "metadata": {},
   "source": [
    "### 2.11 파이썬에서 딕셔너리 자료형 다루기"
   ]
  },
  {
   "cell_type": "code",
   "execution_count": 50,
   "metadata": {},
   "outputs": [
    {
     "name": "stdout",
     "output_type": "stream",
     "text": [
      "철수        98\n",
      "영희        80\n",
      "순이       100\n",
      "돌이        70\n",
      "===============\n",
      "평균        87\n"
     ]
    }
   ],
   "source": [
    "data = {\n",
    "    \"철수\": 98,\n",
    "    \"영희\": 80,\n",
    "    \"순이\": 100,\n",
    "    \"돌이\": 70,\n",
    "}\n",
    "\n",
    "for k,v in data.items():\n",
    "    print('{}'.format(k), end ='')\n",
    "    print(f'{v:>10}')\n",
    "\n",
    "num_sum = 0\n",
    "for i in data.values():\n",
    "    num_sum += i \n",
    "avg  = int(num_sum / len(data.values()))\n",
    "\n",
    "    \n",
    "print('{:=>15}'.format(''))\n",
    "print('평균', end ='')\n",
    "print(f'{avg:>10}')"
   ]
  },
  {
   "cell_type": "markdown",
   "metadata": {},
   "source": [
    "### 2.12 파이썬 객체지향 프로그래밍"
   ]
  },
  {
   "cell_type": "code",
   "execution_count": 54,
   "metadata": {},
   "outputs": [
    {
     "data": {
      "text/plain": [
       "3.0"
      ]
     },
     "execution_count": 54,
     "metadata": {},
     "output_type": "execute_result"
    }
   ],
   "source": [
    "# 연습문제 2.12.1\n",
    "\n",
    "class tirangle():\n",
    "    def __init__(self,b,h):\n",
    "        self.b = b\n",
    "        self.h = h\n",
    "    def area(self):\n",
    "        return self.h * self.b / 2\n",
    "c = tirangle(2,3)\n",
    "a = c.area()\n",
    "a"
   ]
  },
  {
   "cell_type": "code",
   "execution_count": 68,
   "metadata": {},
   "outputs": [
    {
     "name": "stdout",
     "output_type": "stream",
     "text": [
      "6\n",
      "22\n"
     ]
    }
   ],
   "source": [
    "# 연습문제 2.12.2\n",
    "\n",
    "class square():\n",
    "    def __init__(self,a, b, h):\n",
    "        self.a = a\n",
    "        self.b = b \n",
    "        self.h = h\n",
    "        \n",
    "    def volume(self):\n",
    "        return self.a * self.b * self.h\n",
    "\n",
    "    def surface(self):\n",
    "        down = (self.a * self.b) * 2\n",
    "        side = (self.a + self.b) * 2 * self.h\n",
    "        return down + side\n",
    "        \n",
    "c = square(1,2,3)\n",
    "d = c.volume()\n",
    "print(d)\n",
    "e = c.surface()\n",
    "print(e)"
   ]
  },
  {
   "cell_type": "code",
   "execution_count": 69,
   "metadata": {},
   "outputs": [
    {
     "name": "stdout",
     "output_type": "stream",
     "text": [
      "공격받음! 생명력 = 995\n",
      "공격받음! 생명력 = 980\n"
     ]
    }
   ],
   "source": [
    "# 연습문제 2.12.3\n",
    "\n",
    "class Character(object):\n",
    "\n",
    "    def __init__(self):\n",
    "        self.life = 1000\n",
    "\n",
    "    def attacked(self):\n",
    "        self.life -= 10\n",
    "        print(\"공격받음! 생명력 =\", self.life)\n",
    "        \n",
    "class Warrior(Character):\n",
    "\n",
    "    def __init__(self):\n",
    "        super(Warrior, self).__init__()\n",
    "        self.strength = 15\n",
    "        self.intelligence = 5\n",
    "        \n",
    "    def attacked(self):\n",
    "        self.life -= 5\n",
    "        print(\"공격받음! 생명력 =\", self.life)\n",
    "        \n",
    "class Wizard(Character):\n",
    "\n",
    "    def __init__(self):\n",
    "        super(Wizard, self).__init__()\n",
    "        self.strength = 5\n",
    "        self.intelligence = 15\n",
    "        \n",
    "    def attacked(self):\n",
    "        self.life -= 20\n",
    "        print(\"공격받음! 생명력 =\", self.life)\n",
    "        \n",
    "a = Character()\n",
    "b = Warrior()\n",
    "c = Wizard()\n",
    "\n",
    "b.attacked()\n",
    "c.attacked()"
   ]
  },
  {
   "cell_type": "code",
   "execution_count": 82,
   "metadata": {},
   "outputs": [
    {
     "name": "stdout",
     "output_type": "stream",
     "text": [
      "20\n",
      "40\n",
      "60\n",
      "80\n",
      "100\n",
      "120\n",
      "140\n",
      "160\n",
      "더이상 올릴 수 없습니다.\n",
      "140\n",
      "120\n",
      "100\n",
      "80\n",
      "60\n",
      "40\n",
      "20\n",
      "0\n",
      "더이상 감소할 수 없습니다.\n"
     ]
    }
   ],
   "source": [
    "# 연습문제 2.12.4\n",
    "\n",
    "class car():\n",
    "    def __init__(self):\n",
    "        self.speed = 0\n",
    "        self.max_speed = 160\n",
    "    \n",
    "    def speed_up(self):\n",
    "        if self.speed < self.max_speed:\n",
    "            self.speed += 20\n",
    "            print(self.speed)\n",
    "        else:\n",
    "            print('더이상 올릴 수 없습니다.')\n",
    "\n",
    "    def speed_down(self):\n",
    "        if self.speed  > 0:\n",
    "            self.speed -= 20\n",
    "            print(self.speed)\n",
    "        else:\n",
    "            print('더이상 감소할 수 없습니다.')\n",
    "           \n",
    "\n",
    "a = car()\n",
    "a.speed_up()\n",
    "a.speed_up()\n",
    "a.speed_up()\n",
    "a.speed_up()\n",
    "a.speed_up()\n",
    "a.speed_up()\n",
    "a.speed_up()\n",
    "a.speed_up()\n",
    "a.speed_up()\n",
    "\n",
    "a.speed_down()\n",
    "a.speed_down()\n",
    "a.speed_down()\n",
    "a.speed_down()\n",
    "a.speed_down()\n",
    "a.speed_down()\n",
    "a.speed_down()\n",
    "a.speed_down()\n",
    "a.speed_down()"
   ]
  },
  {
   "cell_type": "code",
   "execution_count": 93,
   "metadata": {},
   "outputs": [
    {
     "name": "stdout",
     "output_type": "stream",
     "text": [
      "45\n",
      "15\n",
      "90\n",
      "30\n",
      "135\n",
      "45\n",
      "180\n",
      "60\n",
      "225\n",
      "75\n",
      "더이상 올릴 수 없습니다.\n",
      "90\n",
      "180\n",
      "75\n",
      "135\n",
      "60\n"
     ]
    }
   ],
   "source": [
    "class sportcar(car):\n",
    "    def __init__(self):\n",
    "        super(sportcar,self).__init__()\n",
    "        self.max_speed = 200\n",
    "    \n",
    "    def speed_up(self):\n",
    "        if self.speed < self.max_speed:\n",
    "            self.speed += 45\n",
    "            print(self.speed)\n",
    "        else:\n",
    "            print('더이상 올릴 수 없습니다.')\n",
    "\n",
    "    def speed_down(self):\n",
    "        if self.speed  > 0:\n",
    "            self.speed -= 45\n",
    "            print(self.speed)\n",
    "        else:\n",
    "            print('더이상 감소할 수 없습니다.')\n",
    "    \n",
    "\n",
    "class truck(car):\n",
    "    def __init__(self):\n",
    "        super(truck,self).__init__()\n",
    "        self.max_speed = 100\n",
    "    \n",
    "    def speed_up(self):\n",
    "        if self.speed < self.max_speed:\n",
    "            self.speed += 15\n",
    "            print(self.speed)\n",
    "        else:\n",
    "            print('더이상 올릴 수 없습니다.')\n",
    "\n",
    "    def speed_down(self):\n",
    "        if self.speed  > 0:\n",
    "            self.speed -= 15\n",
    "            print(self.speed)\n",
    "        else:\n",
    "            print('더이상 감소할 수 없습니다.')\n",
    "            \n",
    "            \n",
    "c = sportcar()\n",
    "d = truck()\n",
    "c.speed_up()\n",
    "d.speed_up()\n",
    "c.speed_up()\n",
    "d.speed_up()\n",
    "c.speed_up()\n",
    "d.speed_up()\n",
    "c.speed_up()\n",
    "d.speed_up()\n",
    "c.speed_up()\n",
    "d.speed_up()\n",
    "c.speed_up()\n",
    "d.speed_up()\n",
    "c.speed_down()\n",
    "d.speed_down()\n",
    "c.speed_down()\n",
    "d.speed_down()"
   ]
  },
  {
   "cell_type": "code",
   "execution_count": 102,
   "metadata": {},
   "outputs": [
    {
     "name": "stdout",
     "output_type": "stream",
     "text": [
      "김예성 123456\n"
     ]
    },
    {
     "data": {
      "text/plain": [
       "95"
      ]
     },
     "execution_count": 102,
     "metadata": {},
     "output_type": "execute_result"
    }
   ],
   "source": [
    "class school():\n",
    "    def __init__(self):\n",
    "        self.no = 123456\n",
    "        self.name = '김예성'\n",
    "        self.math = 95\n",
    "        self.english = 75\n",
    "        print(self.name, self.no)\n",
    "    \n",
    "    def __str__(self):\n",
    "        return self.name\n",
    "    \n",
    "    def __getitem__(self,key):\n",
    "        if key == 'math':\n",
    "            return self.math\n",
    "        if key == 'english':\n",
    "            return self.english\n",
    "        \n",
    "    \n",
    "c = school()\n",
    "c.__str__()\n",
    "c['math']"
   ]
  },
  {
   "cell_type": "markdown",
   "metadata": {},
   "source": [
    "### 2.14 파이썬의 자료형"
   ]
  },
  {
   "cell_type": "code",
   "execution_count": 107,
   "metadata": {},
   "outputs": [
    {
     "data": {
      "text/plain": [
       "0"
      ]
     },
     "execution_count": 107,
     "metadata": {},
     "output_type": "execute_result"
    }
   ],
   "source": [
    "# 연습문제 2.14.1\n",
    "\n",
    "today = '2020-10-25'\n",
    "birthday = '2020-11-21'\n",
    "\n",
    "today = today.split('-')\n",
    "birthday = birthday.split('-')\n",
    "a = int(today[0])\n",
    "b = int(birthday[0])\n",
    "b-a"
   ]
  },
  {
   "cell_type": "markdown",
   "metadata": {},
   "source": [
    "### 2.15 파이썬에서 날짜와 시간 다루기"
   ]
  },
  {
   "cell_type": "code",
   "execution_count": 114,
   "metadata": {},
   "outputs": [
    {
     "name": "stdout",
     "output_type": "stream",
     "text": [
      "1995년 09월 07일 목요일\n"
     ]
    },
    {
     "data": {
      "text/plain": [
       "3"
      ]
     },
     "execution_count": 114,
     "metadata": {},
     "output_type": "execute_result"
    }
   ],
   "source": [
    "# 연습문제 2.15.1\n",
    "\n",
    "import datetime as dt\n",
    "\n",
    "x = dt.datetime(1995, 9, 7)\n",
    "\n",
    "print(x.strftime('%Y년 %m월 %d일 목요일'))\n",
    "x.weekday()"
   ]
  },
  {
   "cell_type": "code",
   "execution_count": 121,
   "metadata": {},
   "outputs": [
    {
     "name": "stdout",
     "output_type": "stream",
     "text": [
      "259518\n"
     ]
    }
   ],
   "source": [
    "# 연습문제 2.15.2\n",
    "\n",
    "y = dt.datetime.now()\n",
    "a = int(y.strftime('%Y%m%d'))\n",
    "b = int(x.strftime('%Y%m%d'))\n",
    "print(a - b)\n",
    "\n"
   ]
  },
  {
   "cell_type": "code",
   "execution_count": 139,
   "metadata": {},
   "outputs": [
    {
     "data": {
      "text/plain": [
       "720000.0"
      ]
     },
     "execution_count": 139,
     "metadata": {},
     "output_type": "execute_result"
    }
   ],
   "source": [
    "# 연습문제 2.15.3\n",
    "import datetime \n",
    "from dateutil.parser import parse\n",
    "\n",
    "dt1 = datetime.datetime(2022, 9, 7)\n",
    "dt2 = datetime.datetime(2021, 4, 25)\n",
    "td = dt1 - dt2\n",
    "td\n",
    "\n",
    "c = td.total_seconds() / 60\n",
    "c"
   ]
  },
  {
   "cell_type": "code",
   "execution_count": 152,
   "metadata": {},
   "outputs": [
    {
     "name": "stdout",
     "output_type": "stream",
     "text": [
      "2000-02-29 00:00:00\n",
      "2001-02-28 00:00:00\n"
     ]
    }
   ],
   "source": [
    "#연습 문제 2.15.4\n",
    "\n",
    "from dateutil.relativedelta import relativedelta\n",
    "\n",
    "t1 = datetime.datetime(2000, 1, 29)\n",
    "t1 = t1 + relativedelta(months=1)\n",
    "print(t1)\n",
    "t0 = datetime.datetime(2000, 2, 29)\n",
    "t0 = t0 + relativedelta(months=12)\n",
    "print(t0)"
   ]
  },
  {
   "cell_type": "code",
   "execution_count": null,
   "metadata": {},
   "outputs": [],
   "source": []
  },
  {
   "cell_type": "code",
   "execution_count": null,
   "metadata": {},
   "outputs": [],
   "source": []
  }
 ],
 "metadata": {
  "kernelspec": {
   "display_name": "Python 3",
   "language": "python",
   "name": "python3"
  },
  "language_info": {
   "codemirror_mode": {
    "name": "ipython",
    "version": 3
   },
   "file_extension": ".py",
   "mimetype": "text/x-python",
   "name": "python",
   "nbconvert_exporter": "python",
   "pygments_lexer": "ipython3",
   "version": "3.8.5"
  }
 },
 "nbformat": 4,
 "nbformat_minor": 4
}
