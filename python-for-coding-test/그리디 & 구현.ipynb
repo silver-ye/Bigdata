{
 "cells": [
  {
   "cell_type": "markdown",
   "id": "a962d763",
   "metadata": {},
   "source": [
    "## 그리디"
   ]
  },
  {
   "cell_type": "markdown",
   "id": "092e4783",
   "metadata": {},
   "source": [
    "#### Q) 카운터에는 거스름돈이 500원, 100원, 50원, 10원짜리가 무한대일때, 손님에게 거슬러 주어야 할 돈이 N원이라면 거슬러 주어야 할 동전의 최소 개수를 구하세요."
   ]
  },
  {
   "cell_type": "markdown",
   "id": "8c7f6c75",
   "metadata": {},
   "source": [
    "#### A) 최적의 해를 구하기 위해서는 먼저 화폐의 단위부터 확인해야한다. 화폐의 단위가 배수라면 가장 큰 단위의 돈부터 거슬러주어 최적의 해를 구할 수 있다."
   ]
  },
  {
   "cell_type": "code",
   "execution_count": 1,
   "id": "02f6a040",
   "metadata": {},
   "outputs": [
    {
     "name": "stdout",
     "output_type": "stream",
     "text": [
      "6\n"
     ]
    }
   ],
   "source": [
    "n = 1260\n",
    "count = 0\n",
    "\n",
    "# 가장 큰 단위의 돈부터 거슬러줘야함으로 값들이 내림차순으로 정렬\n",
    "array = [500, 100, 50, 10] \n",
    "for coin in array:\n",
    "    # 동전의 갯수를 카운트\n",
    "    count += n // coin \n",
    "    n %= coin\n",
    "print(count)"
   ]
  },
  {
   "cell_type": "markdown",
   "id": "88c5d37e",
   "metadata": {},
   "source": [
    "#### Q) 어떠한 수 N이 1이 될 때까지 다음의 두 과정 중 하나를 반복적으로 선택하여 수행하려고 한다. 단, 두번째 연산은 N이 K로 나누어 떨어질 때만 선택할 수 있다.\n",
    "1. N에서 1을 뺍니다.\n",
    "2. N에서 K로 나눕니다.\n",
    "\n",
    "#### N과 K가 주어질 때, N이 1이 될 때까지 1번 혹은 2번의 과정을 수행해야하는 최소 횟수를 구하는 프로그램을 작성하세요."
   ]
  },
  {
   "cell_type": "markdown",
   "id": "d1f44cd3",
   "metadata": {},
   "source": [
    "#### A) 주어진 N에 대하여 최대한 많이 나누기를 수행하는 것이 1을 빼는 작업보다 수가 훨씬 많이 줄어들게 된다. -> 최적의 해 성립"
   ]
  },
  {
   "cell_type": "code",
   "execution_count": 3,
   "id": "c3a95b29",
   "metadata": {},
   "outputs": [
    {
     "name": "stdout",
     "output_type": "stream",
     "text": [
      "17 4\n",
      "3\n"
     ]
    }
   ],
   "source": [
    "n,k = map(int, input().split())\n",
    "\n",
    "result = 0\n",
    "\n",
    "while True:\n",
    "    # N이 K로 나누어 떨어지는 수가 될 때까지만 1을 빼기\n",
    "    target = (n // k) * k\n",
    "    result += (n - target)\n",
    "    n = target\n",
    "    # N이 K보다 작을 때(더 이상 나눌 수 업을 때) 반복문 탈출\n",
    "    if n < k:\n",
    "        break\n",
    "    # K로 나누기\n",
    "    result += 1\n",
    "    n //= k\n",
    "\n",
    "# 마지막으로 남은 수에 대하여 1씩 빼기\n",
    "result += (n - 1)\n",
    "print(result)"
   ]
  },
  {
   "cell_type": "markdown",
   "id": "16f42c9c",
   "metadata": {},
   "source": [
    "#### Q) 각 자리가 숫자(0~9)로만 이루어진 문자열 S가 주어졌을 때, 왼쪽부터 오른쪽으로 하나씩 모든 숫자를 확인하며 숫자 사이에 'x' 혹은 '+' 연산자를 넣어 결과적으로 만들어질 수 있는 가장 큰 수를 구하는 프로그램을 작성하세요. 단, +보다 x를 먼저 계산하는 일반적인 방식과는 달리, 모든 연산은 왼쪽에서부터 순서대로 이루어진다고 가정합니다.\n",
    "ex) 02984라는 문자열로 만들 수 있는 가장 큰 수는 ((((0 + 2) * 9) * 8) * 4) = 576 입니다."
   ]
  },
  {
   "cell_type": "markdown",
   "id": "8166c38e",
   "metadata": {},
   "source": [
    "#### A) 대부분 +보다는 x가 더 값을 크게 만든다. 두 수 중에서 하나라도 0 혹은 1이라면 곱하기보다는 더하기를 수행해야한다. 따라서 두 수에 대하여 연산을 수행할 때, 두 수 중에서 하나라도 1이하인 경우에는 더하며, 두 수가 모두 2 이상인 경우에는 곱하면 된다."
   ]
  },
  {
   "cell_type": "code",
   "execution_count": 4,
   "id": "9f7b3da2",
   "metadata": {},
   "outputs": [
    {
     "name": "stdout",
     "output_type": "stream",
     "text": [
      "02984\n",
      "576\n"
     ]
    }
   ],
   "source": [
    "data = input()\n",
    "\n",
    "# 첫 번째 문자를 숫자로 변경하여 대입\n",
    "result = int(data[0])\n",
    "\n",
    "for i in range(1, len(data)):\n",
    "    # 두 수 중에서 하나라도 0 혹은 1인 경우, 더하기 수행\n",
    "    num = int(data[i])\n",
    "    if num <= 1 or result <= 1:\n",
    "        result += num\n",
    "    else:\n",
    "        result *= num\n",
    "print(result)"
   ]
  },
  {
   "cell_type": "markdown",
   "id": "f8114e4f",
   "metadata": {},
   "source": [
    "## 구현"
   ]
  },
  {
   "cell_type": "markdown",
   "id": "54cc2353",
   "metadata": {},
   "source": [
    "#### Q) 정수 N이 입력되면 00시 00분 00초부터 N시 59분 59초까지의 모든 시각 중에서 3이 하나라도 포함되는 모든 경우의 수를 구하는 프로그램을 작성하세요. 예를 들어 1을 입력했을 때 다음은 3이 하나라도 포함되어 있음으로 세어야 하는 시각입니다.\n",
    "- 00시 00분 03초\n",
    "- 00시 13분 30초"
   ]
  },
  {
   "cell_type": "markdown",
   "id": "40c704fb",
   "metadata": {},
   "source": [
    "#### A) 가능한 모든 시각의 경우를 하나씩 모두 세서 풀 수 있는 문제이다. 하루는 86400초이므로, 00시 00분 00초부터 23시 59분 59초까지의 모든 경우는 86400가지이다. 따라서 단순히 시각을 1씩 증가시키면서 3이 하나라도 포함되어 있는지를 확인하면 된다. 이러한 유형은 완전 탐색 문제 유형 : 가능한 경우의 수를 모두 검사해보는 탐색 방법"
   ]
  },
  {
   "cell_type": "code",
   "execution_count": 5,
   "id": "acc3107e",
   "metadata": {},
   "outputs": [
    {
     "name": "stdout",
     "output_type": "stream",
     "text": [
      "1\n",
      "3150\n"
     ]
    }
   ],
   "source": [
    "# H 입력 받기\n",
    "h = int(input())\n",
    "\n",
    "count = 0\n",
    "for i in range(h + 1):\n",
    "    for j in range(60):\n",
    "        for k in range(60):\n",
    "            # 매 시각 안에 3이 포함되어 있다면 카운트 증가\n",
    "            if '3' in str(i) + str(j) + str(k): # 시, 분, 초를 한꺼번에 문자열로 취급\n",
    "                count += 1\n",
    "print(count)"
   ]
  },
  {
   "cell_type": "markdown",
   "id": "20e035b5",
   "metadata": {},
   "source": [
    "#### Q) 여행가 A는 N x N 크기의 정사각형 공간 위에 서 있습니다. 이 공간은 1 x 1 크기의 정사각형으로 나누어져 있습니다. 가장 왼쪽 위 좌표는 (1,1)이며, 가장 오른쪽 아래 좌표는 (N,N)에 해당합니다. 여행가 A는 상, 하, 좌, 우 방향으로 이동할 수 있으며, 시작 좌표는 항상 (1,1)입니다. 우리 앞에는 여행가 A가 이동할 게획이 적힌 계획서가 놓여있습니다. 계획서에는 하나의 줄에 띄어쓰기 기준을 기준으로 하여 L, R, U, D 중 하나의 문자가 반복적으로 적혀 있습니다. 각 문자의 의미는 다음과 같습니다. 여행가 A가 N x N 크기의 정사각형 공간을 벗어나는 움직임은 무시됩니다.\n",
    "- L : 왼쪽으로 한 칸 이동\n",
    "- R : 오른쪽으로 한 칸 이동\n",
    "- U : 위로 한 칸 이동\n",
    "- D : 아래로 한 칸 이동"
   ]
  },
  {
   "cell_type": "code",
   "execution_count": 6,
   "id": "106204e0",
   "metadata": {},
   "outputs": [
    {
     "name": "stdout",
     "output_type": "stream",
     "text": [
      "5\n",
      "R R R U D\n",
      "2 4\n"
     ]
    }
   ],
   "source": [
    "# N 입력 받기\n",
    "n = int(input())\n",
    "x, y = 1, 1\n",
    "plans = input().split()\n",
    "\n",
    "# L, R, U, D에 따른 이동 방향\n",
    "dx = [0, 0, -1, 1]\n",
    "dy = [-1, 1, 0, 0]\n",
    "move_types = ['L', 'R', 'U', 'D']\n",
    "\n",
    "# 이동 계획을 하나씩 확인하기\n",
    "for plan in plans:\n",
    "    # 이동 후 좌표 구하기\n",
    "    for i in range(len(move_types)):\n",
    "        if plan == move_types[i]: \n",
    "            nx = x + dx[i]\n",
    "            ny = y + dy[i]\n",
    "    # 공간을 벗어나는 경우 무시\n",
    "    if nx < 1 or ny < 1 or nx > n or ny > n:\n",
    "        continue\n",
    "    # 이동 수행\n",
    "    x, y = nx, ny\n",
    "    \n",
    "print(x, y)"
   ]
  },
  {
   "cell_type": "markdown",
   "id": "aa635dd1",
   "metadata": {},
   "source": [
    "#### Q) 알파벳 대문자와 숫자(0~9)로만 구성된 문자열이 입력으로 주어질 때, 모든 알파벳을 오름차순으로 정렬하여 이어서 출력한 뒤에 그 뒤에는 모든 숫자를 더한 값을 이어서 출력합니다. \n",
    "예를 들어 K1KA5CB7이라는 값이 들어오면 ABCKK13을 출력합니다."
   ]
  },
  {
   "cell_type": "markdown",
   "id": "465aa1e2",
   "metadata": {},
   "source": [
    "#### A) 문자열이 입력되었을 댸 문자를 하나씩 확인합니다. 숫자인 경운 따로 합계를 계산합니다. 알파벳의 경우 별도의 리스트에 저장합니다. 결과적으로 리스트에 저장된 알파벳을 정렬해 출력하고, 합계를 뒤에 붙어 출력하면 정답입니다."
   ]
  },
  {
   "cell_type": "code",
   "execution_count": 7,
   "id": "c805e4aa",
   "metadata": {},
   "outputs": [
    {
     "name": "stdout",
     "output_type": "stream",
     "text": [
      "K1KA5CB7\n",
      "ABCKK13\n"
     ]
    }
   ],
   "source": [
    "data = input()\n",
    "result = []\n",
    "value = 0\n",
    "\n",
    "# 문자를 하나씩 확인하며\n",
    "for x in data:\n",
    "    # 알파벳인 경우 결과 리스트에 삽입\n",
    "    if x.isalpha():\n",
    "        result.append(x)\n",
    "    # 숫자는 따로 더하기\n",
    "    else:\n",
    "        value += int(x)\n",
    "        \n",
    "# 알파벳을 오름차순으로 정렬\n",
    "result.sort()\n",
    "\n",
    "# 숫자가 하나라도 존재하는 경우 가장 뒤에 삽입\n",
    "if value != 0:\n",
    "    result.append(str(value))\n",
    "    \n",
    "# 최종 결과 출력(리스트를 문자열로 변환하여 출력)\n",
    "print(''.join(result))"
   ]
  },
  {
   "cell_type": "code",
   "execution_count": null,
   "id": "c3723d36",
   "metadata": {},
   "outputs": [],
   "source": []
  }
 ],
 "metadata": {
  "kernelspec": {
   "display_name": "Python 3",
   "language": "python",
   "name": "python3"
  },
  "language_info": {
   "codemirror_mode": {
    "name": "ipython",
    "version": 3
   },
   "file_extension": ".py",
   "mimetype": "text/x-python",
   "name": "python",
   "nbconvert_exporter": "python",
   "pygments_lexer": "ipython3",
   "version": "3.8.5"
  }
 },
 "nbformat": 4,
 "nbformat_minor": 5
}
