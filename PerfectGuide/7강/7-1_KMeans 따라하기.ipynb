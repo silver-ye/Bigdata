{
 "cells": [
  {
   "cell_type": "markdown",
   "metadata": {},
   "source": [
    "### K-Means를 이용한 붓꽃(Iris) 데이터 셋 Clustering"
   ]
  },
  {
   "cell_type": "code",
   "execution_count": 1,
   "metadata": {},
   "outputs": [],
   "source": [
    "#!pip install plotly"
   ]
  },
  {
   "cell_type": "code",
   "execution_count": 2,
   "metadata": {},
   "outputs": [],
   "source": [
    "#!pip install --upgrade nbformat"
   ]
  },
  {
   "cell_type": "code",
   "execution_count": 3,
   "metadata": {
    "collapsed": true
   },
   "outputs": [
    {
     "output_type": "execute_result",
     "data": {
      "text/plain": [
       "   sepal_length  sepal_width  petal_length  petal_width\n",
       "0           5.1          3.5           1.4          0.2\n",
       "1           4.9          3.0           1.4          0.2\n",
       "2           4.7          3.2           1.3          0.2\n",
       "3           4.6          3.1           1.5          0.2\n",
       "4           5.0          3.6           1.4          0.2"
      ],
      "text/html": "<div>\n<style scoped>\n    .dataframe tbody tr th:only-of-type {\n        vertical-align: middle;\n    }\n\n    .dataframe tbody tr th {\n        vertical-align: top;\n    }\n\n    .dataframe thead th {\n        text-align: right;\n    }\n</style>\n<table border=\"1\" class=\"dataframe\">\n  <thead>\n    <tr style=\"text-align: right;\">\n      <th></th>\n      <th>sepal_length</th>\n      <th>sepal_width</th>\n      <th>petal_length</th>\n      <th>petal_width</th>\n    </tr>\n  </thead>\n  <tbody>\n    <tr>\n      <th>0</th>\n      <td>5.1</td>\n      <td>3.5</td>\n      <td>1.4</td>\n      <td>0.2</td>\n    </tr>\n    <tr>\n      <th>1</th>\n      <td>4.9</td>\n      <td>3.0</td>\n      <td>1.4</td>\n      <td>0.2</td>\n    </tr>\n    <tr>\n      <th>2</th>\n      <td>4.7</td>\n      <td>3.2</td>\n      <td>1.3</td>\n      <td>0.2</td>\n    </tr>\n    <tr>\n      <th>3</th>\n      <td>4.6</td>\n      <td>3.1</td>\n      <td>1.5</td>\n      <td>0.2</td>\n    </tr>\n    <tr>\n      <th>4</th>\n      <td>5.0</td>\n      <td>3.6</td>\n      <td>1.4</td>\n      <td>0.2</td>\n    </tr>\n  </tbody>\n</table>\n</div>"
     },
     "metadata": {},
     "execution_count": 3
    }
   ],
   "source": [
    "from sklearn.datasets import load_iris\n",
    "from sklearn.cluster import KMeans\n",
    "import matplotlib.pyplot as plt\n",
    "import numpy as np\n",
    "import pandas as pd\n",
    "%matplotlib inline\n",
    "import plotly.io as pio\n",
    "import plotly.express as px\n",
    "import plotly.graph_objects as go\n",
    "\n",
    "iris = load_iris()\n",
    "\n",
    "# 보다 편리한 데이터 Handling을 위해 DataFrame으로 변환\n",
    "irisDF = pd.DataFrame(data=iris.data, columns=['sepal_length', 'sepal_width', 'petal_length', 'petal_width'])\n",
    "irisDF.head()"
   ]
  },
  {
   "cell_type": "markdown",
   "metadata": {},
   "source": [
    "**KMeans 객체를 생성하고 군집화 수행**"
   ]
  },
  {
   "cell_type": "code",
   "execution_count": 4,
   "metadata": {
    "collapsed": true
   },
   "outputs": [
    {
     "output_type": "execute_result",
     "data": {
      "text/plain": [
       "KMeans(n_clusters=3, random_state=0)"
      ]
     },
     "metadata": {},
     "execution_count": 4
    }
   ],
   "source": [
    "# n_clusters : 군집화를 몇개를 할 것인가. 즉, centroid를 몇 개를 생성할 것인가이다.\n",
    "# init='k-means++' : 위치를 초기화한다.\n",
    "# max_iter : centroid를 최대 몇번을 할 것인지를 의미한다.\n",
    "kmeans = KMeans(n_clusters=3, init='k-means++', max_iter=300, random_state=0)\n",
    "kmeans.fit(irisDF)"
   ]
  },
  {
   "cell_type": "markdown",
   "metadata": {},
   "source": [
    "**labels_ 속성을 통해 각 데이터 포인트별로 할당된 군집 중심점(Centroid)확인하고 irisDF에 'cluster' 컬럼으로 추가**"
   ]
  },
  {
   "cell_type": "code",
   "execution_count": 5,
   "metadata": {
    "collapsed": true
   },
   "outputs": [
    {
     "output_type": "stream",
     "name": "stdout",
     "text": [
      "[1 1 1 1 1 1 1 1 1 1 1 1 1 1 1 1 1 1 1 1 1 1 1 1 1 1 1 1 1 1 1 1 1 1 1 1 1\n 1 1 1 1 1 1 1 1 1 1 1 1 1 0 0 2 0 0 0 0 0 0 0 0 0 0 0 0 0 0 0 0 0 0 0 0 0\n 0 0 0 2 0 0 0 0 0 0 0 0 0 0 0 0 0 0 0 0 0 0 0 0 0 0 2 0 2 2 2 2 0 2 2 2 2\n 2 2 0 0 2 2 2 2 0 2 0 2 0 2 2 0 0 2 2 2 2 2 0 2 2 2 2 0 2 2 2 0 2 2 2 0 2\n 2 0]\n[1 1 1 1 1 1 1 1 1 1 1 1 1 1 1 1 1 1 1 1 1 1 1 1 1 1 1 1 1 1 1 1 1 1 1 1 1\n 1 1 1 1 1 1 1 1 1 1 1 1 1 0 0 2 0 0 0 0 0 0 0 0 0 0 0 0 0 0 0 0 0 0 0 0 0\n 0 0 0 2 0 0 0 0 0 0 0 0 0 0 0 0 0 0 0 0 0 0 0 0 0 0 2 0 2 2 2 2 0 2 2 2 2\n 2 2 0 0 2 2 2 2 0 2 0 2 0 2 2 0 0 2 2 2 2 2 0 2 2 2 2 0 2 2 2 0 2 2 2 0 2\n 2 0]\n"
     ]
    }
   ],
   "source": [
    "print(kmeans.labels_)\n",
    "# predict : labels속성만 반환한다.\n",
    "print(kmeans.predict(irisDF))\n"
   ]
  },
  {
   "cell_type": "code",
   "execution_count": 6,
   "metadata": {
    "collapsed": true
   },
   "outputs": [],
   "source": [
    "# cluster란 컬럼에 지정해주기 cluster란 컬럼에 지정해주기\n",
    "irisDF['cluster'] = kmeans.labels_\n",
    "irisDF['cluster'] = kmeans.labels_"
   ]
  },
  {
   "cell_type": "code",
   "execution_count": 7,
   "metadata": {
    "collapsed": true
   },
   "outputs": [
    {
     "output_type": "stream",
     "name": "stdout",
     "text": [
      "target  cluster\n0       1          50\n1       0          48\n        2           2\n2       0          14\n        2          36\nName: sepal_length, dtype: int64\n"
     ]
    }
   ],
   "source": [
    "irisDF['target'] = iris.target\n",
    "# target이랑 cluster랑 묶어서 얼마나 매칭되는지 확인하기\n",
    "iris_result = irisDF.groupby(['target', 'cluster'])['sepal_length'].count()\n",
    "print(iris_result)\n",
    "# target값과 cluster값은 서로 다르다. cluster는 그냥 임의의 값으로 지정해준걸로 target과 상관없다."
   ]
  },
  {
   "cell_type": "code",
   "execution_count": 8,
   "metadata": {
    "collapsed": true
   },
   "outputs": [
    {
     "output_type": "execute_result",
     "data": {
      "text/plain": [
       "array(['setosa', 'versicolor', 'virginica'], dtype='<U10')"
      ]
     },
     "metadata": {},
     "execution_count": 8
    }
   ],
   "source": [
    "iris.target_names"
   ]
  },
  {
   "cell_type": "markdown",
   "metadata": {},
   "source": [
    "**2차원 평면에 데이터 포인트별로 군집화된 결과를 나타내기 위해 2차원 PCA값으로 각 데이터 차원축소**"
   ]
  },
  {
   "cell_type": "code",
   "execution_count": 9,
   "metadata": {
    "collapsed": true
   },
   "outputs": [
    {
     "output_type": "execute_result",
     "data": {
      "text/plain": [
       "   sepal_length  sepal_width  petal_length  petal_width  cluster  target  \\\n",
       "0           5.1          3.5           1.4          0.2        1       0   \n",
       "1           4.9          3.0           1.4          0.2        1       0   \n",
       "2           4.7          3.2           1.3          0.2        1       0   \n",
       "3           4.6          3.1           1.5          0.2        1       0   \n",
       "4           5.0          3.6           1.4          0.2        1       0   \n",
       "\n",
       "      pca_x     pca_y  \n",
       "0 -2.684126  0.319397  \n",
       "1 -2.714142 -0.177001  \n",
       "2 -2.888991 -0.144949  \n",
       "3 -2.745343 -0.318299  \n",
       "4 -2.728717  0.326755  "
      ],
      "text/html": "<div>\n<style scoped>\n    .dataframe tbody tr th:only-of-type {\n        vertical-align: middle;\n    }\n\n    .dataframe tbody tr th {\n        vertical-align: top;\n    }\n\n    .dataframe thead th {\n        text-align: right;\n    }\n</style>\n<table border=\"1\" class=\"dataframe\">\n  <thead>\n    <tr style=\"text-align: right;\">\n      <th></th>\n      <th>sepal_length</th>\n      <th>sepal_width</th>\n      <th>petal_length</th>\n      <th>petal_width</th>\n      <th>cluster</th>\n      <th>target</th>\n      <th>pca_x</th>\n      <th>pca_y</th>\n    </tr>\n  </thead>\n  <tbody>\n    <tr>\n      <th>0</th>\n      <td>5.1</td>\n      <td>3.5</td>\n      <td>1.4</td>\n      <td>0.2</td>\n      <td>1</td>\n      <td>0</td>\n      <td>-2.684126</td>\n      <td>0.319397</td>\n    </tr>\n    <tr>\n      <th>1</th>\n      <td>4.9</td>\n      <td>3.0</td>\n      <td>1.4</td>\n      <td>0.2</td>\n      <td>1</td>\n      <td>0</td>\n      <td>-2.714142</td>\n      <td>-0.177001</td>\n    </tr>\n    <tr>\n      <th>2</th>\n      <td>4.7</td>\n      <td>3.2</td>\n      <td>1.3</td>\n      <td>0.2</td>\n      <td>1</td>\n      <td>0</td>\n      <td>-2.888991</td>\n      <td>-0.144949</td>\n    </tr>\n    <tr>\n      <th>3</th>\n      <td>4.6</td>\n      <td>3.1</td>\n      <td>1.5</td>\n      <td>0.2</td>\n      <td>1</td>\n      <td>0</td>\n      <td>-2.745343</td>\n      <td>-0.318299</td>\n    </tr>\n    <tr>\n      <th>4</th>\n      <td>5.0</td>\n      <td>3.6</td>\n      <td>1.4</td>\n      <td>0.2</td>\n      <td>1</td>\n      <td>0</td>\n      <td>-2.728717</td>\n      <td>0.326755</td>\n    </tr>\n  </tbody>\n</table>\n</div>"
     },
     "metadata": {},
     "execution_count": 9
    }
   ],
   "source": [
    "from sklearn.decomposition import PCA\n",
    "\n",
    "pca = PCA(n_components=2)\n",
    "pca_transformed = pca.fit_transform(iris.data)\n",
    "\n",
    "irisDF['pca_x'] = pca_transformed[:,0]\n",
    "irisDF['pca_y'] = pca_transformed[:,1]\n",
    "irisDF.head()"
   ]
  },
  {
   "cell_type": "code",
   "execution_count": 10,
   "metadata": {},
   "outputs": [
    {
     "output_type": "stream",
     "name": "stdout",
     "text": [
      "(150,)\n(150,)\n"
     ]
    }
   ],
   "source": [
    "print(irisDF['pca_x'].shape)\n",
    "print(irisDF['pca_y'].shape)"
   ]
  },
  {
   "cell_type": "code",
   "execution_count": 18,
   "metadata": {
    "collapsed": true
   },
   "outputs": [
    {
     "output_type": "display_data",
     "data": {
      "application/vnd.plotly.v1+json": {
       "config": {
        "plotlyServerURL": "https://plot.ly"
       },
       "data": [
        {
         "hovertemplate": "pca_x=%{x}<br>pca_y=%{y}<br>cluster=%{marker.color}<extra></extra>",
         "legendgroup": "",
         "marker": {
          "color": [
           1,
           1,
           1,
           1,
           1,
           1,
           1,
           1,
           1,
           1,
           1,
           1,
           1,
           1,
           1,
           1,
           1,
           1,
           1,
           1,
           1,
           1,
           1,
           1,
           1,
           1,
           1,
           1,
           1,
           1,
           1,
           1,
           1,
           1,
           1,
           1,
           1,
           1,
           1,
           1,
           1,
           1,
           1,
           1,
           1,
           1,
           1,
           1,
           1,
           1,
           0,
           0,
           2,
           0,
           0,
           0,
           0,
           0,
           0,
           0,
           0,
           0,
           0,
           0,
           0,
           0,
           0,
           0,
           0,
           0,
           0,
           0,
           0,
           0,
           0,
           0,
           0,
           2,
           0,
           0,
           0,
           0,
           0,
           0,
           0,
           0,
           0,
           0,
           0,
           0,
           0,
           0,
           0,
           0,
           0,
           0,
           0,
           0,
           0,
           0,
           2,
           0,
           2,
           2,
           2,
           2,
           0,
           2,
           2,
           2,
           2,
           2,
           2,
           0,
           0,
           2,
           2,
           2,
           2,
           0,
           2,
           0,
           2,
           0,
           2,
           2,
           0,
           0,
           2,
           2,
           2,
           2,
           2,
           0,
           2,
           2,
           2,
           2,
           0,
           2,
           2,
           2,
           0,
           2,
           2,
           2,
           0,
           2,
           2,
           0
          ],
          "coloraxis": "coloraxis",
          "symbol": "circle"
         },
         "mode": "markers",
         "name": "",
         "orientation": "v",
         "showlegend": false,
         "type": "scatter",
         "x": [
          -2.6841256259695383,
          -2.7141416872943265,
          -2.888990569059297,
          -2.74534285564141,
          -2.7287165365545305,
          -2.2808596328444923,
          -2.820537750740609,
          -2.626144973146633,
          -2.8863827317805537,
          -2.672755797820954,
          -2.5069470906518565,
          -2.6127552309087236,
          -2.786109266188018,
          -3.2238037438656524,
          -2.644750389942029,
          -2.3860390335311337,
          -2.6235278752244264,
          -2.648296706254382,
          -2.19982032361758,
          -2.5879863998787687,
          -2.3102562152425183,
          -2.543705228757157,
          -3.215939415648612,
          -2.302733182226207,
          -2.3557540491237727,
          -2.5066689069258223,
          -2.468820073121339,
          -2.562319906196016,
          -2.639534715384543,
          -2.6319893872743467,
          -2.5873984766893527,
          -2.409932497002175,
          -2.6488623343499125,
          -2.5987367491005875,
          -2.6369268781057995,
          -2.8662416521186698,
          -2.6252380498503727,
          -2.8006841154482225,
          -2.980502043781994,
          -2.5900063139680967,
          -2.7701024260279024,
          -2.849368705043105,
          -2.9974065465949082,
          -2.4056144850974865,
          -2.2094892377836794,
          -2.714451426757708,
          -2.53814825899894,
          -2.8394621676428504,
          -2.543085749830393,
          -2.70335978233516,
          1.284825688858351,
          0.9324885323123177,
          1.4643023219913933,
          0.18331771995836996,
          1.0881032577116654,
          0.6416690842580771,
          1.0950606626324462,
          -0.749122669829658,
          1.0441318260534351,
          -0.008745404082896726,
          -0.5078408838353264,
          0.511698557447597,
          0.26497650811204604,
          0.9849345104708895,
          -0.1739253716817684,
          0.9278607809442467,
          0.6602837616969366,
          0.23610499331767107,
          0.9447337280198126,
          0.0452269762986993,
          1.116283177350049,
          0.3578884179973068,
          1.298183875358913,
          0.9217289224470363,
          0.7148533259114112,
          0.9001743731721669,
          1.332024436722088,
          1.55780215506607,
          0.8132906498175407,
          -0.30558377802430947,
          -0.06812649206836419,
          -0.18962247237850252,
          0.13642871155801442,
          1.38002643591551,
          0.5880064433398626,
          0.8068583125004115,
          1.2206908824443523,
          0.815095235766599,
          0.2459576798866918,
          0.1664132171454563,
          0.46480028840377874,
          0.8908151984694487,
          0.23054802355945478,
          -0.7045317592446642,
          0.3569814947010465,
          0.33193447994505776,
          0.3762156510666698,
          0.6425760075543373,
          -0.9064698649488364,
          0.2990008418781428,
          2.531192727803627,
          1.4152358767039017,
          2.616676015995689,
          1.9715310530434347,
          2.3500059200446395,
          3.3970387360532572,
          0.5212322439097725,
          2.9325870689936875,
          2.321228816573377,
          2.9167509667860716,
          1.6617741536365307,
          1.8034019529650904,
          2.1655917960801445,
          1.3461635794584508,
          1.5859282238732202,
          1.9044563747934262,
          1.9496890593990686,
          3.487055364290279,
          3.7956454220728832,
          1.3007917126376562,
          2.4278179130660447,
          1.19900110546556,
          3.4999200389245373,
          1.3887661316914643,
          2.275430503872204,
          2.61409047381083,
          1.2585081605114872,
          1.2911320591150202,
          2.1236087227738936,
          2.388003016003467,
          2.84167277810387,
          3.2306736614320926,
          2.159437642489049,
          1.4441612423295087,
          1.7812948100451116,
          3.0764999316871866,
          2.144243314302081,
          1.905098148814075,
          1.1693263393414994,
          2.1076111432572415,
          2.314154705235599,
          1.9222678009026004,
          1.4152358767039017,
          2.5630133750774746,
          2.418746182732824,
          1.9441097945469674,
          1.5271666148145162,
          1.764345717044428,
          1.9009416142184223,
          1.3901888619479128
         ],
         "xaxis": "x",
         "y": [
          0.3193972465851019,
          -0.1770012250647806,
          -0.1449494260855574,
          -0.318298979251916,
          0.32675451293491986,
          0.7413304490629148,
          -0.08946138452856864,
          0.16338495969832853,
          -0.5783117541867039,
          -0.113774245874117,
          0.6450688986485736,
          0.01472993916137452,
          -0.23511200020171857,
          -0.5113945870063822,
          1.1787646364375746,
          1.3380623304006525,
          0.8106795141812576,
          0.3118491445933546,
          0.8728390389622105,
          0.5135603087492768,
          0.39134593565389386,
          0.4329960632790281,
          0.13346806953852594,
          0.09870885481409934,
          -0.0372818596773825,
          -0.14601688049526793,
          0.1309514894352502,
          0.36771885743419974,
          0.31203998023528257,
          -0.1969612249243145,
          -0.20431849127413348,
          0.4109242642295726,
          0.813363820296962,
          1.0931457594493568,
          -0.12132234786586332,
          0.06936447158008034,
          0.5993700213794232,
          0.2686437377979823,
          -0.48795834442861535,
          0.22904383682701246,
          0.2635275337442564,
          -0.9409605736411969,
          -0.34192605747160976,
          0.18887142893026038,
          0.43666314163918785,
          -0.2502082041852112,
          0.5037711444614376,
          -0.22794556949382755,
          0.5794100215198891,
          0.10770608249941149,
          0.6851604704673079,
          0.31833363826262856,
          0.5042628153092035,
          -0.8279590118206324,
          0.07459067519771564,
          -0.41824687156867885,
          0.2834682700615288,
          -1.0048909611818952,
          0.22836189978839497,
          -0.7230819050048339,
          -1.2659711905263937,
          -0.10398123549904056,
          -0.5500364636804753,
          -0.12481785412635768,
          -0.2548542087025894,
          0.4671794944415099,
          -0.3529696657238504,
          -0.3336107668249157,
          -0.543145550779767,
          -0.5838343774718646,
          -0.084616852194788,
          -0.06892503165601434,
          -0.3277873083339178,
          -0.1827377936213678,
          0.14905594436978423,
          0.3285044738343227,
          0.24444087601634273,
          0.2674954473102542,
          -0.16335030068761647,
          -0.36826218975458824,
          -0.7051721317994655,
          -0.6802867635281334,
          -0.314032438249237,
          -0.42095428731388196,
          -0.48428741998121805,
          0.19418231471315084,
          0.4076195936110067,
          -0.37203705990950237,
          -0.26852439662201494,
          -0.6819267248636268,
          -0.6707115445117204,
          -0.03446444436826911,
          -0.4043858480073254,
          -1.0122482275317142,
          -0.5049100933371088,
          -0.21265468378116992,
          -0.29321892925141907,
          0.017738190112415883,
          -0.7560933665990142,
          -0.3488978064503361,
          -0.009849109498801911,
          -0.5749163475464893,
          0.3439031513417337,
          -0.17972790435224567,
          -0.04026094714253125,
          0.5508366730280546,
          -1.1927587270006448,
          0.3555000029774955,
          -0.24383150231069114,
          0.7827919488152782,
          0.24222840775506682,
          -0.21563761733355571,
          0.21627558507402428,
          -0.7768183473443396,
          -0.5396407140267185,
          0.11925069209197257,
          0.04194325966321107,
          1.1757393297134286,
          0.25732297342047844,
          -0.7611496364350638,
          0.3781960126170504,
          -0.6060915277579304,
          0.4606740989118939,
          -0.20439932735215122,
          0.33499060582167717,
          0.560901355123077,
          -0.1797047947227469,
          -0.11666865117401158,
          -0.20972947667730288,
          0.4646398047087356,
          0.3752691671951024,
          1.3741650867930466,
          -0.2172775786690492,
          -0.1434134104575811,
          -0.49990168107813676,
          0.6880856775711748,
          0.14006420108978998,
          0.049300526013029984,
          -0.16499026202310965,
          0.37228787196079716,
          0.18365127916901874,
          0.40920346681606173,
          -0.5749163475464893,
          0.27786260292919446,
          0.30479819785469187,
          0.1875323028006049,
          -0.37531698258048873,
          0.07885885451847545,
          0.11662795851202377,
          -0.2826609379905505
         ],
         "yaxis": "y"
        }
       ],
       "layout": {
        "coloraxis": {
         "colorbar": {
          "title": {
           "text": "cluster"
          }
         },
         "colorscale": [
          [
           0,
           "#0d0887"
          ],
          [
           0.1111111111111111,
           "#46039f"
          ],
          [
           0.2222222222222222,
           "#7201a8"
          ],
          [
           0.3333333333333333,
           "#9c179e"
          ],
          [
           0.4444444444444444,
           "#bd3786"
          ],
          [
           0.5555555555555556,
           "#d8576b"
          ],
          [
           0.6666666666666666,
           "#ed7953"
          ],
          [
           0.7777777777777778,
           "#fb9f3a"
          ],
          [
           0.8888888888888888,
           "#fdca26"
          ],
          [
           1,
           "#f0f921"
          ]
         ]
        },
        "legend": {
         "tracegroupgap": 0
        },
        "margin": {
         "t": 60
        },
        "template": {
         "data": {
          "bar": [
           {
            "error_x": {
             "color": "#2a3f5f"
            },
            "error_y": {
             "color": "#2a3f5f"
            },
            "marker": {
             "line": {
              "color": "#E5ECF6",
              "width": 0.5
             }
            },
            "type": "bar"
           }
          ],
          "barpolar": [
           {
            "marker": {
             "line": {
              "color": "#E5ECF6",
              "width": 0.5
             }
            },
            "type": "barpolar"
           }
          ],
          "carpet": [
           {
            "aaxis": {
             "endlinecolor": "#2a3f5f",
             "gridcolor": "white",
             "linecolor": "white",
             "minorgridcolor": "white",
             "startlinecolor": "#2a3f5f"
            },
            "baxis": {
             "endlinecolor": "#2a3f5f",
             "gridcolor": "white",
             "linecolor": "white",
             "minorgridcolor": "white",
             "startlinecolor": "#2a3f5f"
            },
            "type": "carpet"
           }
          ],
          "choropleth": [
           {
            "colorbar": {
             "outlinewidth": 0,
             "ticks": ""
            },
            "type": "choropleth"
           }
          ],
          "contour": [
           {
            "colorbar": {
             "outlinewidth": 0,
             "ticks": ""
            },
            "colorscale": [
             [
              0,
              "#0d0887"
             ],
             [
              0.1111111111111111,
              "#46039f"
             ],
             [
              0.2222222222222222,
              "#7201a8"
             ],
             [
              0.3333333333333333,
              "#9c179e"
             ],
             [
              0.4444444444444444,
              "#bd3786"
             ],
             [
              0.5555555555555556,
              "#d8576b"
             ],
             [
              0.6666666666666666,
              "#ed7953"
             ],
             [
              0.7777777777777778,
              "#fb9f3a"
             ],
             [
              0.8888888888888888,
              "#fdca26"
             ],
             [
              1,
              "#f0f921"
             ]
            ],
            "type": "contour"
           }
          ],
          "contourcarpet": [
           {
            "colorbar": {
             "outlinewidth": 0,
             "ticks": ""
            },
            "type": "contourcarpet"
           }
          ],
          "heatmap": [
           {
            "colorbar": {
             "outlinewidth": 0,
             "ticks": ""
            },
            "colorscale": [
             [
              0,
              "#0d0887"
             ],
             [
              0.1111111111111111,
              "#46039f"
             ],
             [
              0.2222222222222222,
              "#7201a8"
             ],
             [
              0.3333333333333333,
              "#9c179e"
             ],
             [
              0.4444444444444444,
              "#bd3786"
             ],
             [
              0.5555555555555556,
              "#d8576b"
             ],
             [
              0.6666666666666666,
              "#ed7953"
             ],
             [
              0.7777777777777778,
              "#fb9f3a"
             ],
             [
              0.8888888888888888,
              "#fdca26"
             ],
             [
              1,
              "#f0f921"
             ]
            ],
            "type": "heatmap"
           }
          ],
          "heatmapgl": [
           {
            "colorbar": {
             "outlinewidth": 0,
             "ticks": ""
            },
            "colorscale": [
             [
              0,
              "#0d0887"
             ],
             [
              0.1111111111111111,
              "#46039f"
             ],
             [
              0.2222222222222222,
              "#7201a8"
             ],
             [
              0.3333333333333333,
              "#9c179e"
             ],
             [
              0.4444444444444444,
              "#bd3786"
             ],
             [
              0.5555555555555556,
              "#d8576b"
             ],
             [
              0.6666666666666666,
              "#ed7953"
             ],
             [
              0.7777777777777778,
              "#fb9f3a"
             ],
             [
              0.8888888888888888,
              "#fdca26"
             ],
             [
              1,
              "#f0f921"
             ]
            ],
            "type": "heatmapgl"
           }
          ],
          "histogram": [
           {
            "marker": {
             "colorbar": {
              "outlinewidth": 0,
              "ticks": ""
             }
            },
            "type": "histogram"
           }
          ],
          "histogram2d": [
           {
            "colorbar": {
             "outlinewidth": 0,
             "ticks": ""
            },
            "colorscale": [
             [
              0,
              "#0d0887"
             ],
             [
              0.1111111111111111,
              "#46039f"
             ],
             [
              0.2222222222222222,
              "#7201a8"
             ],
             [
              0.3333333333333333,
              "#9c179e"
             ],
             [
              0.4444444444444444,
              "#bd3786"
             ],
             [
              0.5555555555555556,
              "#d8576b"
             ],
             [
              0.6666666666666666,
              "#ed7953"
             ],
             [
              0.7777777777777778,
              "#fb9f3a"
             ],
             [
              0.8888888888888888,
              "#fdca26"
             ],
             [
              1,
              "#f0f921"
             ]
            ],
            "type": "histogram2d"
           }
          ],
          "histogram2dcontour": [
           {
            "colorbar": {
             "outlinewidth": 0,
             "ticks": ""
            },
            "colorscale": [
             [
              0,
              "#0d0887"
             ],
             [
              0.1111111111111111,
              "#46039f"
             ],
             [
              0.2222222222222222,
              "#7201a8"
             ],
             [
              0.3333333333333333,
              "#9c179e"
             ],
             [
              0.4444444444444444,
              "#bd3786"
             ],
             [
              0.5555555555555556,
              "#d8576b"
             ],
             [
              0.6666666666666666,
              "#ed7953"
             ],
             [
              0.7777777777777778,
              "#fb9f3a"
             ],
             [
              0.8888888888888888,
              "#fdca26"
             ],
             [
              1,
              "#f0f921"
             ]
            ],
            "type": "histogram2dcontour"
           }
          ],
          "mesh3d": [
           {
            "colorbar": {
             "outlinewidth": 0,
             "ticks": ""
            },
            "type": "mesh3d"
           }
          ],
          "parcoords": [
           {
            "line": {
             "colorbar": {
              "outlinewidth": 0,
              "ticks": ""
             }
            },
            "type": "parcoords"
           }
          ],
          "pie": [
           {
            "automargin": true,
            "type": "pie"
           }
          ],
          "scatter": [
           {
            "marker": {
             "colorbar": {
              "outlinewidth": 0,
              "ticks": ""
             }
            },
            "type": "scatter"
           }
          ],
          "scatter3d": [
           {
            "line": {
             "colorbar": {
              "outlinewidth": 0,
              "ticks": ""
             }
            },
            "marker": {
             "colorbar": {
              "outlinewidth": 0,
              "ticks": ""
             }
            },
            "type": "scatter3d"
           }
          ],
          "scattercarpet": [
           {
            "marker": {
             "colorbar": {
              "outlinewidth": 0,
              "ticks": ""
             }
            },
            "type": "scattercarpet"
           }
          ],
          "scattergeo": [
           {
            "marker": {
             "colorbar": {
              "outlinewidth": 0,
              "ticks": ""
             }
            },
            "type": "scattergeo"
           }
          ],
          "scattergl": [
           {
            "marker": {
             "colorbar": {
              "outlinewidth": 0,
              "ticks": ""
             }
            },
            "type": "scattergl"
           }
          ],
          "scattermapbox": [
           {
            "marker": {
             "colorbar": {
              "outlinewidth": 0,
              "ticks": ""
             }
            },
            "type": "scattermapbox"
           }
          ],
          "scatterpolar": [
           {
            "marker": {
             "colorbar": {
              "outlinewidth": 0,
              "ticks": ""
             }
            },
            "type": "scatterpolar"
           }
          ],
          "scatterpolargl": [
           {
            "marker": {
             "colorbar": {
              "outlinewidth": 0,
              "ticks": ""
             }
            },
            "type": "scatterpolargl"
           }
          ],
          "scatterternary": [
           {
            "marker": {
             "colorbar": {
              "outlinewidth": 0,
              "ticks": ""
             }
            },
            "type": "scatterternary"
           }
          ],
          "surface": [
           {
            "colorbar": {
             "outlinewidth": 0,
             "ticks": ""
            },
            "colorscale": [
             [
              0,
              "#0d0887"
             ],
             [
              0.1111111111111111,
              "#46039f"
             ],
             [
              0.2222222222222222,
              "#7201a8"
             ],
             [
              0.3333333333333333,
              "#9c179e"
             ],
             [
              0.4444444444444444,
              "#bd3786"
             ],
             [
              0.5555555555555556,
              "#d8576b"
             ],
             [
              0.6666666666666666,
              "#ed7953"
             ],
             [
              0.7777777777777778,
              "#fb9f3a"
             ],
             [
              0.8888888888888888,
              "#fdca26"
             ],
             [
              1,
              "#f0f921"
             ]
            ],
            "type": "surface"
           }
          ],
          "table": [
           {
            "cells": {
             "fill": {
              "color": "#EBF0F8"
             },
             "line": {
              "color": "white"
             }
            },
            "header": {
             "fill": {
              "color": "#C8D4E3"
             },
             "line": {
              "color": "white"
             }
            },
            "type": "table"
           }
          ]
         },
         "layout": {
          "annotationdefaults": {
           "arrowcolor": "#2a3f5f",
           "arrowhead": 0,
           "arrowwidth": 1
          },
          "autotypenumbers": "strict",
          "coloraxis": {
           "colorbar": {
            "outlinewidth": 0,
            "ticks": ""
           }
          },
          "colorscale": {
           "diverging": [
            [
             0,
             "#8e0152"
            ],
            [
             0.1,
             "#c51b7d"
            ],
            [
             0.2,
             "#de77ae"
            ],
            [
             0.3,
             "#f1b6da"
            ],
            [
             0.4,
             "#fde0ef"
            ],
            [
             0.5,
             "#f7f7f7"
            ],
            [
             0.6,
             "#e6f5d0"
            ],
            [
             0.7,
             "#b8e186"
            ],
            [
             0.8,
             "#7fbc41"
            ],
            [
             0.9,
             "#4d9221"
            ],
            [
             1,
             "#276419"
            ]
           ],
           "sequential": [
            [
             0,
             "#0d0887"
            ],
            [
             0.1111111111111111,
             "#46039f"
            ],
            [
             0.2222222222222222,
             "#7201a8"
            ],
            [
             0.3333333333333333,
             "#9c179e"
            ],
            [
             0.4444444444444444,
             "#bd3786"
            ],
            [
             0.5555555555555556,
             "#d8576b"
            ],
            [
             0.6666666666666666,
             "#ed7953"
            ],
            [
             0.7777777777777778,
             "#fb9f3a"
            ],
            [
             0.8888888888888888,
             "#fdca26"
            ],
            [
             1,
             "#f0f921"
            ]
           ],
           "sequentialminus": [
            [
             0,
             "#0d0887"
            ],
            [
             0.1111111111111111,
             "#46039f"
            ],
            [
             0.2222222222222222,
             "#7201a8"
            ],
            [
             0.3333333333333333,
             "#9c179e"
            ],
            [
             0.4444444444444444,
             "#bd3786"
            ],
            [
             0.5555555555555556,
             "#d8576b"
            ],
            [
             0.6666666666666666,
             "#ed7953"
            ],
            [
             0.7777777777777778,
             "#fb9f3a"
            ],
            [
             0.8888888888888888,
             "#fdca26"
            ],
            [
             1,
             "#f0f921"
            ]
           ]
          },
          "colorway": [
           "#636efa",
           "#EF553B",
           "#00cc96",
           "#ab63fa",
           "#FFA15A",
           "#19d3f3",
           "#FF6692",
           "#B6E880",
           "#FF97FF",
           "#FECB52"
          ],
          "font": {
           "color": "#2a3f5f"
          },
          "geo": {
           "bgcolor": "white",
           "lakecolor": "white",
           "landcolor": "#E5ECF6",
           "showlakes": true,
           "showland": true,
           "subunitcolor": "white"
          },
          "hoverlabel": {
           "align": "left"
          },
          "hovermode": "closest",
          "mapbox": {
           "style": "light"
          },
          "paper_bgcolor": "white",
          "plot_bgcolor": "#E5ECF6",
          "polar": {
           "angularaxis": {
            "gridcolor": "white",
            "linecolor": "white",
            "ticks": ""
           },
           "bgcolor": "#E5ECF6",
           "radialaxis": {
            "gridcolor": "white",
            "linecolor": "white",
            "ticks": ""
           }
          },
          "scene": {
           "xaxis": {
            "backgroundcolor": "#E5ECF6",
            "gridcolor": "white",
            "gridwidth": 2,
            "linecolor": "white",
            "showbackground": true,
            "ticks": "",
            "zerolinecolor": "white"
           },
           "yaxis": {
            "backgroundcolor": "#E5ECF6",
            "gridcolor": "white",
            "gridwidth": 2,
            "linecolor": "white",
            "showbackground": true,
            "ticks": "",
            "zerolinecolor": "white"
           },
           "zaxis": {
            "backgroundcolor": "#E5ECF6",
            "gridcolor": "white",
            "gridwidth": 2,
            "linecolor": "white",
            "showbackground": true,
            "ticks": "",
            "zerolinecolor": "white"
           }
          },
          "shapedefaults": {
           "line": {
            "color": "#2a3f5f"
           }
          },
          "ternary": {
           "aaxis": {
            "gridcolor": "white",
            "linecolor": "white",
            "ticks": ""
           },
           "baxis": {
            "gridcolor": "white",
            "linecolor": "white",
            "ticks": ""
           },
           "bgcolor": "#E5ECF6",
           "caxis": {
            "gridcolor": "white",
            "linecolor": "white",
            "ticks": ""
           }
          },
          "title": {
           "x": 0.05
          },
          "xaxis": {
           "automargin": true,
           "gridcolor": "white",
           "linecolor": "white",
           "ticks": "",
           "title": {
            "standoff": 15
           },
           "zerolinecolor": "white",
           "zerolinewidth": 2
          },
          "yaxis": {
           "automargin": true,
           "gridcolor": "white",
           "linecolor": "white",
           "ticks": "",
           "title": {
            "standoff": 15
           },
           "zerolinecolor": "white",
           "zerolinewidth": 2
          }
         }
        },
        "xaxis": {
         "anchor": "y",
         "domain": [
          0,
          1
         ],
         "title": {
          "text": "pca_x"
         }
        },
        "yaxis": {
         "anchor": "x",
         "domain": [
          0,
          1
         ],
         "title": {
          "text": "pca_y"
         }
        }
       }
      }
     },
     "metadata": {}
    }
   ],
   "source": [
    "fig = px.scatter(irisDF, x='pca_x', y='pca_y', color='cluster')\n",
    "fig.show()"
   ]
  },
  {
   "cell_type": "code",
   "execution_count": 13,
   "metadata": {
    "collapsed": true
   },
   "outputs": [
    {
     "output_type": "display_data",
     "data": {
      "text/plain": "<Figure size 432x288 with 1 Axes>",
      "image/svg+xml": "<?xml version=\"1.0\" encoding=\"utf-8\" standalone=\"no\"?>\r\n<!DOCTYPE svg PUBLIC \"-//W3C//DTD SVG 1.1//EN\"\r\n  \"http://www.w3.org/Graphics/SVG/1.1/DTD/svg11.dtd\">\r\n<svg height=\"277.314375pt\" version=\"1.1\" viewBox=\"0 0 394.160938 277.314375\" width=\"394.160938pt\" xmlns=\"http://www.w3.org/2000/svg\" xmlns:xlink=\"http://www.w3.org/1999/xlink\">\r\n <metadata>\r\n  <rdf:RDF xmlns:cc=\"http://creativecommons.org/ns#\" xmlns:dc=\"http://purl.org/dc/elements/1.1/\" xmlns:rdf=\"http://www.w3.org/1999/02/22-rdf-syntax-ns#\">\r\n   <cc:Work>\r\n    <dc:type rdf:resource=\"http://purl.org/dc/dcmitype/StillImage\"/>\r\n    <dc:date>2021-06-16T22:08:39.248115</dc:date>\r\n    <dc:format>image/svg+xml</dc:format>\r\n    <dc:creator>\r\n     <cc:Agent>\r\n      <dc:title>Matplotlib v3.4.2, https://matplotlib.org/</dc:title>\r\n     </cc:Agent>\r\n    </dc:creator>\r\n   </cc:Work>\r\n  </rdf:RDF>\r\n </metadata>\r\n <defs>\r\n  <style type=\"text/css\">*{stroke-linecap:butt;stroke-linejoin:round;}</style>\r\n </defs>\r\n <g id=\"figure_1\">\r\n  <g id=\"patch_1\">\r\n   <path d=\"M 0 277.314375 \r\nL 394.160938 277.314375 \r\nL 394.160938 0 \r\nL 0 0 \r\nz\r\n\" style=\"fill:none;\"/>\r\n  </g>\r\n  <g id=\"axes_1\">\r\n   <g id=\"patch_2\">\r\n    <path d=\"M 52.160938 239.758125 \r\nL 386.960938 239.758125 \r\nL 386.960938 22.318125 \r\nL 52.160938 22.318125 \r\nz\r\n\" style=\"fill:#ffffff;\"/>\r\n   </g>\r\n   <g id=\"PathCollection_1\">\r\n    <defs>\r\n     <path d=\"M 0 3 \r\nC 0.795609 3 1.55874 2.683901 2.12132 2.12132 \r\nC 2.683901 1.55874 3 0.795609 3 0 \r\nC 3 -0.795609 2.683901 -1.55874 2.12132 -2.12132 \r\nC 1.55874 -2.683901 0.795609 -3 0 -3 \r\nC -0.795609 -3 -1.55874 -2.683901 -2.12132 -2.12132 \r\nC -2.683901 -1.55874 -3 -0.795609 -3 0 \r\nC -3 0.795609 -2.683901 1.55874 -2.12132 2.12132 \r\nC -1.55874 2.683901 -0.795609 3 0 3 \r\nz\r\n\" id=\"m8d120f8de5\" style=\"stroke:#1f77b4;\"/>\r\n    </defs>\r\n    <g clip-path=\"url(#p65c3a630bc)\">\r\n     <use style=\"fill:#1f77b4;stroke:#1f77b4;\" x=\"262.873497\" xlink:href=\"#m8d120f8de5\" y=\"83.789031\"/>\r\n     <use style=\"fill:#1f77b4;stroke:#1f77b4;\" x=\"247.596142\" xlink:href=\"#m8d120f8de5\" y=\"111.254151\"/>\r\n     <use style=\"fill:#1f77b4;stroke:#1f77b4;\" x=\"215.112062\" xlink:href=\"#m8d120f8de5\" y=\"197.079567\"/>\r\n     <use style=\"fill:#1f77b4;stroke:#1f77b4;\" x=\"254.343604\" xlink:href=\"#m8d120f8de5\" y=\"129.503715\"/>\r\n     <use style=\"fill:#1f77b4;stroke:#1f77b4;\" x=\"234.986198\" xlink:href=\"#m8d120f8de5\" y=\"166.403531\"/>\r\n     <use style=\"fill:#1f77b4;stroke:#1f77b4;\" x=\"254.645277\" xlink:href=\"#m8d120f8de5\" y=\"113.864597\"/>\r\n     <use style=\"fill:#1f77b4;stroke:#1f77b4;\" x=\"174.681404\" xlink:href=\"#m8d120f8de5\" y=\"210.326846\"/>\r\n     <use style=\"fill:#1f77b4;stroke:#1f77b4;\" x=\"252.437001\" xlink:href=\"#m8d120f8de5\" y=\"117.99053\"/>\r\n     <use style=\"fill:#1f77b4;stroke:#1f77b4;\" x=\"206.784196\" xlink:href=\"#m8d120f8de5\" y=\"189.227191\"/>\r\n     <use style=\"fill:#1f77b4;stroke:#1f77b4;\" x=\"185.143393\" xlink:href=\"#m8d120f8de5\" y=\"229.874489\"/>\r\n     <use style=\"fill:#1f77b4;stroke:#1f77b4;\" x=\"229.35067\" xlink:href=\"#m8d120f8de5\" y=\"142.873781\"/>\r\n     <use style=\"fill:#1f77b4;stroke:#1f77b4;\" x=\"218.65279\" xlink:href=\"#m8d120f8de5\" y=\"176.270903\"/>\r\n     <use style=\"fill:#1f77b4;stroke:#1f77b4;\" x=\"249.870202\" xlink:href=\"#m8d120f8de5\" y=\"144.433864\"/>\r\n     <use style=\"fill:#1f77b4;stroke:#1f77b4;\" x=\"199.621985\" xlink:href=\"#m8d120f8de5\" y=\"154.169968\"/>\r\n     <use style=\"fill:#1f77b4;stroke:#1f77b4;\" x=\"247.395483\" xlink:href=\"#m8d120f8de5\" y=\"100.109739\"/>\r\n     <use style=\"fill:#1f77b4;stroke:#1f77b4;\" x=\"235.793331\" xlink:href=\"#m8d120f8de5\" y=\"161.516085\"/>\r\n     <use style=\"fill:#1f77b4;stroke:#1f77b4;\" x=\"217.40092\" xlink:href=\"#m8d120f8de5\" y=\"160.066642\"/>\r\n     <use style=\"fill:#1f77b4;stroke:#1f77b4;\" x=\"248.127094\" xlink:href=\"#m8d120f8de5\" y=\"175.754966\"/>\r\n     <use style=\"fill:#1f77b4;stroke:#1f77b4;\" x=\"209.124441\" xlink:href=\"#m8d120f8de5\" y=\"178.801426\"/>\r\n     <use style=\"fill:#1f77b4;stroke:#1f77b4;\" x=\"255.565486\" xlink:href=\"#m8d120f8de5\" y=\"141.423928\"/>\r\n     <use style=\"fill:#1f77b4;stroke:#1f77b4;\" x=\"222.681455\" xlink:href=\"#m8d120f8de5\" y=\"140.249047\"/>\r\n     <use style=\"fill:#1f77b4;stroke:#1f77b4;\" x=\"263.452709\" xlink:href=\"#m8d120f8de5\" y=\"159.630627\"/>\r\n     <use style=\"fill:#1f77b4;stroke:#1f77b4;\" x=\"247.129605\" xlink:href=\"#m8d120f8de5\" y=\"148.770456\"/>\r\n     <use style=\"fill:#1f77b4;stroke:#1f77b4;\" x=\"238.15947\" xlink:href=\"#m8d120f8de5\" y=\"123.928339\"/>\r\n     <use style=\"fill:#1f77b4;stroke:#1f77b4;\" x=\"246.194999\" xlink:href=\"#m8d120f8de5\" y=\"110.492639\"/>\r\n     <use style=\"fill:#1f77b4;stroke:#1f77b4;\" x=\"264.920037\" xlink:href=\"#m8d120f8de5\" y=\"116.786662\"/>\r\n     <use style=\"fill:#1f77b4;stroke:#1f77b4;\" x=\"242.427717\" xlink:href=\"#m8d120f8de5\" y=\"147.318872\"/>\r\n     <use style=\"fill:#1f77b4;stroke:#1f77b4;\" x=\"193.91327\" xlink:href=\"#m8d120f8de5\" y=\"162.661069\"/>\r\n     <use style=\"fill:#1f77b4;stroke:#1f77b4;\" x=\"204.209429\" xlink:href=\"#m8d120f8de5\" y=\"187.886247\"/>\r\n     <use style=\"fill:#1f77b4;stroke:#1f77b4;\" x=\"198.941358\" xlink:href=\"#m8d120f8de5\" y=\"186.023026\"/>\r\n     <use style=\"fill:#1f77b4;stroke:#1f77b4;\" x=\"213.078952\" xlink:href=\"#m8d120f8de5\" y=\"158.60077\"/>\r\n     <use style=\"fill:#1f77b4;stroke:#1f77b4;\" x=\"267.001406\" xlink:href=\"#m8d120f8de5\" y=\"166.606241\"/>\r\n     <use style=\"fill:#1f77b4;stroke:#1f77b4;\" x=\"232.659383\" xlink:href=\"#m8d120f8de5\" y=\"171.34813\"/>\r\n     <use style=\"fill:#1f77b4;stroke:#1f77b4;\" x=\"242.14881\" xlink:href=\"#m8d120f8de5\" y=\"120.54963\"/>\r\n     <use style=\"fill:#1f77b4;stroke:#1f77b4;\" x=\"260.092609\" xlink:href=\"#m8d120f8de5\" y=\"104.569118\"/>\r\n     <use style=\"fill:#1f77b4;stroke:#1f77b4;\" x=\"242.505964\" xlink:href=\"#m8d120f8de5\" y=\"162.943702\"/>\r\n     <use style=\"fill:#1f77b4;stroke:#1f77b4;\" x=\"217.828133\" xlink:href=\"#m8d120f8de5\" y=\"155.193485\"/>\r\n     <use style=\"fill:#1f77b4;stroke:#1f77b4;\" x=\"214.379082\" xlink:href=\"#m8d120f8de5\" y=\"186.145813\"/>\r\n     <use style=\"fill:#1f77b4;stroke:#1f77b4;\" x=\"227.317159\" xlink:href=\"#m8d120f8de5\" y=\"185.306108\"/>\r\n     <use style=\"fill:#1f77b4;stroke:#1f77b4;\" x=\"245.789185\" xlink:href=\"#m8d120f8de5\" y=\"137.668908\"/>\r\n     <use style=\"fill:#1f77b4;stroke:#1f77b4;\" x=\"217.15997\" xlink:href=\"#m8d120f8de5\" y=\"165.365726\"/>\r\n     <use style=\"fill:#1f77b4;stroke:#1f77b4;\" x=\"176.614868\" xlink:href=\"#m8d120f8de5\" y=\"210.8777\"/>\r\n     <use style=\"fill:#1f77b4;stroke:#1f77b4;\" x=\"222.642131\" xlink:href=\"#m8d120f8de5\" y=\"172.892194\"/>\r\n     <use style=\"fill:#1f77b4;stroke:#1f77b4;\" x=\"221.556091\" xlink:href=\"#m8d120f8de5\" y=\"151.010398\"/>\r\n     <use style=\"fill:#1f77b4;stroke:#1f77b4;\" x=\"223.476125\" xlink:href=\"#m8d120f8de5\" y=\"157.042418\"/>\r\n     <use style=\"fill:#1f77b4;stroke:#1f77b4;\" x=\"235.025522\" xlink:href=\"#m8d120f8de5\" y=\"133.760384\"/>\r\n     <use style=\"fill:#1f77b4;stroke:#1f77b4;\" x=\"167.858822\" xlink:href=\"#m8d120f8de5\" y=\"191.69883\"/>\r\n     <use style=\"fill:#1f77b4;stroke:#1f77b4;\" x=\"220.128087\" xlink:href=\"#m8d120f8de5\" y=\"161.211216\"/>\r\n     <use style=\"fill:#1f77b4;stroke:#1f77b4;\" x=\"268.528089\" xlink:href=\"#m8d120f8de5\" y=\"178.133714\"/>\r\n     <use style=\"fill:#1f77b4;stroke:#1f77b4;\" x=\"229.764051\" xlink:href=\"#m8d120f8de5\" y=\"224.392913\"/>\r\n     <use style=\"fill:#1f77b4;stroke:#1f77b4;\" x=\"265.533111\" xlink:href=\"#m8d120f8de5\" y=\"193.250555\"/>\r\n     <use style=\"fill:#1f77b4;stroke:#1f77b4;\" x=\"275.929317\" xlink:href=\"#m8d120f8de5\" y=\"175.492551\"/>\r\n     <use style=\"fill:#1f77b4;stroke:#1f77b4;\" x=\"263.565785\" xlink:href=\"#m8d120f8de5\" y=\"192.077404\"/>\r\n     <use style=\"fill:#1f77b4;stroke:#1f77b4;\" x=\"259.15214\" xlink:href=\"#m8d120f8de5\" y=\"180.467868\"/>\r\n     <use style=\"fill:#1f77b4;stroke:#1f77b4;\" x=\"267.38036\" xlink:href=\"#m8d120f8de5\" y=\"150.392302\"/>\r\n     <use style=\"fill:#1f77b4;stroke:#1f77b4;\" x=\"261.732368\" xlink:href=\"#m8d120f8de5\" y=\"148.543368\"/>\r\n     <use style=\"fill:#1f77b4;stroke:#1f77b4;\" x=\"263.146942\" xlink:href=\"#m8d120f8de5\" y=\"143.823716\"/>\r\n     <use style=\"fill:#1f77b4;stroke:#1f77b4;\" x=\"269.782294\" xlink:href=\"#m8d120f8de5\" y=\"145.826154\"/>\r\n     <use style=\"fill:#1f77b4;stroke:#1f77b4;\" x=\"257.86544\" xlink:href=\"#m8d120f8de5\" y=\"147.441659\"/>\r\n     <use style=\"fill:#1f77b4;stroke:#1f77b4;\" x=\"268.528089\" xlink:href=\"#m8d120f8de5\" y=\"178.133714\"/>\r\n     <use style=\"fill:#1f77b4;stroke:#1f77b4;\" x=\"273.381411\" xlink:href=\"#m8d120f8de5\" y=\"163.189277\"/>\r\n     <use style=\"fill:#1f77b4;stroke:#1f77b4;\" x=\"267.442049\" xlink:href=\"#m8d120f8de5\" y=\"156.251918\"/>\r\n    </g>\r\n   </g>\r\n   <g id=\"PathCollection_2\">\r\n    <defs>\r\n     <path d=\"M -3 3 \r\nL 3 3 \r\nL 3 -3 \r\nL -3 -3 \r\nz\r\n\" id=\"m1da135391c\" style=\"stroke:#ff7f0e;\"/>\r\n    </defs>\r\n    <g clip-path=\"url(#p65c3a630bc)\">\r\n     <use style=\"fill:#ff7f0e;stroke:#ff7f0e;\" x=\"90.779587\" xlink:href=\"#m1da135391c\" y=\"111.174516\"/>\r\n     <use style=\"fill:#ff7f0e;stroke:#ff7f0e;\" x=\"89.478089\" xlink:href=\"#m1da135391c\" y=\"148.340946\"/>\r\n     <use style=\"fill:#ff7f0e;stroke:#ff7f0e;\" x=\"81.896634\" xlink:href=\"#m1da135391c\" y=\"145.941159\"/>\r\n     <use style=\"fill:#ff7f0e;stroke:#ff7f0e;\" x=\"88.125205\" xlink:href=\"#m1da135391c\" y=\"158.920215\"/>\r\n     <use style=\"fill:#ff7f0e;stroke:#ff7f0e;\" x=\"88.846123\" xlink:href=\"#m1da135391c\" y=\"110.623662\"/>\r\n     <use style=\"fill:#ff7f0e;stroke:#ff7f0e;\" x=\"108.265219\" xlink:href=\"#m1da135391c\" y=\"79.583463\"/>\r\n     <use style=\"fill:#ff7f0e;stroke:#ff7f0e;\" x=\"84.864751\" xlink:href=\"#m1da135391c\" y=\"141.786649\"/>\r\n     <use style=\"fill:#ff7f0e;stroke:#ff7f0e;\" x=\"93.293631\" xlink:href=\"#m1da135391c\" y=\"122.855495\"/>\r\n     <use style=\"fill:#ff7f0e;stroke:#ff7f0e;\" x=\"82.00971\" xlink:href=\"#m1da135391c\" y=\"178.387936\"/>\r\n     <use style=\"fill:#ff7f0e;stroke:#ff7f0e;\" x=\"91.272583\" xlink:href=\"#m1da135391c\" y=\"143.607005\"/>\r\n     <use style=\"fill:#ff7f0e;stroke:#ff7f0e;\" x=\"98.462057\" xlink:href=\"#m1da135391c\" y=\"86.790774\"/>\r\n     <use style=\"fill:#ff7f0e;stroke:#ff7f0e;\" x=\"93.874211\" xlink:href=\"#m1da135391c\" y=\"133.985618\"/>\r\n     <use style=\"fill:#ff7f0e;stroke:#ff7f0e;\" x=\"86.357572\" xlink:href=\"#m1da135391c\" y=\"152.691826\"/>\r\n     <use style=\"fill:#ff7f0e;stroke:#ff7f0e;\" x=\"67.379119\" xlink:href=\"#m1da135391c\" y=\"173.377702\"/>\r\n     <use style=\"fill:#ff7f0e;stroke:#ff7f0e;\" x=\"92.486899\" xlink:href=\"#m1da135391c\" y=\"46.831817\"/>\r\n     <use style=\"fill:#ff7f0e;stroke:#ff7f0e;\" x=\"103.704635\" xlink:href=\"#m1da135391c\" y=\"34.904853\"/>\r\n     <use style=\"fill:#ff7f0e;stroke:#ff7f0e;\" x=\"93.407108\" xlink:href=\"#m1da135391c\" y=\"74.391148\"/>\r\n     <use style=\"fill:#ff7f0e;stroke:#ff7f0e;\" x=\"92.333131\" xlink:href=\"#m1da135391c\" y=\"111.739659\"/>\r\n     <use style=\"fill:#ff7f0e;stroke:#ff7f0e;\" x=\"111.779087\" xlink:href=\"#m1da135391c\" y=\"69.73713\"/>\r\n     <use style=\"fill:#ff7f0e;stroke:#ff7f0e;\" x=\"94.948188\" xlink:href=\"#m1da135391c\" y=\"96.637107\"/>\r\n     <use style=\"fill:#ff7f0e;stroke:#ff7f0e;\" x=\"106.990582\" xlink:href=\"#m1da135391c\" y=\"105.787562\"/>\r\n     <use style=\"fill:#ff7f0e;stroke:#ff7f0e;\" x=\"96.868222\" xlink:href=\"#m1da135391c\" y=\"102.669127\"/>\r\n     <use style=\"fill:#ff7f0e;stroke:#ff7f0e;\" x=\"67.720117\" xlink:href=\"#m1da135391c\" y=\"125.095437\"/>\r\n     <use style=\"fill:#ff7f0e;stroke:#ff7f0e;\" x=\"107.316781\" xlink:href=\"#m1da135391c\" y=\"127.697935\"/>\r\n     <use style=\"fill:#ff7f0e;stroke:#ff7f0e;\" x=\"105.017794\" xlink:href=\"#m1da135391c\" y=\"137.879854\"/>\r\n     <use style=\"fill:#ff7f0e;stroke:#ff7f0e;\" x=\"98.474119\" xlink:href=\"#m1da135391c\" y=\"146.021081\"/>\r\n     <use style=\"fill:#ff7f0e;stroke:#ff7f0e;\" x=\"100.115246\" xlink:href=\"#m1da135391c\" y=\"125.283859\"/>\r\n     <use style=\"fill:#ff7f0e;stroke:#ff7f0e;\" x=\"96.061089\" xlink:href=\"#m1da135391c\" y=\"107.556573\"/>\r\n     <use style=\"fill:#ff7f0e;stroke:#ff7f0e;\" x=\"92.713051\" xlink:href=\"#m1da135391c\" y=\"111.725371\"/>\r\n     <use style=\"fill:#ff7f0e;stroke:#ff7f0e;\" x=\"93.040217\" xlink:href=\"#m1da135391c\" y=\"149.835395\"/>\r\n     <use style=\"fill:#ff7f0e;stroke:#ff7f0e;\" x=\"94.973681\" xlink:href=\"#m1da135391c\" y=\"150.386249\"/>\r\n     <use style=\"fill:#ff7f0e;stroke:#ff7f0e;\" x=\"102.668614\" xlink:href=\"#m1da135391c\" y=\"104.32169\"/>\r\n     <use style=\"fill:#ff7f0e;stroke:#ff7f0e;\" x=\"92.308605\" xlink:href=\"#m1da135391c\" y=\"74.190168\"/>\r\n     <use style=\"fill:#ff7f0e;stroke:#ff7f0e;\" x=\"94.482053\" xlink:href=\"#m1da135391c\" y=\"53.242288\"/>\r\n     <use style=\"fill:#ff7f0e;stroke:#ff7f0e;\" x=\"92.826127\" xlink:href=\"#m1da135391c\" y=\"144.172148\"/>\r\n     <use style=\"fill:#ff7f0e;stroke:#ff7f0e;\" x=\"82.883028\" xlink:href=\"#m1da135391c\" y=\"129.895012\"/>\r\n     <use style=\"fill:#ff7f0e;stroke:#ff7f0e;\" x=\"93.332955\" xlink:href=\"#m1da135391c\" y=\"90.212348\"/>\r\n     <use style=\"fill:#ff7f0e;stroke:#ff7f0e;\" x=\"85.725606\" xlink:href=\"#m1da135391c\" y=\"114.974542\"/>\r\n     <use style=\"fill:#ff7f0e;stroke:#ff7f0e;\" x=\"77.928692\" xlink:href=\"#m1da135391c\" y=\"171.62298\"/>\r\n     <use style=\"fill:#ff7f0e;stroke:#ff7f0e;\" x=\"94.860605\" xlink:href=\"#m1da135391c\" y=\"117.939472\"/>\r\n     <use style=\"fill:#ff7f0e;stroke:#ff7f0e;\" x=\"87.051629\" xlink:href=\"#m1da135391c\" y=\"115.357603\"/>\r\n     <use style=\"fill:#ff7f0e;stroke:#ff7f0e;\" x=\"83.61464\" xlink:href=\"#m1da135391c\" y=\"205.540239\"/>\r\n     <use style=\"fill:#ff7f0e;stroke:#ff7f0e;\" x=\"77.195712\" xlink:href=\"#m1da135391c\" y=\"160.689226\"/>\r\n     <use style=\"fill:#ff7f0e;stroke:#ff7f0e;\" x=\"102.855843\" xlink:href=\"#m1da135391c\" y=\"120.947267\"/>\r\n     <use style=\"fill:#ff7f0e;stroke:#ff7f0e;\" x=\"111.359843\" xlink:href=\"#m1da135391c\" y=\"102.394565\"/>\r\n     <use style=\"fill:#ff7f0e;stroke:#ff7f0e;\" x=\"89.464659\" xlink:href=\"#m1da135391c\" y=\"153.822112\"/>\r\n     <use style=\"fill:#ff7f0e;stroke:#ff7f0e;\" x=\"97.109172\" xlink:href=\"#m1da135391c\" y=\"97.370043\"/>\r\n     <use style=\"fill:#ff7f0e;stroke:#ff7f0e;\" x=\"84.044188\" xlink:href=\"#m1da135391c\" y=\"152.15526\"/>\r\n     <use style=\"fill:#ff7f0e;stroke:#ff7f0e;\" x=\"96.895083\" xlink:href=\"#m1da135391c\" y=\"91.706796\"/>\r\n     <use style=\"fill:#ff7f0e;stroke:#ff7f0e;\" x=\"89.945593\" xlink:href=\"#m1da135391c\" y=\"127.024293\"/>\r\n    </g>\r\n   </g>\r\n   <g id=\"PathCollection_3\">\r\n    <defs>\r\n     <path d=\"M 0 -3 \r\nL -3 3 \r\nL 3 3 \r\nz\r\n\" id=\"m97f9a99073\" style=\"stroke:#2ca02c;\"/>\r\n    </defs>\r\n    <g clip-path=\"url(#p65c3a630bc)\">\r\n     <use style=\"fill:#2ca02c;stroke:#2ca02c;\" x=\"270.655612\" xlink:href=\"#m97f9a99073\" y=\"97.333231\"/>\r\n     <use style=\"fill:#2ca02c;stroke:#2ca02c;\" x=\"274.709769\" xlink:href=\"#m97f9a99073\" y=\"115.060517\"/>\r\n     <use style=\"fill:#2ca02c;stroke:#2ca02c;\" x=\"316.916029\" xlink:href=\"#m97f9a99073\" y=\"135.825905\"/>\r\n     <use style=\"fill:#2ca02c;stroke:#2ca02c;\" x=\"320.622588\" xlink:href=\"#m97f9a99073\" y=\"109.339706\"/>\r\n     <use style=\"fill:#2ca02c;stroke:#2ca02c;\" x=\"292.649073\" xlink:href=\"#m97f9a99073\" y=\"148.545099\"/>\r\n     <use style=\"fill:#2ca02c;stroke:#2ca02c;\" x=\"309.059761\" xlink:href=\"#m97f9a99073\" y=\"138.102905\"/>\r\n     <use style=\"fill:#2ca02c;stroke:#2ca02c;\" x=\"354.459152\" xlink:href=\"#m97f9a99073\" y=\"93.846145\"/>\r\n     <use style=\"fill:#2ca02c;stroke:#2ca02c;\" x=\"334.320506\" xlink:href=\"#m97f9a99073\" y=\"108.471425\"/>\r\n     <use style=\"fill:#2ca02c;stroke:#2ca02c;\" x=\"307.811984\" xlink:href=\"#m97f9a99073\" y=\"153.344674\"/>\r\n     <use style=\"fill:#2ca02c;stroke:#2ca02c;\" x=\"333.633852\" xlink:href=\"#m97f9a99073\" y=\"76.47915\"/>\r\n     <use style=\"fill:#2ca02c;stroke:#2ca02c;\" x=\"279.218\" xlink:href=\"#m97f9a99073\" y=\"116.952315\"/>\r\n     <use style=\"fill:#2ca02c;stroke:#2ca02c;\" x=\"285.358988\" xlink:href=\"#m97f9a99073\" y=\"151.233737\"/>\r\n     <use style=\"fill:#2ca02c;stroke:#2ca02c;\" x=\"301.063556\" xlink:href=\"#m97f9a99073\" y=\"118.895459\"/>\r\n     <use style=\"fill:#2ca02c;stroke:#2ca02c;\" x=\"289.740712\" xlink:href=\"#m97f9a99073\" y=\"126.159923\"/>\r\n     <use style=\"fill:#2ca02c;stroke:#2ca02c;\" x=\"291.702004\" xlink:href=\"#m97f9a99073\" y=\"131.948098\"/>\r\n     <use style=\"fill:#2ca02c;stroke:#2ca02c;\" x=\"358.362277\" xlink:href=\"#m97f9a99073\" y=\"47.058328\"/>\r\n     <use style=\"fill:#2ca02c;stroke:#2ca02c;\" x=\"371.742756\" xlink:href=\"#m97f9a99073\" y=\"115.822152\"/>\r\n     <use style=\"fill:#2ca02c;stroke:#2ca02c;\" x=\"312.433692\" xlink:href=\"#m97f9a99073\" y=\"106.772125\"/>\r\n     <use style=\"fill:#2ca02c;stroke:#2ca02c;\" x=\"358.92009\" xlink:href=\"#m97f9a99073\" y=\"100.596812\"/>\r\n     <use style=\"fill:#2ca02c;stroke:#2ca02c;\" x=\"305.826167\" xlink:href=\"#m97f9a99073\" y=\"110.007008\"/>\r\n     <use style=\"fill:#2ca02c;stroke:#2ca02c;\" x=\"320.510479\" xlink:href=\"#m97f9a99073\" y=\"93.09258\"/>\r\n     <use style=\"fill:#2ca02c;stroke:#2ca02c;\" x=\"299.243168\" xlink:href=\"#m97f9a99073\" y=\"150.791381\"/>\r\n     <use style=\"fill:#2ca02c;stroke:#2ca02c;\" x=\"310.707317\" xlink:href=\"#m97f9a99073\" y=\"100.299891\"/>\r\n     <use style=\"fill:#2ca02c;stroke:#2ca02c;\" x=\"330.378458\" xlink:href=\"#m97f9a99073\" y=\"106.991265\"/>\r\n     <use style=\"fill:#2ca02c;stroke:#2ca02c;\" x=\"347.245554\" xlink:href=\"#m97f9a99073\" y=\"32.201761\"/>\r\n     <use style=\"fill:#2ca02c;stroke:#2ca02c;\" x=\"300.796712\" xlink:href=\"#m97f9a99073\" y=\"151.356524\"/>\r\n     <use style=\"fill:#2ca02c;stroke:#2ca02c;\" x=\"284.400421\" xlink:href=\"#m97f9a99073\" y=\"172.517204\"/>\r\n     <use style=\"fill:#2ca02c;stroke:#2ca02c;\" x=\"340.560574\" xlink:href=\"#m97f9a99073\" y=\"83.570014\"/>\r\n     <use style=\"fill:#2ca02c;stroke:#2ca02c;\" x=\"300.137885\" xlink:href=\"#m97f9a99073\" y=\"124.60157\"/>\r\n     <use style=\"fill:#2ca02c;stroke:#2ca02c;\" x=\"289.76854\" xlink:href=\"#m97f9a99073\" y=\"131.397244\"/>\r\n     <use style=\"fill:#2ca02c;stroke:#2ca02c;\" x=\"298.549512\" xlink:href=\"#m97f9a99073\" y=\"107.214481\"/>\r\n     <use style=\"fill:#2ca02c;stroke:#2ca02c;\" x=\"307.505251\" xlink:href=\"#m97f9a99073\" y=\"121.338111\"/>\r\n     <use style=\"fill:#2ca02c;stroke:#2ca02c;\" x=\"290.513016\" xlink:href=\"#m97f9a99073\" y=\"104.45053\"/>\r\n     <use style=\"fill:#2ca02c;stroke:#2ca02c;\" x=\"318.295774\" xlink:href=\"#m97f9a99073\" y=\"114.284305\"/>\r\n     <use style=\"fill:#2ca02c;stroke:#2ca02c;\" x=\"312.040342\" xlink:href=\"#m97f9a99073\" y=\"112.267579\"/>\r\n     <use style=\"fill:#2ca02c;stroke:#2ca02c;\" x=\"291.460086\" xlink:href=\"#m97f9a99073\" y=\"121.047531\"/>\r\n     <use style=\"fill:#2ca02c;stroke:#2ca02c;\" x=\"283.665508\" xlink:href=\"#m97f9a99073\" y=\"129.184147\"/>\r\n     <use style=\"fill:#2ca02c;stroke:#2ca02c;\" x=\"289.588312\" xlink:href=\"#m97f9a99073\" y=\"126.356293\"/>\r\n    </g>\r\n   </g>\r\n   <g id=\"matplotlib.axis_1\">\r\n    <g id=\"xtick_1\">\r\n     <g id=\"line2d_1\">\r\n      <defs>\r\n       <path d=\"M 0 0 \r\nL 0 3.5 \r\n\" id=\"m29e866baaa\" style=\"stroke:#000000;stroke-width:0.8;\"/>\r\n      </defs>\r\n      <g>\r\n       <use style=\"stroke:#000000;stroke-width:0.8;\" x=\"77.08326\" xlink:href=\"#m29e866baaa\" y=\"239.758125\"/>\r\n      </g>\r\n     </g>\r\n     <g id=\"text_1\">\r\n      <!-- −3 -->\r\n      <g transform=\"translate(69.712166 254.356562)scale(0.1 -0.1)\">\r\n       <defs>\r\n        <path d=\"M 678 2272 \r\nL 4684 2272 \r\nL 4684 1741 \r\nL 678 1741 \r\nL 678 2272 \r\nz\r\n\" id=\"DejaVuSans-2212\" transform=\"scale(0.015625)\"/>\r\n        <path d=\"M 2597 2516 \r\nQ 3050 2419 3304 2112 \r\nQ 3559 1806 3559 1356 \r\nQ 3559 666 3084 287 \r\nQ 2609 -91 1734 -91 \r\nQ 1441 -91 1130 -33 \r\nQ 819 25 488 141 \r\nL 488 750 \r\nQ 750 597 1062 519 \r\nQ 1375 441 1716 441 \r\nQ 2309 441 2620 675 \r\nQ 2931 909 2931 1356 \r\nQ 2931 1769 2642 2001 \r\nQ 2353 2234 1838 2234 \r\nL 1294 2234 \r\nL 1294 2753 \r\nL 1863 2753 \r\nQ 2328 2753 2575 2939 \r\nQ 2822 3125 2822 3475 \r\nQ 2822 3834 2567 4026 \r\nQ 2313 4219 1838 4219 \r\nQ 1578 4219 1281 4162 \r\nQ 984 4106 628 3988 \r\nL 628 4550 \r\nQ 988 4650 1302 4700 \r\nQ 1616 4750 1894 4750 \r\nQ 2613 4750 3031 4423 \r\nQ 3450 4097 3450 3541 \r\nQ 3450 3153 3228 2886 \r\nQ 3006 2619 2597 2516 \r\nz\r\n\" id=\"DejaVuSans-33\" transform=\"scale(0.015625)\"/>\r\n       </defs>\r\n       <use xlink:href=\"#DejaVuSans-2212\"/>\r\n       <use x=\"83.789062\" xlink:href=\"#DejaVuSans-33\"/>\r\n      </g>\r\n     </g>\r\n    </g>\r\n    <g id=\"xtick_2\">\r\n     <g id=\"line2d_2\">\r\n      <g>\r\n       <use style=\"stroke:#000000;stroke-width:0.8;\" x=\"120.443306\" xlink:href=\"#m29e866baaa\" y=\"239.758125\"/>\r\n      </g>\r\n     </g>\r\n     <g id=\"text_2\">\r\n      <!-- −2 -->\r\n      <g transform=\"translate(113.072212 254.356562)scale(0.1 -0.1)\">\r\n       <defs>\r\n        <path d=\"M 1228 531 \r\nL 3431 531 \r\nL 3431 0 \r\nL 469 0 \r\nL 469 531 \r\nQ 828 903 1448 1529 \r\nQ 2069 2156 2228 2338 \r\nQ 2531 2678 2651 2914 \r\nQ 2772 3150 2772 3378 \r\nQ 2772 3750 2511 3984 \r\nQ 2250 4219 1831 4219 \r\nQ 1534 4219 1204 4116 \r\nQ 875 4013 500 3803 \r\nL 500 4441 \r\nQ 881 4594 1212 4672 \r\nQ 1544 4750 1819 4750 \r\nQ 2544 4750 2975 4387 \r\nQ 3406 4025 3406 3419 \r\nQ 3406 3131 3298 2873 \r\nQ 3191 2616 2906 2266 \r\nQ 2828 2175 2409 1742 \r\nQ 1991 1309 1228 531 \r\nz\r\n\" id=\"DejaVuSans-32\" transform=\"scale(0.015625)\"/>\r\n       </defs>\r\n       <use xlink:href=\"#DejaVuSans-2212\"/>\r\n       <use x=\"83.789062\" xlink:href=\"#DejaVuSans-32\"/>\r\n      </g>\r\n     </g>\r\n    </g>\r\n    <g id=\"xtick_3\">\r\n     <g id=\"line2d_3\">\r\n      <g>\r\n       <use style=\"stroke:#000000;stroke-width:0.8;\" x=\"163.803351\" xlink:href=\"#m29e866baaa\" y=\"239.758125\"/>\r\n      </g>\r\n     </g>\r\n     <g id=\"text_3\">\r\n      <!-- −1 -->\r\n      <g transform=\"translate(156.432257 254.356562)scale(0.1 -0.1)\">\r\n       <defs>\r\n        <path d=\"M 794 531 \r\nL 1825 531 \r\nL 1825 4091 \r\nL 703 3866 \r\nL 703 4441 \r\nL 1819 4666 \r\nL 2450 4666 \r\nL 2450 531 \r\nL 3481 531 \r\nL 3481 0 \r\nL 794 0 \r\nL 794 531 \r\nz\r\n\" id=\"DejaVuSans-31\" transform=\"scale(0.015625)\"/>\r\n       </defs>\r\n       <use xlink:href=\"#DejaVuSans-2212\"/>\r\n       <use x=\"83.789062\" xlink:href=\"#DejaVuSans-31\"/>\r\n      </g>\r\n     </g>\r\n    </g>\r\n    <g id=\"xtick_4\">\r\n     <g id=\"line2d_4\">\r\n      <g>\r\n       <use style=\"stroke:#000000;stroke-width:0.8;\" x=\"207.163397\" xlink:href=\"#m29e866baaa\" y=\"239.758125\"/>\r\n      </g>\r\n     </g>\r\n     <g id=\"text_4\">\r\n      <!-- 0 -->\r\n      <g transform=\"translate(203.982147 254.356562)scale(0.1 -0.1)\">\r\n       <defs>\r\n        <path d=\"M 2034 4250 \r\nQ 1547 4250 1301 3770 \r\nQ 1056 3291 1056 2328 \r\nQ 1056 1369 1301 889 \r\nQ 1547 409 2034 409 \r\nQ 2525 409 2770 889 \r\nQ 3016 1369 3016 2328 \r\nQ 3016 3291 2770 3770 \r\nQ 2525 4250 2034 4250 \r\nz\r\nM 2034 4750 \r\nQ 2819 4750 3233 4129 \r\nQ 3647 3509 3647 2328 \r\nQ 3647 1150 3233 529 \r\nQ 2819 -91 2034 -91 \r\nQ 1250 -91 836 529 \r\nQ 422 1150 422 2328 \r\nQ 422 3509 836 4129 \r\nQ 1250 4750 2034 4750 \r\nz\r\n\" id=\"DejaVuSans-30\" transform=\"scale(0.015625)\"/>\r\n       </defs>\r\n       <use xlink:href=\"#DejaVuSans-30\"/>\r\n      </g>\r\n     </g>\r\n    </g>\r\n    <g id=\"xtick_5\">\r\n     <g id=\"line2d_5\">\r\n      <g>\r\n       <use style=\"stroke:#000000;stroke-width:0.8;\" x=\"250.523443\" xlink:href=\"#m29e866baaa\" y=\"239.758125\"/>\r\n      </g>\r\n     </g>\r\n     <g id=\"text_5\">\r\n      <!-- 1 -->\r\n      <g transform=\"translate(247.342193 254.356562)scale(0.1 -0.1)\">\r\n       <use xlink:href=\"#DejaVuSans-31\"/>\r\n      </g>\r\n     </g>\r\n    </g>\r\n    <g id=\"xtick_6\">\r\n     <g id=\"line2d_6\">\r\n      <g>\r\n       <use style=\"stroke:#000000;stroke-width:0.8;\" x=\"293.883488\" xlink:href=\"#m29e866baaa\" y=\"239.758125\"/>\r\n      </g>\r\n     </g>\r\n     <g id=\"text_6\">\r\n      <!-- 2 -->\r\n      <g transform=\"translate(290.702238 254.356562)scale(0.1 -0.1)\">\r\n       <use xlink:href=\"#DejaVuSans-32\"/>\r\n      </g>\r\n     </g>\r\n    </g>\r\n    <g id=\"xtick_7\">\r\n     <g id=\"line2d_7\">\r\n      <g>\r\n       <use style=\"stroke:#000000;stroke-width:0.8;\" x=\"337.243534\" xlink:href=\"#m29e866baaa\" y=\"239.758125\"/>\r\n      </g>\r\n     </g>\r\n     <g id=\"text_7\">\r\n      <!-- 3 -->\r\n      <g transform=\"translate(334.062284 254.356562)scale(0.1 -0.1)\">\r\n       <use xlink:href=\"#DejaVuSans-33\"/>\r\n      </g>\r\n     </g>\r\n    </g>\r\n    <g id=\"xtick_8\">\r\n     <g id=\"line2d_8\">\r\n      <g>\r\n       <use style=\"stroke:#000000;stroke-width:0.8;\" x=\"380.60358\" xlink:href=\"#m29e866baaa\" y=\"239.758125\"/>\r\n      </g>\r\n     </g>\r\n     <g id=\"text_8\">\r\n      <!-- 4 -->\r\n      <g transform=\"translate(377.42233 254.356562)scale(0.1 -0.1)\">\r\n       <defs>\r\n        <path d=\"M 2419 4116 \r\nL 825 1625 \r\nL 2419 1625 \r\nL 2419 4116 \r\nz\r\nM 2253 4666 \r\nL 3047 4666 \r\nL 3047 1625 \r\nL 3713 1625 \r\nL 3713 1100 \r\nL 3047 1100 \r\nL 3047 0 \r\nL 2419 0 \r\nL 2419 1100 \r\nL 313 1100 \r\nL 313 1709 \r\nL 2253 4666 \r\nz\r\n\" id=\"DejaVuSans-34\" transform=\"scale(0.015625)\"/>\r\n       </defs>\r\n       <use xlink:href=\"#DejaVuSans-34\"/>\r\n      </g>\r\n     </g>\r\n    </g>\r\n    <g id=\"text_9\">\r\n     <!-- PCA 1 -->\r\n     <g transform=\"translate(204.864063 268.034687)scale(0.1 -0.1)\">\r\n      <defs>\r\n       <path d=\"M 1259 4147 \r\nL 1259 2394 \r\nL 2053 2394 \r\nQ 2494 2394 2734 2622 \r\nQ 2975 2850 2975 3272 \r\nQ 2975 3691 2734 3919 \r\nQ 2494 4147 2053 4147 \r\nL 1259 4147 \r\nz\r\nM 628 4666 \r\nL 2053 4666 \r\nQ 2838 4666 3239 4311 \r\nQ 3641 3956 3641 3272 \r\nQ 3641 2581 3239 2228 \r\nQ 2838 1875 2053 1875 \r\nL 1259 1875 \r\nL 1259 0 \r\nL 628 0 \r\nL 628 4666 \r\nz\r\n\" id=\"DejaVuSans-50\" transform=\"scale(0.015625)\"/>\r\n       <path d=\"M 4122 4306 \r\nL 4122 3641 \r\nQ 3803 3938 3442 4084 \r\nQ 3081 4231 2675 4231 \r\nQ 1875 4231 1450 3742 \r\nQ 1025 3253 1025 2328 \r\nQ 1025 1406 1450 917 \r\nQ 1875 428 2675 428 \r\nQ 3081 428 3442 575 \r\nQ 3803 722 4122 1019 \r\nL 4122 359 \r\nQ 3791 134 3420 21 \r\nQ 3050 -91 2638 -91 \r\nQ 1578 -91 968 557 \r\nQ 359 1206 359 2328 \r\nQ 359 3453 968 4101 \r\nQ 1578 4750 2638 4750 \r\nQ 3056 4750 3426 4639 \r\nQ 3797 4528 4122 4306 \r\nz\r\n\" id=\"DejaVuSans-43\" transform=\"scale(0.015625)\"/>\r\n       <path d=\"M 2188 4044 \r\nL 1331 1722 \r\nL 3047 1722 \r\nL 2188 4044 \r\nz\r\nM 1831 4666 \r\nL 2547 4666 \r\nL 4325 0 \r\nL 3669 0 \r\nL 3244 1197 \r\nL 1141 1197 \r\nL 716 0 \r\nL 50 0 \r\nL 1831 4666 \r\nz\r\n\" id=\"DejaVuSans-41\" transform=\"scale(0.015625)\"/>\r\n       <path id=\"DejaVuSans-20\" transform=\"scale(0.015625)\"/>\r\n      </defs>\r\n      <use xlink:href=\"#DejaVuSans-50\"/>\r\n      <use x=\"60.302734\" xlink:href=\"#DejaVuSans-43\"/>\r\n      <use x=\"130.126953\" xlink:href=\"#DejaVuSans-41\"/>\r\n      <use x=\"198.535156\" xlink:href=\"#DejaVuSans-20\"/>\r\n      <use x=\"230.322266\" xlink:href=\"#DejaVuSans-31\"/>\r\n     </g>\r\n    </g>\r\n   </g>\r\n   <g id=\"matplotlib.axis_2\">\r\n    <g id=\"ytick_1\">\r\n     <g id=\"line2d_9\">\r\n      <defs>\r\n       <path d=\"M 0 0 \r\nL -3.5 0 \r\n\" id=\"m45823be5ac\" style=\"stroke:#000000;stroke-width:0.8;\"/>\r\n      </defs>\r\n      <g>\r\n       <use style=\"stroke:#000000;stroke-width:0.8;\" x=\"52.160938\" xlink:href=\"#m45823be5ac\" y=\"209.960649\"/>\r\n      </g>\r\n     </g>\r\n     <g id=\"text_10\">\r\n      <!-- −1.0 -->\r\n      <g transform=\"translate(20.878125 213.759868)scale(0.1 -0.1)\">\r\n       <defs>\r\n        <path d=\"M 684 794 \r\nL 1344 794 \r\nL 1344 0 \r\nL 684 0 \r\nL 684 794 \r\nz\r\n\" id=\"DejaVuSans-2e\" transform=\"scale(0.015625)\"/>\r\n       </defs>\r\n       <use xlink:href=\"#DejaVuSans-2212\"/>\r\n       <use x=\"83.789062\" xlink:href=\"#DejaVuSans-31\"/>\r\n       <use x=\"147.412109\" xlink:href=\"#DejaVuSans-2e\"/>\r\n       <use x=\"179.199219\" xlink:href=\"#DejaVuSans-30\"/>\r\n      </g>\r\n     </g>\r\n    </g>\r\n    <g id=\"ytick_2\">\r\n     <g id=\"line2d_10\">\r\n      <g>\r\n       <use style=\"stroke:#000000;stroke-width:0.8;\" x=\"52.160938\" xlink:href=\"#m45823be5ac\" y=\"172.524565\"/>\r\n      </g>\r\n     </g>\r\n     <g id=\"text_11\">\r\n      <!-- −0.5 -->\r\n      <g transform=\"translate(20.878125 176.323784)scale(0.1 -0.1)\">\r\n       <defs>\r\n        <path d=\"M 691 4666 \r\nL 3169 4666 \r\nL 3169 4134 \r\nL 1269 4134 \r\nL 1269 2991 \r\nQ 1406 3038 1543 3061 \r\nQ 1681 3084 1819 3084 \r\nQ 2600 3084 3056 2656 \r\nQ 3513 2228 3513 1497 \r\nQ 3513 744 3044 326 \r\nQ 2575 -91 1722 -91 \r\nQ 1428 -91 1123 -41 \r\nQ 819 9 494 109 \r\nL 494 744 \r\nQ 775 591 1075 516 \r\nQ 1375 441 1709 441 \r\nQ 2250 441 2565 725 \r\nQ 2881 1009 2881 1497 \r\nQ 2881 1984 2565 2268 \r\nQ 2250 2553 1709 2553 \r\nQ 1456 2553 1204 2497 \r\nQ 953 2441 691 2322 \r\nL 691 4666 \r\nz\r\n\" id=\"DejaVuSans-35\" transform=\"scale(0.015625)\"/>\r\n       </defs>\r\n       <use xlink:href=\"#DejaVuSans-2212\"/>\r\n       <use x=\"83.789062\" xlink:href=\"#DejaVuSans-30\"/>\r\n       <use x=\"147.412109\" xlink:href=\"#DejaVuSans-2e\"/>\r\n       <use x=\"179.199219\" xlink:href=\"#DejaVuSans-35\"/>\r\n      </g>\r\n     </g>\r\n    </g>\r\n    <g id=\"ytick_3\">\r\n     <g id=\"line2d_11\">\r\n      <g>\r\n       <use style=\"stroke:#000000;stroke-width:0.8;\" x=\"52.160938\" xlink:href=\"#m45823be5ac\" y=\"135.088481\"/>\r\n      </g>\r\n     </g>\r\n     <g id=\"text_12\">\r\n      <!-- 0.0 -->\r\n      <g transform=\"translate(29.257812 138.8877)scale(0.1 -0.1)\">\r\n       <use xlink:href=\"#DejaVuSans-30\"/>\r\n       <use x=\"63.623047\" xlink:href=\"#DejaVuSans-2e\"/>\r\n       <use x=\"95.410156\" xlink:href=\"#DejaVuSans-30\"/>\r\n      </g>\r\n     </g>\r\n    </g>\r\n    <g id=\"ytick_4\">\r\n     <g id=\"line2d_12\">\r\n      <g>\r\n       <use style=\"stroke:#000000;stroke-width:0.8;\" x=\"52.160938\" xlink:href=\"#m45823be5ac\" y=\"97.652397\"/>\r\n      </g>\r\n     </g>\r\n     <g id=\"text_13\">\r\n      <!-- 0.5 -->\r\n      <g transform=\"translate(29.257812 101.451615)scale(0.1 -0.1)\">\r\n       <use xlink:href=\"#DejaVuSans-30\"/>\r\n       <use x=\"63.623047\" xlink:href=\"#DejaVuSans-2e\"/>\r\n       <use x=\"95.410156\" xlink:href=\"#DejaVuSans-35\"/>\r\n      </g>\r\n     </g>\r\n    </g>\r\n    <g id=\"ytick_5\">\r\n     <g id=\"line2d_13\">\r\n      <g>\r\n       <use style=\"stroke:#000000;stroke-width:0.8;\" x=\"52.160938\" xlink:href=\"#m45823be5ac\" y=\"60.216313\"/>\r\n      </g>\r\n     </g>\r\n     <g id=\"text_14\">\r\n      <!-- 1.0 -->\r\n      <g transform=\"translate(29.257812 64.015531)scale(0.1 -0.1)\">\r\n       <use xlink:href=\"#DejaVuSans-31\"/>\r\n       <use x=\"63.623047\" xlink:href=\"#DejaVuSans-2e\"/>\r\n       <use x=\"95.410156\" xlink:href=\"#DejaVuSans-30\"/>\r\n      </g>\r\n     </g>\r\n    </g>\r\n    <g id=\"ytick_6\">\r\n     <g id=\"line2d_14\">\r\n      <g>\r\n       <use style=\"stroke:#000000;stroke-width:0.8;\" x=\"52.160938\" xlink:href=\"#m45823be5ac\" y=\"22.780229\"/>\r\n      </g>\r\n     </g>\r\n     <g id=\"text_15\">\r\n      <!-- 1.5 -->\r\n      <g transform=\"translate(29.257812 26.579447)scale(0.1 -0.1)\">\r\n       <use xlink:href=\"#DejaVuSans-31\"/>\r\n       <use x=\"63.623047\" xlink:href=\"#DejaVuSans-2e\"/>\r\n       <use x=\"95.410156\" xlink:href=\"#DejaVuSans-35\"/>\r\n      </g>\r\n     </g>\r\n    </g>\r\n    <g id=\"text_16\">\r\n     <!-- PCA 2 -->\r\n     <g transform=\"translate(14.798437 145.735)rotate(-90)scale(0.1 -0.1)\">\r\n      <use xlink:href=\"#DejaVuSans-50\"/>\r\n      <use x=\"60.302734\" xlink:href=\"#DejaVuSans-43\"/>\r\n      <use x=\"130.126953\" xlink:href=\"#DejaVuSans-41\"/>\r\n      <use x=\"198.535156\" xlink:href=\"#DejaVuSans-20\"/>\r\n      <use x=\"230.322266\" xlink:href=\"#DejaVuSans-32\"/>\r\n     </g>\r\n    </g>\r\n   </g>\r\n   <g id=\"patch_3\">\r\n    <path d=\"M 52.160938 239.758125 \r\nL 52.160938 22.318125 \r\n\" style=\"fill:none;stroke:#000000;stroke-linecap:square;stroke-linejoin:miter;stroke-width:0.8;\"/>\r\n   </g>\r\n   <g id=\"patch_4\">\r\n    <path d=\"M 386.960938 239.758125 \r\nL 386.960938 22.318125 \r\n\" style=\"fill:none;stroke:#000000;stroke-linecap:square;stroke-linejoin:miter;stroke-width:0.8;\"/>\r\n   </g>\r\n   <g id=\"patch_5\">\r\n    <path d=\"M 52.160937 239.758125 \r\nL 386.960938 239.758125 \r\n\" style=\"fill:none;stroke:#000000;stroke-linecap:square;stroke-linejoin:miter;stroke-width:0.8;\"/>\r\n   </g>\r\n   <g id=\"patch_6\">\r\n    <path d=\"M 52.160937 22.318125 \r\nL 386.960938 22.318125 \r\n\" style=\"fill:none;stroke:#000000;stroke-linecap:square;stroke-linejoin:miter;stroke-width:0.8;\"/>\r\n   </g>\r\n   <g id=\"text_17\">\r\n    <!-- 3 Clusters Visualization by 2 PCA Components -->\r\n    <g transform=\"translate(80.9375 16.318125)scale(0.12 -0.12)\">\r\n     <defs>\r\n      <path d=\"M 603 4863 \r\nL 1178 4863 \r\nL 1178 0 \r\nL 603 0 \r\nL 603 4863 \r\nz\r\n\" id=\"DejaVuSans-6c\" transform=\"scale(0.015625)\"/>\r\n      <path d=\"M 544 1381 \r\nL 544 3500 \r\nL 1119 3500 \r\nL 1119 1403 \r\nQ 1119 906 1312 657 \r\nQ 1506 409 1894 409 \r\nQ 2359 409 2629 706 \r\nQ 2900 1003 2900 1516 \r\nL 2900 3500 \r\nL 3475 3500 \r\nL 3475 0 \r\nL 2900 0 \r\nL 2900 538 \r\nQ 2691 219 2414 64 \r\nQ 2138 -91 1772 -91 \r\nQ 1169 -91 856 284 \r\nQ 544 659 544 1381 \r\nz\r\nM 1991 3584 \r\nL 1991 3584 \r\nz\r\n\" id=\"DejaVuSans-75\" transform=\"scale(0.015625)\"/>\r\n      <path d=\"M 2834 3397 \r\nL 2834 2853 \r\nQ 2591 2978 2328 3040 \r\nQ 2066 3103 1784 3103 \r\nQ 1356 3103 1142 2972 \r\nQ 928 2841 928 2578 \r\nQ 928 2378 1081 2264 \r\nQ 1234 2150 1697 2047 \r\nL 1894 2003 \r\nQ 2506 1872 2764 1633 \r\nQ 3022 1394 3022 966 \r\nQ 3022 478 2636 193 \r\nQ 2250 -91 1575 -91 \r\nQ 1294 -91 989 -36 \r\nQ 684 19 347 128 \r\nL 347 722 \r\nQ 666 556 975 473 \r\nQ 1284 391 1588 391 \r\nQ 1994 391 2212 530 \r\nQ 2431 669 2431 922 \r\nQ 2431 1156 2273 1281 \r\nQ 2116 1406 1581 1522 \r\nL 1381 1569 \r\nQ 847 1681 609 1914 \r\nQ 372 2147 372 2553 \r\nQ 372 3047 722 3315 \r\nQ 1072 3584 1716 3584 \r\nQ 2034 3584 2315 3537 \r\nQ 2597 3491 2834 3397 \r\nz\r\n\" id=\"DejaVuSans-73\" transform=\"scale(0.015625)\"/>\r\n      <path d=\"M 1172 4494 \r\nL 1172 3500 \r\nL 2356 3500 \r\nL 2356 3053 \r\nL 1172 3053 \r\nL 1172 1153 \r\nQ 1172 725 1289 603 \r\nQ 1406 481 1766 481 \r\nL 2356 481 \r\nL 2356 0 \r\nL 1766 0 \r\nQ 1100 0 847 248 \r\nQ 594 497 594 1153 \r\nL 594 3053 \r\nL 172 3053 \r\nL 172 3500 \r\nL 594 3500 \r\nL 594 4494 \r\nL 1172 4494 \r\nz\r\n\" id=\"DejaVuSans-74\" transform=\"scale(0.015625)\"/>\r\n      <path d=\"M 3597 1894 \r\nL 3597 1613 \r\nL 953 1613 \r\nQ 991 1019 1311 708 \r\nQ 1631 397 2203 397 \r\nQ 2534 397 2845 478 \r\nQ 3156 559 3463 722 \r\nL 3463 178 \r\nQ 3153 47 2828 -22 \r\nQ 2503 -91 2169 -91 \r\nQ 1331 -91 842 396 \r\nQ 353 884 353 1716 \r\nQ 353 2575 817 3079 \r\nQ 1281 3584 2069 3584 \r\nQ 2775 3584 3186 3129 \r\nQ 3597 2675 3597 1894 \r\nz\r\nM 3022 2063 \r\nQ 3016 2534 2758 2815 \r\nQ 2500 3097 2075 3097 \r\nQ 1594 3097 1305 2825 \r\nQ 1016 2553 972 2059 \r\nL 3022 2063 \r\nz\r\n\" id=\"DejaVuSans-65\" transform=\"scale(0.015625)\"/>\r\n      <path d=\"M 2631 2963 \r\nQ 2534 3019 2420 3045 \r\nQ 2306 3072 2169 3072 \r\nQ 1681 3072 1420 2755 \r\nQ 1159 2438 1159 1844 \r\nL 1159 0 \r\nL 581 0 \r\nL 581 3500 \r\nL 1159 3500 \r\nL 1159 2956 \r\nQ 1341 3275 1631 3429 \r\nQ 1922 3584 2338 3584 \r\nQ 2397 3584 2469 3576 \r\nQ 2541 3569 2628 3553 \r\nL 2631 2963 \r\nz\r\n\" id=\"DejaVuSans-72\" transform=\"scale(0.015625)\"/>\r\n      <path d=\"M 1831 0 \r\nL 50 4666 \r\nL 709 4666 \r\nL 2188 738 \r\nL 3669 4666 \r\nL 4325 4666 \r\nL 2547 0 \r\nL 1831 0 \r\nz\r\n\" id=\"DejaVuSans-56\" transform=\"scale(0.015625)\"/>\r\n      <path d=\"M 603 3500 \r\nL 1178 3500 \r\nL 1178 0 \r\nL 603 0 \r\nL 603 3500 \r\nz\r\nM 603 4863 \r\nL 1178 4863 \r\nL 1178 4134 \r\nL 603 4134 \r\nL 603 4863 \r\nz\r\n\" id=\"DejaVuSans-69\" transform=\"scale(0.015625)\"/>\r\n      <path d=\"M 2194 1759 \r\nQ 1497 1759 1228 1600 \r\nQ 959 1441 959 1056 \r\nQ 959 750 1161 570 \r\nQ 1363 391 1709 391 \r\nQ 2188 391 2477 730 \r\nQ 2766 1069 2766 1631 \r\nL 2766 1759 \r\nL 2194 1759 \r\nz\r\nM 3341 1997 \r\nL 3341 0 \r\nL 2766 0 \r\nL 2766 531 \r\nQ 2569 213 2275 61 \r\nQ 1981 -91 1556 -91 \r\nQ 1019 -91 701 211 \r\nQ 384 513 384 1019 \r\nQ 384 1609 779 1909 \r\nQ 1175 2209 1959 2209 \r\nL 2766 2209 \r\nL 2766 2266 \r\nQ 2766 2663 2505 2880 \r\nQ 2244 3097 1772 3097 \r\nQ 1472 3097 1187 3025 \r\nQ 903 2953 641 2809 \r\nL 641 3341 \r\nQ 956 3463 1253 3523 \r\nQ 1550 3584 1831 3584 \r\nQ 2591 3584 2966 3190 \r\nQ 3341 2797 3341 1997 \r\nz\r\n\" id=\"DejaVuSans-61\" transform=\"scale(0.015625)\"/>\r\n      <path d=\"M 353 3500 \r\nL 3084 3500 \r\nL 3084 2975 \r\nL 922 459 \r\nL 3084 459 \r\nL 3084 0 \r\nL 275 0 \r\nL 275 525 \r\nL 2438 3041 \r\nL 353 3041 \r\nL 353 3500 \r\nz\r\n\" id=\"DejaVuSans-7a\" transform=\"scale(0.015625)\"/>\r\n      <path d=\"M 1959 3097 \r\nQ 1497 3097 1228 2736 \r\nQ 959 2375 959 1747 \r\nQ 959 1119 1226 758 \r\nQ 1494 397 1959 397 \r\nQ 2419 397 2687 759 \r\nQ 2956 1122 2956 1747 \r\nQ 2956 2369 2687 2733 \r\nQ 2419 3097 1959 3097 \r\nz\r\nM 1959 3584 \r\nQ 2709 3584 3137 3096 \r\nQ 3566 2609 3566 1747 \r\nQ 3566 888 3137 398 \r\nQ 2709 -91 1959 -91 \r\nQ 1206 -91 779 398 \r\nQ 353 888 353 1747 \r\nQ 353 2609 779 3096 \r\nQ 1206 3584 1959 3584 \r\nz\r\n\" id=\"DejaVuSans-6f\" transform=\"scale(0.015625)\"/>\r\n      <path d=\"M 3513 2113 \r\nL 3513 0 \r\nL 2938 0 \r\nL 2938 2094 \r\nQ 2938 2591 2744 2837 \r\nQ 2550 3084 2163 3084 \r\nQ 1697 3084 1428 2787 \r\nQ 1159 2491 1159 1978 \r\nL 1159 0 \r\nL 581 0 \r\nL 581 3500 \r\nL 1159 3500 \r\nL 1159 2956 \r\nQ 1366 3272 1645 3428 \r\nQ 1925 3584 2291 3584 \r\nQ 2894 3584 3203 3211 \r\nQ 3513 2838 3513 2113 \r\nz\r\n\" id=\"DejaVuSans-6e\" transform=\"scale(0.015625)\"/>\r\n      <path d=\"M 3116 1747 \r\nQ 3116 2381 2855 2742 \r\nQ 2594 3103 2138 3103 \r\nQ 1681 3103 1420 2742 \r\nQ 1159 2381 1159 1747 \r\nQ 1159 1113 1420 752 \r\nQ 1681 391 2138 391 \r\nQ 2594 391 2855 752 \r\nQ 3116 1113 3116 1747 \r\nz\r\nM 1159 2969 \r\nQ 1341 3281 1617 3432 \r\nQ 1894 3584 2278 3584 \r\nQ 2916 3584 3314 3078 \r\nQ 3713 2572 3713 1747 \r\nQ 3713 922 3314 415 \r\nQ 2916 -91 2278 -91 \r\nQ 1894 -91 1617 61 \r\nQ 1341 213 1159 525 \r\nL 1159 0 \r\nL 581 0 \r\nL 581 4863 \r\nL 1159 4863 \r\nL 1159 2969 \r\nz\r\n\" id=\"DejaVuSans-62\" transform=\"scale(0.015625)\"/>\r\n      <path d=\"M 2059 -325 \r\nQ 1816 -950 1584 -1140 \r\nQ 1353 -1331 966 -1331 \r\nL 506 -1331 \r\nL 506 -850 \r\nL 844 -850 \r\nQ 1081 -850 1212 -737 \r\nQ 1344 -625 1503 -206 \r\nL 1606 56 \r\nL 191 3500 \r\nL 800 3500 \r\nL 1894 763 \r\nL 2988 3500 \r\nL 3597 3500 \r\nL 2059 -325 \r\nz\r\n\" id=\"DejaVuSans-79\" transform=\"scale(0.015625)\"/>\r\n      <path d=\"M 3328 2828 \r\nQ 3544 3216 3844 3400 \r\nQ 4144 3584 4550 3584 \r\nQ 5097 3584 5394 3201 \r\nQ 5691 2819 5691 2113 \r\nL 5691 0 \r\nL 5113 0 \r\nL 5113 2094 \r\nQ 5113 2597 4934 2840 \r\nQ 4756 3084 4391 3084 \r\nQ 3944 3084 3684 2787 \r\nQ 3425 2491 3425 1978 \r\nL 3425 0 \r\nL 2847 0 \r\nL 2847 2094 \r\nQ 2847 2600 2669 2842 \r\nQ 2491 3084 2119 3084 \r\nQ 1678 3084 1418 2786 \r\nQ 1159 2488 1159 1978 \r\nL 1159 0 \r\nL 581 0 \r\nL 581 3500 \r\nL 1159 3500 \r\nL 1159 2956 \r\nQ 1356 3278 1631 3431 \r\nQ 1906 3584 2284 3584 \r\nQ 2666 3584 2933 3390 \r\nQ 3200 3197 3328 2828 \r\nz\r\n\" id=\"DejaVuSans-6d\" transform=\"scale(0.015625)\"/>\r\n      <path d=\"M 1159 525 \r\nL 1159 -1331 \r\nL 581 -1331 \r\nL 581 3500 \r\nL 1159 3500 \r\nL 1159 2969 \r\nQ 1341 3281 1617 3432 \r\nQ 1894 3584 2278 3584 \r\nQ 2916 3584 3314 3078 \r\nQ 3713 2572 3713 1747 \r\nQ 3713 922 3314 415 \r\nQ 2916 -91 2278 -91 \r\nQ 1894 -91 1617 61 \r\nQ 1341 213 1159 525 \r\nz\r\nM 3116 1747 \r\nQ 3116 2381 2855 2742 \r\nQ 2594 3103 2138 3103 \r\nQ 1681 3103 1420 2742 \r\nQ 1159 2381 1159 1747 \r\nQ 1159 1113 1420 752 \r\nQ 1681 391 2138 391 \r\nQ 2594 391 2855 752 \r\nQ 3116 1113 3116 1747 \r\nz\r\n\" id=\"DejaVuSans-70\" transform=\"scale(0.015625)\"/>\r\n     </defs>\r\n     <use xlink:href=\"#DejaVuSans-33\"/>\r\n     <use x=\"63.623047\" xlink:href=\"#DejaVuSans-20\"/>\r\n     <use x=\"95.410156\" xlink:href=\"#DejaVuSans-43\"/>\r\n     <use x=\"165.234375\" xlink:href=\"#DejaVuSans-6c\"/>\r\n     <use x=\"193.017578\" xlink:href=\"#DejaVuSans-75\"/>\r\n     <use x=\"256.396484\" xlink:href=\"#DejaVuSans-73\"/>\r\n     <use x=\"308.496094\" xlink:href=\"#DejaVuSans-74\"/>\r\n     <use x=\"347.705078\" xlink:href=\"#DejaVuSans-65\"/>\r\n     <use x=\"409.228516\" xlink:href=\"#DejaVuSans-72\"/>\r\n     <use x=\"450.341797\" xlink:href=\"#DejaVuSans-73\"/>\r\n     <use x=\"502.441406\" xlink:href=\"#DejaVuSans-20\"/>\r\n     <use x=\"534.228516\" xlink:href=\"#DejaVuSans-56\"/>\r\n     <use x=\"600.386719\" xlink:href=\"#DejaVuSans-69\"/>\r\n     <use x=\"628.169922\" xlink:href=\"#DejaVuSans-73\"/>\r\n     <use x=\"680.269531\" xlink:href=\"#DejaVuSans-75\"/>\r\n     <use x=\"743.648438\" xlink:href=\"#DejaVuSans-61\"/>\r\n     <use x=\"804.927734\" xlink:href=\"#DejaVuSans-6c\"/>\r\n     <use x=\"832.710938\" xlink:href=\"#DejaVuSans-69\"/>\r\n     <use x=\"860.494141\" xlink:href=\"#DejaVuSans-7a\"/>\r\n     <use x=\"912.984375\" xlink:href=\"#DejaVuSans-61\"/>\r\n     <use x=\"974.263672\" xlink:href=\"#DejaVuSans-74\"/>\r\n     <use x=\"1013.472656\" xlink:href=\"#DejaVuSans-69\"/>\r\n     <use x=\"1041.255859\" xlink:href=\"#DejaVuSans-6f\"/>\r\n     <use x=\"1102.4375\" xlink:href=\"#DejaVuSans-6e\"/>\r\n     <use x=\"1165.816406\" xlink:href=\"#DejaVuSans-20\"/>\r\n     <use x=\"1197.603516\" xlink:href=\"#DejaVuSans-62\"/>\r\n     <use x=\"1261.080078\" xlink:href=\"#DejaVuSans-79\"/>\r\n     <use x=\"1320.259766\" xlink:href=\"#DejaVuSans-20\"/>\r\n     <use x=\"1352.046875\" xlink:href=\"#DejaVuSans-32\"/>\r\n     <use x=\"1415.669922\" xlink:href=\"#DejaVuSans-20\"/>\r\n     <use x=\"1447.457031\" xlink:href=\"#DejaVuSans-50\"/>\r\n     <use x=\"1507.759766\" xlink:href=\"#DejaVuSans-43\"/>\r\n     <use x=\"1577.583984\" xlink:href=\"#DejaVuSans-41\"/>\r\n     <use x=\"1645.992188\" xlink:href=\"#DejaVuSans-20\"/>\r\n     <use x=\"1677.779297\" xlink:href=\"#DejaVuSans-43\"/>\r\n     <use x=\"1747.603516\" xlink:href=\"#DejaVuSans-6f\"/>\r\n     <use x=\"1808.785156\" xlink:href=\"#DejaVuSans-6d\"/>\r\n     <use x=\"1906.197266\" xlink:href=\"#DejaVuSans-70\"/>\r\n     <use x=\"1969.673828\" xlink:href=\"#DejaVuSans-6f\"/>\r\n     <use x=\"2030.855469\" xlink:href=\"#DejaVuSans-6e\"/>\r\n     <use x=\"2094.234375\" xlink:href=\"#DejaVuSans-65\"/>\r\n     <use x=\"2155.757812\" xlink:href=\"#DejaVuSans-6e\"/>\r\n     <use x=\"2219.136719\" xlink:href=\"#DejaVuSans-74\"/>\r\n     <use x=\"2258.345703\" xlink:href=\"#DejaVuSans-73\"/>\r\n    </g>\r\n   </g>\r\n  </g>\r\n </g>\r\n <defs>\r\n  <clipPath id=\"p65c3a630bc\">\r\n   <rect height=\"217.44\" width=\"334.8\" x=\"52.160938\" y=\"22.318125\"/>\r\n  </clipPath>\r\n </defs>\r\n</svg>\r\n",
      "image/png": "[encoded data removed]"
     },
     "metadata": {
      "needs_background": "light"
     }
    }
   ],
   "source": [
    "# cluster 값이 0, 1, 2인 경우마다 별도의 index로 추출\n",
    "marker0_ind = irisDF[irisDF['cluster']==0].index\n",
    "marker1_ind = irisDF[irisDF['cluster']==1].index\n",
    "marker2_ind = irisDF[irisDF['cluster']==2].index\n",
    "\n",
    "# cluster 값 0, 1, 2에 해당하는 Index로 각 cluster 레벨의 pca_x, pca_y값 추출. o, s, ^ 로 marker 표시\n",
    "plt.scatter(x=irisDF.loc[marker0_ind,'pca_x'], y=irisDF.loc[marker0_ind,'pca_y'], marker='o') \n",
    "plt.scatter(x=irisDF.loc[marker1_ind,'pca_x'], y=irisDF.loc[marker1_ind,'pca_y'], marker='s')\n",
    "plt.scatter(x=irisDF.loc[marker2_ind,'pca_x'], y=irisDF.loc[marker2_ind,'pca_y'], marker='^')\n",
    "plt.xlabel('PCA 1')\n",
    "plt.ylabel('PCA 2')\n",
    "plt.title('3 Clusters Visualization by 2 PCA Components')\n",
    "plt.show()"
   ]
  },
  {
   "cell_type": "markdown",
   "metadata": {},
   "source": [
    "### Clustering 알고리즘 테스트를 위한 데이터 생성 "
   ]
  },
  {
   "cell_type": "code",
   "execution_count": 22,
   "metadata": {
    "collapsed": true
   },
   "outputs": [
    {
     "output_type": "stream",
     "name": "stdout",
     "text": [
      "(200, 2) (200,)\n[0 1 2] [67 67 66]\n"
     ]
    }
   ],
   "source": [
    "import numpy as np\n",
    "import matplotlib.pyplot as plt\n",
    "from sklearn.cluster import KMeans\n",
    "from sklearn.datasets import make_blobs # 데이터를 생성할 수 있도록 해준다.\n",
    "%matplotlib inline\n",
    "\n",
    "X,y = make_blobs(n_samples=200, n_features=2, centers=3, cluster_std=0.8, random_state=0)\n",
    "print(X.shape, y.shape)\n",
    "\n",
    "# y target 값의 분포를 확인\n",
    "unique, counts = np.unique(y, return_counts=True)\n",
    "print(unique, counts)"
   ]
  },
  {
   "cell_type": "markdown",
   "metadata": {},
   "source": [
    "* n_samples: 생성할 총 데이터의 개수입니다. 디폴트는 100개입니다.  \n",
    "\n",
    "\n",
    "* n_features: 데이터의 피처 개수입니다. 시각화를 목표로 할 경우 2개로 설정해 보통 첫 번째 피처는 x 좌표, 두 번째 피처\n",
    "는 y 좌표상에 표현합니다.  \n",
    "\n",
    "\n",
    "* centers: int 값, 예를 들어 3으로 설정하면 군집의 개수를 나타냅니다. 그렇지 않고 ndarray 형태로 표현할 경우 개별 군\n",
    "집 중심점의 좌표를 의미합니다.  \n",
    "\n",
    "\n",
    "* cluster_std: 생성될 군집 데이터의 표준 편차를 의미합니다. 만일 float 값 0.8과 같은 형태로 지정하면 군집 내에서 데이\n",
    "터가 표준편차 0.8을 가진 값으로 만들어집니다.   \n",
    "[0.8, 1,2, 0.6]과 같은 형태로 표현되면 3개의 군집에서 첫 번째 군집 내\n",
    "데이터의 표준편차는 0.8, 두 번째 군집 내 데이터의 표준 편차는 1.2, 세 번째 군집 내 데이터의 표준편차는 0.6으로 만듭\n",
    "니다.   \n",
    "군집별로 서로 다른 표준 편차를 가진 데이터 세트를 만들 때 사용합니다  "
   ]
  },
  {
   "cell_type": "code",
   "execution_count": 24,
   "metadata": {
    "collapsed": true
   },
   "outputs": [
    {
     "output_type": "execute_result",
     "data": {
      "text/plain": [
       "       ftr1      ftr2  target\n",
       "0 -1.692427  3.622025       2\n",
       "1  0.697940  4.428867       0\n",
       "2  1.100228  4.606317       0\n",
       "3 -1.448724  3.384245       2\n",
       "4  1.214861  5.364896       0"
      ],
      "text/html": "<div>\n<style scoped>\n    .dataframe tbody tr th:only-of-type {\n        vertical-align: middle;\n    }\n\n    .dataframe tbody tr th {\n        vertical-align: top;\n    }\n\n    .dataframe thead th {\n        text-align: right;\n    }\n</style>\n<table border=\"1\" class=\"dataframe\">\n  <thead>\n    <tr style=\"text-align: right;\">\n      <th></th>\n      <th>ftr1</th>\n      <th>ftr2</th>\n      <th>target</th>\n    </tr>\n  </thead>\n  <tbody>\n    <tr>\n      <th>0</th>\n      <td>-1.692427</td>\n      <td>3.622025</td>\n      <td>2</td>\n    </tr>\n    <tr>\n      <th>1</th>\n      <td>0.697940</td>\n      <td>4.428867</td>\n      <td>0</td>\n    </tr>\n    <tr>\n      <th>2</th>\n      <td>1.100228</td>\n      <td>4.606317</td>\n      <td>0</td>\n    </tr>\n    <tr>\n      <th>3</th>\n      <td>-1.448724</td>\n      <td>3.384245</td>\n      <td>2</td>\n    </tr>\n    <tr>\n      <th>4</th>\n      <td>1.214861</td>\n      <td>5.364896</td>\n      <td>0</td>\n    </tr>\n  </tbody>\n</table>\n</div>"
     },
     "metadata": {},
     "execution_count": 24
    }
   ],
   "source": [
    "import pandas as pd\n",
    "\n",
    "clusterDF = pd.DataFrame(data=X, columns=['ftr1', 'ftr2'])\n",
    "clusterDF['target'] = y\n",
    "clusterDF.head()"
   ]
  },
  {
   "cell_type": "markdown",
   "metadata": {},
   "source": [
    "**make_blob()으로 만들어진 데이터 포인트들을 시각화**"
   ]
  },
  {
   "cell_type": "code",
   "execution_count": 31,
   "metadata": {
    "collapsed": true
   },
   "outputs": [
    {
     "output_type": "display_data",
     "data": {
      "text/plain": "<Figure size 432x288 with 1 Axes>",
      "image/svg+xml": "<?xml version=\"1.0\" encoding=\"utf-8\" standalone=\"no\"?>\r\n<!DOCTYPE svg PUBLIC \"-//W3C//DTD SVG 1.1//EN\"\r\n  \"http://www.w3.org/Graphics/SVG/1.1/DTD/svg11.dtd\">\r\n<svg height=\"248.518125pt\" version=\"1.1\" viewBox=\"0 0 370.942187 248.518125\" width=\"370.942187pt\" xmlns=\"http://www.w3.org/2000/svg\" xmlns:xlink=\"http://www.w3.org/1999/xlink\">\r\n <metadata>\r\n  <rdf:RDF xmlns:cc=\"http://creativecommons.org/ns#\" xmlns:dc=\"http://purl.org/dc/elements/1.1/\" xmlns:rdf=\"http://www.w3.org/1999/02/22-rdf-syntax-ns#\">\r\n   <cc:Work>\r\n    <dc:type rdf:resource=\"http://purl.org/dc/dcmitype/StillImage\"/>\r\n    <dc:date>2021-06-16T22:34:24.975788</dc:date>\r\n    <dc:format>image/svg+xml</dc:format>\r\n    <dc:creator>\r\n     <cc:Agent>\r\n      <dc:title>Matplotlib v3.4.2, https://matplotlib.org/</dc:title>\r\n     </cc:Agent>\r\n    </dc:creator>\r\n   </cc:Work>\r\n  </rdf:RDF>\r\n </metadata>\r\n <defs>\r\n  <style type=\"text/css\">*{stroke-linecap:butt;stroke-linejoin:round;}</style>\r\n </defs>\r\n <g id=\"figure_1\">\r\n  <g id=\"patch_1\">\r\n   <path d=\"M 0 248.518125 \r\nL 370.942187 248.518125 \r\nL 370.942187 0 \r\nL 0 0 \r\nz\r\n\" style=\"fill:none;\"/>\r\n  </g>\r\n  <g id=\"axes_1\">\r\n   <g id=\"patch_2\">\r\n    <path d=\"M 28.942188 224.64 \r\nL 363.742188 224.64 \r\nL 363.742188 7.2 \r\nL 28.942188 7.2 \r\nz\r\n\" style=\"fill:#ffffff;\"/>\r\n   </g>\r\n   <g id=\"PathCollection_1\">\r\n    <defs>\r\n     <path d=\"M 0 3 \r\nC 0.795609 3 1.55874 2.683901 2.12132 2.12132 \r\nC 2.683901 1.55874 3 0.795609 3 0 \r\nC 3 -0.795609 2.683901 -1.55874 2.12132 -2.12132 \r\nC 1.55874 -2.683901 0.795609 -3 0 -3 \r\nC -0.795609 -3 -1.55874 -2.683901 -2.12132 -2.12132 \r\nC -2.683901 -1.55874 -3 -0.795609 -3 0 \r\nC -3 0.795609 -2.683901 1.55874 -2.12132 2.12132 \r\nC -1.55874 2.683901 -0.795609 3 0 3 \r\nz\r\n\" id=\"mdfe24dd445\" style=\"stroke:#000000;\"/>\r\n    </defs>\r\n    <g clip-path=\"url(#p71b15bf70b)\">\r\n     <use style=\"fill:#1f77b4;stroke:#000000;\" x=\"218.089153\" xlink:href=\"#mdfe24dd445\" y=\"56.579045\"/>\r\n     <use style=\"fill:#1f77b4;stroke:#000000;\" x=\"234.166008\" xlink:href=\"#mdfe24dd445\" y=\"51.696919\"/>\r\n     <use style=\"fill:#1f77b4;stroke:#000000;\" x=\"238.747137\" xlink:href=\"#mdfe24dd445\" y=\"30.826478\"/>\r\n     <use style=\"fill:#1f77b4;stroke:#000000;\" x=\"233.269694\" xlink:href=\"#mdfe24dd445\" y=\"51.172489\"/>\r\n     <use style=\"fill:#1f77b4;stroke:#000000;\" x=\"216.32229\" xlink:href=\"#mdfe24dd445\" y=\"33.114221\"/>\r\n     <use style=\"fill:#1f77b4;stroke:#000000;\" x=\"253.543239\" xlink:href=\"#mdfe24dd445\" y=\"57.342221\"/>\r\n     <use style=\"fill:#1f77b4;stroke:#000000;\" x=\"241.872882\" xlink:href=\"#mdfe24dd445\" y=\"84.078628\"/>\r\n     <use style=\"fill:#1f77b4;stroke:#000000;\" x=\"200.205092\" xlink:href=\"#mdfe24dd445\" y=\"58.876973\"/>\r\n     <use style=\"fill:#1f77b4;stroke:#000000;\" x=\"203.215215\" xlink:href=\"#mdfe24dd445\" y=\"98.015854\"/>\r\n     <use style=\"fill:#1f77b4;stroke:#000000;\" x=\"230.675144\" xlink:href=\"#mdfe24dd445\" y=\"64.140219\"/>\r\n     <use style=\"fill:#1f77b4;stroke:#000000;\" x=\"259.49667\" xlink:href=\"#mdfe24dd445\" y=\"63.432073\"/>\r\n     <use style=\"fill:#1f77b4;stroke:#000000;\" x=\"177.614495\" xlink:href=\"#mdfe24dd445\" y=\"64.702717\"/>\r\n     <use style=\"fill:#1f77b4;stroke:#000000;\" x=\"244.099836\" xlink:href=\"#mdfe24dd445\" y=\"93.833088\"/>\r\n     <use style=\"fill:#1f77b4;stroke:#000000;\" x=\"229.5479\" xlink:href=\"#mdfe24dd445\" y=\"20.713201\"/>\r\n     <use style=\"fill:#1f77b4;stroke:#000000;\" x=\"215.988449\" xlink:href=\"#mdfe24dd445\" y=\"76.471808\"/>\r\n     <use style=\"fill:#1f77b4;stroke:#000000;\" x=\"240.605547\" xlink:href=\"#mdfe24dd445\" y=\"44.468585\"/>\r\n     <use style=\"fill:#1f77b4;stroke:#000000;\" x=\"288.91968\" xlink:href=\"#mdfe24dd445\" y=\"40.078208\"/>\r\n     <use style=\"fill:#1f77b4;stroke:#000000;\" x=\"268.545662\" xlink:href=\"#mdfe24dd445\" y=\"33.555857\"/>\r\n     <use style=\"fill:#1f77b4;stroke:#000000;\" x=\"207.653207\" xlink:href=\"#mdfe24dd445\" y=\"59.319701\"/>\r\n     <use style=\"fill:#1f77b4;stroke:#000000;\" x=\"191.706436\" xlink:href=\"#mdfe24dd445\" y=\"17.241101\"/>\r\n     <use style=\"fill:#1f77b4;stroke:#000000;\" x=\"231.338818\" xlink:href=\"#mdfe24dd445\" y=\"53.362873\"/>\r\n     <use style=\"fill:#1f77b4;stroke:#000000;\" x=\"208.932379\" xlink:href=\"#mdfe24dd445\" y=\"68.004243\"/>\r\n     <use style=\"fill:#1f77b4;stroke:#000000;\" x=\"247.646312\" xlink:href=\"#mdfe24dd445\" y=\"64.604959\"/>\r\n     <use style=\"fill:#1f77b4;stroke:#000000;\" x=\"276.792915\" xlink:href=\"#mdfe24dd445\" y=\"18.291685\"/>\r\n     <use style=\"fill:#1f77b4;stroke:#000000;\" x=\"228.311195\" xlink:href=\"#mdfe24dd445\" y=\"50.592689\"/>\r\n     <use style=\"fill:#1f77b4;stroke:#000000;\" x=\"194.979318\" xlink:href=\"#mdfe24dd445\" y=\"36.811762\"/>\r\n     <use style=\"fill:#1f77b4;stroke:#000000;\" x=\"215.29997\" xlink:href=\"#mdfe24dd445\" y=\"19.317913\"/>\r\n     <use style=\"fill:#1f77b4;stroke:#000000;\" x=\"189.159254\" xlink:href=\"#mdfe24dd445\" y=\"42.907695\"/>\r\n     <use style=\"fill:#1f77b4;stroke:#000000;\" x=\"234.884672\" xlink:href=\"#mdfe24dd445\" y=\"68.86351\"/>\r\n     <use style=\"fill:#1f77b4;stroke:#000000;\" x=\"225.912209\" xlink:href=\"#mdfe24dd445\" y=\"50.983001\"/>\r\n     <use style=\"fill:#1f77b4;stroke:#000000;\" x=\"256.848978\" xlink:href=\"#mdfe24dd445\" y=\"76.35538\"/>\r\n     <use style=\"fill:#1f77b4;stroke:#000000;\" x=\"212.918184\" xlink:href=\"#mdfe24dd445\" y=\"69.662329\"/>\r\n     <use style=\"fill:#1f77b4;stroke:#000000;\" x=\"201.678075\" xlink:href=\"#mdfe24dd445\" y=\"17.979675\"/>\r\n     <use style=\"fill:#1f77b4;stroke:#000000;\" x=\"201.372067\" xlink:href=\"#mdfe24dd445\" y=\"72.760801\"/>\r\n     <use style=\"fill:#1f77b4;stroke:#000000;\" x=\"220.643906\" xlink:href=\"#mdfe24dd445\" y=\"42.358191\"/>\r\n     <use style=\"fill:#1f77b4;stroke:#000000;\" x=\"242.075415\" xlink:href=\"#mdfe24dd445\" y=\"75.092995\"/>\r\n     <use style=\"fill:#1f77b4;stroke:#000000;\" x=\"278.216482\" xlink:href=\"#mdfe24dd445\" y=\"27.679639\"/>\r\n     <use style=\"fill:#1f77b4;stroke:#000000;\" x=\"207.713063\" xlink:href=\"#mdfe24dd445\" y=\"67.934075\"/>\r\n     <use style=\"fill:#1f77b4;stroke:#000000;\" x=\"177.093354\" xlink:href=\"#mdfe24dd445\" y=\"49.834434\"/>\r\n     <use style=\"fill:#1f77b4;stroke:#000000;\" x=\"200.583365\" xlink:href=\"#mdfe24dd445\" y=\"51.504551\"/>\r\n     <use style=\"fill:#1f77b4;stroke:#000000;\" x=\"147.590913\" xlink:href=\"#mdfe24dd445\" y=\"45.634118\"/>\r\n     <use style=\"fill:#1f77b4;stroke:#000000;\" x=\"212.881323\" xlink:href=\"#mdfe24dd445\" y=\"86.006063\"/>\r\n     <use style=\"fill:#1f77b4;stroke:#000000;\" x=\"216.829032\" xlink:href=\"#mdfe24dd445\" y=\"66.673991\"/>\r\n     <use style=\"fill:#1f77b4;stroke:#000000;\" x=\"243.402896\" xlink:href=\"#mdfe24dd445\" y=\"52.676106\"/>\r\n     <use style=\"fill:#1f77b4;stroke:#000000;\" x=\"265.63983\" xlink:href=\"#mdfe24dd445\" y=\"87.198867\"/>\r\n     <use style=\"fill:#1f77b4;stroke:#000000;\" x=\"241.246855\" xlink:href=\"#mdfe24dd445\" y=\"84.218156\"/>\r\n     <use style=\"fill:#1f77b4;stroke:#000000;\" x=\"195.68906\" xlink:href=\"#mdfe24dd445\" y=\"91.274954\"/>\r\n     <use style=\"fill:#1f77b4;stroke:#000000;\" x=\"248.844854\" xlink:href=\"#mdfe24dd445\" y=\"39.722482\"/>\r\n     <use style=\"fill:#1f77b4;stroke:#000000;\" x=\"250.70605\" xlink:href=\"#mdfe24dd445\" y=\"51.052039\"/>\r\n     <use style=\"fill:#1f77b4;stroke:#000000;\" x=\"259.587353\" xlink:href=\"#mdfe24dd445\" y=\"63.351673\"/>\r\n     <use style=\"fill:#1f77b4;stroke:#000000;\" x=\"276.979205\" xlink:href=\"#mdfe24dd445\" y=\"64.535836\"/>\r\n     <use style=\"fill:#1f77b4;stroke:#000000;\" x=\"219.251601\" xlink:href=\"#mdfe24dd445\" y=\"58.784092\"/>\r\n     <use style=\"fill:#1f77b4;stroke:#000000;\" x=\"208.883656\" xlink:href=\"#mdfe24dd445\" y=\"45.131965\"/>\r\n     <use style=\"fill:#1f77b4;stroke:#000000;\" x=\"252.521861\" xlink:href=\"#mdfe24dd445\" y=\"57.181374\"/>\r\n     <use style=\"fill:#1f77b4;stroke:#000000;\" x=\"207.00627\" xlink:href=\"#mdfe24dd445\" y=\"63.313757\"/>\r\n     <use style=\"fill:#1f77b4;stroke:#000000;\" x=\"191.961357\" xlink:href=\"#mdfe24dd445\" y=\"40.193061\"/>\r\n     <use style=\"fill:#1f77b4;stroke:#000000;\" x=\"266.898807\" xlink:href=\"#mdfe24dd445\" y=\"63.980447\"/>\r\n     <use style=\"fill:#1f77b4;stroke:#000000;\" x=\"188.593701\" xlink:href=\"#mdfe24dd445\" y=\"38.683827\"/>\r\n     <use style=\"fill:#1f77b4;stroke:#000000;\" x=\"200.828927\" xlink:href=\"#mdfe24dd445\" y=\"103.617716\"/>\r\n     <use style=\"fill:#1f77b4;stroke:#000000;\" x=\"174.661272\" xlink:href=\"#mdfe24dd445\" y=\"17.083636\"/>\r\n     <use style=\"fill:#1f77b4;stroke:#000000;\" x=\"289.418161\" xlink:href=\"#mdfe24dd445\" y=\"89.684533\"/>\r\n     <use style=\"fill:#1f77b4;stroke:#000000;\" x=\"204.597323\" xlink:href=\"#mdfe24dd445\" y=\"48.151394\"/>\r\n     <use style=\"fill:#1f77b4;stroke:#000000;\" x=\"235.870936\" xlink:href=\"#mdfe24dd445\" y=\"38.524423\"/>\r\n     <use style=\"fill:#1f77b4;stroke:#000000;\" x=\"301.778223\" xlink:href=\"#mdfe24dd445\" y=\"92.030949\"/>\r\n     <use style=\"fill:#1f77b4;stroke:#000000;\" x=\"233.817403\" xlink:href=\"#mdfe24dd445\" y=\"28.011666\"/>\r\n     <use style=\"fill:#1f77b4;stroke:#000000;\" x=\"290.690324\" xlink:href=\"#mdfe24dd445\" y=\"27.434094\"/>\r\n     <use style=\"fill:#1f77b4;stroke:#000000;\" x=\"239.22125\" xlink:href=\"#mdfe24dd445\" y=\"78.81898\"/>\r\n    </g>\r\n   </g>\r\n   <g id=\"PathCollection_2\">\r\n    <defs>\r\n     <path d=\"M -3 3 \r\nL 3 3 \r\nL 3 -3 \r\nL -3 -3 \r\nz\r\n\" id=\"m08393e1eee\" style=\"stroke:#000000;\"/>\r\n    </defs>\r\n    <g clip-path=\"url(#p71b15bf70b)\">\r\n     <use style=\"fill:#ff7f0e;stroke:#000000;\" x=\"288.991701\" xlink:href=\"#m08393e1eee\" y=\"166.404588\"/>\r\n     <use style=\"fill:#ff7f0e;stroke:#000000;\" x=\"256.410279\" xlink:href=\"#m08393e1eee\" y=\"111.262378\"/>\r\n     <use style=\"fill:#ff7f0e;stroke:#000000;\" x=\"297.472391\" xlink:href=\"#m08393e1eee\" y=\"163.997374\"/>\r\n     <use style=\"fill:#ff7f0e;stroke:#000000;\" x=\"276.871172\" xlink:href=\"#m08393e1eee\" y=\"160.759902\"/>\r\n     <use style=\"fill:#ff7f0e;stroke:#000000;\" x=\"248.522351\" xlink:href=\"#m08393e1eee\" y=\"171.921419\"/>\r\n     <use style=\"fill:#ff7f0e;stroke:#000000;\" x=\"251.75577\" xlink:href=\"#m08393e1eee\" y=\"202.668675\"/>\r\n     <use style=\"fill:#ff7f0e;stroke:#000000;\" x=\"246.328848\" xlink:href=\"#m08393e1eee\" y=\"186.007536\"/>\r\n     <use style=\"fill:#ff7f0e;stroke:#000000;\" x=\"289.082056\" xlink:href=\"#m08393e1eee\" y=\"151.785294\"/>\r\n     <use style=\"fill:#ff7f0e;stroke:#000000;\" x=\"281.282238\" xlink:href=\"#m08393e1eee\" y=\"155.891763\"/>\r\n     <use style=\"fill:#ff7f0e;stroke:#000000;\" x=\"292.798365\" xlink:href=\"#m08393e1eee\" y=\"189.320746\"/>\r\n     <use style=\"fill:#ff7f0e;stroke:#000000;\" x=\"242.138043\" xlink:href=\"#m08393e1eee\" y=\"162.756681\"/>\r\n     <use style=\"fill:#ff7f0e;stroke:#000000;\" x=\"268.0845\" xlink:href=\"#m08393e1eee\" y=\"160.285859\"/>\r\n     <use style=\"fill:#ff7f0e;stroke:#000000;\" x=\"277.336456\" xlink:href=\"#m08393e1eee\" y=\"148.621153\"/>\r\n     <use style=\"fill:#ff7f0e;stroke:#000000;\" x=\"301.773459\" xlink:href=\"#m08393e1eee\" y=\"146.716258\"/>\r\n     <use style=\"fill:#ff7f0e;stroke:#000000;\" x=\"253.236095\" xlink:href=\"#m08393e1eee\" y=\"158.968137\"/>\r\n     <use style=\"fill:#ff7f0e;stroke:#000000;\" x=\"260.529744\" xlink:href=\"#m08393e1eee\" y=\"159.000215\"/>\r\n     <use style=\"fill:#ff7f0e;stroke:#000000;\" x=\"223.072194\" xlink:href=\"#m08393e1eee\" y=\"152.339069\"/>\r\n     <use style=\"fill:#ff7f0e;stroke:#000000;\" x=\"243.149091\" xlink:href=\"#m08393e1eee\" y=\"129.145888\"/>\r\n     <use style=\"fill:#ff7f0e;stroke:#000000;\" x=\"270.151064\" xlink:href=\"#m08393e1eee\" y=\"116.020716\"/>\r\n     <use style=\"fill:#ff7f0e;stroke:#000000;\" x=\"262.453395\" xlink:href=\"#m08393e1eee\" y=\"190.62039\"/>\r\n     <use style=\"fill:#ff7f0e;stroke:#000000;\" x=\"257.769039\" xlink:href=\"#m08393e1eee\" y=\"153.346751\"/>\r\n     <use style=\"fill:#ff7f0e;stroke:#000000;\" x=\"344.564867\" xlink:href=\"#m08393e1eee\" y=\"154.66155\"/>\r\n     <use style=\"fill:#ff7f0e;stroke:#000000;\" x=\"241.770418\" xlink:href=\"#m08393e1eee\" y=\"161.346543\"/>\r\n     <use style=\"fill:#ff7f0e;stroke:#000000;\" x=\"348.524006\" xlink:href=\"#m08393e1eee\" y=\"132.943431\"/>\r\n     <use style=\"fill:#ff7f0e;stroke:#000000;\" x=\"289.062414\" xlink:href=\"#m08393e1eee\" y=\"157.507211\"/>\r\n     <use style=\"fill:#ff7f0e;stroke:#000000;\" x=\"277.661502\" xlink:href=\"#m08393e1eee\" y=\"139.754397\"/>\r\n     <use style=\"fill:#ff7f0e;stroke:#000000;\" x=\"285.090663\" xlink:href=\"#m08393e1eee\" y=\"214.756364\"/>\r\n     <use style=\"fill:#ff7f0e;stroke:#000000;\" x=\"310.315146\" xlink:href=\"#m08393e1eee\" y=\"146.755547\"/>\r\n     <use style=\"fill:#ff7f0e;stroke:#000000;\" x=\"294.441898\" xlink:href=\"#m08393e1eee\" y=\"138.440007\"/>\r\n     <use style=\"fill:#ff7f0e;stroke:#000000;\" x=\"261.015315\" xlink:href=\"#m08393e1eee\" y=\"183.99421\"/>\r\n     <use style=\"fill:#ff7f0e;stroke:#000000;\" x=\"307.489875\" xlink:href=\"#m08393e1eee\" y=\"139.309083\"/>\r\n     <use style=\"fill:#ff7f0e;stroke:#000000;\" x=\"248.688338\" xlink:href=\"#m08393e1eee\" y=\"119.769646\"/>\r\n     <use style=\"fill:#ff7f0e;stroke:#000000;\" x=\"230.262109\" xlink:href=\"#m08393e1eee\" y=\"163.890967\"/>\r\n     <use style=\"fill:#ff7f0e;stroke:#000000;\" x=\"302.686611\" xlink:href=\"#m08393e1eee\" y=\"151.804461\"/>\r\n     <use style=\"fill:#ff7f0e;stroke:#000000;\" x=\"253.268131\" xlink:href=\"#m08393e1eee\" y=\"154.888477\"/>\r\n     <use style=\"fill:#ff7f0e;stroke:#000000;\" x=\"257.511242\" xlink:href=\"#m08393e1eee\" y=\"143.134039\"/>\r\n     <use style=\"fill:#ff7f0e;stroke:#000000;\" x=\"251.953394\" xlink:href=\"#m08393e1eee\" y=\"162.475439\"/>\r\n     <use style=\"fill:#ff7f0e;stroke:#000000;\" x=\"210.428267\" xlink:href=\"#m08393e1eee\" y=\"149.576443\"/>\r\n     <use style=\"fill:#ff7f0e;stroke:#000000;\" x=\"239.267169\" xlink:href=\"#m08393e1eee\" y=\"138.729541\"/>\r\n     <use style=\"fill:#ff7f0e;stroke:#000000;\" x=\"226.804348\" xlink:href=\"#m08393e1eee\" y=\"164.589462\"/>\r\n     <use style=\"fill:#ff7f0e;stroke:#000000;\" x=\"224.656012\" xlink:href=\"#m08393e1eee\" y=\"144.060437\"/>\r\n     <use style=\"fill:#ff7f0e;stroke:#000000;\" x=\"262.393507\" xlink:href=\"#m08393e1eee\" y=\"151.587686\"/>\r\n     <use style=\"fill:#ff7f0e;stroke:#000000;\" x=\"269.185194\" xlink:href=\"#m08393e1eee\" y=\"168.334656\"/>\r\n     <use style=\"fill:#ff7f0e;stroke:#000000;\" x=\"240.355057\" xlink:href=\"#m08393e1eee\" y=\"187.731952\"/>\r\n     <use style=\"fill:#ff7f0e;stroke:#000000;\" x=\"234.323948\" xlink:href=\"#m08393e1eee\" y=\"164.88652\"/>\r\n     <use style=\"fill:#ff7f0e;stroke:#000000;\" x=\"299.726422\" xlink:href=\"#m08393e1eee\" y=\"168.060572\"/>\r\n     <use style=\"fill:#ff7f0e;stroke:#000000;\" x=\"237.024716\" xlink:href=\"#m08393e1eee\" y=\"152.583313\"/>\r\n     <use style=\"fill:#ff7f0e;stroke:#000000;\" x=\"271.076901\" xlink:href=\"#m08393e1eee\" y=\"179.44126\"/>\r\n     <use style=\"fill:#ff7f0e;stroke:#000000;\" x=\"341.49333\" xlink:href=\"#m08393e1eee\" y=\"124.314426\"/>\r\n     <use style=\"fill:#ff7f0e;stroke:#000000;\" x=\"297.007618\" xlink:href=\"#m08393e1eee\" y=\"135.606104\"/>\r\n     <use style=\"fill:#ff7f0e;stroke:#000000;\" x=\"254.977056\" xlink:href=\"#m08393e1eee\" y=\"144.574188\"/>\r\n     <use style=\"fill:#ff7f0e;stroke:#000000;\" x=\"271.555079\" xlink:href=\"#m08393e1eee\" y=\"169.975563\"/>\r\n     <use style=\"fill:#ff7f0e;stroke:#000000;\" x=\"271.788649\" xlink:href=\"#m08393e1eee\" y=\"145.386321\"/>\r\n     <use style=\"fill:#ff7f0e;stroke:#000000;\" x=\"230.999053\" xlink:href=\"#m08393e1eee\" y=\"147.853666\"/>\r\n     <use style=\"fill:#ff7f0e;stroke:#000000;\" x=\"292.321997\" xlink:href=\"#m08393e1eee\" y=\"188.992832\"/>\r\n     <use style=\"fill:#ff7f0e;stroke:#000000;\" x=\"309.173843\" xlink:href=\"#m08393e1eee\" y=\"129.969013\"/>\r\n     <use style=\"fill:#ff7f0e;stroke:#000000;\" x=\"233.154574\" xlink:href=\"#m08393e1eee\" y=\"135.147\"/>\r\n     <use style=\"fill:#ff7f0e;stroke:#000000;\" x=\"285.960667\" xlink:href=\"#m08393e1eee\" y=\"138.832691\"/>\r\n     <use style=\"fill:#ff7f0e;stroke:#000000;\" x=\"334.865014\" xlink:href=\"#m08393e1eee\" y=\"145.145496\"/>\r\n     <use style=\"fill:#ff7f0e;stroke:#000000;\" x=\"320.11277\" xlink:href=\"#m08393e1eee\" y=\"199.291935\"/>\r\n     <use style=\"fill:#ff7f0e;stroke:#000000;\" x=\"235.647242\" xlink:href=\"#m08393e1eee\" y=\"163.367908\"/>\r\n     <use style=\"fill:#ff7f0e;stroke:#000000;\" x=\"221.724897\" xlink:href=\"#m08393e1eee\" y=\"140.29699\"/>\r\n     <use style=\"fill:#ff7f0e;stroke:#000000;\" x=\"246.647105\" xlink:href=\"#m08393e1eee\" y=\"168.908491\"/>\r\n     <use style=\"fill:#ff7f0e;stroke:#000000;\" x=\"235.368655\" xlink:href=\"#m08393e1eee\" y=\"136.537262\"/>\r\n     <use style=\"fill:#ff7f0e;stroke:#000000;\" x=\"308.352331\" xlink:href=\"#m08393e1eee\" y=\"177.500811\"/>\r\n     <use style=\"fill:#ff7f0e;stroke:#000000;\" x=\"301.432013\" xlink:href=\"#m08393e1eee\" y=\"146.749481\"/>\r\n     <use style=\"fill:#ff7f0e;stroke:#000000;\" x=\"249.134831\" xlink:href=\"#m08393e1eee\" y=\"184.179373\"/>\r\n    </g>\r\n   </g>\r\n   <g id=\"PathCollection_3\">\r\n    <defs>\r\n     <path d=\"M 0 -3 \r\nL -3 3 \r\nL 3 3 \r\nz\r\n\" id=\"ma0a64c74e2\" style=\"stroke:#000000;\"/>\r\n    </defs>\r\n    <g clip-path=\"url(#p71b15bf70b)\">\r\n     <use style=\"fill:#2ca02c;stroke:#000000;\" x=\"122.561516\" xlink:href=\"#ma0a64c74e2\" y=\"78.777308\"/>\r\n     <use style=\"fill:#2ca02c;stroke:#000000;\" x=\"132.300757\" xlink:href=\"#ma0a64c74e2\" y=\"85.319249\"/>\r\n     <use style=\"fill:#2ca02c;stroke:#000000;\" x=\"153.897971\" xlink:href=\"#ma0a64c74e2\" y=\"124.207355\"/>\r\n     <use style=\"fill:#2ca02c;stroke:#000000;\" x=\"123.081048\" xlink:href=\"#ma0a64c74e2\" y=\"106.840743\"/>\r\n     <use style=\"fill:#2ca02c;stroke:#000000;\" x=\"151.356933\" xlink:href=\"#ma0a64c74e2\" y=\"101.662306\"/>\r\n     <use style=\"fill:#2ca02c;stroke:#000000;\" x=\"147.313166\" xlink:href=\"#ma0a64c74e2\" y=\"103.051176\"/>\r\n     <use style=\"fill:#2ca02c;stroke:#000000;\" x=\"64.253667\" xlink:href=\"#ma0a64c74e2\" y=\"52.710503\"/>\r\n     <use style=\"fill:#2ca02c;stroke:#000000;\" x=\"147.672238\" xlink:href=\"#ma0a64c74e2\" y=\"90.454176\"/>\r\n     <use style=\"fill:#2ca02c;stroke:#000000;\" x=\"57.064066\" xlink:href=\"#ma0a64c74e2\" y=\"120.65551\"/>\r\n     <use style=\"fill:#2ca02c;stroke:#000000;\" x=\"104.746063\" xlink:href=\"#ma0a64c74e2\" y=\"129.795944\"/>\r\n     <use style=\"fill:#2ca02c;stroke:#000000;\" x=\"156.604975\" xlink:href=\"#ma0a64c74e2\" y=\"73.034382\"/>\r\n     <use style=\"fill:#2ca02c;stroke:#000000;\" x=\"127.206156\" xlink:href=\"#ma0a64c74e2\" y=\"100.511881\"/>\r\n     <use style=\"fill:#2ca02c;stroke:#000000;\" x=\"127.828147\" xlink:href=\"#ma0a64c74e2\" y=\"104.464487\"/>\r\n     <use style=\"fill:#2ca02c;stroke:#000000;\" x=\"70.251878\" xlink:href=\"#ma0a64c74e2\" y=\"108.670317\"/>\r\n     <use style=\"fill:#2ca02c;stroke:#000000;\" x=\"108.318339\" xlink:href=\"#ma0a64c74e2\" y=\"106.754989\"/>\r\n     <use style=\"fill:#2ca02c;stroke:#000000;\" x=\"72.634702\" xlink:href=\"#ma0a64c74e2\" y=\"90.325916\"/>\r\n     <use style=\"fill:#2ca02c;stroke:#000000;\" x=\"151.230488\" xlink:href=\"#ma0a64c74e2\" y=\"69.496391\"/>\r\n     <use style=\"fill:#2ca02c;stroke:#000000;\" x=\"163.337574\" xlink:href=\"#ma0a64c74e2\" y=\"108.129129\"/>\r\n     <use style=\"fill:#2ca02c;stroke:#000000;\" x=\"108.322015\" xlink:href=\"#ma0a64c74e2\" y=\"109.621488\"/>\r\n     <use style=\"fill:#2ca02c;stroke:#000000;\" x=\"124.135654\" xlink:href=\"#ma0a64c74e2\" y=\"48.479498\"/>\r\n     <use style=\"fill:#2ca02c;stroke:#000000;\" x=\"125.642325\" xlink:href=\"#ma0a64c74e2\" y=\"75.696038\"/>\r\n     <use style=\"fill:#2ca02c;stroke:#000000;\" x=\"117.876886\" xlink:href=\"#ma0a64c74e2\" y=\"133.728759\"/>\r\n     <use style=\"fill:#2ca02c;stroke:#000000;\" x=\"86.519008\" xlink:href=\"#ma0a64c74e2\" y=\"127.791402\"/>\r\n     <use style=\"fill:#2ca02c;stroke:#000000;\" x=\"181.868704\" xlink:href=\"#ma0a64c74e2\" y=\"94.535426\"/>\r\n     <use style=\"fill:#2ca02c;stroke:#000000;\" x=\"138.33106\" xlink:href=\"#ma0a64c74e2\" y=\"84.749406\"/>\r\n     <use style=\"fill:#2ca02c;stroke:#000000;\" x=\"130.411457\" xlink:href=\"#ma0a64c74e2\" y=\"134.614463\"/>\r\n     <use style=\"fill:#2ca02c;stroke:#000000;\" x=\"116.405674\" xlink:href=\"#ma0a64c74e2\" y=\"90.00514\"/>\r\n     <use style=\"fill:#2ca02c;stroke:#000000;\" x=\"130.758802\" xlink:href=\"#ma0a64c74e2\" y=\"87.280717\"/>\r\n     <use style=\"fill:#2ca02c;stroke:#000000;\" x=\"44.160369\" xlink:href=\"#ma0a64c74e2\" y=\"84.804966\"/>\r\n     <use style=\"fill:#2ca02c;stroke:#000000;\" x=\"109.095903\" xlink:href=\"#ma0a64c74e2\" y=\"108.737516\"/>\r\n     <use style=\"fill:#2ca02c;stroke:#000000;\" x=\"117.516837\" xlink:href=\"#ma0a64c74e2\" y=\"94.701028\"/>\r\n     <use style=\"fill:#2ca02c;stroke:#000000;\" x=\"92.174757\" xlink:href=\"#ma0a64c74e2\" y=\"105.023654\"/>\r\n     <use style=\"fill:#2ca02c;stroke:#000000;\" x=\"153.064662\" xlink:href=\"#ma0a64c74e2\" y=\"124.318821\"/>\r\n     <use style=\"fill:#2ca02c;stroke:#000000;\" x=\"125.398598\" xlink:href=\"#ma0a64c74e2\" y=\"113.120841\"/>\r\n     <use style=\"fill:#2ca02c;stroke:#000000;\" x=\"107.185642\" xlink:href=\"#ma0a64c74e2\" y=\"124.871987\"/>\r\n     <use style=\"fill:#2ca02c;stroke:#000000;\" x=\"113.841394\" xlink:href=\"#ma0a64c74e2\" y=\"84.495972\"/>\r\n     <use style=\"fill:#2ca02c;stroke:#000000;\" x=\"124.901851\" xlink:href=\"#ma0a64c74e2\" y=\"74.428896\"/>\r\n     <use style=\"fill:#2ca02c;stroke:#000000;\" x=\"172.801668\" xlink:href=\"#ma0a64c74e2\" y=\"113.324895\"/>\r\n     <use style=\"fill:#2ca02c;stroke:#000000;\" x=\"176.064195\" xlink:href=\"#ma0a64c74e2\" y=\"79.385379\"/>\r\n     <use style=\"fill:#2ca02c;stroke:#000000;\" x=\"110.036921\" xlink:href=\"#ma0a64c74e2\" y=\"122.711031\"/>\r\n     <use style=\"fill:#2ca02c;stroke:#000000;\" x=\"128.675034\" xlink:href=\"#ma0a64c74e2\" y=\"94.60805\"/>\r\n     <use style=\"fill:#2ca02c;stroke:#000000;\" x=\"149.743725\" xlink:href=\"#ma0a64c74e2\" y=\"132.719581\"/>\r\n     <use style=\"fill:#2ca02c;stroke:#000000;\" x=\"73.039065\" xlink:href=\"#ma0a64c74e2\" y=\"88.224998\"/>\r\n     <use style=\"fill:#2ca02c;stroke:#000000;\" x=\"93.15081\" xlink:href=\"#ma0a64c74e2\" y=\"114.232338\"/>\r\n     <use style=\"fill:#2ca02c;stroke:#000000;\" x=\"138.142369\" xlink:href=\"#ma0a64c74e2\" y=\"120.008784\"/>\r\n     <use style=\"fill:#2ca02c;stroke:#000000;\" x=\"144.961757\" xlink:href=\"#ma0a64c74e2\" y=\"100.70554\"/>\r\n     <use style=\"fill:#2ca02c;stroke:#000000;\" x=\"124.829976\" xlink:href=\"#ma0a64c74e2\" y=\"73.127055\"/>\r\n     <use style=\"fill:#2ca02c;stroke:#000000;\" x=\"115.079727\" xlink:href=\"#ma0a64c74e2\" y=\"104.320724\"/>\r\n     <use style=\"fill:#2ca02c;stroke:#000000;\" x=\"106.646528\" xlink:href=\"#ma0a64c74e2\" y=\"77.388875\"/>\r\n     <use style=\"fill:#2ca02c;stroke:#000000;\" x=\"87.405612\" xlink:href=\"#ma0a64c74e2\" y=\"61.654554\"/>\r\n     <use style=\"fill:#2ca02c;stroke:#000000;\" x=\"95.758751\" xlink:href=\"#ma0a64c74e2\" y=\"71.492723\"/>\r\n     <use style=\"fill:#2ca02c;stroke:#000000;\" x=\"107.050973\" xlink:href=\"#ma0a64c74e2\" y=\"64.334357\"/>\r\n     <use style=\"fill:#2ca02c;stroke:#000000;\" x=\"97.668775\" xlink:href=\"#ma0a64c74e2\" y=\"130.545244\"/>\r\n     <use style=\"fill:#2ca02c;stroke:#000000;\" x=\"202.834614\" xlink:href=\"#ma0a64c74e2\" y=\"121.481084\"/>\r\n     <use style=\"fill:#2ca02c;stroke:#000000;\" x=\"156.084084\" xlink:href=\"#ma0a64c74e2\" y=\"103.640682\"/>\r\n     <use style=\"fill:#2ca02c;stroke:#000000;\" x=\"137.95293\" xlink:href=\"#ma0a64c74e2\" y=\"117.759169\"/>\r\n     <use style=\"fill:#2ca02c;stroke:#000000;\" x=\"116.871465\" xlink:href=\"#ma0a64c74e2\" y=\"96.073404\"/>\r\n     <use style=\"fill:#2ca02c;stroke:#000000;\" x=\"153.68729\" xlink:href=\"#ma0a64c74e2\" y=\"90.308065\"/>\r\n     <use style=\"fill:#2ca02c;stroke:#000000;\" x=\"150.481248\" xlink:href=\"#ma0a64c74e2\" y=\"108.290551\"/>\r\n     <use style=\"fill:#2ca02c;stroke:#000000;\" x=\"151.506684\" xlink:href=\"#ma0a64c74e2\" y=\"98.067089\"/>\r\n     <use style=\"fill:#2ca02c;stroke:#000000;\" x=\"74.886494\" xlink:href=\"#ma0a64c74e2\" y=\"89.626026\"/>\r\n     <use style=\"fill:#2ca02c;stroke:#000000;\" x=\"120.616732\" xlink:href=\"#ma0a64c74e2\" y=\"122.977669\"/>\r\n     <use style=\"fill:#2ca02c;stroke:#000000;\" x=\"106.170031\" xlink:href=\"#ma0a64c74e2\" y=\"116.0441\"/>\r\n     <use style=\"fill:#2ca02c;stroke:#000000;\" x=\"158.968403\" xlink:href=\"#ma0a64c74e2\" y=\"90.667442\"/>\r\n     <use style=\"fill:#2ca02c;stroke:#000000;\" x=\"119.846112\" xlink:href=\"#ma0a64c74e2\" y=\"114.910566\"/>\r\n     <use style=\"fill:#2ca02c;stroke:#000000;\" x=\"107.307985\" xlink:href=\"#ma0a64c74e2\" y=\"61.623297\"/>\r\n    </g>\r\n   </g>\r\n   <g id=\"matplotlib.axis_1\">\r\n    <g id=\"xtick_1\">\r\n     <g id=\"line2d_1\">\r\n      <defs>\r\n       <path d=\"M 0 0 \r\nL 0 3.5 \r\n\" id=\"m7ef6464f57\" style=\"stroke:#000000;stroke-width:0.8;\"/>\r\n      </defs>\r\n      <g>\r\n       <use style=\"stroke:#000000;stroke-width:0.8;\" x=\"30.342634\" xlink:href=\"#m7ef6464f57\" y=\"224.64\"/>\r\n      </g>\r\n     </g>\r\n     <g id=\"text_1\">\r\n      <!-- −4 -->\r\n      <g transform=\"translate(22.97154 239.238437)scale(0.1 -0.1)\">\r\n       <defs>\r\n        <path d=\"M 678 2272 \r\nL 4684 2272 \r\nL 4684 1741 \r\nL 678 1741 \r\nL 678 2272 \r\nz\r\n\" id=\"DejaVuSans-2212\" transform=\"scale(0.015625)\"/>\r\n        <path d=\"M 2419 4116 \r\nL 825 1625 \r\nL 2419 1625 \r\nL 2419 4116 \r\nz\r\nM 2253 4666 \r\nL 3047 4666 \r\nL 3047 1625 \r\nL 3713 1625 \r\nL 3713 1100 \r\nL 3047 1100 \r\nL 3047 0 \r\nL 2419 0 \r\nL 2419 1100 \r\nL 313 1100 \r\nL 313 1709 \r\nL 2253 4666 \r\nz\r\n\" id=\"DejaVuSans-34\" transform=\"scale(0.015625)\"/>\r\n       </defs>\r\n       <use xlink:href=\"#DejaVuSans-2212\"/>\r\n       <use x=\"83.789062\" xlink:href=\"#DejaVuSans-34\"/>\r\n      </g>\r\n     </g>\r\n    </g>\r\n    <g id=\"xtick_2\">\r\n     <g id=\"line2d_2\">\r\n      <g>\r\n       <use style=\"stroke:#000000;stroke-width:0.8;\" x=\"70.306215\" xlink:href=\"#m7ef6464f57\" y=\"224.64\"/>\r\n      </g>\r\n     </g>\r\n     <g id=\"text_2\">\r\n      <!-- −3 -->\r\n      <g transform=\"translate(62.935121 239.238437)scale(0.1 -0.1)\">\r\n       <defs>\r\n        <path d=\"M 2597 2516 \r\nQ 3050 2419 3304 2112 \r\nQ 3559 1806 3559 1356 \r\nQ 3559 666 3084 287 \r\nQ 2609 -91 1734 -91 \r\nQ 1441 -91 1130 -33 \r\nQ 819 25 488 141 \r\nL 488 750 \r\nQ 750 597 1062 519 \r\nQ 1375 441 1716 441 \r\nQ 2309 441 2620 675 \r\nQ 2931 909 2931 1356 \r\nQ 2931 1769 2642 2001 \r\nQ 2353 2234 1838 2234 \r\nL 1294 2234 \r\nL 1294 2753 \r\nL 1863 2753 \r\nQ 2328 2753 2575 2939 \r\nQ 2822 3125 2822 3475 \r\nQ 2822 3834 2567 4026 \r\nQ 2313 4219 1838 4219 \r\nQ 1578 4219 1281 4162 \r\nQ 984 4106 628 3988 \r\nL 628 4550 \r\nQ 988 4650 1302 4700 \r\nQ 1616 4750 1894 4750 \r\nQ 2613 4750 3031 4423 \r\nQ 3450 4097 3450 3541 \r\nQ 3450 3153 3228 2886 \r\nQ 3006 2619 2597 2516 \r\nz\r\n\" id=\"DejaVuSans-33\" transform=\"scale(0.015625)\"/>\r\n       </defs>\r\n       <use xlink:href=\"#DejaVuSans-2212\"/>\r\n       <use x=\"83.789062\" xlink:href=\"#DejaVuSans-33\"/>\r\n      </g>\r\n     </g>\r\n    </g>\r\n    <g id=\"xtick_3\">\r\n     <g id=\"line2d_3\">\r\n      <g>\r\n       <use style=\"stroke:#000000;stroke-width:0.8;\" x=\"110.269795\" xlink:href=\"#m7ef6464f57\" y=\"224.64\"/>\r\n      </g>\r\n     </g>\r\n     <g id=\"text_3\">\r\n      <!-- −2 -->\r\n      <g transform=\"translate(102.898702 239.238437)scale(0.1 -0.1)\">\r\n       <defs>\r\n        <path d=\"M 1228 531 \r\nL 3431 531 \r\nL 3431 0 \r\nL 469 0 \r\nL 469 531 \r\nQ 828 903 1448 1529 \r\nQ 2069 2156 2228 2338 \r\nQ 2531 2678 2651 2914 \r\nQ 2772 3150 2772 3378 \r\nQ 2772 3750 2511 3984 \r\nQ 2250 4219 1831 4219 \r\nQ 1534 4219 1204 4116 \r\nQ 875 4013 500 3803 \r\nL 500 4441 \r\nQ 881 4594 1212 4672 \r\nQ 1544 4750 1819 4750 \r\nQ 2544 4750 2975 4387 \r\nQ 3406 4025 3406 3419 \r\nQ 3406 3131 3298 2873 \r\nQ 3191 2616 2906 2266 \r\nQ 2828 2175 2409 1742 \r\nQ 1991 1309 1228 531 \r\nz\r\n\" id=\"DejaVuSans-32\" transform=\"scale(0.015625)\"/>\r\n       </defs>\r\n       <use xlink:href=\"#DejaVuSans-2212\"/>\r\n       <use x=\"83.789062\" xlink:href=\"#DejaVuSans-32\"/>\r\n      </g>\r\n     </g>\r\n    </g>\r\n    <g id=\"xtick_4\">\r\n     <g id=\"line2d_4\">\r\n      <g>\r\n       <use style=\"stroke:#000000;stroke-width:0.8;\" x=\"150.233376\" xlink:href=\"#m7ef6464f57\" y=\"224.64\"/>\r\n      </g>\r\n     </g>\r\n     <g id=\"text_4\">\r\n      <!-- −1 -->\r\n      <g transform=\"translate(142.862282 239.238437)scale(0.1 -0.1)\">\r\n       <defs>\r\n        <path d=\"M 794 531 \r\nL 1825 531 \r\nL 1825 4091 \r\nL 703 3866 \r\nL 703 4441 \r\nL 1819 4666 \r\nL 2450 4666 \r\nL 2450 531 \r\nL 3481 531 \r\nL 3481 0 \r\nL 794 0 \r\nL 794 531 \r\nz\r\n\" id=\"DejaVuSans-31\" transform=\"scale(0.015625)\"/>\r\n       </defs>\r\n       <use xlink:href=\"#DejaVuSans-2212\"/>\r\n       <use x=\"83.789062\" xlink:href=\"#DejaVuSans-31\"/>\r\n      </g>\r\n     </g>\r\n    </g>\r\n    <g id=\"xtick_5\">\r\n     <g id=\"line2d_5\">\r\n      <g>\r\n       <use style=\"stroke:#000000;stroke-width:0.8;\" x=\"190.196957\" xlink:href=\"#m7ef6464f57\" y=\"224.64\"/>\r\n      </g>\r\n     </g>\r\n     <g id=\"text_5\">\r\n      <!-- 0 -->\r\n      <g transform=\"translate(187.015707 239.238437)scale(0.1 -0.1)\">\r\n       <defs>\r\n        <path d=\"M 2034 4250 \r\nQ 1547 4250 1301 3770 \r\nQ 1056 3291 1056 2328 \r\nQ 1056 1369 1301 889 \r\nQ 1547 409 2034 409 \r\nQ 2525 409 2770 889 \r\nQ 3016 1369 3016 2328 \r\nQ 3016 3291 2770 3770 \r\nQ 2525 4250 2034 4250 \r\nz\r\nM 2034 4750 \r\nQ 2819 4750 3233 4129 \r\nQ 3647 3509 3647 2328 \r\nQ 3647 1150 3233 529 \r\nQ 2819 -91 2034 -91 \r\nQ 1250 -91 836 529 \r\nQ 422 1150 422 2328 \r\nQ 422 3509 836 4129 \r\nQ 1250 4750 2034 4750 \r\nz\r\n\" id=\"DejaVuSans-30\" transform=\"scale(0.015625)\"/>\r\n       </defs>\r\n       <use xlink:href=\"#DejaVuSans-30\"/>\r\n      </g>\r\n     </g>\r\n    </g>\r\n    <g id=\"xtick_6\">\r\n     <g id=\"line2d_6\">\r\n      <g>\r\n       <use style=\"stroke:#000000;stroke-width:0.8;\" x=\"230.160538\" xlink:href=\"#m7ef6464f57\" y=\"224.64\"/>\r\n      </g>\r\n     </g>\r\n     <g id=\"text_6\">\r\n      <!-- 1 -->\r\n      <g transform=\"translate(226.979288 239.238437)scale(0.1 -0.1)\">\r\n       <use xlink:href=\"#DejaVuSans-31\"/>\r\n      </g>\r\n     </g>\r\n    </g>\r\n    <g id=\"xtick_7\">\r\n     <g id=\"line2d_7\">\r\n      <g>\r\n       <use style=\"stroke:#000000;stroke-width:0.8;\" x=\"270.124119\" xlink:href=\"#m7ef6464f57\" y=\"224.64\"/>\r\n      </g>\r\n     </g>\r\n     <g id=\"text_7\">\r\n      <!-- 2 -->\r\n      <g transform=\"translate(266.942869 239.238437)scale(0.1 -0.1)\">\r\n       <use xlink:href=\"#DejaVuSans-32\"/>\r\n      </g>\r\n     </g>\r\n    </g>\r\n    <g id=\"xtick_8\">\r\n     <g id=\"line2d_8\">\r\n      <g>\r\n       <use style=\"stroke:#000000;stroke-width:0.8;\" x=\"310.087699\" xlink:href=\"#m7ef6464f57\" y=\"224.64\"/>\r\n      </g>\r\n     </g>\r\n     <g id=\"text_8\">\r\n      <!-- 3 -->\r\n      <g transform=\"translate(306.906449 239.238437)scale(0.1 -0.1)\">\r\n       <use xlink:href=\"#DejaVuSans-33\"/>\r\n      </g>\r\n     </g>\r\n    </g>\r\n    <g id=\"xtick_9\">\r\n     <g id=\"line2d_9\">\r\n      <g>\r\n       <use style=\"stroke:#000000;stroke-width:0.8;\" x=\"350.05128\" xlink:href=\"#m7ef6464f57\" y=\"224.64\"/>\r\n      </g>\r\n     </g>\r\n     <g id=\"text_9\">\r\n      <!-- 4 -->\r\n      <g transform=\"translate(346.87003 239.238437)scale(0.1 -0.1)\">\r\n       <use xlink:href=\"#DejaVuSans-34\"/>\r\n      </g>\r\n     </g>\r\n    </g>\r\n   </g>\r\n   <g id=\"matplotlib.axis_2\">\r\n    <g id=\"ytick_1\">\r\n     <g id=\"line2d_10\">\r\n      <defs>\r\n       <path d=\"M 0 0 \r\nL -3.5 0 \r\n\" id=\"mc7d6594b17\" style=\"stroke:#000000;stroke-width:0.8;\"/>\r\n      </defs>\r\n      <g>\r\n       <use style=\"stroke:#000000;stroke-width:0.8;\" x=\"28.942188\" xlink:href=\"#mc7d6594b17\" y=\"205.94105\"/>\r\n      </g>\r\n     </g>\r\n     <g id=\"text_10\">\r\n      <!-- −1 -->\r\n      <g transform=\"translate(7.2 209.740269)scale(0.1 -0.1)\">\r\n       <use xlink:href=\"#DejaVuSans-2212\"/>\r\n       <use x=\"83.789062\" xlink:href=\"#DejaVuSans-31\"/>\r\n      </g>\r\n     </g>\r\n    </g>\r\n    <g id=\"ytick_2\">\r\n     <g id=\"line2d_11\">\r\n      <g>\r\n       <use style=\"stroke:#000000;stroke-width:0.8;\" x=\"28.942188\" xlink:href=\"#mc7d6594b17\" y=\"178.428492\"/>\r\n      </g>\r\n     </g>\r\n     <g id=\"text_11\">\r\n      <!-- 0 -->\r\n      <g transform=\"translate(15.579688 182.227711)scale(0.1 -0.1)\">\r\n       <use xlink:href=\"#DejaVuSans-30\"/>\r\n      </g>\r\n     </g>\r\n    </g>\r\n    <g id=\"ytick_3\">\r\n     <g id=\"line2d_12\">\r\n      <g>\r\n       <use style=\"stroke:#000000;stroke-width:0.8;\" x=\"28.942188\" xlink:href=\"#mc7d6594b17\" y=\"150.915934\"/>\r\n      </g>\r\n     </g>\r\n     <g id=\"text_12\">\r\n      <!-- 1 -->\r\n      <g transform=\"translate(15.579688 154.715153)scale(0.1 -0.1)\">\r\n       <use xlink:href=\"#DejaVuSans-31\"/>\r\n      </g>\r\n     </g>\r\n    </g>\r\n    <g id=\"ytick_4\">\r\n     <g id=\"line2d_13\">\r\n      <g>\r\n       <use style=\"stroke:#000000;stroke-width:0.8;\" x=\"28.942188\" xlink:href=\"#mc7d6594b17\" y=\"123.403376\"/>\r\n      </g>\r\n     </g>\r\n     <g id=\"text_13\">\r\n      <!-- 2 -->\r\n      <g transform=\"translate(15.579688 127.202595)scale(0.1 -0.1)\">\r\n       <use xlink:href=\"#DejaVuSans-32\"/>\r\n      </g>\r\n     </g>\r\n    </g>\r\n    <g id=\"ytick_5\">\r\n     <g id=\"line2d_14\">\r\n      <g>\r\n       <use style=\"stroke:#000000;stroke-width:0.8;\" x=\"28.942188\" xlink:href=\"#mc7d6594b17\" y=\"95.890818\"/>\r\n      </g>\r\n     </g>\r\n     <g id=\"text_14\">\r\n      <!-- 3 -->\r\n      <g transform=\"translate(15.579688 99.690037)scale(0.1 -0.1)\">\r\n       <use xlink:href=\"#DejaVuSans-33\"/>\r\n      </g>\r\n     </g>\r\n    </g>\r\n    <g id=\"ytick_6\">\r\n     <g id=\"line2d_15\">\r\n      <g>\r\n       <use style=\"stroke:#000000;stroke-width:0.8;\" x=\"28.942188\" xlink:href=\"#mc7d6594b17\" y=\"68.37826\"/>\r\n      </g>\r\n     </g>\r\n     <g id=\"text_15\">\r\n      <!-- 4 -->\r\n      <g transform=\"translate(15.579688 72.177479)scale(0.1 -0.1)\">\r\n       <use xlink:href=\"#DejaVuSans-34\"/>\r\n      </g>\r\n     </g>\r\n    </g>\r\n    <g id=\"ytick_7\">\r\n     <g id=\"line2d_16\">\r\n      <g>\r\n       <use style=\"stroke:#000000;stroke-width:0.8;\" x=\"28.942188\" xlink:href=\"#mc7d6594b17\" y=\"40.865702\"/>\r\n      </g>\r\n     </g>\r\n     <g id=\"text_16\">\r\n      <!-- 5 -->\r\n      <g transform=\"translate(15.579688 44.664921)scale(0.1 -0.1)\">\r\n       <defs>\r\n        <path d=\"M 691 4666 \r\nL 3169 4666 \r\nL 3169 4134 \r\nL 1269 4134 \r\nL 1269 2991 \r\nQ 1406 3038 1543 3061 \r\nQ 1681 3084 1819 3084 \r\nQ 2600 3084 3056 2656 \r\nQ 3513 2228 3513 1497 \r\nQ 3513 744 3044 326 \r\nQ 2575 -91 1722 -91 \r\nQ 1428 -91 1123 -41 \r\nQ 819 9 494 109 \r\nL 494 744 \r\nQ 775 591 1075 516 \r\nQ 1375 441 1709 441 \r\nQ 2250 441 2565 725 \r\nQ 2881 1009 2881 1497 \r\nQ 2881 1984 2565 2268 \r\nQ 2250 2553 1709 2553 \r\nQ 1456 2553 1204 2497 \r\nQ 953 2441 691 2322 \r\nL 691 4666 \r\nz\r\n\" id=\"DejaVuSans-35\" transform=\"scale(0.015625)\"/>\r\n       </defs>\r\n       <use xlink:href=\"#DejaVuSans-35\"/>\r\n      </g>\r\n     </g>\r\n    </g>\r\n    <g id=\"ytick_8\">\r\n     <g id=\"line2d_17\">\r\n      <g>\r\n       <use style=\"stroke:#000000;stroke-width:0.8;\" x=\"28.942188\" xlink:href=\"#mc7d6594b17\" y=\"13.353144\"/>\r\n      </g>\r\n     </g>\r\n     <g id=\"text_17\">\r\n      <!-- 6 -->\r\n      <g transform=\"translate(15.579688 17.152363)scale(0.1 -0.1)\">\r\n       <defs>\r\n        <path d=\"M 2113 2584 \r\nQ 1688 2584 1439 2293 \r\nQ 1191 2003 1191 1497 \r\nQ 1191 994 1439 701 \r\nQ 1688 409 2113 409 \r\nQ 2538 409 2786 701 \r\nQ 3034 994 3034 1497 \r\nQ 3034 2003 2786 2293 \r\nQ 2538 2584 2113 2584 \r\nz\r\nM 3366 4563 \r\nL 3366 3988 \r\nQ 3128 4100 2886 4159 \r\nQ 2644 4219 2406 4219 \r\nQ 1781 4219 1451 3797 \r\nQ 1122 3375 1075 2522 \r\nQ 1259 2794 1537 2939 \r\nQ 1816 3084 2150 3084 \r\nQ 2853 3084 3261 2657 \r\nQ 3669 2231 3669 1497 \r\nQ 3669 778 3244 343 \r\nQ 2819 -91 2113 -91 \r\nQ 1303 -91 875 529 \r\nQ 447 1150 447 2328 \r\nQ 447 3434 972 4092 \r\nQ 1497 4750 2381 4750 \r\nQ 2619 4750 2861 4703 \r\nQ 3103 4656 3366 4563 \r\nz\r\n\" id=\"DejaVuSans-36\" transform=\"scale(0.015625)\"/>\r\n       </defs>\r\n       <use xlink:href=\"#DejaVuSans-36\"/>\r\n      </g>\r\n     </g>\r\n    </g>\r\n   </g>\r\n   <g id=\"patch_3\">\r\n    <path d=\"M 28.942188 224.64 \r\nL 28.942188 7.2 \r\n\" style=\"fill:none;stroke:#000000;stroke-linecap:square;stroke-linejoin:miter;stroke-width:0.8;\"/>\r\n   </g>\r\n   <g id=\"patch_4\">\r\n    <path d=\"M 363.742188 224.64 \r\nL 363.742188 7.2 \r\n\" style=\"fill:none;stroke:#000000;stroke-linecap:square;stroke-linejoin:miter;stroke-width:0.8;\"/>\r\n   </g>\r\n   <g id=\"patch_5\">\r\n    <path d=\"M 28.942188 224.64 \r\nL 363.742188 224.64 \r\n\" style=\"fill:none;stroke:#000000;stroke-linecap:square;stroke-linejoin:miter;stroke-width:0.8;\"/>\r\n   </g>\r\n   <g id=\"patch_6\">\r\n    <path d=\"M 28.942188 7.2 \r\nL 363.742188 7.2 \r\n\" style=\"fill:none;stroke:#000000;stroke-linecap:square;stroke-linejoin:miter;stroke-width:0.8;\"/>\r\n   </g>\r\n  </g>\r\n </g>\r\n <defs>\r\n  <clipPath id=\"p71b15bf70b\">\r\n   <rect height=\"217.44\" width=\"334.8\" x=\"28.942188\" y=\"7.2\"/>\r\n  </clipPath>\r\n </defs>\r\n</svg>\r\n",
      "image/png": "[encoded data removed]"
     },
     "metadata": {
      "needs_background": "light"
     }
    }
   ],
   "source": [
    "target_list = np.unique(y)\n",
    "# 각 target별 scatter plot 의 marker 값들. \n",
    "markers=['o', 's', '^', 'P','D','H','x']\n",
    "# 3개의 cluster 영역으로 구분한 데이터 셋을 생성했으므로 target_list는 [0,1,2]\n",
    "# target==0, target==1, target==2 로 scatter plot을 marker별로 생성. \n",
    "for target in target_list:\n",
    "    target_cluster = clusterDF[clusterDF['target']==target]\n",
    "    plt.scatter(x=target_cluster['ftr1'], y=target_cluster['ftr2'], edgecolor='k', marker=markers[target] )\n",
    "plt.show()"
   ]
  },
  {
   "cell_type": "code",
   "execution_count": 32,
   "metadata": {
    "collapsed": true
   },
   "outputs": [
    {
     "output_type": "execute_result",
     "data": {
      "text/plain": [
       "<matplotlib.collections.PathCollection at 0x1dc2cfb8970>"
      ]
     },
     "metadata": {},
     "execution_count": 32
    },
    {
     "output_type": "display_data",
     "data": {
      "text/plain": "<Figure size 432x288 with 1 Axes>",
      "image/svg+xml": "<?xml version=\"1.0\" encoding=\"utf-8\" standalone=\"no\"?>\r\n<!DOCTYPE svg PUBLIC \"-//W3C//DTD SVG 1.1//EN\"\r\n  \"http://www.w3.org/Graphics/SVG/1.1/DTD/svg11.dtd\">\r\n<svg height=\"248.518125pt\" version=\"1.1\" viewBox=\"0 0 370.942187 248.518125\" width=\"370.942187pt\" xmlns=\"http://www.w3.org/2000/svg\" xmlns:xlink=\"http://www.w3.org/1999/xlink\">\r\n <metadata>\r\n  <rdf:RDF xmlns:cc=\"http://creativecommons.org/ns#\" xmlns:dc=\"http://purl.org/dc/elements/1.1/\" xmlns:rdf=\"http://www.w3.org/1999/02/22-rdf-syntax-ns#\">\r\n   <cc:Work>\r\n    <dc:type rdf:resource=\"http://purl.org/dc/dcmitype/StillImage\"/>\r\n    <dc:date>2021-06-16T22:35:27.615674</dc:date>\r\n    <dc:format>image/svg+xml</dc:format>\r\n    <dc:creator>\r\n     <cc:Agent>\r\n      <dc:title>Matplotlib v3.4.2, https://matplotlib.org/</dc:title>\r\n     </cc:Agent>\r\n    </dc:creator>\r\n   </cc:Work>\r\n  </rdf:RDF>\r\n </metadata>\r\n <defs>\r\n  <style type=\"text/css\">*{stroke-linecap:butt;stroke-linejoin:round;}</style>\r\n </defs>\r\n <g id=\"figure_1\">\r\n  <g id=\"patch_1\">\r\n   <path d=\"M 0 248.518125 \r\nL 370.942187 248.518125 \r\nL 370.942187 0 \r\nL 0 0 \r\nz\r\n\" style=\"fill:none;\"/>\r\n  </g>\r\n  <g id=\"axes_1\">\r\n   <g id=\"patch_2\">\r\n    <path d=\"M 28.942188 224.64 \r\nL 363.742188 224.64 \r\nL 363.742188 7.2 \r\nL 28.942188 7.2 \r\nz\r\n\" style=\"fill:#ffffff;\"/>\r\n   </g>\r\n   <g id=\"PathCollection_1\">\r\n    <defs>\r\n     <path d=\"M 0 3 \r\nC 0.795609 3 1.55874 2.683901 2.12132 2.12132 \r\nC 2.683901 1.55874 3 0.795609 3 -0 \r\nC 3 -0.795609 2.683901 -1.55874 2.12132 -2.12132 \r\nC 1.55874 -2.683901 0.795609 -3 0 -3 \r\nC -0.795609 -3 -1.55874 -2.683901 -2.12132 -2.12132 \r\nC -2.683901 -1.55874 -3 -0.795609 -3 0 \r\nC -3 0.795609 -2.683901 1.55874 -2.12132 2.12132 \r\nC -1.55874 2.683901 -0.795609 3 0 3 \r\nz\r\n\" id=\"C0_0_44e615a88d\"/>\r\n    </defs>\r\n    <g clip-path=\"url(#p60428c65e1)\">\r\n     <use style=\"fill:#fde725;stroke:#000000;\" x=\"122.561516\" xlink:href=\"#C0_0_44e615a88d\" y=\"78.777308\"/>\r\n    </g>\r\n    <g clip-path=\"url(#p60428c65e1)\">\r\n     <use style=\"fill:#440154;stroke:#000000;\" x=\"218.089153\" xlink:href=\"#C0_0_44e615a88d\" y=\"56.579045\"/>\r\n    </g>\r\n    <g clip-path=\"url(#p60428c65e1)\">\r\n     <use style=\"fill:#440154;stroke:#000000;\" x=\"234.166008\" xlink:href=\"#C0_0_44e615a88d\" y=\"51.696919\"/>\r\n    </g>\r\n    <g clip-path=\"url(#p60428c65e1)\">\r\n     <use style=\"fill:#fde725;stroke:#000000;\" x=\"132.300757\" xlink:href=\"#C0_0_44e615a88d\" y=\"85.319249\"/>\r\n    </g>\r\n    <g clip-path=\"url(#p60428c65e1)\">\r\n     <use style=\"fill:#440154;stroke:#000000;\" x=\"238.747137\" xlink:href=\"#C0_0_44e615a88d\" y=\"30.826478\"/>\r\n    </g>\r\n    <g clip-path=\"url(#p60428c65e1)\">\r\n     <use style=\"fill:#fde725;stroke:#000000;\" x=\"153.897971\" xlink:href=\"#C0_0_44e615a88d\" y=\"124.207355\"/>\r\n    </g>\r\n    <g clip-path=\"url(#p60428c65e1)\">\r\n     <use style=\"fill:#21918c;stroke:#000000;\" x=\"288.991701\" xlink:href=\"#C0_0_44e615a88d\" y=\"166.404588\"/>\r\n    </g>\r\n    <g clip-path=\"url(#p60428c65e1)\">\r\n     <use style=\"fill:#21918c;stroke:#000000;\" x=\"256.410279\" xlink:href=\"#C0_0_44e615a88d\" y=\"111.262378\"/>\r\n    </g>\r\n    <g clip-path=\"url(#p60428c65e1)\">\r\n     <use style=\"fill:#440154;stroke:#000000;\" x=\"233.269694\" xlink:href=\"#C0_0_44e615a88d\" y=\"51.172489\"/>\r\n    </g>\r\n    <g clip-path=\"url(#p60428c65e1)\">\r\n     <use style=\"fill:#fde725;stroke:#000000;\" x=\"123.081048\" xlink:href=\"#C0_0_44e615a88d\" y=\"106.840743\"/>\r\n    </g>\r\n    <g clip-path=\"url(#p60428c65e1)\">\r\n     <use style=\"fill:#440154;stroke:#000000;\" x=\"216.32229\" xlink:href=\"#C0_0_44e615a88d\" y=\"33.114221\"/>\r\n    </g>\r\n    <g clip-path=\"url(#p60428c65e1)\">\r\n     <use style=\"fill:#fde725;stroke:#000000;\" x=\"151.356933\" xlink:href=\"#C0_0_44e615a88d\" y=\"101.662306\"/>\r\n    </g>\r\n    <g clip-path=\"url(#p60428c65e1)\">\r\n     <use style=\"fill:#440154;stroke:#000000;\" x=\"253.543239\" xlink:href=\"#C0_0_44e615a88d\" y=\"57.342221\"/>\r\n    </g>\r\n    <g clip-path=\"url(#p60428c65e1)\">\r\n     <use style=\"fill:#440154;stroke:#000000;\" x=\"241.872882\" xlink:href=\"#C0_0_44e615a88d\" y=\"84.078628\"/>\r\n    </g>\r\n    <g clip-path=\"url(#p60428c65e1)\">\r\n     <use style=\"fill:#440154;stroke:#000000;\" x=\"200.205092\" xlink:href=\"#C0_0_44e615a88d\" y=\"58.876973\"/>\r\n    </g>\r\n    <g clip-path=\"url(#p60428c65e1)\">\r\n     <use style=\"fill:#fde725;stroke:#000000;\" x=\"147.313166\" xlink:href=\"#C0_0_44e615a88d\" y=\"103.051176\"/>\r\n    </g>\r\n    <g clip-path=\"url(#p60428c65e1)\">\r\n     <use style=\"fill:#21918c;stroke:#000000;\" x=\"297.472391\" xlink:href=\"#C0_0_44e615a88d\" y=\"163.997374\"/>\r\n    </g>\r\n    <g clip-path=\"url(#p60428c65e1)\">\r\n     <use style=\"fill:#21918c;stroke:#000000;\" x=\"276.871172\" xlink:href=\"#C0_0_44e615a88d\" y=\"160.759902\"/>\r\n    </g>\r\n    <g clip-path=\"url(#p60428c65e1)\">\r\n     <use style=\"fill:#440154;stroke:#000000;\" x=\"203.215215\" xlink:href=\"#C0_0_44e615a88d\" y=\"98.015854\"/>\r\n    </g>\r\n    <g clip-path=\"url(#p60428c65e1)\">\r\n     <use style=\"fill:#fde725;stroke:#000000;\" x=\"64.253667\" xlink:href=\"#C0_0_44e615a88d\" y=\"52.710503\"/>\r\n    </g>\r\n    <g clip-path=\"url(#p60428c65e1)\">\r\n     <use style=\"fill:#fde725;stroke:#000000;\" x=\"147.672238\" xlink:href=\"#C0_0_44e615a88d\" y=\"90.454176\"/>\r\n    </g>\r\n    <g clip-path=\"url(#p60428c65e1)\">\r\n     <use style=\"fill:#21918c;stroke:#000000;\" x=\"248.522351\" xlink:href=\"#C0_0_44e615a88d\" y=\"171.921419\"/>\r\n    </g>\r\n    <g clip-path=\"url(#p60428c65e1)\">\r\n     <use style=\"fill:#440154;stroke:#000000;\" x=\"230.675144\" xlink:href=\"#C0_0_44e615a88d\" y=\"64.140219\"/>\r\n    </g>\r\n    <g clip-path=\"url(#p60428c65e1)\">\r\n     <use style=\"fill:#440154;stroke:#000000;\" x=\"259.49667\" xlink:href=\"#C0_0_44e615a88d\" y=\"63.432073\"/>\r\n    </g>\r\n    <g clip-path=\"url(#p60428c65e1)\">\r\n     <use style=\"fill:#fde725;stroke:#000000;\" x=\"57.064066\" xlink:href=\"#C0_0_44e615a88d\" y=\"120.65551\"/>\r\n    </g>\r\n    <g clip-path=\"url(#p60428c65e1)\">\r\n     <use style=\"fill:#440154;stroke:#000000;\" x=\"177.614495\" xlink:href=\"#C0_0_44e615a88d\" y=\"64.702717\"/>\r\n    </g>\r\n    <g clip-path=\"url(#p60428c65e1)\">\r\n     <use style=\"fill:#21918c;stroke:#000000;\" x=\"251.75577\" xlink:href=\"#C0_0_44e615a88d\" y=\"202.668675\"/>\r\n    </g>\r\n    <g clip-path=\"url(#p60428c65e1)\">\r\n     <use style=\"fill:#fde725;stroke:#000000;\" x=\"104.746063\" xlink:href=\"#C0_0_44e615a88d\" y=\"129.795944\"/>\r\n    </g>\r\n    <g clip-path=\"url(#p60428c65e1)\">\r\n     <use style=\"fill:#fde725;stroke:#000000;\" x=\"156.604975\" xlink:href=\"#C0_0_44e615a88d\" y=\"73.034382\"/>\r\n    </g>\r\n    <g clip-path=\"url(#p60428c65e1)\">\r\n     <use style=\"fill:#fde725;stroke:#000000;\" x=\"127.206156\" xlink:href=\"#C0_0_44e615a88d\" y=\"100.511881\"/>\r\n    </g>\r\n    <g clip-path=\"url(#p60428c65e1)\">\r\n     <use style=\"fill:#440154;stroke:#000000;\" x=\"244.099836\" xlink:href=\"#C0_0_44e615a88d\" y=\"93.833088\"/>\r\n    </g>\r\n    <g clip-path=\"url(#p60428c65e1)\">\r\n     <use style=\"fill:#440154;stroke:#000000;\" x=\"229.5479\" xlink:href=\"#C0_0_44e615a88d\" y=\"20.713201\"/>\r\n    </g>\r\n    <g clip-path=\"url(#p60428c65e1)\">\r\n     <use style=\"fill:#fde725;stroke:#000000;\" x=\"127.828147\" xlink:href=\"#C0_0_44e615a88d\" y=\"104.464487\"/>\r\n    </g>\r\n    <g clip-path=\"url(#p60428c65e1)\">\r\n     <use style=\"fill:#440154;stroke:#000000;\" x=\"215.988449\" xlink:href=\"#C0_0_44e615a88d\" y=\"76.471808\"/>\r\n    </g>\r\n    <g clip-path=\"url(#p60428c65e1)\">\r\n     <use style=\"fill:#21918c;stroke:#000000;\" x=\"246.328848\" xlink:href=\"#C0_0_44e615a88d\" y=\"186.007536\"/>\r\n    </g>\r\n    <g clip-path=\"url(#p60428c65e1)\">\r\n     <use style=\"fill:#21918c;stroke:#000000;\" x=\"289.082056\" xlink:href=\"#C0_0_44e615a88d\" y=\"151.785294\"/>\r\n    </g>\r\n    <g clip-path=\"url(#p60428c65e1)\">\r\n     <use style=\"fill:#440154;stroke:#000000;\" x=\"240.605547\" xlink:href=\"#C0_0_44e615a88d\" y=\"44.468585\"/>\r\n    </g>\r\n    <g clip-path=\"url(#p60428c65e1)\">\r\n     <use style=\"fill:#21918c;stroke:#000000;\" x=\"281.282238\" xlink:href=\"#C0_0_44e615a88d\" y=\"155.891763\"/>\r\n    </g>\r\n    <g clip-path=\"url(#p60428c65e1)\">\r\n     <use style=\"fill:#21918c;stroke:#000000;\" x=\"292.798365\" xlink:href=\"#C0_0_44e615a88d\" y=\"189.320746\"/>\r\n    </g>\r\n    <g clip-path=\"url(#p60428c65e1)\">\r\n     <use style=\"fill:#fde725;stroke:#000000;\" x=\"70.251878\" xlink:href=\"#C0_0_44e615a88d\" y=\"108.670317\"/>\r\n    </g>\r\n    <g clip-path=\"url(#p60428c65e1)\">\r\n     <use style=\"fill:#21918c;stroke:#000000;\" x=\"242.138043\" xlink:href=\"#C0_0_44e615a88d\" y=\"162.756681\"/>\r\n    </g>\r\n    <g clip-path=\"url(#p60428c65e1)\">\r\n     <use style=\"fill:#fde725;stroke:#000000;\" x=\"108.318339\" xlink:href=\"#C0_0_44e615a88d\" y=\"106.754989\"/>\r\n    </g>\r\n    <g clip-path=\"url(#p60428c65e1)\">\r\n     <use style=\"fill:#fde725;stroke:#000000;\" x=\"72.634702\" xlink:href=\"#C0_0_44e615a88d\" y=\"90.325916\"/>\r\n    </g>\r\n    <g clip-path=\"url(#p60428c65e1)\">\r\n     <use style=\"fill:#fde725;stroke:#000000;\" x=\"151.230488\" xlink:href=\"#C0_0_44e615a88d\" y=\"69.496391\"/>\r\n    </g>\r\n    <g clip-path=\"url(#p60428c65e1)\">\r\n     <use style=\"fill:#440154;stroke:#000000;\" x=\"288.91968\" xlink:href=\"#C0_0_44e615a88d\" y=\"40.078208\"/>\r\n    </g>\r\n    <g clip-path=\"url(#p60428c65e1)\">\r\n     <use style=\"fill:#440154;stroke:#000000;\" x=\"268.545662\" xlink:href=\"#C0_0_44e615a88d\" y=\"33.555857\"/>\r\n    </g>\r\n    <g clip-path=\"url(#p60428c65e1)\">\r\n     <use style=\"fill:#440154;stroke:#000000;\" x=\"207.653207\" xlink:href=\"#C0_0_44e615a88d\" y=\"59.319701\"/>\r\n    </g>\r\n    <g clip-path=\"url(#p60428c65e1)\">\r\n     <use style=\"fill:#fde725;stroke:#000000;\" x=\"163.337574\" xlink:href=\"#C0_0_44e615a88d\" y=\"108.129129\"/>\r\n    </g>\r\n    <g clip-path=\"url(#p60428c65e1)\">\r\n     <use style=\"fill:#440154;stroke:#000000;\" x=\"191.706436\" xlink:href=\"#C0_0_44e615a88d\" y=\"17.241101\"/>\r\n    </g>\r\n    <g clip-path=\"url(#p60428c65e1)\">\r\n     <use style=\"fill:#440154;stroke:#000000;\" x=\"231.338818\" xlink:href=\"#C0_0_44e615a88d\" y=\"53.362873\"/>\r\n    </g>\r\n    <g clip-path=\"url(#p60428c65e1)\">\r\n     <use style=\"fill:#440154;stroke:#000000;\" x=\"208.932379\" xlink:href=\"#C0_0_44e615a88d\" y=\"68.004243\"/>\r\n    </g>\r\n    <g clip-path=\"url(#p60428c65e1)\">\r\n     <use style=\"fill:#21918c;stroke:#000000;\" x=\"268.0845\" xlink:href=\"#C0_0_44e615a88d\" y=\"160.285859\"/>\r\n    </g>\r\n    <g clip-path=\"url(#p60428c65e1)\">\r\n     <use style=\"fill:#fde725;stroke:#000000;\" x=\"108.322015\" xlink:href=\"#C0_0_44e615a88d\" y=\"109.621488\"/>\r\n    </g>\r\n    <g clip-path=\"url(#p60428c65e1)\">\r\n     <use style=\"fill:#fde725;stroke:#000000;\" x=\"124.135654\" xlink:href=\"#C0_0_44e615a88d\" y=\"48.479498\"/>\r\n    </g>\r\n    <g clip-path=\"url(#p60428c65e1)\">\r\n     <use style=\"fill:#fde725;stroke:#000000;\" x=\"125.642325\" xlink:href=\"#C0_0_44e615a88d\" y=\"75.696038\"/>\r\n    </g>\r\n    <g clip-path=\"url(#p60428c65e1)\">\r\n     <use style=\"fill:#fde725;stroke:#000000;\" x=\"117.876886\" xlink:href=\"#C0_0_44e615a88d\" y=\"133.728759\"/>\r\n    </g>\r\n    <g clip-path=\"url(#p60428c65e1)\">\r\n     <use style=\"fill:#21918c;stroke:#000000;\" x=\"277.336456\" xlink:href=\"#C0_0_44e615a88d\" y=\"148.621153\"/>\r\n    </g>\r\n    <g clip-path=\"url(#p60428c65e1)\">\r\n     <use style=\"fill:#21918c;stroke:#000000;\" x=\"301.773459\" xlink:href=\"#C0_0_44e615a88d\" y=\"146.716258\"/>\r\n    </g>\r\n    <g clip-path=\"url(#p60428c65e1)\">\r\n     <use style=\"fill:#440154;stroke:#000000;\" x=\"247.646312\" xlink:href=\"#C0_0_44e615a88d\" y=\"64.604959\"/>\r\n    </g>\r\n    <g clip-path=\"url(#p60428c65e1)\">\r\n     <use style=\"fill:#440154;stroke:#000000;\" x=\"276.792915\" xlink:href=\"#C0_0_44e615a88d\" y=\"18.291685\"/>\r\n    </g>\r\n    <g clip-path=\"url(#p60428c65e1)\">\r\n     <use style=\"fill:#fde725;stroke:#000000;\" x=\"86.519008\" xlink:href=\"#C0_0_44e615a88d\" y=\"127.791402\"/>\r\n    </g>\r\n    <g clip-path=\"url(#p60428c65e1)\">\r\n     <use style=\"fill:#fde725;stroke:#000000;\" x=\"181.868704\" xlink:href=\"#C0_0_44e615a88d\" y=\"94.535426\"/>\r\n    </g>\r\n    <g clip-path=\"url(#p60428c65e1)\">\r\n     <use style=\"fill:#440154;stroke:#000000;\" x=\"228.311195\" xlink:href=\"#C0_0_44e615a88d\" y=\"50.592689\"/>\r\n    </g>\r\n    <g clip-path=\"url(#p60428c65e1)\">\r\n     <use style=\"fill:#21918c;stroke:#000000;\" x=\"253.236095\" xlink:href=\"#C0_0_44e615a88d\" y=\"158.968137\"/>\r\n    </g>\r\n    <g clip-path=\"url(#p60428c65e1)\">\r\n     <use style=\"fill:#21918c;stroke:#000000;\" x=\"260.529744\" xlink:href=\"#C0_0_44e615a88d\" y=\"159.000215\"/>\r\n    </g>\r\n    <g clip-path=\"url(#p60428c65e1)\">\r\n     <use style=\"fill:#fde725;stroke:#000000;\" x=\"138.33106\" xlink:href=\"#C0_0_44e615a88d\" y=\"84.749406\"/>\r\n    </g>\r\n    <g clip-path=\"url(#p60428c65e1)\">\r\n     <use style=\"fill:#21918c;stroke:#000000;\" x=\"223.072194\" xlink:href=\"#C0_0_44e615a88d\" y=\"152.339069\"/>\r\n    </g>\r\n    <g clip-path=\"url(#p60428c65e1)\">\r\n     <use style=\"fill:#21918c;stroke:#000000;\" x=\"243.149091\" xlink:href=\"#C0_0_44e615a88d\" y=\"129.145888\"/>\r\n    </g>\r\n    <g clip-path=\"url(#p60428c65e1)\">\r\n     <use style=\"fill:#fde725;stroke:#000000;\" x=\"130.411457\" xlink:href=\"#C0_0_44e615a88d\" y=\"134.614463\"/>\r\n    </g>\r\n    <g clip-path=\"url(#p60428c65e1)\">\r\n     <use style=\"fill:#21918c;stroke:#000000;\" x=\"270.151064\" xlink:href=\"#C0_0_44e615a88d\" y=\"116.020716\"/>\r\n    </g>\r\n    <g clip-path=\"url(#p60428c65e1)\">\r\n     <use style=\"fill:#21918c;stroke:#000000;\" x=\"262.453395\" xlink:href=\"#C0_0_44e615a88d\" y=\"190.62039\"/>\r\n    </g>\r\n    <g clip-path=\"url(#p60428c65e1)\">\r\n     <use style=\"fill:#440154;stroke:#000000;\" x=\"194.979318\" xlink:href=\"#C0_0_44e615a88d\" y=\"36.811762\"/>\r\n    </g>\r\n    <g clip-path=\"url(#p60428c65e1)\">\r\n     <use style=\"fill:#440154;stroke:#000000;\" x=\"215.29997\" xlink:href=\"#C0_0_44e615a88d\" y=\"19.317913\"/>\r\n    </g>\r\n    <g clip-path=\"url(#p60428c65e1)\">\r\n     <use style=\"fill:#fde725;stroke:#000000;\" x=\"116.405674\" xlink:href=\"#C0_0_44e615a88d\" y=\"90.00514\"/>\r\n    </g>\r\n    <g clip-path=\"url(#p60428c65e1)\">\r\n     <use style=\"fill:#440154;stroke:#000000;\" x=\"189.159254\" xlink:href=\"#C0_0_44e615a88d\" y=\"42.907695\"/>\r\n    </g>\r\n    <g clip-path=\"url(#p60428c65e1)\">\r\n     <use style=\"fill:#fde725;stroke:#000000;\" x=\"130.758802\" xlink:href=\"#C0_0_44e615a88d\" y=\"87.280717\"/>\r\n    </g>\r\n    <g clip-path=\"url(#p60428c65e1)\">\r\n     <use style=\"fill:#21918c;stroke:#000000;\" x=\"257.769039\" xlink:href=\"#C0_0_44e615a88d\" y=\"153.346751\"/>\r\n    </g>\r\n    <g clip-path=\"url(#p60428c65e1)\">\r\n     <use style=\"fill:#21918c;stroke:#000000;\" x=\"344.564867\" xlink:href=\"#C0_0_44e615a88d\" y=\"154.66155\"/>\r\n    </g>\r\n    <g clip-path=\"url(#p60428c65e1)\">\r\n     <use style=\"fill:#21918c;stroke:#000000;\" x=\"241.770418\" xlink:href=\"#C0_0_44e615a88d\" y=\"161.346543\"/>\r\n    </g>\r\n    <g clip-path=\"url(#p60428c65e1)\">\r\n     <use style=\"fill:#fde725;stroke:#000000;\" x=\"44.160369\" xlink:href=\"#C0_0_44e615a88d\" y=\"84.804966\"/>\r\n    </g>\r\n    <g clip-path=\"url(#p60428c65e1)\">\r\n     <use style=\"fill:#fde725;stroke:#000000;\" x=\"109.095903\" xlink:href=\"#C0_0_44e615a88d\" y=\"108.737516\"/>\r\n    </g>\r\n    <g clip-path=\"url(#p60428c65e1)\">\r\n     <use style=\"fill:#440154;stroke:#000000;\" x=\"234.884672\" xlink:href=\"#C0_0_44e615a88d\" y=\"68.86351\"/>\r\n    </g>\r\n    <g clip-path=\"url(#p60428c65e1)\">\r\n     <use style=\"fill:#440154;stroke:#000000;\" x=\"225.912209\" xlink:href=\"#C0_0_44e615a88d\" y=\"50.983001\"/>\r\n    </g>\r\n    <g clip-path=\"url(#p60428c65e1)\">\r\n     <use style=\"fill:#21918c;stroke:#000000;\" x=\"348.524006\" xlink:href=\"#C0_0_44e615a88d\" y=\"132.943431\"/>\r\n    </g>\r\n    <g clip-path=\"url(#p60428c65e1)\">\r\n     <use style=\"fill:#21918c;stroke:#000000;\" x=\"289.062414\" xlink:href=\"#C0_0_44e615a88d\" y=\"157.507211\"/>\r\n    </g>\r\n    <g clip-path=\"url(#p60428c65e1)\">\r\n     <use style=\"fill:#440154;stroke:#000000;\" x=\"256.848978\" xlink:href=\"#C0_0_44e615a88d\" y=\"76.35538\"/>\r\n    </g>\r\n    <g clip-path=\"url(#p60428c65e1)\">\r\n     <use style=\"fill:#440154;stroke:#000000;\" x=\"212.918184\" xlink:href=\"#C0_0_44e615a88d\" y=\"69.662329\"/>\r\n    </g>\r\n    <g clip-path=\"url(#p60428c65e1)\">\r\n     <use style=\"fill:#fde725;stroke:#000000;\" x=\"117.516837\" xlink:href=\"#C0_0_44e615a88d\" y=\"94.701028\"/>\r\n    </g>\r\n    <g clip-path=\"url(#p60428c65e1)\">\r\n     <use style=\"fill:#440154;stroke:#000000;\" x=\"201.678075\" xlink:href=\"#C0_0_44e615a88d\" y=\"17.979675\"/>\r\n    </g>\r\n    <g clip-path=\"url(#p60428c65e1)\">\r\n     <use style=\"fill:#21918c;stroke:#000000;\" x=\"277.661502\" xlink:href=\"#C0_0_44e615a88d\" y=\"139.754397\"/>\r\n    </g>\r\n    <g clip-path=\"url(#p60428c65e1)\">\r\n     <use style=\"fill:#fde725;stroke:#000000;\" x=\"92.174757\" xlink:href=\"#C0_0_44e615a88d\" y=\"105.023654\"/>\r\n    </g>\r\n    <g clip-path=\"url(#p60428c65e1)\">\r\n     <use style=\"fill:#fde725;stroke:#000000;\" x=\"153.064662\" xlink:href=\"#C0_0_44e615a88d\" y=\"124.318821\"/>\r\n    </g>\r\n    <g clip-path=\"url(#p60428c65e1)\">\r\n     <use style=\"fill:#21918c;stroke:#000000;\" x=\"285.090663\" xlink:href=\"#C0_0_44e615a88d\" y=\"214.756364\"/>\r\n    </g>\r\n    <g clip-path=\"url(#p60428c65e1)\">\r\n     <use style=\"fill:#440154;stroke:#000000;\" x=\"201.372067\" xlink:href=\"#C0_0_44e615a88d\" y=\"72.760801\"/>\r\n    </g>\r\n    <g clip-path=\"url(#p60428c65e1)\">\r\n     <use style=\"fill:#21918c;stroke:#000000;\" x=\"310.315146\" xlink:href=\"#C0_0_44e615a88d\" y=\"146.755547\"/>\r\n    </g>\r\n    <g clip-path=\"url(#p60428c65e1)\">\r\n     <use style=\"fill:#440154;stroke:#000000;\" x=\"220.643906\" xlink:href=\"#C0_0_44e615a88d\" y=\"42.358191\"/>\r\n    </g>\r\n    <g clip-path=\"url(#p60428c65e1)\">\r\n     <use style=\"fill:#440154;stroke:#000000;\" x=\"242.075415\" xlink:href=\"#C0_0_44e615a88d\" y=\"75.092995\"/>\r\n    </g>\r\n    <g clip-path=\"url(#p60428c65e1)\">\r\n     <use style=\"fill:#fde725;stroke:#000000;\" x=\"125.398598\" xlink:href=\"#C0_0_44e615a88d\" y=\"113.120841\"/>\r\n    </g>\r\n    <g clip-path=\"url(#p60428c65e1)\">\r\n     <use style=\"fill:#fde725;stroke:#000000;\" x=\"107.185642\" xlink:href=\"#C0_0_44e615a88d\" y=\"124.871987\"/>\r\n    </g>\r\n    <g clip-path=\"url(#p60428c65e1)\">\r\n     <use style=\"fill:#21918c;stroke:#000000;\" x=\"294.441898\" xlink:href=\"#C0_0_44e615a88d\" y=\"138.440007\"/>\r\n    </g>\r\n    <g clip-path=\"url(#p60428c65e1)\">\r\n     <use style=\"fill:#21918c;stroke:#000000;\" x=\"261.015315\" xlink:href=\"#C0_0_44e615a88d\" y=\"183.99421\"/>\r\n    </g>\r\n    <g clip-path=\"url(#p60428c65e1)\">\r\n     <use style=\"fill:#440154;stroke:#000000;\" x=\"278.216482\" xlink:href=\"#C0_0_44e615a88d\" y=\"27.679639\"/>\r\n    </g>\r\n    <g clip-path=\"url(#p60428c65e1)\">\r\n     <use style=\"fill:#fde725;stroke:#000000;\" x=\"113.841394\" xlink:href=\"#C0_0_44e615a88d\" y=\"84.495972\"/>\r\n    </g>\r\n    <g clip-path=\"url(#p60428c65e1)\">\r\n     <use style=\"fill:#440154;stroke:#000000;\" x=\"207.713063\" xlink:href=\"#C0_0_44e615a88d\" y=\"67.934075\"/>\r\n    </g>\r\n    <g clip-path=\"url(#p60428c65e1)\">\r\n     <use style=\"fill:#fde725;stroke:#000000;\" x=\"124.901851\" xlink:href=\"#C0_0_44e615a88d\" y=\"74.428896\"/>\r\n    </g>\r\n    <g clip-path=\"url(#p60428c65e1)\">\r\n     <use style=\"fill:#440154;stroke:#000000;\" x=\"177.093354\" xlink:href=\"#C0_0_44e615a88d\" y=\"49.834434\"/>\r\n    </g>\r\n    <g clip-path=\"url(#p60428c65e1)\">\r\n     <use style=\"fill:#21918c;stroke:#000000;\" x=\"307.489875\" xlink:href=\"#C0_0_44e615a88d\" y=\"139.309083\"/>\r\n    </g>\r\n    <g clip-path=\"url(#p60428c65e1)\">\r\n     <use style=\"fill:#440154;stroke:#000000;\" x=\"200.583365\" xlink:href=\"#C0_0_44e615a88d\" y=\"51.504551\"/>\r\n    </g>\r\n    <g clip-path=\"url(#p60428c65e1)\">\r\n     <use style=\"fill:#440154;stroke:#000000;\" x=\"147.590913\" xlink:href=\"#C0_0_44e615a88d\" y=\"45.634118\"/>\r\n    </g>\r\n    <g clip-path=\"url(#p60428c65e1)\">\r\n     <use style=\"fill:#21918c;stroke:#000000;\" x=\"248.688338\" xlink:href=\"#C0_0_44e615a88d\" y=\"119.769646\"/>\r\n    </g>\r\n    <g clip-path=\"url(#p60428c65e1)\">\r\n     <use style=\"fill:#440154;stroke:#000000;\" x=\"212.881323\" xlink:href=\"#C0_0_44e615a88d\" y=\"86.006063\"/>\r\n    </g>\r\n    <g clip-path=\"url(#p60428c65e1)\">\r\n     <use style=\"fill:#fde725;stroke:#000000;\" x=\"172.801668\" xlink:href=\"#C0_0_44e615a88d\" y=\"113.324895\"/>\r\n    </g>\r\n    <g clip-path=\"url(#p60428c65e1)\">\r\n     <use style=\"fill:#21918c;stroke:#000000;\" x=\"230.262109\" xlink:href=\"#C0_0_44e615a88d\" y=\"163.890967\"/>\r\n    </g>\r\n    <g clip-path=\"url(#p60428c65e1)\">\r\n     <use style=\"fill:#fde725;stroke:#000000;\" x=\"176.064195\" xlink:href=\"#C0_0_44e615a88d\" y=\"79.385379\"/>\r\n    </g>\r\n    <g clip-path=\"url(#p60428c65e1)\">\r\n     <use style=\"fill:#440154;stroke:#000000;\" x=\"216.829032\" xlink:href=\"#C0_0_44e615a88d\" y=\"66.673991\"/>\r\n    </g>\r\n    <g clip-path=\"url(#p60428c65e1)\">\r\n     <use style=\"fill:#440154;stroke:#000000;\" x=\"243.402896\" xlink:href=\"#C0_0_44e615a88d\" y=\"52.676106\"/>\r\n    </g>\r\n    <g clip-path=\"url(#p60428c65e1)\">\r\n     <use style=\"fill:#440154;stroke:#000000;\" x=\"265.63983\" xlink:href=\"#C0_0_44e615a88d\" y=\"87.198867\"/>\r\n    </g>\r\n    <g clip-path=\"url(#p60428c65e1)\">\r\n     <use style=\"fill:#21918c;stroke:#000000;\" x=\"302.686611\" xlink:href=\"#C0_0_44e615a88d\" y=\"151.804461\"/>\r\n    </g>\r\n    <g clip-path=\"url(#p60428c65e1)\">\r\n     <use style=\"fill:#fde725;stroke:#000000;\" x=\"110.036921\" xlink:href=\"#C0_0_44e615a88d\" y=\"122.711031\"/>\r\n    </g>\r\n    <g clip-path=\"url(#p60428c65e1)\">\r\n     <use style=\"fill:#fde725;stroke:#000000;\" x=\"128.675034\" xlink:href=\"#C0_0_44e615a88d\" y=\"94.60805\"/>\r\n    </g>\r\n    <g clip-path=\"url(#p60428c65e1)\">\r\n     <use style=\"fill:#21918c;stroke:#000000;\" x=\"253.268131\" xlink:href=\"#C0_0_44e615a88d\" y=\"154.888477\"/>\r\n    </g>\r\n    <g clip-path=\"url(#p60428c65e1)\">\r\n     <use style=\"fill:#21918c;stroke:#000000;\" x=\"257.511242\" xlink:href=\"#C0_0_44e615a88d\" y=\"143.134039\"/>\r\n    </g>\r\n    <g clip-path=\"url(#p60428c65e1)\">\r\n     <use style=\"fill:#fde725;stroke:#000000;\" x=\"149.743725\" xlink:href=\"#C0_0_44e615a88d\" y=\"132.719581\"/>\r\n    </g>\r\n    <g clip-path=\"url(#p60428c65e1)\">\r\n     <use style=\"fill:#440154;stroke:#000000;\" x=\"241.246855\" xlink:href=\"#C0_0_44e615a88d\" y=\"84.218156\"/>\r\n    </g>\r\n    <g clip-path=\"url(#p60428c65e1)\">\r\n     <use style=\"fill:#21918c;stroke:#000000;\" x=\"251.953394\" xlink:href=\"#C0_0_44e615a88d\" y=\"162.475439\"/>\r\n    </g>\r\n    <g clip-path=\"url(#p60428c65e1)\">\r\n     <use style=\"fill:#440154;stroke:#000000;\" x=\"195.68906\" xlink:href=\"#C0_0_44e615a88d\" y=\"91.274954\"/>\r\n    </g>\r\n    <g clip-path=\"url(#p60428c65e1)\">\r\n     <use style=\"fill:#fde725;stroke:#000000;\" x=\"73.039065\" xlink:href=\"#C0_0_44e615a88d\" y=\"88.224998\"/>\r\n    </g>\r\n    <g clip-path=\"url(#p60428c65e1)\">\r\n     <use style=\"fill:#21918c;stroke:#000000;\" x=\"210.428267\" xlink:href=\"#C0_0_44e615a88d\" y=\"149.576443\"/>\r\n    </g>\r\n    <g clip-path=\"url(#p60428c65e1)\">\r\n     <use style=\"fill:#fde725;stroke:#000000;\" x=\"93.15081\" xlink:href=\"#C0_0_44e615a88d\" y=\"114.232338\"/>\r\n    </g>\r\n    <g clip-path=\"url(#p60428c65e1)\">\r\n     <use style=\"fill:#440154;stroke:#000000;\" x=\"248.844854\" xlink:href=\"#C0_0_44e615a88d\" y=\"39.722482\"/>\r\n    </g>\r\n    <g clip-path=\"url(#p60428c65e1)\">\r\n     <use style=\"fill:#fde725;stroke:#000000;\" x=\"138.142369\" xlink:href=\"#C0_0_44e615a88d\" y=\"120.008784\"/>\r\n    </g>\r\n    <g clip-path=\"url(#p60428c65e1)\">\r\n     <use style=\"fill:#21918c;stroke:#000000;\" x=\"239.267169\" xlink:href=\"#C0_0_44e615a88d\" y=\"138.729541\"/>\r\n    </g>\r\n    <g clip-path=\"url(#p60428c65e1)\">\r\n     <use style=\"fill:#21918c;stroke:#000000;\" x=\"226.804348\" xlink:href=\"#C0_0_44e615a88d\" y=\"164.589462\"/>\r\n    </g>\r\n    <g clip-path=\"url(#p60428c65e1)\">\r\n     <use style=\"fill:#21918c;stroke:#000000;\" x=\"224.656012\" xlink:href=\"#C0_0_44e615a88d\" y=\"144.060437\"/>\r\n    </g>\r\n    <g clip-path=\"url(#p60428c65e1)\">\r\n     <use style=\"fill:#440154;stroke:#000000;\" x=\"250.70605\" xlink:href=\"#C0_0_44e615a88d\" y=\"51.052039\"/>\r\n    </g>\r\n    <g clip-path=\"url(#p60428c65e1)\">\r\n     <use style=\"fill:#21918c;stroke:#000000;\" x=\"262.393507\" xlink:href=\"#C0_0_44e615a88d\" y=\"151.587686\"/>\r\n    </g>\r\n    <g clip-path=\"url(#p60428c65e1)\">\r\n     <use style=\"fill:#21918c;stroke:#000000;\" x=\"269.185194\" xlink:href=\"#C0_0_44e615a88d\" y=\"168.334656\"/>\r\n    </g>\r\n    <g clip-path=\"url(#p60428c65e1)\">\r\n     <use style=\"fill:#440154;stroke:#000000;\" x=\"259.587353\" xlink:href=\"#C0_0_44e615a88d\" y=\"63.351673\"/>\r\n    </g>\r\n    <g clip-path=\"url(#p60428c65e1)\">\r\n     <use style=\"fill:#21918c;stroke:#000000;\" x=\"240.355057\" xlink:href=\"#C0_0_44e615a88d\" y=\"187.731952\"/>\r\n    </g>\r\n    <g clip-path=\"url(#p60428c65e1)\">\r\n     <use style=\"fill:#fde725;stroke:#000000;\" x=\"144.961757\" xlink:href=\"#C0_0_44e615a88d\" y=\"100.70554\"/>\r\n    </g>\r\n    <g clip-path=\"url(#p60428c65e1)\">\r\n     <use style=\"fill:#fde725;stroke:#000000;\" x=\"124.829976\" xlink:href=\"#C0_0_44e615a88d\" y=\"73.127055\"/>\r\n    </g>\r\n    <g clip-path=\"url(#p60428c65e1)\">\r\n     <use style=\"fill:#fde725;stroke:#000000;\" x=\"115.079727\" xlink:href=\"#C0_0_44e615a88d\" y=\"104.320724\"/>\r\n    </g>\r\n    <g clip-path=\"url(#p60428c65e1)\">\r\n     <use style=\"fill:#440154;stroke:#000000;\" x=\"276.979205\" xlink:href=\"#C0_0_44e615a88d\" y=\"64.535836\"/>\r\n    </g>\r\n    <g clip-path=\"url(#p60428c65e1)\">\r\n     <use style=\"fill:#21918c;stroke:#000000;\" x=\"234.323948\" xlink:href=\"#C0_0_44e615a88d\" y=\"164.88652\"/>\r\n    </g>\r\n    <g clip-path=\"url(#p60428c65e1)\">\r\n     <use style=\"fill:#21918c;stroke:#000000;\" x=\"299.726422\" xlink:href=\"#C0_0_44e615a88d\" y=\"168.060572\"/>\r\n    </g>\r\n    <g clip-path=\"url(#p60428c65e1)\">\r\n     <use style=\"fill:#440154;stroke:#000000;\" x=\"219.251601\" xlink:href=\"#C0_0_44e615a88d\" y=\"58.784092\"/>\r\n    </g>\r\n    <g clip-path=\"url(#p60428c65e1)\">\r\n     <use style=\"fill:#fde725;stroke:#000000;\" x=\"106.646528\" xlink:href=\"#C0_0_44e615a88d\" y=\"77.388875\"/>\r\n    </g>\r\n    <g clip-path=\"url(#p60428c65e1)\">\r\n     <use style=\"fill:#fde725;stroke:#000000;\" x=\"87.405612\" xlink:href=\"#C0_0_44e615a88d\" y=\"61.654554\"/>\r\n    </g>\r\n    <g clip-path=\"url(#p60428c65e1)\">\r\n     <use style=\"fill:#21918c;stroke:#000000;\" x=\"237.024716\" xlink:href=\"#C0_0_44e615a88d\" y=\"152.583313\"/>\r\n    </g>\r\n    <g clip-path=\"url(#p60428c65e1)\">\r\n     <use style=\"fill:#440154;stroke:#000000;\" x=\"208.883656\" xlink:href=\"#C0_0_44e615a88d\" y=\"45.131965\"/>\r\n    </g>\r\n    <g clip-path=\"url(#p60428c65e1)\">\r\n     <use style=\"fill:#21918c;stroke:#000000;\" x=\"271.076901\" xlink:href=\"#C0_0_44e615a88d\" y=\"179.44126\"/>\r\n    </g>\r\n    <g clip-path=\"url(#p60428c65e1)\">\r\n     <use style=\"fill:#fde725;stroke:#000000;\" x=\"95.758751\" xlink:href=\"#C0_0_44e615a88d\" y=\"71.492723\"/>\r\n    </g>\r\n    <g clip-path=\"url(#p60428c65e1)\">\r\n     <use style=\"fill:#fde725;stroke:#000000;\" x=\"107.050973\" xlink:href=\"#C0_0_44e615a88d\" y=\"64.334357\"/>\r\n    </g>\r\n    <g clip-path=\"url(#p60428c65e1)\">\r\n     <use style=\"fill:#fde725;stroke:#000000;\" x=\"97.668775\" xlink:href=\"#C0_0_44e615a88d\" y=\"130.545244\"/>\r\n    </g>\r\n    <g clip-path=\"url(#p60428c65e1)\">\r\n     <use style=\"fill:#440154;stroke:#000000;\" x=\"252.521861\" xlink:href=\"#C0_0_44e615a88d\" y=\"57.181374\"/>\r\n    </g>\r\n    <g clip-path=\"url(#p60428c65e1)\">\r\n     <use style=\"fill:#21918c;stroke:#000000;\" x=\"341.49333\" xlink:href=\"#C0_0_44e615a88d\" y=\"124.314426\"/>\r\n    </g>\r\n    <g clip-path=\"url(#p60428c65e1)\">\r\n     <use style=\"fill:#21918c;stroke:#000000;\" x=\"297.007618\" xlink:href=\"#C0_0_44e615a88d\" y=\"135.606104\"/>\r\n    </g>\r\n    <g clip-path=\"url(#p60428c65e1)\">\r\n     <use style=\"fill:#21918c;stroke:#000000;\" x=\"254.977056\" xlink:href=\"#C0_0_44e615a88d\" y=\"144.574188\"/>\r\n    </g>\r\n    <g clip-path=\"url(#p60428c65e1)\">\r\n     <use style=\"fill:#440154;stroke:#000000;\" x=\"207.00627\" xlink:href=\"#C0_0_44e615a88d\" y=\"63.313757\"/>\r\n    </g>\r\n    <g clip-path=\"url(#p60428c65e1)\">\r\n     <use style=\"fill:#440154;stroke:#000000;\" x=\"191.961357\" xlink:href=\"#C0_0_44e615a88d\" y=\"40.193061\"/>\r\n    </g>\r\n    <g clip-path=\"url(#p60428c65e1)\">\r\n     <use style=\"fill:#fde725;stroke:#000000;\" x=\"202.834614\" xlink:href=\"#C0_0_44e615a88d\" y=\"121.481084\"/>\r\n    </g>\r\n    <g clip-path=\"url(#p60428c65e1)\">\r\n     <use style=\"fill:#fde725;stroke:#000000;\" x=\"156.084084\" xlink:href=\"#C0_0_44e615a88d\" y=\"103.640682\"/>\r\n    </g>\r\n    <g clip-path=\"url(#p60428c65e1)\">\r\n     <use style=\"fill:#fde725;stroke:#000000;\" x=\"137.95293\" xlink:href=\"#C0_0_44e615a88d\" y=\"117.759169\"/>\r\n    </g>\r\n    <g clip-path=\"url(#p60428c65e1)\">\r\n     <use style=\"fill:#fde725;stroke:#000000;\" x=\"116.871465\" xlink:href=\"#C0_0_44e615a88d\" y=\"96.073404\"/>\r\n    </g>\r\n    <g clip-path=\"url(#p60428c65e1)\">\r\n     <use style=\"fill:#440154;stroke:#000000;\" x=\"266.898807\" xlink:href=\"#C0_0_44e615a88d\" y=\"63.980447\"/>\r\n    </g>\r\n    <g clip-path=\"url(#p60428c65e1)\">\r\n     <use style=\"fill:#440154;stroke:#000000;\" x=\"188.593701\" xlink:href=\"#C0_0_44e615a88d\" y=\"38.683827\"/>\r\n    </g>\r\n    <g clip-path=\"url(#p60428c65e1)\">\r\n     <use style=\"fill:#21918c;stroke:#000000;\" x=\"271.555079\" xlink:href=\"#C0_0_44e615a88d\" y=\"169.975563\"/>\r\n    </g>\r\n    <g clip-path=\"url(#p60428c65e1)\">\r\n     <use style=\"fill:#fde725;stroke:#000000;\" x=\"153.68729\" xlink:href=\"#C0_0_44e615a88d\" y=\"90.308065\"/>\r\n    </g>\r\n    <g clip-path=\"url(#p60428c65e1)\">\r\n     <use style=\"fill:#21918c;stroke:#000000;\" x=\"271.788649\" xlink:href=\"#C0_0_44e615a88d\" y=\"145.386321\"/>\r\n    </g>\r\n    <g clip-path=\"url(#p60428c65e1)\">\r\n     <use style=\"fill:#21918c;stroke:#000000;\" x=\"230.999053\" xlink:href=\"#C0_0_44e615a88d\" y=\"147.853666\"/>\r\n    </g>\r\n    <g clip-path=\"url(#p60428c65e1)\">\r\n     <use style=\"fill:#440154;stroke:#000000;\" x=\"200.828927\" xlink:href=\"#C0_0_44e615a88d\" y=\"103.617716\"/>\r\n    </g>\r\n    <g clip-path=\"url(#p60428c65e1)\">\r\n     <use style=\"fill:#21918c;stroke:#000000;\" x=\"292.321997\" xlink:href=\"#C0_0_44e615a88d\" y=\"188.992832\"/>\r\n    </g>\r\n    <g clip-path=\"url(#p60428c65e1)\">\r\n     <use style=\"fill:#440154;stroke:#000000;\" x=\"174.661272\" xlink:href=\"#C0_0_44e615a88d\" y=\"17.083636\"/>\r\n    </g>\r\n    <g clip-path=\"url(#p60428c65e1)\">\r\n     <use style=\"fill:#21918c;stroke:#000000;\" x=\"309.173843\" xlink:href=\"#C0_0_44e615a88d\" y=\"129.969013\"/>\r\n    </g>\r\n    <g clip-path=\"url(#p60428c65e1)\">\r\n     <use style=\"fill:#fde725;stroke:#000000;\" x=\"150.481248\" xlink:href=\"#C0_0_44e615a88d\" y=\"108.290551\"/>\r\n    </g>\r\n    <g clip-path=\"url(#p60428c65e1)\">\r\n     <use style=\"fill:#fde725;stroke:#000000;\" x=\"151.506684\" xlink:href=\"#C0_0_44e615a88d\" y=\"98.067089\"/>\r\n    </g>\r\n    <g clip-path=\"url(#p60428c65e1)\">\r\n     <use style=\"fill:#440154;stroke:#000000;\" x=\"289.418161\" xlink:href=\"#C0_0_44e615a88d\" y=\"89.684533\"/>\r\n    </g>\r\n    <g clip-path=\"url(#p60428c65e1)\">\r\n     <use style=\"fill:#fde725;stroke:#000000;\" x=\"74.886494\" xlink:href=\"#C0_0_44e615a88d\" y=\"89.626026\"/>\r\n    </g>\r\n    <g clip-path=\"url(#p60428c65e1)\">\r\n     <use style=\"fill:#440154;stroke:#000000;\" x=\"204.597323\" xlink:href=\"#C0_0_44e615a88d\" y=\"48.151394\"/>\r\n    </g>\r\n    <g clip-path=\"url(#p60428c65e1)\">\r\n     <use style=\"fill:#21918c;stroke:#000000;\" x=\"233.154574\" xlink:href=\"#C0_0_44e615a88d\" y=\"135.147\"/>\r\n    </g>\r\n    <g clip-path=\"url(#p60428c65e1)\">\r\n     <use style=\"fill:#440154;stroke:#000000;\" x=\"235.870936\" xlink:href=\"#C0_0_44e615a88d\" y=\"38.524423\"/>\r\n    </g>\r\n    <g clip-path=\"url(#p60428c65e1)\">\r\n     <use style=\"fill:#fde725;stroke:#000000;\" x=\"120.616732\" xlink:href=\"#C0_0_44e615a88d\" y=\"122.977669\"/>\r\n    </g>\r\n    <g clip-path=\"url(#p60428c65e1)\">\r\n     <use style=\"fill:#21918c;stroke:#000000;\" x=\"285.960667\" xlink:href=\"#C0_0_44e615a88d\" y=\"138.832691\"/>\r\n    </g>\r\n    <g clip-path=\"url(#p60428c65e1)\">\r\n     <use style=\"fill:#21918c;stroke:#000000;\" x=\"334.865014\" xlink:href=\"#C0_0_44e615a88d\" y=\"145.145496\"/>\r\n    </g>\r\n    <g clip-path=\"url(#p60428c65e1)\">\r\n     <use style=\"fill:#21918c;stroke:#000000;\" x=\"320.11277\" xlink:href=\"#C0_0_44e615a88d\" y=\"199.291935\"/>\r\n    </g>\r\n    <g clip-path=\"url(#p60428c65e1)\">\r\n     <use style=\"fill:#440154;stroke:#000000;\" x=\"301.778223\" xlink:href=\"#C0_0_44e615a88d\" y=\"92.030949\"/>\r\n    </g>\r\n    <g clip-path=\"url(#p60428c65e1)\">\r\n     <use style=\"fill:#fde725;stroke:#000000;\" x=\"106.170031\" xlink:href=\"#C0_0_44e615a88d\" y=\"116.0441\"/>\r\n    </g>\r\n    <g clip-path=\"url(#p60428c65e1)\">\r\n     <use style=\"fill:#21918c;stroke:#000000;\" x=\"235.647242\" xlink:href=\"#C0_0_44e615a88d\" y=\"163.367908\"/>\r\n    </g>\r\n    <g clip-path=\"url(#p60428c65e1)\">\r\n     <use style=\"fill:#440154;stroke:#000000;\" x=\"233.817403\" xlink:href=\"#C0_0_44e615a88d\" y=\"28.011666\"/>\r\n    </g>\r\n    <g clip-path=\"url(#p60428c65e1)\">\r\n     <use style=\"fill:#440154;stroke:#000000;\" x=\"290.690324\" xlink:href=\"#C0_0_44e615a88d\" y=\"27.434094\"/>\r\n    </g>\r\n    <g clip-path=\"url(#p60428c65e1)\">\r\n     <use style=\"fill:#fde725;stroke:#000000;\" x=\"158.968403\" xlink:href=\"#C0_0_44e615a88d\" y=\"90.667442\"/>\r\n    </g>\r\n    <g clip-path=\"url(#p60428c65e1)\">\r\n     <use style=\"fill:#fde725;stroke:#000000;\" x=\"119.846112\" xlink:href=\"#C0_0_44e615a88d\" y=\"114.910566\"/>\r\n    </g>\r\n    <g clip-path=\"url(#p60428c65e1)\">\r\n     <use style=\"fill:#21918c;stroke:#000000;\" x=\"221.724897\" xlink:href=\"#C0_0_44e615a88d\" y=\"140.29699\"/>\r\n    </g>\r\n    <g clip-path=\"url(#p60428c65e1)\">\r\n     <use style=\"fill:#21918c;stroke:#000000;\" x=\"246.647105\" xlink:href=\"#C0_0_44e615a88d\" y=\"168.908491\"/>\r\n    </g>\r\n    <g clip-path=\"url(#p60428c65e1)\">\r\n     <use style=\"fill:#21918c;stroke:#000000;\" x=\"235.368655\" xlink:href=\"#C0_0_44e615a88d\" y=\"136.537262\"/>\r\n    </g>\r\n    <g clip-path=\"url(#p60428c65e1)\">\r\n     <use style=\"fill:#21918c;stroke:#000000;\" x=\"308.352331\" xlink:href=\"#C0_0_44e615a88d\" y=\"177.500811\"/>\r\n    </g>\r\n    <g clip-path=\"url(#p60428c65e1)\">\r\n     <use style=\"fill:#fde725;stroke:#000000;\" x=\"107.307985\" xlink:href=\"#C0_0_44e615a88d\" y=\"61.623297\"/>\r\n    </g>\r\n    <g clip-path=\"url(#p60428c65e1)\">\r\n     <use style=\"fill:#21918c;stroke:#000000;\" x=\"301.432013\" xlink:href=\"#C0_0_44e615a88d\" y=\"146.749481\"/>\r\n    </g>\r\n    <g clip-path=\"url(#p60428c65e1)\">\r\n     <use style=\"fill:#440154;stroke:#000000;\" x=\"239.22125\" xlink:href=\"#C0_0_44e615a88d\" y=\"78.81898\"/>\r\n    </g>\r\n    <g clip-path=\"url(#p60428c65e1)\">\r\n     <use style=\"fill:#21918c;stroke:#000000;\" x=\"249.134831\" xlink:href=\"#C0_0_44e615a88d\" y=\"184.179373\"/>\r\n    </g>\r\n   </g>\r\n   <g id=\"matplotlib.axis_1\">\r\n    <g id=\"xtick_1\">\r\n     <g id=\"line2d_1\">\r\n      <defs>\r\n       <path d=\"M 0 0 \r\nL 0 3.5 \r\n\" id=\"mbfbd41a4e9\" style=\"stroke:#000000;stroke-width:0.8;\"/>\r\n      </defs>\r\n      <g>\r\n       <use style=\"stroke:#000000;stroke-width:0.8;\" x=\"30.342634\" xlink:href=\"#mbfbd41a4e9\" y=\"224.64\"/>\r\n      </g>\r\n     </g>\r\n     <g id=\"text_1\">\r\n      <!-- −4 -->\r\n      <g transform=\"translate(22.97154 239.238437)scale(0.1 -0.1)\">\r\n       <defs>\r\n        <path d=\"M 678 2272 \r\nL 4684 2272 \r\nL 4684 1741 \r\nL 678 1741 \r\nL 678 2272 \r\nz\r\n\" id=\"DejaVuSans-2212\" transform=\"scale(0.015625)\"/>\r\n        <path d=\"M 2419 4116 \r\nL 825 1625 \r\nL 2419 1625 \r\nL 2419 4116 \r\nz\r\nM 2253 4666 \r\nL 3047 4666 \r\nL 3047 1625 \r\nL 3713 1625 \r\nL 3713 1100 \r\nL 3047 1100 \r\nL 3047 0 \r\nL 2419 0 \r\nL 2419 1100 \r\nL 313 1100 \r\nL 313 1709 \r\nL 2253 4666 \r\nz\r\n\" id=\"DejaVuSans-34\" transform=\"scale(0.015625)\"/>\r\n       </defs>\r\n       <use xlink:href=\"#DejaVuSans-2212\"/>\r\n       <use x=\"83.789062\" xlink:href=\"#DejaVuSans-34\"/>\r\n      </g>\r\n     </g>\r\n    </g>\r\n    <g id=\"xtick_2\">\r\n     <g id=\"line2d_2\">\r\n      <g>\r\n       <use style=\"stroke:#000000;stroke-width:0.8;\" x=\"70.306215\" xlink:href=\"#mbfbd41a4e9\" y=\"224.64\"/>\r\n      </g>\r\n     </g>\r\n     <g id=\"text_2\">\r\n      <!-- −3 -->\r\n      <g transform=\"translate(62.935121 239.238437)scale(0.1 -0.1)\">\r\n       <defs>\r\n        <path d=\"M 2597 2516 \r\nQ 3050 2419 3304 2112 \r\nQ 3559 1806 3559 1356 \r\nQ 3559 666 3084 287 \r\nQ 2609 -91 1734 -91 \r\nQ 1441 -91 1130 -33 \r\nQ 819 25 488 141 \r\nL 488 750 \r\nQ 750 597 1062 519 \r\nQ 1375 441 1716 441 \r\nQ 2309 441 2620 675 \r\nQ 2931 909 2931 1356 \r\nQ 2931 1769 2642 2001 \r\nQ 2353 2234 1838 2234 \r\nL 1294 2234 \r\nL 1294 2753 \r\nL 1863 2753 \r\nQ 2328 2753 2575 2939 \r\nQ 2822 3125 2822 3475 \r\nQ 2822 3834 2567 4026 \r\nQ 2313 4219 1838 4219 \r\nQ 1578 4219 1281 4162 \r\nQ 984 4106 628 3988 \r\nL 628 4550 \r\nQ 988 4650 1302 4700 \r\nQ 1616 4750 1894 4750 \r\nQ 2613 4750 3031 4423 \r\nQ 3450 4097 3450 3541 \r\nQ 3450 3153 3228 2886 \r\nQ 3006 2619 2597 2516 \r\nz\r\n\" id=\"DejaVuSans-33\" transform=\"scale(0.015625)\"/>\r\n       </defs>\r\n       <use xlink:href=\"#DejaVuSans-2212\"/>\r\n       <use x=\"83.789062\" xlink:href=\"#DejaVuSans-33\"/>\r\n      </g>\r\n     </g>\r\n    </g>\r\n    <g id=\"xtick_3\">\r\n     <g id=\"line2d_3\">\r\n      <g>\r\n       <use style=\"stroke:#000000;stroke-width:0.8;\" x=\"110.269795\" xlink:href=\"#mbfbd41a4e9\" y=\"224.64\"/>\r\n      </g>\r\n     </g>\r\n     <g id=\"text_3\">\r\n      <!-- −2 -->\r\n      <g transform=\"translate(102.898702 239.238437)scale(0.1 -0.1)\">\r\n       <defs>\r\n        <path d=\"M 1228 531 \r\nL 3431 531 \r\nL 3431 0 \r\nL 469 0 \r\nL 469 531 \r\nQ 828 903 1448 1529 \r\nQ 2069 2156 2228 2338 \r\nQ 2531 2678 2651 2914 \r\nQ 2772 3150 2772 3378 \r\nQ 2772 3750 2511 3984 \r\nQ 2250 4219 1831 4219 \r\nQ 1534 4219 1204 4116 \r\nQ 875 4013 500 3803 \r\nL 500 4441 \r\nQ 881 4594 1212 4672 \r\nQ 1544 4750 1819 4750 \r\nQ 2544 4750 2975 4387 \r\nQ 3406 4025 3406 3419 \r\nQ 3406 3131 3298 2873 \r\nQ 3191 2616 2906 2266 \r\nQ 2828 2175 2409 1742 \r\nQ 1991 1309 1228 531 \r\nz\r\n\" id=\"DejaVuSans-32\" transform=\"scale(0.015625)\"/>\r\n       </defs>\r\n       <use xlink:href=\"#DejaVuSans-2212\"/>\r\n       <use x=\"83.789062\" xlink:href=\"#DejaVuSans-32\"/>\r\n      </g>\r\n     </g>\r\n    </g>\r\n    <g id=\"xtick_4\">\r\n     <g id=\"line2d_4\">\r\n      <g>\r\n       <use style=\"stroke:#000000;stroke-width:0.8;\" x=\"150.233376\" xlink:href=\"#mbfbd41a4e9\" y=\"224.64\"/>\r\n      </g>\r\n     </g>\r\n     <g id=\"text_4\">\r\n      <!-- −1 -->\r\n      <g transform=\"translate(142.862282 239.238437)scale(0.1 -0.1)\">\r\n       <defs>\r\n        <path d=\"M 794 531 \r\nL 1825 531 \r\nL 1825 4091 \r\nL 703 3866 \r\nL 703 4441 \r\nL 1819 4666 \r\nL 2450 4666 \r\nL 2450 531 \r\nL 3481 531 \r\nL 3481 0 \r\nL 794 0 \r\nL 794 531 \r\nz\r\n\" id=\"DejaVuSans-31\" transform=\"scale(0.015625)\"/>\r\n       </defs>\r\n       <use xlink:href=\"#DejaVuSans-2212\"/>\r\n       <use x=\"83.789062\" xlink:href=\"#DejaVuSans-31\"/>\r\n      </g>\r\n     </g>\r\n    </g>\r\n    <g id=\"xtick_5\">\r\n     <g id=\"line2d_5\">\r\n      <g>\r\n       <use style=\"stroke:#000000;stroke-width:0.8;\" x=\"190.196957\" xlink:href=\"#mbfbd41a4e9\" y=\"224.64\"/>\r\n      </g>\r\n     </g>\r\n     <g id=\"text_5\">\r\n      <!-- 0 -->\r\n      <g transform=\"translate(187.015707 239.238437)scale(0.1 -0.1)\">\r\n       <defs>\r\n        <path d=\"M 2034 4250 \r\nQ 1547 4250 1301 3770 \r\nQ 1056 3291 1056 2328 \r\nQ 1056 1369 1301 889 \r\nQ 1547 409 2034 409 \r\nQ 2525 409 2770 889 \r\nQ 3016 1369 3016 2328 \r\nQ 3016 3291 2770 3770 \r\nQ 2525 4250 2034 4250 \r\nz\r\nM 2034 4750 \r\nQ 2819 4750 3233 4129 \r\nQ 3647 3509 3647 2328 \r\nQ 3647 1150 3233 529 \r\nQ 2819 -91 2034 -91 \r\nQ 1250 -91 836 529 \r\nQ 422 1150 422 2328 \r\nQ 422 3509 836 4129 \r\nQ 1250 4750 2034 4750 \r\nz\r\n\" id=\"DejaVuSans-30\" transform=\"scale(0.015625)\"/>\r\n       </defs>\r\n       <use xlink:href=\"#DejaVuSans-30\"/>\r\n      </g>\r\n     </g>\r\n    </g>\r\n    <g id=\"xtick_6\">\r\n     <g id=\"line2d_6\">\r\n      <g>\r\n       <use style=\"stroke:#000000;stroke-width:0.8;\" x=\"230.160538\" xlink:href=\"#mbfbd41a4e9\" y=\"224.64\"/>\r\n      </g>\r\n     </g>\r\n     <g id=\"text_6\">\r\n      <!-- 1 -->\r\n      <g transform=\"translate(226.979288 239.238437)scale(0.1 -0.1)\">\r\n       <use xlink:href=\"#DejaVuSans-31\"/>\r\n      </g>\r\n     </g>\r\n    </g>\r\n    <g id=\"xtick_7\">\r\n     <g id=\"line2d_7\">\r\n      <g>\r\n       <use style=\"stroke:#000000;stroke-width:0.8;\" x=\"270.124119\" xlink:href=\"#mbfbd41a4e9\" y=\"224.64\"/>\r\n      </g>\r\n     </g>\r\n     <g id=\"text_7\">\r\n      <!-- 2 -->\r\n      <g transform=\"translate(266.942869 239.238437)scale(0.1 -0.1)\">\r\n       <use xlink:href=\"#DejaVuSans-32\"/>\r\n      </g>\r\n     </g>\r\n    </g>\r\n    <g id=\"xtick_8\">\r\n     <g id=\"line2d_8\">\r\n      <g>\r\n       <use style=\"stroke:#000000;stroke-width:0.8;\" x=\"310.087699\" xlink:href=\"#mbfbd41a4e9\" y=\"224.64\"/>\r\n      </g>\r\n     </g>\r\n     <g id=\"text_8\">\r\n      <!-- 3 -->\r\n      <g transform=\"translate(306.906449 239.238437)scale(0.1 -0.1)\">\r\n       <use xlink:href=\"#DejaVuSans-33\"/>\r\n      </g>\r\n     </g>\r\n    </g>\r\n    <g id=\"xtick_9\">\r\n     <g id=\"line2d_9\">\r\n      <g>\r\n       <use style=\"stroke:#000000;stroke-width:0.8;\" x=\"350.05128\" xlink:href=\"#mbfbd41a4e9\" y=\"224.64\"/>\r\n      </g>\r\n     </g>\r\n     <g id=\"text_9\">\r\n      <!-- 4 -->\r\n      <g transform=\"translate(346.87003 239.238437)scale(0.1 -0.1)\">\r\n       <use xlink:href=\"#DejaVuSans-34\"/>\r\n      </g>\r\n     </g>\r\n    </g>\r\n   </g>\r\n   <g id=\"matplotlib.axis_2\">\r\n    <g id=\"ytick_1\">\r\n     <g id=\"line2d_10\">\r\n      <defs>\r\n       <path d=\"M 0 0 \r\nL -3.5 0 \r\n\" id=\"md67cef2b22\" style=\"stroke:#000000;stroke-width:0.8;\"/>\r\n      </defs>\r\n      <g>\r\n       <use style=\"stroke:#000000;stroke-width:0.8;\" x=\"28.942188\" xlink:href=\"#md67cef2b22\" y=\"205.94105\"/>\r\n      </g>\r\n     </g>\r\n     <g id=\"text_10\">\r\n      <!-- −1 -->\r\n      <g transform=\"translate(7.2 209.740269)scale(0.1 -0.1)\">\r\n       <use xlink:href=\"#DejaVuSans-2212\"/>\r\n       <use x=\"83.789062\" xlink:href=\"#DejaVuSans-31\"/>\r\n      </g>\r\n     </g>\r\n    </g>\r\n    <g id=\"ytick_2\">\r\n     <g id=\"line2d_11\">\r\n      <g>\r\n       <use style=\"stroke:#000000;stroke-width:0.8;\" x=\"28.942188\" xlink:href=\"#md67cef2b22\" y=\"178.428492\"/>\r\n      </g>\r\n     </g>\r\n     <g id=\"text_11\">\r\n      <!-- 0 -->\r\n      <g transform=\"translate(15.579688 182.227711)scale(0.1 -0.1)\">\r\n       <use xlink:href=\"#DejaVuSans-30\"/>\r\n      </g>\r\n     </g>\r\n    </g>\r\n    <g id=\"ytick_3\">\r\n     <g id=\"line2d_12\">\r\n      <g>\r\n       <use style=\"stroke:#000000;stroke-width:0.8;\" x=\"28.942188\" xlink:href=\"#md67cef2b22\" y=\"150.915934\"/>\r\n      </g>\r\n     </g>\r\n     <g id=\"text_12\">\r\n      <!-- 1 -->\r\n      <g transform=\"translate(15.579688 154.715153)scale(0.1 -0.1)\">\r\n       <use xlink:href=\"#DejaVuSans-31\"/>\r\n      </g>\r\n     </g>\r\n    </g>\r\n    <g id=\"ytick_4\">\r\n     <g id=\"line2d_13\">\r\n      <g>\r\n       <use style=\"stroke:#000000;stroke-width:0.8;\" x=\"28.942188\" xlink:href=\"#md67cef2b22\" y=\"123.403376\"/>\r\n      </g>\r\n     </g>\r\n     <g id=\"text_13\">\r\n      <!-- 2 -->\r\n      <g transform=\"translate(15.579688 127.202595)scale(0.1 -0.1)\">\r\n       <use xlink:href=\"#DejaVuSans-32\"/>\r\n      </g>\r\n     </g>\r\n    </g>\r\n    <g id=\"ytick_5\">\r\n     <g id=\"line2d_14\">\r\n      <g>\r\n       <use style=\"stroke:#000000;stroke-width:0.8;\" x=\"28.942188\" xlink:href=\"#md67cef2b22\" y=\"95.890818\"/>\r\n      </g>\r\n     </g>\r\n     <g id=\"text_14\">\r\n      <!-- 3 -->\r\n      <g transform=\"translate(15.579688 99.690037)scale(0.1 -0.1)\">\r\n       <use xlink:href=\"#DejaVuSans-33\"/>\r\n      </g>\r\n     </g>\r\n    </g>\r\n    <g id=\"ytick_6\">\r\n     <g id=\"line2d_15\">\r\n      <g>\r\n       <use style=\"stroke:#000000;stroke-width:0.8;\" x=\"28.942188\" xlink:href=\"#md67cef2b22\" y=\"68.37826\"/>\r\n      </g>\r\n     </g>\r\n     <g id=\"text_15\">\r\n      <!-- 4 -->\r\n      <g transform=\"translate(15.579688 72.177479)scale(0.1 -0.1)\">\r\n       <use xlink:href=\"#DejaVuSans-34\"/>\r\n      </g>\r\n     </g>\r\n    </g>\r\n    <g id=\"ytick_7\">\r\n     <g id=\"line2d_16\">\r\n      <g>\r\n       <use style=\"stroke:#000000;stroke-width:0.8;\" x=\"28.942188\" xlink:href=\"#md67cef2b22\" y=\"40.865702\"/>\r\n      </g>\r\n     </g>\r\n     <g id=\"text_16\">\r\n      <!-- 5 -->\r\n      <g transform=\"translate(15.579688 44.664921)scale(0.1 -0.1)\">\r\n       <defs>\r\n        <path d=\"M 691 4666 \r\nL 3169 4666 \r\nL 3169 4134 \r\nL 1269 4134 \r\nL 1269 2991 \r\nQ 1406 3038 1543 3061 \r\nQ 1681 3084 1819 3084 \r\nQ 2600 3084 3056 2656 \r\nQ 3513 2228 3513 1497 \r\nQ 3513 744 3044 326 \r\nQ 2575 -91 1722 -91 \r\nQ 1428 -91 1123 -41 \r\nQ 819 9 494 109 \r\nL 494 744 \r\nQ 775 591 1075 516 \r\nQ 1375 441 1709 441 \r\nQ 2250 441 2565 725 \r\nQ 2881 1009 2881 1497 \r\nQ 2881 1984 2565 2268 \r\nQ 2250 2553 1709 2553 \r\nQ 1456 2553 1204 2497 \r\nQ 953 2441 691 2322 \r\nL 691 4666 \r\nz\r\n\" id=\"DejaVuSans-35\" transform=\"scale(0.015625)\"/>\r\n       </defs>\r\n       <use xlink:href=\"#DejaVuSans-35\"/>\r\n      </g>\r\n     </g>\r\n    </g>\r\n    <g id=\"ytick_8\">\r\n     <g id=\"line2d_17\">\r\n      <g>\r\n       <use style=\"stroke:#000000;stroke-width:0.8;\" x=\"28.942188\" xlink:href=\"#md67cef2b22\" y=\"13.353144\"/>\r\n      </g>\r\n     </g>\r\n     <g id=\"text_17\">\r\n      <!-- 6 -->\r\n      <g transform=\"translate(15.579688 17.152363)scale(0.1 -0.1)\">\r\n       <defs>\r\n        <path d=\"M 2113 2584 \r\nQ 1688 2584 1439 2293 \r\nQ 1191 2003 1191 1497 \r\nQ 1191 994 1439 701 \r\nQ 1688 409 2113 409 \r\nQ 2538 409 2786 701 \r\nQ 3034 994 3034 1497 \r\nQ 3034 2003 2786 2293 \r\nQ 2538 2584 2113 2584 \r\nz\r\nM 3366 4563 \r\nL 3366 3988 \r\nQ 3128 4100 2886 4159 \r\nQ 2644 4219 2406 4219 \r\nQ 1781 4219 1451 3797 \r\nQ 1122 3375 1075 2522 \r\nQ 1259 2794 1537 2939 \r\nQ 1816 3084 2150 3084 \r\nQ 2853 3084 3261 2657 \r\nQ 3669 2231 3669 1497 \r\nQ 3669 778 3244 343 \r\nQ 2819 -91 2113 -91 \r\nQ 1303 -91 875 529 \r\nQ 447 1150 447 2328 \r\nQ 447 3434 972 4092 \r\nQ 1497 4750 2381 4750 \r\nQ 2619 4750 2861 4703 \r\nQ 3103 4656 3366 4563 \r\nz\r\n\" id=\"DejaVuSans-36\" transform=\"scale(0.015625)\"/>\r\n       </defs>\r\n       <use xlink:href=\"#DejaVuSans-36\"/>\r\n      </g>\r\n     </g>\r\n    </g>\r\n   </g>\r\n   <g id=\"patch_3\">\r\n    <path d=\"M 28.942188 224.64 \r\nL 28.942188 7.2 \r\n\" style=\"fill:none;stroke:#000000;stroke-linecap:square;stroke-linejoin:miter;stroke-width:0.8;\"/>\r\n   </g>\r\n   <g id=\"patch_4\">\r\n    <path d=\"M 363.742188 224.64 \r\nL 363.742188 7.2 \r\n\" style=\"fill:none;stroke:#000000;stroke-linecap:square;stroke-linejoin:miter;stroke-width:0.8;\"/>\r\n   </g>\r\n   <g id=\"patch_5\">\r\n    <path d=\"M 28.942188 224.64 \r\nL 363.742188 224.64 \r\n\" style=\"fill:none;stroke:#000000;stroke-linecap:square;stroke-linejoin:miter;stroke-width:0.8;\"/>\r\n   </g>\r\n   <g id=\"patch_6\">\r\n    <path d=\"M 28.942188 7.2 \r\nL 363.742188 7.2 \r\n\" style=\"fill:none;stroke:#000000;stroke-linecap:square;stroke-linejoin:miter;stroke-width:0.8;\"/>\r\n   </g>\r\n  </g>\r\n </g>\r\n <defs>\r\n  <clipPath id=\"p60428c65e1\">\r\n   <rect height=\"217.44\" width=\"334.8\" x=\"28.942188\" y=\"7.2\"/>\r\n  </clipPath>\r\n </defs>\r\n</svg>\r\n",
      "image/png": "[encoded data removed]"
     },
     "metadata": {
      "needs_background": "light"
     }
    }
   ],
   "source": [
    "target_list = np.unique(y)\n",
    "plt.scatter(x=clusterDF['ftr1'], y=clusterDF['ftr2'], edgecolors='k', c=y)"
   ]
  },
  {
   "cell_type": "markdown",
   "metadata": {},
   "source": [
    "**K-Means 클러스터링을 수행하고 개별 클러스터의 중심 위치를 시각화**"
   ]
  },
  {
   "cell_type": "code",
   "execution_count": 37,
   "metadata": {
    "collapsed": true
   },
   "outputs": [
    {
     "output_type": "display_data",
     "data": {
      "text/plain": "<Figure size 432x288 with 1 Axes>",
      "image/svg+xml": "<?xml version=\"1.0\" encoding=\"utf-8\" standalone=\"no\"?>\r\n<!DOCTYPE svg PUBLIC \"-//W3C//DTD SVG 1.1//EN\"\r\n  \"http://www.w3.org/Graphics/SVG/1.1/DTD/svg11.dtd\">\r\n<svg height=\"248.518125pt\" version=\"1.1\" viewBox=\"0 0 370.942187 248.518125\" width=\"370.942187pt\" xmlns=\"http://www.w3.org/2000/svg\" xmlns:xlink=\"http://www.w3.org/1999/xlink\">\r\n <metadata>\r\n  <rdf:RDF xmlns:cc=\"http://creativecommons.org/ns#\" xmlns:dc=\"http://purl.org/dc/elements/1.1/\" xmlns:rdf=\"http://www.w3.org/1999/02/22-rdf-syntax-ns#\">\r\n   <cc:Work>\r\n    <dc:type rdf:resource=\"http://purl.org/dc/dcmitype/StillImage\"/>\r\n    <dc:date>2021-06-16T22:41:01.321915</dc:date>\r\n    <dc:format>image/svg+xml</dc:format>\r\n    <dc:creator>\r\n     <cc:Agent>\r\n      <dc:title>Matplotlib v3.4.2, https://matplotlib.org/</dc:title>\r\n     </cc:Agent>\r\n    </dc:creator>\r\n   </cc:Work>\r\n  </rdf:RDF>\r\n </metadata>\r\n <defs>\r\n  <style type=\"text/css\">*{stroke-linecap:butt;stroke-linejoin:round;}</style>\r\n </defs>\r\n <g id=\"figure_1\">\r\n  <g id=\"patch_1\">\r\n   <path d=\"M 0 248.518125 \r\nL 370.942187 248.518125 \r\nL 370.942187 0 \r\nL 0 0 \r\nz\r\n\" style=\"fill:none;\"/>\r\n  </g>\r\n  <g id=\"axes_1\">\r\n   <g id=\"patch_2\">\r\n    <path d=\"M 28.942188 224.64 \r\nL 363.742188 224.64 \r\nL 363.742188 7.2 \r\nL 28.942188 7.2 \r\nz\r\n\" style=\"fill:#ffffff;\"/>\r\n   </g>\r\n   <g id=\"PathCollection_1\">\r\n    <defs>\r\n     <path d=\"M 0 3 \r\nC 0.795609 3 1.55874 2.683901 2.12132 2.12132 \r\nC 2.683901 1.55874 3 0.795609 3 0 \r\nC 3 -0.795609 2.683901 -1.55874 2.12132 -2.12132 \r\nC 1.55874 -2.683901 0.795609 -3 0 -3 \r\nC -0.795609 -3 -1.55874 -2.683901 -2.12132 -2.12132 \r\nC -2.683901 -1.55874 -3 -0.795609 -3 0 \r\nC -3 0.795609 -2.683901 1.55874 -2.12132 2.12132 \r\nC -1.55874 2.683901 -0.795609 3 0 3 \r\nz\r\n\" id=\"m641f717ade\" style=\"stroke:#000000;\"/>\r\n    </defs>\r\n    <g clip-path=\"url(#p923704c748)\">\r\n     <use style=\"fill:#1f77b4;stroke:#000000;\" x=\"218.089153\" xlink:href=\"#m641f717ade\" y=\"56.579045\"/>\r\n     <use style=\"fill:#1f77b4;stroke:#000000;\" x=\"234.166008\" xlink:href=\"#m641f717ade\" y=\"51.696919\"/>\r\n     <use style=\"fill:#1f77b4;stroke:#000000;\" x=\"238.747137\" xlink:href=\"#m641f717ade\" y=\"30.826478\"/>\r\n     <use style=\"fill:#1f77b4;stroke:#000000;\" x=\"233.269694\" xlink:href=\"#m641f717ade\" y=\"51.172489\"/>\r\n     <use style=\"fill:#1f77b4;stroke:#000000;\" x=\"216.32229\" xlink:href=\"#m641f717ade\" y=\"33.114221\"/>\r\n     <use style=\"fill:#1f77b4;stroke:#000000;\" x=\"253.543239\" xlink:href=\"#m641f717ade\" y=\"57.342221\"/>\r\n     <use style=\"fill:#1f77b4;stroke:#000000;\" x=\"241.872882\" xlink:href=\"#m641f717ade\" y=\"84.078628\"/>\r\n     <use style=\"fill:#1f77b4;stroke:#000000;\" x=\"200.205092\" xlink:href=\"#m641f717ade\" y=\"58.876973\"/>\r\n     <use style=\"fill:#1f77b4;stroke:#000000;\" x=\"203.215215\" xlink:href=\"#m641f717ade\" y=\"98.015854\"/>\r\n     <use style=\"fill:#1f77b4;stroke:#000000;\" x=\"230.675144\" xlink:href=\"#m641f717ade\" y=\"64.140219\"/>\r\n     <use style=\"fill:#1f77b4;stroke:#000000;\" x=\"259.49667\" xlink:href=\"#m641f717ade\" y=\"63.432073\"/>\r\n     <use style=\"fill:#1f77b4;stroke:#000000;\" x=\"177.614495\" xlink:href=\"#m641f717ade\" y=\"64.702717\"/>\r\n     <use style=\"fill:#1f77b4;stroke:#000000;\" x=\"244.099836\" xlink:href=\"#m641f717ade\" y=\"93.833088\"/>\r\n     <use style=\"fill:#1f77b4;stroke:#000000;\" x=\"229.5479\" xlink:href=\"#m641f717ade\" y=\"20.713201\"/>\r\n     <use style=\"fill:#1f77b4;stroke:#000000;\" x=\"215.988449\" xlink:href=\"#m641f717ade\" y=\"76.471808\"/>\r\n     <use style=\"fill:#1f77b4;stroke:#000000;\" x=\"240.605547\" xlink:href=\"#m641f717ade\" y=\"44.468585\"/>\r\n     <use style=\"fill:#1f77b4;stroke:#000000;\" x=\"288.91968\" xlink:href=\"#m641f717ade\" y=\"40.078208\"/>\r\n     <use style=\"fill:#1f77b4;stroke:#000000;\" x=\"268.545662\" xlink:href=\"#m641f717ade\" y=\"33.555857\"/>\r\n     <use style=\"fill:#1f77b4;stroke:#000000;\" x=\"207.653207\" xlink:href=\"#m641f717ade\" y=\"59.319701\"/>\r\n     <use style=\"fill:#1f77b4;stroke:#000000;\" x=\"191.706436\" xlink:href=\"#m641f717ade\" y=\"17.241101\"/>\r\n     <use style=\"fill:#1f77b4;stroke:#000000;\" x=\"231.338818\" xlink:href=\"#m641f717ade\" y=\"53.362873\"/>\r\n     <use style=\"fill:#1f77b4;stroke:#000000;\" x=\"208.932379\" xlink:href=\"#m641f717ade\" y=\"68.004243\"/>\r\n     <use style=\"fill:#1f77b4;stroke:#000000;\" x=\"247.646312\" xlink:href=\"#m641f717ade\" y=\"64.604959\"/>\r\n     <use style=\"fill:#1f77b4;stroke:#000000;\" x=\"276.792915\" xlink:href=\"#m641f717ade\" y=\"18.291685\"/>\r\n     <use style=\"fill:#1f77b4;stroke:#000000;\" x=\"228.311195\" xlink:href=\"#m641f717ade\" y=\"50.592689\"/>\r\n     <use style=\"fill:#1f77b4;stroke:#000000;\" x=\"194.979318\" xlink:href=\"#m641f717ade\" y=\"36.811762\"/>\r\n     <use style=\"fill:#1f77b4;stroke:#000000;\" x=\"215.29997\" xlink:href=\"#m641f717ade\" y=\"19.317913\"/>\r\n     <use style=\"fill:#1f77b4;stroke:#000000;\" x=\"189.159254\" xlink:href=\"#m641f717ade\" y=\"42.907695\"/>\r\n     <use style=\"fill:#1f77b4;stroke:#000000;\" x=\"234.884672\" xlink:href=\"#m641f717ade\" y=\"68.86351\"/>\r\n     <use style=\"fill:#1f77b4;stroke:#000000;\" x=\"225.912209\" xlink:href=\"#m641f717ade\" y=\"50.983001\"/>\r\n     <use style=\"fill:#1f77b4;stroke:#000000;\" x=\"256.848978\" xlink:href=\"#m641f717ade\" y=\"76.35538\"/>\r\n     <use style=\"fill:#1f77b4;stroke:#000000;\" x=\"212.918184\" xlink:href=\"#m641f717ade\" y=\"69.662329\"/>\r\n     <use style=\"fill:#1f77b4;stroke:#000000;\" x=\"201.678075\" xlink:href=\"#m641f717ade\" y=\"17.979675\"/>\r\n     <use style=\"fill:#1f77b4;stroke:#000000;\" x=\"201.372067\" xlink:href=\"#m641f717ade\" y=\"72.760801\"/>\r\n     <use style=\"fill:#1f77b4;stroke:#000000;\" x=\"220.643906\" xlink:href=\"#m641f717ade\" y=\"42.358191\"/>\r\n     <use style=\"fill:#1f77b4;stroke:#000000;\" x=\"242.075415\" xlink:href=\"#m641f717ade\" y=\"75.092995\"/>\r\n     <use style=\"fill:#1f77b4;stroke:#000000;\" x=\"278.216482\" xlink:href=\"#m641f717ade\" y=\"27.679639\"/>\r\n     <use style=\"fill:#1f77b4;stroke:#000000;\" x=\"207.713063\" xlink:href=\"#m641f717ade\" y=\"67.934075\"/>\r\n     <use style=\"fill:#1f77b4;stroke:#000000;\" x=\"177.093354\" xlink:href=\"#m641f717ade\" y=\"49.834434\"/>\r\n     <use style=\"fill:#1f77b4;stroke:#000000;\" x=\"200.583365\" xlink:href=\"#m641f717ade\" y=\"51.504551\"/>\r\n     <use style=\"fill:#1f77b4;stroke:#000000;\" x=\"212.881323\" xlink:href=\"#m641f717ade\" y=\"86.006063\"/>\r\n     <use style=\"fill:#1f77b4;stroke:#000000;\" x=\"216.829032\" xlink:href=\"#m641f717ade\" y=\"66.673991\"/>\r\n     <use style=\"fill:#1f77b4;stroke:#000000;\" x=\"243.402896\" xlink:href=\"#m641f717ade\" y=\"52.676106\"/>\r\n     <use style=\"fill:#1f77b4;stroke:#000000;\" x=\"265.63983\" xlink:href=\"#m641f717ade\" y=\"87.198867\"/>\r\n     <use style=\"fill:#1f77b4;stroke:#000000;\" x=\"241.246855\" xlink:href=\"#m641f717ade\" y=\"84.218156\"/>\r\n     <use style=\"fill:#1f77b4;stroke:#000000;\" x=\"195.68906\" xlink:href=\"#m641f717ade\" y=\"91.274954\"/>\r\n     <use style=\"fill:#1f77b4;stroke:#000000;\" x=\"248.844854\" xlink:href=\"#m641f717ade\" y=\"39.722482\"/>\r\n     <use style=\"fill:#1f77b4;stroke:#000000;\" x=\"250.70605\" xlink:href=\"#m641f717ade\" y=\"51.052039\"/>\r\n     <use style=\"fill:#1f77b4;stroke:#000000;\" x=\"259.587353\" xlink:href=\"#m641f717ade\" y=\"63.351673\"/>\r\n     <use style=\"fill:#1f77b4;stroke:#000000;\" x=\"276.979205\" xlink:href=\"#m641f717ade\" y=\"64.535836\"/>\r\n     <use style=\"fill:#1f77b4;stroke:#000000;\" x=\"219.251601\" xlink:href=\"#m641f717ade\" y=\"58.784092\"/>\r\n     <use style=\"fill:#1f77b4;stroke:#000000;\" x=\"208.883656\" xlink:href=\"#m641f717ade\" y=\"45.131965\"/>\r\n     <use style=\"fill:#1f77b4;stroke:#000000;\" x=\"252.521861\" xlink:href=\"#m641f717ade\" y=\"57.181374\"/>\r\n     <use style=\"fill:#1f77b4;stroke:#000000;\" x=\"207.00627\" xlink:href=\"#m641f717ade\" y=\"63.313757\"/>\r\n     <use style=\"fill:#1f77b4;stroke:#000000;\" x=\"191.961357\" xlink:href=\"#m641f717ade\" y=\"40.193061\"/>\r\n     <use style=\"fill:#1f77b4;stroke:#000000;\" x=\"266.898807\" xlink:href=\"#m641f717ade\" y=\"63.980447\"/>\r\n     <use style=\"fill:#1f77b4;stroke:#000000;\" x=\"188.593701\" xlink:href=\"#m641f717ade\" y=\"38.683827\"/>\r\n     <use style=\"fill:#1f77b4;stroke:#000000;\" x=\"200.828927\" xlink:href=\"#m641f717ade\" y=\"103.617716\"/>\r\n     <use style=\"fill:#1f77b4;stroke:#000000;\" x=\"174.661272\" xlink:href=\"#m641f717ade\" y=\"17.083636\"/>\r\n     <use style=\"fill:#1f77b4;stroke:#000000;\" x=\"289.418161\" xlink:href=\"#m641f717ade\" y=\"89.684533\"/>\r\n     <use style=\"fill:#1f77b4;stroke:#000000;\" x=\"204.597323\" xlink:href=\"#m641f717ade\" y=\"48.151394\"/>\r\n     <use style=\"fill:#1f77b4;stroke:#000000;\" x=\"235.870936\" xlink:href=\"#m641f717ade\" y=\"38.524423\"/>\r\n     <use style=\"fill:#1f77b4;stroke:#000000;\" x=\"301.778223\" xlink:href=\"#m641f717ade\" y=\"92.030949\"/>\r\n     <use style=\"fill:#1f77b4;stroke:#000000;\" x=\"233.817403\" xlink:href=\"#m641f717ade\" y=\"28.011666\"/>\r\n     <use style=\"fill:#1f77b4;stroke:#000000;\" x=\"290.690324\" xlink:href=\"#m641f717ade\" y=\"27.434094\"/>\r\n     <use style=\"fill:#1f77b4;stroke:#000000;\" x=\"239.22125\" xlink:href=\"#m641f717ade\" y=\"78.81898\"/>\r\n    </g>\r\n   </g>\r\n   <g id=\"PathCollection_2\">\r\n    <defs>\r\n     <path d=\"M 0 7.071068 \r\nC 1.875269 7.071068 3.673985 6.326016 5 5 \r\nC 6.326016 3.673985 7.071068 1.875269 7.071068 0 \r\nC 7.071068 -1.875269 6.326016 -3.673985 5 -5 \r\nC 3.673985 -6.326016 1.875269 -7.071068 0 -7.071068 \r\nC -1.875269 -7.071068 -3.673985 -6.326016 -5 -5 \r\nC -6.326016 -3.673985 -7.071068 -1.875269 -7.071068 0 \r\nC -7.071068 1.875269 -6.326016 3.673985 -5 5 \r\nC -3.673985 6.326016 -1.875269 7.071068 0 7.071068 \r\nz\r\n\" id=\"mffab9e033b\" style=\"stroke:#000000;stroke-opacity:0.9;\"/>\r\n    </defs>\r\n    <g clip-path=\"url(#p923704c748)\">\r\n     <use style=\"fill:#ffffff;fill-opacity:0.9;stroke:#000000;stroke-opacity:0.9;\" x=\"229.765018\" xlink:href=\"#mffab9e033b\" y=\"56.089362\"/>\r\n    </g>\r\n   </g>\r\n   <g id=\"PathCollection_3\">\r\n    <defs>\r\n     <path d=\"M 0.363803 -3.31916 \r\nQ -0.477869 -3.31916 -0.903026 -2.489586 \r\nQ -1.326454 -1.661741 -1.326454 0.002592 \r\nQ -1.326454 1.660012 -0.903026 2.489586 \r\nQ -0.477869 3.31916 0.363803 3.31916 \r\nQ 1.212388 3.31916 1.635816 2.489586 \r\nQ 2.060973 1.660012 2.060973 0.002592 \r\nQ 2.060973 -1.661741 1.635816 -2.489586 \r\nQ 1.212388 -3.31916 0.363803 -3.31916 \r\nz\r\nM 0.363803 -4.1833 \r\nQ 1.720502 -4.1833 2.43601 -3.110039 \r\nQ 3.151517 -2.038505 3.151517 0.002592 \r\nQ 3.151517 2.038505 2.43601 3.111767 \r\nQ 1.720502 4.1833 0.363803 4.1833 \r\nQ -0.991168 4.1833 -1.706676 3.111767 \r\nQ -2.422183 2.038505 -2.422183 0.002592 \r\nQ -2.422183 -2.038505 -1.706676 -3.110039 \r\nQ -0.991168 -4.1833 0.363803 -4.1833 \r\nz\r\n\" id=\"m16ea1bec7c\" style=\"stroke:#000000;\"/>\r\n    </defs>\r\n    <g clip-path=\"url(#p923704c748)\">\r\n     <use style=\"stroke:#000000;\" x=\"229.765018\" xlink:href=\"#m16ea1bec7c\" y=\"56.089362\"/>\r\n    </g>\r\n   </g>\r\n   <g id=\"PathCollection_4\">\r\n    <defs>\r\n     <path d=\"M -3 3 \r\nL 3 3 \r\nL 3 -3 \r\nL -3 -3 \r\nz\r\n\" id=\"ma67f2487ac\" style=\"stroke:#000000;\"/>\r\n    </defs>\r\n    <g clip-path=\"url(#p923704c748)\">\r\n     <use style=\"fill:#ff7f0e;stroke:#000000;\" x=\"122.561516\" xlink:href=\"#ma67f2487ac\" y=\"78.777308\"/>\r\n     <use style=\"fill:#ff7f0e;stroke:#000000;\" x=\"132.300757\" xlink:href=\"#ma67f2487ac\" y=\"85.319249\"/>\r\n     <use style=\"fill:#ff7f0e;stroke:#000000;\" x=\"153.897971\" xlink:href=\"#ma67f2487ac\" y=\"124.207355\"/>\r\n     <use style=\"fill:#ff7f0e;stroke:#000000;\" x=\"123.081048\" xlink:href=\"#ma67f2487ac\" y=\"106.840743\"/>\r\n     <use style=\"fill:#ff7f0e;stroke:#000000;\" x=\"151.356933\" xlink:href=\"#ma67f2487ac\" y=\"101.662306\"/>\r\n     <use style=\"fill:#ff7f0e;stroke:#000000;\" x=\"147.313166\" xlink:href=\"#ma67f2487ac\" y=\"103.051176\"/>\r\n     <use style=\"fill:#ff7f0e;stroke:#000000;\" x=\"64.253667\" xlink:href=\"#ma67f2487ac\" y=\"52.710503\"/>\r\n     <use style=\"fill:#ff7f0e;stroke:#000000;\" x=\"147.672238\" xlink:href=\"#ma67f2487ac\" y=\"90.454176\"/>\r\n     <use style=\"fill:#ff7f0e;stroke:#000000;\" x=\"57.064066\" xlink:href=\"#ma67f2487ac\" y=\"120.65551\"/>\r\n     <use style=\"fill:#ff7f0e;stroke:#000000;\" x=\"104.746063\" xlink:href=\"#ma67f2487ac\" y=\"129.795944\"/>\r\n     <use style=\"fill:#ff7f0e;stroke:#000000;\" x=\"156.604975\" xlink:href=\"#ma67f2487ac\" y=\"73.034382\"/>\r\n     <use style=\"fill:#ff7f0e;stroke:#000000;\" x=\"127.206156\" xlink:href=\"#ma67f2487ac\" y=\"100.511881\"/>\r\n     <use style=\"fill:#ff7f0e;stroke:#000000;\" x=\"127.828147\" xlink:href=\"#ma67f2487ac\" y=\"104.464487\"/>\r\n     <use style=\"fill:#ff7f0e;stroke:#000000;\" x=\"70.251878\" xlink:href=\"#ma67f2487ac\" y=\"108.670317\"/>\r\n     <use style=\"fill:#ff7f0e;stroke:#000000;\" x=\"108.318339\" xlink:href=\"#ma67f2487ac\" y=\"106.754989\"/>\r\n     <use style=\"fill:#ff7f0e;stroke:#000000;\" x=\"72.634702\" xlink:href=\"#ma67f2487ac\" y=\"90.325916\"/>\r\n     <use style=\"fill:#ff7f0e;stroke:#000000;\" x=\"151.230488\" xlink:href=\"#ma67f2487ac\" y=\"69.496391\"/>\r\n     <use style=\"fill:#ff7f0e;stroke:#000000;\" x=\"163.337574\" xlink:href=\"#ma67f2487ac\" y=\"108.129129\"/>\r\n     <use style=\"fill:#ff7f0e;stroke:#000000;\" x=\"108.322015\" xlink:href=\"#ma67f2487ac\" y=\"109.621488\"/>\r\n     <use style=\"fill:#ff7f0e;stroke:#000000;\" x=\"124.135654\" xlink:href=\"#ma67f2487ac\" y=\"48.479498\"/>\r\n     <use style=\"fill:#ff7f0e;stroke:#000000;\" x=\"125.642325\" xlink:href=\"#ma67f2487ac\" y=\"75.696038\"/>\r\n     <use style=\"fill:#ff7f0e;stroke:#000000;\" x=\"117.876886\" xlink:href=\"#ma67f2487ac\" y=\"133.728759\"/>\r\n     <use style=\"fill:#ff7f0e;stroke:#000000;\" x=\"86.519008\" xlink:href=\"#ma67f2487ac\" y=\"127.791402\"/>\r\n     <use style=\"fill:#ff7f0e;stroke:#000000;\" x=\"181.868704\" xlink:href=\"#ma67f2487ac\" y=\"94.535426\"/>\r\n     <use style=\"fill:#ff7f0e;stroke:#000000;\" x=\"138.33106\" xlink:href=\"#ma67f2487ac\" y=\"84.749406\"/>\r\n     <use style=\"fill:#ff7f0e;stroke:#000000;\" x=\"130.411457\" xlink:href=\"#ma67f2487ac\" y=\"134.614463\"/>\r\n     <use style=\"fill:#ff7f0e;stroke:#000000;\" x=\"116.405674\" xlink:href=\"#ma67f2487ac\" y=\"90.00514\"/>\r\n     <use style=\"fill:#ff7f0e;stroke:#000000;\" x=\"130.758802\" xlink:href=\"#ma67f2487ac\" y=\"87.280717\"/>\r\n     <use style=\"fill:#ff7f0e;stroke:#000000;\" x=\"44.160369\" xlink:href=\"#ma67f2487ac\" y=\"84.804966\"/>\r\n     <use style=\"fill:#ff7f0e;stroke:#000000;\" x=\"109.095903\" xlink:href=\"#ma67f2487ac\" y=\"108.737516\"/>\r\n     <use style=\"fill:#ff7f0e;stroke:#000000;\" x=\"117.516837\" xlink:href=\"#ma67f2487ac\" y=\"94.701028\"/>\r\n     <use style=\"fill:#ff7f0e;stroke:#000000;\" x=\"92.174757\" xlink:href=\"#ma67f2487ac\" y=\"105.023654\"/>\r\n     <use style=\"fill:#ff7f0e;stroke:#000000;\" x=\"153.064662\" xlink:href=\"#ma67f2487ac\" y=\"124.318821\"/>\r\n     <use style=\"fill:#ff7f0e;stroke:#000000;\" x=\"125.398598\" xlink:href=\"#ma67f2487ac\" y=\"113.120841\"/>\r\n     <use style=\"fill:#ff7f0e;stroke:#000000;\" x=\"107.185642\" xlink:href=\"#ma67f2487ac\" y=\"124.871987\"/>\r\n     <use style=\"fill:#ff7f0e;stroke:#000000;\" x=\"113.841394\" xlink:href=\"#ma67f2487ac\" y=\"84.495972\"/>\r\n     <use style=\"fill:#ff7f0e;stroke:#000000;\" x=\"124.901851\" xlink:href=\"#ma67f2487ac\" y=\"74.428896\"/>\r\n     <use style=\"fill:#ff7f0e;stroke:#000000;\" x=\"147.590913\" xlink:href=\"#ma67f2487ac\" y=\"45.634118\"/>\r\n     <use style=\"fill:#ff7f0e;stroke:#000000;\" x=\"172.801668\" xlink:href=\"#ma67f2487ac\" y=\"113.324895\"/>\r\n     <use style=\"fill:#ff7f0e;stroke:#000000;\" x=\"176.064195\" xlink:href=\"#ma67f2487ac\" y=\"79.385379\"/>\r\n     <use style=\"fill:#ff7f0e;stroke:#000000;\" x=\"110.036921\" xlink:href=\"#ma67f2487ac\" y=\"122.711031\"/>\r\n     <use style=\"fill:#ff7f0e;stroke:#000000;\" x=\"128.675034\" xlink:href=\"#ma67f2487ac\" y=\"94.60805\"/>\r\n     <use style=\"fill:#ff7f0e;stroke:#000000;\" x=\"149.743725\" xlink:href=\"#ma67f2487ac\" y=\"132.719581\"/>\r\n     <use style=\"fill:#ff7f0e;stroke:#000000;\" x=\"73.039065\" xlink:href=\"#ma67f2487ac\" y=\"88.224998\"/>\r\n     <use style=\"fill:#ff7f0e;stroke:#000000;\" x=\"93.15081\" xlink:href=\"#ma67f2487ac\" y=\"114.232338\"/>\r\n     <use style=\"fill:#ff7f0e;stroke:#000000;\" x=\"138.142369\" xlink:href=\"#ma67f2487ac\" y=\"120.008784\"/>\r\n     <use style=\"fill:#ff7f0e;stroke:#000000;\" x=\"144.961757\" xlink:href=\"#ma67f2487ac\" y=\"100.70554\"/>\r\n     <use style=\"fill:#ff7f0e;stroke:#000000;\" x=\"124.829976\" xlink:href=\"#ma67f2487ac\" y=\"73.127055\"/>\r\n     <use style=\"fill:#ff7f0e;stroke:#000000;\" x=\"115.079727\" xlink:href=\"#ma67f2487ac\" y=\"104.320724\"/>\r\n     <use style=\"fill:#ff7f0e;stroke:#000000;\" x=\"106.646528\" xlink:href=\"#ma67f2487ac\" y=\"77.388875\"/>\r\n     <use style=\"fill:#ff7f0e;stroke:#000000;\" x=\"87.405612\" xlink:href=\"#ma67f2487ac\" y=\"61.654554\"/>\r\n     <use style=\"fill:#ff7f0e;stroke:#000000;\" x=\"95.758751\" xlink:href=\"#ma67f2487ac\" y=\"71.492723\"/>\r\n     <use style=\"fill:#ff7f0e;stroke:#000000;\" x=\"107.050973\" xlink:href=\"#ma67f2487ac\" y=\"64.334357\"/>\r\n     <use style=\"fill:#ff7f0e;stroke:#000000;\" x=\"97.668775\" xlink:href=\"#ma67f2487ac\" y=\"130.545244\"/>\r\n     <use style=\"fill:#ff7f0e;stroke:#000000;\" x=\"156.084084\" xlink:href=\"#ma67f2487ac\" y=\"103.640682\"/>\r\n     <use style=\"fill:#ff7f0e;stroke:#000000;\" x=\"137.95293\" xlink:href=\"#ma67f2487ac\" y=\"117.759169\"/>\r\n     <use style=\"fill:#ff7f0e;stroke:#000000;\" x=\"116.871465\" xlink:href=\"#ma67f2487ac\" y=\"96.073404\"/>\r\n     <use style=\"fill:#ff7f0e;stroke:#000000;\" x=\"153.68729\" xlink:href=\"#ma67f2487ac\" y=\"90.308065\"/>\r\n     <use style=\"fill:#ff7f0e;stroke:#000000;\" x=\"150.481248\" xlink:href=\"#ma67f2487ac\" y=\"108.290551\"/>\r\n     <use style=\"fill:#ff7f0e;stroke:#000000;\" x=\"151.506684\" xlink:href=\"#ma67f2487ac\" y=\"98.067089\"/>\r\n     <use style=\"fill:#ff7f0e;stroke:#000000;\" x=\"74.886494\" xlink:href=\"#ma67f2487ac\" y=\"89.626026\"/>\r\n     <use style=\"fill:#ff7f0e;stroke:#000000;\" x=\"120.616732\" xlink:href=\"#ma67f2487ac\" y=\"122.977669\"/>\r\n     <use style=\"fill:#ff7f0e;stroke:#000000;\" x=\"106.170031\" xlink:href=\"#ma67f2487ac\" y=\"116.0441\"/>\r\n     <use style=\"fill:#ff7f0e;stroke:#000000;\" x=\"158.968403\" xlink:href=\"#ma67f2487ac\" y=\"90.667442\"/>\r\n     <use style=\"fill:#ff7f0e;stroke:#000000;\" x=\"119.846112\" xlink:href=\"#ma67f2487ac\" y=\"114.910566\"/>\r\n     <use style=\"fill:#ff7f0e;stroke:#000000;\" x=\"107.307985\" xlink:href=\"#ma67f2487ac\" y=\"61.623297\"/>\r\n    </g>\r\n   </g>\r\n   <g id=\"PathCollection_5\">\r\n    <defs>\r\n     <path d=\"M -7.071068 7.071068 \r\nL 7.071068 7.071068 \r\nL 7.071068 -7.071068 \r\nL -7.071068 -7.071068 \r\nz\r\n\" id=\"m331d227315\" style=\"stroke:#000000;stroke-opacity:0.9;\"/>\r\n    </defs>\r\n    <g clip-path=\"url(#p923704c748)\">\r\n     <use style=\"fill:#ffffff;fill-opacity:0.9;stroke:#000000;stroke-opacity:0.9;\" x=\"122.004508\" xlink:href=\"#m331d227315\" y=\"97.882941\"/>\r\n    </g>\r\n   </g>\r\n   <g id=\"PathCollection_6\">\r\n    <defs>\r\n     <path d=\"M -1.697168 3.231165 \r\nL 0.151517 3.231165 \r\nL 0.151517 -3.152268 \r\nL -1.86034 -2.748821 \r\nL -1.86034 -3.779853 \r\nL 0.140758 -4.1833 \r\nL 1.272204 -4.1833 \r\nL 1.272204 3.231165 \r\nL 3.120889 3.231165 \r\nL 3.120889 4.1833 \r\nL -1.697168 4.1833 \r\nL -1.697168 3.231165 \r\nz\r\n\" id=\"m4d02273ea8\" style=\"stroke:#000000;\"/>\r\n    </defs>\r\n    <g clip-path=\"url(#p923704c748)\">\r\n     <use style=\"stroke:#000000;\" x=\"122.004508\" xlink:href=\"#m4d02273ea8\" y=\"97.882941\"/>\r\n    </g>\r\n   </g>\r\n   <g id=\"PathCollection_7\">\r\n    <defs>\r\n     <path d=\"M 0 -3 \r\nL -3 3 \r\nL 3 3 \r\nz\r\n\" id=\"m6678f4ae40\" style=\"stroke:#000000;\"/>\r\n    </defs>\r\n    <g clip-path=\"url(#p923704c748)\">\r\n     <use style=\"fill:#2ca02c;stroke:#000000;\" x=\"288.991701\" xlink:href=\"#m6678f4ae40\" y=\"166.404588\"/>\r\n     <use style=\"fill:#2ca02c;stroke:#000000;\" x=\"256.410279\" xlink:href=\"#m6678f4ae40\" y=\"111.262378\"/>\r\n     <use style=\"fill:#2ca02c;stroke:#000000;\" x=\"297.472391\" xlink:href=\"#m6678f4ae40\" y=\"163.997374\"/>\r\n     <use style=\"fill:#2ca02c;stroke:#000000;\" x=\"276.871172\" xlink:href=\"#m6678f4ae40\" y=\"160.759902\"/>\r\n     <use style=\"fill:#2ca02c;stroke:#000000;\" x=\"248.522351\" xlink:href=\"#m6678f4ae40\" y=\"171.921419\"/>\r\n     <use style=\"fill:#2ca02c;stroke:#000000;\" x=\"251.75577\" xlink:href=\"#m6678f4ae40\" y=\"202.668675\"/>\r\n     <use style=\"fill:#2ca02c;stroke:#000000;\" x=\"246.328848\" xlink:href=\"#m6678f4ae40\" y=\"186.007536\"/>\r\n     <use style=\"fill:#2ca02c;stroke:#000000;\" x=\"289.082056\" xlink:href=\"#m6678f4ae40\" y=\"151.785294\"/>\r\n     <use style=\"fill:#2ca02c;stroke:#000000;\" x=\"281.282238\" xlink:href=\"#m6678f4ae40\" y=\"155.891763\"/>\r\n     <use style=\"fill:#2ca02c;stroke:#000000;\" x=\"292.798365\" xlink:href=\"#m6678f4ae40\" y=\"189.320746\"/>\r\n     <use style=\"fill:#2ca02c;stroke:#000000;\" x=\"242.138043\" xlink:href=\"#m6678f4ae40\" y=\"162.756681\"/>\r\n     <use style=\"fill:#2ca02c;stroke:#000000;\" x=\"268.0845\" xlink:href=\"#m6678f4ae40\" y=\"160.285859\"/>\r\n     <use style=\"fill:#2ca02c;stroke:#000000;\" x=\"277.336456\" xlink:href=\"#m6678f4ae40\" y=\"148.621153\"/>\r\n     <use style=\"fill:#2ca02c;stroke:#000000;\" x=\"301.773459\" xlink:href=\"#m6678f4ae40\" y=\"146.716258\"/>\r\n     <use style=\"fill:#2ca02c;stroke:#000000;\" x=\"253.236095\" xlink:href=\"#m6678f4ae40\" y=\"158.968137\"/>\r\n     <use style=\"fill:#2ca02c;stroke:#000000;\" x=\"260.529744\" xlink:href=\"#m6678f4ae40\" y=\"159.000215\"/>\r\n     <use style=\"fill:#2ca02c;stroke:#000000;\" x=\"223.072194\" xlink:href=\"#m6678f4ae40\" y=\"152.339069\"/>\r\n     <use style=\"fill:#2ca02c;stroke:#000000;\" x=\"243.149091\" xlink:href=\"#m6678f4ae40\" y=\"129.145888\"/>\r\n     <use style=\"fill:#2ca02c;stroke:#000000;\" x=\"270.151064\" xlink:href=\"#m6678f4ae40\" y=\"116.020716\"/>\r\n     <use style=\"fill:#2ca02c;stroke:#000000;\" x=\"262.453395\" xlink:href=\"#m6678f4ae40\" y=\"190.62039\"/>\r\n     <use style=\"fill:#2ca02c;stroke:#000000;\" x=\"257.769039\" xlink:href=\"#m6678f4ae40\" y=\"153.346751\"/>\r\n     <use style=\"fill:#2ca02c;stroke:#000000;\" x=\"344.564867\" xlink:href=\"#m6678f4ae40\" y=\"154.66155\"/>\r\n     <use style=\"fill:#2ca02c;stroke:#000000;\" x=\"241.770418\" xlink:href=\"#m6678f4ae40\" y=\"161.346543\"/>\r\n     <use style=\"fill:#2ca02c;stroke:#000000;\" x=\"348.524006\" xlink:href=\"#m6678f4ae40\" y=\"132.943431\"/>\r\n     <use style=\"fill:#2ca02c;stroke:#000000;\" x=\"289.062414\" xlink:href=\"#m6678f4ae40\" y=\"157.507211\"/>\r\n     <use style=\"fill:#2ca02c;stroke:#000000;\" x=\"277.661502\" xlink:href=\"#m6678f4ae40\" y=\"139.754397\"/>\r\n     <use style=\"fill:#2ca02c;stroke:#000000;\" x=\"285.090663\" xlink:href=\"#m6678f4ae40\" y=\"214.756364\"/>\r\n     <use style=\"fill:#2ca02c;stroke:#000000;\" x=\"310.315146\" xlink:href=\"#m6678f4ae40\" y=\"146.755547\"/>\r\n     <use style=\"fill:#2ca02c;stroke:#000000;\" x=\"294.441898\" xlink:href=\"#m6678f4ae40\" y=\"138.440007\"/>\r\n     <use style=\"fill:#2ca02c;stroke:#000000;\" x=\"261.015315\" xlink:href=\"#m6678f4ae40\" y=\"183.99421\"/>\r\n     <use style=\"fill:#2ca02c;stroke:#000000;\" x=\"307.489875\" xlink:href=\"#m6678f4ae40\" y=\"139.309083\"/>\r\n     <use style=\"fill:#2ca02c;stroke:#000000;\" x=\"248.688338\" xlink:href=\"#m6678f4ae40\" y=\"119.769646\"/>\r\n     <use style=\"fill:#2ca02c;stroke:#000000;\" x=\"230.262109\" xlink:href=\"#m6678f4ae40\" y=\"163.890967\"/>\r\n     <use style=\"fill:#2ca02c;stroke:#000000;\" x=\"302.686611\" xlink:href=\"#m6678f4ae40\" y=\"151.804461\"/>\r\n     <use style=\"fill:#2ca02c;stroke:#000000;\" x=\"253.268131\" xlink:href=\"#m6678f4ae40\" y=\"154.888477\"/>\r\n     <use style=\"fill:#2ca02c;stroke:#000000;\" x=\"257.511242\" xlink:href=\"#m6678f4ae40\" y=\"143.134039\"/>\r\n     <use style=\"fill:#2ca02c;stroke:#000000;\" x=\"251.953394\" xlink:href=\"#m6678f4ae40\" y=\"162.475439\"/>\r\n     <use style=\"fill:#2ca02c;stroke:#000000;\" x=\"210.428267\" xlink:href=\"#m6678f4ae40\" y=\"149.576443\"/>\r\n     <use style=\"fill:#2ca02c;stroke:#000000;\" x=\"239.267169\" xlink:href=\"#m6678f4ae40\" y=\"138.729541\"/>\r\n     <use style=\"fill:#2ca02c;stroke:#000000;\" x=\"226.804348\" xlink:href=\"#m6678f4ae40\" y=\"164.589462\"/>\r\n     <use style=\"fill:#2ca02c;stroke:#000000;\" x=\"224.656012\" xlink:href=\"#m6678f4ae40\" y=\"144.060437\"/>\r\n     <use style=\"fill:#2ca02c;stroke:#000000;\" x=\"262.393507\" xlink:href=\"#m6678f4ae40\" y=\"151.587686\"/>\r\n     <use style=\"fill:#2ca02c;stroke:#000000;\" x=\"269.185194\" xlink:href=\"#m6678f4ae40\" y=\"168.334656\"/>\r\n     <use style=\"fill:#2ca02c;stroke:#000000;\" x=\"240.355057\" xlink:href=\"#m6678f4ae40\" y=\"187.731952\"/>\r\n     <use style=\"fill:#2ca02c;stroke:#000000;\" x=\"234.323948\" xlink:href=\"#m6678f4ae40\" y=\"164.88652\"/>\r\n     <use style=\"fill:#2ca02c;stroke:#000000;\" x=\"299.726422\" xlink:href=\"#m6678f4ae40\" y=\"168.060572\"/>\r\n     <use style=\"fill:#2ca02c;stroke:#000000;\" x=\"237.024716\" xlink:href=\"#m6678f4ae40\" y=\"152.583313\"/>\r\n     <use style=\"fill:#2ca02c;stroke:#000000;\" x=\"271.076901\" xlink:href=\"#m6678f4ae40\" y=\"179.44126\"/>\r\n     <use style=\"fill:#2ca02c;stroke:#000000;\" x=\"341.49333\" xlink:href=\"#m6678f4ae40\" y=\"124.314426\"/>\r\n     <use style=\"fill:#2ca02c;stroke:#000000;\" x=\"297.007618\" xlink:href=\"#m6678f4ae40\" y=\"135.606104\"/>\r\n     <use style=\"fill:#2ca02c;stroke:#000000;\" x=\"254.977056\" xlink:href=\"#m6678f4ae40\" y=\"144.574188\"/>\r\n     <use style=\"fill:#2ca02c;stroke:#000000;\" x=\"202.834614\" xlink:href=\"#m6678f4ae40\" y=\"121.481084\"/>\r\n     <use style=\"fill:#2ca02c;stroke:#000000;\" x=\"271.555079\" xlink:href=\"#m6678f4ae40\" y=\"169.975563\"/>\r\n     <use style=\"fill:#2ca02c;stroke:#000000;\" x=\"271.788649\" xlink:href=\"#m6678f4ae40\" y=\"145.386321\"/>\r\n     <use style=\"fill:#2ca02c;stroke:#000000;\" x=\"230.999053\" xlink:href=\"#m6678f4ae40\" y=\"147.853666\"/>\r\n     <use style=\"fill:#2ca02c;stroke:#000000;\" x=\"292.321997\" xlink:href=\"#m6678f4ae40\" y=\"188.992832\"/>\r\n     <use style=\"fill:#2ca02c;stroke:#000000;\" x=\"309.173843\" xlink:href=\"#m6678f4ae40\" y=\"129.969013\"/>\r\n     <use style=\"fill:#2ca02c;stroke:#000000;\" x=\"233.154574\" xlink:href=\"#m6678f4ae40\" y=\"135.147\"/>\r\n     <use style=\"fill:#2ca02c;stroke:#000000;\" x=\"285.960667\" xlink:href=\"#m6678f4ae40\" y=\"138.832691\"/>\r\n     <use style=\"fill:#2ca02c;stroke:#000000;\" x=\"334.865014\" xlink:href=\"#m6678f4ae40\" y=\"145.145496\"/>\r\n     <use style=\"fill:#2ca02c;stroke:#000000;\" x=\"320.11277\" xlink:href=\"#m6678f4ae40\" y=\"199.291935\"/>\r\n     <use style=\"fill:#2ca02c;stroke:#000000;\" x=\"235.647242\" xlink:href=\"#m6678f4ae40\" y=\"163.367908\"/>\r\n     <use style=\"fill:#2ca02c;stroke:#000000;\" x=\"221.724897\" xlink:href=\"#m6678f4ae40\" y=\"140.29699\"/>\r\n     <use style=\"fill:#2ca02c;stroke:#000000;\" x=\"246.647105\" xlink:href=\"#m6678f4ae40\" y=\"168.908491\"/>\r\n     <use style=\"fill:#2ca02c;stroke:#000000;\" x=\"235.368655\" xlink:href=\"#m6678f4ae40\" y=\"136.537262\"/>\r\n     <use style=\"fill:#2ca02c;stroke:#000000;\" x=\"308.352331\" xlink:href=\"#m6678f4ae40\" y=\"177.500811\"/>\r\n     <use style=\"fill:#2ca02c;stroke:#000000;\" x=\"301.432013\" xlink:href=\"#m6678f4ae40\" y=\"146.749481\"/>\r\n     <use style=\"fill:#2ca02c;stroke:#000000;\" x=\"249.134831\" xlink:href=\"#m6678f4ae40\" y=\"184.179373\"/>\r\n    </g>\r\n   </g>\r\n   <g id=\"PathCollection_8\">\r\n    <defs>\r\n     <path d=\"M 0 -7.071068 \r\nL -7.071068 7.071068 \r\nL 7.071068 7.071068 \r\nz\r\n\" id=\"mbe2b890aec\" style=\"stroke:#000000;stroke-opacity:0.9;\"/>\r\n    </defs>\r\n    <g clip-path=\"url(#p923704c748)\">\r\n     <use style=\"fill:#ffffff;fill-opacity:0.9;stroke:#000000;stroke-opacity:0.9;\" x=\"268.430986\" xlink:href=\"#mbe2b890aec\" y=\"156.131833\"/>\r\n    </g>\r\n   </g>\r\n   <g id=\"PathCollection_9\">\r\n    <defs>\r\n     <path d=\"M -0.858677 3.248002 \r\nL 3.021664 3.248002 \r\nL 3.021664 4.1833 \r\nL -2.195572 4.1833 \r\nL -2.195572 3.248002 \r\nQ -1.563233 2.592765 -0.471172 1.490136 \r\nQ 0.622651 0.385744 0.902712 0.065171 \r\nQ 1.436413 -0.533701 1.64778 -0.949389 \r\nQ 1.860908 -1.365077 1.860908 -1.766674 \r\nQ 1.860908 -2.421911 1.401185 -2.834076 \r\nQ 0.941463 -3.248002 0.20344 -3.248002 \r\nQ -0.319692 -3.248002 -0.900951 -3.066579 \r\nQ -1.480448 -2.885156 -2.140969 -2.515264 \r\nL -2.140969 -3.639031 \r\nQ -1.46988 -3.908523 -0.88686 -4.045912 \r\nQ -0.302078 -4.1833 0.182304 -4.1833 \r\nQ 1.459311 -4.1833 2.21847 -3.543916 \r\nQ 2.977629 -2.906293 2.977629 -1.838891 \r\nQ 2.977629 -1.33161 2.787399 -0.877172 \r\nQ 2.59893 -0.424495 2.096934 0.191991 \r\nQ 1.959546 0.352278 1.221524 1.11496 \r\nQ 0.485263 1.877641 -0.858677 3.248002 \r\nz\r\n\" id=\"mc0fc71654b\" style=\"stroke:#000000;\"/>\r\n    </defs>\r\n    <g clip-path=\"url(#p923704c748)\">\r\n     <use style=\"stroke:#000000;\" x=\"268.430986\" xlink:href=\"#mc0fc71654b\" y=\"156.131833\"/>\r\n    </g>\r\n   </g>\r\n   <g id=\"matplotlib.axis_1\">\r\n    <g id=\"xtick_1\">\r\n     <g id=\"line2d_1\">\r\n      <defs>\r\n       <path d=\"M 0 0 \r\nL 0 3.5 \r\n\" id=\"m48541a730c\" style=\"stroke:#000000;stroke-width:0.8;\"/>\r\n      </defs>\r\n      <g>\r\n       <use style=\"stroke:#000000;stroke-width:0.8;\" x=\"30.342634\" xlink:href=\"#m48541a730c\" y=\"224.64\"/>\r\n      </g>\r\n     </g>\r\n     <g id=\"text_1\">\r\n      <!-- −4 -->\r\n      <g transform=\"translate(22.97154 239.238437)scale(0.1 -0.1)\">\r\n       <defs>\r\n        <path d=\"M 678 2272 \r\nL 4684 2272 \r\nL 4684 1741 \r\nL 678 1741 \r\nL 678 2272 \r\nz\r\n\" id=\"DejaVuSans-2212\" transform=\"scale(0.015625)\"/>\r\n        <path d=\"M 2419 4116 \r\nL 825 1625 \r\nL 2419 1625 \r\nL 2419 4116 \r\nz\r\nM 2253 4666 \r\nL 3047 4666 \r\nL 3047 1625 \r\nL 3713 1625 \r\nL 3713 1100 \r\nL 3047 1100 \r\nL 3047 0 \r\nL 2419 0 \r\nL 2419 1100 \r\nL 313 1100 \r\nL 313 1709 \r\nL 2253 4666 \r\nz\r\n\" id=\"DejaVuSans-34\" transform=\"scale(0.015625)\"/>\r\n       </defs>\r\n       <use xlink:href=\"#DejaVuSans-2212\"/>\r\n       <use x=\"83.789062\" xlink:href=\"#DejaVuSans-34\"/>\r\n      </g>\r\n     </g>\r\n    </g>\r\n    <g id=\"xtick_2\">\r\n     <g id=\"line2d_2\">\r\n      <g>\r\n       <use style=\"stroke:#000000;stroke-width:0.8;\" x=\"70.306215\" xlink:href=\"#m48541a730c\" y=\"224.64\"/>\r\n      </g>\r\n     </g>\r\n     <g id=\"text_2\">\r\n      <!-- −3 -->\r\n      <g transform=\"translate(62.935121 239.238437)scale(0.1 -0.1)\">\r\n       <defs>\r\n        <path d=\"M 2597 2516 \r\nQ 3050 2419 3304 2112 \r\nQ 3559 1806 3559 1356 \r\nQ 3559 666 3084 287 \r\nQ 2609 -91 1734 -91 \r\nQ 1441 -91 1130 -33 \r\nQ 819 25 488 141 \r\nL 488 750 \r\nQ 750 597 1062 519 \r\nQ 1375 441 1716 441 \r\nQ 2309 441 2620 675 \r\nQ 2931 909 2931 1356 \r\nQ 2931 1769 2642 2001 \r\nQ 2353 2234 1838 2234 \r\nL 1294 2234 \r\nL 1294 2753 \r\nL 1863 2753 \r\nQ 2328 2753 2575 2939 \r\nQ 2822 3125 2822 3475 \r\nQ 2822 3834 2567 4026 \r\nQ 2313 4219 1838 4219 \r\nQ 1578 4219 1281 4162 \r\nQ 984 4106 628 3988 \r\nL 628 4550 \r\nQ 988 4650 1302 4700 \r\nQ 1616 4750 1894 4750 \r\nQ 2613 4750 3031 4423 \r\nQ 3450 4097 3450 3541 \r\nQ 3450 3153 3228 2886 \r\nQ 3006 2619 2597 2516 \r\nz\r\n\" id=\"DejaVuSans-33\" transform=\"scale(0.015625)\"/>\r\n       </defs>\r\n       <use xlink:href=\"#DejaVuSans-2212\"/>\r\n       <use x=\"83.789062\" xlink:href=\"#DejaVuSans-33\"/>\r\n      </g>\r\n     </g>\r\n    </g>\r\n    <g id=\"xtick_3\">\r\n     <g id=\"line2d_3\">\r\n      <g>\r\n       <use style=\"stroke:#000000;stroke-width:0.8;\" x=\"110.269795\" xlink:href=\"#m48541a730c\" y=\"224.64\"/>\r\n      </g>\r\n     </g>\r\n     <g id=\"text_3\">\r\n      <!-- −2 -->\r\n      <g transform=\"translate(102.898702 239.238437)scale(0.1 -0.1)\">\r\n       <defs>\r\n        <path d=\"M 1228 531 \r\nL 3431 531 \r\nL 3431 0 \r\nL 469 0 \r\nL 469 531 \r\nQ 828 903 1448 1529 \r\nQ 2069 2156 2228 2338 \r\nQ 2531 2678 2651 2914 \r\nQ 2772 3150 2772 3378 \r\nQ 2772 3750 2511 3984 \r\nQ 2250 4219 1831 4219 \r\nQ 1534 4219 1204 4116 \r\nQ 875 4013 500 3803 \r\nL 500 4441 \r\nQ 881 4594 1212 4672 \r\nQ 1544 4750 1819 4750 \r\nQ 2544 4750 2975 4387 \r\nQ 3406 4025 3406 3419 \r\nQ 3406 3131 3298 2873 \r\nQ 3191 2616 2906 2266 \r\nQ 2828 2175 2409 1742 \r\nQ 1991 1309 1228 531 \r\nz\r\n\" id=\"DejaVuSans-32\" transform=\"scale(0.015625)\"/>\r\n       </defs>\r\n       <use xlink:href=\"#DejaVuSans-2212\"/>\r\n       <use x=\"83.789062\" xlink:href=\"#DejaVuSans-32\"/>\r\n      </g>\r\n     </g>\r\n    </g>\r\n    <g id=\"xtick_4\">\r\n     <g id=\"line2d_4\">\r\n      <g>\r\n       <use style=\"stroke:#000000;stroke-width:0.8;\" x=\"150.233376\" xlink:href=\"#m48541a730c\" y=\"224.64\"/>\r\n      </g>\r\n     </g>\r\n     <g id=\"text_4\">\r\n      <!-- −1 -->\r\n      <g transform=\"translate(142.862282 239.238437)scale(0.1 -0.1)\">\r\n       <defs>\r\n        <path d=\"M 794 531 \r\nL 1825 531 \r\nL 1825 4091 \r\nL 703 3866 \r\nL 703 4441 \r\nL 1819 4666 \r\nL 2450 4666 \r\nL 2450 531 \r\nL 3481 531 \r\nL 3481 0 \r\nL 794 0 \r\nL 794 531 \r\nz\r\n\" id=\"DejaVuSans-31\" transform=\"scale(0.015625)\"/>\r\n       </defs>\r\n       <use xlink:href=\"#DejaVuSans-2212\"/>\r\n       <use x=\"83.789062\" xlink:href=\"#DejaVuSans-31\"/>\r\n      </g>\r\n     </g>\r\n    </g>\r\n    <g id=\"xtick_5\">\r\n     <g id=\"line2d_5\">\r\n      <g>\r\n       <use style=\"stroke:#000000;stroke-width:0.8;\" x=\"190.196957\" xlink:href=\"#m48541a730c\" y=\"224.64\"/>\r\n      </g>\r\n     </g>\r\n     <g id=\"text_5\">\r\n      <!-- 0 -->\r\n      <g transform=\"translate(187.015707 239.238437)scale(0.1 -0.1)\">\r\n       <defs>\r\n        <path d=\"M 2034 4250 \r\nQ 1547 4250 1301 3770 \r\nQ 1056 3291 1056 2328 \r\nQ 1056 1369 1301 889 \r\nQ 1547 409 2034 409 \r\nQ 2525 409 2770 889 \r\nQ 3016 1369 3016 2328 \r\nQ 3016 3291 2770 3770 \r\nQ 2525 4250 2034 4250 \r\nz\r\nM 2034 4750 \r\nQ 2819 4750 3233 4129 \r\nQ 3647 3509 3647 2328 \r\nQ 3647 1150 3233 529 \r\nQ 2819 -91 2034 -91 \r\nQ 1250 -91 836 529 \r\nQ 422 1150 422 2328 \r\nQ 422 3509 836 4129 \r\nQ 1250 4750 2034 4750 \r\nz\r\n\" id=\"DejaVuSans-30\" transform=\"scale(0.015625)\"/>\r\n       </defs>\r\n       <use xlink:href=\"#DejaVuSans-30\"/>\r\n      </g>\r\n     </g>\r\n    </g>\r\n    <g id=\"xtick_6\">\r\n     <g id=\"line2d_6\">\r\n      <g>\r\n       <use style=\"stroke:#000000;stroke-width:0.8;\" x=\"230.160538\" xlink:href=\"#m48541a730c\" y=\"224.64\"/>\r\n      </g>\r\n     </g>\r\n     <g id=\"text_6\">\r\n      <!-- 1 -->\r\n      <g transform=\"translate(226.979288 239.238437)scale(0.1 -0.1)\">\r\n       <use xlink:href=\"#DejaVuSans-31\"/>\r\n      </g>\r\n     </g>\r\n    </g>\r\n    <g id=\"xtick_7\">\r\n     <g id=\"line2d_7\">\r\n      <g>\r\n       <use style=\"stroke:#000000;stroke-width:0.8;\" x=\"270.124119\" xlink:href=\"#m48541a730c\" y=\"224.64\"/>\r\n      </g>\r\n     </g>\r\n     <g id=\"text_7\">\r\n      <!-- 2 -->\r\n      <g transform=\"translate(266.942869 239.238437)scale(0.1 -0.1)\">\r\n       <use xlink:href=\"#DejaVuSans-32\"/>\r\n      </g>\r\n     </g>\r\n    </g>\r\n    <g id=\"xtick_8\">\r\n     <g id=\"line2d_8\">\r\n      <g>\r\n       <use style=\"stroke:#000000;stroke-width:0.8;\" x=\"310.087699\" xlink:href=\"#m48541a730c\" y=\"224.64\"/>\r\n      </g>\r\n     </g>\r\n     <g id=\"text_8\">\r\n      <!-- 3 -->\r\n      <g transform=\"translate(306.906449 239.238437)scale(0.1 -0.1)\">\r\n       <use xlink:href=\"#DejaVuSans-33\"/>\r\n      </g>\r\n     </g>\r\n    </g>\r\n    <g id=\"xtick_9\">\r\n     <g id=\"line2d_9\">\r\n      <g>\r\n       <use style=\"stroke:#000000;stroke-width:0.8;\" x=\"350.05128\" xlink:href=\"#m48541a730c\" y=\"224.64\"/>\r\n      </g>\r\n     </g>\r\n     <g id=\"text_9\">\r\n      <!-- 4 -->\r\n      <g transform=\"translate(346.87003 239.238437)scale(0.1 -0.1)\">\r\n       <use xlink:href=\"#DejaVuSans-34\"/>\r\n      </g>\r\n     </g>\r\n    </g>\r\n   </g>\r\n   <g id=\"matplotlib.axis_2\">\r\n    <g id=\"ytick_1\">\r\n     <g id=\"line2d_10\">\r\n      <defs>\r\n       <path d=\"M 0 0 \r\nL -3.5 0 \r\n\" id=\"me32ab7418f\" style=\"stroke:#000000;stroke-width:0.8;\"/>\r\n      </defs>\r\n      <g>\r\n       <use style=\"stroke:#000000;stroke-width:0.8;\" x=\"28.942188\" xlink:href=\"#me32ab7418f\" y=\"205.94105\"/>\r\n      </g>\r\n     </g>\r\n     <g id=\"text_10\">\r\n      <!-- −1 -->\r\n      <g transform=\"translate(7.2 209.740269)scale(0.1 -0.1)\">\r\n       <use xlink:href=\"#DejaVuSans-2212\"/>\r\n       <use x=\"83.789062\" xlink:href=\"#DejaVuSans-31\"/>\r\n      </g>\r\n     </g>\r\n    </g>\r\n    <g id=\"ytick_2\">\r\n     <g id=\"line2d_11\">\r\n      <g>\r\n       <use style=\"stroke:#000000;stroke-width:0.8;\" x=\"28.942188\" xlink:href=\"#me32ab7418f\" y=\"178.428492\"/>\r\n      </g>\r\n     </g>\r\n     <g id=\"text_11\">\r\n      <!-- 0 -->\r\n      <g transform=\"translate(15.579688 182.227711)scale(0.1 -0.1)\">\r\n       <use xlink:href=\"#DejaVuSans-30\"/>\r\n      </g>\r\n     </g>\r\n    </g>\r\n    <g id=\"ytick_3\">\r\n     <g id=\"line2d_12\">\r\n      <g>\r\n       <use style=\"stroke:#000000;stroke-width:0.8;\" x=\"28.942188\" xlink:href=\"#me32ab7418f\" y=\"150.915934\"/>\r\n      </g>\r\n     </g>\r\n     <g id=\"text_12\">\r\n      <!-- 1 -->\r\n      <g transform=\"translate(15.579688 154.715153)scale(0.1 -0.1)\">\r\n       <use xlink:href=\"#DejaVuSans-31\"/>\r\n      </g>\r\n     </g>\r\n    </g>\r\n    <g id=\"ytick_4\">\r\n     <g id=\"line2d_13\">\r\n      <g>\r\n       <use style=\"stroke:#000000;stroke-width:0.8;\" x=\"28.942188\" xlink:href=\"#me32ab7418f\" y=\"123.403376\"/>\r\n      </g>\r\n     </g>\r\n     <g id=\"text_13\">\r\n      <!-- 2 -->\r\n      <g transform=\"translate(15.579688 127.202595)scale(0.1 -0.1)\">\r\n       <use xlink:href=\"#DejaVuSans-32\"/>\r\n      </g>\r\n     </g>\r\n    </g>\r\n    <g id=\"ytick_5\">\r\n     <g id=\"line2d_14\">\r\n      <g>\r\n       <use style=\"stroke:#000000;stroke-width:0.8;\" x=\"28.942188\" xlink:href=\"#me32ab7418f\" y=\"95.890818\"/>\r\n      </g>\r\n     </g>\r\n     <g id=\"text_14\">\r\n      <!-- 3 -->\r\n      <g transform=\"translate(15.579688 99.690037)scale(0.1 -0.1)\">\r\n       <use xlink:href=\"#DejaVuSans-33\"/>\r\n      </g>\r\n     </g>\r\n    </g>\r\n    <g id=\"ytick_6\">\r\n     <g id=\"line2d_15\">\r\n      <g>\r\n       <use style=\"stroke:#000000;stroke-width:0.8;\" x=\"28.942188\" xlink:href=\"#me32ab7418f\" y=\"68.37826\"/>\r\n      </g>\r\n     </g>\r\n     <g id=\"text_15\">\r\n      <!-- 4 -->\r\n      <g transform=\"translate(15.579688 72.177479)scale(0.1 -0.1)\">\r\n       <use xlink:href=\"#DejaVuSans-34\"/>\r\n      </g>\r\n     </g>\r\n    </g>\r\n    <g id=\"ytick_7\">\r\n     <g id=\"line2d_16\">\r\n      <g>\r\n       <use style=\"stroke:#000000;stroke-width:0.8;\" x=\"28.942188\" xlink:href=\"#me32ab7418f\" y=\"40.865702\"/>\r\n      </g>\r\n     </g>\r\n     <g id=\"text_16\">\r\n      <!-- 5 -->\r\n      <g transform=\"translate(15.579688 44.664921)scale(0.1 -0.1)\">\r\n       <defs>\r\n        <path d=\"M 691 4666 \r\nL 3169 4666 \r\nL 3169 4134 \r\nL 1269 4134 \r\nL 1269 2991 \r\nQ 1406 3038 1543 3061 \r\nQ 1681 3084 1819 3084 \r\nQ 2600 3084 3056 2656 \r\nQ 3513 2228 3513 1497 \r\nQ 3513 744 3044 326 \r\nQ 2575 -91 1722 -91 \r\nQ 1428 -91 1123 -41 \r\nQ 819 9 494 109 \r\nL 494 744 \r\nQ 775 591 1075 516 \r\nQ 1375 441 1709 441 \r\nQ 2250 441 2565 725 \r\nQ 2881 1009 2881 1497 \r\nQ 2881 1984 2565 2268 \r\nQ 2250 2553 1709 2553 \r\nQ 1456 2553 1204 2497 \r\nQ 953 2441 691 2322 \r\nL 691 4666 \r\nz\r\n\" id=\"DejaVuSans-35\" transform=\"scale(0.015625)\"/>\r\n       </defs>\r\n       <use xlink:href=\"#DejaVuSans-35\"/>\r\n      </g>\r\n     </g>\r\n    </g>\r\n    <g id=\"ytick_8\">\r\n     <g id=\"line2d_17\">\r\n      <g>\r\n       <use style=\"stroke:#000000;stroke-width:0.8;\" x=\"28.942188\" xlink:href=\"#me32ab7418f\" y=\"13.353144\"/>\r\n      </g>\r\n     </g>\r\n     <g id=\"text_17\">\r\n      <!-- 6 -->\r\n      <g transform=\"translate(15.579688 17.152363)scale(0.1 -0.1)\">\r\n       <defs>\r\n        <path d=\"M 2113 2584 \r\nQ 1688 2584 1439 2293 \r\nQ 1191 2003 1191 1497 \r\nQ 1191 994 1439 701 \r\nQ 1688 409 2113 409 \r\nQ 2538 409 2786 701 \r\nQ 3034 994 3034 1497 \r\nQ 3034 2003 2786 2293 \r\nQ 2538 2584 2113 2584 \r\nz\r\nM 3366 4563 \r\nL 3366 3988 \r\nQ 3128 4100 2886 4159 \r\nQ 2644 4219 2406 4219 \r\nQ 1781 4219 1451 3797 \r\nQ 1122 3375 1075 2522 \r\nQ 1259 2794 1537 2939 \r\nQ 1816 3084 2150 3084 \r\nQ 2853 3084 3261 2657 \r\nQ 3669 2231 3669 1497 \r\nQ 3669 778 3244 343 \r\nQ 2819 -91 2113 -91 \r\nQ 1303 -91 875 529 \r\nQ 447 1150 447 2328 \r\nQ 447 3434 972 4092 \r\nQ 1497 4750 2381 4750 \r\nQ 2619 4750 2861 4703 \r\nQ 3103 4656 3366 4563 \r\nz\r\n\" id=\"DejaVuSans-36\" transform=\"scale(0.015625)\"/>\r\n       </defs>\r\n       <use xlink:href=\"#DejaVuSans-36\"/>\r\n      </g>\r\n     </g>\r\n    </g>\r\n   </g>\r\n   <g id=\"patch_3\">\r\n    <path d=\"M 28.942188 224.64 \r\nL 28.942188 7.2 \r\n\" style=\"fill:none;stroke:#000000;stroke-linecap:square;stroke-linejoin:miter;stroke-width:0.8;\"/>\r\n   </g>\r\n   <g id=\"patch_4\">\r\n    <path d=\"M 363.742188 224.64 \r\nL 363.742188 7.2 \r\n\" style=\"fill:none;stroke:#000000;stroke-linecap:square;stroke-linejoin:miter;stroke-width:0.8;\"/>\r\n   </g>\r\n   <g id=\"patch_5\">\r\n    <path d=\"M 28.942188 224.64 \r\nL 363.742188 224.64 \r\n\" style=\"fill:none;stroke:#000000;stroke-linecap:square;stroke-linejoin:miter;stroke-width:0.8;\"/>\r\n   </g>\r\n   <g id=\"patch_6\">\r\n    <path d=\"M 28.942188 7.2 \r\nL 363.742188 7.2 \r\n\" style=\"fill:none;stroke:#000000;stroke-linecap:square;stroke-linejoin:miter;stroke-width:0.8;\"/>\r\n   </g>\r\n  </g>\r\n </g>\r\n <defs>\r\n  <clipPath id=\"p923704c748\">\r\n   <rect height=\"217.44\" width=\"334.8\" x=\"28.942188\" y=\"7.2\"/>\r\n  </clipPath>\r\n </defs>\r\n</svg>\r\n",
      "image/png": "[encoded data removed]"
     },
     "metadata": {
      "needs_background": "light"
     }
    }
   ],
   "source": [
    "# KMeans 객체를 이용하여 X 데이터를 K-Means 클러스터링 수행\n",
    "kmeans = KMeans(n_clusters=3, init='k-means++', max_iter=200, random_state=0)\n",
    "cluster_lables = kmeans.fit_predict(X)\n",
    "clusterDF['kmeans_label'] = cluster_lables\n",
    "\n",
    "# cluster_centers_ 는 개별 클러스터의 중심 위치 좌표 시각화를 위해 추출\n",
    "centers = kmeans.cluster_centers_\n",
    "unique_labels_ = np.unique(cluster_lables)\n",
    "markers=['o', 's', '^', 'P','D','H','x']\n",
    "\n",
    "# 군집된 label 유형별로 iteration 하면서 marker 별로 scatter plot 수행\n",
    "for label in unique_labels_:\n",
    "    label_cluster = clusterDF[clusterDF['kmeans_label']==label]\n",
    "    center_x_y = centers[label]\n",
    "    plt.scatter(x=label_cluster['ftr1'], y=label_cluster['ftr2'], edgecolor='k', \n",
    "                marker=markers[label] )\n",
    "\n",
    "    # 군집별 중심 위치 좌표 시각화\n",
    "    plt.scatter(x=center_x_y[0], y=center_x_y[1], s=200, color='white',\n",
    "                alpha=0.9, edgecolor='k', marker=markers[label])\n",
    "    plt.scatter(x=center_x_y[0], y=center_x_y[1], s=70, color='k', edgecolor='k', \n",
    "                marker='$%d$' % label)\n",
    "\n",
    "plt.show()"
   ]
  },
  {
   "cell_type": "code",
   "execution_count": 38,
   "metadata": {
    "collapsed": true
   },
   "outputs": [
    {
     "output_type": "execute_result",
     "data": {
      "text/plain": [
       "array([[ 0.990103  ,  4.44666506],\n",
       "       [-1.70636483,  2.92759224],\n",
       "       [ 1.95763312,  0.81041752]])"
      ]
     },
     "metadata": {},
     "execution_count": 38
    }
   ],
   "source": [
    "kmeans.cluster_centers_"
   ]
  },
  {
   "cell_type": "code",
   "execution_count": 39,
   "metadata": {
    "collapsed": true
   },
   "outputs": [
    {
     "output_type": "stream",
     "name": "stdout",
     "text": [
      "target  kmeans_label\n0       0               66\n        1                1\n1       2               67\n2       1               65\n        2                1\nName: kmeans_label, dtype: int64\n"
     ]
    }
   ],
   "source": [
    "print(clusterDF.groupby('target')['kmeans_label'].value_counts())"
   ]
  },
  {
   "cell_type": "code",
   "execution_count": null,
   "metadata": {
    "collapsed": true
   },
   "outputs": [],
   "source": []
  }
 ],
 "metadata": {
  "kernelspec": {
   "name": "python3",
   "display_name": "Python 3.9.4 64-bit"
  },
  "language_info": {
   "codemirror_mode": {
    "name": "ipython",
    "version": 3
   },
   "file_extension": ".py",
   "mimetype": "text/x-python",
   "name": "python",
   "nbconvert_exporter": "python",
   "pygments_lexer": "ipython3",
   "version": "3.9.4"
  },
  "interpreter": {
   "hash": "c720fc0998ffe4a7c01f1f6bb9cbd8d2a3616eb0017e5e6c93a1ebe752afe006"
  }
 },
 "nbformat": 4,
 "nbformat_minor": 2
}