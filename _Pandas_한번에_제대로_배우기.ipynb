{
  "nbformat": 4,
  "nbformat_minor": 0,
  "metadata": {
    "colab": {
      "name": "_Pandas 한번에 제대로 배우기.ipynb",
      "provenance": [],
      "collapsed_sections": [],
      "toc_visible": true,
      "include_colab_link": true
    },
    "kernelspec": {
      "name": "python3",
      "display_name": "Python 3"
    }
  },
  "cells": [
    {
      "cell_type": "markdown",
      "metadata": {
        "id": "view-in-github",
        "colab_type": "text"
      },
      "source": [
        "<a href=\"https://colab.research.google.com/github/silver-ye/base/blob/main/_Pandas_%ED%95%9C%EB%B2%88%EC%97%90_%EC%A0%9C%EB%8C%80%EB%A1%9C_%EB%B0%B0%EC%9A%B0%EA%B8%B0.ipynb\" target=\"_parent\"><img src=\"https://colab.research.google.com/assets/colab-badge.svg\" alt=\"Open In Colab\"/></a>"
      ]
    },
    {
      "cell_type": "markdown",
      "metadata": {
        "id": "l5jkTeeNjUae"
      },
      "source": [
        "# Pandas 한번에 제대로 배우기\n"
      ]
    },
    {
      "cell_type": "markdown",
      "metadata": {
        "id": "063zrZmgk8Gx"
      },
      "source": [
        "\n",
        "\n",
        "---\n",
        "\n"
      ]
    },
    {
      "cell_type": "markdown",
      "metadata": {
        "id": "fHQQec3w3Fky"
      },
      "source": [
        "- **출처**: Pandas 한번에 끝내기 - 데이터 과학의 핵심 패키지, 데이터 처리, 연산, 집계 (이수안컴퓨터연구소)\n",
        "url = https://www.youtube.com/watch?v=lG8pEwvYwCw\n"
      ]
    },
    {
      "cell_type": "markdown",
      "metadata": {
        "id": "KvlL5Lyvc16E"
      },
      "source": [
        "Pandas 특징\n",
        "- 부동 소수점이 아닌 데이터뿌난 아니라 부동 소숫점 데이터에서도 결측데이터를 쉽게 처리\n",
        "- 크기 변이성: DataFrame 및 고차원 객체에서 열을 삽입 및 삭제 가능\n",
        "- 자동 및 명시적 데이터 정렬: 객체를 라벨 집합에 명시적으로 정렬하거나, 사용자가 라벨을 무시하고 Series, DataFrame등의 계산에서 자동으로 데이터 조정 가능\n",
        "- 직관적인 데이터 세트 병합 및 피벗\n"
      ]
    },
    {
      "cell_type": "code",
      "metadata": {
        "id": "yse0ihPdjJbw",
        "colab": {
          "base_uri": "https://localhost:8080/"
        },
        "outputId": "fc8a818a-465c-4639-99b1-ce7a00f0ff1a"
      },
      "source": [
        "# pandas는 numpy를 기반으로 만들어짐\n",
        "import numpy as np\n",
        "import pandas as pd\n",
        "pd.__version__"
      ],
      "execution_count": null,
      "outputs": [
        {
          "output_type": "execute_result",
          "data": {
            "application/vnd.google.colaboratory.intrinsic+json": {
              "type": "string"
            },
            "text/plain": [
              "'1.1.5'"
            ]
          },
          "metadata": {
            "tags": []
          },
          "execution_count": 1
        }
      ]
    },
    {
      "cell_type": "markdown",
      "metadata": {
        "id": "CsH0REQfuLu2"
      },
      "source": [
        "## Pandas 객체\n"
      ]
    },
    {
      "cell_type": "markdown",
      "metadata": {
        "id": "J4u_-QUtwsKq"
      },
      "source": [
        "### Series 객체"
      ]
    },
    {
      "cell_type": "code",
      "metadata": {
        "id": "xb5Lsw3Qk_6Q",
        "colab": {
          "base_uri": "https://localhost:8080/"
        },
        "outputId": "462dbf33-33a4-4c49-c12d-865859d48b2f"
      },
      "source": [
        "s = pd.Series([0, 0.25, 0.5, 0.75, 1.0])\n",
        "s"
      ],
      "execution_count": null,
      "outputs": [
        {
          "output_type": "execute_result",
          "data": {
            "text/plain": [
              "0    0.00\n",
              "1    0.25\n",
              "2    0.50\n",
              "3    0.75\n",
              "4    1.00\n",
              "dtype: float64"
            ]
          },
          "metadata": {
            "tags": []
          },
          "execution_count": 5
        }
      ]
    },
    {
      "cell_type": "code",
      "metadata": {
        "id": "kU9VyUV6uiNx",
        "colab": {
          "base_uri": "https://localhost:8080/"
        },
        "outputId": "e8809836-88de-4e4a-9511-b79a4153969c"
      },
      "source": [
        "# value값만 보기\n",
        "s.values"
      ],
      "execution_count": null,
      "outputs": [
        {
          "output_type": "execute_result",
          "data": {
            "text/plain": [
              "array([0.  , 0.25, 0.5 , 0.75, 1.  ])"
            ]
          },
          "metadata": {
            "tags": []
          },
          "execution_count": 6
        }
      ]
    },
    {
      "cell_type": "code",
      "metadata": {
        "id": "4fRQDuG2une6",
        "colab": {
          "base_uri": "https://localhost:8080/"
        },
        "outputId": "abbcbdc7-aa3d-4fd7-c23d-69c0c2847e7a"
      },
      "source": [
        "# index값만 보기\n",
        "s.index"
      ],
      "execution_count": null,
      "outputs": [
        {
          "output_type": "execute_result",
          "data": {
            "text/plain": [
              "RangeIndex(start=0, stop=5, step=1)"
            ]
          },
          "metadata": {
            "tags": []
          },
          "execution_count": 7
        }
      ]
    },
    {
      "cell_type": "code",
      "metadata": {
        "id": "yZZ8khTnun6k",
        "colab": {
          "base_uri": "https://localhost:8080/"
        },
        "outputId": "17f9dbe8-4b33-42bc-a382-b667041e7d9a"
      },
      "source": [
        "# 개별 접근이 가능\n",
        "s[1]"
      ],
      "execution_count": null,
      "outputs": [
        {
          "output_type": "execute_result",
          "data": {
            "text/plain": [
              "0.25"
            ]
          },
          "metadata": {
            "tags": []
          },
          "execution_count": 8
        }
      ]
    },
    {
      "cell_type": "code",
      "metadata": {
        "id": "TYahWVDa5QHX",
        "colab": {
          "base_uri": "https://localhost:8080/"
        },
        "outputId": "408d087f-0d13-4b7c-dd10-ab146e5d2fee"
      },
      "source": [
        "# 슬라이싱도 가능\n",
        "s[1:4]"
      ],
      "execution_count": null,
      "outputs": [
        {
          "output_type": "execute_result",
          "data": {
            "text/plain": [
              "1    0.25\n",
              "2    0.50\n",
              "3    0.75\n",
              "dtype: float64"
            ]
          },
          "metadata": {
            "tags": []
          },
          "execution_count": 9
        }
      ]
    },
    {
      "cell_type": "code",
      "metadata": {
        "id": "YSLBo7xOuw4X",
        "colab": {
          "base_uri": "https://localhost:8080/"
        },
        "outputId": "9e1c4ec1-54f3-4738-f947-6ef8043935a7"
      },
      "source": [
        "# 인덱스를 지정해서 값을 주기가 가능하다.\n",
        "s = pd.Series([0, 0.25, 0.5, 0.75, 1.0], \n",
        "              index=['a', 'b', 'c', 'd', 'e'])\n",
        "s\n"
      ],
      "execution_count": null,
      "outputs": [
        {
          "output_type": "execute_result",
          "data": {
            "text/plain": [
              "a    0.00\n",
              "b    0.25\n",
              "c    0.50\n",
              "d    0.75\n",
              "e    1.00\n",
              "dtype: float64"
            ]
          },
          "metadata": {
            "tags": []
          },
          "execution_count": 11
        }
      ]
    },
    {
      "cell_type": "code",
      "metadata": {
        "id": "9cZUdDGdvKMs",
        "colab": {
          "base_uri": "https://localhost:8080/"
        },
        "outputId": "a04fff8b-2cff-400c-85a6-19750c12c2c9"
      },
      "source": [
        "s['c']"
      ],
      "execution_count": null,
      "outputs": [
        {
          "output_type": "execute_result",
          "data": {
            "text/plain": [
              "0.5"
            ]
          },
          "metadata": {
            "tags": []
          },
          "execution_count": 12
        }
      ]
    },
    {
      "cell_type": "code",
      "metadata": {
        "id": "YME6WAvUnvAE",
        "colab": {
          "base_uri": "https://localhost:8080/"
        },
        "outputId": "990b1037-b56f-4a95-9405-ae18d0db682a"
      },
      "source": [
        "s[['c', 'd', 'e']]"
      ],
      "execution_count": null,
      "outputs": [
        {
          "output_type": "execute_result",
          "data": {
            "text/plain": [
              "c    0.50\n",
              "d    0.75\n",
              "e    1.00\n",
              "dtype: float64"
            ]
          },
          "metadata": {
            "tags": []
          },
          "execution_count": 14
        }
      ]
    },
    {
      "cell_type": "code",
      "metadata": {
        "id": "ICRZfCe1o9SO",
        "colab": {
          "base_uri": "https://localhost:8080/"
        },
        "outputId": "684c5ed3-27b2-45fb-9d97-3bf2c8766237"
      },
      "source": [
        "# in도 사용 가능\n",
        "'b' in s"
      ],
      "execution_count": null,
      "outputs": [
        {
          "output_type": "execute_result",
          "data": {
            "text/plain": [
              "True"
            ]
          },
          "metadata": {
            "tags": []
          },
          "execution_count": 15
        }
      ]
    },
    {
      "cell_type": "code",
      "metadata": {
        "id": "fk7JuV4yvLUO",
        "colab": {
          "base_uri": "https://localhost:8080/"
        },
        "outputId": "7248f3c8-34ae-4253-d848-a3b86631c2b0"
      },
      "source": [
        "s = pd.Series([0, 0.25, 0.5, 0.75, 1.0],\n",
        "              index = [2, 4, 6, 8, 10])\n",
        "s"
      ],
      "execution_count": null,
      "outputs": [
        {
          "output_type": "execute_result",
          "data": {
            "text/plain": [
              "2     0.00\n",
              "4     0.25\n",
              "6     0.50\n",
              "8     0.75\n",
              "10    1.00\n",
              "dtype: float64"
            ]
          },
          "metadata": {
            "tags": []
          },
          "execution_count": 16
        }
      ]
    },
    {
      "cell_type": "code",
      "metadata": {
        "id": "z8X3HamnxweS",
        "colab": {
          "base_uri": "https://localhost:8080/"
        },
        "outputId": "dee5c000-42fd-4fca-a498-7d6de6c1aea5"
      },
      "source": [
        "s[4]"
      ],
      "execution_count": null,
      "outputs": [
        {
          "output_type": "execute_result",
          "data": {
            "text/plain": [
              "0.25"
            ]
          },
          "metadata": {
            "tags": []
          },
          "execution_count": 17
        }
      ]
    },
    {
      "cell_type": "code",
      "metadata": {
        "id": "BPIhn89Tn_wd",
        "colab": {
          "base_uri": "https://localhost:8080/"
        },
        "outputId": "7046ea12-44d7-4fcb-c2c2-93c2ef7e5cfc"
      },
      "source": [
        "s[2:]"
      ],
      "execution_count": null,
      "outputs": [
        {
          "output_type": "execute_result",
          "data": {
            "text/plain": [
              "6     0.50\n",
              "8     0.75\n",
              "10    1.00\n",
              "dtype: float64"
            ]
          },
          "metadata": {
            "tags": []
          },
          "execution_count": 18
        }
      ]
    },
    {
      "cell_type": "code",
      "metadata": {
        "id": "bJjXA4YLrRUK",
        "colab": {
          "base_uri": "https://localhost:8080/"
        },
        "outputId": "87044bfd-fb30-423f-c215-ea4d710e3fb0"
      },
      "source": [
        "# unique한 값만 출력하는데, 현재는 다 unique값이기에 전체가 출력됨\n",
        "s.unique()"
      ],
      "execution_count": null,
      "outputs": [
        {
          "output_type": "execute_result",
          "data": {
            "text/plain": [
              "array([0.  , 0.25, 0.5 , 0.75, 1.  ])"
            ]
          },
          "metadata": {
            "tags": []
          },
          "execution_count": 19
        }
      ]
    },
    {
      "cell_type": "code",
      "metadata": {
        "id": "e77ZJdhtrejE",
        "colab": {
          "base_uri": "https://localhost:8080/"
        },
        "outputId": "ff810cda-acac-4456-ca29-0f521e8d317f"
      },
      "source": [
        "# count를 사용하기\n",
        "# 현재는 다 값이 하나여서 1로 표시된다.\n",
        "s.value_counts()"
      ],
      "execution_count": null,
      "outputs": [
        {
          "output_type": "execute_result",
          "data": {
            "text/plain": [
              "1.00    1\n",
              "0.75    1\n",
              "0.50    1\n",
              "0.25    1\n",
              "0.00    1\n",
              "dtype: int64"
            ]
          },
          "metadata": {
            "tags": []
          },
          "execution_count": 20
        }
      ]
    },
    {
      "cell_type": "code",
      "metadata": {
        "id": "5M0yujydruQv",
        "colab": {
          "base_uri": "https://localhost:8080/"
        },
        "outputId": "2da1616e-9c6e-4b7f-a01c-e2e2df7dabe1"
      },
      "source": [
        "# 값이 어디에 들었는지 블리언 형태로 나타낸다.\n",
        "s.isin([0.25, 0.75])"
      ],
      "execution_count": null,
      "outputs": [
        {
          "output_type": "execute_result",
          "data": {
            "text/plain": [
              "2     False\n",
              "4      True\n",
              "6     False\n",
              "8      True\n",
              "10    False\n",
              "dtype: bool"
            ]
          },
          "metadata": {
            "tags": []
          },
          "execution_count": 21
        }
      ]
    },
    {
      "cell_type": "code",
      "metadata": {
        "id": "4Ys3lrybxyz4",
        "colab": {
          "base_uri": "https://localhost:8080/"
        },
        "outputId": "37d10daa-d0b2-455e-fa2e-fcd0015a8a0c"
      },
      "source": [
        "# tuple 값을 이용하기\n",
        "pop_tuple = {'서울특별시' : 9720846,\n",
        "          '부산광역시' : 3484423,\n",
        "          '인천광역시' : 2947217,\n",
        "          '대구광역시' : 2427954,\n",
        "          '대전광역시' : 1471040,\n",
        "          '광주광역시' : 145048}\n",
        "population = pd.Series(pop_tuple)\n",
        "population\n"
      ],
      "execution_count": null,
      "outputs": [
        {
          "output_type": "execute_result",
          "data": {
            "text/plain": [
              "서울특별시    9720846\n",
              "부산광역시    3484423\n",
              "인천광역시    2947217\n",
              "대구광역시    2427954\n",
              "대전광역시    1471040\n",
              "광주광역시     145048\n",
              "dtype: int64"
            ]
          },
          "metadata": {
            "tags": []
          },
          "execution_count": 23
        }
      ]
    },
    {
      "cell_type": "code",
      "metadata": {
        "id": "6colocsazpUm",
        "colab": {
          "base_uri": "https://localhost:8080/"
        },
        "outputId": "5fe4a174-c47d-48bf-9535-c27383babb00"
      },
      "source": [
        "population['서울특별시']"
      ],
      "execution_count": null,
      "outputs": [
        {
          "output_type": "execute_result",
          "data": {
            "text/plain": [
              "9720846"
            ]
          },
          "metadata": {
            "tags": []
          },
          "execution_count": 24
        }
      ]
    },
    {
      "cell_type": "code",
      "metadata": {
        "id": "3Vrk6g0bz2pP",
        "colab": {
          "base_uri": "https://localhost:8080/"
        },
        "outputId": "536986ab-b9e9-4a70-a145-c0264021ebbc"
      },
      "source": [
        "# 슬라이싱도 가능\n",
        "population['서울특별시':'인천광역시']"
      ],
      "execution_count": null,
      "outputs": [
        {
          "output_type": "execute_result",
          "data": {
            "text/plain": [
              "서울특별시    9720846\n",
              "부산광역시    3484423\n",
              "인천광역시    2947217\n",
              "dtype: int64"
            ]
          },
          "metadata": {
            "tags": []
          },
          "execution_count": 25
        }
      ]
    },
    {
      "cell_type": "markdown",
      "metadata": {
        "id": "2oGWT2Kd0JV0"
      },
      "source": [
        "### DataFrame 객체"
      ]
    },
    {
      "cell_type": "code",
      "metadata": {
        "id": "BWi3ow9C3N5c",
        "colab": {
          "base_uri": "https://localhost:8080/",
          "height": 111
        },
        "outputId": "e8ccc27b-d181-4b09-9514-35f8609f9a17"
      },
      "source": [
        "# Series는 하나의 단일한 형태의 객체를 가짐\n",
        "# DataFrame은 여러 컬럼이 들어간 2차원성 특징을 가짐\n",
        "# 알아서 비어있는 값을 인식하고 누락값을 NaN으로 표시한다.\n",
        "pd.DataFrame([{'A':2, 'B':4, 'D':5}, {'A':4, 'B':5, 'C':7}])"
      ],
      "execution_count": null,
      "outputs": [
        {
          "output_type": "execute_result",
          "data": {
            "text/html": [
              "<div>\n",
              "<style scoped>\n",
              "    .dataframe tbody tr th:only-of-type {\n",
              "        vertical-align: middle;\n",
              "    }\n",
              "\n",
              "    .dataframe tbody tr th {\n",
              "        vertical-align: top;\n",
              "    }\n",
              "\n",
              "    .dataframe thead th {\n",
              "        text-align: right;\n",
              "    }\n",
              "</style>\n",
              "<table border=\"1\" class=\"dataframe\">\n",
              "  <thead>\n",
              "    <tr style=\"text-align: right;\">\n",
              "      <th></th>\n",
              "      <th>A</th>\n",
              "      <th>B</th>\n",
              "      <th>D</th>\n",
              "      <th>C</th>\n",
              "    </tr>\n",
              "  </thead>\n",
              "  <tbody>\n",
              "    <tr>\n",
              "      <th>0</th>\n",
              "      <td>2</td>\n",
              "      <td>4</td>\n",
              "      <td>5.0</td>\n",
              "      <td>NaN</td>\n",
              "    </tr>\n",
              "    <tr>\n",
              "      <th>1</th>\n",
              "      <td>4</td>\n",
              "      <td>5</td>\n",
              "      <td>NaN</td>\n",
              "      <td>7.0</td>\n",
              "    </tr>\n",
              "  </tbody>\n",
              "</table>\n",
              "</div>"
            ],
            "text/plain": [
              "   A  B    D    C\n",
              "0  2  4  5.0  NaN\n",
              "1  4  5  NaN  7.0"
            ]
          },
          "metadata": {
            "tags": []
          },
          "execution_count": 27
        }
      ]
    },
    {
      "cell_type": "code",
      "metadata": {
        "id": "KSeay5dT35eH",
        "colab": {
          "base_uri": "https://localhost:8080/",
          "height": 204
        },
        "outputId": "ea64cf28-4c85-4a90-ffc3-f8ded39b0a9d"
      },
      "source": [
        "# 랜덤값을 가지는 데이터프레임 생성\n",
        "pd.DataFrame(np.random.rand(5, 5),\n",
        "             columns=['A', 'B', 'C', 'D', 'E'],\n",
        "             index=[1, 2, 3, 4, 5])"
      ],
      "execution_count": null,
      "outputs": [
        {
          "output_type": "execute_result",
          "data": {
            "text/html": [
              "<div>\n",
              "<style scoped>\n",
              "    .dataframe tbody tr th:only-of-type {\n",
              "        vertical-align: middle;\n",
              "    }\n",
              "\n",
              "    .dataframe tbody tr th {\n",
              "        vertical-align: top;\n",
              "    }\n",
              "\n",
              "    .dataframe thead th {\n",
              "        text-align: right;\n",
              "    }\n",
              "</style>\n",
              "<table border=\"1\" class=\"dataframe\">\n",
              "  <thead>\n",
              "    <tr style=\"text-align: right;\">\n",
              "      <th></th>\n",
              "      <th>A</th>\n",
              "      <th>B</th>\n",
              "      <th>C</th>\n",
              "      <th>D</th>\n",
              "      <th>E</th>\n",
              "    </tr>\n",
              "  </thead>\n",
              "  <tbody>\n",
              "    <tr>\n",
              "      <th>1</th>\n",
              "      <td>0.742631</td>\n",
              "      <td>0.962226</td>\n",
              "      <td>0.491794</td>\n",
              "      <td>0.814419</td>\n",
              "      <td>0.674566</td>\n",
              "    </tr>\n",
              "    <tr>\n",
              "      <th>2</th>\n",
              "      <td>0.796250</td>\n",
              "      <td>0.115837</td>\n",
              "      <td>0.369541</td>\n",
              "      <td>0.597121</td>\n",
              "      <td>0.468266</td>\n",
              "    </tr>\n",
              "    <tr>\n",
              "      <th>3</th>\n",
              "      <td>0.207319</td>\n",
              "      <td>0.770492</td>\n",
              "      <td>0.225574</td>\n",
              "      <td>0.508611</td>\n",
              "      <td>0.552883</td>\n",
              "    </tr>\n",
              "    <tr>\n",
              "      <th>4</th>\n",
              "      <td>0.009875</td>\n",
              "      <td>0.017057</td>\n",
              "      <td>0.107123</td>\n",
              "      <td>0.377630</td>\n",
              "      <td>0.983374</td>\n",
              "    </tr>\n",
              "    <tr>\n",
              "      <th>5</th>\n",
              "      <td>0.438938</td>\n",
              "      <td>0.316649</td>\n",
              "      <td>0.852272</td>\n",
              "      <td>0.800871</td>\n",
              "      <td>0.600810</td>\n",
              "    </tr>\n",
              "  </tbody>\n",
              "</table>\n",
              "</div>"
            ],
            "text/plain": [
              "          A         B         C         D         E\n",
              "1  0.742631  0.962226  0.491794  0.814419  0.674566\n",
              "2  0.796250  0.115837  0.369541  0.597121  0.468266\n",
              "3  0.207319  0.770492  0.225574  0.508611  0.552883\n",
              "4  0.009875  0.017057  0.107123  0.377630  0.983374\n",
              "5  0.438938  0.316649  0.852272  0.800871  0.600810"
            ]
          },
          "metadata": {
            "tags": []
          },
          "execution_count": 30
        }
      ]
    },
    {
      "cell_type": "code",
      "metadata": {
        "id": "LF5SPGK5z7PA",
        "colab": {
          "base_uri": "https://localhost:8080/"
        },
        "outputId": "59008214-a3c0-48a7-9eca-5e32da1dbc94"
      },
      "source": [
        "male_tuple = {'서울특별시' : 4732275,\n",
        "              '부산광역시' : 1668618,\n",
        "              '인천광역시' : 1476813,\n",
        "              '대구광역시' : 1198815,\n",
        "              '대전광역시' : 774441,\n",
        "              '광주광역시' : 720060}\n",
        "male = pd.Series(male_tuple)\n",
        "male"
      ],
      "execution_count": null,
      "outputs": [
        {
          "output_type": "execute_result",
          "data": {
            "text/plain": [
              "서울특별시    4732275\n",
              "부산광역시    1668618\n",
              "인천광역시    1476813\n",
              "대구광역시    1198815\n",
              "대전광역시     774441\n",
              "광주광역시     720060\n",
              "dtype: int64"
            ]
          },
          "metadata": {
            "tags": []
          },
          "execution_count": 31
        }
      ]
    },
    {
      "cell_type": "code",
      "metadata": {
        "id": "1XAK9yR91tyy",
        "colab": {
          "base_uri": "https://localhost:8080/"
        },
        "outputId": "833f5f05-ab7a-4efb-b788-4c563563f26b"
      },
      "source": [
        "female_tuple = {'서울특별시' : 4988571,\n",
        "              '부산광역시' : 1735885,\n",
        "              '인천광역시' : 1470404,\n",
        "              '대구광역시' : 1229139,\n",
        "              '대전광역시' : 736599,\n",
        "              '광주광역시' : 734988}\n",
        "female = pd.Series(female_tuple)\n",
        "female"
      ],
      "execution_count": null,
      "outputs": [
        {
          "output_type": "execute_result",
          "data": {
            "text/plain": [
              "서울특별시    4988571\n",
              "부산광역시    1735885\n",
              "인천광역시    1470404\n",
              "대구광역시    1229139\n",
              "대전광역시     736599\n",
              "광주광역시     734988\n",
              "dtype: int64"
            ]
          },
          "metadata": {
            "tags": []
          },
          "execution_count": 32
        }
      ]
    },
    {
      "cell_type": "code",
      "metadata": {
        "id": "gpOOL8zh2EI-",
        "colab": {
          "base_uri": "https://localhost:8080/",
          "height": 235
        },
        "outputId": "555b8fc0-c51a-4137-d1ad-c179d189aae9"
      },
      "source": [
        "# 결합을 통해서 한 컬럼이 하나의 시리즈를 구성\n",
        "korea_df = pd.DataFrame({'인구수': population,\n",
        "                         '남자인구수': male,\n",
        "                         '여자인구수': female})\n",
        "korea_df"
      ],
      "execution_count": null,
      "outputs": [
        {
          "output_type": "execute_result",
          "data": {
            "text/html": [
              "<div>\n",
              "<style scoped>\n",
              "    .dataframe tbody tr th:only-of-type {\n",
              "        vertical-align: middle;\n",
              "    }\n",
              "\n",
              "    .dataframe tbody tr th {\n",
              "        vertical-align: top;\n",
              "    }\n",
              "\n",
              "    .dataframe thead th {\n",
              "        text-align: right;\n",
              "    }\n",
              "</style>\n",
              "<table border=\"1\" class=\"dataframe\">\n",
              "  <thead>\n",
              "    <tr style=\"text-align: right;\">\n",
              "      <th></th>\n",
              "      <th>인구수</th>\n",
              "      <th>남자인구수</th>\n",
              "      <th>여자인구수</th>\n",
              "    </tr>\n",
              "  </thead>\n",
              "  <tbody>\n",
              "    <tr>\n",
              "      <th>서울특별시</th>\n",
              "      <td>9720846</td>\n",
              "      <td>4732275</td>\n",
              "      <td>4988571</td>\n",
              "    </tr>\n",
              "    <tr>\n",
              "      <th>부산광역시</th>\n",
              "      <td>3484423</td>\n",
              "      <td>1668618</td>\n",
              "      <td>1735885</td>\n",
              "    </tr>\n",
              "    <tr>\n",
              "      <th>인천광역시</th>\n",
              "      <td>2947217</td>\n",
              "      <td>1476813</td>\n",
              "      <td>1470404</td>\n",
              "    </tr>\n",
              "    <tr>\n",
              "      <th>대구광역시</th>\n",
              "      <td>2427954</td>\n",
              "      <td>1198815</td>\n",
              "      <td>1229139</td>\n",
              "    </tr>\n",
              "    <tr>\n",
              "      <th>대전광역시</th>\n",
              "      <td>1471040</td>\n",
              "      <td>774441</td>\n",
              "      <td>736599</td>\n",
              "    </tr>\n",
              "    <tr>\n",
              "      <th>광주광역시</th>\n",
              "      <td>145048</td>\n",
              "      <td>720060</td>\n",
              "      <td>734988</td>\n",
              "    </tr>\n",
              "  </tbody>\n",
              "</table>\n",
              "</div>"
            ],
            "text/plain": [
              "           인구수    남자인구수    여자인구수\n",
              "서울특별시  9720846  4732275  4988571\n",
              "부산광역시  3484423  1668618  1735885\n",
              "인천광역시  2947217  1476813  1470404\n",
              "대구광역시  2427954  1198815  1229139\n",
              "대전광역시  1471040   774441   736599\n",
              "광주광역시   145048   720060   734988"
            ]
          },
          "metadata": {
            "tags": []
          },
          "execution_count": 34
        }
      ]
    },
    {
      "cell_type": "code",
      "metadata": {
        "id": "9A0OSZFw2TJZ",
        "colab": {
          "base_uri": "https://localhost:8080/"
        },
        "outputId": "89c42e73-2c35-45c1-a1cd-089a5200dc7f"
      },
      "source": [
        "korea_df.index"
      ],
      "execution_count": null,
      "outputs": [
        {
          "output_type": "execute_result",
          "data": {
            "text/plain": [
              "Index(['서울특별시', '부산광역시', '인천광역시', '대구광역시', '대전광역시', '광주광역시'], dtype='object')"
            ]
          },
          "metadata": {
            "tags": []
          },
          "execution_count": 35
        }
      ]
    },
    {
      "cell_type": "code",
      "metadata": {
        "id": "qCRB-v6w2Xmt",
        "colab": {
          "base_uri": "https://localhost:8080/"
        },
        "outputId": "3dc1df89-8866-4862-cb63-bc7d466c02d0"
      },
      "source": [
        "korea_df.columns"
      ],
      "execution_count": null,
      "outputs": [
        {
          "output_type": "execute_result",
          "data": {
            "text/plain": [
              "Index(['인구수', '남자인구수', '여자인구수'], dtype='object')"
            ]
          },
          "metadata": {
            "tags": []
          },
          "execution_count": 36
        }
      ]
    },
    {
      "cell_type": "code",
      "metadata": {
        "id": "I86OnLLj2bSf",
        "colab": {
          "base_uri": "https://localhost:8080/"
        },
        "outputId": "29977383-a8ba-4c27-947f-b67a59e4e1e4"
      },
      "source": [
        "# 여자인구수만 보기\n",
        "korea_df['여자인구수']"
      ],
      "execution_count": null,
      "outputs": [
        {
          "output_type": "execute_result",
          "data": {
            "text/plain": [
              "서울특별시    4988571\n",
              "부산광역시    1735885\n",
              "인천광역시    1470404\n",
              "대구광역시    1229139\n",
              "대전광역시     736599\n",
              "광주광역시     734988\n",
              "Name: 여자인구수, dtype: int64"
            ]
          },
          "metadata": {
            "tags": []
          },
          "execution_count": 37
        }
      ]
    },
    {
      "cell_type": "code",
      "metadata": {
        "id": "I2Cx16L42gSj",
        "colab": {
          "base_uri": "https://localhost:8080/",
          "height": 142
        },
        "outputId": "cdfb98a1-b1aa-4ebd-b414-237877178556"
      },
      "source": [
        "# 서울특별시 ~ 인천광역시\n",
        "korea_df['서울특별시' : '인천광역시']"
      ],
      "execution_count": null,
      "outputs": [
        {
          "output_type": "execute_result",
          "data": {
            "text/html": [
              "<div>\n",
              "<style scoped>\n",
              "    .dataframe tbody tr th:only-of-type {\n",
              "        vertical-align: middle;\n",
              "    }\n",
              "\n",
              "    .dataframe tbody tr th {\n",
              "        vertical-align: top;\n",
              "    }\n",
              "\n",
              "    .dataframe thead th {\n",
              "        text-align: right;\n",
              "    }\n",
              "</style>\n",
              "<table border=\"1\" class=\"dataframe\">\n",
              "  <thead>\n",
              "    <tr style=\"text-align: right;\">\n",
              "      <th></th>\n",
              "      <th>인구수</th>\n",
              "      <th>남자인구수</th>\n",
              "      <th>여자인구수</th>\n",
              "    </tr>\n",
              "  </thead>\n",
              "  <tbody>\n",
              "    <tr>\n",
              "      <th>서울특별시</th>\n",
              "      <td>9720846</td>\n",
              "      <td>4732275</td>\n",
              "      <td>4988571</td>\n",
              "    </tr>\n",
              "    <tr>\n",
              "      <th>부산광역시</th>\n",
              "      <td>3484423</td>\n",
              "      <td>1668618</td>\n",
              "      <td>1735885</td>\n",
              "    </tr>\n",
              "    <tr>\n",
              "      <th>인천광역시</th>\n",
              "      <td>2947217</td>\n",
              "      <td>1476813</td>\n",
              "      <td>1470404</td>\n",
              "    </tr>\n",
              "  </tbody>\n",
              "</table>\n",
              "</div>"
            ],
            "text/plain": [
              "           인구수    남자인구수    여자인구수\n",
              "서울특별시  9720846  4732275  4988571\n",
              "부산광역시  3484423  1668618  1735885\n",
              "인천광역시  2947217  1476813  1470404"
            ]
          },
          "metadata": {
            "tags": []
          },
          "execution_count": 38
        }
      ]
    },
    {
      "cell_type": "markdown",
      "metadata": {
        "id": "YLyCNxg45qyN"
      },
      "source": [
        "### Index 객체\n"
      ]
    },
    {
      "cell_type": "markdown",
      "metadata": {
        "id": "QmneGCk6lEj1"
      },
      "source": [
        "![image.png](data:image/png;base64,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)"
      ]
    },
    {
      "cell_type": "code",
      "metadata": {
        "id": "sveOOZiM4dDu",
        "colab": {
          "base_uri": "https://localhost:8080/"
        },
        "outputId": "57fc8228-bfd1-4c2b-f9ec-e557ce198ca7"
      },
      "source": [
        "# 정수값들을 넣어서 int64index가 됨\n",
        "idx = pd.Index([2, 4, 6, 8, 10])\n",
        "idx"
      ],
      "execution_count": null,
      "outputs": [
        {
          "output_type": "execute_result",
          "data": {
            "text/plain": [
              "Int64Index([2, 4, 6, 8, 10], dtype='int64')"
            ]
          },
          "metadata": {
            "tags": []
          },
          "execution_count": 39
        }
      ]
    },
    {
      "cell_type": "code",
      "metadata": {
        "id": "wq3KUCST5yDP",
        "colab": {
          "base_uri": "https://localhost:8080/"
        },
        "outputId": "2564a0d1-a53a-4074-d05c-750c146c326d"
      },
      "source": [
        "idx[1]"
      ],
      "execution_count": null,
      "outputs": [
        {
          "output_type": "execute_result",
          "data": {
            "text/plain": [
              "4"
            ]
          },
          "metadata": {
            "tags": []
          },
          "execution_count": 40
        }
      ]
    },
    {
      "cell_type": "code",
      "metadata": {
        "id": "4MZR1LaP500X",
        "colab": {
          "base_uri": "https://localhost:8080/"
        },
        "outputId": "307d9ad0-b180-447e-9594-2403b7326cf0"
      },
      "source": [
        "idx[1:2:2]"
      ],
      "execution_count": null,
      "outputs": [
        {
          "output_type": "execute_result",
          "data": {
            "text/plain": [
              "Int64Index([4], dtype='int64')"
            ]
          },
          "metadata": {
            "tags": []
          },
          "execution_count": 41
        }
      ]
    },
    {
      "cell_type": "code",
      "metadata": {
        "id": "NcGmnV_H52uy",
        "colab": {
          "base_uri": "https://localhost:8080/"
        },
        "outputId": "09a1d117-673b-4ba7-980e-6db6243c891b"
      },
      "source": [
        "idx[-1::]"
      ],
      "execution_count": null,
      "outputs": [
        {
          "output_type": "execute_result",
          "data": {
            "text/plain": [
              "Int64Index([10], dtype='int64')"
            ]
          },
          "metadata": {
            "tags": []
          },
          "execution_count": 43
        }
      ]
    },
    {
      "cell_type": "code",
      "metadata": {
        "id": "0mtbfeYY54Jk",
        "colab": {
          "base_uri": "https://localhost:8080/"
        },
        "outputId": "83c196af-c2ad-452c-e09e-1ec7d7c72ea4"
      },
      "source": [
        "# step을 줘서 2씩 넘어가기\n",
        "idx[::2]"
      ],
      "execution_count": null,
      "outputs": [
        {
          "output_type": "execute_result",
          "data": {
            "text/plain": [
              "Int64Index([2, 6, 10], dtype='int64')"
            ]
          },
          "metadata": {
            "tags": []
          },
          "execution_count": 44
        }
      ]
    },
    {
      "cell_type": "code",
      "metadata": {
        "id": "CB_BwH3G57c9",
        "colab": {
          "base_uri": "https://localhost:8080/"
        },
        "outputId": "b5227cf8-34ea-4bc0-9cfd-f526b0b6b7db"
      },
      "source": [
        "print(idx)\n",
        "# 값을 나타냄\n",
        "print(idx.size)\n",
        "# 1차원의 구조인지 알 수 있음\n",
        "print(idx.shape)\n",
        "# 11차원이라서 1\n",
        "print(idx.ndim)\n",
        "# 정수가 들어가서 int64\n",
        "print(idx.dtype)"
      ],
      "execution_count": null,
      "outputs": [
        {
          "output_type": "stream",
          "text": [
            "Int64Index([2, 4, 6, 8, 10], dtype='int64')\n",
            "5\n",
            "(5,)\n",
            "1\n",
            "int64\n"
          ],
          "name": "stdout"
        }
      ]
    },
    {
      "cell_type": "markdown",
      "metadata": {
        "id": "M2xlGdrok22S"
      },
      "source": [
        "#### Index 연산"
      ]
    },
    {
      "cell_type": "markdown",
      "metadata": {
        "id": "3WNFkXDToJs1"
      },
      "source": [
        "![image.png](data:image/png;base64,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)"
      ]
    },
    {
      "cell_type": "code",
      "metadata": {
        "id": "e2yx1bpE6B3_",
        "colab": {
          "base_uri": "https://localhost:8080/"
        },
        "outputId": "2880941d-8520-4e44-b5dd-5711c03ad823"
      },
      "source": [
        "idx1 = pd.Index([1, 2, 4, 6, 8])\n",
        "idx2 = pd.Index([2, 4, 5, 6, 7])\n",
        "# 2개를 결합\n",
        "print(idx1.append(idx2))\n",
        "# 차집합\n",
        "print(idx1.difference(idx2))\n",
        "# 값이 마이너스\n",
        "print(idx1 - idx2)\n",
        "# 교집합\n",
        "print(idx1.intersection(idx2))\n",
        "print(idx1 & idx2)\n",
        "# 중복을 뺀 합집합\n",
        "print(idx1.union(idx2))\n",
        "print(idx1 | idx2)\n",
        "# 값을 빼기\n",
        "print(idx1.delete(0))\n",
        "print(idx1.drop(1))\n",
        "# 여집합\n",
        "print(idx1 ^ idx2)"
      ],
      "execution_count": null,
      "outputs": [
        {
          "output_type": "stream",
          "text": [
            "Int64Index([1, 2, 4, 6, 8, 2, 4, 5, 6, 7], dtype='int64')\n",
            "Int64Index([1, 8], dtype='int64')\n",
            "Int64Index([-1, -2, -1, 0, 1], dtype='int64')\n",
            "Int64Index([2, 4, 6], dtype='int64')\n",
            "Int64Index([2, 4, 6], dtype='int64')\n",
            "Int64Index([1, 2, 4, 5, 6, 7, 8], dtype='int64')\n",
            "Int64Index([1, 2, 4, 5, 6, 7, 8], dtype='int64')\n",
            "Int64Index([2, 4, 6, 8], dtype='int64')\n",
            "Int64Index([2, 4, 6, 8], dtype='int64')\n",
            "Int64Index([1, 5, 7, 8], dtype='int64')\n"
          ],
          "name": "stdout"
        }
      ]
    },
    {
      "cell_type": "markdown",
      "metadata": {
        "id": "kd8eQIoYHoaS"
      },
      "source": [
        "\n",
        "\n",
        "---\n",
        "\n"
      ]
    },
    {
      "cell_type": "markdown",
      "metadata": {
        "id": "KZLKu-HM6yEm"
      },
      "source": [
        "## 인덱싱(Indexing)"
      ]
    },
    {
      "cell_type": "code",
      "metadata": {
        "id": "2kLDyvXi60-A",
        "colab": {
          "base_uri": "https://localhost:8080/"
        },
        "outputId": "a57ef5d3-bf5f-4bb7-d055-78c50937fbbc"
      },
      "source": [
        "s = pd.Series([0, 0.25, 0.5, 0.75, 1.0],\n",
        "              index = ['a', 'b', 'c', 'd', 'e'])\n",
        "s"
      ],
      "execution_count": null,
      "outputs": [
        {
          "output_type": "execute_result",
          "data": {
            "text/plain": [
              "a    0.00\n",
              "b    0.25\n",
              "c    0.50\n",
              "d    0.75\n",
              "e    1.00\n",
              "dtype: float64"
            ]
          },
          "metadata": {
            "tags": []
          },
          "execution_count": 58
        }
      ]
    },
    {
      "cell_type": "code",
      "metadata": {
        "id": "5oXPBg2kHqMH",
        "colab": {
          "base_uri": "https://localhost:8080/"
        },
        "outputId": "688adcde-2a1d-4ea5-f235-661d5abf2416"
      },
      "source": [
        "s['b']"
      ],
      "execution_count": null,
      "outputs": [
        {
          "output_type": "execute_result",
          "data": {
            "text/plain": [
              "0.25"
            ]
          },
          "metadata": {
            "tags": []
          },
          "execution_count": 59
        }
      ]
    },
    {
      "cell_type": "code",
      "metadata": {
        "id": "msZ7pmajIgiR",
        "colab": {
          "base_uri": "https://localhost:8080/"
        },
        "outputId": "36ca02c7-f404-45a7-a2e5-19a833e3c3c2"
      },
      "source": [
        "'b' in s"
      ],
      "execution_count": null,
      "outputs": [
        {
          "output_type": "execute_result",
          "data": {
            "text/plain": [
              "True"
            ]
          },
          "metadata": {
            "tags": []
          },
          "execution_count": 60
        }
      ]
    },
    {
      "cell_type": "code",
      "metadata": {
        "id": "lyi7cVYbIjPF",
        "colab": {
          "base_uri": "https://localhost:8080/"
        },
        "outputId": "c2168327-cd54-47a2-c096-22f1bf2acdd0"
      },
      "source": [
        "# 해당하는 인덱스값을 알 수 있음\n",
        "s.keys()"
      ],
      "execution_count": null,
      "outputs": [
        {
          "output_type": "execute_result",
          "data": {
            "text/plain": [
              "Index(['a', 'b', 'c', 'd', 'e'], dtype='object')"
            ]
          },
          "metadata": {
            "tags": []
          },
          "execution_count": 61
        }
      ]
    },
    {
      "cell_type": "code",
      "metadata": {
        "id": "AQc6QXxBIj9m",
        "colab": {
          "base_uri": "https://localhost:8080/"
        },
        "outputId": "0b19de84-cdbf-4a63-ab07-d5b7451a6fac"
      },
      "source": [
        "# items는 zip으로 묶여서 오니 리스트로 물어줘야함\n",
        "s.items()\n",
        "list(s.items())"
      ],
      "execution_count": null,
      "outputs": [
        {
          "output_type": "execute_result",
          "data": {
            "text/plain": [
              "[('a', 0.0), ('b', 0.25), ('c', 0.5), ('d', 0.75), ('e', 1.0)]"
            ]
          },
          "metadata": {
            "tags": []
          },
          "execution_count": 63
        }
      ]
    },
    {
      "cell_type": "code",
      "metadata": {
        "id": "ZwWy7NqlImoZ",
        "colab": {
          "base_uri": "https://localhost:8080/"
        },
        "outputId": "cadd7cb0-d5b4-4082-f3b2-0fa3a7fc97ec"
      },
      "source": [
        "s['f'] = 1.25\n",
        "s"
      ],
      "execution_count": null,
      "outputs": [
        {
          "output_type": "execute_result",
          "data": {
            "text/plain": [
              "a    0.00\n",
              "b    0.25\n",
              "c    0.50\n",
              "d    0.75\n",
              "e    1.00\n",
              "f    1.25\n",
              "dtype: float64"
            ]
          },
          "metadata": {
            "tags": []
          },
          "execution_count": 64
        }
      ]
    },
    {
      "cell_type": "code",
      "metadata": {
        "id": "r_q7ScSMIu4C",
        "colab": {
          "base_uri": "https://localhost:8080/"
        },
        "outputId": "a5c9a268-c776-4071-8fd8-430cb0baafc8"
      },
      "source": [
        "# 슬라이싱 가능\n",
        "s['a' : 'd']"
      ],
      "execution_count": null,
      "outputs": [
        {
          "output_type": "execute_result",
          "data": {
            "text/plain": [
              "a    0.00\n",
              "b    0.25\n",
              "c    0.50\n",
              "d    0.75\n",
              "dtype: float64"
            ]
          },
          "metadata": {
            "tags": []
          },
          "execution_count": 65
        }
      ]
    },
    {
      "cell_type": "code",
      "metadata": {
        "id": "1EPBjuijIzhX",
        "colab": {
          "base_uri": "https://localhost:8080/"
        },
        "outputId": "d2defddc-6636-442f-8008-a746d9a63c69"
      },
      "source": [
        "# 숫자로도 슬라이싱 가능\n",
        "s[0:4]"
      ],
      "execution_count": null,
      "outputs": [
        {
          "output_type": "execute_result",
          "data": {
            "text/plain": [
              "a    0.00\n",
              "b    0.25\n",
              "c    0.50\n",
              "d    0.75\n",
              "dtype: float64"
            ]
          },
          "metadata": {
            "tags": []
          },
          "execution_count": 66
        }
      ]
    },
    {
      "cell_type": "code",
      "metadata": {
        "id": "3O4Cm0fXI1sZ",
        "colab": {
          "base_uri": "https://localhost:8080/"
        },
        "outputId": "19697405-08d8-4dd6-ba4b-741542ca4981"
      },
      "source": [
        "# 특정 조건을 주어서 해당하는 값만 뽑기\n",
        "s[(s > 0.4) & (s < 0.8)]"
      ],
      "execution_count": null,
      "outputs": [
        {
          "output_type": "execute_result",
          "data": {
            "text/plain": [
              "c    0.50\n",
              "d    0.75\n",
              "dtype: float64"
            ]
          },
          "metadata": {
            "tags": []
          },
          "execution_count": 68
        }
      ]
    },
    {
      "cell_type": "code",
      "metadata": {
        "id": "i9DDqXO0I9wo",
        "colab": {
          "base_uri": "https://localhost:8080/"
        },
        "outputId": "f850b55b-9583-40a6-e18a-94445767cd29"
      },
      "source": [
        "# 인덱스값으로만 부분 출력 가능\n",
        "s[['a', 'c', 'e']]"
      ],
      "execution_count": null,
      "outputs": [
        {
          "output_type": "execute_result",
          "data": {
            "text/plain": [
              "a    0.0\n",
              "c    0.5\n",
              "e    1.0\n",
              "dtype: float64"
            ]
          },
          "metadata": {
            "tags": []
          },
          "execution_count": 70
        }
      ]
    },
    {
      "cell_type": "markdown",
      "metadata": {
        "id": "NoRP6_bPrViW"
      },
      "source": [
        "### Series 인덱싱"
      ]
    },
    {
      "cell_type": "code",
      "metadata": {
        "id": "lf8mRyNeI_b_",
        "colab": {
          "base_uri": "https://localhost:8080/"
        },
        "outputId": "14a3fac8-6875-42f1-8422-f6b6557d09c6"
      },
      "source": [
        "s = pd.Series(['a', 'b', 'c', 'd', 'e'],\n",
        "              index = [1,3, 5, 7, 9])\n",
        "s"
      ],
      "execution_count": null,
      "outputs": [
        {
          "output_type": "execute_result",
          "data": {
            "text/plain": [
              "1    a\n",
              "3    b\n",
              "5    c\n",
              "7    d\n",
              "9    e\n",
              "dtype: object"
            ]
          },
          "metadata": {
            "tags": []
          },
          "execution_count": 71
        }
      ]
    },
    {
      "cell_type": "code",
      "metadata": {
        "id": "5H1JoKlKLjsw",
        "colab": {
          "base_uri": "https://localhost:8080/",
          "height": 35
        },
        "outputId": "ba9ebbc7-c17c-4331-aeba-8cef9ecb92d4"
      },
      "source": [
        "s[1]"
      ],
      "execution_count": null,
      "outputs": [
        {
          "output_type": "execute_result",
          "data": {
            "application/vnd.google.colaboratory.intrinsic+json": {
              "type": "string"
            },
            "text/plain": [
              "'a'"
            ]
          },
          "metadata": {
            "tags": []
          },
          "execution_count": 72
        }
      ]
    },
    {
      "cell_type": "code",
      "metadata": {
        "id": "hVSHrsMzLln2",
        "colab": {
          "base_uri": "https://localhost:8080/"
        },
        "outputId": "e3bdc299-48ee-485d-c3f9-f2b0edc5b933"
      },
      "source": [
        "s[2:4]"
      ],
      "execution_count": null,
      "outputs": [
        {
          "output_type": "execute_result",
          "data": {
            "text/plain": [
              "5    c\n",
              "7    d\n",
              "dtype: object"
            ]
          },
          "metadata": {
            "tags": []
          },
          "execution_count": 73
        }
      ]
    },
    {
      "cell_type": "code",
      "metadata": {
        "id": "qtpxKX78Lmlm",
        "colab": {
          "base_uri": "https://localhost:8080/",
          "height": 35
        },
        "outputId": "e468b98d-0461-4c2c-fba3-0eee997a208a"
      },
      "source": [
        "# iloc는 정수로 되서 지정해준 인덱스가 아닌 원래 인덱스값을 받아서 b가 나옴\n",
        "s.iloc[1]"
      ],
      "execution_count": null,
      "outputs": [
        {
          "output_type": "execute_result",
          "data": {
            "application/vnd.google.colaboratory.intrinsic+json": {
              "type": "string"
            },
            "text/plain": [
              "'b'"
            ]
          },
          "metadata": {
            "tags": []
          },
          "execution_count": 74
        }
      ]
    },
    {
      "cell_type": "code",
      "metadata": {
        "id": "gy5ShWM4LqMU",
        "colab": {
          "base_uri": "https://localhost:8080/"
        },
        "outputId": "fcd9bffd-5340-4a78-baa6-6f942709ea53"
      },
      "source": [
        "s.iloc[2:4]"
      ],
      "execution_count": null,
      "outputs": [
        {
          "output_type": "execute_result",
          "data": {
            "text/plain": [
              "5    c\n",
              "7    d\n",
              "dtype: object"
            ]
          },
          "metadata": {
            "tags": []
          },
          "execution_count": 75
        }
      ]
    },
    {
      "cell_type": "code",
      "metadata": {
        "id": "utldkXViqAfQ",
        "colab": {
          "base_uri": "https://localhost:8080/"
        },
        "outputId": "efc3a8da-eb30-4097-802f-eaa0b381bd47"
      },
      "source": [
        "# 인덱스를 재구성\n",
        "s.reindex(range(10))"
      ],
      "execution_count": null,
      "outputs": [
        {
          "output_type": "execute_result",
          "data": {
            "text/plain": [
              "0    NaN\n",
              "1      a\n",
              "2    NaN\n",
              "3      b\n",
              "4    NaN\n",
              "5      c\n",
              "6    NaN\n",
              "7      d\n",
              "8    NaN\n",
              "9      e\n",
              "dtype: object"
            ]
          },
          "metadata": {
            "tags": []
          },
          "execution_count": 76
        }
      ]
    },
    {
      "cell_type": "code",
      "metadata": {
        "id": "-4jACtEQqm2o",
        "colab": {
          "base_uri": "https://localhost:8080/"
        },
        "outputId": "8263ce8e-e5fa-4f55-9ec8-e4631d662598"
      },
      "source": [
        "# NaN값에 method = 'bfill'을 사용해서 그전에 값을 받음\n",
        "s.reindex(range(10), method = 'bfill')"
      ],
      "execution_count": null,
      "outputs": [
        {
          "output_type": "execute_result",
          "data": {
            "text/plain": [
              "0    a\n",
              "1    a\n",
              "2    b\n",
              "3    b\n",
              "4    c\n",
              "5    c\n",
              "6    d\n",
              "7    d\n",
              "8    e\n",
              "9    e\n",
              "dtype: object"
            ]
          },
          "metadata": {
            "tags": []
          },
          "execution_count": 78
        }
      ]
    },
    {
      "cell_type": "markdown",
      "metadata": {
        "id": "aOLEal9Hrli0"
      },
      "source": [
        "### DataFrame 인덱싱\n"
      ]
    },
    {
      "cell_type": "markdown",
      "metadata": {
        "id": "yxX8UHRVrG72"
      },
      "source": [
        "![image.png](data:image/png;base64,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)"
      ]
    },
    {
      "cell_type": "code",
      "metadata": {
        "id": "77aifW07LsTZ",
        "colab": {
          "base_uri": "https://localhost:8080/",
          "height": 235
        },
        "outputId": "49150540-332d-44f3-f425-74f025f3c2c4"
      },
      "source": [
        "korea_df"
      ],
      "execution_count": null,
      "outputs": [
        {
          "output_type": "execute_result",
          "data": {
            "text/html": [
              "<div>\n",
              "<style scoped>\n",
              "    .dataframe tbody tr th:only-of-type {\n",
              "        vertical-align: middle;\n",
              "    }\n",
              "\n",
              "    .dataframe tbody tr th {\n",
              "        vertical-align: top;\n",
              "    }\n",
              "\n",
              "    .dataframe thead th {\n",
              "        text-align: right;\n",
              "    }\n",
              "</style>\n",
              "<table border=\"1\" class=\"dataframe\">\n",
              "  <thead>\n",
              "    <tr style=\"text-align: right;\">\n",
              "      <th></th>\n",
              "      <th>인구수</th>\n",
              "      <th>남자인구수</th>\n",
              "      <th>여자인구수</th>\n",
              "    </tr>\n",
              "  </thead>\n",
              "  <tbody>\n",
              "    <tr>\n",
              "      <th>서울특별시</th>\n",
              "      <td>9720846</td>\n",
              "      <td>4732275</td>\n",
              "      <td>4988571</td>\n",
              "    </tr>\n",
              "    <tr>\n",
              "      <th>부산광역시</th>\n",
              "      <td>3484423</td>\n",
              "      <td>1668618</td>\n",
              "      <td>1735885</td>\n",
              "    </tr>\n",
              "    <tr>\n",
              "      <th>인천광역시</th>\n",
              "      <td>2947217</td>\n",
              "      <td>1476813</td>\n",
              "      <td>1470404</td>\n",
              "    </tr>\n",
              "    <tr>\n",
              "      <th>대구광역시</th>\n",
              "      <td>2427954</td>\n",
              "      <td>1198815</td>\n",
              "      <td>1229139</td>\n",
              "    </tr>\n",
              "    <tr>\n",
              "      <th>대전광역시</th>\n",
              "      <td>1471040</td>\n",
              "      <td>774441</td>\n",
              "      <td>736599</td>\n",
              "    </tr>\n",
              "    <tr>\n",
              "      <th>광주광역시</th>\n",
              "      <td>145048</td>\n",
              "      <td>720060</td>\n",
              "      <td>734988</td>\n",
              "    </tr>\n",
              "  </tbody>\n",
              "</table>\n",
              "</div>"
            ],
            "text/plain": [
              "           인구수    남자인구수    여자인구수\n",
              "서울특별시  9720846  4732275  4988571\n",
              "부산광역시  3484423  1668618  1735885\n",
              "인천광역시  2947217  1476813  1470404\n",
              "대구광역시  2427954  1198815  1229139\n",
              "대전광역시  1471040   774441   736599\n",
              "광주광역시   145048   720060   734988"
            ]
          },
          "metadata": {
            "tags": []
          },
          "execution_count": 79
        }
      ]
    },
    {
      "cell_type": "code",
      "metadata": {
        "id": "Gqv2LvUsL_hy",
        "colab": {
          "base_uri": "https://localhost:8080/"
        },
        "outputId": "a19bde1f-d102-4068-dffe-2b51d284d2b4"
      },
      "source": [
        "korea_df['남자인구수']"
      ],
      "execution_count": null,
      "outputs": [
        {
          "output_type": "execute_result",
          "data": {
            "text/plain": [
              "서울특별시    4732275\n",
              "부산광역시    1668618\n",
              "인천광역시    1476813\n",
              "대구광역시    1198815\n",
              "대전광역시     774441\n",
              "광주광역시     720060\n",
              "Name: 남자인구수, dtype: int64"
            ]
          },
          "metadata": {
            "tags": []
          },
          "execution_count": 80
        }
      ]
    },
    {
      "cell_type": "code",
      "metadata": {
        "id": "ASLLVKjxOCaq",
        "colab": {
          "base_uri": "https://localhost:8080/"
        },
        "outputId": "347e8937-10e3-4a58-cda4-6e467cac7dc2"
      },
      "source": [
        "# .을 통해서도 가져올 수 있음\n",
        "korea_df.남자인구수"
      ],
      "execution_count": null,
      "outputs": [
        {
          "output_type": "execute_result",
          "data": {
            "text/plain": [
              "서울특별시    4732275\n",
              "부산광역시    1668618\n",
              "인천광역시    1476813\n",
              "대구광역시    1198815\n",
              "대전광역시     774441\n",
              "광주광역시     720060\n",
              "Name: 남자인구수, dtype: int64"
            ]
          },
          "metadata": {
            "tags": []
          },
          "execution_count": 81
        }
      ]
    },
    {
      "cell_type": "code",
      "metadata": {
        "id": "HwAFfjLBOEp5",
        "colab": {
          "base_uri": "https://localhost:8080/"
        },
        "outputId": "526887d1-11a3-4f04-c69f-75c79837b591"
      },
      "source": [
        "korea_df.여자인구수"
      ],
      "execution_count": null,
      "outputs": [
        {
          "output_type": "execute_result",
          "data": {
            "text/plain": [
              "서울특별시    4988571\n",
              "부산광역시    1735885\n",
              "인천광역시    1470404\n",
              "대구광역시    1229139\n",
              "대전광역시     736599\n",
              "광주광역시     734988\n",
              "Name: 여자인구수, dtype: int64"
            ]
          },
          "metadata": {
            "tags": []
          },
          "execution_count": 82
        }
      ]
    },
    {
      "cell_type": "code",
      "metadata": {
        "id": "pECRBE1iOJqe"
      },
      "source": [
        "korea_df['남녀비율'] = (korea_df['남자인구수'] * 100 / korea_df['여자인구수'])"
      ],
      "execution_count": null,
      "outputs": []
    },
    {
      "cell_type": "code",
      "metadata": {
        "id": "MYpzQMFiOrGC",
        "colab": {
          "base_uri": "https://localhost:8080/"
        },
        "outputId": "728517fe-7559-4677-aeec-ccfb6fdbe935"
      },
      "source": [
        "korea_df.남녀비율"
      ],
      "execution_count": null,
      "outputs": [
        {
          "output_type": "execute_result",
          "data": {
            "text/plain": [
              "서울특별시     94.862336\n",
              "부산광역시     96.124916\n",
              "인천광역시    100.435867\n",
              "대구광역시     97.532907\n",
              "대전광역시    105.137395\n",
              "광주광역시     97.968946\n",
              "Name: 남녀비율, dtype: float64"
            ]
          },
          "metadata": {
            "tags": []
          },
          "execution_count": 84
        }
      ]
    },
    {
      "cell_type": "code",
      "metadata": {
        "id": "wVpY62uBOs9E",
        "colab": {
          "base_uri": "https://localhost:8080/"
        },
        "outputId": "aaba3a5d-9514-4810-fe7d-870342a0ddba"
      },
      "source": [
        "korea_df.values"
      ],
      "execution_count": null,
      "outputs": [
        {
          "output_type": "execute_result",
          "data": {
            "text/plain": [
              "array([[9.72084600e+06, 4.73227500e+06, 4.98857100e+06, 9.48623363e+01],\n",
              "       [3.48442300e+06, 1.66861800e+06, 1.73588500e+06, 9.61249161e+01],\n",
              "       [2.94721700e+06, 1.47681300e+06, 1.47040400e+06, 1.00435867e+02],\n",
              "       [2.42795400e+06, 1.19881500e+06, 1.22913900e+06, 9.75329072e+01],\n",
              "       [1.47104000e+06, 7.74441000e+05, 7.36599000e+05, 1.05137395e+02],\n",
              "       [1.45048000e+05, 7.20060000e+05, 7.34988000e+05, 9.79689464e+01]])"
            ]
          },
          "metadata": {
            "tags": []
          },
          "execution_count": 85
        }
      ]
    },
    {
      "cell_type": "code",
      "metadata": {
        "id": "RRce4iuBO30i",
        "colab": {
          "base_uri": "https://localhost:8080/",
          "height": 173
        },
        "outputId": "d1ebc964-e30c-450b-ee27-578208410586"
      },
      "source": [
        "korea_df.T"
      ],
      "execution_count": null,
      "outputs": [
        {
          "output_type": "execute_result",
          "data": {
            "text/html": [
              "<div>\n",
              "<style scoped>\n",
              "    .dataframe tbody tr th:only-of-type {\n",
              "        vertical-align: middle;\n",
              "    }\n",
              "\n",
              "    .dataframe tbody tr th {\n",
              "        vertical-align: top;\n",
              "    }\n",
              "\n",
              "    .dataframe thead th {\n",
              "        text-align: right;\n",
              "    }\n",
              "</style>\n",
              "<table border=\"1\" class=\"dataframe\">\n",
              "  <thead>\n",
              "    <tr style=\"text-align: right;\">\n",
              "      <th></th>\n",
              "      <th>서울특별시</th>\n",
              "      <th>부산광역시</th>\n",
              "      <th>인천광역시</th>\n",
              "      <th>대구광역시</th>\n",
              "      <th>대전광역시</th>\n",
              "      <th>광주광역시</th>\n",
              "    </tr>\n",
              "  </thead>\n",
              "  <tbody>\n",
              "    <tr>\n",
              "      <th>인구수</th>\n",
              "      <td>9.720846e+06</td>\n",
              "      <td>3.484423e+06</td>\n",
              "      <td>2.947217e+06</td>\n",
              "      <td>2.427954e+06</td>\n",
              "      <td>1.471040e+06</td>\n",
              "      <td>145048.000000</td>\n",
              "    </tr>\n",
              "    <tr>\n",
              "      <th>남자인구수</th>\n",
              "      <td>4.732275e+06</td>\n",
              "      <td>1.668618e+06</td>\n",
              "      <td>1.476813e+06</td>\n",
              "      <td>1.198815e+06</td>\n",
              "      <td>7.744410e+05</td>\n",
              "      <td>720060.000000</td>\n",
              "    </tr>\n",
              "    <tr>\n",
              "      <th>여자인구수</th>\n",
              "      <td>4.988571e+06</td>\n",
              "      <td>1.735885e+06</td>\n",
              "      <td>1.470404e+06</td>\n",
              "      <td>1.229139e+06</td>\n",
              "      <td>7.365990e+05</td>\n",
              "      <td>734988.000000</td>\n",
              "    </tr>\n",
              "    <tr>\n",
              "      <th>남녀비율</th>\n",
              "      <td>9.486234e+01</td>\n",
              "      <td>9.612492e+01</td>\n",
              "      <td>1.004359e+02</td>\n",
              "      <td>9.753291e+01</td>\n",
              "      <td>1.051374e+02</td>\n",
              "      <td>97.968946</td>\n",
              "    </tr>\n",
              "  </tbody>\n",
              "</table>\n",
              "</div>"
            ],
            "text/plain": [
              "              서울특별시         부산광역시  ...         대전광역시          광주광역시\n",
              "인구수    9.720846e+06  3.484423e+06  ...  1.471040e+06  145048.000000\n",
              "남자인구수  4.732275e+06  1.668618e+06  ...  7.744410e+05  720060.000000\n",
              "여자인구수  4.988571e+06  1.735885e+06  ...  7.365990e+05  734988.000000\n",
              "남녀비율   9.486234e+01  9.612492e+01  ...  1.051374e+02      97.968946\n",
              "\n",
              "[4 rows x 6 columns]"
            ]
          },
          "metadata": {
            "tags": []
          },
          "execution_count": 86
        }
      ]
    },
    {
      "cell_type": "code",
      "metadata": {
        "id": "4kgf30KQO_s3",
        "colab": {
          "base_uri": "https://localhost:8080/"
        },
        "outputId": "7c5f22c9-9d26-4727-f611-d5b02379822a"
      },
      "source": [
        "korea_df.values[0]"
      ],
      "execution_count": null,
      "outputs": [
        {
          "output_type": "execute_result",
          "data": {
            "text/plain": [
              "array([9.72084600e+06, 4.73227500e+06, 4.98857100e+06, 9.48623363e+01])"
            ]
          },
          "metadata": {
            "tags": []
          },
          "execution_count": 87
        }
      ]
    },
    {
      "cell_type": "code",
      "metadata": {
        "id": "QmM75FOUPBgH",
        "colab": {
          "base_uri": "https://localhost:8080/"
        },
        "outputId": "897f6252-55bb-4d69-939f-9aae7edcd2db"
      },
      "source": [
        "korea_df['인구수']"
      ],
      "execution_count": null,
      "outputs": [
        {
          "output_type": "execute_result",
          "data": {
            "text/plain": [
              "서울특별시    9720846\n",
              "부산광역시    3484423\n",
              "인천광역시    2947217\n",
              "대구광역시    2427954\n",
              "대전광역시    1471040\n",
              "광주광역시     145048\n",
              "Name: 인구수, dtype: int64"
            ]
          },
          "metadata": {
            "tags": []
          },
          "execution_count": 88
        }
      ]
    },
    {
      "cell_type": "code",
      "metadata": {
        "id": "TdhfKQSgPERt",
        "colab": {
          "base_uri": "https://localhost:8080/",
          "height": 142
        },
        "outputId": "5111fb63-3a8a-4631-abb3-13bd7d78e5f8"
      },
      "source": [
        "korea_df.loc[:'인천광역시', :'남자인구수']"
      ],
      "execution_count": null,
      "outputs": [
        {
          "output_type": "execute_result",
          "data": {
            "text/html": [
              "<div>\n",
              "<style scoped>\n",
              "    .dataframe tbody tr th:only-of-type {\n",
              "        vertical-align: middle;\n",
              "    }\n",
              "\n",
              "    .dataframe tbody tr th {\n",
              "        vertical-align: top;\n",
              "    }\n",
              "\n",
              "    .dataframe thead th {\n",
              "        text-align: right;\n",
              "    }\n",
              "</style>\n",
              "<table border=\"1\" class=\"dataframe\">\n",
              "  <thead>\n",
              "    <tr style=\"text-align: right;\">\n",
              "      <th></th>\n",
              "      <th>인구수</th>\n",
              "      <th>남자인구수</th>\n",
              "    </tr>\n",
              "  </thead>\n",
              "  <tbody>\n",
              "    <tr>\n",
              "      <th>서울특별시</th>\n",
              "      <td>9720846</td>\n",
              "      <td>4732275</td>\n",
              "    </tr>\n",
              "    <tr>\n",
              "      <th>부산광역시</th>\n",
              "      <td>3484423</td>\n",
              "      <td>1668618</td>\n",
              "    </tr>\n",
              "    <tr>\n",
              "      <th>인천광역시</th>\n",
              "      <td>2947217</td>\n",
              "      <td>1476813</td>\n",
              "    </tr>\n",
              "  </tbody>\n",
              "</table>\n",
              "</div>"
            ],
            "text/plain": [
              "           인구수    남자인구수\n",
              "서울특별시  9720846  4732275\n",
              "부산광역시  3484423  1668618\n",
              "인천광역시  2947217  1476813"
            ]
          },
          "metadata": {
            "tags": []
          },
          "execution_count": 90
        }
      ]
    },
    {
      "cell_type": "code",
      "metadata": {
        "id": "UKbn4mbdPGqb",
        "colab": {
          "base_uri": "https://localhost:8080/",
          "height": 173
        },
        "outputId": "18a7ee9b-3f1f-4001-ff8f-a34173890585"
      },
      "source": [
        "# 여자인구수가 1000000이상\n",
        "korea_df.loc[(korea_df.여자인구수 > 1000000)]"
      ],
      "execution_count": null,
      "outputs": [
        {
          "output_type": "execute_result",
          "data": {
            "text/html": [
              "<div>\n",
              "<style scoped>\n",
              "    .dataframe tbody tr th:only-of-type {\n",
              "        vertical-align: middle;\n",
              "    }\n",
              "\n",
              "    .dataframe tbody tr th {\n",
              "        vertical-align: top;\n",
              "    }\n",
              "\n",
              "    .dataframe thead th {\n",
              "        text-align: right;\n",
              "    }\n",
              "</style>\n",
              "<table border=\"1\" class=\"dataframe\">\n",
              "  <thead>\n",
              "    <tr style=\"text-align: right;\">\n",
              "      <th></th>\n",
              "      <th>인구수</th>\n",
              "      <th>남자인구수</th>\n",
              "      <th>여자인구수</th>\n",
              "      <th>남녀비율</th>\n",
              "    </tr>\n",
              "  </thead>\n",
              "  <tbody>\n",
              "    <tr>\n",
              "      <th>서울특별시</th>\n",
              "      <td>9720846</td>\n",
              "      <td>4732275</td>\n",
              "      <td>4988571</td>\n",
              "      <td>94.862336</td>\n",
              "    </tr>\n",
              "    <tr>\n",
              "      <th>부산광역시</th>\n",
              "      <td>3484423</td>\n",
              "      <td>1668618</td>\n",
              "      <td>1735885</td>\n",
              "      <td>96.124916</td>\n",
              "    </tr>\n",
              "    <tr>\n",
              "      <th>인천광역시</th>\n",
              "      <td>2947217</td>\n",
              "      <td>1476813</td>\n",
              "      <td>1470404</td>\n",
              "      <td>100.435867</td>\n",
              "    </tr>\n",
              "    <tr>\n",
              "      <th>대구광역시</th>\n",
              "      <td>2427954</td>\n",
              "      <td>1198815</td>\n",
              "      <td>1229139</td>\n",
              "      <td>97.532907</td>\n",
              "    </tr>\n",
              "  </tbody>\n",
              "</table>\n",
              "</div>"
            ],
            "text/plain": [
              "           인구수    남자인구수    여자인구수        남녀비율\n",
              "서울특별시  9720846  4732275  4988571   94.862336\n",
              "부산광역시  3484423  1668618  1735885   96.124916\n",
              "인천광역시  2947217  1476813  1470404  100.435867\n",
              "대구광역시  2427954  1198815  1229139   97.532907"
            ]
          },
          "metadata": {
            "tags": []
          },
          "execution_count": 92
        }
      ]
    },
    {
      "cell_type": "code",
      "metadata": {
        "id": "QMK8qC5YQRUc",
        "colab": {
          "base_uri": "https://localhost:8080/",
          "height": 111
        },
        "outputId": "6e1b3820-f908-42e7-956a-10a43f876ad3"
      },
      "source": [
        "# 인수수가 2000000 이하\n",
        "korea_df.loc[(korea_df.인구수 < 2000000)]"
      ],
      "execution_count": null,
      "outputs": [
        {
          "output_type": "execute_result",
          "data": {
            "text/html": [
              "<div>\n",
              "<style scoped>\n",
              "    .dataframe tbody tr th:only-of-type {\n",
              "        vertical-align: middle;\n",
              "    }\n",
              "\n",
              "    .dataframe tbody tr th {\n",
              "        vertical-align: top;\n",
              "    }\n",
              "\n",
              "    .dataframe thead th {\n",
              "        text-align: right;\n",
              "    }\n",
              "</style>\n",
              "<table border=\"1\" class=\"dataframe\">\n",
              "  <thead>\n",
              "    <tr style=\"text-align: right;\">\n",
              "      <th></th>\n",
              "      <th>인구수</th>\n",
              "      <th>남자인구수</th>\n",
              "      <th>여자인구수</th>\n",
              "      <th>남녀비율</th>\n",
              "    </tr>\n",
              "  </thead>\n",
              "  <tbody>\n",
              "    <tr>\n",
              "      <th>대전광역시</th>\n",
              "      <td>1471040</td>\n",
              "      <td>774441</td>\n",
              "      <td>736599</td>\n",
              "      <td>105.137395</td>\n",
              "    </tr>\n",
              "    <tr>\n",
              "      <th>광주광역시</th>\n",
              "      <td>145048</td>\n",
              "      <td>720060</td>\n",
              "      <td>734988</td>\n",
              "      <td>97.968946</td>\n",
              "    </tr>\n",
              "  </tbody>\n",
              "</table>\n",
              "</div>"
            ],
            "text/plain": [
              "           인구수   남자인구수   여자인구수        남녀비율\n",
              "대전광역시  1471040  774441  736599  105.137395\n",
              "광주광역시   145048  720060  734988   97.968946"
            ]
          },
          "metadata": {
            "tags": []
          },
          "execution_count": 93
        }
      ]
    },
    {
      "cell_type": "code",
      "metadata": {
        "id": "sKV0f9f5Yfxz",
        "colab": {
          "base_uri": "https://localhost:8080/",
          "height": 142
        },
        "outputId": "60c03603-bb7e-4f40-cd85-c591e3194eb5"
      },
      "source": [
        "# 인구수가 2500000 이상\n",
        "korea_df.loc[(korea_df.인구수 > 2500000)]"
      ],
      "execution_count": null,
      "outputs": [
        {
          "output_type": "execute_result",
          "data": {
            "text/html": [
              "<div>\n",
              "<style scoped>\n",
              "    .dataframe tbody tr th:only-of-type {\n",
              "        vertical-align: middle;\n",
              "    }\n",
              "\n",
              "    .dataframe tbody tr th {\n",
              "        vertical-align: top;\n",
              "    }\n",
              "\n",
              "    .dataframe thead th {\n",
              "        text-align: right;\n",
              "    }\n",
              "</style>\n",
              "<table border=\"1\" class=\"dataframe\">\n",
              "  <thead>\n",
              "    <tr style=\"text-align: right;\">\n",
              "      <th></th>\n",
              "      <th>인구수</th>\n",
              "      <th>남자인구수</th>\n",
              "      <th>여자인구수</th>\n",
              "      <th>남녀비율</th>\n",
              "    </tr>\n",
              "  </thead>\n",
              "  <tbody>\n",
              "    <tr>\n",
              "      <th>서울특별시</th>\n",
              "      <td>9720846</td>\n",
              "      <td>4732275</td>\n",
              "      <td>4988571</td>\n",
              "      <td>94.862336</td>\n",
              "    </tr>\n",
              "    <tr>\n",
              "      <th>부산광역시</th>\n",
              "      <td>3484423</td>\n",
              "      <td>1668618</td>\n",
              "      <td>1735885</td>\n",
              "      <td>96.124916</td>\n",
              "    </tr>\n",
              "    <tr>\n",
              "      <th>인천광역시</th>\n",
              "      <td>2947217</td>\n",
              "      <td>1476813</td>\n",
              "      <td>1470404</td>\n",
              "      <td>100.435867</td>\n",
              "    </tr>\n",
              "  </tbody>\n",
              "</table>\n",
              "</div>"
            ],
            "text/plain": [
              "           인구수    남자인구수    여자인구수        남녀비율\n",
              "서울특별시  9720846  4732275  4988571   94.862336\n",
              "부산광역시  3484423  1668618  1735885   96.124916\n",
              "인천광역시  2947217  1476813  1470404  100.435867"
            ]
          },
          "metadata": {
            "tags": []
          },
          "execution_count": 94
        }
      ]
    },
    {
      "cell_type": "code",
      "metadata": {
        "id": "XYAGQU5IP7Md",
        "colab": {
          "base_uri": "https://localhost:8080/",
          "height": 111
        },
        "outputId": "dcc95fa0-9e08-43dc-b98e-ee1c9a9cb4f6"
      },
      "source": [
        "korea_df.loc[korea_df.남녀비율 > 100]"
      ],
      "execution_count": null,
      "outputs": [
        {
          "output_type": "execute_result",
          "data": {
            "text/html": [
              "<div>\n",
              "<style scoped>\n",
              "    .dataframe tbody tr th:only-of-type {\n",
              "        vertical-align: middle;\n",
              "    }\n",
              "\n",
              "    .dataframe tbody tr th {\n",
              "        vertical-align: top;\n",
              "    }\n",
              "\n",
              "    .dataframe thead th {\n",
              "        text-align: right;\n",
              "    }\n",
              "</style>\n",
              "<table border=\"1\" class=\"dataframe\">\n",
              "  <thead>\n",
              "    <tr style=\"text-align: right;\">\n",
              "      <th></th>\n",
              "      <th>인구수</th>\n",
              "      <th>남자인구수</th>\n",
              "      <th>여자인구수</th>\n",
              "      <th>남녀비율</th>\n",
              "    </tr>\n",
              "  </thead>\n",
              "  <tbody>\n",
              "    <tr>\n",
              "      <th>인천광역시</th>\n",
              "      <td>2947217</td>\n",
              "      <td>1476813</td>\n",
              "      <td>1470404</td>\n",
              "      <td>100.435867</td>\n",
              "    </tr>\n",
              "    <tr>\n",
              "      <th>대전광역시</th>\n",
              "      <td>1471040</td>\n",
              "      <td>774441</td>\n",
              "      <td>736599</td>\n",
              "      <td>105.137395</td>\n",
              "    </tr>\n",
              "  </tbody>\n",
              "</table>\n",
              "</div>"
            ],
            "text/plain": [
              "           인구수    남자인구수    여자인구수        남녀비율\n",
              "인천광역시  2947217  1476813  1470404  100.435867\n",
              "대전광역시  1471040   774441   736599  105.137395"
            ]
          },
          "metadata": {
            "tags": []
          },
          "execution_count": 95
        }
      ]
    },
    {
      "cell_type": "code",
      "metadata": {
        "id": "s752djzTPNiY",
        "colab": {
          "base_uri": "https://localhost:8080/",
          "height": 111
        },
        "outputId": "d08575a8-647d-443b-fbcd-4f3ea95857fb"
      },
      "source": [
        "# 인구수가 250000 이상이고 남녀비율이 100이상\n",
        "korea_df.loc[(korea_df.인구수 > 250000) & (korea_df.남녀비율 > 100)]"
      ],
      "execution_count": null,
      "outputs": [
        {
          "output_type": "execute_result",
          "data": {
            "text/html": [
              "<div>\n",
              "<style scoped>\n",
              "    .dataframe tbody tr th:only-of-type {\n",
              "        vertical-align: middle;\n",
              "    }\n",
              "\n",
              "    .dataframe tbody tr th {\n",
              "        vertical-align: top;\n",
              "    }\n",
              "\n",
              "    .dataframe thead th {\n",
              "        text-align: right;\n",
              "    }\n",
              "</style>\n",
              "<table border=\"1\" class=\"dataframe\">\n",
              "  <thead>\n",
              "    <tr style=\"text-align: right;\">\n",
              "      <th></th>\n",
              "      <th>인구수</th>\n",
              "      <th>남자인구수</th>\n",
              "      <th>여자인구수</th>\n",
              "      <th>남녀비율</th>\n",
              "    </tr>\n",
              "  </thead>\n",
              "  <tbody>\n",
              "    <tr>\n",
              "      <th>인천광역시</th>\n",
              "      <td>2947217</td>\n",
              "      <td>1476813</td>\n",
              "      <td>1470404</td>\n",
              "      <td>100.435867</td>\n",
              "    </tr>\n",
              "    <tr>\n",
              "      <th>대전광역시</th>\n",
              "      <td>1471040</td>\n",
              "      <td>774441</td>\n",
              "      <td>736599</td>\n",
              "      <td>105.137395</td>\n",
              "    </tr>\n",
              "  </tbody>\n",
              "</table>\n",
              "</div>"
            ],
            "text/plain": [
              "           인구수    남자인구수    여자인구수        남녀비율\n",
              "인천광역시  2947217  1476813  1470404  100.435867\n",
              "대전광역시  1471040   774441   736599  105.137395"
            ]
          },
          "metadata": {
            "tags": []
          },
          "execution_count": 96
        }
      ]
    },
    {
      "cell_type": "code",
      "metadata": {
        "id": "NKk4cWARPQgE",
        "colab": {
          "base_uri": "https://localhost:8080/",
          "height": 142
        },
        "outputId": "ae3f62f3-2877-4f56-b63b-436df6c5131f"
      },
      "source": [
        "# 컬럼의 이름 혹은 인덱스로도 접근이 가능\n",
        "korea_df.iloc[:3, :2]"
      ],
      "execution_count": null,
      "outputs": [
        {
          "output_type": "execute_result",
          "data": {
            "text/html": [
              "<div>\n",
              "<style scoped>\n",
              "    .dataframe tbody tr th:only-of-type {\n",
              "        vertical-align: middle;\n",
              "    }\n",
              "\n",
              "    .dataframe tbody tr th {\n",
              "        vertical-align: top;\n",
              "    }\n",
              "\n",
              "    .dataframe thead th {\n",
              "        text-align: right;\n",
              "    }\n",
              "</style>\n",
              "<table border=\"1\" class=\"dataframe\">\n",
              "  <thead>\n",
              "    <tr style=\"text-align: right;\">\n",
              "      <th></th>\n",
              "      <th>인구수</th>\n",
              "      <th>남자인구수</th>\n",
              "    </tr>\n",
              "  </thead>\n",
              "  <tbody>\n",
              "    <tr>\n",
              "      <th>서울특별시</th>\n",
              "      <td>9720846</td>\n",
              "      <td>4732275</td>\n",
              "    </tr>\n",
              "    <tr>\n",
              "      <th>부산광역시</th>\n",
              "      <td>3484423</td>\n",
              "      <td>1668618</td>\n",
              "    </tr>\n",
              "    <tr>\n",
              "      <th>인천광역시</th>\n",
              "      <td>2947217</td>\n",
              "      <td>1476813</td>\n",
              "    </tr>\n",
              "  </tbody>\n",
              "</table>\n",
              "</div>"
            ],
            "text/plain": [
              "           인구수    남자인구수\n",
              "서울특별시  9720846  4732275\n",
              "부산광역시  3484423  1668618\n",
              "인천광역시  2947217  1476813"
            ]
          },
          "metadata": {
            "tags": []
          },
          "execution_count": 97
        }
      ]
    },
    {
      "cell_type": "markdown",
      "metadata": {
        "id": "KJfzYxtksAMb"
      },
      "source": [
        "### 다중 인덱싱(Multi Indexing)\n",
        "\n",
        "* 1차원의 Series와 2차원의 DataFrame 객체를 넘어 3차원, 4차원 이상의 고차원 데이터 처리\n",
        "* 단일 인덱스 내에 여러 인덱스를 포함하는 다중 인덱싱"
      ]
    },
    {
      "cell_type": "markdown",
      "metadata": {
        "id": "K2c8rSnJ0NZx"
      },
      "source": [
        "#### 다중 인덱스 Series"
      ]
    },
    {
      "cell_type": "code",
      "metadata": {
        "id": "kEA1qtgWtJcG",
        "colab": {
          "base_uri": "https://localhost:8080/",
          "height": 235
        },
        "outputId": "5a66dd12-e1d2-46c2-cd10-b45d5c95df3f"
      },
      "source": [
        "korea_df"
      ],
      "execution_count": null,
      "outputs": [
        {
          "output_type": "execute_result",
          "data": {
            "text/html": [
              "<div>\n",
              "<style scoped>\n",
              "    .dataframe tbody tr th:only-of-type {\n",
              "        vertical-align: middle;\n",
              "    }\n",
              "\n",
              "    .dataframe tbody tr th {\n",
              "        vertical-align: top;\n",
              "    }\n",
              "\n",
              "    .dataframe thead th {\n",
              "        text-align: right;\n",
              "    }\n",
              "</style>\n",
              "<table border=\"1\" class=\"dataframe\">\n",
              "  <thead>\n",
              "    <tr style=\"text-align: right;\">\n",
              "      <th></th>\n",
              "      <th>인구수</th>\n",
              "      <th>남자인구수</th>\n",
              "      <th>여자인구수</th>\n",
              "      <th>남녀비율</th>\n",
              "    </tr>\n",
              "  </thead>\n",
              "  <tbody>\n",
              "    <tr>\n",
              "      <th>서울특별시</th>\n",
              "      <td>9720846</td>\n",
              "      <td>4732275</td>\n",
              "      <td>4988571</td>\n",
              "      <td>94.862336</td>\n",
              "    </tr>\n",
              "    <tr>\n",
              "      <th>부산광역시</th>\n",
              "      <td>3484423</td>\n",
              "      <td>1668618</td>\n",
              "      <td>1735885</td>\n",
              "      <td>96.124916</td>\n",
              "    </tr>\n",
              "    <tr>\n",
              "      <th>인천광역시</th>\n",
              "      <td>2947217</td>\n",
              "      <td>1476813</td>\n",
              "      <td>1470404</td>\n",
              "      <td>100.435867</td>\n",
              "    </tr>\n",
              "    <tr>\n",
              "      <th>대구광역시</th>\n",
              "      <td>2427954</td>\n",
              "      <td>1198815</td>\n",
              "      <td>1229139</td>\n",
              "      <td>97.532907</td>\n",
              "    </tr>\n",
              "    <tr>\n",
              "      <th>대전광역시</th>\n",
              "      <td>1471040</td>\n",
              "      <td>774441</td>\n",
              "      <td>736599</td>\n",
              "      <td>105.137395</td>\n",
              "    </tr>\n",
              "    <tr>\n",
              "      <th>광주광역시</th>\n",
              "      <td>145048</td>\n",
              "      <td>720060</td>\n",
              "      <td>734988</td>\n",
              "      <td>97.968946</td>\n",
              "    </tr>\n",
              "  </tbody>\n",
              "</table>\n",
              "</div>"
            ],
            "text/plain": [
              "           인구수    남자인구수    여자인구수        남녀비율\n",
              "서울특별시  9720846  4732275  4988571   94.862336\n",
              "부산광역시  3484423  1668618  1735885   96.124916\n",
              "인천광역시  2947217  1476813  1470404  100.435867\n",
              "대구광역시  2427954  1198815  1229139   97.532907\n",
              "대전광역시  1471040   774441   736599  105.137395\n",
              "광주광역시   145048   720060   734988   97.968946"
            ]
          },
          "metadata": {
            "tags": []
          },
          "execution_count": 98
        }
      ]
    },
    {
      "cell_type": "code",
      "metadata": {
        "id": "3nO23L67vKpP",
        "colab": {
          "base_uri": "https://localhost:8080/"
        },
        "outputId": "7aa90687-e324-444e-a8ed-f122c2a573dd"
      },
      "source": [
        "# 2010년과 2020년이 다 들어가있음\n",
        "idx_tuples = [('서울특별시', 2010), ('서울특별시', 2020),\n",
        "              ('부산광역시', 2010), ('부산광역시', 2020),\n",
        "              ('인천광역시', 2010), ('인천광역시', 2020),\n",
        "              ('대구광역시', 2010), ('대구광역시', 2020),\n",
        "              ('대전광역시', 2010), ('대전광역시', 2020),\n",
        "              ('광주광역시', 2010), ('광주광역시', 2020)]\n",
        "idx_tuples"
      ],
      "execution_count": null,
      "outputs": [
        {
          "output_type": "execute_result",
          "data": {
            "text/plain": [
              "[('서울특별시', 2010),\n",
              " ('서울특별시', 2020),\n",
              " ('부산광역시', 2010),\n",
              " ('부산광역시', 2020),\n",
              " ('인천광역시', 2010),\n",
              " ('인천광역시', 2020),\n",
              " ('대구광역시', 2010),\n",
              " ('대구광역시', 2020),\n",
              " ('대전광역시', 2010),\n",
              " ('대전광역시', 2020),\n",
              " ('광주광역시', 2010),\n",
              " ('광주광역시', 2020)]"
            ]
          },
          "metadata": {
            "tags": []
          },
          "execution_count": 99
        }
      ]
    },
    {
      "cell_type": "code",
      "metadata": {
        "id": "FWw04oTC36Gy",
        "colab": {
          "base_uri": "https://localhost:8080/"
        },
        "outputId": "6b3e51c1-4326-4f75-cf6a-1b9455883b57"
      },
      "source": [
        "# 총 인구수를 넣음\n",
        "# 멀티인덱스가 아니라 중복된 형태의 값이 페어 형태\n",
        "pop_tuples = [10312545, 9720846,\n",
        "              2567910, 3404423,\n",
        "              2758296, 2947217, \n",
        "              2511676, 2427954,\n",
        "              1503664, 1471040,\n",
        "              1454636, 1455048]\n",
        "population = pd.Series(pop_tuples, idx_tuples)\n",
        "population"
      ],
      "execution_count": null,
      "outputs": [
        {
          "output_type": "execute_result",
          "data": {
            "text/plain": [
              "(서울특별시, 2010)    10312545\n",
              "(서울특별시, 2020)     9720846\n",
              "(부산광역시, 2010)     2567910\n",
              "(부산광역시, 2020)     3404423\n",
              "(인천광역시, 2010)     2758296\n",
              "(인천광역시, 2020)     2947217\n",
              "(대구광역시, 2010)     2511676\n",
              "(대구광역시, 2020)     2427954\n",
              "(대전광역시, 2010)     1503664\n",
              "(대전광역시, 2020)     1471040\n",
              "(광주광역시, 2010)     1454636\n",
              "(광주광역시, 2020)     1455048\n",
              "dtype: int64"
            ]
          },
          "metadata": {
            "tags": []
          },
          "execution_count": 101
        }
      ]
    },
    {
      "cell_type": "code",
      "metadata": {
        "id": "1cOc-3Da1kGZ",
        "colab": {
          "base_uri": "https://localhost:8080/"
        },
        "outputId": "039c5bae-d24a-492d-cbdc-d2ae1079cafe"
      },
      "source": [
        "# 다른 방법으로 넣기\n",
        "# 멀티인덱싱 사용하기\n",
        "midx = pd.MultiIndex.from_tuples(idx_tuples)\n",
        "midx"
      ],
      "execution_count": null,
      "outputs": [
        {
          "output_type": "execute_result",
          "data": {
            "text/plain": [
              "MultiIndex([('서울특별시', 2010),\n",
              "            ('서울특별시', 2020),\n",
              "            ('부산광역시', 2010),\n",
              "            ('부산광역시', 2020),\n",
              "            ('인천광역시', 2010),\n",
              "            ('인천광역시', 2020),\n",
              "            ('대구광역시', 2010),\n",
              "            ('대구광역시', 2020),\n",
              "            ('대전광역시', 2010),\n",
              "            ('대전광역시', 2020),\n",
              "            ('광주광역시', 2010),\n",
              "            ('광주광역시', 2020)],\n",
              "           )"
            ]
          },
          "metadata": {
            "tags": []
          },
          "execution_count": 102
        }
      ]
    },
    {
      "cell_type": "code",
      "metadata": {
        "id": "q_dEok8s5yLx",
        "colab": {
          "base_uri": "https://localhost:8080/"
        },
        "outputId": "c28de45e-063b-450b-a36b-95ea0f375ad6"
      },
      "source": [
        "# 멀티인덱싱으로 만들기\n",
        "population = population.reindex(midx)\n",
        "population"
      ],
      "execution_count": null,
      "outputs": [
        {
          "output_type": "execute_result",
          "data": {
            "text/plain": [
              "서울특별시  2010    10312545\n",
              "       2020     9720846\n",
              "부산광역시  2010     2567910\n",
              "       2020     3404423\n",
              "인천광역시  2010     2758296\n",
              "       2020     2947217\n",
              "대구광역시  2010     2511676\n",
              "       2020     2427954\n",
              "대전광역시  2010     1503664\n",
              "       2020     1471040\n",
              "광주광역시  2010     1454636\n",
              "       2020     1455048\n",
              "dtype: int64"
            ]
          },
          "metadata": {
            "tags": []
          },
          "execution_count": 104
        }
      ]
    },
    {
      "cell_type": "code",
      "metadata": {
        "id": "NmhgBRyI5-W0",
        "colab": {
          "base_uri": "https://localhost:8080/"
        },
        "outputId": "0b7e8173-eda7-46a8-a208-a81c803b0ede"
      },
      "source": [
        "# 2010 다 보기\n",
        "population[:, 2010]"
      ],
      "execution_count": null,
      "outputs": [
        {
          "output_type": "execute_result",
          "data": {
            "text/plain": [
              "서울특별시    10312545\n",
              "부산광역시     2567910\n",
              "인천광역시     2758296\n",
              "대구광역시     2511676\n",
              "대전광역시     1503664\n",
              "광주광역시     1454636\n",
              "dtype: int64"
            ]
          },
          "metadata": {
            "tags": []
          },
          "execution_count": 105
        }
      ]
    },
    {
      "cell_type": "code",
      "metadata": {
        "id": "-t0tJ1mh6hkn",
        "colab": {
          "base_uri": "https://localhost:8080/"
        },
        "outputId": "4aa237c2-969e-45bb-9c0c-5dd1c6aec397"
      },
      "source": [
        "# 대전광역시 2010, 2020년 다 보기\n",
        "population['대전광역시', :]"
      ],
      "execution_count": null,
      "outputs": [
        {
          "output_type": "execute_result",
          "data": {
            "text/plain": [
              "2010    1503664\n",
              "2020    1471040\n",
              "dtype: int64"
            ]
          },
          "metadata": {
            "tags": []
          },
          "execution_count": 106
        }
      ]
    },
    {
      "cell_type": "code",
      "metadata": {
        "id": "ppSy2UMT-LY-",
        "colab": {
          "base_uri": "https://localhost:8080/",
          "height": 235
        },
        "outputId": "bc2fc7d6-5928-4efa-dd70-05233f92c0b5"
      },
      "source": [
        "# unstack()\n",
        "# 다중인덱스로 만든 시리즈인 population을 DataFrame으로 출력\n",
        "korea_mdf = population.unstack()\n",
        "korea_mdf"
      ],
      "execution_count": null,
      "outputs": [
        {
          "output_type": "execute_result",
          "data": {
            "text/html": [
              "<div>\n",
              "<style scoped>\n",
              "    .dataframe tbody tr th:only-of-type {\n",
              "        vertical-align: middle;\n",
              "    }\n",
              "\n",
              "    .dataframe tbody tr th {\n",
              "        vertical-align: top;\n",
              "    }\n",
              "\n",
              "    .dataframe thead th {\n",
              "        text-align: right;\n",
              "    }\n",
              "</style>\n",
              "<table border=\"1\" class=\"dataframe\">\n",
              "  <thead>\n",
              "    <tr style=\"text-align: right;\">\n",
              "      <th></th>\n",
              "      <th>2010</th>\n",
              "      <th>2020</th>\n",
              "    </tr>\n",
              "  </thead>\n",
              "  <tbody>\n",
              "    <tr>\n",
              "      <th>광주광역시</th>\n",
              "      <td>1454636</td>\n",
              "      <td>1455048</td>\n",
              "    </tr>\n",
              "    <tr>\n",
              "      <th>대구광역시</th>\n",
              "      <td>2511676</td>\n",
              "      <td>2427954</td>\n",
              "    </tr>\n",
              "    <tr>\n",
              "      <th>대전광역시</th>\n",
              "      <td>1503664</td>\n",
              "      <td>1471040</td>\n",
              "    </tr>\n",
              "    <tr>\n",
              "      <th>부산광역시</th>\n",
              "      <td>2567910</td>\n",
              "      <td>3404423</td>\n",
              "    </tr>\n",
              "    <tr>\n",
              "      <th>서울특별시</th>\n",
              "      <td>10312545</td>\n",
              "      <td>9720846</td>\n",
              "    </tr>\n",
              "    <tr>\n",
              "      <th>인천광역시</th>\n",
              "      <td>2758296</td>\n",
              "      <td>2947217</td>\n",
              "    </tr>\n",
              "  </tbody>\n",
              "</table>\n",
              "</div>"
            ],
            "text/plain": [
              "           2010     2020\n",
              "광주광역시   1454636  1455048\n",
              "대구광역시   2511676  2427954\n",
              "대전광역시   1503664  1471040\n",
              "부산광역시   2567910  3404423\n",
              "서울특별시  10312545  9720846\n",
              "인천광역시   2758296  2947217"
            ]
          },
          "metadata": {
            "tags": []
          },
          "execution_count": 108
        }
      ]
    },
    {
      "cell_type": "code",
      "metadata": {
        "id": "SCDTvAeL-SDk",
        "colab": {
          "base_uri": "https://localhost:8080/"
        },
        "outputId": "a5497a4c-0118-47cd-dc98-f14aefd3c22a"
      },
      "source": [
        "# stack(): DataFrame을 다중인덱스로 변환\n",
        "korea_mdf.stack()"
      ],
      "execution_count": null,
      "outputs": [
        {
          "output_type": "execute_result",
          "data": {
            "text/plain": [
              "광주광역시  2010     1454636\n",
              "       2020     1455048\n",
              "대구광역시  2010     2511676\n",
              "       2020     2427954\n",
              "대전광역시  2010     1503664\n",
              "       2020     1471040\n",
              "부산광역시  2010     2567910\n",
              "       2020     3404423\n",
              "서울특별시  2010    10312545\n",
              "       2020     9720846\n",
              "인천광역시  2010     2758296\n",
              "       2020     2947217\n",
              "dtype: int64"
            ]
          },
          "metadata": {
            "tags": []
          },
          "execution_count": 109
        }
      ]
    },
    {
      "cell_type": "code",
      "metadata": {
        "id": "0MYobeuhBp92",
        "colab": {
          "base_uri": "https://localhost:8080/"
        },
        "outputId": "25de527a-b3b2-45c9-c124-d094d8090b90"
      },
      "source": [
        "# 남자인구 데이터 생성\n",
        "male_tuples = [5111259, 5732275, \n",
        "              1773170, 1668618,\n",
        "              1390356, 1476813,\n",
        "              1255245, 1198815,\n",
        "              753648, 734441, \n",
        "              721780, 720560]\n",
        "male_tuples"
      ],
      "execution_count": null,
      "outputs": [
        {
          "output_type": "execute_result",
          "data": {
            "text/plain": [
              "[5111259,\n",
              " 5732275,\n",
              " 1773170,\n",
              " 1668618,\n",
              " 1390356,\n",
              " 1476813,\n",
              " 1255245,\n",
              " 1198815,\n",
              " 753648,\n",
              " 734441,\n",
              " 721780,\n",
              " 720560]"
            ]
          },
          "metadata": {
            "tags": []
          },
          "execution_count": 113
        }
      ]
    },
    {
      "cell_type": "code",
      "metadata": {
        "id": "x8Y7Z77sF6Jf"
      },
      "source": [
        "koea_mdf = pd.DataFrame({'총 인구수': population,\n",
        "                        '남자총인구수' : male_tuples})"
      ],
      "execution_count": null,
      "outputs": []
    },
    {
      "cell_type": "code",
      "metadata": {
        "id": "mtXvWQcMGwCo"
      },
      "source": [
        "52:41"
      ],
      "execution_count": null,
      "outputs": []
    },
    {
      "cell_type": "code",
      "metadata": {
        "id": "iihD5i0hHZJl"
      },
      "source": [
        ""
      ],
      "execution_count": null,
      "outputs": []
    },
    {
      "cell_type": "code",
      "metadata": {
        "id": "tfEo_ilxI10d"
      },
      "source": [
        ""
      ],
      "execution_count": null,
      "outputs": []
    },
    {
      "cell_type": "code",
      "metadata": {
        "id": "SEZnxJ4gxR44"
      },
      "source": [
        ""
      ],
      "execution_count": null,
      "outputs": []
    },
    {
      "cell_type": "code",
      "metadata": {
        "id": "pjKTjkngxmdk"
      },
      "source": [
        ""
      ],
      "execution_count": null,
      "outputs": []
    },
    {
      "cell_type": "markdown",
      "metadata": {
        "id": "dwMPxdAYzN2-"
      },
      "source": [
        "#### 다중 인덱스 생성"
      ]
    },
    {
      "cell_type": "code",
      "metadata": {
        "id": "0AWJ--PgyQ9_"
      },
      "source": [
        ""
      ],
      "execution_count": null,
      "outputs": []
    },
    {
      "cell_type": "code",
      "metadata": {
        "id": "b9lRLS_l0tr8"
      },
      "source": [
        ""
      ],
      "execution_count": null,
      "outputs": []
    },
    {
      "cell_type": "code",
      "metadata": {
        "id": "IkjKulZW2Ocr"
      },
      "source": [
        ""
      ],
      "execution_count": null,
      "outputs": []
    },
    {
      "cell_type": "code",
      "metadata": {
        "id": "xfQ8edOF2eN_"
      },
      "source": [
        ""
      ],
      "execution_count": null,
      "outputs": []
    },
    {
      "cell_type": "code",
      "metadata": {
        "id": "bK3cXvJy3Bhg"
      },
      "source": [
        ""
      ],
      "execution_count": null,
      "outputs": []
    },
    {
      "cell_type": "code",
      "metadata": {
        "id": "hWJShVRj5RFP"
      },
      "source": [
        ""
      ],
      "execution_count": null,
      "outputs": []
    },
    {
      "cell_type": "code",
      "metadata": {
        "id": "KNos70_J5ZjD"
      },
      "source": [
        ""
      ],
      "execution_count": null,
      "outputs": []
    },
    {
      "cell_type": "code",
      "metadata": {
        "id": "Th-G-FAn6z-j"
      },
      "source": [
        ""
      ],
      "execution_count": null,
      "outputs": []
    },
    {
      "cell_type": "code",
      "metadata": {
        "id": "ooMpG3MG8nhc"
      },
      "source": [
        ""
      ],
      "execution_count": null,
      "outputs": []
    },
    {
      "cell_type": "markdown",
      "metadata": {
        "id": "d2jFmy1x837m"
      },
      "source": [
        "#### 인덱싱 및 슬라이싱"
      ]
    },
    {
      "cell_type": "code",
      "metadata": {
        "id": "5qDexsN98_3V"
      },
      "source": [
        ""
      ],
      "execution_count": null,
      "outputs": []
    },
    {
      "cell_type": "code",
      "metadata": {
        "id": "daJEr_c_9EGT"
      },
      "source": [
        ""
      ],
      "execution_count": null,
      "outputs": []
    },
    {
      "cell_type": "code",
      "metadata": {
        "id": "AqPBvowq9YY3"
      },
      "source": [
        ""
      ],
      "execution_count": null,
      "outputs": []
    },
    {
      "cell_type": "code",
      "metadata": {
        "id": "zkMhB7q1-DlM"
      },
      "source": [
        ""
      ],
      "execution_count": null,
      "outputs": []
    },
    {
      "cell_type": "code",
      "metadata": {
        "id": "tcQ-jXF--Q0m"
      },
      "source": [
        ""
      ],
      "execution_count": null,
      "outputs": []
    },
    {
      "cell_type": "code",
      "metadata": {
        "id": "88uFVbPP-Z4g"
      },
      "source": [
        ""
      ],
      "execution_count": null,
      "outputs": []
    },
    {
      "cell_type": "code",
      "metadata": {
        "id": "RwkBWRU_-fHW"
      },
      "source": [
        ""
      ],
      "execution_count": null,
      "outputs": []
    },
    {
      "cell_type": "code",
      "metadata": {
        "id": "GVqzxZcq-tiq"
      },
      "source": [
        ""
      ],
      "execution_count": null,
      "outputs": []
    },
    {
      "cell_type": "code",
      "metadata": {
        "id": "Ywhin1Dc--st"
      },
      "source": [
        ""
      ],
      "execution_count": null,
      "outputs": []
    },
    {
      "cell_type": "code",
      "metadata": {
        "id": "_Q9X9HWs_fMN"
      },
      "source": [
        ""
      ],
      "execution_count": null,
      "outputs": []
    },
    {
      "cell_type": "markdown",
      "metadata": {
        "id": "Nt4Rby0LA9M0"
      },
      "source": [
        "#### 다중 인덱스 재정렬"
      ]
    },
    {
      "cell_type": "code",
      "metadata": {
        "id": "NgpfPvpaBBHR"
      },
      "source": [
        ""
      ],
      "execution_count": null,
      "outputs": []
    },
    {
      "cell_type": "code",
      "metadata": {
        "id": "uniTQ5qIBMfP"
      },
      "source": [
        ""
      ],
      "execution_count": null,
      "outputs": []
    },
    {
      "cell_type": "code",
      "metadata": {
        "id": "zilkRp8RBm87"
      },
      "source": [
        ""
      ],
      "execution_count": null,
      "outputs": []
    },
    {
      "cell_type": "code",
      "metadata": {
        "id": "4928t860U-Ot"
      },
      "source": [
        ""
      ],
      "execution_count": null,
      "outputs": []
    },
    {
      "cell_type": "code",
      "metadata": {
        "id": "x0XfqiPwVaId"
      },
      "source": [
        ""
      ],
      "execution_count": null,
      "outputs": []
    },
    {
      "cell_type": "code",
      "metadata": {
        "id": "K-x8Kr_lVpUC"
      },
      "source": [
        ""
      ],
      "execution_count": null,
      "outputs": []
    },
    {
      "cell_type": "code",
      "metadata": {
        "id": "rWxg_YXIVw6x"
      },
      "source": [
        ""
      ],
      "execution_count": null,
      "outputs": []
    },
    {
      "cell_type": "code",
      "metadata": {
        "id": "tSCUmYovYiAA"
      },
      "source": [
        ""
      ],
      "execution_count": null,
      "outputs": []
    },
    {
      "cell_type": "code",
      "metadata": {
        "id": "wdWqvOFZWJPf"
      },
      "source": [
        ""
      ],
      "execution_count": null,
      "outputs": []
    },
    {
      "cell_type": "code",
      "metadata": {
        "id": "6LozVYW-W_Rx"
      },
      "source": [
        ""
      ],
      "execution_count": null,
      "outputs": []
    },
    {
      "cell_type": "code",
      "metadata": {
        "id": "185tiItmY5wI"
      },
      "source": [
        ""
      ],
      "execution_count": null,
      "outputs": []
    },
    {
      "cell_type": "markdown",
      "metadata": {
        "id": "iTw6ejGdZuiw"
      },
      "source": [
        "## 데이터 연산"
      ]
    },
    {
      "cell_type": "code",
      "metadata": {
        "id": "s89AjfxyYp2u"
      },
      "source": [
        ""
      ],
      "execution_count": null,
      "outputs": []
    },
    {
      "cell_type": "code",
      "metadata": {
        "id": "EGXDMOzgZ8EW"
      },
      "source": [
        ""
      ],
      "execution_count": null,
      "outputs": []
    },
    {
      "cell_type": "code",
      "metadata": {
        "id": "iBbFzDqFabQv"
      },
      "source": [
        ""
      ],
      "execution_count": null,
      "outputs": []
    },
    {
      "cell_type": "code",
      "metadata": {
        "id": "LGsnlcjfagUv"
      },
      "source": [
        ""
      ],
      "execution_count": null,
      "outputs": []
    },
    {
      "cell_type": "code",
      "metadata": {
        "id": "lUpXJh0uajOg"
      },
      "source": [
        ""
      ],
      "execution_count": null,
      "outputs": []
    },
    {
      "cell_type": "code",
      "metadata": {
        "id": "UMNfm7S7caJd"
      },
      "source": [
        ""
      ],
      "execution_count": null,
      "outputs": []
    },
    {
      "cell_type": "code",
      "metadata": {
        "id": "7gQjdKNYdHl4"
      },
      "source": [
        ""
      ],
      "execution_count": null,
      "outputs": []
    },
    {
      "cell_type": "code",
      "metadata": {
        "id": "RFDnK7BHdUGM"
      },
      "source": [
        ""
      ],
      "execution_count": null,
      "outputs": []
    },
    {
      "cell_type": "code",
      "metadata": {
        "id": "2ZtF9SKVdeuy"
      },
      "source": [
        ""
      ],
      "execution_count": null,
      "outputs": []
    },
    {
      "cell_type": "code",
      "metadata": {
        "id": "jHQflTypdq7U"
      },
      "source": [
        ""
      ],
      "execution_count": null,
      "outputs": []
    },
    {
      "cell_type": "markdown",
      "metadata": {
        "id": "zAl0KQLGfOGu"
      },
      "source": [
        "### 연산자 범용 함수\n"
      ]
    },
    {
      "cell_type": "markdown",
      "metadata": {
        "id": "rtf6di7UxZm-"
      },
      "source": [
        "#### add()"
      ]
    },
    {
      "cell_type": "code",
      "metadata": {
        "id": "S0ZrcMDNevbl"
      },
      "source": [
        ""
      ],
      "execution_count": null,
      "outputs": []
    },
    {
      "cell_type": "code",
      "metadata": {
        "id": "XwyOkCCRiJUJ"
      },
      "source": [
        ""
      ],
      "execution_count": null,
      "outputs": []
    },
    {
      "cell_type": "code",
      "metadata": {
        "id": "qIZRHvYqhnb4"
      },
      "source": [
        ""
      ],
      "execution_count": null,
      "outputs": []
    },
    {
      "cell_type": "code",
      "metadata": {
        "id": "wJVgHWuVxpMJ"
      },
      "source": [
        ""
      ],
      "execution_count": null,
      "outputs": []
    },
    {
      "cell_type": "code",
      "metadata": {
        "id": "O_OF4OrGq5Cl"
      },
      "source": [
        ""
      ],
      "execution_count": null,
      "outputs": []
    },
    {
      "cell_type": "markdown",
      "metadata": {
        "id": "b32g_aLTxriU"
      },
      "source": [
        "#### sub() / subtract()"
      ]
    },
    {
      "cell_type": "code",
      "metadata": {
        "id": "_eJ9wpPKM8Ue"
      },
      "source": [
        ""
      ],
      "execution_count": null,
      "outputs": []
    },
    {
      "cell_type": "code",
      "metadata": {
        "id": "d2kvlPJRhj05"
      },
      "source": [
        ""
      ],
      "execution_count": null,
      "outputs": []
    },
    {
      "cell_type": "code",
      "metadata": {
        "id": "4_BYRrbnxzxV"
      },
      "source": [
        ""
      ],
      "execution_count": null,
      "outputs": []
    },
    {
      "cell_type": "code",
      "metadata": {
        "id": "u2AUSDI8q9z3"
      },
      "source": [
        ""
      ],
      "execution_count": null,
      "outputs": []
    },
    {
      "cell_type": "code",
      "metadata": {
        "id": "JTtB-d7lxKCj"
      },
      "source": [
        ""
      ],
      "execution_count": null,
      "outputs": []
    },
    {
      "cell_type": "code",
      "metadata": {
        "id": "fLHUViwohvsr"
      },
      "source": [
        ""
      ],
      "execution_count": null,
      "outputs": []
    },
    {
      "cell_type": "markdown",
      "metadata": {
        "id": "k57PyNCpzN0e"
      },
      "source": [
        "#### mul() / multply()\n",
        "\n",
        "\n"
      ]
    },
    {
      "cell_type": "code",
      "metadata": {
        "id": "oeNX64mMzl8X"
      },
      "source": [
        ""
      ],
      "execution_count": null,
      "outputs": []
    },
    {
      "cell_type": "code",
      "metadata": {
        "id": "9XwcE7ySiMvS"
      },
      "source": [
        ""
      ],
      "execution_count": null,
      "outputs": []
    },
    {
      "cell_type": "code",
      "metadata": {
        "id": "42xISoWmzm8M"
      },
      "source": [
        ""
      ],
      "execution_count": null,
      "outputs": []
    },
    {
      "cell_type": "code",
      "metadata": {
        "id": "aS6XjFjCh2Jn"
      },
      "source": [
        ""
      ],
      "execution_count": null,
      "outputs": []
    },
    {
      "cell_type": "code",
      "metadata": {
        "id": "GxIj27xmrGAR"
      },
      "source": [
        ""
      ],
      "execution_count": null,
      "outputs": []
    },
    {
      "cell_type": "code",
      "metadata": {
        "id": "HpE8CYBVvUML"
      },
      "source": [
        ""
      ],
      "execution_count": null,
      "outputs": []
    },
    {
      "cell_type": "markdown",
      "metadata": {
        "id": "hFAaKfw2zpFE"
      },
      "source": [
        "#### truediv() /  div() / divide() / floordiv()"
      ]
    },
    {
      "cell_type": "code",
      "metadata": {
        "id": "BQ56Fdtyzyvp"
      },
      "source": [
        ""
      ],
      "execution_count": null,
      "outputs": []
    },
    {
      "cell_type": "code",
      "metadata": {
        "id": "fgKLOKM5iQMu"
      },
      "source": [
        ""
      ],
      "execution_count": null,
      "outputs": []
    },
    {
      "cell_type": "code",
      "metadata": {
        "id": "HjYXWxgfz5WD"
      },
      "source": [
        ""
      ],
      "execution_count": null,
      "outputs": []
    },
    {
      "cell_type": "code",
      "metadata": {
        "id": "Nw0xsKsAz9XV"
      },
      "source": [
        ""
      ],
      "execution_count": null,
      "outputs": []
    },
    {
      "cell_type": "code",
      "metadata": {
        "id": "ZoSaKROE0Ab_"
      },
      "source": [
        ""
      ],
      "execution_count": null,
      "outputs": []
    },
    {
      "cell_type": "code",
      "metadata": {
        "id": "Q21li5Sk0TJw"
      },
      "source": [
        ""
      ],
      "execution_count": null,
      "outputs": []
    },
    {
      "cell_type": "code",
      "metadata": {
        "id": "ct4NWN-rp4Gp"
      },
      "source": [
        ""
      ],
      "execution_count": null,
      "outputs": []
    },
    {
      "cell_type": "code",
      "metadata": {
        "id": "2ShseE-LiYxb"
      },
      "source": [
        ""
      ],
      "execution_count": null,
      "outputs": []
    },
    {
      "cell_type": "code",
      "metadata": {
        "id": "XAbDLNYqovd9"
      },
      "source": [
        ""
      ],
      "execution_count": null,
      "outputs": []
    },
    {
      "cell_type": "markdown",
      "metadata": {
        "id": "kd9HSQ6y0SwS"
      },
      "source": [
        "#### mod()"
      ]
    },
    {
      "cell_type": "code",
      "metadata": {
        "id": "EzEbDy4iqOFR"
      },
      "source": [
        ""
      ],
      "execution_count": null,
      "outputs": []
    },
    {
      "cell_type": "code",
      "metadata": {
        "id": "twDUry6dipns"
      },
      "source": [
        ""
      ],
      "execution_count": null,
      "outputs": []
    },
    {
      "cell_type": "code",
      "metadata": {
        "id": "aqQMEZTdqPUN"
      },
      "source": [
        ""
      ],
      "execution_count": null,
      "outputs": []
    },
    {
      "cell_type": "code",
      "metadata": {
        "id": "NdXlrc8LqQUE"
      },
      "source": [
        ""
      ],
      "execution_count": null,
      "outputs": []
    },
    {
      "cell_type": "markdown",
      "metadata": {
        "id": "U7ZuwbTDp9Se"
      },
      "source": [
        "#### pow()"
      ]
    },
    {
      "cell_type": "code",
      "metadata": {
        "id": "zHZfX4K5qU0Y"
      },
      "source": [
        ""
      ],
      "execution_count": null,
      "outputs": []
    },
    {
      "cell_type": "code",
      "metadata": {
        "id": "KpA3rMqAispd"
      },
      "source": [
        ""
      ],
      "execution_count": null,
      "outputs": []
    },
    {
      "cell_type": "code",
      "metadata": {
        "id": "E0kXJgdWqWcw"
      },
      "source": [
        ""
      ],
      "execution_count": null,
      "outputs": []
    },
    {
      "cell_type": "code",
      "metadata": {
        "id": "x3QIEcXoqW27"
      },
      "source": [
        ""
      ],
      "execution_count": null,
      "outputs": []
    },
    {
      "cell_type": "code",
      "metadata": {
        "id": "CAZBCAMLqyLz"
      },
      "source": [
        ""
      ],
      "execution_count": null,
      "outputs": []
    },
    {
      "cell_type": "code",
      "metadata": {
        "id": "s8fiykE0q5WM"
      },
      "source": [
        ""
      ],
      "execution_count": null,
      "outputs": []
    },
    {
      "cell_type": "markdown",
      "metadata": {
        "id": "olpJULJ5x1KI"
      },
      "source": [
        "### 정렬(Sort)"
      ]
    },
    {
      "cell_type": "code",
      "metadata": {
        "id": "Wplj3Uw00Isa"
      },
      "source": [
        ""
      ],
      "execution_count": null,
      "outputs": []
    },
    {
      "cell_type": "code",
      "metadata": {
        "id": "6teCdpge0Xp6"
      },
      "source": [
        ""
      ],
      "execution_count": null,
      "outputs": []
    },
    {
      "cell_type": "code",
      "metadata": {
        "id": "l77lqhu71Nd4"
      },
      "source": [
        ""
      ],
      "execution_count": null,
      "outputs": []
    },
    {
      "cell_type": "code",
      "metadata": {
        "id": "HXw87Eo0x3tZ"
      },
      "source": [
        ""
      ],
      "execution_count": null,
      "outputs": []
    },
    {
      "cell_type": "code",
      "metadata": {
        "id": "EOsqFoi2zMZ3"
      },
      "source": [
        ""
      ],
      "execution_count": null,
      "outputs": []
    },
    {
      "cell_type": "code",
      "metadata": {
        "id": "FZ8zzlx90kqU"
      },
      "source": [
        ""
      ],
      "execution_count": null,
      "outputs": []
    },
    {
      "cell_type": "code",
      "metadata": {
        "id": "cfbgpa6R1T1r"
      },
      "source": [
        ""
      ],
      "execution_count": null,
      "outputs": []
    },
    {
      "cell_type": "code",
      "metadata": {
        "id": "bqZiIeqV1n1x"
      },
      "source": [
        ""
      ],
      "execution_count": null,
      "outputs": []
    },
    {
      "cell_type": "markdown",
      "metadata": {
        "id": "Xrv5nCNj3K-0"
      },
      "source": [
        "### 순위(Ranking)\n"
      ]
    },
    {
      "cell_type": "code",
      "metadata": {
        "id": "GYroEZZ4105r"
      },
      "source": [
        ""
      ],
      "execution_count": null,
      "outputs": []
    },
    {
      "cell_type": "code",
      "metadata": {
        "id": "S4pX_jtq2ih3"
      },
      "source": [
        ""
      ],
      "execution_count": null,
      "outputs": []
    },
    {
      "cell_type": "code",
      "metadata": {
        "id": "qBjoTMbx2keP"
      },
      "source": [
        ""
      ],
      "execution_count": null,
      "outputs": []
    },
    {
      "cell_type": "code",
      "metadata": {
        "id": "QRI_Z5KO2zG4"
      },
      "source": [
        ""
      ],
      "execution_count": null,
      "outputs": []
    },
    {
      "cell_type": "markdown",
      "metadata": {
        "id": "P6wc1ajiQe4r"
      },
      "source": [
        "### 고성능 연산"
      ]
    },
    {
      "cell_type": "code",
      "metadata": {
        "id": "E4u2T6oSQhFu"
      },
      "source": [
        ""
      ],
      "execution_count": null,
      "outputs": []
    },
    {
      "cell_type": "code",
      "metadata": {
        "id": "SGg14HnyQvk2"
      },
      "source": [
        ""
      ],
      "execution_count": null,
      "outputs": []
    },
    {
      "cell_type": "code",
      "metadata": {
        "id": "k_GkpEnMQ0Fi"
      },
      "source": [
        ""
      ],
      "execution_count": null,
      "outputs": []
    },
    {
      "cell_type": "code",
      "metadata": {
        "id": "qPAdmY8cQ7Sn"
      },
      "source": [
        ""
      ],
      "execution_count": null,
      "outputs": []
    },
    {
      "cell_type": "code",
      "metadata": {
        "id": "eZzfGsGuRE3e"
      },
      "source": [
        ""
      ],
      "execution_count": null,
      "outputs": []
    },
    {
      "cell_type": "code",
      "metadata": {
        "id": "snts2jL2RVq-"
      },
      "source": [
        ""
      ],
      "execution_count": null,
      "outputs": []
    },
    {
      "cell_type": "code",
      "metadata": {
        "id": "nb6RYOJtRdE8"
      },
      "source": [
        ""
      ],
      "execution_count": null,
      "outputs": []
    },
    {
      "cell_type": "code",
      "metadata": {
        "id": "MPmsqO2jRyVp"
      },
      "source": [
        ""
      ],
      "execution_count": null,
      "outputs": []
    },
    {
      "cell_type": "code",
      "metadata": {
        "id": "GNbooD08TyAD"
      },
      "source": [
        ""
      ],
      "execution_count": null,
      "outputs": []
    },
    {
      "cell_type": "code",
      "metadata": {
        "id": "fgwU0lS4UOl0"
      },
      "source": [
        ""
      ],
      "execution_count": null,
      "outputs": []
    },
    {
      "cell_type": "code",
      "metadata": {
        "id": "roVl8OAOUiHt"
      },
      "source": [
        ""
      ],
      "execution_count": null,
      "outputs": []
    },
    {
      "cell_type": "code",
      "metadata": {
        "id": "Hud7fAOtVGDC"
      },
      "source": [
        ""
      ],
      "execution_count": null,
      "outputs": []
    },
    {
      "cell_type": "code",
      "metadata": {
        "id": "qFaoM0OBVUbX"
      },
      "source": [
        ""
      ],
      "execution_count": null,
      "outputs": []
    },
    {
      "cell_type": "code",
      "metadata": {
        "id": "3_Z4QpBuVrJY"
      },
      "source": [
        ""
      ],
      "execution_count": null,
      "outputs": []
    },
    {
      "cell_type": "code",
      "metadata": {
        "id": "Ge5N1eHXV7hs"
      },
      "source": [
        ""
      ],
      "execution_count": null,
      "outputs": []
    },
    {
      "cell_type": "code",
      "metadata": {
        "id": "lSoS8MRFWKSm"
      },
      "source": [
        ""
      ],
      "execution_count": null,
      "outputs": []
    },
    {
      "cell_type": "code",
      "metadata": {
        "id": "DQGuGdV0WZ3Y"
      },
      "source": [
        ""
      ],
      "execution_count": null,
      "outputs": []
    },
    {
      "cell_type": "code",
      "metadata": {
        "id": "xhWXd_LEW3wL"
      },
      "source": [
        ""
      ],
      "execution_count": null,
      "outputs": []
    },
    {
      "cell_type": "code",
      "metadata": {
        "id": "3LhXrBqBXZ3k"
      },
      "source": [
        ""
      ],
      "execution_count": null,
      "outputs": []
    },
    {
      "cell_type": "code",
      "metadata": {
        "id": "r2JhqnOzXnKh"
      },
      "source": [
        ""
      ],
      "execution_count": null,
      "outputs": []
    },
    {
      "cell_type": "markdown",
      "metadata": {
        "id": "098-pgqPZvz6"
      },
      "source": [
        "## 데이터 결합"
      ]
    },
    {
      "cell_type": "markdown",
      "metadata": {
        "id": "BCSOonbBpkpT"
      },
      "source": [
        "### Concat() / Append()"
      ]
    },
    {
      "cell_type": "code",
      "metadata": {
        "id": "cTmO8pFKcd_W"
      },
      "source": [
        ""
      ],
      "execution_count": null,
      "outputs": []
    },
    {
      "cell_type": "code",
      "metadata": {
        "id": "HnvsxJHqrAxj"
      },
      "source": [
        ""
      ],
      "execution_count": null,
      "outputs": []
    },
    {
      "cell_type": "code",
      "metadata": {
        "id": "mIqdS3_saR2D"
      },
      "source": [
        ""
      ],
      "execution_count": null,
      "outputs": []
    },
    {
      "cell_type": "code",
      "metadata": {
        "id": "9zjCkIpKawR7"
      },
      "source": [
        ""
      ],
      "execution_count": null,
      "outputs": []
    },
    {
      "cell_type": "code",
      "metadata": {
        "id": "1BoDpvACc_J2"
      },
      "source": [
        ""
      ],
      "execution_count": null,
      "outputs": []
    },
    {
      "cell_type": "code",
      "metadata": {
        "id": "JJL0XcfGdBVu"
      },
      "source": [
        ""
      ],
      "execution_count": null,
      "outputs": []
    },
    {
      "cell_type": "code",
      "metadata": {
        "id": "lYA3JakEdgKV"
      },
      "source": [
        ""
      ],
      "execution_count": null,
      "outputs": []
    },
    {
      "cell_type": "code",
      "metadata": {
        "id": "8QH83dOOdiAs"
      },
      "source": [
        ""
      ],
      "execution_count": null,
      "outputs": []
    },
    {
      "cell_type": "code",
      "metadata": {
        "id": "b-ZOQg0gdk8E"
      },
      "source": [
        ""
      ],
      "execution_count": null,
      "outputs": []
    },
    {
      "cell_type": "code",
      "metadata": {
        "id": "v_SSoUNIeeGO"
      },
      "source": [
        ""
      ],
      "execution_count": null,
      "outputs": []
    },
    {
      "cell_type": "code",
      "metadata": {
        "id": "FxzZqsfYfGIr"
      },
      "source": [
        ""
      ],
      "execution_count": null,
      "outputs": []
    },
    {
      "cell_type": "code",
      "metadata": {
        "id": "HNPzK-lyfRI7"
      },
      "source": [
        ""
      ],
      "execution_count": null,
      "outputs": []
    },
    {
      "cell_type": "code",
      "metadata": {
        "id": "ceNNvVDvfV0m"
      },
      "source": [
        ""
      ],
      "execution_count": null,
      "outputs": []
    },
    {
      "cell_type": "code",
      "metadata": {
        "id": "ymWRBGuwgD5W"
      },
      "source": [
        ""
      ],
      "execution_count": null,
      "outputs": []
    },
    {
      "cell_type": "code",
      "metadata": {
        "id": "2P0hjxCEfk4e"
      },
      "source": [
        ""
      ],
      "execution_count": null,
      "outputs": []
    },
    {
      "cell_type": "code",
      "metadata": {
        "id": "y7a2VV1qopv8"
      },
      "source": [
        ""
      ],
      "execution_count": null,
      "outputs": []
    },
    {
      "cell_type": "markdown",
      "metadata": {
        "id": "XCDss0yIppQt"
      },
      "source": [
        "### 병합과 조인"
      ]
    },
    {
      "cell_type": "code",
      "metadata": {
        "id": "tD2y5H3EosYY"
      },
      "source": [
        ""
      ],
      "execution_count": null,
      "outputs": []
    },
    {
      "cell_type": "code",
      "metadata": {
        "id": "-Gnfj0cVrQ-L"
      },
      "source": [
        ""
      ],
      "execution_count": null,
      "outputs": []
    },
    {
      "cell_type": "code",
      "metadata": {
        "id": "4_L0wq5BrRqC"
      },
      "source": [
        ""
      ],
      "execution_count": null,
      "outputs": []
    },
    {
      "cell_type": "code",
      "metadata": {
        "id": "JB30RrgprcxI"
      },
      "source": [
        ""
      ],
      "execution_count": null,
      "outputs": []
    },
    {
      "cell_type": "code",
      "metadata": {
        "id": "M-DPYK8-sZ1j"
      },
      "source": [
        ""
      ],
      "execution_count": null,
      "outputs": []
    },
    {
      "cell_type": "code",
      "metadata": {
        "id": "xvXEDN6GsgSF"
      },
      "source": [
        ""
      ],
      "execution_count": null,
      "outputs": []
    },
    {
      "cell_type": "code",
      "metadata": {
        "id": "H9JRk6RVtLNJ"
      },
      "source": [
        ""
      ],
      "execution_count": null,
      "outputs": []
    },
    {
      "cell_type": "code",
      "metadata": {
        "id": "HCsJ0Wg7teqe"
      },
      "source": [
        ""
      ],
      "execution_count": null,
      "outputs": []
    },
    {
      "cell_type": "code",
      "metadata": {
        "id": "U_ePghIst4fQ"
      },
      "source": [
        ""
      ],
      "execution_count": null,
      "outputs": []
    },
    {
      "cell_type": "code",
      "metadata": {
        "id": "-PZ1D1VwuiTG"
      },
      "source": [
        ""
      ],
      "execution_count": null,
      "outputs": []
    },
    {
      "cell_type": "code",
      "metadata": {
        "id": "7z1jmMhSukPA"
      },
      "source": [
        ""
      ],
      "execution_count": null,
      "outputs": []
    },
    {
      "cell_type": "code",
      "metadata": {
        "id": "xBdg5QbquseD"
      },
      "source": [
        ""
      ],
      "execution_count": null,
      "outputs": []
    },
    {
      "cell_type": "code",
      "metadata": {
        "id": "PkYo6QP-u5MM"
      },
      "source": [
        ""
      ],
      "execution_count": null,
      "outputs": []
    },
    {
      "cell_type": "code",
      "metadata": {
        "id": "ITON974EvRp8"
      },
      "source": [
        ""
      ],
      "execution_count": null,
      "outputs": []
    },
    {
      "cell_type": "code",
      "metadata": {
        "id": "pM9VHro8vR_b"
      },
      "source": [
        ""
      ],
      "execution_count": null,
      "outputs": []
    },
    {
      "cell_type": "code",
      "metadata": {
        "id": "tb70J4-YvYL-"
      },
      "source": [
        ""
      ],
      "execution_count": null,
      "outputs": []
    },
    {
      "cell_type": "code",
      "metadata": {
        "id": "h4jWcr7hvx93"
      },
      "source": [
        ""
      ],
      "execution_count": null,
      "outputs": []
    },
    {
      "cell_type": "code",
      "metadata": {
        "id": "5BMgmFDyxmYX"
      },
      "source": [
        ""
      ],
      "execution_count": null,
      "outputs": []
    },
    {
      "cell_type": "code",
      "metadata": {
        "id": "K6REnIONx5IB"
      },
      "source": [
        ""
      ],
      "execution_count": null,
      "outputs": []
    },
    {
      "cell_type": "code",
      "metadata": {
        "id": "we6EQ2YbyuCl"
      },
      "source": [
        ""
      ],
      "execution_count": null,
      "outputs": []
    },
    {
      "cell_type": "code",
      "metadata": {
        "id": "6fXhbe-zyxk3"
      },
      "source": [
        ""
      ],
      "execution_count": null,
      "outputs": []
    },
    {
      "cell_type": "code",
      "metadata": {
        "id": "elU9-4r3y4NE"
      },
      "source": [
        ""
      ],
      "execution_count": null,
      "outputs": []
    },
    {
      "cell_type": "code",
      "metadata": {
        "id": "Ojd4m8oLy6tk"
      },
      "source": [
        ""
      ],
      "execution_count": null,
      "outputs": []
    },
    {
      "cell_type": "code",
      "metadata": {
        "id": "R0Te8J7Py9Up"
      },
      "source": [
        ""
      ],
      "execution_count": null,
      "outputs": []
    },
    {
      "cell_type": "code",
      "metadata": {
        "id": "7VZHxJsky_L0"
      },
      "source": [
        ""
      ],
      "execution_count": null,
      "outputs": []
    },
    {
      "cell_type": "code",
      "metadata": {
        "id": "akYbKT0x0A0J"
      },
      "source": [
        ""
      ],
      "execution_count": null,
      "outputs": []
    },
    {
      "cell_type": "code",
      "metadata": {
        "id": "hC82_HIA0Gts"
      },
      "source": [
        ""
      ],
      "execution_count": null,
      "outputs": []
    },
    {
      "cell_type": "code",
      "metadata": {
        "id": "lvanUKHh0NSl"
      },
      "source": [
        ""
      ],
      "execution_count": null,
      "outputs": []
    },
    {
      "cell_type": "markdown",
      "metadata": {
        "id": "TR_8q2S50uIk"
      },
      "source": [
        "## 데이터 집계와 그룹 연산"
      ]
    },
    {
      "cell_type": "markdown",
      "metadata": {
        "id": "NnkMJFRlWPm7"
      },
      "source": [
        "#### 집계 연산(Aggregation)\n"
      ]
    },
    {
      "cell_type": "code",
      "metadata": {
        "id": "5AR3wQl_5QLq"
      },
      "source": [
        ""
      ],
      "execution_count": null,
      "outputs": []
    },
    {
      "cell_type": "code",
      "metadata": {
        "id": "jI0_ZOegZh86"
      },
      "source": [
        ""
      ],
      "execution_count": null,
      "outputs": []
    },
    {
      "cell_type": "code",
      "metadata": {
        "id": "fd2vnUehZoWF"
      },
      "source": [
        ""
      ],
      "execution_count": null,
      "outputs": []
    },
    {
      "cell_type": "code",
      "metadata": {
        "id": "I4DNBURwZq76"
      },
      "source": [
        ""
      ],
      "execution_count": null,
      "outputs": []
    },
    {
      "cell_type": "code",
      "metadata": {
        "id": "M9mBVcqmZ-K_"
      },
      "source": [
        ""
      ],
      "execution_count": null,
      "outputs": []
    },
    {
      "cell_type": "code",
      "metadata": {
        "id": "i65nWUsJa2p1"
      },
      "source": [
        ""
      ],
      "execution_count": null,
      "outputs": []
    },
    {
      "cell_type": "code",
      "metadata": {
        "id": "jqs9rYXAd-Kn"
      },
      "source": [
        ""
      ],
      "execution_count": null,
      "outputs": []
    },
    {
      "cell_type": "code",
      "metadata": {
        "id": "gYIy8wF7eNth"
      },
      "source": [
        ""
      ],
      "execution_count": null,
      "outputs": []
    },
    {
      "cell_type": "code",
      "metadata": {
        "id": "IYZJFuMte3Jb"
      },
      "source": [
        ""
      ],
      "execution_count": null,
      "outputs": []
    },
    {
      "cell_type": "code",
      "metadata": {
        "id": "zeo4laoDfARh"
      },
      "source": [
        ""
      ],
      "execution_count": null,
      "outputs": []
    },
    {
      "cell_type": "code",
      "metadata": {
        "id": "uO8VFmO3mku9"
      },
      "source": [
        ""
      ],
      "execution_count": null,
      "outputs": []
    },
    {
      "cell_type": "code",
      "metadata": {
        "id": "TfgY7dimneBl"
      },
      "source": [
        ""
      ],
      "execution_count": null,
      "outputs": []
    },
    {
      "cell_type": "code",
      "metadata": {
        "id": "dF_MpNjypa2z"
      },
      "source": [
        ""
      ],
      "execution_count": null,
      "outputs": []
    },
    {
      "cell_type": "code",
      "metadata": {
        "id": "oE-GXjRSpN3-"
      },
      "source": [
        ""
      ],
      "execution_count": null,
      "outputs": []
    },
    {
      "cell_type": "code",
      "metadata": {
        "id": "NYkglCVFqZbI"
      },
      "source": [
        ""
      ],
      "execution_count": null,
      "outputs": []
    },
    {
      "cell_type": "code",
      "metadata": {
        "id": "reK3YKyVpTh-"
      },
      "source": [
        ""
      ],
      "execution_count": null,
      "outputs": []
    },
    {
      "cell_type": "code",
      "metadata": {
        "id": "NYmiwnWmqmOE"
      },
      "source": [
        ""
      ],
      "execution_count": null,
      "outputs": []
    },
    {
      "cell_type": "code",
      "metadata": {
        "id": "uzOEBqYAq0bf"
      },
      "source": [
        ""
      ],
      "execution_count": null,
      "outputs": []
    },
    {
      "cell_type": "markdown",
      "metadata": {
        "id": "iVaTvBns27tS"
      },
      "source": [
        "### GroupBy 연산"
      ]
    },
    {
      "cell_type": "code",
      "metadata": {
        "id": "yOTrmBm58Wwm"
      },
      "source": [
        ""
      ],
      "execution_count": null,
      "outputs": []
    },
    {
      "cell_type": "code",
      "metadata": {
        "id": "8NNZKuIzXKFD"
      },
      "source": [
        ""
      ],
      "execution_count": null,
      "outputs": []
    },
    {
      "cell_type": "code",
      "metadata": {
        "id": "YyL-IgRFJwPE"
      },
      "source": [
        ""
      ],
      "execution_count": null,
      "outputs": []
    },
    {
      "cell_type": "code",
      "metadata": {
        "id": "5Jkhs5U-OMSE"
      },
      "source": [
        ""
      ],
      "execution_count": null,
      "outputs": []
    },
    {
      "cell_type": "code",
      "metadata": {
        "id": "WpDjcHLtOSto"
      },
      "source": [
        ""
      ],
      "execution_count": null,
      "outputs": []
    },
    {
      "cell_type": "code",
      "metadata": {
        "id": "l4CCXC_jOkac"
      },
      "source": [
        ""
      ],
      "execution_count": null,
      "outputs": []
    },
    {
      "cell_type": "code",
      "metadata": {
        "id": "v4t_XjXWROgc"
      },
      "source": [
        ""
      ],
      "execution_count": null,
      "outputs": []
    },
    {
      "cell_type": "code",
      "metadata": {
        "id": "WrFg05U5RXE6"
      },
      "source": [
        ""
      ],
      "execution_count": null,
      "outputs": []
    },
    {
      "cell_type": "code",
      "metadata": {
        "id": "Oj5diRr-Rh3Y"
      },
      "source": [
        ""
      ],
      "execution_count": null,
      "outputs": []
    },
    {
      "cell_type": "code",
      "metadata": {
        "id": "drwoM9kNViu9"
      },
      "source": [
        ""
      ],
      "execution_count": null,
      "outputs": []
    },
    {
      "cell_type": "code",
      "metadata": {
        "id": "TYDUCgdCWQW7"
      },
      "source": [
        ""
      ],
      "execution_count": null,
      "outputs": []
    },
    {
      "cell_type": "code",
      "metadata": {
        "id": "gqqcpQx6XFPD"
      },
      "source": [
        ""
      ],
      "execution_count": null,
      "outputs": []
    },
    {
      "cell_type": "code",
      "metadata": {
        "id": "d7gVpUPyYgKO"
      },
      "source": [
        ""
      ],
      "execution_count": null,
      "outputs": []
    },
    {
      "cell_type": "code",
      "metadata": {
        "id": "mS0V6sfQZyQv"
      },
      "source": [
        ""
      ],
      "execution_count": null,
      "outputs": []
    },
    {
      "cell_type": "code",
      "metadata": {
        "id": "bEv1Yx3dZ2kO"
      },
      "source": [
        ""
      ],
      "execution_count": null,
      "outputs": []
    },
    {
      "cell_type": "code",
      "metadata": {
        "id": "jsZefMocZ58d"
      },
      "source": [
        ""
      ],
      "execution_count": null,
      "outputs": []
    },
    {
      "cell_type": "code",
      "metadata": {
        "id": "zDCS1WJUalpC"
      },
      "source": [
        ""
      ],
      "execution_count": null,
      "outputs": []
    },
    {
      "cell_type": "code",
      "metadata": {
        "id": "b8GgSFhgbrGu"
      },
      "source": [
        ""
      ],
      "execution_count": null,
      "outputs": []
    },
    {
      "cell_type": "code",
      "metadata": {
        "id": "-sBX539zduqJ"
      },
      "source": [
        ""
      ],
      "execution_count": null,
      "outputs": []
    },
    {
      "cell_type": "code",
      "metadata": {
        "id": "ijUek7SAd3DR"
      },
      "source": [
        ""
      ],
      "execution_count": null,
      "outputs": []
    },
    {
      "cell_type": "code",
      "metadata": {
        "id": "3Tl7uqElcX7o"
      },
      "source": [
        ""
      ],
      "execution_count": null,
      "outputs": []
    },
    {
      "cell_type": "code",
      "metadata": {
        "id": "DsU9aoy3da34"
      },
      "source": [
        ""
      ],
      "execution_count": null,
      "outputs": []
    },
    {
      "cell_type": "markdown",
      "metadata": {
        "id": "VS9PZhnt2_h8"
      },
      "source": [
        "### 피벗 테이블(Pivot Table)\n"
      ]
    },
    {
      "cell_type": "code",
      "metadata": {
        "id": "hBXmgzUzeflH"
      },
      "source": [
        ""
      ],
      "execution_count": null,
      "outputs": []
    },
    {
      "cell_type": "code",
      "metadata": {
        "id": "voeul-pxfOb3"
      },
      "source": [
        ""
      ],
      "execution_count": null,
      "outputs": []
    },
    {
      "cell_type": "code",
      "metadata": {
        "id": "VCusVjzqfXRb"
      },
      "source": [
        ""
      ],
      "execution_count": null,
      "outputs": []
    },
    {
      "cell_type": "code",
      "metadata": {
        "id": "OaUu1cdEgO6f"
      },
      "source": [
        ""
      ],
      "execution_count": null,
      "outputs": []
    },
    {
      "cell_type": "code",
      "metadata": {
        "id": "I77K4Mg8jyct"
      },
      "source": [
        ""
      ],
      "execution_count": null,
      "outputs": []
    },
    {
      "cell_type": "code",
      "metadata": {
        "id": "xC-rXgvbgivr"
      },
      "source": [
        ""
      ],
      "execution_count": null,
      "outputs": []
    },
    {
      "cell_type": "markdown",
      "metadata": {
        "id": "bbyFIbJkBjvD"
      },
      "source": [
        "### 범주형(Categorical) 데이터\n"
      ]
    },
    {
      "cell_type": "code",
      "metadata": {
        "id": "A6tDHNBCBnTT"
      },
      "source": [
        ""
      ],
      "execution_count": null,
      "outputs": []
    },
    {
      "cell_type": "code",
      "metadata": {
        "id": "v-_JtRj8B5Wk"
      },
      "source": [
        ""
      ],
      "execution_count": null,
      "outputs": []
    },
    {
      "cell_type": "code",
      "metadata": {
        "id": "8EnnyCEdB8J-"
      },
      "source": [
        ""
      ],
      "execution_count": null,
      "outputs": []
    },
    {
      "cell_type": "code",
      "metadata": {
        "id": "7Bi_tGNMCD7o"
      },
      "source": [
        ""
      ],
      "execution_count": null,
      "outputs": []
    },
    {
      "cell_type": "code",
      "metadata": {
        "id": "4aO21aofCNNx"
      },
      "source": [
        ""
      ],
      "execution_count": null,
      "outputs": []
    },
    {
      "cell_type": "code",
      "metadata": {
        "id": "fJ5nbwbVCV0m"
      },
      "source": [
        ""
      ],
      "execution_count": null,
      "outputs": []
    },
    {
      "cell_type": "code",
      "metadata": {
        "id": "MZyW5zGdCpx1"
      },
      "source": [
        ""
      ],
      "execution_count": null,
      "outputs": []
    },
    {
      "cell_type": "code",
      "metadata": {
        "id": "tOX0QS_iDe60"
      },
      "source": [
        ""
      ],
      "execution_count": null,
      "outputs": []
    },
    {
      "cell_type": "code",
      "metadata": {
        "id": "vjDgdPmHE6nK"
      },
      "source": [
        ""
      ],
      "execution_count": null,
      "outputs": []
    },
    {
      "cell_type": "code",
      "metadata": {
        "id": "n30Dxm_JFeha"
      },
      "source": [
        ""
      ],
      "execution_count": null,
      "outputs": []
    },
    {
      "cell_type": "code",
      "metadata": {
        "id": "Dm7eTHHUFloX"
      },
      "source": [
        ""
      ],
      "execution_count": null,
      "outputs": []
    },
    {
      "cell_type": "code",
      "metadata": {
        "id": "w9zC9hE8Fzbj"
      },
      "source": [
        ""
      ],
      "execution_count": null,
      "outputs": []
    },
    {
      "cell_type": "code",
      "metadata": {
        "id": "kHIkmMF3F7E6"
      },
      "source": [
        ""
      ],
      "execution_count": null,
      "outputs": []
    },
    {
      "cell_type": "code",
      "metadata": {
        "id": "0Hd3a20OGIeK"
      },
      "source": [
        ""
      ],
      "execution_count": null,
      "outputs": []
    },
    {
      "cell_type": "code",
      "metadata": {
        "id": "n3MRLHmPHKM2"
      },
      "source": [
        ""
      ],
      "execution_count": null,
      "outputs": []
    },
    {
      "cell_type": "code",
      "metadata": {
        "id": "2PYX6ou4HjlD"
      },
      "source": [
        ""
      ],
      "execution_count": null,
      "outputs": []
    },
    {
      "cell_type": "code",
      "metadata": {
        "id": "tR-KJXBqH_DD"
      },
      "source": [
        ""
      ],
      "execution_count": null,
      "outputs": []
    },
    {
      "cell_type": "code",
      "metadata": {
        "id": "Hiiiuv8DIJRJ"
      },
      "source": [
        ""
      ],
      "execution_count": null,
      "outputs": []
    },
    {
      "cell_type": "code",
      "metadata": {
        "id": "Oxhdd12PIQGR"
      },
      "source": [
        ""
      ],
      "execution_count": null,
      "outputs": []
    },
    {
      "cell_type": "code",
      "metadata": {
        "id": "w2kR4J0HIagG"
      },
      "source": [
        ""
      ],
      "execution_count": null,
      "outputs": []
    },
    {
      "cell_type": "code",
      "metadata": {
        "id": "PP_HNmTxIsi7"
      },
      "source": [
        ""
      ],
      "execution_count": null,
      "outputs": []
    },
    {
      "cell_type": "code",
      "metadata": {
        "id": "oOEz4iOoI4tx"
      },
      "source": [
        ""
      ],
      "execution_count": null,
      "outputs": []
    },
    {
      "cell_type": "code",
      "metadata": {
        "id": "-Vrw8j9CJ1Qw"
      },
      "source": [
        ""
      ],
      "execution_count": null,
      "outputs": []
    },
    {
      "cell_type": "markdown",
      "metadata": {
        "id": "wjRK-aLNzLKo"
      },
      "source": [
        "## 문자열 연산"
      ]
    },
    {
      "cell_type": "markdown",
      "metadata": {
        "id": "q1LwRoiH0h8A"
      },
      "source": [
        "#### 문자열 연산자"
      ]
    },
    {
      "cell_type": "code",
      "metadata": {
        "id": "AXJwgoGYyPx7"
      },
      "source": [
        ""
      ],
      "execution_count": null,
      "outputs": []
    },
    {
      "cell_type": "code",
      "metadata": {
        "id": "8UZuQclNzvy7"
      },
      "source": [
        ""
      ],
      "execution_count": null,
      "outputs": []
    },
    {
      "cell_type": "code",
      "metadata": {
        "id": "RKC2Y-_p1cgf"
      },
      "source": [
        ""
      ],
      "execution_count": null,
      "outputs": []
    },
    {
      "cell_type": "code",
      "metadata": {
        "id": "pEza_iX71gdo"
      },
      "source": [
        ""
      ],
      "execution_count": null,
      "outputs": []
    },
    {
      "cell_type": "markdown",
      "metadata": {
        "id": "fmpHWLto8PPZ"
      },
      "source": [
        "#### 기타 연산자\n"
      ]
    },
    {
      "cell_type": "code",
      "metadata": {
        "id": "8OoAFpYw5xUT"
      },
      "source": [
        ""
      ],
      "execution_count": null,
      "outputs": []
    },
    {
      "cell_type": "code",
      "metadata": {
        "id": "psOVr0dE8_hQ"
      },
      "source": [
        ""
      ],
      "execution_count": null,
      "outputs": []
    },
    {
      "cell_type": "code",
      "metadata": {
        "id": "c1OM6UFk94ty"
      },
      "source": [
        ""
      ],
      "execution_count": null,
      "outputs": []
    },
    {
      "cell_type": "code",
      "metadata": {
        "id": "8gTH3OAa9F7R"
      },
      "source": [
        ""
      ],
      "execution_count": null,
      "outputs": []
    },
    {
      "cell_type": "markdown",
      "metadata": {
        "id": "cc5I6nYe2rIA"
      },
      "source": [
        "#### 정규표현식\n"
      ]
    },
    {
      "cell_type": "code",
      "metadata": {
        "id": "f__zeZaV2hJt"
      },
      "source": [
        ""
      ],
      "execution_count": null,
      "outputs": []
    },
    {
      "cell_type": "code",
      "metadata": {
        "id": "WE-XezJe4FJ1"
      },
      "source": [
        ""
      ],
      "execution_count": null,
      "outputs": []
    },
    {
      "cell_type": "markdown",
      "metadata": {
        "id": "coa1wuPKAjE4"
      },
      "source": [
        "## 시계열 처리"
      ]
    },
    {
      "cell_type": "code",
      "metadata": {
        "id": "DpzWbv0F9eE2"
      },
      "source": [
        ""
      ],
      "execution_count": null,
      "outputs": []
    },
    {
      "cell_type": "code",
      "metadata": {
        "id": "ucLDgwSaBC-j"
      },
      "source": [
        ""
      ],
      "execution_count": null,
      "outputs": []
    },
    {
      "cell_type": "code",
      "metadata": {
        "id": "ULqUMOA6BLTV"
      },
      "source": [
        ""
      ],
      "execution_count": null,
      "outputs": []
    },
    {
      "cell_type": "code",
      "metadata": {
        "id": "AWSo-DsCDlem"
      },
      "source": [
        ""
      ],
      "execution_count": null,
      "outputs": []
    },
    {
      "cell_type": "markdown",
      "metadata": {
        "id": "KuoU8dtlD7kR"
      },
      "source": [
        "#### 시계열 데이터 구조\n"
      ]
    },
    {
      "cell_type": "code",
      "metadata": {
        "id": "WRDRlDNPDzAc"
      },
      "source": [
        ""
      ],
      "execution_count": null,
      "outputs": []
    },
    {
      "cell_type": "code",
      "metadata": {
        "id": "jEXv5UcQHKoZ"
      },
      "source": [
        ""
      ],
      "execution_count": null,
      "outputs": []
    },
    {
      "cell_type": "code",
      "metadata": {
        "id": "i11dXCIKIKIA"
      },
      "source": [
        ""
      ],
      "execution_count": null,
      "outputs": []
    },
    {
      "cell_type": "code",
      "metadata": {
        "id": "747a7Q8AIOVZ"
      },
      "source": [
        ""
      ],
      "execution_count": null,
      "outputs": []
    },
    {
      "cell_type": "code",
      "metadata": {
        "id": "hfaW7kliITUq"
      },
      "source": [
        ""
      ],
      "execution_count": null,
      "outputs": []
    },
    {
      "cell_type": "code",
      "metadata": {
        "id": "QnIaj9cfIwjG"
      },
      "source": [
        ""
      ],
      "execution_count": null,
      "outputs": []
    },
    {
      "cell_type": "code",
      "metadata": {
        "id": "3A5IqEhwI2KO"
      },
      "source": [
        ""
      ],
      "execution_count": null,
      "outputs": []
    },
    {
      "cell_type": "code",
      "metadata": {
        "id": "DmqQPTOgiHLD"
      },
      "source": [
        ""
      ],
      "execution_count": null,
      "outputs": []
    },
    {
      "cell_type": "code",
      "metadata": {
        "id": "sWSFkY1EieM6"
      },
      "source": [
        ""
      ],
      "execution_count": null,
      "outputs": []
    },
    {
      "cell_type": "code",
      "metadata": {
        "id": "15Nbw1roimzp"
      },
      "source": [
        ""
      ],
      "execution_count": null,
      "outputs": []
    },
    {
      "cell_type": "markdown",
      "metadata": {
        "id": "eUdhdTqckQML"
      },
      "source": [
        "### 시계열 기본"
      ]
    },
    {
      "cell_type": "code",
      "metadata": {
        "id": "o3C5bsKnkS3z"
      },
      "source": [
        ""
      ],
      "execution_count": null,
      "outputs": []
    },
    {
      "cell_type": "code",
      "metadata": {
        "id": "n0NOghJ3lK8f"
      },
      "source": [
        ""
      ],
      "execution_count": null,
      "outputs": []
    },
    {
      "cell_type": "code",
      "metadata": {
        "id": "_eTZ-8BOlYb_"
      },
      "source": [
        ""
      ],
      "execution_count": null,
      "outputs": []
    },
    {
      "cell_type": "code",
      "metadata": {
        "id": "vr-FEVSyll5c"
      },
      "source": [
        ""
      ],
      "execution_count": null,
      "outputs": []
    },
    {
      "cell_type": "code",
      "metadata": {
        "id": "aaRJ83ZNm1P4"
      },
      "source": [
        ""
      ],
      "execution_count": null,
      "outputs": []
    },
    {
      "cell_type": "code",
      "metadata": {
        "id": "h9tW0LHSnAT7"
      },
      "source": [
        ""
      ],
      "execution_count": null,
      "outputs": []
    },
    {
      "cell_type": "code",
      "metadata": {
        "id": "-PiTx7qanLSF"
      },
      "source": [
        ""
      ],
      "execution_count": null,
      "outputs": []
    },
    {
      "cell_type": "code",
      "metadata": {
        "id": "RZXHXH79oL87"
      },
      "source": [
        ""
      ],
      "execution_count": null,
      "outputs": []
    },
    {
      "cell_type": "code",
      "metadata": {
        "id": "OrV7HKEkoZL7"
      },
      "source": [
        ""
      ],
      "execution_count": null,
      "outputs": []
    },
    {
      "cell_type": "code",
      "metadata": {
        "id": "bAtqzI_jor5X"
      },
      "source": [
        ""
      ],
      "execution_count": null,
      "outputs": []
    },
    {
      "cell_type": "code",
      "metadata": {
        "id": "AkHSxPFKpW3g"
      },
      "source": [
        ""
      ],
      "execution_count": null,
      "outputs": []
    },
    {
      "cell_type": "code",
      "metadata": {
        "id": "BLcA7EkOpdwC"
      },
      "source": [
        ""
      ],
      "execution_count": null,
      "outputs": []
    },
    {
      "cell_type": "code",
      "metadata": {
        "id": "k2WCkszlqEwH"
      },
      "source": [
        ""
      ],
      "execution_count": null,
      "outputs": []
    },
    {
      "cell_type": "code",
      "metadata": {
        "id": "PDFICllKqwrv"
      },
      "source": [
        ""
      ],
      "execution_count": null,
      "outputs": []
    },
    {
      "cell_type": "code",
      "metadata": {
        "id": "3q6TX5rVq0q1"
      },
      "source": [
        ""
      ],
      "execution_count": null,
      "outputs": []
    },
    {
      "cell_type": "code",
      "metadata": {
        "id": "n0FVEH7sq74X"
      },
      "source": [
        ""
      ],
      "execution_count": null,
      "outputs": []
    },
    {
      "cell_type": "code",
      "metadata": {
        "id": "hkbUwF9JrULg"
      },
      "source": [
        ""
      ],
      "execution_count": null,
      "outputs": []
    },
    {
      "cell_type": "code",
      "metadata": {
        "id": "Bo4Ao2zisOs6"
      },
      "source": [
        ""
      ],
      "execution_count": null,
      "outputs": []
    },
    {
      "cell_type": "code",
      "metadata": {
        "id": "0jxhrhS3tBEq"
      },
      "source": [
        ""
      ],
      "execution_count": null,
      "outputs": []
    },
    {
      "cell_type": "code",
      "metadata": {
        "id": "4M9BEkp3tIKW"
      },
      "source": [
        ""
      ],
      "execution_count": null,
      "outputs": []
    },
    {
      "cell_type": "code",
      "metadata": {
        "id": "H8vDMscHtRUp"
      },
      "source": [
        ""
      ],
      "execution_count": null,
      "outputs": []
    },
    {
      "cell_type": "code",
      "metadata": {
        "id": "eFP7MlKWtiNc"
      },
      "source": [
        ""
      ],
      "execution_count": null,
      "outputs": []
    },
    {
      "cell_type": "code",
      "metadata": {
        "id": "k9MGkCSBuAQ1"
      },
      "source": [
        ""
      ],
      "execution_count": null,
      "outputs": []
    },
    {
      "cell_type": "code",
      "metadata": {
        "id": "Xhpa_AEWuGv5"
      },
      "source": [
        ""
      ],
      "execution_count": null,
      "outputs": []
    },
    {
      "cell_type": "code",
      "metadata": {
        "id": "OExzMN61uUfo"
      },
      "source": [
        ""
      ],
      "execution_count": null,
      "outputs": []
    },
    {
      "cell_type": "markdown",
      "metadata": {
        "id": "qyGkgydIJVm5"
      },
      "source": [
        "### 주기와 오프셋\n"
      ]
    },
    {
      "cell_type": "code",
      "metadata": {
        "id": "00N0V3YjI7Vh"
      },
      "source": [
        ""
      ],
      "execution_count": null,
      "outputs": []
    },
    {
      "cell_type": "code",
      "metadata": {
        "id": "WSeShMblJDWE"
      },
      "source": [
        ""
      ],
      "execution_count": null,
      "outputs": []
    },
    {
      "cell_type": "code",
      "metadata": {
        "id": "IZVLhHbBJMpm"
      },
      "source": [
        ""
      ],
      "execution_count": null,
      "outputs": []
    },
    {
      "cell_type": "code",
      "metadata": {
        "id": "8Uzz7uZEK-mZ"
      },
      "source": [
        ""
      ],
      "execution_count": null,
      "outputs": []
    },
    {
      "cell_type": "code",
      "metadata": {
        "id": "VGWXkmAh4ZcT"
      },
      "source": [
        ""
      ],
      "execution_count": null,
      "outputs": []
    },
    {
      "cell_type": "code",
      "metadata": {
        "id": "2CeqVHBx33XS"
      },
      "source": [
        ""
      ],
      "execution_count": null,
      "outputs": []
    },
    {
      "cell_type": "markdown",
      "metadata": {
        "id": "muiRlbyH7LPh"
      },
      "source": [
        "### 시프트(Shift)"
      ]
    },
    {
      "cell_type": "code",
      "metadata": {
        "id": "nYJfyvH-5LZB"
      },
      "source": [
        ""
      ],
      "execution_count": null,
      "outputs": []
    },
    {
      "cell_type": "code",
      "metadata": {
        "id": "Dve8sn3D5n4p"
      },
      "source": [
        ""
      ],
      "execution_count": null,
      "outputs": []
    },
    {
      "cell_type": "code",
      "metadata": {
        "id": "qWXBes3q5qo6"
      },
      "source": [
        ""
      ],
      "execution_count": null,
      "outputs": []
    },
    {
      "cell_type": "code",
      "metadata": {
        "id": "ZN-dCvZU5tLx"
      },
      "source": [
        ""
      ],
      "execution_count": null,
      "outputs": []
    },
    {
      "cell_type": "code",
      "metadata": {
        "id": "Yzi9nKB_53D-"
      },
      "source": [
        ""
      ],
      "execution_count": null,
      "outputs": []
    },
    {
      "cell_type": "code",
      "metadata": {
        "id": "oUavnBzH6IR1"
      },
      "source": [
        ""
      ],
      "execution_count": null,
      "outputs": []
    },
    {
      "cell_type": "markdown",
      "metadata": {
        "id": "IGa7k2HO7PJp"
      },
      "source": [
        "### 시간대 처리\n",
        "\n",
        "* 국제표준시(Coordinated Universal Time, UTC)를 기준으로 떨어진 거리만큼 오프셋으로 시간대 처리\n",
        "* 전 세계의 시간대 정보를 모아놓은 올슨 데이터베이스를 활용한 라이브러리인 `pytz` 사용"
      ]
    },
    {
      "cell_type": "code",
      "metadata": {
        "id": "FxrFeONy7QNb"
      },
      "source": [
        ""
      ],
      "execution_count": null,
      "outputs": []
    },
    {
      "cell_type": "code",
      "metadata": {
        "id": "GRjk1NK-7P3O"
      },
      "source": [
        ""
      ],
      "execution_count": null,
      "outputs": []
    },
    {
      "cell_type": "code",
      "metadata": {
        "id": "wjngkZuzOU1U"
      },
      "source": [
        ""
      ],
      "execution_count": null,
      "outputs": []
    },
    {
      "cell_type": "code",
      "metadata": {
        "id": "_AxYonc1PV1o"
      },
      "source": [
        ""
      ],
      "execution_count": null,
      "outputs": []
    },
    {
      "cell_type": "code",
      "metadata": {
        "id": "Zyc-pgsLPxHx"
      },
      "source": [
        ""
      ],
      "execution_count": null,
      "outputs": []
    },
    {
      "cell_type": "code",
      "metadata": {
        "id": "7ZOXCc73QJ6U"
      },
      "source": [
        ""
      ],
      "execution_count": null,
      "outputs": []
    },
    {
      "cell_type": "code",
      "metadata": {
        "id": "gQTL-ZSBQMJ5"
      },
      "source": [
        ""
      ],
      "execution_count": null,
      "outputs": []
    },
    {
      "cell_type": "code",
      "metadata": {
        "id": "Kgm-C70kQX1K"
      },
      "source": [
        ""
      ],
      "execution_count": null,
      "outputs": []
    },
    {
      "cell_type": "code",
      "metadata": {
        "id": "uidYzkMEQiw-"
      },
      "source": [
        ""
      ],
      "execution_count": null,
      "outputs": []
    },
    {
      "cell_type": "code",
      "metadata": {
        "id": "7T4KfZo1Q0vv"
      },
      "source": [
        ""
      ],
      "execution_count": null,
      "outputs": []
    },
    {
      "cell_type": "code",
      "metadata": {
        "id": "nlRi5wiLQ_2t"
      },
      "source": [
        ""
      ],
      "execution_count": null,
      "outputs": []
    },
    {
      "cell_type": "code",
      "metadata": {
        "id": "tOnkPX7wRr1K"
      },
      "source": [
        ""
      ],
      "execution_count": null,
      "outputs": []
    },
    {
      "cell_type": "code",
      "metadata": {
        "id": "gzpDRNMbS7m4"
      },
      "source": [
        ""
      ],
      "execution_count": null,
      "outputs": []
    },
    {
      "cell_type": "code",
      "metadata": {
        "id": "kV1-OuAyS1E1"
      },
      "source": [
        ""
      ],
      "execution_count": null,
      "outputs": []
    },
    {
      "cell_type": "code",
      "metadata": {
        "id": "vNWZbRg9S7ib"
      },
      "source": [
        ""
      ],
      "execution_count": null,
      "outputs": []
    },
    {
      "cell_type": "code",
      "metadata": {
        "id": "y2YmFHiTSbvl"
      },
      "source": [
        ""
      ],
      "execution_count": null,
      "outputs": []
    },
    {
      "cell_type": "code",
      "metadata": {
        "id": "escRmC7CSp7D"
      },
      "source": [
        ""
      ],
      "execution_count": null,
      "outputs": []
    },
    {
      "cell_type": "code",
      "metadata": {
        "id": "JktH-gJjSt3y"
      },
      "source": [
        ""
      ],
      "execution_count": null,
      "outputs": []
    },
    {
      "cell_type": "code",
      "metadata": {
        "id": "B8qC75WkVdUz"
      },
      "source": [
        ""
      ],
      "execution_count": null,
      "outputs": []
    },
    {
      "cell_type": "code",
      "metadata": {
        "id": "vW_WSrFYVr39"
      },
      "source": [
        ""
      ],
      "execution_count": null,
      "outputs": []
    },
    {
      "cell_type": "code",
      "metadata": {
        "id": "eirSX--hVxsh"
      },
      "source": [
        ""
      ],
      "execution_count": null,
      "outputs": []
    },
    {
      "cell_type": "code",
      "metadata": {
        "id": "c5O6aWCoV6tn"
      },
      "source": [
        ""
      ],
      "execution_count": null,
      "outputs": []
    },
    {
      "cell_type": "code",
      "metadata": {
        "id": "fT1R8fH1YLxz"
      },
      "source": [
        ""
      ],
      "execution_count": null,
      "outputs": []
    },
    {
      "cell_type": "code",
      "metadata": {
        "id": "AImCb4SwZHDJ"
      },
      "source": [
        ""
      ],
      "execution_count": null,
      "outputs": []
    },
    {
      "cell_type": "markdown",
      "metadata": {
        "id": "mBESoCw1ZPCb"
      },
      "source": [
        "### 기간과 기간 연산"
      ]
    },
    {
      "cell_type": "code",
      "metadata": {
        "id": "zPuaVZFOZRXU"
      },
      "source": [
        ""
      ],
      "execution_count": null,
      "outputs": []
    },
    {
      "cell_type": "code",
      "metadata": {
        "id": "Pa6d7K81c9D7"
      },
      "source": [
        ""
      ],
      "execution_count": null,
      "outputs": []
    },
    {
      "cell_type": "code",
      "metadata": {
        "id": "-8G5Fry1dA0Z"
      },
      "source": [
        ""
      ],
      "execution_count": null,
      "outputs": []
    },
    {
      "cell_type": "code",
      "metadata": {
        "id": "uX4eGfqPdJWX"
      },
      "source": [
        ""
      ],
      "execution_count": null,
      "outputs": []
    },
    {
      "cell_type": "code",
      "metadata": {
        "id": "bONu-Igwefj5"
      },
      "source": [
        ""
      ],
      "execution_count": null,
      "outputs": []
    },
    {
      "cell_type": "code",
      "metadata": {
        "id": "CgIISIP3esTI"
      },
      "source": [
        ""
      ],
      "execution_count": null,
      "outputs": []
    },
    {
      "cell_type": "code",
      "metadata": {
        "id": "3UbMifZ9g_2a"
      },
      "source": [
        ""
      ],
      "execution_count": null,
      "outputs": []
    },
    {
      "cell_type": "code",
      "metadata": {
        "id": "SrJaYKyFhqNK"
      },
      "source": [
        ""
      ],
      "execution_count": null,
      "outputs": []
    },
    {
      "cell_type": "code",
      "metadata": {
        "id": "1zslgmgEhy_E"
      },
      "source": [
        ""
      ],
      "execution_count": null,
      "outputs": []
    },
    {
      "cell_type": "code",
      "metadata": {
        "id": "Pf0MhblPh-4A"
      },
      "source": [
        ""
      ],
      "execution_count": null,
      "outputs": []
    },
    {
      "cell_type": "code",
      "metadata": {
        "id": "TUAZmHE5iTDQ"
      },
      "source": [
        ""
      ],
      "execution_count": null,
      "outputs": []
    },
    {
      "cell_type": "code",
      "metadata": {
        "id": "OXXVYyrSiXx5"
      },
      "source": [
        ""
      ],
      "execution_count": null,
      "outputs": []
    },
    {
      "cell_type": "code",
      "metadata": {
        "id": "KwZxN0DSiZcR"
      },
      "source": [
        ""
      ],
      "execution_count": null,
      "outputs": []
    },
    {
      "cell_type": "code",
      "metadata": {
        "id": "coUC21I4irbo"
      },
      "source": [
        ""
      ],
      "execution_count": null,
      "outputs": []
    },
    {
      "cell_type": "code",
      "metadata": {
        "id": "l1-o5TuTjJ_6"
      },
      "source": [
        ""
      ],
      "execution_count": null,
      "outputs": []
    },
    {
      "cell_type": "code",
      "metadata": {
        "id": "OXKM1tInjOo5"
      },
      "source": [
        ""
      ],
      "execution_count": null,
      "outputs": []
    },
    {
      "cell_type": "code",
      "metadata": {
        "id": "atGrrBMjj9sh"
      },
      "source": [
        ""
      ],
      "execution_count": null,
      "outputs": []
    },
    {
      "cell_type": "code",
      "metadata": {
        "id": "eYrXQPsykF6O"
      },
      "source": [
        ""
      ],
      "execution_count": null,
      "outputs": []
    },
    {
      "cell_type": "code",
      "metadata": {
        "id": "Ieb4UV57kPBS"
      },
      "source": [
        ""
      ],
      "execution_count": null,
      "outputs": []
    },
    {
      "cell_type": "code",
      "metadata": {
        "id": "kQ0IShLqlPYy"
      },
      "source": [
        ""
      ],
      "execution_count": null,
      "outputs": []
    },
    {
      "cell_type": "code",
      "metadata": {
        "id": "uIkBhkpnop55"
      },
      "source": [
        ""
      ],
      "execution_count": null,
      "outputs": []
    },
    {
      "cell_type": "code",
      "metadata": {
        "id": "u-37q4u_pTfy"
      },
      "source": [
        ""
      ],
      "execution_count": null,
      "outputs": []
    },
    {
      "cell_type": "code",
      "metadata": {
        "id": "BNAgbJ62pzTh"
      },
      "source": [
        ""
      ],
      "execution_count": null,
      "outputs": []
    },
    {
      "cell_type": "code",
      "metadata": {
        "id": "hNwIgsrkp4y3"
      },
      "source": [
        ""
      ],
      "execution_count": null,
      "outputs": []
    },
    {
      "cell_type": "code",
      "metadata": {
        "id": "cwz_gBl-qWcp"
      },
      "source": [
        ""
      ],
      "execution_count": null,
      "outputs": []
    },
    {
      "cell_type": "markdown",
      "metadata": {
        "id": "_7_r2sq0qoCb"
      },
      "source": [
        "### 리샘플링(Resampling)\n",
        "\n",
        "* 리샘플링(Resampling): 시계열의 빈도 변환\n",
        "* 다운샘플링(Down sampling): 상위 빈도 데이터를 하위 빈도 데이터로 집계\n",
        "* 업샘플링(Up sampling): 하위 빈도 데이터를 상위 빈도 데이터로 집계"
      ]
    },
    {
      "cell_type": "code",
      "metadata": {
        "id": "g16pgRe8qq2S"
      },
      "source": [
        ""
      ],
      "execution_count": null,
      "outputs": []
    },
    {
      "cell_type": "code",
      "metadata": {
        "id": "dUOidLhdrSga"
      },
      "source": [
        ""
      ],
      "execution_count": null,
      "outputs": []
    },
    {
      "cell_type": "code",
      "metadata": {
        "id": "syUsS-UtraUU"
      },
      "source": [
        ""
      ],
      "execution_count": null,
      "outputs": []
    },
    {
      "cell_type": "code",
      "metadata": {
        "id": "wqGxv77wujni"
      },
      "source": [
        ""
      ],
      "execution_count": null,
      "outputs": []
    },
    {
      "cell_type": "code",
      "metadata": {
        "id": "24TJiPXSu-cN"
      },
      "source": [
        ""
      ],
      "execution_count": null,
      "outputs": []
    },
    {
      "cell_type": "code",
      "metadata": {
        "id": "iL0pJxPcwlt5"
      },
      "source": [
        ""
      ],
      "execution_count": null,
      "outputs": []
    },
    {
      "cell_type": "code",
      "metadata": {
        "id": "UqjZ7uy1NTAM"
      },
      "source": [
        ""
      ],
      "execution_count": null,
      "outputs": []
    },
    {
      "cell_type": "code",
      "metadata": {
        "id": "iTeIafSR1Hfx"
      },
      "source": [
        ""
      ],
      "execution_count": null,
      "outputs": []
    },
    {
      "cell_type": "code",
      "metadata": {
        "id": "1KJJ4TSf1nMp"
      },
      "source": [
        ""
      ],
      "execution_count": null,
      "outputs": []
    },
    {
      "cell_type": "code",
      "metadata": {
        "id": "79ITf-AM2Jcr"
      },
      "source": [
        ""
      ],
      "execution_count": null,
      "outputs": []
    },
    {
      "cell_type": "code",
      "metadata": {
        "id": "kOBZwqXJ626g"
      },
      "source": [
        ""
      ],
      "execution_count": null,
      "outputs": []
    },
    {
      "cell_type": "code",
      "metadata": {
        "id": "IZIifPcqBX28"
      },
      "source": [
        ""
      ],
      "execution_count": null,
      "outputs": []
    },
    {
      "cell_type": "code",
      "metadata": {
        "id": "iEci9Ws3FNtG"
      },
      "source": [
        ""
      ],
      "execution_count": null,
      "outputs": []
    },
    {
      "cell_type": "code",
      "metadata": {
        "id": "TPWnP2YNE2-Y"
      },
      "source": [
        ""
      ],
      "execution_count": null,
      "outputs": []
    },
    {
      "cell_type": "code",
      "metadata": {
        "id": "r6b2V4P9B3eN"
      },
      "source": [
        ""
      ],
      "execution_count": null,
      "outputs": []
    },
    {
      "cell_type": "code",
      "metadata": {
        "id": "YRU_MPfgC2OC"
      },
      "source": [
        ""
      ],
      "execution_count": null,
      "outputs": []
    },
    {
      "cell_type": "code",
      "metadata": {
        "id": "bGwHQKT18B30"
      },
      "source": [
        ""
      ],
      "execution_count": null,
      "outputs": []
    },
    {
      "cell_type": "code",
      "metadata": {
        "id": "0-fZbJgkCxvo"
      },
      "source": [
        ""
      ],
      "execution_count": null,
      "outputs": []
    },
    {
      "cell_type": "markdown",
      "metadata": {
        "id": "gOTm-SAWFqUn"
      },
      "source": [
        "### 무빙 윈도우(Moving Window)"
      ]
    },
    {
      "cell_type": "code",
      "metadata": {
        "id": "ivW4TjmaFv_8"
      },
      "source": [
        ""
      ],
      "execution_count": null,
      "outputs": []
    },
    {
      "cell_type": "code",
      "metadata": {
        "id": "g8NG71H-G3_1"
      },
      "source": [
        ""
      ],
      "execution_count": null,
      "outputs": []
    },
    {
      "cell_type": "code",
      "metadata": {
        "id": "fPuiwcxR6r29"
      },
      "source": [
        ""
      ],
      "execution_count": null,
      "outputs": []
    },
    {
      "cell_type": "code",
      "metadata": {
        "id": "rrS0Fv6IHkTD"
      },
      "source": [
        ""
      ],
      "execution_count": null,
      "outputs": []
    },
    {
      "cell_type": "code",
      "metadata": {
        "id": "5eyUTf9gH7dy"
      },
      "source": [
        ""
      ],
      "execution_count": null,
      "outputs": []
    },
    {
      "cell_type": "code",
      "metadata": {
        "id": "jE8ef_y7ISvQ"
      },
      "source": [
        ""
      ],
      "execution_count": null,
      "outputs": []
    },
    {
      "cell_type": "code",
      "metadata": {
        "id": "YPivQozCIt2C"
      },
      "source": [
        ""
      ],
      "execution_count": null,
      "outputs": []
    },
    {
      "cell_type": "code",
      "metadata": {
        "id": "uwUxlyN-I9Lr"
      },
      "source": [
        ""
      ],
      "execution_count": null,
      "outputs": []
    },
    {
      "cell_type": "code",
      "metadata": {
        "id": "t6EOkaA7JQfk"
      },
      "source": [
        ""
      ],
      "execution_count": null,
      "outputs": []
    },
    {
      "cell_type": "code",
      "metadata": {
        "id": "iOAqjinMJ-RM"
      },
      "source": [
        ""
      ],
      "execution_count": null,
      "outputs": []
    },
    {
      "cell_type": "code",
      "metadata": {
        "id": "DMZPaDR0wR1P"
      },
      "source": [
        ""
      ],
      "execution_count": null,
      "outputs": []
    },
    {
      "cell_type": "markdown",
      "metadata": {
        "id": "BOO7UiIisygc"
      },
      "source": [
        "## 데이터 읽기 및 저장\n"
      ]
    },
    {
      "cell_type": "markdown",
      "metadata": {
        "id": "gywGx4BUY8kK"
      },
      "source": [
        "### 텍스트 파일 읽기/쓰기"
      ]
    },
    {
      "cell_type": "code",
      "metadata": {
        "id": "YKleNV0lswbP"
      },
      "source": [
        ""
      ],
      "execution_count": null,
      "outputs": []
    },
    {
      "cell_type": "code",
      "metadata": {
        "id": "uDL9fxU_N3e8"
      },
      "source": [
        ""
      ],
      "execution_count": null,
      "outputs": []
    },
    {
      "cell_type": "code",
      "metadata": {
        "id": "8qpTNo0rNzQ1"
      },
      "source": [
        ""
      ],
      "execution_count": null,
      "outputs": []
    },
    {
      "cell_type": "code",
      "metadata": {
        "id": "uFgOXuSWODON"
      },
      "source": [
        ""
      ],
      "execution_count": null,
      "outputs": []
    },
    {
      "cell_type": "code",
      "metadata": {
        "id": "DxsJR_AHOGNM"
      },
      "source": [
        ""
      ],
      "execution_count": null,
      "outputs": []
    },
    {
      "cell_type": "code",
      "metadata": {
        "id": "pINjVRJlOP3f"
      },
      "source": [
        ""
      ],
      "execution_count": null,
      "outputs": []
    },
    {
      "cell_type": "code",
      "metadata": {
        "id": "_OOxJ6AoOdsa"
      },
      "source": [
        ""
      ],
      "execution_count": null,
      "outputs": []
    },
    {
      "cell_type": "code",
      "metadata": {
        "id": "41CvMcUxOqG2"
      },
      "source": [
        ""
      ],
      "execution_count": null,
      "outputs": []
    },
    {
      "cell_type": "code",
      "metadata": {
        "id": "IUWp5vjzPG_F"
      },
      "source": [
        ""
      ],
      "execution_count": null,
      "outputs": []
    },
    {
      "cell_type": "code",
      "metadata": {
        "id": "lwh3G1yRQr1h"
      },
      "source": [
        ""
      ],
      "execution_count": null,
      "outputs": []
    },
    {
      "cell_type": "code",
      "metadata": {
        "id": "PkUJzlMzRBue"
      },
      "source": [
        ""
      ],
      "execution_count": null,
      "outputs": []
    },
    {
      "cell_type": "code",
      "metadata": {
        "id": "Ywb5JK5qRTvs"
      },
      "source": [
        ""
      ],
      "execution_count": null,
      "outputs": []
    },
    {
      "cell_type": "code",
      "metadata": {
        "id": "PkEC01P2RaiM"
      },
      "source": [
        ""
      ],
      "execution_count": null,
      "outputs": []
    },
    {
      "cell_type": "code",
      "metadata": {
        "id": "r-LMeRJUR8N4"
      },
      "source": [
        ""
      ],
      "execution_count": null,
      "outputs": []
    },
    {
      "cell_type": "code",
      "metadata": {
        "id": "5eRV5ja3SawJ"
      },
      "source": [
        ""
      ],
      "execution_count": null,
      "outputs": []
    },
    {
      "cell_type": "code",
      "metadata": {
        "id": "M7iJwB8MYwSv"
      },
      "source": [
        ""
      ],
      "execution_count": null,
      "outputs": []
    },
    {
      "cell_type": "code",
      "metadata": {
        "id": "bsjS12WVZHcq"
      },
      "source": [
        ""
      ],
      "execution_count": null,
      "outputs": []
    },
    {
      "cell_type": "code",
      "metadata": {
        "id": "QjP7lyGzZOpi"
      },
      "source": [
        ""
      ],
      "execution_count": null,
      "outputs": []
    },
    {
      "cell_type": "code",
      "metadata": {
        "id": "fzxcYo0_ZUMI"
      },
      "source": [
        ""
      ],
      "execution_count": null,
      "outputs": []
    },
    {
      "cell_type": "code",
      "metadata": {
        "id": "U0nvJRsTZg5E"
      },
      "source": [
        ""
      ],
      "execution_count": null,
      "outputs": []
    },
    {
      "cell_type": "code",
      "metadata": {
        "id": "Xx7oQn_9axOD"
      },
      "source": [
        ""
      ],
      "execution_count": null,
      "outputs": []
    },
    {
      "cell_type": "code",
      "metadata": {
        "id": "-cFa44vmbWJ-"
      },
      "source": [
        ""
      ],
      "execution_count": null,
      "outputs": []
    },
    {
      "cell_type": "code",
      "metadata": {
        "id": "Sz4D4Rcrbkkj"
      },
      "source": [
        ""
      ],
      "execution_count": null,
      "outputs": []
    },
    {
      "cell_type": "code",
      "metadata": {
        "id": "h-3yFqGYcc64"
      },
      "source": [
        ""
      ],
      "execution_count": null,
      "outputs": []
    },
    {
      "cell_type": "code",
      "metadata": {
        "id": "8dwRbNbucm9_"
      },
      "source": [
        ""
      ],
      "execution_count": null,
      "outputs": []
    },
    {
      "cell_type": "code",
      "metadata": {
        "id": "iEvJFXwTcx-y"
      },
      "source": [
        ""
      ],
      "execution_count": null,
      "outputs": []
    },
    {
      "cell_type": "code",
      "metadata": {
        "id": "L5IlKRsKc7-X"
      },
      "source": [
        ""
      ],
      "execution_count": null,
      "outputs": []
    },
    {
      "cell_type": "code",
      "metadata": {
        "id": "I2DeeF8rc-lS"
      },
      "source": [
        ""
      ],
      "execution_count": null,
      "outputs": []
    },
    {
      "cell_type": "markdown",
      "metadata": {
        "id": "FbawLF89dKIZ"
      },
      "source": [
        "### 이진 데이터 파일 읽기/쓰기"
      ]
    },
    {
      "cell_type": "code",
      "metadata": {
        "id": "r86MX6x7dYgE"
      },
      "source": [
        ""
      ],
      "execution_count": null,
      "outputs": []
    },
    {
      "cell_type": "code",
      "metadata": {
        "id": "V2GPiDLKdfmO"
      },
      "source": [
        ""
      ],
      "execution_count": null,
      "outputs": []
    },
    {
      "cell_type": "code",
      "metadata": {
        "id": "B3eyfmJRdkQR"
      },
      "source": [
        ""
      ],
      "execution_count": null,
      "outputs": []
    },
    {
      "cell_type": "code",
      "metadata": {
        "id": "UzOVC81Ed-2E"
      },
      "source": [
        ""
      ],
      "execution_count": null,
      "outputs": []
    },
    {
      "cell_type": "code",
      "metadata": {
        "id": "uaO6OxkCeTq4"
      },
      "source": [
        ""
      ],
      "execution_count": null,
      "outputs": []
    },
    {
      "cell_type": "code",
      "metadata": {
        "id": "OG_258xee3PR"
      },
      "source": [
        ""
      ],
      "execution_count": null,
      "outputs": []
    },
    {
      "cell_type": "code",
      "metadata": {
        "id": "sWZ22PVde7Ha"
      },
      "source": [
        ""
      ],
      "execution_count": null,
      "outputs": []
    },
    {
      "cell_type": "code",
      "metadata": {
        "id": "YglaWJ7CfAKj"
      },
      "source": [
        ""
      ],
      "execution_count": null,
      "outputs": []
    },
    {
      "cell_type": "code",
      "metadata": {
        "id": "zjEeShTCfO8i"
      },
      "source": [
        ""
      ],
      "execution_count": null,
      "outputs": []
    },
    {
      "cell_type": "code",
      "metadata": {
        "id": "wVRZCDhqfTgf"
      },
      "source": [
        ""
      ],
      "execution_count": null,
      "outputs": []
    },
    {
      "cell_type": "code",
      "metadata": {
        "id": "SbB9VJMVfot5"
      },
      "source": [
        ""
      ],
      "execution_count": null,
      "outputs": []
    },
    {
      "cell_type": "code",
      "metadata": {
        "id": "eVn_GwrTf7Eu"
      },
      "source": [
        ""
      ],
      "execution_count": null,
      "outputs": []
    },
    {
      "cell_type": "code",
      "metadata": {
        "id": "GFvQJWz5gaXG"
      },
      "source": [
        ""
      ],
      "execution_count": null,
      "outputs": []
    },
    {
      "cell_type": "code",
      "metadata": {
        "id": "Ij_Yh741gbp1"
      },
      "source": [
        ""
      ],
      "execution_count": null,
      "outputs": []
    },
    {
      "cell_type": "markdown",
      "metadata": {
        "id": "TC1H-xT_2F8p"
      },
      "source": [
        "## 데이터 정제"
      ]
    },
    {
      "cell_type": "markdown",
      "metadata": {
        "id": "sHfYzJJsqoiD"
      },
      "source": [
        "### 누락값 처리\n",
        "\n",
        "* 대부분의 실제 데이터들은 정제되지 않고 누락값들이 존재\n",
        "* 서로 다른 데이터들은 다른 형태의 결측을 가짐\n",
        "* 결측 데이터는 `null`, `NaN`, `NA`로 표기"
      ]
    },
    {
      "cell_type": "markdown",
      "metadata": {
        "id": "eYG4GJ04HNea"
      },
      "source": [
        "#### None: 파이썬 누락 데이터"
      ]
    },
    {
      "cell_type": "code",
      "metadata": {
        "id": "SdbmIhZJqYk-"
      },
      "source": [
        ""
      ],
      "execution_count": null,
      "outputs": []
    },
    {
      "cell_type": "code",
      "metadata": {
        "id": "TGgJm6tSOqz5"
      },
      "source": [
        ""
      ],
      "execution_count": null,
      "outputs": []
    },
    {
      "cell_type": "markdown",
      "metadata": {
        "id": "Uz-ozgPrPj7g"
      },
      "source": [
        "#### NaN: 누락된 수치 데이터"
      ]
    },
    {
      "cell_type": "code",
      "metadata": {
        "id": "XIzPctmuPWfU"
      },
      "source": [
        ""
      ],
      "execution_count": null,
      "outputs": []
    },
    {
      "cell_type": "code",
      "metadata": {
        "id": "9TVX3ZN5P6V3"
      },
      "source": [
        ""
      ],
      "execution_count": null,
      "outputs": []
    },
    {
      "cell_type": "code",
      "metadata": {
        "id": "iVLmt-aQP8Gj"
      },
      "source": [
        ""
      ],
      "execution_count": null,
      "outputs": []
    },
    {
      "cell_type": "code",
      "metadata": {
        "id": "hGP2AkgaSUSz"
      },
      "source": [
        ""
      ],
      "execution_count": null,
      "outputs": []
    },
    {
      "cell_type": "code",
      "metadata": {
        "id": "TT4GHf_fSeRi"
      },
      "source": [
        ""
      ],
      "execution_count": null,
      "outputs": []
    },
    {
      "cell_type": "code",
      "metadata": {
        "id": "U9qtvBxXSlfX"
      },
      "source": [
        ""
      ],
      "execution_count": null,
      "outputs": []
    },
    {
      "cell_type": "code",
      "metadata": {
        "id": "FkOFTHSSS07A"
      },
      "source": [
        ""
      ],
      "execution_count": null,
      "outputs": []
    },
    {
      "cell_type": "code",
      "metadata": {
        "id": "RWVqbN1oS6ZH"
      },
      "source": [
        ""
      ],
      "execution_count": null,
      "outputs": []
    },
    {
      "cell_type": "code",
      "metadata": {
        "id": "d-jqa8t5S9z7"
      },
      "source": [
        ""
      ],
      "execution_count": null,
      "outputs": []
    },
    {
      "cell_type": "code",
      "metadata": {
        "id": "BJHZK_CjTOUq"
      },
      "source": [
        ""
      ],
      "execution_count": null,
      "outputs": []
    },
    {
      "cell_type": "markdown",
      "metadata": {
        "id": "TeZA_l5fUCks"
      },
      "source": [
        "#### Null 값 처리\n"
      ]
    },
    {
      "cell_type": "code",
      "metadata": {
        "id": "abbvoVnITo_y"
      },
      "source": [
        ""
      ],
      "execution_count": null,
      "outputs": []
    },
    {
      "cell_type": "code",
      "metadata": {
        "id": "9gf6oys8akr0"
      },
      "source": [
        ""
      ],
      "execution_count": null,
      "outputs": []
    },
    {
      "cell_type": "code",
      "metadata": {
        "id": "u9noWEenamtc"
      },
      "source": [
        ""
      ],
      "execution_count": null,
      "outputs": []
    },
    {
      "cell_type": "code",
      "metadata": {
        "id": "EMWvOC5cauNb"
      },
      "source": [
        ""
      ],
      "execution_count": null,
      "outputs": []
    },
    {
      "cell_type": "code",
      "metadata": {
        "id": "RVxZDos7azvf"
      },
      "source": [
        ""
      ],
      "execution_count": null,
      "outputs": []
    },
    {
      "cell_type": "code",
      "metadata": {
        "id": "c02BqS-Aa9W-"
      },
      "source": [
        ""
      ],
      "execution_count": null,
      "outputs": []
    },
    {
      "cell_type": "code",
      "metadata": {
        "id": "eKJY74ksbJx5"
      },
      "source": [
        ""
      ],
      "execution_count": null,
      "outputs": []
    },
    {
      "cell_type": "code",
      "metadata": {
        "id": "hdqOfZdIbMAq"
      },
      "source": [
        ""
      ],
      "execution_count": null,
      "outputs": []
    },
    {
      "cell_type": "code",
      "metadata": {
        "id": "Gk6hV9DibQsg"
      },
      "source": [
        ""
      ],
      "execution_count": null,
      "outputs": []
    },
    {
      "cell_type": "code",
      "metadata": {
        "id": "88DA4w8ubUjj"
      },
      "source": [
        ""
      ],
      "execution_count": null,
      "outputs": []
    },
    {
      "cell_type": "code",
      "metadata": {
        "id": "9F9FIW0-bYZs"
      },
      "source": [
        ""
      ],
      "execution_count": null,
      "outputs": []
    },
    {
      "cell_type": "code",
      "metadata": {
        "id": "o3elF07Nqi2E"
      },
      "source": [
        ""
      ],
      "execution_count": null,
      "outputs": []
    },
    {
      "cell_type": "code",
      "metadata": {
        "id": "w3Oe_XlsqlbP"
      },
      "source": [
        ""
      ],
      "execution_count": null,
      "outputs": []
    },
    {
      "cell_type": "code",
      "metadata": {
        "id": "KDPaKJO7qsTY"
      },
      "source": [
        ""
      ],
      "execution_count": null,
      "outputs": []
    },
    {
      "cell_type": "code",
      "metadata": {
        "id": "5kW3F5jAqvVP"
      },
      "source": [
        ""
      ],
      "execution_count": null,
      "outputs": []
    },
    {
      "cell_type": "code",
      "metadata": {
        "id": "Gmo1xb_Xriuj"
      },
      "source": [
        ""
      ],
      "execution_count": null,
      "outputs": []
    },
    {
      "cell_type": "code",
      "metadata": {
        "id": "JCXIWLKVq4rN"
      },
      "source": [
        ""
      ],
      "execution_count": null,
      "outputs": []
    },
    {
      "cell_type": "code",
      "metadata": {
        "id": "BxA3XjSarl3J"
      },
      "source": [
        ""
      ],
      "execution_count": null,
      "outputs": []
    },
    {
      "cell_type": "code",
      "metadata": {
        "id": "l0D2GjVeq8Fh"
      },
      "source": [
        ""
      ],
      "execution_count": null,
      "outputs": []
    },
    {
      "cell_type": "markdown",
      "metadata": {
        "id": "FSLpWYGEiZRR"
      },
      "source": [
        "### 중복 제거"
      ]
    },
    {
      "cell_type": "code",
      "metadata": {
        "id": "Ii7qOLQ8s1hW"
      },
      "source": [
        ""
      ],
      "execution_count": null,
      "outputs": []
    },
    {
      "cell_type": "code",
      "metadata": {
        "id": "14U6mS6fjOu9"
      },
      "source": [
        ""
      ],
      "execution_count": null,
      "outputs": []
    },
    {
      "cell_type": "code",
      "metadata": {
        "id": "iLOdlpN5jR0d"
      },
      "source": [
        ""
      ],
      "execution_count": null,
      "outputs": []
    },
    {
      "cell_type": "markdown",
      "metadata": {
        "id": "GaUfbZgwkCf-"
      },
      "source": [
        "### 값 치환"
      ]
    },
    {
      "cell_type": "code",
      "metadata": {
        "id": "VdG93-hpkE2j"
      },
      "source": [
        ""
      ],
      "execution_count": null,
      "outputs": []
    },
    {
      "cell_type": "code",
      "metadata": {
        "id": "ZRnsdEEukSf3"
      },
      "source": [
        ""
      ],
      "execution_count": null,
      "outputs": []
    },
    {
      "cell_type": "code",
      "metadata": {
        "id": "L3fSks4BkYSi"
      },
      "source": [
        ""
      ],
      "execution_count": null,
      "outputs": []
    },
    {
      "cell_type": "code",
      "metadata": {
        "id": "_wtD7XeykdLs"
      },
      "source": [
        ""
      ],
      "execution_count": null,
      "outputs": []
    },
    {
      "cell_type": "markdown",
      "metadata": {
        "id": "4sq_9jXcoFwb"
      },
      "source": [
        "## 참고문헌\n",
        "\n",
        "* Pandas 사이트: https://pandas.pydata.org/\n",
        "* Jake VanderPlas, \"Python Data Science Handbook\", O'Reilly\n",
        "* Wes Mckinney, \"Python for Data Analysis\", O'Reilly"
      ]
    }
  ]
}