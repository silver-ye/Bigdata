{
 "cells": [
  {
   "cell_type": "code",
   "execution_count": 49,
   "metadata": {},
   "outputs": [
    {
     "name": "stdout",
     "output_type": "stream",
     "text": [
      "['도움']\n"
     ]
    }
   ],
   "source": [
    "from konlpy.utils import pprint\n",
    "from konlpy.tag import Kkma\n",
    "\n",
    "kkma = Kkma()\n",
    "pprint(kkma.sentences(u'도움'))"
   ]
  },
  {
   "cell_type": "code",
   "execution_count": 26,
   "metadata": {},
   "outputs": [],
   "source": [
    "# 데이터 크롤링 ppt 137p\n",
    "word_list = [\n",
    "    '남자 남자 남자 밥밥',\n",
    "    '남자 남자',\n",
    "    '남자 남자 남자',\n",
    "    '남자 남자 남자 여자 여자',\n",
    "    '남자 남자 남자 밥밥 밥밥'\n",
    "]"
   ]
  },
  {
   "cell_type": "code",
   "execution_count": 2,
   "metadata": {},
   "outputs": [
    {
     "name": "stdout",
     "output_type": "stream",
     "text": [
      "Requirement already satisfied: sklearn in c:\\users\\admin\\anaconda3\\lib\\site-packages (0.0)\n",
      "Requirement already satisfied: scikit-learn in c:\\users\\admin\\anaconda3\\lib\\site-packages (from sklearn) (0.23.2)\n",
      "Requirement already satisfied: scipy>=0.19.1 in c:\\users\\admin\\anaconda3\\lib\\site-packages (from scikit-learn->sklearn) (1.5.2)\n",
      "Requirement already satisfied: threadpoolctl>=2.0.0 in c:\\users\\admin\\anaconda3\\lib\\site-packages (from scikit-learn->sklearn) (2.1.0)\n",
      "Requirement already satisfied: numpy>=1.13.3 in c:\\users\\admin\\anaconda3\\lib\\site-packages (from scikit-learn->sklearn) (1.19.2)\n",
      "Requirement already satisfied: joblib>=0.11 in c:\\users\\admin\\anaconda3\\lib\\site-packages (from scikit-learn->sklearn) (0.17.0)\n",
      "Note: you may need to restart the kernel to use updated packages.\n"
     ]
    }
   ],
   "source": [
    "pip install sklearn"
   ]
  },
  {
   "cell_type": "code",
   "execution_count": 27,
   "metadata": {},
   "outputs": [],
   "source": [
    "## TF-IDF벡터값을 구하는 라이브러리(TfidfVectorizer)\n",
    "from sklearn.feature_extraction.text import TfidfVectorizer"
   ]
  },
  {
   "cell_type": "code",
   "execution_count": 28,
   "metadata": {},
   "outputs": [],
   "source": [
    "tf_idf = TfidfVectorizer()"
   ]
  },
  {
   "cell_type": "code",
   "execution_count": 29,
   "metadata": {},
   "outputs": [
    {
     "data": {
      "text/plain": [
       "<5x3 sparse matrix of type '<class 'numpy.float64'>'\n",
       "\twith 8 stored elements in Compressed Sparse Row format>"
      ]
     },
     "execution_count": 29,
     "metadata": {},
     "output_type": "execute_result"
    }
   ],
   "source": [
    "tf_idf.fit_transform(word_list)"
   ]
  },
  {
   "cell_type": "code",
   "execution_count": 30,
   "metadata": {},
   "outputs": [],
   "source": [
    "## 문장의 벡터화가 진행된다.\n",
    "vector = tf_idf.fit_transform(word_list)"
   ]
  },
  {
   "cell_type": "code",
   "execution_count": 31,
   "metadata": {},
   "outputs": [
    {
     "data": {
      "text/plain": [
       "array([[0.87087416, 0.49150604, 0.        ],\n",
       "       [1.        , 0.        , 0.        ],\n",
       "       [1.        , 0.        , 0.        ],\n",
       "       [0.58149261, 0.        , 0.81355169],\n",
       "       [0.66312327, 0.7485102 , 0.        ]])"
      ]
     },
     "execution_count": 31,
     "metadata": {},
     "output_type": "execute_result"
    }
   ],
   "source": [
    "vector.A"
   ]
  },
  {
   "cell_type": "code",
   "execution_count": 41,
   "metadata": {},
   "outputs": [
    {
     "data": {
      "text/plain": [
       "array([[0.87087416, 0.49150604, 0.        ],\n",
       "       [1.        , 0.        , 0.        ],\n",
       "       [1.        , 0.        , 0.        ],\n",
       "       [0.58149261, 0.        , 0.81355169],\n",
       "       [0.66312327, 0.7485102 , 0.        ]])"
      ]
     },
     "execution_count": 41,
     "metadata": {},
     "output_type": "execute_result"
    }
   ],
   "source": [
    "# min_df는 지정한 값보다 작은 경우에 무시한다.\n",
    "tf_idf = TfidfVectorizer(min_df = 1)\n",
    "vector = tf_idf.fit_transform(word_list)\n",
    "vector.A"
   ]
  },
  {
   "cell_type": "code",
   "execution_count": 42,
   "metadata": {},
   "outputs": [
    {
     "data": {
      "text/plain": [
       "['남자', '밥밥', '여자']"
      ]
     },
     "execution_count": 42,
     "metadata": {},
     "output_type": "execute_result"
    }
   ],
   "source": [
    "## 인덱스를 확인\n",
    "tf_idf.get_feature_names()"
   ]
  },
  {
   "cell_type": "code",
   "execution_count": 34,
   "metadata": {},
   "outputs": [],
   "source": [
    "## text에서 명사만 리턴할 것임\n",
    "# 명사는 주제를 파악할 때, 사용\n",
    "# 형용사는 감정 분석할 때 사용\n",
    "def getNoun(text):\n",
    "    print('text = ', text)\n",
    "    stems = text.split(' ')\n",
    "    print('stems = ', stems)\n",
    "    print('=' * 30)\n",
    "    return stems"
   ]
  },
  {
   "cell_type": "code",
   "execution_count": 35,
   "metadata": {},
   "outputs": [],
   "source": [
    "# tokenizer은 문장을 일정한 규칙으로 나누는 과정\n",
    "tf_idf = TfidfVectorizer(tokenizer=getNoun, smooth_idf=False)"
   ]
  },
  {
   "cell_type": "code",
   "execution_count": 36,
   "metadata": {},
   "outputs": [
    {
     "name": "stdout",
     "output_type": "stream",
     "text": [
      "text =  남자 남자 남자 밥밥\n",
      "stems =  ['남자', '남자', '남자', '밥밥']\n",
      "==============================\n",
      "text =  남자 남자\n",
      "stems =  ['남자', '남자']\n",
      "==============================\n",
      "text =  남자 남자 남자\n",
      "stems =  ['남자', '남자', '남자']\n",
      "==============================\n",
      "text =  남자 남자 남자 여자 여자\n",
      "stems =  ['남자', '남자', '남자', '여자', '여자']\n",
      "==============================\n",
      "text =  남자 남자 남자 밥밥 밥밥\n",
      "stems =  ['남자', '남자', '남자', '밥밥', '밥밥']\n",
      "==============================\n"
     ]
    },
    {
     "data": {
      "text/plain": [
       "<5x3 sparse matrix of type '<class 'numpy.float64'>'\n",
       "\twith 8 stored elements in Compressed Sparse Row format>"
      ]
     },
     "execution_count": 36,
     "metadata": {},
     "output_type": "execute_result"
    }
   ],
   "source": [
    "# text에 word_list 문장이 한 개씩 들어간다.\n",
    "tf_idf.fit_transform(word_list)\n",
    "# 모든 단어가 다 리턴이 되었고 모든 tf_idf의 값이 계산되었다."
   ]
  },
  {
   "cell_type": "code",
   "execution_count": 37,
   "metadata": {},
   "outputs": [
    {
     "name": "stdout",
     "output_type": "stream",
     "text": [
      "text =  남자 남자 남자 밥밥\n",
      "stems =  ['남자', '남자', '남자', '밥밥']\n",
      "==============================\n",
      "text =  남자 남자\n",
      "stems =  ['남자', '남자']\n",
      "==============================\n",
      "text =  남자 남자 남자\n",
      "stems =  ['남자', '남자', '남자']\n",
      "==============================\n",
      "text =  남자 남자 남자 여자 여자\n",
      "stems =  ['남자', '남자', '남자', '여자', '여자']\n",
      "==============================\n",
      "text =  남자 남자 남자 밥밥 밥밥\n",
      "stems =  ['남자', '남자', '남자', '밥밥', '밥밥']\n",
      "==============================\n"
     ]
    }
   ],
   "source": [
    "vector = tf_idf.fit_transform(word_list)"
   ]
  },
  {
   "cell_type": "code",
   "execution_count": 38,
   "metadata": {},
   "outputs": [
    {
     "data": {
      "text/plain": [
       "<5x3 sparse matrix of type '<class 'numpy.float64'>'\n",
       "\twith 8 stored elements in Compressed Sparse Row format>"
      ]
     },
     "execution_count": 38,
     "metadata": {},
     "output_type": "execute_result"
    }
   ],
   "source": [
    "vector"
   ]
  },
  {
   "cell_type": "code",
   "execution_count": 39,
   "metadata": {},
   "outputs": [
    {
     "data": {
      "text/plain": [
       "array([[0.84274417, 0.53831428, 0.        ],\n",
       "       [1.        , 0.        , 0.        ],\n",
       "       [1.        , 0.        , 0.        ],\n",
       "       [0.49836455, 0.        , 0.86696757],\n",
       "       [0.61638324, 0.78744632, 0.        ]])"
      ]
     },
     "execution_count": 39,
     "metadata": {},
     "output_type": "execute_result"
    }
   ],
   "source": [
    "## 결과를 보기\n",
    "vector.A"
   ]
  },
  {
   "cell_type": "code",
   "execution_count": 40,
   "metadata": {},
   "outputs": [
    {
     "data": {
      "text/plain": [
       "['남자', '밥밥', '여자']"
      ]
     },
     "execution_count": 40,
     "metadata": {},
     "output_type": "execute_result"
    }
   ],
   "source": [
    "tf_idf.get_feature_names()"
   ]
  },
  {
   "cell_type": "code",
   "execution_count": null,
   "metadata": {},
   "outputs": [],
   "source": []
  }
 ],
 "metadata": {
  "kernelspec": {
   "display_name": "Python 3",
   "language": "python",
   "name": "python3"
  },
  "language_info": {
   "codemirror_mode": {
    "name": "ipython",
    "version": 3
   },
   "file_extension": ".py",
   "mimetype": "text/x-python",
   "name": "python",
   "nbconvert_exporter": "python",
   "pygments_lexer": "ipython3",
   "version": "3.8.5"
  }
 },
 "nbformat": 4,
 "nbformat_minor": 4
}
