{
 "cells": [
  {
   "cell_type": "markdown",
   "metadata": {},
   "source": [
    "### 딥-러닝 과정 Mulit Layer Perceptron(MLP) "
   ]
  },
  {
   "cell_type": "markdown",
   "metadata": {},
   "source": [
    "## Simple Keras 모델 생성/학습 - XOR Function"
   ]
  },
  {
   "cell_type": "code",
   "execution_count": 1,
   "metadata": {},
   "outputs": [],
   "source": [
    "# 1. Numpy 가져오기\n",
    "\n",
    "import numpy as np"
   ]
  },
  {
   "cell_type": "code",
   "execution_count": 2,
   "metadata": {},
   "outputs": [
    {
     "name": "stdout",
     "output_type": "stream",
     "text": [
      "[[0 0]\n",
      " [0 1]\n",
      " [1 0]\n",
      " [1 1]]\n",
      "[[0]\n",
      " [1]\n",
      " [1]\n",
      " [0]]\n"
     ]
    }
   ],
   "source": [
    "# 2. 입력/출력 데이터 만들기\n",
    "\n",
    "X = np.array([[0,0], [0,1], [1,0], [1,1]])\n",
    "y = np.array([[0], [1], [1], [0]])\n",
    "\n",
    "print(X)\n",
    "print(y)"
   ]
  },
  {
   "cell_type": "code",
   "execution_count": 3,
   "metadata": {},
   "outputs": [],
   "source": [
    "# 3. Keras 패키지 가져오기\n",
    "\n",
    "from tensorflow import keras\n",
    "from tensorflow.keras import layers\n",
    "from keras.layers import Dense, Activation"
   ]
  },
  {
   "cell_type": "code",
   "execution_count": 21,
   "metadata": {},
   "outputs": [
    {
     "name": "stdout",
     "output_type": "stream",
     "text": [
      "Model: \"sequential_4\"\n",
      "_________________________________________________________________\n",
      "Layer (type)                 Output Shape              Param #   \n",
      "=================================================================\n",
      "dense_8 (Dense)              (None, 8)                 24        \n",
      "_________________________________________________________________\n",
      "activation_8 (Activation)    (None, 8)                 0         \n",
      "_________________________________________________________________\n",
      "dense_9 (Dense)              (None, 1)                 9         \n",
      "_________________________________________________________________\n",
      "activation_9 (Activation)    (None, 1)                 0         \n",
      "=================================================================\n",
      "Total params: 33\n",
      "Trainable params: 33\n",
      "Non-trainable params: 0\n",
      "_________________________________________________________________\n"
     ]
    }
   ],
   "source": [
    "# 4. MLP 모델 생성\n",
    "\n",
    "model =  keras.Sequential()\n",
    "# input은 2개니깐 2개 적어주기. units의 노드 개수를 확 늘려주면 안정적이게 된다.\n",
    "model.add(Dense(input_dim=2, units=8))\n",
    "model.add(Activation('relu'))\n",
    "# 만약에 층을 여러개쌓는다면 최대한 단순하게 하는 것이 좋다. units는 낮을수록 좋긴한데 결과가 안나오면 올리는데 2의 배수로 올리는게 좋다.\n",
    "model.add(Dense(units=1))\n",
    "model.add(Activation('sigmoid'))\n",
    "\n",
    "model.summary()"
   ]
  },
  {
   "cell_type": "code",
   "execution_count": 22,
   "metadata": {},
   "outputs": [],
   "source": [
    "# 5. Compile - Optimizer, Loss function 설정\n",
    "# sgd = keras.optimizers.SGD(lr=0.1)\n",
    "# model.compile(loss='binary_crossentropy', optimizer=sgd)\n",
    "adam = keras.optimizers.Adam(lr=0.07)\n",
    "model.compile(loss='binary_crossentropy', optimizer=adam)"
   ]
  },
  {
   "cell_type": "code",
   "execution_count": 23,
   "metadata": {},
   "outputs": [
    {
     "name": "stdout",
     "output_type": "stream",
     "text": [
      "Epoch 1/100\n",
      "4/4 [==============================] - 0s 2ms/step - loss: 0.7589\n",
      "Epoch 2/100\n",
      "4/4 [==============================] - 0s 825us/step - loss: 0.6785\n",
      "Epoch 3/100\n",
      "4/4 [==============================] - 0s 871us/step - loss: 0.6503\n",
      "Epoch 4/100\n",
      "4/4 [==============================] - 0s 1ms/step - loss: 0.5991\n",
      "Epoch 5/100\n",
      "4/4 [==============================] - 0s 864us/step - loss: 0.5755\n",
      "Epoch 6/100\n",
      "4/4 [==============================] - 0s 932us/step - loss: 0.5114\n",
      "Epoch 7/100\n",
      "4/4 [==============================] - 0s 966us/step - loss: 0.4877\n",
      "Epoch 8/100\n",
      "4/4 [==============================] - 0s 864us/step - loss: 0.4782\n",
      "Epoch 9/100\n",
      "4/4 [==============================] - 0s 817us/step - loss: 0.4173\n",
      "Epoch 10/100\n",
      "4/4 [==============================] - 0s 947us/step - loss: 0.4417\n",
      "Epoch 11/100\n",
      "4/4 [==============================] - 0s 879us/step - loss: 0.2975\n",
      "Epoch 12/100\n",
      "4/4 [==============================] - 0s 952us/step - loss: 0.3434\n",
      "Epoch 13/100\n",
      "4/4 [==============================] - 0s 884us/step - loss: 0.2367\n",
      "Epoch 14/100\n",
      "4/4 [==============================] - 0s 912us/step - loss: 0.1785\n",
      "Epoch 15/100\n",
      "4/4 [==============================] - 0s 885us/step - loss: 0.1667\n",
      "Epoch 16/100\n",
      "4/4 [==============================] - 0s 889us/step - loss: 0.2664\n",
      "Epoch 17/100\n",
      "4/4 [==============================] - 0s 887us/step - loss: 0.1599\n",
      "Epoch 18/100\n",
      "4/4 [==============================] - 0s 927us/step - loss: 0.1146\n",
      "Epoch 19/100\n",
      "4/4 [==============================] - 0s 982us/step - loss: 0.1220\n",
      "Epoch 20/100\n",
      "4/4 [==============================] - 0s 879us/step - loss: 0.0627\n",
      "Epoch 21/100\n",
      "4/4 [==============================] - 0s 838us/step - loss: 0.0715\n",
      "Epoch 22/100\n",
      "4/4 [==============================] - 0s 862us/step - loss: 0.0705\n",
      "Epoch 23/100\n",
      "4/4 [==============================] - 0s 932us/step - loss: 0.0605\n",
      "Epoch 24/100\n",
      "4/4 [==============================] - 0s 900us/step - loss: 0.0524\n",
      "Epoch 25/100\n",
      "4/4 [==============================] - 0s 899us/step - loss: 0.0369\n",
      "Epoch 26/100\n",
      "4/4 [==============================] - 0s 1ms/step - loss: 0.0312\n",
      "Epoch 27/100\n",
      "4/4 [==============================] - 0s 914us/step - loss: 0.0300\n",
      "Epoch 28/100\n",
      "4/4 [==============================] - 0s 857us/step - loss: 0.0243\n",
      "Epoch 29/100\n",
      "4/4 [==============================] - 0s 1ms/step - loss: 0.0407\n",
      "Epoch 30/100\n",
      "4/4 [==============================] - 0s 869us/step - loss: 0.0187\n",
      "Epoch 31/100\n",
      "4/4 [==============================] - 0s 913us/step - loss: 0.0154\n",
      "Epoch 32/100\n",
      "4/4 [==============================] - 0s 1ms/step - loss: 0.0273\n",
      "Epoch 33/100\n",
      "4/4 [==============================] - 0s 860us/step - loss: 0.0254\n",
      "Epoch 34/100\n",
      "4/4 [==============================] - 0s 932us/step - loss: 0.0155\n",
      "Epoch 35/100\n",
      "4/4 [==============================] - 0s 912us/step - loss: 0.0154\n",
      "Epoch 36/100\n",
      "4/4 [==============================] - 0s 982us/step - loss: 0.0157\n",
      "Epoch 37/100\n",
      "4/4 [==============================] - 0s 1ms/step - loss: 0.0143\n",
      "Epoch 38/100\n",
      "4/4 [==============================] - 0s 961us/step - loss: 0.0114\n",
      "Epoch 39/100\n",
      "4/4 [==============================] - 0s 994us/step - loss: 0.0151\n",
      "Epoch 40/100\n",
      "4/4 [==============================] - 0s 929us/step - loss: 0.0135\n",
      "Epoch 41/100\n",
      "4/4 [==============================] - 0s 920us/step - loss: 0.0131\n",
      "Epoch 42/100\n",
      "4/4 [==============================] - 0s 930us/step - loss: 0.0093\n",
      "Epoch 43/100\n",
      "4/4 [==============================] - 0s 940us/step - loss: 0.0083\n",
      "Epoch 44/100\n",
      "4/4 [==============================] - 0s 901us/step - loss: 0.0067\n",
      "Epoch 45/100\n",
      "4/4 [==============================] - 0s 892us/step - loss: 0.0106\n",
      "Epoch 46/100\n",
      "4/4 [==============================] - 0s 904us/step - loss: 0.0068\n",
      "Epoch 47/100\n",
      "4/4 [==============================] - ETA: 0s - loss: 0.004 - 0s 831us/step - loss: 0.0053\n",
      "Epoch 48/100\n",
      "4/4 [==============================] - 0s 1ms/step - loss: 0.0066\n",
      "Epoch 49/100\n",
      "4/4 [==============================] - 0s 835us/step - loss: 0.0067\n",
      "Epoch 50/100\n",
      "4/4 [==============================] - 0s 980us/step - loss: 0.0052\n",
      "Epoch 51/100\n",
      "4/4 [==============================] - 0s 960us/step - loss: 0.0078\n",
      "Epoch 52/100\n",
      "4/4 [==============================] - 0s 968us/step - loss: 0.0061\n",
      "Epoch 53/100\n",
      "4/4 [==============================] - 0s 957us/step - loss: 0.0045\n",
      "Epoch 54/100\n",
      "4/4 [==============================] - 0s 929us/step - loss: 0.0070\n",
      "Epoch 55/100\n",
      "4/4 [==============================] - 0s 926us/step - loss: 0.0064\n",
      "Epoch 56/100\n",
      "4/4 [==============================] - 0s 920us/step - loss: 0.0045\n",
      "Epoch 57/100\n",
      "4/4 [==============================] - 0s 932us/step - loss: 0.0059\n",
      "Epoch 58/100\n",
      "4/4 [==============================] - 0s 1ms/step - loss: 0.0039\n",
      "Epoch 59/100\n",
      "4/4 [==============================] - 0s 904us/step - loss: 0.0037\n",
      "Epoch 60/100\n",
      "4/4 [==============================] - 0s 928us/step - loss: 0.0055\n",
      "Epoch 61/100\n",
      "4/4 [==============================] - 0s 852us/step - loss: 0.0034\n",
      "Epoch 62/100\n",
      "4/4 [==============================] - 0s 999us/step - loss: 0.0033\n",
      "Epoch 63/100\n",
      "4/4 [==============================] - 0s 1ms/step - loss: 0.0038\n",
      "Epoch 64/100\n",
      "4/4 [==============================] - 0s 918us/step - loss: 0.0039\n",
      "Epoch 65/100\n",
      "4/4 [==============================] - 0s 990us/step - loss: 0.0044\n",
      "Epoch 66/100\n",
      "4/4 [==============================] - 0s 927us/step - loss: 0.0037\n",
      "Epoch 67/100\n",
      "4/4 [==============================] - 0s 967us/step - loss: 0.0042\n",
      "Epoch 68/100\n",
      "4/4 [==============================] - 0s 1ms/step - loss: 0.0028\n",
      "Epoch 69/100\n",
      "4/4 [==============================] - 0s 999us/step - loss: 0.0029\n",
      "Epoch 70/100\n",
      "4/4 [==============================] - 0s 849us/step - loss: 0.0028\n",
      "Epoch 71/100\n",
      "4/4 [==============================] - 0s 864us/step - loss: 0.0038\n",
      "Epoch 72/100\n",
      "4/4 [==============================] - 0s 877us/step - loss: 0.0024\n",
      "Epoch 73/100\n",
      "4/4 [==============================] - 0s 832us/step - loss: 0.0035\n",
      "Epoch 74/100\n",
      "4/4 [==============================] - 0s 874us/step - loss: 0.0024\n",
      "Epoch 75/100\n",
      "4/4 [==============================] - 0s 877us/step - loss: 0.0033\n",
      "Epoch 76/100\n",
      "4/4 [==============================] - 0s 885us/step - loss: 0.0025\n",
      "Epoch 77/100\n",
      "4/4 [==============================] - 0s 870us/step - loss: 0.0027\n",
      "Epoch 78/100\n",
      "4/4 [==============================] - 0s 953us/step - loss: 0.0020\n",
      "Epoch 79/100\n",
      "4/4 [==============================] - 0s 1ms/step - loss: 0.0026\n",
      "Epoch 80/100\n",
      "4/4 [==============================] - 0s 934us/step - loss: 0.0024\n",
      "Epoch 81/100\n",
      "4/4 [==============================] - 0s 902us/step - loss: 0.0029\n",
      "Epoch 82/100\n",
      "4/4 [==============================] - 0s 859us/step - loss: 0.0021\n",
      "Epoch 83/100\n",
      "4/4 [==============================] - 0s 820us/step - loss: 0.0022\n",
      "Epoch 84/100\n",
      "4/4 [==============================] - 0s 882us/step - loss: 0.0018\n",
      "Epoch 85/100\n",
      "4/4 [==============================] - 0s 892us/step - loss: 0.0020\n",
      "Epoch 86/100\n",
      "4/4 [==============================] - 0s 971us/step - loss: 0.0022\n",
      "Epoch 87/100\n",
      "4/4 [==============================] - 0s 865us/step - loss: 0.0020\n",
      "Epoch 88/100\n",
      "4/4 [==============================] - 0s 875us/step - loss: 0.0018\n",
      "Epoch 89/100\n",
      "4/4 [==============================] - 0s 850us/step - loss: 0.0024\n",
      "Epoch 90/100\n",
      "4/4 [==============================] - 0s 895us/step - loss: 0.0016\n",
      "Epoch 91/100\n",
      "4/4 [==============================] - 0s 1ms/step - loss: 0.0019\n",
      "Epoch 92/100\n",
      "4/4 [==============================] - 0s 906us/step - loss: 0.0017\n",
      "Epoch 93/100\n",
      "4/4 [==============================] - 0s 1ms/step - loss: 0.0017\n",
      "Epoch 94/100\n",
      "4/4 [==============================] - 0s 871us/step - loss: 0.0014\n",
      "Epoch 95/100\n",
      "4/4 [==============================] - 0s 872us/step - loss: 0.0017\n",
      "Epoch 96/100\n",
      "4/4 [==============================] - 0s 885us/step - loss: 0.0014\n",
      "Epoch 97/100\n",
      "4/4 [==============================] - 0s 872us/step - loss: 0.0013\n",
      "Epoch 98/100\n",
      "4/4 [==============================] - 0s 888us/step - loss: 0.0020\n",
      "Epoch 99/100\n",
      "4/4 [==============================] - 0s 891us/step - loss: 0.0019\n",
      "Epoch 100/100\n",
      "4/4 [==============================] - 0s 928us/step - loss: 0.0018\n"
     ]
    },
    {
     "data": {
      "text/plain": [
       "<tensorflow.python.keras.callbacks.History at 0x7f558c0631f0>"
      ]
     },
     "execution_count": 23,
     "metadata": {},
     "output_type": "execute_result"
    }
   ],
   "source": [
    "# 6. 학습시키기\n",
    "model.fit(X, y, batch_size=1, epochs=100)"
   ]
  },
  {
   "cell_type": "code",
   "execution_count": 24,
   "metadata": {},
   "outputs": [
    {
     "name": "stdout",
     "output_type": "stream",
     "text": [
      "WARNING:tensorflow:5 out of the last 9 calls to <function Model.make_predict_function.<locals>.predict_function at 0x7f558c04bf70> triggered tf.function retracing. Tracing is expensive and the excessive number of tracings could be due to (1) creating @tf.function repeatedly in a loop, (2) passing tensors with different shapes, (3) passing Python objects instead of tensors. For (1), please define your @tf.function outside of the loop. For (2), @tf.function has experimental_relax_shapes=True option that relaxes argument shapes that can avoid unnecessary retracing. For (3), please refer to https://www.tensorflow.org/guide/function#controlling_retracing and https://www.tensorflow.org/api_docs/python/tf/function for  more details.\n",
      "[[2.6352704e-03]\n",
      " [9.9892867e-01]\n",
      " [9.4211102e-04]]\n",
      "[[0]\n",
      " [1]\n",
      " [0]]\n"
     ]
    }
   ],
   "source": [
    "# 7. 모델 테스트하기 \n",
    "test_data = np.array([[0,0], [1,0], [1,1]]) # [0, 1, 0]\n",
    "\n",
    "print(model.predict(test_data))\n",
    "print(model.predict_classes(test_data))"
   ]
  },
  {
   "cell_type": "code",
   "execution_count": null,
   "metadata": {},
   "outputs": [],
   "source": []
  },
  {
   "cell_type": "code",
   "execution_count": null,
   "metadata": {},
   "outputs": [],
   "source": []
  }
 ],
 "metadata": {
  "kernelspec": {
   "display_name": "py38_tensorflow",
   "language": "python",
   "name": "conda-env-py38_tensorflow-py"
  },
  "language_info": {
   "codemirror_mode": {
    "name": "ipython",
    "version": 3
   },
   "file_extension": ".py",
   "mimetype": "text/x-python",
   "name": "python",
   "nbconvert_exporter": "python",
   "pygments_lexer": "ipython3",
   "version": "3.8.8"
  }
 },
 "nbformat": 4,
 "nbformat_minor": 2
}
