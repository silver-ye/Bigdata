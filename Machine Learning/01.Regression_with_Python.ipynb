{
 "cells": [
  {
   "cell_type": "markdown",
   "metadata": {},
   "source": [
    "## Machine Leaning 실습"
   ]
  },
  {
   "cell_type": "markdown",
   "metadata": {},
   "source": [
    "### Regression With Python"
   ]
  },
  {
   "cell_type": "code",
   "execution_count": 1,
   "metadata": {},
   "outputs": [],
   "source": [
    "# 자동완성기능\n",
    "%config Completer.use_jedi = False"
   ]
  },
  {
   "cell_type": "code",
   "execution_count": 2,
   "metadata": {
    "colab": {
     "base_uri": "https://localhost:8080/",
     "height": 51
    },
    "id": "f03rAXEehsAe",
    "outputId": "ebd33e96-166e-450a-d810-d6f502f153c2"
   },
   "outputs": [],
   "source": [
    "# 1. 패키지 호출\n",
    "import numpy as np\n",
    "import pandas as pd\n"
   ]
  },
  {
   "cell_type": "code",
   "execution_count": 3,
   "metadata": {
    "colab": {
     "base_uri": "https://localhost:8080/",
     "height": 204
    },
    "id": "oh5MYl6OhsAm",
    "outputId": "e87c6d4e-92de-45c3-d9cb-0979cd8fc2f0"
   },
   "outputs": [],
   "source": [
    "# 2. 데이터 with pandas DataFrame\n",
    "df = pd.read_csv('./01SR_Data.csv')"
   ]
  },
  {
   "cell_type": "code",
   "execution_count": 4,
   "metadata": {
    "colab": {
     "base_uri": "https://localhost:8080/",
     "height": 204
    },
    "id": "fgcSd2nmhsAs",
    "outputId": "1e2ca856-5329-47f2-93dc-91521e9f8b1a"
   },
   "outputs": [
    {
     "data": {
      "text/html": [
       "<div>\n",
       "<style scoped>\n",
       "    .dataframe tbody tr th:only-of-type {\n",
       "        vertical-align: middle;\n",
       "    }\n",
       "\n",
       "    .dataframe tbody tr th {\n",
       "        vertical-align: top;\n",
       "    }\n",
       "\n",
       "    .dataframe thead th {\n",
       "        text-align: right;\n",
       "    }\n",
       "</style>\n",
       "<table border=\"1\" class=\"dataframe\">\n",
       "  <thead>\n",
       "    <tr style=\"text-align: right;\">\n",
       "      <th></th>\n",
       "      <th>Country</th>\n",
       "      <th>Age</th>\n",
       "      <th>Year</th>\n",
       "      <th>Salary</th>\n",
       "    </tr>\n",
       "  </thead>\n",
       "  <tbody>\n",
       "    <tr>\n",
       "      <th>0</th>\n",
       "      <td>Spain</td>\n",
       "      <td>27.0</td>\n",
       "      <td>3.0</td>\n",
       "      <td>48000</td>\n",
       "    </tr>\n",
       "    <tr>\n",
       "      <th>1</th>\n",
       "      <td>Spain</td>\n",
       "      <td>NaN</td>\n",
       "      <td>6.0</td>\n",
       "      <td>52000</td>\n",
       "    </tr>\n",
       "    <tr>\n",
       "      <th>2</th>\n",
       "      <td>Germany</td>\n",
       "      <td>30.0</td>\n",
       "      <td>2.0</td>\n",
       "      <td>54000</td>\n",
       "    </tr>\n",
       "  </tbody>\n",
       "</table>\n",
       "</div>"
      ],
      "text/plain": [
       "   Country   Age  Year  Salary\n",
       "0    Spain  27.0   3.0   48000\n",
       "1    Spain   NaN   6.0   52000\n",
       "2  Germany  30.0   2.0   54000"
      ]
     },
     "execution_count": 4,
     "metadata": {},
     "output_type": "execute_result"
    }
   ],
   "source": [
    "# 3-1. 데이터 살펴보기\n",
    "df.head(3)"
   ]
  },
  {
   "cell_type": "code",
   "execution_count": 5,
   "metadata": {
    "colab": {
     "base_uri": "https://localhost:8080/",
     "height": 204
    },
    "id": "GQsvXjc1hsA5",
    "outputId": "7b8779e1-cc35-421a-ed0a-e1900f2c061f"
   },
   "outputs": [
    {
     "name": "stdout",
     "output_type": "stream",
     "text": [
      "<class 'pandas.core.frame.DataFrame'>\n",
      "RangeIndex: 10 entries, 0 to 9\n",
      "Data columns (total 4 columns):\n",
      " #   Column   Non-Null Count  Dtype  \n",
      "---  ------   --------------  -----  \n",
      " 0   Country  10 non-null     object \n",
      " 1   Age      9 non-null      float64\n",
      " 2   Year     7 non-null      float64\n",
      " 3   Salary   10 non-null     int64  \n",
      "dtypes: float64(2), int64(1), object(1)\n",
      "memory usage: 448.0+ bytes\n"
     ]
    }
   ],
   "source": [
    "# 4-2. 데이터 정보확인\n",
    "# 문자열은 object라고 나온다.\n",
    "df.info()"
   ]
  },
  {
   "cell_type": "code",
   "execution_count": 6,
   "metadata": {
    "colab": {
     "base_uri": "https://localhost:8080/",
     "height": 390
    },
    "id": "mXYHvswehsA-",
    "outputId": "d585f605-eaf7-452c-fbbc-a6deb345168d"
   },
   "outputs": [
    {
     "data": {
      "text/html": [
       "<div>\n",
       "<style scoped>\n",
       "    .dataframe tbody tr th:only-of-type {\n",
       "        vertical-align: middle;\n",
       "    }\n",
       "\n",
       "    .dataframe tbody tr th {\n",
       "        vertical-align: top;\n",
       "    }\n",
       "\n",
       "    .dataframe thead th {\n",
       "        text-align: right;\n",
       "    }\n",
       "</style>\n",
       "<table border=\"1\" class=\"dataframe\">\n",
       "  <thead>\n",
       "    <tr style=\"text-align: right;\">\n",
       "      <th></th>\n",
       "      <th>Country</th>\n",
       "      <th>Age</th>\n",
       "      <th>Year</th>\n",
       "      <th>Salary</th>\n",
       "    </tr>\n",
       "  </thead>\n",
       "  <tbody>\n",
       "    <tr>\n",
       "      <th>count</th>\n",
       "      <td>10</td>\n",
       "      <td>9.000000</td>\n",
       "      <td>7.000000</td>\n",
       "      <td>10.000000</td>\n",
       "    </tr>\n",
       "    <tr>\n",
       "      <th>unique</th>\n",
       "      <td>3</td>\n",
       "      <td>NaN</td>\n",
       "      <td>NaN</td>\n",
       "      <td>NaN</td>\n",
       "    </tr>\n",
       "    <tr>\n",
       "      <th>top</th>\n",
       "      <td>France</td>\n",
       "      <td>NaN</td>\n",
       "      <td>NaN</td>\n",
       "      <td>NaN</td>\n",
       "    </tr>\n",
       "    <tr>\n",
       "      <th>freq</th>\n",
       "      <td>4</td>\n",
       "      <td>NaN</td>\n",
       "      <td>NaN</td>\n",
       "      <td>NaN</td>\n",
       "    </tr>\n",
       "    <tr>\n",
       "      <th>mean</th>\n",
       "      <td>NaN</td>\n",
       "      <td>38.777778</td>\n",
       "      <td>9.142857</td>\n",
       "      <td>63500.000000</td>\n",
       "    </tr>\n",
       "    <tr>\n",
       "      <th>std</th>\n",
       "      <td>NaN</td>\n",
       "      <td>7.693793</td>\n",
       "      <td>6.817345</td>\n",
       "      <td>11597.413505</td>\n",
       "    </tr>\n",
       "    <tr>\n",
       "      <th>min</th>\n",
       "      <td>NaN</td>\n",
       "      <td>27.000000</td>\n",
       "      <td>2.000000</td>\n",
       "      <td>48000.000000</td>\n",
       "    </tr>\n",
       "    <tr>\n",
       "      <th>25%</th>\n",
       "      <td>NaN</td>\n",
       "      <td>35.000000</td>\n",
       "      <td>4.500000</td>\n",
       "      <td>55000.000000</td>\n",
       "    </tr>\n",
       "    <tr>\n",
       "      <th>50%</th>\n",
       "      <td>NaN</td>\n",
       "      <td>38.000000</td>\n",
       "      <td>7.000000</td>\n",
       "      <td>61000.000000</td>\n",
       "    </tr>\n",
       "    <tr>\n",
       "      <th>75%</th>\n",
       "      <td>NaN</td>\n",
       "      <td>44.000000</td>\n",
       "      <td>12.500000</td>\n",
       "      <td>70750.000000</td>\n",
       "    </tr>\n",
       "    <tr>\n",
       "      <th>max</th>\n",
       "      <td>NaN</td>\n",
       "      <td>50.000000</td>\n",
       "      <td>21.000000</td>\n",
       "      <td>83000.000000</td>\n",
       "    </tr>\n",
       "  </tbody>\n",
       "</table>\n",
       "</div>"
      ],
      "text/plain": [
       "       Country        Age       Year        Salary\n",
       "count       10   9.000000   7.000000     10.000000\n",
       "unique       3        NaN        NaN           NaN\n",
       "top     France        NaN        NaN           NaN\n",
       "freq         4        NaN        NaN           NaN\n",
       "mean       NaN  38.777778   9.142857  63500.000000\n",
       "std        NaN   7.693793   6.817345  11597.413505\n",
       "min        NaN  27.000000   2.000000  48000.000000\n",
       "25%        NaN  35.000000   4.500000  55000.000000\n",
       "50%        NaN  38.000000   7.000000  61000.000000\n",
       "75%        NaN  44.000000  12.500000  70750.000000\n",
       "max        NaN  50.000000  21.000000  83000.000000"
      ]
     },
     "execution_count": 6,
     "metadata": {},
     "output_type": "execute_result"
    }
   ],
   "source": [
    "# 3-3. 데이터 설명보기\n",
    "# include = 'all'로 전체 확인이 가능하다.\n",
    "df.describe(include = 'all')"
   ]
  },
  {
   "cell_type": "code",
   "execution_count": 7,
   "metadata": {
    "colab": {
     "base_uri": "https://localhost:8080/",
     "height": 391
    },
    "id": "W0ThVRw7hsBF",
    "outputId": "11469773-09b5-4a09-ccc7-979e14a76ddc"
   },
   "outputs": [
    {
     "data": {
      "text/html": [
       "<div>\n",
       "<style scoped>\n",
       "    .dataframe tbody tr th:only-of-type {\n",
       "        vertical-align: middle;\n",
       "    }\n",
       "\n",
       "    .dataframe tbody tr th {\n",
       "        vertical-align: top;\n",
       "    }\n",
       "\n",
       "    .dataframe thead th {\n",
       "        text-align: right;\n",
       "    }\n",
       "</style>\n",
       "<table border=\"1\" class=\"dataframe\">\n",
       "  <thead>\n",
       "    <tr style=\"text-align: right;\">\n",
       "      <th></th>\n",
       "      <th>Country</th>\n",
       "      <th>Age</th>\n",
       "      <th>Year</th>\n",
       "    </tr>\n",
       "  </thead>\n",
       "  <tbody>\n",
       "    <tr>\n",
       "      <th>0</th>\n",
       "      <td>Spain</td>\n",
       "      <td>27.0</td>\n",
       "      <td>3.0</td>\n",
       "    </tr>\n",
       "    <tr>\n",
       "      <th>1</th>\n",
       "      <td>Spain</td>\n",
       "      <td>NaN</td>\n",
       "      <td>6.0</td>\n",
       "    </tr>\n",
       "    <tr>\n",
       "      <th>2</th>\n",
       "      <td>Germany</td>\n",
       "      <td>30.0</td>\n",
       "      <td>2.0</td>\n",
       "    </tr>\n",
       "    <tr>\n",
       "      <th>3</th>\n",
       "      <td>France</td>\n",
       "      <td>35.0</td>\n",
       "      <td>NaN</td>\n",
       "    </tr>\n",
       "    <tr>\n",
       "      <th>4</th>\n",
       "      <td>Spain</td>\n",
       "      <td>38.0</td>\n",
       "      <td>NaN</td>\n",
       "    </tr>\n",
       "  </tbody>\n",
       "</table>\n",
       "</div>"
      ],
      "text/plain": [
       "   Country   Age  Year\n",
       "0    Spain  27.0   3.0\n",
       "1    Spain   NaN   6.0\n",
       "2  Germany  30.0   2.0\n",
       "3   France  35.0   NaN\n",
       "4    Spain  38.0   NaN"
      ]
     },
     "execution_count": 7,
     "metadata": {},
     "output_type": "execute_result"
    }
   ],
   "source": [
    "# 4. feature/label 나누기\n",
    "feature = df.iloc[:,:-1]\n",
    "label = df.iloc[:,-1]\n",
    "feature.head()"
   ]
  },
  {
   "cell_type": "code",
   "execution_count": 8,
   "metadata": {
    "colab": {
     "base_uri": "https://localhost:8080/",
     "height": 85
    },
    "id": "jddvRWfUhsBI",
    "outputId": "8441502d-a91f-4457-f1f8-7d2e06f2e08a"
   },
   "outputs": [],
   "source": [
    "# 5. 비어있는 값 채우기(mean) 나의 방식\n",
    "# feature.isnull().sum()\n",
    "# feature['Age'].fillna(feature['Age'].mean, inplace = True)\n",
    "# feature['Age'].isnull().sum()\n",
    "# feature['Year'].fillna(feature['Year'].mean, inplace = True)\n",
    "# feature['Year'].isnull().sum()\n",
    "# feature.isnull().sum()"
   ]
  },
  {
   "cell_type": "code",
   "execution_count": 9,
   "metadata": {},
   "outputs": [
    {
     "data": {
      "text/plain": [
       "Country    0\n",
       "Age        0\n",
       "Year       0\n",
       "dtype: int64"
      ]
     },
     "execution_count": 9,
     "metadata": {},
     "output_type": "execute_result"
    }
   ],
   "source": [
    "# 5-1. 비어있는 값 채우기(mean) 강사님\n",
    "from sklearn.impute import SimpleImputer\n",
    "\n",
    "## uodate, caculation\n",
    "# 빠진 값을 평균으로 넣어주는 mean_imputer를 생성\n",
    "mean_imputer = SimpleImputer(strategy = 'mean')\n",
    "\n",
    "## 데이터 변환\n",
    "# 넣어줄 데이터를 보여주어야 하므로 fit을 사용\n",
    "# mean으로 할 값을 지정해주기(행은 모두 선택하고 설정해주기)\n",
    "mean_imputer.fit(feature.iloc[:, 1:])\n",
    "feature.iloc[:,1:] = mean_imputer.transform(feature.iloc[:, 1:])\n",
    "feature.isnull().sum()"
   ]
  },
  {
   "cell_type": "code",
   "execution_count": 10,
   "metadata": {},
   "outputs": [
    {
     "data": {
      "text/html": [
       "<div>\n",
       "<style scoped>\n",
       "    .dataframe tbody tr th:only-of-type {\n",
       "        vertical-align: middle;\n",
       "    }\n",
       "\n",
       "    .dataframe tbody tr th {\n",
       "        vertical-align: top;\n",
       "    }\n",
       "\n",
       "    .dataframe thead th {\n",
       "        text-align: right;\n",
       "    }\n",
       "</style>\n",
       "<table border=\"1\" class=\"dataframe\">\n",
       "  <thead>\n",
       "    <tr style=\"text-align: right;\">\n",
       "      <th></th>\n",
       "      <th>Age</th>\n",
       "      <th>Year</th>\n",
       "    </tr>\n",
       "  </thead>\n",
       "  <tbody>\n",
       "    <tr>\n",
       "      <th>count</th>\n",
       "      <td>10.000000</td>\n",
       "      <td>10.000000</td>\n",
       "    </tr>\n",
       "    <tr>\n",
       "      <th>mean</th>\n",
       "      <td>38.777778</td>\n",
       "      <td>9.142857</td>\n",
       "    </tr>\n",
       "    <tr>\n",
       "      <th>std</th>\n",
       "      <td>7.253777</td>\n",
       "      <td>5.566339</td>\n",
       "    </tr>\n",
       "    <tr>\n",
       "      <th>min</th>\n",
       "      <td>27.000000</td>\n",
       "      <td>2.000000</td>\n",
       "    </tr>\n",
       "    <tr>\n",
       "      <th>25%</th>\n",
       "      <td>35.500000</td>\n",
       "      <td>6.250000</td>\n",
       "    </tr>\n",
       "    <tr>\n",
       "      <th>50%</th>\n",
       "      <td>38.388889</td>\n",
       "      <td>9.142857</td>\n",
       "    </tr>\n",
       "    <tr>\n",
       "      <th>75%</th>\n",
       "      <td>43.000000</td>\n",
       "      <td>9.785714</td>\n",
       "    </tr>\n",
       "    <tr>\n",
       "      <th>max</th>\n",
       "      <td>50.000000</td>\n",
       "      <td>21.000000</td>\n",
       "    </tr>\n",
       "  </tbody>\n",
       "</table>\n",
       "</div>"
      ],
      "text/plain": [
       "             Age       Year\n",
       "count  10.000000  10.000000\n",
       "mean   38.777778   9.142857\n",
       "std     7.253777   5.566339\n",
       "min    27.000000   2.000000\n",
       "25%    35.500000   6.250000\n",
       "50%    38.388889   9.142857\n",
       "75%    43.000000   9.785714\n",
       "max    50.000000  21.000000"
      ]
     },
     "execution_count": 10,
     "metadata": {},
     "output_type": "execute_result"
    }
   ],
   "source": [
    "# 5-2. 값 확인하기\n",
    "feature.describe()"
   ]
  },
  {
   "cell_type": "code",
   "execution_count": 11,
   "metadata": {
    "colab": {
     "base_uri": "https://localhost:8080/",
     "height": 187
    },
    "id": "buX5yMM0hsBU",
    "outputId": "1f7ff81a-c534-434b-b6e0-d6160161e255"
   },
   "outputs": [
    {
     "name": "stdout",
     "output_type": "stream",
     "text": [
      "[[ 0.          0.          1.         27.          3.        ]\n",
      " [ 0.          0.          1.         38.77777778  6.        ]\n",
      " [ 0.          1.          0.         30.          2.        ]\n",
      " [ 1.          0.          0.         35.          9.14285714]\n",
      " [ 0.          0.          1.         38.          9.14285714]\n",
      " [ 0.          1.          0.         40.         10.        ]\n",
      " [ 1.          0.          0.         37.          7.        ]\n",
      " [ 1.          0.          0.         44.         15.        ]\n",
      " [ 1.          0.          0.         48.          9.14285714]\n",
      " [ 0.          1.          0.         50.         21.        ]]\n"
     ]
    }
   ],
   "source": [
    "# 6. One hot encoding\n",
    "from sklearn.compose import ColumnTransformer\n",
    "from sklearn.preprocessing import OneHotEncoder\n",
    "\n",
    "# remainder ='passthrough' : 지정하지않은 나머지들을 그냥 가져온다.\n",
    "ct = ColumnTransformer([('one_hot_encoder', OneHotEncoder(), [0])], \n",
    "                      remainder ='passthrough')\n",
    "\n",
    "# 기능을 사용하기\n",
    "feature = ct.fit_transform(feature)\n",
    "print(feature)"
   ]
  },
  {
   "cell_type": "code",
   "execution_count": 12,
   "metadata": {
    "colab": {
     "base_uri": "https://localhost:8080/",
     "height": 187
    },
    "id": "69Gz8Fh6hsBW",
    "outputId": "fb923167-3114-4d98-c2f6-b33fa7dc9bb8"
   },
   "outputs": [
    {
     "name": "stdout",
     "output_type": "stream",
     "text": [
      "[[ 0.          1.          0.         30.          2.        ]\n",
      " [ 1.          0.          0.         44.         15.        ]\n",
      " [ 0.          1.          0.         50.         21.        ]\n",
      " [ 1.          0.          0.         48.          9.14285714]\n",
      " [ 0.          1.          0.         40.         10.        ]\n",
      " [ 1.          0.          0.         35.          9.14285714]\n",
      " [ 1.          0.          0.         37.          7.        ]\n",
      " [ 0.          0.          1.         38.77777778  6.        ]]\n",
      "2    54000\n",
      "7    72000\n",
      "9    83000\n",
      "8    79000\n",
      "5    61000\n",
      "3    58000\n",
      "6    67000\n",
      "1    52000\n",
      "Name: Salary, dtype: int64\n"
     ]
    }
   ],
   "source": [
    "# 7. Split Data\n",
    "from sklearn.model_selection import train_test_split\n",
    "\n",
    "X_train, X_test, y_train, y_test = train_test_split(feature, label, test_size=0.2, random_state = 180)\n",
    "print(X_train)\n",
    "print(y_train)"
   ]
  },
  {
   "cell_type": "code",
   "execution_count": 13,
   "metadata": {
    "colab": {
     "base_uri": "https://localhost:8080/",
     "height": 34
    },
    "id": "4KeELCr1hsBZ",
    "outputId": "5354c8e8-fd78-4310-fdb4-a39400370ceb"
   },
   "outputs": [
    {
     "data": {
      "text/plain": [
       "LinearRegression()"
      ]
     },
     "execution_count": 13,
     "metadata": {},
     "output_type": "execute_result"
    }
   ],
   "source": [
    "# 8. Train\n",
    "\n",
    "from sklearn.linear_model import LinearRegression\n",
    "\n",
    "# linear_model = LinearRegression(fit_intercept) = False 레이블값이 0으로 되는 값이면 false로 진행하면 된다.\n",
    "# y = wx+b bias\n",
    "linear_model = LinearRegression()\n",
    "linear_model.fit(X_train, y_train)\n"
   ]
  },
  {
   "cell_type": "code",
   "execution_count": 14,
   "metadata": {
    "colab": {
     "base_uri": "https://localhost:8080/",
     "height": 119
    },
    "id": "tcoRznDjli5z",
    "outputId": "0725567e-7130-41ce-9a6b-f530fa69080a"
   },
   "outputs": [],
   "source": [
    "# 8-1. Train_2\n",
    "\n",
    "from sklearn.tree import DecisionTreeRegressor\n",
    "\n",
    "tree_model = DecisionTreeRegressor().fit(X_train, y_train)"
   ]
  },
  {
   "cell_type": "code",
   "execution_count": 15,
   "metadata": {
    "colab": {
     "base_uri": "https://localhost:8080/",
     "height": 85
    },
    "id": "BzX1hsPnhsBh",
    "outputId": "3cc9aadd-34c2-4647-926a-ed1598f98938"
   },
   "outputs": [
    {
     "name": "stdout",
     "output_type": "stream",
     "text": [
      "[34855.43405324 50666.69395455]\n",
      "0    48000\n",
      "4    61000\n",
      "Name: Salary, dtype: int64\n"
     ]
    }
   ],
   "source": [
    "# 9. Score\n",
    "# predict\n",
    "\n",
    "# Linear 모델로 테스트 데이터를 예측해보기\n",
    "y_pred = linear_model.predict(X_test)\n",
    "print(y_pred)\n",
    "print(y_test)"
   ]
  },
  {
   "cell_type": "code",
   "execution_count": 16,
   "metadata": {
    "colab": {
     "base_uri": "https://localhost:8080/",
     "height": 68
    },
    "id": "UxYkqzfLhsBt",
    "outputId": "b8a634df-5e5e-43bc-ae20-0690cf39a04e"
   },
   "outputs": [
    {
     "name": "stdout",
     "output_type": "stream",
     "text": [
      "11738.935996104708\n",
      "11822.792135482256\n",
      "-2.308364825534227\n"
     ]
    }
   ],
   "source": [
    "# 10. Evalute(Linear)\n",
    "from sklearn.metrics import mean_absolute_error, mean_squared_error, r2_score\n",
    "\n",
    "mae_l = mean_absolute_error(y_test, y_pred)\n",
    "mse_l = mean_squared_error(y_test, y_pred, squared = False)\n",
    "r2_l = r2_score(y_test, y_pred)\n",
    "\n",
    "print(mae_l)\n",
    "print(mse_l)\n",
    "print(r2_l)"
   ]
  },
  {
   "cell_type": "code",
   "execution_count": 17,
   "metadata": {},
   "outputs": [],
   "source": [
    "y_pred_tree = tree_model.predict(X_test)"
   ]
  },
  {
   "cell_type": "code",
   "execution_count": 18,
   "metadata": {},
   "outputs": [
    {
     "name": "stdout",
     "output_type": "stream",
     "text": [
      "2000.0\n",
      "2828.42712474619\n",
      "0.8106508875739645\n"
     ]
    }
   ],
   "source": [
    "# 10. Evalute(Decision)\n",
    "from sklearn.metrics import mean_absolute_error, mean_squared_error, r2_score\n",
    "\n",
    "mae_t = mean_absolute_error(y_test, y_pred_tree)\n",
    "mse_t = mean_squared_error(y_test, y_pred_tree, squared = False)\n",
    "r2_t = r2_score(y_test, y_pred_tree)\n",
    "\n",
    "print(mae_t)\n",
    "print(mse_t)\n",
    "print(r2_t)"
   ]
  },
  {
   "cell_type": "code",
   "execution_count": null,
   "metadata": {},
   "outputs": [],
   "source": []
  }
 ],
 "metadata": {
  "colab": {
   "name": "(Full)Regression_with_Python.ipynb",
   "provenance": []
  },
  "kernelspec": {
   "display_name": "py38_tensorflow",
   "language": "python",
   "name": "conda-env-py38_tensorflow-py"
  },
  "language_info": {
   "codemirror_mode": {
    "name": "ipython",
    "version": 3
   },
   "file_extension": ".py",
   "mimetype": "text/x-python",
   "name": "python",
   "nbconvert_exporter": "python",
   "pygments_lexer": "ipython3",
   "version": "3.8.8"
  }
 },
 "nbformat": 4,
 "nbformat_minor": 1
}
