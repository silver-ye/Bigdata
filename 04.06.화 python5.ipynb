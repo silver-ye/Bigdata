{
 "cells": [
  {
   "cell_type": "markdown",
   "metadata": {},
   "source": [
    "# 04.06.화 python5"
   ]
  },
  {
   "cell_type": "markdown",
   "metadata": {},
   "source": [
    "## 객체 지향 프로그래밍"
   ]
  },
  {
   "cell_type": "code",
   "execution_count": 2,
   "metadata": {},
   "outputs": [
    {
     "data": {
      "text/plain": [
       "[6, 5, 4, 9, 7, 1, 2, 8, 3]"
      ]
     },
     "execution_count": 2,
     "metadata": {},
     "output_type": "execute_result"
    }
   ],
   "source": [
    "## method\n",
    "import random\n",
    "lista = list(range(1,10))\n",
    "random.shuffle(lista)\n",
    "# lista = random.shuffle(lista)\n",
    "# input은 함수값을 우리에게 리턴해주지만 shuffle한 결과가 lista자체의 영향을 직접 미쳐서 바꿔서 그외는 반환하지않는다. \n",
    "lista"
   ]
  },
  {
   "cell_type": "code",
   "execution_count": 4,
   "metadata": {},
   "outputs": [
    {
     "data": {
      "text/plain": [
       "[3, 8, 2, 1, 7, 9, 4, 5, 6]"
      ]
     },
     "execution_count": 4,
     "metadata": {},
     "output_type": "execute_result"
    }
   ],
   "source": [
    "lista.reverse()\n",
    "#reverse()는 들어가있는 순서를 뒤집어준다. 이것 역시 직접 영향을 줘서 반환값이 없다.\n",
    "lista"
   ]
  },
  {
   "cell_type": "code",
   "execution_count": 5,
   "metadata": {},
   "outputs": [],
   "source": [
    "#class 정의와 instance\n",
    "class miner:\n",
    "    def genMiner(self):\n",
    "        print('광부가 생성되었습니다')"
   ]
  },
  {
   "cell_type": "code",
   "execution_count": 6,
   "metadata": {},
   "outputs": [],
   "source": [
    "SCV = miner()"
   ]
  },
  {
   "cell_type": "code",
   "execution_count": 7,
   "metadata": {},
   "outputs": [
    {
     "name": "stdout",
     "output_type": "stream",
     "text": [
      "광부가 생성되었습니다\n"
     ]
    }
   ],
   "source": [
    "#호출방법\n",
    "SCV.genMiner()"
   ]
  },
  {
   "cell_type": "code",
   "execution_count": 9,
   "metadata": {},
   "outputs": [
    {
     "name": "stdout",
     "output_type": "stream",
     "text": [
      "광부가 생성되었습니다\n"
     ]
    }
   ],
   "source": [
    "#호출방법\n",
    "miner.genMiner(SCV)"
   ]
  },
  {
   "cell_type": "code",
   "execution_count": 30,
   "metadata": {},
   "outputs": [],
   "source": [
    "class miner:\n",
    "    def __init__(self,mineral):\n",
    "        self.mineral = mineral\n",
    "        print('광부가 생성되었습니다')\n",
    "    def __del__(self):\n",
    "        print('광부가 죽었습니다')"
   ]
  },
  {
   "cell_type": "code",
   "execution_count": 32,
   "metadata": {},
   "outputs": [
    {
     "name": "stdout",
     "output_type": "stream",
     "text": [
      "광부가 생성되었습니다\n",
      "광부가 죽었습니다\n"
     ]
    },
    {
     "data": {
      "text/plain": [
       "100"
      ]
     },
     "execution_count": 32,
     "metadata": {},
     "output_type": "execute_result"
    }
   ],
   "source": [
    "SCV = miner(100)\n",
    "SCV.mineral"
   ]
  },
  {
   "cell_type": "code",
   "execution_count": 13,
   "metadata": {},
   "outputs": [
    {
     "name": "stdout",
     "output_type": "stream",
     "text": [
      "광부가 죽었습니다\n"
     ]
    }
   ],
   "source": [
    "del SCV"
   ]
  },
  {
   "cell_type": "code",
   "execution_count": 33,
   "metadata": {},
   "outputs": [],
   "source": [
    "class miner:\n",
    "    def __init__(self,mineral):\n",
    "        self.mineral = mineral\n",
    "    def __call__(self):\n",
    "        print('현재 광물량은:', self.mineral)"
   ]
  },
  {
   "cell_type": "code",
   "execution_count": 34,
   "metadata": {},
   "outputs": [
    {
     "name": "stdout",
     "output_type": "stream",
     "text": [
      "광부가 죽었습니다\n"
     ]
    }
   ],
   "source": [
    "SCV = miner(100)"
   ]
  },
  {
   "cell_type": "code",
   "execution_count": 18,
   "metadata": {},
   "outputs": [
    {
     "name": "stdout",
     "output_type": "stream",
     "text": [
      "현재 광물량은: 100\n"
     ]
    }
   ],
   "source": [
    "SCV()"
   ]
  },
  {
   "cell_type": "code",
   "execution_count": 20,
   "metadata": {},
   "outputs": [],
   "source": [
    "class miner:\n",
    "    def __init__(self,mineral):\n",
    "        self.mineral = mineral\n",
    "    def miningMineral(self): self.mineral += 10\n",
    "SCV = miner(100) #인스턴스 생성"
   ]
  },
  {
   "cell_type": "code",
   "execution_count": 21,
   "metadata": {},
   "outputs": [],
   "source": [
    "SCV.miningMineral() #method 호출\n",
    "#method를 쓸려면 instance가 있어야한다."
   ]
  },
  {
   "cell_type": "code",
   "execution_count": 22,
   "metadata": {},
   "outputs": [
    {
     "data": {
      "text/plain": [
       "110"
      ]
     },
     "execution_count": 22,
     "metadata": {},
     "output_type": "execute_result"
    }
   ],
   "source": [
    "SCV.mineral"
   ]
  },
  {
   "cell_type": "code",
   "execution_count": 23,
   "metadata": {},
   "outputs": [],
   "source": [
    "miner.miningMineral(SCV) #method 호출"
   ]
  },
  {
   "cell_type": "code",
   "execution_count": 24,
   "metadata": {},
   "outputs": [
    {
     "data": {
      "text/plain": [
       "120"
      ]
     },
     "execution_count": 24,
     "metadata": {},
     "output_type": "execute_result"
    }
   ],
   "source": [
    "SCV.mineral"
   ]
  },
  {
   "cell_type": "code",
   "execution_count": 42,
   "metadata": {},
   "outputs": [],
   "source": [
    "class miner:\n",
    "    def __init__(self,mineral):\n",
    "        self.__mineral = mineral\n",
    "    def getMineral(self): \n",
    "        return self.__mineral\n",
    "    def setMineral(self,mineral): \n",
    "        self.__mineral = mineral\n",
    "SCV = miner(100)"
   ]
  },
  {
   "cell_type": "code",
   "execution_count": 43,
   "metadata": {},
   "outputs": [
    {
     "data": {
      "text/plain": [
       "100"
      ]
     },
     "execution_count": 43,
     "metadata": {},
     "output_type": "execute_result"
    }
   ],
   "source": [
    "#값을 불러온다\n",
    "SCV.getMineral()"
   ]
  },
  {
   "cell_type": "code",
   "execution_count": 46,
   "metadata": {},
   "outputs": [],
   "source": [
    "#값을 저장한다.\n",
    "SCV.setMineral(1000)"
   ]
  },
  {
   "cell_type": "code",
   "execution_count": 45,
   "metadata": {},
   "outputs": [
    {
     "data": {
      "text/plain": [
       "1000"
      ]
     },
     "execution_count": 45,
     "metadata": {},
     "output_type": "execute_result"
    }
   ],
   "source": [
    "SCV.getMineral()"
   ]
  },
  {
   "cell_type": "code",
   "execution_count": 78,
   "metadata": {},
   "outputs": [],
   "source": [
    "#private의 접근\n",
    "class miner:\n",
    "    def __init__(self,mineral,gas):\n",
    "        self.__mineral = mineral\n",
    "        self.__gas = gas\n",
    "    @property\n",
    "    def mineral(self): \n",
    "        return self.__mineral   \n",
    "    @mineral.setter\n",
    "    def mineral(self,m): \n",
    "        self.__mineral = m\n",
    "    def miningMineral(self,m):\n",
    "        self.__mineral += m\n",
    "    @property\n",
    "    def gas(self):\n",
    "        return self.__gas\n",
    "    @gas.setter\n",
    "    def gas(self,g):\n",
    "        self.__gas = g\n",
    "    def miningGas(self,g):\n",
    "        self.__gas = g + 5\n",
    "    def __call__(self):\n",
    "        print('mineral:', self.__mineral, \"gas:\", self.__gas)\n",
    "    \n",
    "    "
   ]
  },
  {
   "cell_type": "code",
   "execution_count": 79,
   "metadata": {},
   "outputs": [],
   "source": [
    "SCV=miner(100,10)"
   ]
  },
  {
   "cell_type": "code",
   "execution_count": 80,
   "metadata": {},
   "outputs": [
    {
     "name": "stdout",
     "output_type": "stream",
     "text": [
      "mineral: 100 gas: 10\n"
     ]
    }
   ],
   "source": [
    "SCV()"
   ]
  },
  {
   "cell_type": "code",
   "execution_count": 81,
   "metadata": {},
   "outputs": [
    {
     "data": {
      "text/plain": [
       "100"
      ]
     },
     "execution_count": 81,
     "metadata": {},
     "output_type": "execute_result"
    }
   ],
   "source": [
    "SCV.mineral"
   ]
  },
  {
   "cell_type": "code",
   "execution_count": 82,
   "metadata": {},
   "outputs": [],
   "source": [
    "SCV.miningMineral(10)"
   ]
  },
  {
   "cell_type": "code",
   "execution_count": 83,
   "metadata": {},
   "outputs": [
    {
     "data": {
      "text/plain": [
       "110"
      ]
     },
     "execution_count": 83,
     "metadata": {},
     "output_type": "execute_result"
    }
   ],
   "source": [
    "SCV.mineral"
   ]
  },
  {
   "cell_type": "code",
   "execution_count": 84,
   "metadata": {},
   "outputs": [
    {
     "data": {
      "text/plain": [
       "10"
      ]
     },
     "execution_count": 84,
     "metadata": {},
     "output_type": "execute_result"
    }
   ],
   "source": [
    "SCV.gas"
   ]
  },
  {
   "cell_type": "code",
   "execution_count": 85,
   "metadata": {},
   "outputs": [],
   "source": [
    "SCV.miningGas(10)"
   ]
  },
  {
   "cell_type": "code",
   "execution_count": 86,
   "metadata": {},
   "outputs": [
    {
     "name": "stdout",
     "output_type": "stream",
     "text": [
      "mineral: 110 gas: 15\n"
     ]
    }
   ],
   "source": [
    "SCV()"
   ]
  },
  {
   "cell_type": "code",
   "execution_count": 115,
   "metadata": {},
   "outputs": [],
   "source": [
    "class circle:\n",
    "    def __init__(self,radius=1.0):\n",
    "        self.__radius = radius  \n",
    "        \n",
    "    def setRadius(self,r): \n",
    "        self.__radius = r\n",
    "        \n",
    "    def getRadius(self): \n",
    "        return self.__radius \n",
    "    \n",
    "    def calArea(self): #원의 넓이: 원의 반지름 * 원의 반지름 * 원주율\n",
    "        area = 3.14 * self.__radius * self.__radius\n",
    "        return area\n",
    "    \n",
    "    def calcCirum(self):#원의 둘레: 원의 반지름 * 2 *원주율\n",
    "        cirum = self.__radius * 2 *3.14\n",
    "        return cirum\n"
   ]
  },
  {
   "cell_type": "code",
   "execution_count": 116,
   "metadata": {},
   "outputs": [],
   "source": [
    "c=circle(10)"
   ]
  },
  {
   "cell_type": "code",
   "execution_count": 119,
   "metadata": {},
   "outputs": [
    {
     "data": {
      "text/plain": [
       "314.0"
      ]
     },
     "execution_count": 119,
     "metadata": {},
     "output_type": "execute_result"
    }
   ],
   "source": [
    "c.calArea()"
   ]
  },
  {
   "cell_type": "code",
   "execution_count": 121,
   "metadata": {},
   "outputs": [
    {
     "data": {
      "text/plain": [
       "62.800000000000004"
      ]
     },
     "execution_count": 121,
     "metadata": {},
     "output_type": "execute_result"
    }
   ],
   "source": [
    "c.calcCirum()"
   ]
  },
  {
   "cell_type": "code",
   "execution_count": 133,
   "metadata": {},
   "outputs": [],
   "source": [
    "class BankAccount:\n",
    "    #첫 시작은 0원으로 시작하기\n",
    "    def __init__(self):\n",
    "        self.__bankbalance = 0\n",
    "        \n",
    "    #통장에 출금이 되었을 때,\n",
    "    def withdraw(self,amount):\n",
    "        self.__bankbalance -= amount #bankbalance에도 업데이트 되어야함\n",
    "        print('통장에', amount, '이 출금되었음')\n",
    "        \n",
    "    #통장에 입금이 되었을 때,    \n",
    "    def deposit(self, amount):\n",
    "        self.__bankbalance += amount #bankbalance에도 업데이트 되어야함\n",
    "        print('통장에서', amount, '이 입금되었음')\n",
    "        \n",
    "    #잔액을 표시할 떄,    \n",
    "    def bankBalance(self):\n",
    "        return self.__bankbalance\n"
   ]
  },
  {
   "cell_type": "code",
   "execution_count": 134,
   "metadata": {},
   "outputs": [],
   "source": [
    "b = BankAccount()"
   ]
  },
  {
   "cell_type": "code",
   "execution_count": 138,
   "metadata": {},
   "outputs": [
    {
     "name": "stdout",
     "output_type": "stream",
     "text": [
      "통장에서 110 이 입금되었음\n"
     ]
    }
   ],
   "source": [
    "b.deposit(110)"
   ]
  },
  {
   "cell_type": "code",
   "execution_count": 139,
   "metadata": {},
   "outputs": [
    {
     "name": "stdout",
     "output_type": "stream",
     "text": [
      "통장에 90 이 출금되었음\n"
     ]
    }
   ],
   "source": [
    "b.withdraw(90)"
   ]
  },
  {
   "cell_type": "code",
   "execution_count": 140,
   "metadata": {},
   "outputs": [
    {
     "name": "stdout",
     "output_type": "stream",
     "text": [
      "잔액: 30\n"
     ]
    }
   ],
   "source": [
    "print('잔액:' , b.bankBalance())"
   ]
  },
  {
   "cell_type": "code",
   "execution_count": 162,
   "metadata": {},
   "outputs": [],
   "source": [
    "class miner: \n",
    "    mineral = 0                # class 정의   내   –   method 정의   외 \n",
    "    def __init__(self, mineral): \n",
    "        self.mineral = mineral \n",
    "        miner.mineral += mineral  # instance method 정의   내 \n",
    "    def miningMineral(self): \n",
    "        self.mineral += 10 \n",
    "        miner.mineral += 10"
   ]
  },
  {
   "cell_type": "code",
   "execution_count": 163,
   "metadata": {},
   "outputs": [],
   "source": [
    "SCV = miner(50)\n",
    "probe = miner(100)"
   ]
  },
  {
   "cell_type": "code",
   "execution_count": 164,
   "metadata": {},
   "outputs": [
    {
     "data": {
      "text/plain": [
       "150"
      ]
     },
     "execution_count": 164,
     "metadata": {},
     "output_type": "execute_result"
    }
   ],
   "source": [
    "miner.mineral"
   ]
  },
  {
   "cell_type": "code",
   "execution_count": 165,
   "metadata": {},
   "outputs": [],
   "source": [
    "SCV.miningMineral()"
   ]
  },
  {
   "cell_type": "code",
   "execution_count": 166,
   "metadata": {},
   "outputs": [
    {
     "data": {
      "text/plain": [
       "60"
      ]
     },
     "execution_count": 166,
     "metadata": {},
     "output_type": "execute_result"
    }
   ],
   "source": [
    "SCV.mineral"
   ]
  },
  {
   "cell_type": "code",
   "execution_count": 150,
   "metadata": {},
   "outputs": [],
   "source": [
    "class miner: \n",
    "    totalMineral = 0 \n",
    "    def __init__(self, mineral): \n",
    "        self.mineral = mineral \n",
    "        miner.totalMineral += mineral \n",
    "    def printMineral(self): \n",
    "        print(self.mineral) \n",
    "    @classmethod \n",
    "    def printMineral(cls): \n",
    "        print(cls.totalMineral)"
   ]
  },
  {
   "cell_type": "code",
   "execution_count": 151,
   "metadata": {},
   "outputs": [
    {
     "name": "stdout",
     "output_type": "stream",
     "text": [
      "150\n"
     ]
    }
   ],
   "source": [
    "SCV = miner(50)\n",
    "probe = miner(100)\n",
    "miner.printMineral()"
   ]
  },
  {
   "cell_type": "code",
   "execution_count": 154,
   "metadata": {},
   "outputs": [],
   "source": [
    "class miner:\n",
    "    totalMineral = 0\n",
    "    totalGas = 0\n",
    "    cnt = 0\n",
    "    def __init__(self,mineral,gas):\n",
    "        self.mineral = mineral\n",
    "        self.gas = gas\n",
    "        cnt += 1\n",
    "        mineral.totalMineralMineral += mineral\n",
    "        gas.totalGas += gas\n",
    "        cnt += 1\n",
    "    \n",
    "    def miningMineral(self):\n",
    "        self.mineral += 10\n",
    "        miner.totalMineral += 10\n",
    "        \n",
    "    def miningGas(self):\n",
    "        self.gas += 5\n",
    "        miner.totalGas += 5\n",
    "        \n",
    "    def __del__(self):\n",
    "        \n",
    "        \n",
    "    @classmethod \n",
    "    def printMinerNum(cls): \n",
    "        print(cls.totalNum)"
   ]
  },
  {
   "cell_type": "code",
   "execution_count": 168,
   "metadata": {},
   "outputs": [],
   "source": [
    "class miner:\n",
    "    def __init__(self,mineral,gas):\n",
    "        self.mineral = mineral\n",
    "        self.gas = gas\n",
    "    def __add__(self):\n",
    "        add = self.mineral + self.gas\n",
    "        return add\n",
    "    def __mul__(self):\n",
    "        if self.mineral > self.gas:\n",
    "            return self.mineral\n",
    "        else:\n",
    "            return self.gas\n",
    "    def swap(self):\n",
    "        a = self.mineral\n",
    "        self.mineral = self.gas\n",
    "        self.gas = a"
   ]
  },
  {
   "cell_type": "code",
   "execution_count": null,
   "metadata": {},
   "outputs": [],
   "source": []
  }
 ],
 "metadata": {
  "kernelspec": {
   "display_name": "Python 3",
   "language": "python",
   "name": "python3"
  },
  "language_info": {
   "codemirror_mode": {
    "name": "ipython",
    "version": 3
   },
   "file_extension": ".py",
   "mimetype": "text/x-python",
   "name": "python",
   "nbconvert_exporter": "python",
   "pygments_lexer": "ipython3",
   "version": "3.8.5"
  }
 },
 "nbformat": 4,
 "nbformat_minor": 4
}
