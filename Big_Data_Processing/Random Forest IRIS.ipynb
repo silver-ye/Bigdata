{
 "cells": [
  {
   "cell_type": "markdown",
   "metadata": {},
   "source": [
    "## iris Random Forest"
   ]
  },
  {
   "cell_type": "code",
   "execution_count": 1,
   "metadata": {},
   "outputs": [],
   "source": [
    "## iris를 데이터를 가져오기\n",
    "from sklearn.datasets import load_iris"
   ]
  },
  {
   "cell_type": "code",
   "execution_count": 2,
   "metadata": {},
   "outputs": [
    {
     "data": {
      "text/plain": [
       "{'data': array([[5.1, 3.5, 1.4, 0.2],\n",
       "        [4.9, 3. , 1.4, 0.2],\n",
       "        [4.7, 3.2, 1.3, 0.2],\n",
       "        [4.6, 3.1, 1.5, 0.2],\n",
       "        [5. , 3.6, 1.4, 0.2],\n",
       "        [5.4, 3.9, 1.7, 0.4],\n",
       "        [4.6, 3.4, 1.4, 0.3],\n",
       "        [5. , 3.4, 1.5, 0.2],\n",
       "        [4.4, 2.9, 1.4, 0.2],\n",
       "        [4.9, 3.1, 1.5, 0.1],\n",
       "        [5.4, 3.7, 1.5, 0.2],\n",
       "        [4.8, 3.4, 1.6, 0.2],\n",
       "        [4.8, 3. , 1.4, 0.1],\n",
       "        [4.3, 3. , 1.1, 0.1],\n",
       "        [5.8, 4. , 1.2, 0.2],\n",
       "        [5.7, 4.4, 1.5, 0.4],\n",
       "        [5.4, 3.9, 1.3, 0.4],\n",
       "        [5.1, 3.5, 1.4, 0.3],\n",
       "        [5.7, 3.8, 1.7, 0.3],\n",
       "        [5.1, 3.8, 1.5, 0.3],\n",
       "        [5.4, 3.4, 1.7, 0.2],\n",
       "        [5.1, 3.7, 1.5, 0.4],\n",
       "        [4.6, 3.6, 1. , 0.2],\n",
       "        [5.1, 3.3, 1.7, 0.5],\n",
       "        [4.8, 3.4, 1.9, 0.2],\n",
       "        [5. , 3. , 1.6, 0.2],\n",
       "        [5. , 3.4, 1.6, 0.4],\n",
       "        [5.2, 3.5, 1.5, 0.2],\n",
       "        [5.2, 3.4, 1.4, 0.2],\n",
       "        [4.7, 3.2, 1.6, 0.2],\n",
       "        [4.8, 3.1, 1.6, 0.2],\n",
       "        [5.4, 3.4, 1.5, 0.4],\n",
       "        [5.2, 4.1, 1.5, 0.1],\n",
       "        [5.5, 4.2, 1.4, 0.2],\n",
       "        [4.9, 3.1, 1.5, 0.2],\n",
       "        [5. , 3.2, 1.2, 0.2],\n",
       "        [5.5, 3.5, 1.3, 0.2],\n",
       "        [4.9, 3.6, 1.4, 0.1],\n",
       "        [4.4, 3. , 1.3, 0.2],\n",
       "        [5.1, 3.4, 1.5, 0.2],\n",
       "        [5. , 3.5, 1.3, 0.3],\n",
       "        [4.5, 2.3, 1.3, 0.3],\n",
       "        [4.4, 3.2, 1.3, 0.2],\n",
       "        [5. , 3.5, 1.6, 0.6],\n",
       "        [5.1, 3.8, 1.9, 0.4],\n",
       "        [4.8, 3. , 1.4, 0.3],\n",
       "        [5.1, 3.8, 1.6, 0.2],\n",
       "        [4.6, 3.2, 1.4, 0.2],\n",
       "        [5.3, 3.7, 1.5, 0.2],\n",
       "        [5. , 3.3, 1.4, 0.2],\n",
       "        [7. , 3.2, 4.7, 1.4],\n",
       "        [6.4, 3.2, 4.5, 1.5],\n",
       "        [6.9, 3.1, 4.9, 1.5],\n",
       "        [5.5, 2.3, 4. , 1.3],\n",
       "        [6.5, 2.8, 4.6, 1.5],\n",
       "        [5.7, 2.8, 4.5, 1.3],\n",
       "        [6.3, 3.3, 4.7, 1.6],\n",
       "        [4.9, 2.4, 3.3, 1. ],\n",
       "        [6.6, 2.9, 4.6, 1.3],\n",
       "        [5.2, 2.7, 3.9, 1.4],\n",
       "        [5. , 2. , 3.5, 1. ],\n",
       "        [5.9, 3. , 4.2, 1.5],\n",
       "        [6. , 2.2, 4. , 1. ],\n",
       "        [6.1, 2.9, 4.7, 1.4],\n",
       "        [5.6, 2.9, 3.6, 1.3],\n",
       "        [6.7, 3.1, 4.4, 1.4],\n",
       "        [5.6, 3. , 4.5, 1.5],\n",
       "        [5.8, 2.7, 4.1, 1. ],\n",
       "        [6.2, 2.2, 4.5, 1.5],\n",
       "        [5.6, 2.5, 3.9, 1.1],\n",
       "        [5.9, 3.2, 4.8, 1.8],\n",
       "        [6.1, 2.8, 4. , 1.3],\n",
       "        [6.3, 2.5, 4.9, 1.5],\n",
       "        [6.1, 2.8, 4.7, 1.2],\n",
       "        [6.4, 2.9, 4.3, 1.3],\n",
       "        [6.6, 3. , 4.4, 1.4],\n",
       "        [6.8, 2.8, 4.8, 1.4],\n",
       "        [6.7, 3. , 5. , 1.7],\n",
       "        [6. , 2.9, 4.5, 1.5],\n",
       "        [5.7, 2.6, 3.5, 1. ],\n",
       "        [5.5, 2.4, 3.8, 1.1],\n",
       "        [5.5, 2.4, 3.7, 1. ],\n",
       "        [5.8, 2.7, 3.9, 1.2],\n",
       "        [6. , 2.7, 5.1, 1.6],\n",
       "        [5.4, 3. , 4.5, 1.5],\n",
       "        [6. , 3.4, 4.5, 1.6],\n",
       "        [6.7, 3.1, 4.7, 1.5],\n",
       "        [6.3, 2.3, 4.4, 1.3],\n",
       "        [5.6, 3. , 4.1, 1.3],\n",
       "        [5.5, 2.5, 4. , 1.3],\n",
       "        [5.5, 2.6, 4.4, 1.2],\n",
       "        [6.1, 3. , 4.6, 1.4],\n",
       "        [5.8, 2.6, 4. , 1.2],\n",
       "        [5. , 2.3, 3.3, 1. ],\n",
       "        [5.6, 2.7, 4.2, 1.3],\n",
       "        [5.7, 3. , 4.2, 1.2],\n",
       "        [5.7, 2.9, 4.2, 1.3],\n",
       "        [6.2, 2.9, 4.3, 1.3],\n",
       "        [5.1, 2.5, 3. , 1.1],\n",
       "        [5.7, 2.8, 4.1, 1.3],\n",
       "        [6.3, 3.3, 6. , 2.5],\n",
       "        [5.8, 2.7, 5.1, 1.9],\n",
       "        [7.1, 3. , 5.9, 2.1],\n",
       "        [6.3, 2.9, 5.6, 1.8],\n",
       "        [6.5, 3. , 5.8, 2.2],\n",
       "        [7.6, 3. , 6.6, 2.1],\n",
       "        [4.9, 2.5, 4.5, 1.7],\n",
       "        [7.3, 2.9, 6.3, 1.8],\n",
       "        [6.7, 2.5, 5.8, 1.8],\n",
       "        [7.2, 3.6, 6.1, 2.5],\n",
       "        [6.5, 3.2, 5.1, 2. ],\n",
       "        [6.4, 2.7, 5.3, 1.9],\n",
       "        [6.8, 3. , 5.5, 2.1],\n",
       "        [5.7, 2.5, 5. , 2. ],\n",
       "        [5.8, 2.8, 5.1, 2.4],\n",
       "        [6.4, 3.2, 5.3, 2.3],\n",
       "        [6.5, 3. , 5.5, 1.8],\n",
       "        [7.7, 3.8, 6.7, 2.2],\n",
       "        [7.7, 2.6, 6.9, 2.3],\n",
       "        [6. , 2.2, 5. , 1.5],\n",
       "        [6.9, 3.2, 5.7, 2.3],\n",
       "        [5.6, 2.8, 4.9, 2. ],\n",
       "        [7.7, 2.8, 6.7, 2. ],\n",
       "        [6.3, 2.7, 4.9, 1.8],\n",
       "        [6.7, 3.3, 5.7, 2.1],\n",
       "        [7.2, 3.2, 6. , 1.8],\n",
       "        [6.2, 2.8, 4.8, 1.8],\n",
       "        [6.1, 3. , 4.9, 1.8],\n",
       "        [6.4, 2.8, 5.6, 2.1],\n",
       "        [7.2, 3. , 5.8, 1.6],\n",
       "        [7.4, 2.8, 6.1, 1.9],\n",
       "        [7.9, 3.8, 6.4, 2. ],\n",
       "        [6.4, 2.8, 5.6, 2.2],\n",
       "        [6.3, 2.8, 5.1, 1.5],\n",
       "        [6.1, 2.6, 5.6, 1.4],\n",
       "        [7.7, 3. , 6.1, 2.3],\n",
       "        [6.3, 3.4, 5.6, 2.4],\n",
       "        [6.4, 3.1, 5.5, 1.8],\n",
       "        [6. , 3. , 4.8, 1.8],\n",
       "        [6.9, 3.1, 5.4, 2.1],\n",
       "        [6.7, 3.1, 5.6, 2.4],\n",
       "        [6.9, 3.1, 5.1, 2.3],\n",
       "        [5.8, 2.7, 5.1, 1.9],\n",
       "        [6.8, 3.2, 5.9, 2.3],\n",
       "        [6.7, 3.3, 5.7, 2.5],\n",
       "        [6.7, 3. , 5.2, 2.3],\n",
       "        [6.3, 2.5, 5. , 1.9],\n",
       "        [6.5, 3. , 5.2, 2. ],\n",
       "        [6.2, 3.4, 5.4, 2.3],\n",
       "        [5.9, 3. , 5.1, 1.8]]),\n",
       " 'target': array([0, 0, 0, 0, 0, 0, 0, 0, 0, 0, 0, 0, 0, 0, 0, 0, 0, 0, 0, 0, 0, 0,\n",
       "        0, 0, 0, 0, 0, 0, 0, 0, 0, 0, 0, 0, 0, 0, 0, 0, 0, 0, 0, 0, 0, 0,\n",
       "        0, 0, 0, 0, 0, 0, 1, 1, 1, 1, 1, 1, 1, 1, 1, 1, 1, 1, 1, 1, 1, 1,\n",
       "        1, 1, 1, 1, 1, 1, 1, 1, 1, 1, 1, 1, 1, 1, 1, 1, 1, 1, 1, 1, 1, 1,\n",
       "        1, 1, 1, 1, 1, 1, 1, 1, 1, 1, 1, 1, 2, 2, 2, 2, 2, 2, 2, 2, 2, 2,\n",
       "        2, 2, 2, 2, 2, 2, 2, 2, 2, 2, 2, 2, 2, 2, 2, 2, 2, 2, 2, 2, 2, 2,\n",
       "        2, 2, 2, 2, 2, 2, 2, 2, 2, 2, 2, 2, 2, 2, 2, 2, 2, 2]),\n",
       " 'frame': None,\n",
       " 'target_names': array(['setosa', 'versicolor', 'virginica'], dtype='<U10'),\n",
       " 'DESCR': '.. _iris_dataset:\\n\\nIris plants dataset\\n--------------------\\n\\n**Data Set Characteristics:**\\n\\n    :Number of Instances: 150 (50 in each of three classes)\\n    :Number of Attributes: 4 numeric, predictive attributes and the class\\n    :Attribute Information:\\n        - sepal length in cm\\n        - sepal width in cm\\n        - petal length in cm\\n        - petal width in cm\\n        - class:\\n                - Iris-Setosa\\n                - Iris-Versicolour\\n                - Iris-Virginica\\n                \\n    :Summary Statistics:\\n\\n    ============== ==== ==== ======= ===== ====================\\n                    Min  Max   Mean    SD   Class Correlation\\n    ============== ==== ==== ======= ===== ====================\\n    sepal length:   4.3  7.9   5.84   0.83    0.7826\\n    sepal width:    2.0  4.4   3.05   0.43   -0.4194\\n    petal length:   1.0  6.9   3.76   1.76    0.9490  (high!)\\n    petal width:    0.1  2.5   1.20   0.76    0.9565  (high!)\\n    ============== ==== ==== ======= ===== ====================\\n\\n    :Missing Attribute Values: None\\n    :Class Distribution: 33.3% for each of 3 classes.\\n    :Creator: R.A. Fisher\\n    :Donor: Michael Marshall (MARSHALL%PLU@io.arc.nasa.gov)\\n    :Date: July, 1988\\n\\nThe famous Iris database, first used by Sir R.A. Fisher. The dataset is taken\\nfrom Fisher\\'s paper. Note that it\\'s the same as in R, but not as in the UCI\\nMachine Learning Repository, which has two wrong data points.\\n\\nThis is perhaps the best known database to be found in the\\npattern recognition literature.  Fisher\\'s paper is a classic in the field and\\nis referenced frequently to this day.  (See Duda & Hart, for example.)  The\\ndata set contains 3 classes of 50 instances each, where each class refers to a\\ntype of iris plant.  One class is linearly separable from the other 2; the\\nlatter are NOT linearly separable from each other.\\n\\n.. topic:: References\\n\\n   - Fisher, R.A. \"The use of multiple measurements in taxonomic problems\"\\n     Annual Eugenics, 7, Part II, 179-188 (1936); also in \"Contributions to\\n     Mathematical Statistics\" (John Wiley, NY, 1950).\\n   - Duda, R.O., & Hart, P.E. (1973) Pattern Classification and Scene Analysis.\\n     (Q327.D83) John Wiley & Sons.  ISBN 0-471-22361-1.  See page 218.\\n   - Dasarathy, B.V. (1980) \"Nosing Around the Neighborhood: A New System\\n     Structure and Classification Rule for Recognition in Partially Exposed\\n     Environments\".  IEEE Transactions on Pattern Analysis and Machine\\n     Intelligence, Vol. PAMI-2, No. 1, 67-71.\\n   - Gates, G.W. (1972) \"The Reduced Nearest Neighbor Rule\".  IEEE Transactions\\n     on Information Theory, May 1972, 431-433.\\n   - See also: 1988 MLC Proceedings, 54-64.  Cheeseman et al\"s AUTOCLASS II\\n     conceptual clustering system finds 3 classes in the data.\\n   - Many, many more ...',\n",
       " 'feature_names': ['sepal length (cm)',\n",
       "  'sepal width (cm)',\n",
       "  'petal length (cm)',\n",
       "  'petal width (cm)'],\n",
       " 'filename': 'C:\\\\Users\\\\Admin\\\\anaconda3\\\\lib\\\\site-packages\\\\sklearn\\\\datasets\\\\data\\\\iris.csv'}"
      ]
     },
     "execution_count": 2,
     "metadata": {},
     "output_type": "execute_result"
    }
   ],
   "source": [
    "## iris 데이터를 확인하기\n",
    "# 딕셔너리로 구성되어있음을 확인할 수 있다.\n",
    "# data key는 독립변수, target key는 종속변수\n",
    "load_iris()"
   ]
  },
  {
   "cell_type": "code",
   "execution_count": 3,
   "metadata": {},
   "outputs": [
    {
     "data": {
      "text/plain": [
       "array([[5.1, 3.5, 1.4, 0.2],\n",
       "       [4.9, 3. , 1.4, 0.2],\n",
       "       [4.7, 3.2, 1.3, 0.2],\n",
       "       [4.6, 3.1, 1.5, 0.2],\n",
       "       [5. , 3.6, 1.4, 0.2],\n",
       "       [5.4, 3.9, 1.7, 0.4],\n",
       "       [4.6, 3.4, 1.4, 0.3],\n",
       "       [5. , 3.4, 1.5, 0.2],\n",
       "       [4.4, 2.9, 1.4, 0.2],\n",
       "       [4.9, 3.1, 1.5, 0.1],\n",
       "       [5.4, 3.7, 1.5, 0.2],\n",
       "       [4.8, 3.4, 1.6, 0.2],\n",
       "       [4.8, 3. , 1.4, 0.1],\n",
       "       [4.3, 3. , 1.1, 0.1],\n",
       "       [5.8, 4. , 1.2, 0.2],\n",
       "       [5.7, 4.4, 1.5, 0.4],\n",
       "       [5.4, 3.9, 1.3, 0.4],\n",
       "       [5.1, 3.5, 1.4, 0.3],\n",
       "       [5.7, 3.8, 1.7, 0.3],\n",
       "       [5.1, 3.8, 1.5, 0.3],\n",
       "       [5.4, 3.4, 1.7, 0.2],\n",
       "       [5.1, 3.7, 1.5, 0.4],\n",
       "       [4.6, 3.6, 1. , 0.2],\n",
       "       [5.1, 3.3, 1.7, 0.5],\n",
       "       [4.8, 3.4, 1.9, 0.2],\n",
       "       [5. , 3. , 1.6, 0.2],\n",
       "       [5. , 3.4, 1.6, 0.4],\n",
       "       [5.2, 3.5, 1.5, 0.2],\n",
       "       [5.2, 3.4, 1.4, 0.2],\n",
       "       [4.7, 3.2, 1.6, 0.2],\n",
       "       [4.8, 3.1, 1.6, 0.2],\n",
       "       [5.4, 3.4, 1.5, 0.4],\n",
       "       [5.2, 4.1, 1.5, 0.1],\n",
       "       [5.5, 4.2, 1.4, 0.2],\n",
       "       [4.9, 3.1, 1.5, 0.2],\n",
       "       [5. , 3.2, 1.2, 0.2],\n",
       "       [5.5, 3.5, 1.3, 0.2],\n",
       "       [4.9, 3.6, 1.4, 0.1],\n",
       "       [4.4, 3. , 1.3, 0.2],\n",
       "       [5.1, 3.4, 1.5, 0.2],\n",
       "       [5. , 3.5, 1.3, 0.3],\n",
       "       [4.5, 2.3, 1.3, 0.3],\n",
       "       [4.4, 3.2, 1.3, 0.2],\n",
       "       [5. , 3.5, 1.6, 0.6],\n",
       "       [5.1, 3.8, 1.9, 0.4],\n",
       "       [4.8, 3. , 1.4, 0.3],\n",
       "       [5.1, 3.8, 1.6, 0.2],\n",
       "       [4.6, 3.2, 1.4, 0.2],\n",
       "       [5.3, 3.7, 1.5, 0.2],\n",
       "       [5. , 3.3, 1.4, 0.2],\n",
       "       [7. , 3.2, 4.7, 1.4],\n",
       "       [6.4, 3.2, 4.5, 1.5],\n",
       "       [6.9, 3.1, 4.9, 1.5],\n",
       "       [5.5, 2.3, 4. , 1.3],\n",
       "       [6.5, 2.8, 4.6, 1.5],\n",
       "       [5.7, 2.8, 4.5, 1.3],\n",
       "       [6.3, 3.3, 4.7, 1.6],\n",
       "       [4.9, 2.4, 3.3, 1. ],\n",
       "       [6.6, 2.9, 4.6, 1.3],\n",
       "       [5.2, 2.7, 3.9, 1.4],\n",
       "       [5. , 2. , 3.5, 1. ],\n",
       "       [5.9, 3. , 4.2, 1.5],\n",
       "       [6. , 2.2, 4. , 1. ],\n",
       "       [6.1, 2.9, 4.7, 1.4],\n",
       "       [5.6, 2.9, 3.6, 1.3],\n",
       "       [6.7, 3.1, 4.4, 1.4],\n",
       "       [5.6, 3. , 4.5, 1.5],\n",
       "       [5.8, 2.7, 4.1, 1. ],\n",
       "       [6.2, 2.2, 4.5, 1.5],\n",
       "       [5.6, 2.5, 3.9, 1.1],\n",
       "       [5.9, 3.2, 4.8, 1.8],\n",
       "       [6.1, 2.8, 4. , 1.3],\n",
       "       [6.3, 2.5, 4.9, 1.5],\n",
       "       [6.1, 2.8, 4.7, 1.2],\n",
       "       [6.4, 2.9, 4.3, 1.3],\n",
       "       [6.6, 3. , 4.4, 1.4],\n",
       "       [6.8, 2.8, 4.8, 1.4],\n",
       "       [6.7, 3. , 5. , 1.7],\n",
       "       [6. , 2.9, 4.5, 1.5],\n",
       "       [5.7, 2.6, 3.5, 1. ],\n",
       "       [5.5, 2.4, 3.8, 1.1],\n",
       "       [5.5, 2.4, 3.7, 1. ],\n",
       "       [5.8, 2.7, 3.9, 1.2],\n",
       "       [6. , 2.7, 5.1, 1.6],\n",
       "       [5.4, 3. , 4.5, 1.5],\n",
       "       [6. , 3.4, 4.5, 1.6],\n",
       "       [6.7, 3.1, 4.7, 1.5],\n",
       "       [6.3, 2.3, 4.4, 1.3],\n",
       "       [5.6, 3. , 4.1, 1.3],\n",
       "       [5.5, 2.5, 4. , 1.3],\n",
       "       [5.5, 2.6, 4.4, 1.2],\n",
       "       [6.1, 3. , 4.6, 1.4],\n",
       "       [5.8, 2.6, 4. , 1.2],\n",
       "       [5. , 2.3, 3.3, 1. ],\n",
       "       [5.6, 2.7, 4.2, 1.3],\n",
       "       [5.7, 3. , 4.2, 1.2],\n",
       "       [5.7, 2.9, 4.2, 1.3],\n",
       "       [6.2, 2.9, 4.3, 1.3],\n",
       "       [5.1, 2.5, 3. , 1.1],\n",
       "       [5.7, 2.8, 4.1, 1.3],\n",
       "       [6.3, 3.3, 6. , 2.5],\n",
       "       [5.8, 2.7, 5.1, 1.9],\n",
       "       [7.1, 3. , 5.9, 2.1],\n",
       "       [6.3, 2.9, 5.6, 1.8],\n",
       "       [6.5, 3. , 5.8, 2.2],\n",
       "       [7.6, 3. , 6.6, 2.1],\n",
       "       [4.9, 2.5, 4.5, 1.7],\n",
       "       [7.3, 2.9, 6.3, 1.8],\n",
       "       [6.7, 2.5, 5.8, 1.8],\n",
       "       [7.2, 3.6, 6.1, 2.5],\n",
       "       [6.5, 3.2, 5.1, 2. ],\n",
       "       [6.4, 2.7, 5.3, 1.9],\n",
       "       [6.8, 3. , 5.5, 2.1],\n",
       "       [5.7, 2.5, 5. , 2. ],\n",
       "       [5.8, 2.8, 5.1, 2.4],\n",
       "       [6.4, 3.2, 5.3, 2.3],\n",
       "       [6.5, 3. , 5.5, 1.8],\n",
       "       [7.7, 3.8, 6.7, 2.2],\n",
       "       [7.7, 2.6, 6.9, 2.3],\n",
       "       [6. , 2.2, 5. , 1.5],\n",
       "       [6.9, 3.2, 5.7, 2.3],\n",
       "       [5.6, 2.8, 4.9, 2. ],\n",
       "       [7.7, 2.8, 6.7, 2. ],\n",
       "       [6.3, 2.7, 4.9, 1.8],\n",
       "       [6.7, 3.3, 5.7, 2.1],\n",
       "       [7.2, 3.2, 6. , 1.8],\n",
       "       [6.2, 2.8, 4.8, 1.8],\n",
       "       [6.1, 3. , 4.9, 1.8],\n",
       "       [6.4, 2.8, 5.6, 2.1],\n",
       "       [7.2, 3. , 5.8, 1.6],\n",
       "       [7.4, 2.8, 6.1, 1.9],\n",
       "       [7.9, 3.8, 6.4, 2. ],\n",
       "       [6.4, 2.8, 5.6, 2.2],\n",
       "       [6.3, 2.8, 5.1, 1.5],\n",
       "       [6.1, 2.6, 5.6, 1.4],\n",
       "       [7.7, 3. , 6.1, 2.3],\n",
       "       [6.3, 3.4, 5.6, 2.4],\n",
       "       [6.4, 3.1, 5.5, 1.8],\n",
       "       [6. , 3. , 4.8, 1.8],\n",
       "       [6.9, 3.1, 5.4, 2.1],\n",
       "       [6.7, 3.1, 5.6, 2.4],\n",
       "       [6.9, 3.1, 5.1, 2.3],\n",
       "       [5.8, 2.7, 5.1, 1.9],\n",
       "       [6.8, 3.2, 5.9, 2.3],\n",
       "       [6.7, 3.3, 5.7, 2.5],\n",
       "       [6.7, 3. , 5.2, 2.3],\n",
       "       [6.3, 2.5, 5. , 1.9],\n",
       "       [6.5, 3. , 5.2, 2. ],\n",
       "       [6.2, 3.4, 5.4, 2.3],\n",
       "       [5.9, 3. , 5.1, 1.8]])"
      ]
     },
     "execution_count": 3,
     "metadata": {},
     "output_type": "execute_result"
    }
   ],
   "source": [
    "## 독립변수 확인하기\n",
    "# 4칸 150줄\n",
    "load_iris()['data']"
   ]
  },
  {
   "cell_type": "code",
   "execution_count": 4,
   "metadata": {},
   "outputs": [
    {
     "data": {
      "text/plain": [
       "array([0, 0, 0, 0, 0, 0, 0, 0, 0, 0, 0, 0, 0, 0, 0, 0, 0, 0, 0, 0, 0, 0,\n",
       "       0, 0, 0, 0, 0, 0, 0, 0, 0, 0, 0, 0, 0, 0, 0, 0, 0, 0, 0, 0, 0, 0,\n",
       "       0, 0, 0, 0, 0, 0, 1, 1, 1, 1, 1, 1, 1, 1, 1, 1, 1, 1, 1, 1, 1, 1,\n",
       "       1, 1, 1, 1, 1, 1, 1, 1, 1, 1, 1, 1, 1, 1, 1, 1, 1, 1, 1, 1, 1, 1,\n",
       "       1, 1, 1, 1, 1, 1, 1, 1, 1, 1, 1, 1, 2, 2, 2, 2, 2, 2, 2, 2, 2, 2,\n",
       "       2, 2, 2, 2, 2, 2, 2, 2, 2, 2, 2, 2, 2, 2, 2, 2, 2, 2, 2, 2, 2, 2,\n",
       "       2, 2, 2, 2, 2, 2, 2, 2, 2, 2, 2, 2, 2, 2, 2, 2, 2, 2])"
      ]
     },
     "execution_count": 4,
     "metadata": {},
     "output_type": "execute_result"
    }
   ],
   "source": [
    "## 종속변수 확인하기\n",
    "load_iris()['target']"
   ]
  },
  {
   "cell_type": "code",
   "execution_count": 5,
   "metadata": {},
   "outputs": [],
   "source": [
    "## Pandas DataFrame을 만들기 위해서 import\n",
    "import numpy as np\n",
    "import pandas as pd"
   ]
  },
  {
   "cell_type": "code",
   "execution_count": 6,
   "metadata": {},
   "outputs": [],
   "source": [
    "## DataFrame 만들기\n",
    "# columns안에 칸 이름을 순서대로 지정할 수 있다.\n",
    "iris_df = pd.DataFrame(\n",
    "            data=load_iris()['data'],\n",
    "            columns = [\n",
    "                'sepal length', 'sepal width',\n",
    "                'petal length', 'petal width']\n",
    ")"
   ]
  },
  {
   "cell_type": "code",
   "execution_count": 7,
   "metadata": {},
   "outputs": [],
   "source": [
    "## 종속변수를 추가하기\n",
    "iris_df['target'] = load_iris()['target']"
   ]
  },
  {
   "cell_type": "code",
   "execution_count": 8,
   "metadata": {},
   "outputs": [
    {
     "data": {
      "text/html": [
       "<div>\n",
       "<style scoped>\n",
       "    .dataframe tbody tr th:only-of-type {\n",
       "        vertical-align: middle;\n",
       "    }\n",
       "\n",
       "    .dataframe tbody tr th {\n",
       "        vertical-align: top;\n",
       "    }\n",
       "\n",
       "    .dataframe thead th {\n",
       "        text-align: right;\n",
       "    }\n",
       "</style>\n",
       "<table border=\"1\" class=\"dataframe\">\n",
       "  <thead>\n",
       "    <tr style=\"text-align: right;\">\n",
       "      <th></th>\n",
       "      <th>sepal length</th>\n",
       "      <th>sepal width</th>\n",
       "      <th>petal length</th>\n",
       "      <th>petal width</th>\n",
       "      <th>target</th>\n",
       "    </tr>\n",
       "  </thead>\n",
       "  <tbody>\n",
       "    <tr>\n",
       "      <th>0</th>\n",
       "      <td>5.1</td>\n",
       "      <td>3.5</td>\n",
       "      <td>1.4</td>\n",
       "      <td>0.2</td>\n",
       "      <td>0</td>\n",
       "    </tr>\n",
       "    <tr>\n",
       "      <th>1</th>\n",
       "      <td>4.9</td>\n",
       "      <td>3.0</td>\n",
       "      <td>1.4</td>\n",
       "      <td>0.2</td>\n",
       "      <td>0</td>\n",
       "    </tr>\n",
       "    <tr>\n",
       "      <th>2</th>\n",
       "      <td>4.7</td>\n",
       "      <td>3.2</td>\n",
       "      <td>1.3</td>\n",
       "      <td>0.2</td>\n",
       "      <td>0</td>\n",
       "    </tr>\n",
       "    <tr>\n",
       "      <th>3</th>\n",
       "      <td>4.6</td>\n",
       "      <td>3.1</td>\n",
       "      <td>1.5</td>\n",
       "      <td>0.2</td>\n",
       "      <td>0</td>\n",
       "    </tr>\n",
       "    <tr>\n",
       "      <th>4</th>\n",
       "      <td>5.0</td>\n",
       "      <td>3.6</td>\n",
       "      <td>1.4</td>\n",
       "      <td>0.2</td>\n",
       "      <td>0</td>\n",
       "    </tr>\n",
       "    <tr>\n",
       "      <th>...</th>\n",
       "      <td>...</td>\n",
       "      <td>...</td>\n",
       "      <td>...</td>\n",
       "      <td>...</td>\n",
       "      <td>...</td>\n",
       "    </tr>\n",
       "    <tr>\n",
       "      <th>145</th>\n",
       "      <td>6.7</td>\n",
       "      <td>3.0</td>\n",
       "      <td>5.2</td>\n",
       "      <td>2.3</td>\n",
       "      <td>2</td>\n",
       "    </tr>\n",
       "    <tr>\n",
       "      <th>146</th>\n",
       "      <td>6.3</td>\n",
       "      <td>2.5</td>\n",
       "      <td>5.0</td>\n",
       "      <td>1.9</td>\n",
       "      <td>2</td>\n",
       "    </tr>\n",
       "    <tr>\n",
       "      <th>147</th>\n",
       "      <td>6.5</td>\n",
       "      <td>3.0</td>\n",
       "      <td>5.2</td>\n",
       "      <td>2.0</td>\n",
       "      <td>2</td>\n",
       "    </tr>\n",
       "    <tr>\n",
       "      <th>148</th>\n",
       "      <td>6.2</td>\n",
       "      <td>3.4</td>\n",
       "      <td>5.4</td>\n",
       "      <td>2.3</td>\n",
       "      <td>2</td>\n",
       "    </tr>\n",
       "    <tr>\n",
       "      <th>149</th>\n",
       "      <td>5.9</td>\n",
       "      <td>3.0</td>\n",
       "      <td>5.1</td>\n",
       "      <td>1.8</td>\n",
       "      <td>2</td>\n",
       "    </tr>\n",
       "  </tbody>\n",
       "</table>\n",
       "<p>150 rows × 5 columns</p>\n",
       "</div>"
      ],
      "text/plain": [
       "     sepal length  sepal width  petal length  petal width  target\n",
       "0             5.1          3.5           1.4          0.2       0\n",
       "1             4.9          3.0           1.4          0.2       0\n",
       "2             4.7          3.2           1.3          0.2       0\n",
       "3             4.6          3.1           1.5          0.2       0\n",
       "4             5.0          3.6           1.4          0.2       0\n",
       "..            ...          ...           ...          ...     ...\n",
       "145           6.7          3.0           5.2          2.3       2\n",
       "146           6.3          2.5           5.0          1.9       2\n",
       "147           6.5          3.0           5.2          2.0       2\n",
       "148           6.2          3.4           5.4          2.3       2\n",
       "149           5.9          3.0           5.1          1.8       2\n",
       "\n",
       "[150 rows x 5 columns]"
      ]
     },
     "execution_count": 8,
     "metadata": {},
     "output_type": "execute_result"
    }
   ],
   "source": [
    "# 추가된 종속변수 확인하기\n",
    "iris_df"
   ]
  },
  {
   "cell_type": "code",
   "execution_count": 9,
   "metadata": {},
   "outputs": [],
   "source": [
    "## 독립변수\n",
    "X = iris_df.loc[: , 'sepal length' : 'petal width']"
   ]
  },
  {
   "cell_type": "code",
   "execution_count": 10,
   "metadata": {
    "scrolled": true
   },
   "outputs": [
    {
     "data": {
      "text/html": [
       "<div>\n",
       "<style scoped>\n",
       "    .dataframe tbody tr th:only-of-type {\n",
       "        vertical-align: middle;\n",
       "    }\n",
       "\n",
       "    .dataframe tbody tr th {\n",
       "        vertical-align: top;\n",
       "    }\n",
       "\n",
       "    .dataframe thead th {\n",
       "        text-align: right;\n",
       "    }\n",
       "</style>\n",
       "<table border=\"1\" class=\"dataframe\">\n",
       "  <thead>\n",
       "    <tr style=\"text-align: right;\">\n",
       "      <th></th>\n",
       "      <th>sepal length</th>\n",
       "      <th>sepal width</th>\n",
       "      <th>petal length</th>\n",
       "      <th>petal width</th>\n",
       "    </tr>\n",
       "  </thead>\n",
       "  <tbody>\n",
       "    <tr>\n",
       "      <th>0</th>\n",
       "      <td>5.1</td>\n",
       "      <td>3.5</td>\n",
       "      <td>1.4</td>\n",
       "      <td>0.2</td>\n",
       "    </tr>\n",
       "    <tr>\n",
       "      <th>1</th>\n",
       "      <td>4.9</td>\n",
       "      <td>3.0</td>\n",
       "      <td>1.4</td>\n",
       "      <td>0.2</td>\n",
       "    </tr>\n",
       "    <tr>\n",
       "      <th>2</th>\n",
       "      <td>4.7</td>\n",
       "      <td>3.2</td>\n",
       "      <td>1.3</td>\n",
       "      <td>0.2</td>\n",
       "    </tr>\n",
       "    <tr>\n",
       "      <th>3</th>\n",
       "      <td>4.6</td>\n",
       "      <td>3.1</td>\n",
       "      <td>1.5</td>\n",
       "      <td>0.2</td>\n",
       "    </tr>\n",
       "    <tr>\n",
       "      <th>4</th>\n",
       "      <td>5.0</td>\n",
       "      <td>3.6</td>\n",
       "      <td>1.4</td>\n",
       "      <td>0.2</td>\n",
       "    </tr>\n",
       "    <tr>\n",
       "      <th>...</th>\n",
       "      <td>...</td>\n",
       "      <td>...</td>\n",
       "      <td>...</td>\n",
       "      <td>...</td>\n",
       "    </tr>\n",
       "    <tr>\n",
       "      <th>145</th>\n",
       "      <td>6.7</td>\n",
       "      <td>3.0</td>\n",
       "      <td>5.2</td>\n",
       "      <td>2.3</td>\n",
       "    </tr>\n",
       "    <tr>\n",
       "      <th>146</th>\n",
       "      <td>6.3</td>\n",
       "      <td>2.5</td>\n",
       "      <td>5.0</td>\n",
       "      <td>1.9</td>\n",
       "    </tr>\n",
       "    <tr>\n",
       "      <th>147</th>\n",
       "      <td>6.5</td>\n",
       "      <td>3.0</td>\n",
       "      <td>5.2</td>\n",
       "      <td>2.0</td>\n",
       "    </tr>\n",
       "    <tr>\n",
       "      <th>148</th>\n",
       "      <td>6.2</td>\n",
       "      <td>3.4</td>\n",
       "      <td>5.4</td>\n",
       "      <td>2.3</td>\n",
       "    </tr>\n",
       "    <tr>\n",
       "      <th>149</th>\n",
       "      <td>5.9</td>\n",
       "      <td>3.0</td>\n",
       "      <td>5.1</td>\n",
       "      <td>1.8</td>\n",
       "    </tr>\n",
       "  </tbody>\n",
       "</table>\n",
       "<p>150 rows × 4 columns</p>\n",
       "</div>"
      ],
      "text/plain": [
       "     sepal length  sepal width  petal length  petal width\n",
       "0             5.1          3.5           1.4          0.2\n",
       "1             4.9          3.0           1.4          0.2\n",
       "2             4.7          3.2           1.3          0.2\n",
       "3             4.6          3.1           1.5          0.2\n",
       "4             5.0          3.6           1.4          0.2\n",
       "..            ...          ...           ...          ...\n",
       "145           6.7          3.0           5.2          2.3\n",
       "146           6.3          2.5           5.0          1.9\n",
       "147           6.5          3.0           5.2          2.0\n",
       "148           6.2          3.4           5.4          2.3\n",
       "149           5.9          3.0           5.1          1.8\n",
       "\n",
       "[150 rows x 4 columns]"
      ]
     },
     "execution_count": 10,
     "metadata": {},
     "output_type": "execute_result"
    }
   ],
   "source": [
    "X"
   ]
  },
  {
   "cell_type": "code",
   "execution_count": 11,
   "metadata": {},
   "outputs": [],
   "source": [
    "## 종속변수\n",
    "y = iris_df.loc[: , 'target']"
   ]
  },
  {
   "cell_type": "code",
   "execution_count": 12,
   "metadata": {},
   "outputs": [
    {
     "data": {
      "text/plain": [
       "0      0\n",
       "1      0\n",
       "2      0\n",
       "3      0\n",
       "4      0\n",
       "      ..\n",
       "145    2\n",
       "146    2\n",
       "147    2\n",
       "148    2\n",
       "149    2\n",
       "Name: target, Length: 150, dtype: int32"
      ]
     },
     "execution_count": 12,
     "metadata": {},
     "output_type": "execute_result"
    }
   ],
   "source": [
    "y"
   ]
  },
  {
   "cell_type": "code",
   "execution_count": 13,
   "metadata": {},
   "outputs": [],
   "source": [
    "from sklearn.model_selection import train_test_split"
   ]
  },
  {
   "cell_type": "code",
   "execution_count": 14,
   "metadata": {},
   "outputs": [],
   "source": [
    "## train, test 데이터 나눠주기\n",
    "# test_size가 0.2로 20%\n",
    "# train 80%(120줄), test 20%(30줄)로 독립변수, 종속변수가 각 각 나뉘어진다.\n",
    "# 순서대로 리턴되니깐 순서대로 변수를 지정해서 넣어주면 된다.\n",
    "# X_train : 독립변수 80%, X_test : 독립변수 20%\n",
    "# y_train : 종속변수 80%, y_test : 종속변수 20%\n",
    "X_train, X_test, y_train, y_test = train_test_split(X, y, test_size = 0.2)"
   ]
  },
  {
   "cell_type": "code",
   "execution_count": 15,
   "metadata": {
    "scrolled": true
   },
   "outputs": [
    {
     "data": {
      "text/html": [
       "<div>\n",
       "<style scoped>\n",
       "    .dataframe tbody tr th:only-of-type {\n",
       "        vertical-align: middle;\n",
       "    }\n",
       "\n",
       "    .dataframe tbody tr th {\n",
       "        vertical-align: top;\n",
       "    }\n",
       "\n",
       "    .dataframe thead th {\n",
       "        text-align: right;\n",
       "    }\n",
       "</style>\n",
       "<table border=\"1\" class=\"dataframe\">\n",
       "  <thead>\n",
       "    <tr style=\"text-align: right;\">\n",
       "      <th></th>\n",
       "      <th>sepal length</th>\n",
       "      <th>sepal width</th>\n",
       "      <th>petal length</th>\n",
       "      <th>petal width</th>\n",
       "    </tr>\n",
       "  </thead>\n",
       "  <tbody>\n",
       "    <tr>\n",
       "      <th>114</th>\n",
       "      <td>5.8</td>\n",
       "      <td>2.8</td>\n",
       "      <td>5.1</td>\n",
       "      <td>2.4</td>\n",
       "    </tr>\n",
       "    <tr>\n",
       "      <th>11</th>\n",
       "      <td>4.8</td>\n",
       "      <td>3.4</td>\n",
       "      <td>1.6</td>\n",
       "      <td>0.2</td>\n",
       "    </tr>\n",
       "    <tr>\n",
       "      <th>0</th>\n",
       "      <td>5.1</td>\n",
       "      <td>3.5</td>\n",
       "      <td>1.4</td>\n",
       "      <td>0.2</td>\n",
       "    </tr>\n",
       "    <tr>\n",
       "      <th>37</th>\n",
       "      <td>4.9</td>\n",
       "      <td>3.6</td>\n",
       "      <td>1.4</td>\n",
       "      <td>0.1</td>\n",
       "    </tr>\n",
       "    <tr>\n",
       "      <th>84</th>\n",
       "      <td>5.4</td>\n",
       "      <td>3.0</td>\n",
       "      <td>4.5</td>\n",
       "      <td>1.5</td>\n",
       "    </tr>\n",
       "    <tr>\n",
       "      <th>...</th>\n",
       "      <td>...</td>\n",
       "      <td>...</td>\n",
       "      <td>...</td>\n",
       "      <td>...</td>\n",
       "    </tr>\n",
       "    <tr>\n",
       "      <th>116</th>\n",
       "      <td>6.5</td>\n",
       "      <td>3.0</td>\n",
       "      <td>5.5</td>\n",
       "      <td>1.8</td>\n",
       "    </tr>\n",
       "    <tr>\n",
       "      <th>51</th>\n",
       "      <td>6.4</td>\n",
       "      <td>3.2</td>\n",
       "      <td>4.5</td>\n",
       "      <td>1.5</td>\n",
       "    </tr>\n",
       "    <tr>\n",
       "      <th>2</th>\n",
       "      <td>4.7</td>\n",
       "      <td>3.2</td>\n",
       "      <td>1.3</td>\n",
       "      <td>0.2</td>\n",
       "    </tr>\n",
       "    <tr>\n",
       "      <th>95</th>\n",
       "      <td>5.7</td>\n",
       "      <td>3.0</td>\n",
       "      <td>4.2</td>\n",
       "      <td>1.2</td>\n",
       "    </tr>\n",
       "    <tr>\n",
       "      <th>133</th>\n",
       "      <td>6.3</td>\n",
       "      <td>2.8</td>\n",
       "      <td>5.1</td>\n",
       "      <td>1.5</td>\n",
       "    </tr>\n",
       "  </tbody>\n",
       "</table>\n",
       "<p>120 rows × 4 columns</p>\n",
       "</div>"
      ],
      "text/plain": [
       "     sepal length  sepal width  petal length  petal width\n",
       "114           5.8          2.8           5.1          2.4\n",
       "11            4.8          3.4           1.6          0.2\n",
       "0             5.1          3.5           1.4          0.2\n",
       "37            4.9          3.6           1.4          0.1\n",
       "84            5.4          3.0           4.5          1.5\n",
       "..            ...          ...           ...          ...\n",
       "116           6.5          3.0           5.5          1.8\n",
       "51            6.4          3.2           4.5          1.5\n",
       "2             4.7          3.2           1.3          0.2\n",
       "95            5.7          3.0           4.2          1.2\n",
       "133           6.3          2.8           5.1          1.5\n",
       "\n",
       "[120 rows x 4 columns]"
      ]
     },
     "execution_count": 15,
     "metadata": {},
     "output_type": "execute_result"
    }
   ],
   "source": [
    "## 독립변수 80% 확인하기\n",
    "# 랜덤으로 분류되서 줄번호를 확인하면 핸덤임을 확인할 수 있다.\n",
    "X_train"
   ]
  },
  {
   "cell_type": "code",
   "execution_count": 16,
   "metadata": {},
   "outputs": [
    {
     "data": {
      "text/html": [
       "<div>\n",
       "<style scoped>\n",
       "    .dataframe tbody tr th:only-of-type {\n",
       "        vertical-align: middle;\n",
       "    }\n",
       "\n",
       "    .dataframe tbody tr th {\n",
       "        vertical-align: top;\n",
       "    }\n",
       "\n",
       "    .dataframe thead th {\n",
       "        text-align: right;\n",
       "    }\n",
       "</style>\n",
       "<table border=\"1\" class=\"dataframe\">\n",
       "  <thead>\n",
       "    <tr style=\"text-align: right;\">\n",
       "      <th></th>\n",
       "      <th>sepal length</th>\n",
       "      <th>sepal width</th>\n",
       "      <th>petal length</th>\n",
       "      <th>petal width</th>\n",
       "    </tr>\n",
       "  </thead>\n",
       "  <tbody>\n",
       "    <tr>\n",
       "      <th>55</th>\n",
       "      <td>5.7</td>\n",
       "      <td>2.8</td>\n",
       "      <td>4.5</td>\n",
       "      <td>1.3</td>\n",
       "    </tr>\n",
       "    <tr>\n",
       "      <th>91</th>\n",
       "      <td>6.1</td>\n",
       "      <td>3.0</td>\n",
       "      <td>4.6</td>\n",
       "      <td>1.4</td>\n",
       "    </tr>\n",
       "    <tr>\n",
       "      <th>136</th>\n",
       "      <td>6.3</td>\n",
       "      <td>3.4</td>\n",
       "      <td>5.6</td>\n",
       "      <td>2.4</td>\n",
       "    </tr>\n",
       "    <tr>\n",
       "      <th>130</th>\n",
       "      <td>7.4</td>\n",
       "      <td>2.8</td>\n",
       "      <td>6.1</td>\n",
       "      <td>1.9</td>\n",
       "    </tr>\n",
       "    <tr>\n",
       "      <th>71</th>\n",
       "      <td>6.1</td>\n",
       "      <td>2.8</td>\n",
       "      <td>4.0</td>\n",
       "      <td>1.3</td>\n",
       "    </tr>\n",
       "    <tr>\n",
       "      <th>72</th>\n",
       "      <td>6.3</td>\n",
       "      <td>2.5</td>\n",
       "      <td>4.9</td>\n",
       "      <td>1.5</td>\n",
       "    </tr>\n",
       "    <tr>\n",
       "      <th>35</th>\n",
       "      <td>5.0</td>\n",
       "      <td>3.2</td>\n",
       "      <td>1.2</td>\n",
       "      <td>0.2</td>\n",
       "    </tr>\n",
       "    <tr>\n",
       "      <th>128</th>\n",
       "      <td>6.4</td>\n",
       "      <td>2.8</td>\n",
       "      <td>5.6</td>\n",
       "      <td>2.1</td>\n",
       "    </tr>\n",
       "    <tr>\n",
       "      <th>132</th>\n",
       "      <td>6.4</td>\n",
       "      <td>2.8</td>\n",
       "      <td>5.6</td>\n",
       "      <td>2.2</td>\n",
       "    </tr>\n",
       "    <tr>\n",
       "      <th>58</th>\n",
       "      <td>6.6</td>\n",
       "      <td>2.9</td>\n",
       "      <td>4.6</td>\n",
       "      <td>1.3</td>\n",
       "    </tr>\n",
       "    <tr>\n",
       "      <th>57</th>\n",
       "      <td>4.9</td>\n",
       "      <td>2.4</td>\n",
       "      <td>3.3</td>\n",
       "      <td>1.0</td>\n",
       "    </tr>\n",
       "    <tr>\n",
       "      <th>1</th>\n",
       "      <td>4.9</td>\n",
       "      <td>3.0</td>\n",
       "      <td>1.4</td>\n",
       "      <td>0.2</td>\n",
       "    </tr>\n",
       "    <tr>\n",
       "      <th>131</th>\n",
       "      <td>7.9</td>\n",
       "      <td>3.8</td>\n",
       "      <td>6.4</td>\n",
       "      <td>2.0</td>\n",
       "    </tr>\n",
       "    <tr>\n",
       "      <th>13</th>\n",
       "      <td>4.3</td>\n",
       "      <td>3.0</td>\n",
       "      <td>1.1</td>\n",
       "      <td>0.1</td>\n",
       "    </tr>\n",
       "    <tr>\n",
       "      <th>142</th>\n",
       "      <td>5.8</td>\n",
       "      <td>2.7</td>\n",
       "      <td>5.1</td>\n",
       "      <td>1.9</td>\n",
       "    </tr>\n",
       "    <tr>\n",
       "      <th>4</th>\n",
       "      <td>5.0</td>\n",
       "      <td>3.6</td>\n",
       "      <td>1.4</td>\n",
       "      <td>0.2</td>\n",
       "    </tr>\n",
       "    <tr>\n",
       "      <th>38</th>\n",
       "      <td>4.4</td>\n",
       "      <td>3.0</td>\n",
       "      <td>1.3</td>\n",
       "      <td>0.2</td>\n",
       "    </tr>\n",
       "    <tr>\n",
       "      <th>108</th>\n",
       "      <td>6.7</td>\n",
       "      <td>2.5</td>\n",
       "      <td>5.8</td>\n",
       "      <td>1.8</td>\n",
       "    </tr>\n",
       "    <tr>\n",
       "      <th>64</th>\n",
       "      <td>5.6</td>\n",
       "      <td>2.9</td>\n",
       "      <td>3.6</td>\n",
       "      <td>1.3</td>\n",
       "    </tr>\n",
       "    <tr>\n",
       "      <th>137</th>\n",
       "      <td>6.4</td>\n",
       "      <td>3.1</td>\n",
       "      <td>5.5</td>\n",
       "      <td>1.8</td>\n",
       "    </tr>\n",
       "    <tr>\n",
       "      <th>44</th>\n",
       "      <td>5.1</td>\n",
       "      <td>3.8</td>\n",
       "      <td>1.9</td>\n",
       "      <td>0.4</td>\n",
       "    </tr>\n",
       "    <tr>\n",
       "      <th>68</th>\n",
       "      <td>6.2</td>\n",
       "      <td>2.2</td>\n",
       "      <td>4.5</td>\n",
       "      <td>1.5</td>\n",
       "    </tr>\n",
       "    <tr>\n",
       "      <th>75</th>\n",
       "      <td>6.6</td>\n",
       "      <td>3.0</td>\n",
       "      <td>4.4</td>\n",
       "      <td>1.4</td>\n",
       "    </tr>\n",
       "    <tr>\n",
       "      <th>19</th>\n",
       "      <td>5.1</td>\n",
       "      <td>3.8</td>\n",
       "      <td>1.5</td>\n",
       "      <td>0.3</td>\n",
       "    </tr>\n",
       "    <tr>\n",
       "      <th>81</th>\n",
       "      <td>5.5</td>\n",
       "      <td>2.4</td>\n",
       "      <td>3.7</td>\n",
       "      <td>1.0</td>\n",
       "    </tr>\n",
       "    <tr>\n",
       "      <th>98</th>\n",
       "      <td>5.1</td>\n",
       "      <td>2.5</td>\n",
       "      <td>3.0</td>\n",
       "      <td>1.1</td>\n",
       "    </tr>\n",
       "    <tr>\n",
       "      <th>52</th>\n",
       "      <td>6.9</td>\n",
       "      <td>3.1</td>\n",
       "      <td>4.9</td>\n",
       "      <td>1.5</td>\n",
       "    </tr>\n",
       "    <tr>\n",
       "      <th>113</th>\n",
       "      <td>5.7</td>\n",
       "      <td>2.5</td>\n",
       "      <td>5.0</td>\n",
       "      <td>2.0</td>\n",
       "    </tr>\n",
       "    <tr>\n",
       "      <th>9</th>\n",
       "      <td>4.9</td>\n",
       "      <td>3.1</td>\n",
       "      <td>1.5</td>\n",
       "      <td>0.1</td>\n",
       "    </tr>\n",
       "    <tr>\n",
       "      <th>147</th>\n",
       "      <td>6.5</td>\n",
       "      <td>3.0</td>\n",
       "      <td>5.2</td>\n",
       "      <td>2.0</td>\n",
       "    </tr>\n",
       "  </tbody>\n",
       "</table>\n",
       "</div>"
      ],
      "text/plain": [
       "     sepal length  sepal width  petal length  petal width\n",
       "55            5.7          2.8           4.5          1.3\n",
       "91            6.1          3.0           4.6          1.4\n",
       "136           6.3          3.4           5.6          2.4\n",
       "130           7.4          2.8           6.1          1.9\n",
       "71            6.1          2.8           4.0          1.3\n",
       "72            6.3          2.5           4.9          1.5\n",
       "35            5.0          3.2           1.2          0.2\n",
       "128           6.4          2.8           5.6          2.1\n",
       "132           6.4          2.8           5.6          2.2\n",
       "58            6.6          2.9           4.6          1.3\n",
       "57            4.9          2.4           3.3          1.0\n",
       "1             4.9          3.0           1.4          0.2\n",
       "131           7.9          3.8           6.4          2.0\n",
       "13            4.3          3.0           1.1          0.1\n",
       "142           5.8          2.7           5.1          1.9\n",
       "4             5.0          3.6           1.4          0.2\n",
       "38            4.4          3.0           1.3          0.2\n",
       "108           6.7          2.5           5.8          1.8\n",
       "64            5.6          2.9           3.6          1.3\n",
       "137           6.4          3.1           5.5          1.8\n",
       "44            5.1          3.8           1.9          0.4\n",
       "68            6.2          2.2           4.5          1.5\n",
       "75            6.6          3.0           4.4          1.4\n",
       "19            5.1          3.8           1.5          0.3\n",
       "81            5.5          2.4           3.7          1.0\n",
       "98            5.1          2.5           3.0          1.1\n",
       "52            6.9          3.1           4.9          1.5\n",
       "113           5.7          2.5           5.0          2.0\n",
       "9             4.9          3.1           1.5          0.1\n",
       "147           6.5          3.0           5.2          2.0"
      ]
     },
     "execution_count": 16,
     "metadata": {},
     "output_type": "execute_result"
    }
   ],
   "source": [
    "## 독립변수 20% 확인하기\n",
    "X_test"
   ]
  },
  {
   "cell_type": "code",
   "execution_count": 17,
   "metadata": {},
   "outputs": [
    {
     "data": {
      "text/plain": [
       "114    2\n",
       "11     0\n",
       "0      0\n",
       "37     0\n",
       "84     1\n",
       "      ..\n",
       "116    2\n",
       "51     1\n",
       "2      0\n",
       "95     1\n",
       "133    2\n",
       "Name: target, Length: 120, dtype: int32"
      ]
     },
     "execution_count": 17,
     "metadata": {},
     "output_type": "execute_result"
    }
   ],
   "source": [
    "## 종속변수 80% 확인하기\n",
    "y_train"
   ]
  },
  {
   "cell_type": "code",
   "execution_count": 18,
   "metadata": {},
   "outputs": [
    {
     "data": {
      "text/plain": [
       "55     1\n",
       "91     1\n",
       "136    2\n",
       "130    2\n",
       "71     1\n",
       "72     1\n",
       "35     0\n",
       "128    2\n",
       "132    2\n",
       "58     1\n",
       "57     1\n",
       "1      0\n",
       "131    2\n",
       "13     0\n",
       "142    2\n",
       "4      0\n",
       "38     0\n",
       "108    2\n",
       "64     1\n",
       "137    2\n",
       "44     0\n",
       "68     1\n",
       "75     1\n",
       "19     0\n",
       "81     1\n",
       "98     1\n",
       "52     1\n",
       "113    2\n",
       "9      0\n",
       "147    2\n",
       "Name: target, dtype: int32"
      ]
     },
     "execution_count": 18,
     "metadata": {},
     "output_type": "execute_result"
    }
   ],
   "source": [
    "## 종속변수 20% 확인하기\n",
    "y_test"
   ]
  },
  {
   "cell_type": "markdown",
   "metadata": {},
   "source": [
    "#### Random Forest"
   ]
  },
  {
   "cell_type": "code",
   "execution_count": 19,
   "metadata": {},
   "outputs": [],
   "source": [
    "## Decision Tree 만들 객체를 리턴하기\n",
    "# 분류할거니깐 RandomForestClassifier 선택하기\n",
    "# Tree개수를 지정하지않아서 기본인 100개를 생성한다.\n",
    "from sklearn.ensemble import RandomForestClassifier"
   ]
  },
  {
   "cell_type": "code",
   "execution_count": 20,
   "metadata": {},
   "outputs": [
    {
     "data": {
      "text/plain": [
       "RandomForestClassifier(oob_score=True)"
      ]
     },
     "execution_count": 20,
     "metadata": {},
     "output_type": "execute_result"
    }
   ],
   "source": [
    "## Decision Tree nodes에서 컬럼 사용 비율 계산 지정하기\n",
    "# oob_score = True를 사용해서 비율을 계산할 수 있다.\n",
    "# 괄호안에 Decision Tree 개수를 지정할 수도 있다.\n",
    "rfc = RandomForestClassifier(oob_score = True)\n",
    "rfc"
   ]
  },
  {
   "cell_type": "code",
   "execution_count": 21,
   "metadata": {},
   "outputs": [
    {
     "data": {
      "text/plain": [
       "RandomForestClassifier(oob_score=True)"
      ]
     },
     "execution_count": 21,
     "metadata": {},
     "output_type": "execute_result"
    }
   ],
   "source": [
    "## Decision Tree 생성하기\n",
    "# fit을 사용해서 Decision Tree 생성한다.\n",
    "# rfc안에 서로 다른 Decision Tree가 100개가 만들어져서 저장되어있다.\n",
    "rfc.fit(X_train, y_train)"
   ]
  },
  {
   "cell_type": "code",
   "execution_count": 22,
   "metadata": {},
   "outputs": [
    {
     "data": {
      "text/plain": [
       "[DecisionTreeClassifier(max_features='auto', random_state=508349908),\n",
       " DecisionTreeClassifier(max_features='auto', random_state=560633777),\n",
       " DecisionTreeClassifier(max_features='auto', random_state=393815790),\n",
       " DecisionTreeClassifier(max_features='auto', random_state=323553235),\n",
       " DecisionTreeClassifier(max_features='auto', random_state=1992194295),\n",
       " DecisionTreeClassifier(max_features='auto', random_state=322037128),\n",
       " DecisionTreeClassifier(max_features='auto', random_state=1060760209),\n",
       " DecisionTreeClassifier(max_features='auto', random_state=1138762031),\n",
       " DecisionTreeClassifier(max_features='auto', random_state=1400064972),\n",
       " DecisionTreeClassifier(max_features='auto', random_state=1023422334),\n",
       " DecisionTreeClassifier(max_features='auto', random_state=213748651),\n",
       " DecisionTreeClassifier(max_features='auto', random_state=1546904418),\n",
       " DecisionTreeClassifier(max_features='auto', random_state=1730216010),\n",
       " DecisionTreeClassifier(max_features='auto', random_state=796404728),\n",
       " DecisionTreeClassifier(max_features='auto', random_state=1810480272),\n",
       " DecisionTreeClassifier(max_features='auto', random_state=90870094),\n",
       " DecisionTreeClassifier(max_features='auto', random_state=1473710358),\n",
       " DecisionTreeClassifier(max_features='auto', random_state=589541595),\n",
       " DecisionTreeClassifier(max_features='auto', random_state=81676589),\n",
       " DecisionTreeClassifier(max_features='auto', random_state=786996993),\n",
       " DecisionTreeClassifier(max_features='auto', random_state=1125226192),\n",
       " DecisionTreeClassifier(max_features='auto', random_state=233429075),\n",
       " DecisionTreeClassifier(max_features='auto', random_state=336683939),\n",
       " DecisionTreeClassifier(max_features='auto', random_state=2058733762),\n",
       " DecisionTreeClassifier(max_features='auto', random_state=539095642),\n",
       " DecisionTreeClassifier(max_features='auto', random_state=69793510),\n",
       " DecisionTreeClassifier(max_features='auto', random_state=273992698),\n",
       " DecisionTreeClassifier(max_features='auto', random_state=1904755811),\n",
       " DecisionTreeClassifier(max_features='auto', random_state=606244776),\n",
       " DecisionTreeClassifier(max_features='auto', random_state=2139647910),\n",
       " DecisionTreeClassifier(max_features='auto', random_state=1261440098),\n",
       " DecisionTreeClassifier(max_features='auto', random_state=1139268409),\n",
       " DecisionTreeClassifier(max_features='auto', random_state=788642196),\n",
       " DecisionTreeClassifier(max_features='auto', random_state=1513612473),\n",
       " DecisionTreeClassifier(max_features='auto', random_state=914681705),\n",
       " DecisionTreeClassifier(max_features='auto', random_state=193047294),\n",
       " DecisionTreeClassifier(max_features='auto', random_state=1518361619),\n",
       " DecisionTreeClassifier(max_features='auto', random_state=1597693968),\n",
       " DecisionTreeClassifier(max_features='auto', random_state=451167832),\n",
       " DecisionTreeClassifier(max_features='auto', random_state=724204080),\n",
       " DecisionTreeClassifier(max_features='auto', random_state=1098369638),\n",
       " DecisionTreeClassifier(max_features='auto', random_state=1620384492),\n",
       " DecisionTreeClassifier(max_features='auto', random_state=1908893882),\n",
       " DecisionTreeClassifier(max_features='auto', random_state=1497563006),\n",
       " DecisionTreeClassifier(max_features='auto', random_state=356304408),\n",
       " DecisionTreeClassifier(max_features='auto', random_state=1083510447),\n",
       " DecisionTreeClassifier(max_features='auto', random_state=659130180),\n",
       " DecisionTreeClassifier(max_features='auto', random_state=1717916794),\n",
       " DecisionTreeClassifier(max_features='auto', random_state=3120525),\n",
       " DecisionTreeClassifier(max_features='auto', random_state=596189854),\n",
       " DecisionTreeClassifier(max_features='auto', random_state=673590666),\n",
       " DecisionTreeClassifier(max_features='auto', random_state=1361097965),\n",
       " DecisionTreeClassifier(max_features='auto', random_state=2142987776),\n",
       " DecisionTreeClassifier(max_features='auto', random_state=1572596962),\n",
       " DecisionTreeClassifier(max_features='auto', random_state=46370360),\n",
       " DecisionTreeClassifier(max_features='auto', random_state=320495286),\n",
       " DecisionTreeClassifier(max_features='auto', random_state=1083220100),\n",
       " DecisionTreeClassifier(max_features='auto', random_state=1286533304),\n",
       " DecisionTreeClassifier(max_features='auto', random_state=1129305617),\n",
       " DecisionTreeClassifier(max_features='auto', random_state=901709083),\n",
       " DecisionTreeClassifier(max_features='auto', random_state=1186655821),\n",
       " DecisionTreeClassifier(max_features='auto', random_state=448798293),\n",
       " DecisionTreeClassifier(max_features='auto', random_state=1856160078),\n",
       " DecisionTreeClassifier(max_features='auto', random_state=1678243448),\n",
       " DecisionTreeClassifier(max_features='auto', random_state=1955738174),\n",
       " DecisionTreeClassifier(max_features='auto', random_state=1078209754),\n",
       " DecisionTreeClassifier(max_features='auto', random_state=1830769864),\n",
       " DecisionTreeClassifier(max_features='auto', random_state=2011960736),\n",
       " DecisionTreeClassifier(max_features='auto', random_state=1143184260),\n",
       " DecisionTreeClassifier(max_features='auto', random_state=38309305),\n",
       " DecisionTreeClassifier(max_features='auto', random_state=988335720),\n",
       " DecisionTreeClassifier(max_features='auto', random_state=2014292125),\n",
       " DecisionTreeClassifier(max_features='auto', random_state=348026514),\n",
       " DecisionTreeClassifier(max_features='auto', random_state=456182056),\n",
       " DecisionTreeClassifier(max_features='auto', random_state=332087575),\n",
       " DecisionTreeClassifier(max_features='auto', random_state=2001444250),\n",
       " DecisionTreeClassifier(max_features='auto', random_state=1775860817),\n",
       " DecisionTreeClassifier(max_features='auto', random_state=2082982753),\n",
       " DecisionTreeClassifier(max_features='auto', random_state=1828310261),\n",
       " DecisionTreeClassifier(max_features='auto', random_state=1988653024),\n",
       " DecisionTreeClassifier(max_features='auto', random_state=49504106),\n",
       " DecisionTreeClassifier(max_features='auto', random_state=1802737096),\n",
       " DecisionTreeClassifier(max_features='auto', random_state=1002629279),\n",
       " DecisionTreeClassifier(max_features='auto', random_state=1481956289),\n",
       " DecisionTreeClassifier(max_features='auto', random_state=1198695739),\n",
       " DecisionTreeClassifier(max_features='auto', random_state=2053747920),\n",
       " DecisionTreeClassifier(max_features='auto', random_state=381179703),\n",
       " DecisionTreeClassifier(max_features='auto', random_state=1021656494),\n",
       " DecisionTreeClassifier(max_features='auto', random_state=282960433),\n",
       " DecisionTreeClassifier(max_features='auto', random_state=795741304),\n",
       " DecisionTreeClassifier(max_features='auto', random_state=37090586),\n",
       " DecisionTreeClassifier(max_features='auto', random_state=968213666),\n",
       " DecisionTreeClassifier(max_features='auto', random_state=674663409),\n",
       " DecisionTreeClassifier(max_features='auto', random_state=189799288),\n",
       " DecisionTreeClassifier(max_features='auto', random_state=1131046840),\n",
       " DecisionTreeClassifier(max_features='auto', random_state=1759124174),\n",
       " DecisionTreeClassifier(max_features='auto', random_state=1783700317),\n",
       " DecisionTreeClassifier(max_features='auto', random_state=888119768),\n",
       " DecisionTreeClassifier(max_features='auto', random_state=122891400),\n",
       " DecisionTreeClassifier(max_features='auto', random_state=1852226554)]"
      ]
     },
     "execution_count": 22,
     "metadata": {},
     "output_type": "execute_result"
    }
   ],
   "source": [
    "## Decision Tree 확인하기\n",
    "# 총 100개의 서로 다른 Decision Tree가 있음을 확인할 수 있다.\n",
    "rfc.estimators_"
   ]
  },
  {
   "cell_type": "code",
   "execution_count": 23,
   "metadata": {},
   "outputs": [
    {
     "data": {
      "text/plain": [
       "DecisionTreeClassifier(max_features='auto', random_state=1852226554)"
      ]
     },
     "execution_count": 23,
     "metadata": {},
     "output_type": "execute_result"
    }
   ],
   "source": [
    "## Decision Tree 하나 확인해보기\n",
    "rfc.estimators_[99]"
   ]
  },
  {
   "cell_type": "code",
   "execution_count": 24,
   "metadata": {},
   "outputs": [],
   "source": [
    "## Graphviz path 설정\n",
    "# Decision Tree 시각화를 위해서 import\n",
    "import os\n",
    "os.environ['PATH'] += os.pathsep + 'C:\\Program Files\\Graphviz\\bin'"
   ]
  },
  {
   "cell_type": "code",
   "execution_count": 25,
   "metadata": {},
   "outputs": [
    {
     "data": {
      "text/plain": [
       "'C:\\\\Users\\\\Admin\\\\anaconda3;C:\\\\Users\\\\Admin\\\\anaconda3\\\\Library\\\\mingw-w64\\\\bin;C:\\\\Users\\\\Admin\\\\anaconda3\\\\Library\\\\usr\\\\bin;C:\\\\Users\\\\Admin\\\\anaconda3\\\\Library\\\\bin;C:\\\\Users\\\\Admin\\\\anaconda3\\\\Scripts;C:\\\\Users\\\\Admin\\\\anaconda3\\\\bin;C:\\\\Users\\\\Admin\\\\anaconda3\\\\condabin;C:\\\\Program Files\\\\Graphviz\\\\bin;C:\\\\Program Files (x86)\\\\Common Files\\\\Oracle\\\\Java\\\\javapath;C:\\\\Program Files (x86)\\\\Intel\\\\Intel(R) Management Engine Components\\\\iCLS;C:\\\\Program Files\\\\Intel\\\\Intel(R) Management Engine Components\\\\iCLS;C:\\\\Windows\\\\system32;C:\\\\Windows;C:\\\\Windows\\\\System32\\\\Wbem;C:\\\\Windows\\\\System32\\\\WindowsPowerShell\\\\v1.0;C:\\\\Windows\\\\System32\\\\OpenSSH;C:\\\\Program Files\\\\Intel\\\\WiFi\\\\bin;C:\\\\Program Files\\\\Common Files\\\\Intel\\\\WirelessCommon;C:\\\\Program Files (x86)\\\\Intel\\\\Intel(R) Management Engine Components\\\\DAL;C:\\\\Program Files\\\\Intel\\\\Intel(R) Management Engine Components\\\\DAL;C:\\\\Program Files (x86)\\\\NVIDIA Corporation\\\\PhysX\\\\Common;C:\\\\WINDOWS\\\\system32;C:\\\\WINDOWS;C:\\\\WINDOWS\\\\System32\\\\Wbem;C:\\\\WINDOWS\\\\System32\\\\WindowsPowerShell\\\\v1.0;C:\\\\WINDOWS\\\\System32\\\\OpenSSH;C:\\\\Program Files\\\\Git\\\\cmd;C:\\\\bigdata\\\\spark\\\\bin;C:\\\\Program Files\\\\MySQL\\\\MySQL Shell 8.0\\\\bin;C:\\\\Users\\\\Admin\\\\AppData\\\\Local\\\\Microsoft\\\\WindowsApps;C:\\\\Program Files\\\\Intel\\\\WiFi\\\\bin;C:\\\\Program Files\\\\Common Files\\\\Intel\\\\WirelessCommon;.;C:\\\\Users\\\\Admin\\\\AppData\\\\Local\\\\Programs\\\\Microsoft VS Code\\\\bin;C:\\\\Program Files (x86)\\\\ESTsoft\\\\ALSee\\\\x64;C:\\\\Program Files\\\\Graphviz\\x08in'"
      ]
     },
     "execution_count": 25,
     "metadata": {},
     "output_type": "execute_result"
    }
   ],
   "source": [
    "## path 설정 조회\n",
    "# 맨 밑에 'C:\\Program Files\\Graphviz\\bin'이 추가됨을 확인할 수 있다.\n",
    "os.environ['PATH']"
   ]
  },
  {
   "cell_type": "markdown",
   "metadata": {},
   "source": [
    "#### 첫번째 Decision Tree 시각화하기"
   ]
  },
  {
   "cell_type": "code",
   "execution_count": 26,
   "metadata": {},
   "outputs": [],
   "source": [
    "## 시각화 하기 위한 import\n",
    "# 보통은 pdf파일로 출력한다.\n",
    "from sklearn import tree\n",
    "import pydotplus \n",
    "from PIL import Image\n",
    "from io import BytesIO"
   ]
  },
  {
   "cell_type": "code",
   "execution_count": 27,
   "metadata": {},
   "outputs": [
    {
     "data": {
      "text/plain": [
       "Index(['sepal length', 'sepal width', 'petal length', 'petal width'], dtype='object')"
      ]
     },
     "execution_count": 27,
     "metadata": {},
     "output_type": "execute_result"
    }
   ],
   "source": [
    "## 컬럼명을 확인하기\n",
    "X_train.columns"
   ]
  },
  {
   "cell_type": "code",
   "execution_count": 28,
   "metadata": {},
   "outputs": [],
   "source": [
    "## 첫번째 Decision Tree 내용 \n",
    "# rfc.estimators_[0] : 첫번째 Decision Tree\n",
    "dt_dot_data0 = tree.export_graphviz(\n",
    "                rfc.estimators_[0],\n",
    "                feature_names = X_train.columns,\n",
    "                class_names = ['iris setosa', 'iris versicolor', 'iris virginica']\n",
    ")"
   ]
  },
  {
   "cell_type": "code",
   "execution_count": 29,
   "metadata": {},
   "outputs": [
    {
     "data": {
      "text/plain": [
       "'digraph Tree {\\nnode [shape=box] ;\\n0 [label=\"petal length <= 2.5\\\\ngini = 0.666\\\\nsamples = 79\\\\nvalue = [38, 43, 39]\\\\nclass = iris versicolor\"] ;\\n1 [label=\"gini = 0.0\\\\nsamples = 25\\\\nvalue = [38, 0, 0]\\\\nclass = iris setosa\"] ;\\n0 -> 1 [labeldistance=2.5, labelangle=45, headlabel=\"True\"] ;\\n2 [label=\"petal length <= 4.85\\\\ngini = 0.499\\\\nsamples = 54\\\\nvalue = [0, 43, 39]\\\\nclass = iris versicolor\"] ;\\n0 -> 2 [labeldistance=2.5, labelangle=-45, headlabel=\"False\"] ;\\n3 [label=\"petal length <= 4.75\\\\ngini = 0.085\\\\nsamples = 29\\\\nvalue = [0, 43, 2]\\\\nclass = iris versicolor\"] ;\\n2 -> 3 ;\\n4 [label=\"petal width <= 1.65\\\\ngini = 0.046\\\\nsamples = 27\\\\nvalue = [0, 41, 1]\\\\nclass = iris versicolor\"] ;\\n3 -> 4 ;\\n5 [label=\"gini = 0.0\\\\nsamples = 26\\\\nvalue = [0, 41, 0]\\\\nclass = iris versicolor\"] ;\\n4 -> 5 ;\\n6 [label=\"gini = 0.0\\\\nsamples = 1\\\\nvalue = [0, 0, 1]\\\\nclass = iris virginica\"] ;\\n4 -> 6 ;\\n7 [label=\"petal width <= 1.6\\\\ngini = 0.444\\\\nsamples = 2\\\\nvalue = [0, 2, 1]\\\\nclass = iris versicolor\"] ;\\n3 -> 7 ;\\n8 [label=\"gini = 0.0\\\\nsamples = 1\\\\nvalue = [0, 2, 0]\\\\nclass = iris versicolor\"] ;\\n7 -> 8 ;\\n9 [label=\"gini = 0.0\\\\nsamples = 1\\\\nvalue = [0, 0, 1]\\\\nclass = iris virginica\"] ;\\n7 -> 9 ;\\n10 [label=\"gini = 0.0\\\\nsamples = 25\\\\nvalue = [0, 0, 37]\\\\nclass = iris virginica\"] ;\\n2 -> 10 ;\\n}'"
      ]
     },
     "execution_count": 29,
     "metadata": {},
     "output_type": "execute_result"
    }
   ],
   "source": [
    "## 첫번째 Decision Tree 내용 확인하기\n",
    "dt_dot_data0"
   ]
  },
  {
   "cell_type": "code",
   "execution_count": 30,
   "metadata": {},
   "outputs": [
    {
     "data": {
      "text/plain": [
       "True"
      ]
     },
     "execution_count": 30,
     "metadata": {},
     "output_type": "execute_result"
    }
   ],
   "source": [
    "## 첫번째 Decision Tree pdf로 저장하기\n",
    "# True로 나오면 저장된 것이다.\n",
    "# 현재 jupter notebook을 실행하는곳에 저장되어있다.\n",
    "pydotplus.graph_from_dot_data(dt_dot_data0).write_pdf('tree01.pdf')"
   ]
  },
  {
   "cell_type": "code",
   "execution_count": 31,
   "metadata": {},
   "outputs": [
    {
     "data": {
      "text/plain": [
       "b'\\x89PNG\\r\\n\\x1a\\n\\x00\\x00\\x00\\rIHDR\\x00\\x00\\x03\\x15\\x00\\x00\\x02\\xe0\\x08\\x06\\x00\\x00\\x00\\xe25Z\\x14\\x00\\x00\\x00\\x06bKGD\\x00\\xff\\x00\\xff\\x00\\xff\\xa0\\xbd\\xa7\\x93\\x00\\x00 \\x00IDATx\\x9c\\xec\\xdd\\x7fp\\x9b\\xf5}\\x07\\xf0\\xf7\\x03\\xa1\\r\\xa5\\xd4\\n\\xa36\\x10j\\xd8vs\\xf0F\\xeb\\x1c]\\x83\\xb3n\\xc9\\xeap\\xcd\\xc2\\xdd\\xa3\\xdc\\xadN\\xb0\\xb3\\xcb\\xb1\\xb6\\x89\\x91F\\xb2%\\xc4W\\xd2\\xf4\\xd1\\xdc\\xd5n\\xb3\\xb5Ri\\x13\\xc0\\xaa\\xc4n\\x97\\xba\\xb5\\xe48\\xd7;\\xa4[\\xc3z\\xd8\\xc5Y\\x1b\\x9bp\\xe9I-4go0\\xa4\\xc5P\\xa9\\x01\\xf4\\x8c\\xed\\x80\\x02\\xf9\\xee\\x0f\\xf7y\\xd0#\\xeb\\xc7\\xa3\\x9f\\x8f$\\xbf_w:\\xe2\\xe7\\xf9>\\xdf\\xe7\\xf3H\\xc1y>z\\xbe\\xdf\\xefG\\x12B\\x08\\x10\\x11\\x11\\x11\\x11\\x11\\x95f\\xf2\\n\\xab# \"\"\"\"\\xa2\\xc6\\xc6\\xa4\\x82\\x88\\x88\\x88\\x88\\x88\\xca\\xc2\\xa4\\x82\\x88\\x88\\x88\\x88\\x88\\xca\\xb2\\xca\\xea\\x00\\x88\\x88*\\xed\\xe4\\xc9\\x93V\\x87@Tq\\x1f\\xf9\\xc8G\\xb0q\\xe3F\\xab\\xc3 \"\\xcaJ\\xe2Dm\"j6\\x92$Y\\x1d\\x02Q\\xc5\\xf5\\xf6\\xf6brr\\xd2\\xea0\\x88\\x88\\xb2\\x99\\xe4\\x93\\n\"jJ\\x13\\x13\\x13\\xd8\\xb9s\\xa7\\xd5a\\x10U\\xc4\\x8e\\x1d;\\xac\\x0e\\x81\\x88(/\\xce\\xa9 \"\"\"\"\\xa2\\xb20\\xa9 \"\"\"\"\\xa2\\xb20\\xa9 \"\"\"\"\\xa2\\xb20\\xa9 \"\"\"\"\\xa2\\xb20\\xa9 \"\"\"\"\\xa2\\xb20\\xa9 \"\"\"\"\\xa2\\xb20\\xa9 \"\\xaas\\xc9d\\x12\\xc1`\\x10v\\xbb\\xbd\\xac6\\xb5RO\\xb1\\x10\\x11Qm0\\xa9 \"\\xaa1UU\\x8b*\\xd0744\\x84\\xfe\\xfe~\\x84\\xc3\\xe1\\xb2\\xdaTK\\xe6\\xf5X\\x19K1\\xe2\\xf18\\x9cN\\'$I\\x82\\xd3\\xe9\\xc4\\xf4\\xf4\\xb4\\xe9c\\xa3\\xd1($I\\xd2_N\\xa7\\xb3\\x8a\\x91\\x12\\x11\\xd5?&\\x15DD5v\\xe6\\xcc\\x99\\xa2\\xda\\x8f\\x8e\\x8eV\\xa4M\\xb5d^O\\xb5b\\x89F\\xa3p\\xb9\\\\\\x15\\xe9KUUD\\xa3Q\\x8c\\x8e\\x8e\"\\x95Ja\\xf3\\xe6\\xcd\\xd8\\xb2e\\x8b\\xe9D\\xe8\\xdc\\xb9s\\x86\\x9f\\xef\\xbe\\xfb\\xee\\x8a\\xc4ED\\xd4\\xa8XQ\\x9b\\x88\\xa8\\x86TU\\x85\\xdf\\xef\\xb7:\\x8c\\x8a\\xa9\\xf6\\xf5$\\x93ILOOcff\\x06\\x9b7o\\xc6\\xfe\\xfd\\xfb+\\xd2\\xef\\x993g \\xcb2\\x00\\xa0\\xa5\\xa5\\x05}}}\\xe8\\xef\\xef\\x87\\xddn\\x87\\x10\\xa2\\xe0\\xf17\\xdcp\\x83\\xa9vDD+\\x05\\x9fT\\x10\\x11\\x99\\x90L&\\x11\\x0e\\x87\\xf5y\\x02~\\xbf_\\x1f\\xf6\\xb2\\xb0\\xb0\\x90\\xb5\\xbd\\xc7\\xe3\\x81$I\\xb0\\xdb\\xed\\xfa\\xd0\\x1a\\xb7\\xdb\\xad\\x7f\\x1b\\xae\\r\\x9d\\x01\\xde\\xbb9\\xd7\\xb6\\xb9\\\\.$\\x93\\xc9\\x8a\\xc4\\x9d-\\x8e\\xccy\\x0f\\xe1pXo\\x13\\x8f\\xc7\\r}LOO\\xc3n\\xb7C\\x92$x<\\x1eC\\\\\\xb9\\xae\\'\\x9d\\xd6\\xb7\\xd3\\xe94}M\\xdaS\\x89\\xe3\\xc7\\x8f\\xa3\\xb3\\xb3\\x13\\xa3\\xa3\\xa3\\xe8\\xeb\\xebCkkkI\\xefC&-\\xa1\\xc8\\xe4p8\\n\\x1e\\x1b\\x8f\\xc7a\\xb7\\xdb\\xe1r\\xb9077W\\x91x\\x88\\x88\\x1a\\x9e \"j2\\x00\\xc4\\xc4\\xc4D\\xc5\\xfb\\xd4^\\xb3\\xb3\\xb3B\\x08!R\\xa9\\x94p8\\x1c\\x02\\x80\\x98\\x9f\\x9f\\xd7\\xdb&\\x12\\t!\\xcb\\xb2\\x08\\x04\\x02B\\x08!\\xa6\\xa6\\xa6\\x04\\x00\\x11\\x89D\\x0c}\\xa5\\xd3\\xfaI$\\x12\"\\x16\\x8b\\t\\x00\\xc2\\xe1p,;\\xbf\\x99\\x18\\xcd\\xc4!\\xcb\\xf2\\xb2\\xeb\\xc9v\\xdeP(dh\\x13\\x08\\x04\\x0c\\xefE\\xae\\xd82\\xfb\\x9e\\x9f\\x9f_\\xd6w\\xa6D\"!\\x02\\x81\\x80p8\\x1c\"\\x10\\x08\\x88D\"Q\\xf0Z\\x0b\\xbd\\xccJ\\xa5R\\x02\\x80\\x08\\x85B\\x05\\xdbj\\xef\\x89\\xf6\\x92e9o\\xac\\x95\\xd0\\xdb\\xdb+z{{\\xabz\\x0e\"\\xa22\\x9cdRADM\\xa7\\x1aI\\x85\\xd6o\\xe6\\x8dj$\\x12\\x11\\x00\\x84\\xdb\\xed\\xd6\\xb7i7\\xde\\x99\\xc7*\\x8a\\x92\\xb3\\x1fEQ\\xf2&\\x11\\xa5$\\x15\\xa5\\xc4a\\xe6\\xbc\\x99\\xd7k\\xa6\\x1f3\\xd7\\xa0\\xf5\\x9bJ\\xa5\\xf2]fULMM\\tY\\x96M\\x9f;\\x95J\\x89H$\"\\x14E\\x11\\x00\\x84\\xcf\\xe7\\xabj|L*\\x88\\xa8\\xce\\x9d\\x94\\x84\\xe0\\xa0P\"j.\\x92$abb\\x02;w\\xee\\xacx\\xbf\\x00\\x96\\x8d\\xa5\\xcf\\xdcn\\xb7\\xdbsN\\xf8\\x15B\\xe4\\xec\\x07X\\x1aZ399\\x89\\xc1\\xc1AC\\x9b|\\xc7T2\\x8e\\xccmN\\xa7\\x13^\\xaf7o\\x1b3\\xfd\\x98\\xb9\\x86\\xcc\\xf9\\x13===\\x15\\x1b\\xeeT\\x88\\xddn\\xc7\\x91#G\\xd0\\xdd\\xdd]\\xf4\\xb1~\\xbf\\x1f\\xe1p\\x18\\xa1P\\xa8\\n\\x91-\\xd9\\xb1c\\x07\\x00`rr\\xb2j\\xe7 \"*\\xc3$\\xe7T\\x10\\x11U\\x98v#/\\x84X\\xf6\\xca\\xc7\\xef\\xf7c\\xdf\\xbe}9\\xc7\\xfb\\xd7*\\x8et\\xda\\x1c\\x83`0\\x08`i\\xae\\x03\\xb04\\x97\\xa2\\xd2Z[[\\xd1\\xd7\\xd7\\x87\\xd1\\xd1Qtvv\\xe2\\xf8\\xf1\\xe3p\\xb9\\\\\\xfa9\\xd3\\xa5/\\xe7\\x9a\\xefeF0\\x18\\x84,\\xcb%%\\x14\\x00\\xb0s\\xe7\\xce\\xba_>\\x97\\x88\\xa8\\xda\\xb8\\xfa\\x13\\x11Q\\x05d\\x9b\\xe0\\xbb\\xb0\\xb0\\x80\\x8e\\x8e\\x0eS\\xc7\\x07\\x83A\\x0c\\x0c\\x0c \\x16\\x8b\\xa1\\xbd\\xbd\\xbd\\xa2\\xb1\\x15\\x13G\\xa6\\xae\\xae.\\x84B!,,,@\\x92$\\xc8\\xb2\\x8c@ \\x80\\xbe\\xbe\\xbe\\x8a\\xc6\\x98\\xed\\xbc]]]\\xfa\\xd3\\x0b\\xaf\\xd7kxzQ\\xa9\\x87\\xec\\xd1h\\x14\\xcf=\\xf7\\x1c\\x86\\x87\\x87K\\xee\\xa3\\xa5\\xa5\\xc5\\xd4\\x04o\"\\xa2f\\xc6\\'\\x15DDe\\xd0V~J\\xafS\\xe0\\xf3\\xf9\\x00\\x00cccPU\\x15\\xc0{\\xab0\\xe5\\xd2\\xdf\\xdf\\x0f\\x00\\x15M(J\\x89#S8\\x1c\\xc6\\xa6M\\x9bp\\xe8\\xd0!\\x08!\\x10\\n\\x85\\xaa\\x9eP\\xa4\\xcb\\xf6\\xf4\\xa2R\\x92\\xc9$\\x9e|\\xf2ICB\\x11\\x8dF\\x8b.d\\xa7\\xaa\\xaa><\\x89\\x88h\\xa5bRADT$m(\\x90\\xaa\\xaa\\x18\\x1b\\x1b\\x83,\\xcb\\x86!K\\xdb\\xb7o\\x07\\x00\\x8c\\x8c\\x8c\\xc0f\\xb3A\\x92$\\xb4\\xb5\\xb5\\xe97\\x9eZ\\xdb\\xf4\\x1b|m[<\\x1e7,Q\\x9bL&\\r\\xcb\\xb0\\xe6Z\\x925[\\x9b|q\\xa4\\xb7\\xd7\\x12\\x0e\\xed\\xbf\\xe9}\\xd8\\xedv\\xfd\\xd8\\xcc\\n\\xd2Z\\x9b\\xcc\\xeb\\xc9\\x16K\\xb6\\xbe\\x8b\\xd5\\xd5\\xd5U\\xd6\\x13\\x85t\\xc9d\\x12{\\xf6\\xec\\xc1\\xe0\\xe0\\xa0\\xe1\\xba\\xd6\\xaf_oH\\x10].\\x97\\xa1\\xe0^0\\x184T\\xde\\x8e\\xc7\\xe38s\\xe6\\x0czzz*\\x12\\x17\\x11Q\\xa3bRADT\\xa4\\xce\\xceN\\xfdf\\xbb\\xbd\\xbd\\x1dccc\\x86\\xfd\\xad\\xad\\xad\\x88\\xc5bP\\x14\\x05\\xc0\\xd2\\xd0\\xa8\\xf4aM\\xda\\x8d\\xf1\\xf1\\xe3\\xc7\\xb1{\\xf7n\\xc36\\xbf\\xdf\\x0f\\x9b\\xcd\\x06EQ\\xe0p8\\xf0\\xe6\\x9bo\\xa2\\xad\\xadM\\xef;\\xfd\\xcf\\xe9\\xb2\\xb5\\xc9\\x17Gz{\\x9b\\xcdf\\xf8oz\\x1f\\x91H$\\xeb\\x1c\\x0f\\xaf\\xd7\\x8b\\xa1\\xa1\\xa1\\xac\\xd7\\x93-\\x96l}[ihh(\\xe7<\\x88u\\xeb\\xd6\\xe5<\\xee\\x9ak\\xae\\xc1\\x96-[\\xf4Z\"\\xaf\\xbd\\xf6Z\\xc5\\xe6\\xc0\\x10\\x1152\\xae\\xfeDDM\\xa7\\xd6\\xab?5\\xb3\\x85\\x85\\x05\\xac^\\xbdz\\xd9\\xb0\\xac\\x85\\x85\\x05\\xac[\\xb7nE\\xbd\\x17V\\xe2\\xeaODT\\xe7\\xb8\\xfa\\x13\\x11\\x11e\\x17\\x0c\\x06\\xd1\\xd1\\xd1\\x91u\\x9eG[[\\x1b\\x02\\x81\\x80\\x05Q\\x11\\x11Q=\\xe2\\xeaODD&d\\xce\\x13\\xa8U\\xfd\\x04+\\x8d\\x8f\\x8f\\xe3\\xf5\\xd7_\\xc7\\xd6\\xad[\\r\\x89\\xc5\\xc2\\xc2\\x02fff\\xb0w\\xef^\\x0b\\xa3#\"\\xa2z\\xc2\\'\\x15DD&\\x98\\x99\\xd7\\xd0l\\xc6\\xc6\\xc6p\\xed\\xb5\\xd7\\xe2\\xe8\\xd1\\xa3\\xfaDf\\x97\\xcb\\x85\\x8b\\x17/2\\xa1 \"\"\\x03>\\xa9 \"2a%\\xce\\x1dhiiA__\\x9f\\xbe\\xa4+\\x11\\x11Q.|RADDDDDeaRADDDDDeaRAD\\xd4\\x802\\x8b\\xb2U\\xeb\\x18\"\"\"3\\x98T\\x10\\x11QE\\x85\\xc3a\\xd8\\xedv\\xd8\\xed\\xf6\\x9c\\x05\\xe6\\xf2\\x89F\\xa3\\xf0\\xfb\\xfd\\xb0\\xdb\\xedzm\\x90j\\xb5!\"\\xa2\\xca`\\xf1;\"j:\\xd5*~G\\x85\\x05\\x83A\\x8c\\x8f\\x8f\\xebU\\xc6\\x0f\\x1f>\\x8c;\\xee\\xb8\\xc3\\xf4jQ\\x1e\\x8fG_\\xae\\xb6\\xab\\xab+k\\x8d\\x8cJ\\xb5i$,~GDun\\x92\\xab?\\x11\\x11QE\\xc4\\xe3q\\xf4\\xf7\\xf7cvv\\x16---\\x00\\x00\\x87\\xc3\\x81\\xf5\\xeb\\xd7c\\xc3\\x86\\r\\xe8\\xea\\xea\\xca{\\xbc\\xd3\\xe9\\xc4\\xf5\\xd7_\\x8f\\xb1\\xb11\\xfd\\xf8j\\xb5!\"\\xa2\\xca\\xe2\\xf0\\'\"\\xa2:4==\\xad\\x0f\\xdb\\xf1x<\\xcb\\x8a\\xef\\x05\\x83A\\xd8\\xed\\xf6\\xac?\\x87\\xc3aH\\x92\\x04\\xbb\\xdd\\x8ex<\\x9e\\xb5M5\\x9c={\\x16\\x00p\\xd3M7\\xe9\\xdbn\\xbc\\xf1F\\x00\\xc0\\xb9s\\xe7\\xf2\\x1e\\xab\\xcd\\xf5\\x18\\x1e\\x1e\\xce\\x99\\x08T\\xaa\\r\\x11\\x11U\\x1e\\x93\\n\"\\xa2:\\x13\\x0e\\x87\\xb1e\\xcb\\x16\\x1c9r\\x04B\\x08\\xac]\\xbb\\x16mmmz\\x01\\xba={\\xf6\\xa0\\xbf\\xbf_\\x9f\\xaf\\x90\\xfe\\xf3\\xdc\\xdc\\x1cdYF,\\x16C8\\x1c\\xc6\\xd1\\xa3G\\x97\\xb5\\xc9E\\xeb\\xbf\\xd0+\\x97\\x99\\x99\\x19\\x000\\x0c5\\xd2*\\x8f\\xe7;o4\\x1a\\xc5\\xc8\\xc8\\x08\\xee\\xbe\\xfbn\\xf8\\xfd~=!\\x9a\\x9e\\x9e\\xaex\\x1b\"\"\\xaa\\x0e&\\x15DDuF{\\x9a\\xd0\\xdd\\xdd\\r\\x00\\xe8\\xeb\\xeb\\x03\\x00\\xb8\\xddn\\x08!\\x10\\n\\x85\\x0c\\xed\\xd3\\x7f\\xd6\\x8e\\xd1n\\xec\\xbd^\\xef\\xb26\\xb9\\x08!L\\xbdr\\xd1\\xce\\x95M\\xbe\\xa4\\xe2\\xc9\\'\\x9f\\xd4c\\xde\\xbbw/R\\xa9\\x14\\xd6\\xae]\\x8b-[\\xb6`nn\\xae\\xa2m\\x88\\x88\\xa8:\\x98T\\x10\\x11\\xd5\\x19\\x87\\xc3\\x91u\\xfb\\xe0\\xe0`\\x8d#\\xa9\\r\\xed\\xba\\xb49\\x17---\\xfa{p\\xe2\\xc4\\x89\\x8a\\xb6!\"\\xa2\\xea`RADTg\\xb4\\x1b\\xe1`0\\x08`iX\\x0f\\xb0\\xf4\\xa4\\xa2\\x9a\\xca\\x1d\\xfe$\\xcbr\\xce}\\xb9\\x12\\xa5\\\\\\xb4\\xc4 \\xdf\\xd3\\x8fJ\\xb5!\"\\xa2\\xf21\\xa9 \"\\xaa3]]]\\x08\\x85BX\\\\\\\\\\x84$Ip\\xb9\\\\\\x08\\x04\\x028t\\xe8PU\\xcf[\\xee\\xf0\\'-\\xa9H\\x9fT\\xaeM\\x14\\xbf\\xe3\\x8e;r\\x1e\\xa7%\\x1c\\xaa\\xaa\\xe6\\xec\\xb3Rm\\x88\\x88\\xa8:\\x98T\\x10\\x11\\xd5\\x99p8\\x8cM\\x9b6\\xe1\\xd0\\xa1C\\xfa\\x1c\\nm^E=\\xdb\\xbau+\\x00\\xe0\\x85\\x17^\\xd0\\xb7\\xbd\\xf4\\xd2K\\x86}\\xd9h5\\x18^|\\xf1E}\\x9b\\x96\\x18\\xec\\xda\\xb5\\xab\\xa2m\\x88\\x88\\xa8:\\x98T\\x10\\x11\\xd5\\x19\\xbb\\xdd\\x0e\\x9b\\xcd\\xb6l\\xd8\\x91\\xd3\\xe9D2\\x99\\\\\\xb6\\xbcl\\xfa\\xcf\\xdaMt\\xfa\\xb7\\xf5\\xd9\\x8e\\xa9\\x86\\xf6\\xf6v\\xf8|>\\x9c8q\\x02\\xaa\\xaaBUU\\x9c8q\\x02>\\x9f\\xcf\\xb0\"\\x94\\xcb\\xe5\\xd2\\x97~\\x05\\x80\\x9e\\x9e\\x1e(\\x8a\\x02\\x97\\xcb\\xa5\\xc7v\\xf2\\xe4I\\xc8\\xb2\\xac\\'S\\x95jCDD\\xd5\\xc1\\xa4\\x82\\x88\\xa8\\xceD\"\\x91\\xac\\xc3u\\xbc^/\\x86\\x86\\x86\\xd0\\xd6\\xd6\\xa6okkk3\\xfcl\\xb3\\xd9\\x0c\\xff\\xcd\\xd6&\\xfd\\xcf\\x95\\xb6w\\xef^\\xdc}\\xf7\\xdd\\xb0\\xd9l\\xd8\\xbd{7v\\xec\\xd8a\\xaa\\x9a\\xf6\\xf0\\xf00dY\\xd6\\x97\\xce\\x05\\xa0W\\xe5\\xaet\\x1b\"\"\\xaa<I\\xe4\\x1b KD\\xd4\\x80$I\\xc2\\xc4\\xc4\\x04v\\xee\\xdciu(%YXX\\xc0\\xea\\xd5\\xab\\r\\xdf\\xeek\\xdb\\xd7\\xad[\\x97w^\\x035\\'mh\\xd7\\xe4\\xe4\\xa4\\xc5\\x91\\x10\\x11e5\\xc9\\'\\x15DDu$\\x18\\x0c\\xa2\\xa3\\xa3cYB\\x01,=a\\x08\\x04\\x02\\x16DEDD\\x94\\xdf*\\xab\\x03 \"\\xa2\\xf7\\x8c\\x8f\\x8f\\xe3\\xf5\\xd7_\\xc7\\xd6\\xad[\\r\\x89\\xc5\\xc2\\xc2\\x02fffL\\r%\"\"\"\\xaa5>\\xa9 \"\\xaa#ccc\\xb8\\xf6\\xdakq\\xf4\\xe8Q}\\x82\\xb6\\xcb\\xe5\\xc2\\xc5\\x8b\\x17\\x99P\\x10\\x11Q\\xdd\\xe2\\x93\\n\"\\xa2:\\xd2\\xd2\\xd2\\x82\\xbe\\xbe>\\xf4\\xf5\\xf5att\\xd4\\xeap\\x88\\x88\\x88L\\xe1\\x93\\n\"\"\"\"\"*\\x0b\\x93\\n\"\"\"\"\"*\\x0b\\x93\\n\"\"Z&\\x99L\"\\x18\\x0c\\xc2n\\xb7[\\x1d\\n\\x11\\x115\\x00&\\x15DD\\xb4\\xcc\\xd0\\xd0\\x10\\xfa\\xfb\\xfb\\x11\\x0e\\x87\\xad\\x0e%\\'UU\\x97U\\x1d\\xd7^\\xc1`Po\\x97L&\\xe1\\xf7\\xfb\\xb3\\xee#\"\\xa2\\xca`RADD\\xcb4\\xc2$\\xf1\\x0b\\x17.\\xe4\\xdc\\xd7\\xd3\\xd3\\x03`)\\xf1\\xd8\\xb3g\\x0f\\x00@\\x08\\x81D\"\\x81\\xf1\\xf1q\\xb8\\\\\\xae\\x9a\\xc4HD\\xb4R0\\xa9 \"\\xa2\\x86\\xf4\\xe2\\x8b/\"\\x16\\x8bA\\x08\\xa1\\xbf\\x12\\x89\\x04\\x14EAkk+\\x00\\xe0\\xf4\\xe9\\xd3\\x08\\x87\\xc3zu\\xf5\\xd6\\xd6V\\x0c\\x0f\\x0fcdd\\x04\\xd3\\xd3\\xd3V\\x86OD\\xd4T\\x98T\\x10\\x11Y\\xc8\\xe3\\xf1@\\x92$\\xf8\\xfd~$\\x93IH\\x92\\xa4\\xefSU\\xd50l\\xc7\\xe5r!\\x99L\\x02X>\\xe7!\\x1c\\x0eC\\x92$8\\x9dN\\xc4\\xe3q\\x00K\\xd5\\xb93\\xb7%\\x93I\\x84\\xc3a\\xfd8\\xad\\x7f\\xa7\\xd3\\x89\\x85\\x85\\x85\\x82\\xf1&\\x93I=f\\xbb\\xdd\\xbe\\xec\\xc6<\\xdf\\xf5TZOO\\xcf\\xb2\\xca\\xe3\\xd3\\xd3\\xd3\\xe8\\xed\\xed\\xd5\\x7f\\x1e\\x1f\\x1f\\x07\\xb0\\xb4T\\xaf\\xe6\\xd6[o\\x05\\x00LNNV-6\"\\xa2\\x15G\\x10\\x115\\x19\\x00bbb\\xc2\\xea0\\nr\\xbb\\xdd\"\\x16\\x8b\\t!\\x84H\\xa5RBQ\\x14\\x91\\xfek\\xd9\\xe1p\\x08\\x00\"\\x91H\\x88X,&\\x00\\x08\\x87\\xc3!\\x84\\x10B\\x96e\\x01@\\x00\\x10\\x91HD\\x08!\\xc4\\xec\\xec\\xac\\xdefvvV\\x08!\\x96\\x1d\\xa7\\x1d\\x03@o\\x93J\\xa5\\xf4s\\xcd\\xcf\\xcf\\xeb\\xe7\\xd7\\xdai\\x12\\x89\\x84\\x90eY\\x04\\x02\\x01!\\x84\\x10SSS\\x86\\xf3\\x17\\xba\\x9eL\\xe9\\xb1\\xe4{\\x15C\\xbb\\xce\\\\\\xd7Ph{\\xbd\\xea\\xed\\xed\\x15\\xbd\\xbd\\xbdV\\x87AD\\x94\\xcbII\\x08!j\\x91\\xbc\\x10\\x11\\xd5\\x8a$I\\x98\\x98\\x98\\xd0\\x87\\xbc\\xd4+I\\x92\\x90H$\\xf4\\xa1:\\xc9d\\x12mmm\\xd0~-\\xbb\\\\.\\\\\\xbatI\\x9f\\xdf\\xa0}\\xeb\\xaf\\xed\\xcf\\xfc\\xd9\\xec\\xb6lm\\xa2\\xd1(\\xd6\\xaf_\\x0f\\xb7\\xdb\\x8dC\\x87\\x0eem\\x17\\x0c\\x06\\xd1\\xdf\\xdf\\xbf\\xacoEQ0<<\\\\\\xf0z\\xaa-\\x1a\\x8d\\xe2\\xc2\\x85\\x0b\\xe8\\xeb\\xeb\\xd3\\xb79\\x9dNx\\xbd^\\xcc\\xcf\\xcf\\xa3\\xa3\\xa3\\xc3\\x107\\x80\\x9a\\xc5V\\xae\\x1d;v\\x00\\xe0\\xd3\\x15\"\\xaa[\\x93\\x1c\\xfeDDd\\x11\\x87\\xc3\\x81\\xb6\\xb66\\x04\\x83A\\xa8\\xaa\\x8a\\xd6\\xd6V\\xc3M\\xee\\xf0\\xf00FGG\\x11\\x8f\\xc7\\xe1\\xf1x\\xaa\\x1aKWW\\x17\\x00`pp0g\\x1bm(Q\\xfa*K\\x00022\\x02\\xa0\\xf0\\xf5T\\xdb\\xa9S\\xa7\\xf4\\t\\xda\\x9a{\\xef\\xbd\\x17\\x00\\xf0\\xd0C\\x0fAUU\\x00K\\xc9\\x07\\x00\\xb8\\xdd\\xee\\x9a\\xc5FD\\xd4\\xec\\x98T\\x10\\x11Y\\xe4\\xe0\\xc1\\x83\\x90e\\x19\\xfd\\xfd\\xfd\\xb0\\xd9lY\\x13\\x07\\xbf\\xdf\\x8f}\\xfb\\xf6A\\x96e\\x0b\"4\\xd2\\x96\\x97\\x15i\\x13\\xa3\\xb5\\x17`\\xeez\\xd2\\xe5Z\\x0e6\\xf3e\\x866\\xd7D{J\\xa2\\xe9\\xee\\xee\\xc6\\xd4\\xd4\\x14\\x16\\x17\\x17a\\xb3\\xd9\\xe0\\xf7\\xfb\\xf1\\xca+\\xaf\\x00\\x00\\xee\\xba\\xeb\\xae\\xa2\\xae\\x9f\\x88\\x88r[eu\\x00DD+UGG\\x07B\\xa1\\x10\\xa2\\xd1(\\xbc^\\xaf\\xfe\\x94@\\x1b~\\x14\\x0c\\x06100\\x80X,\\xb6lBr\\xb58\\x1c\\x8e\\x82m\\x16\\x16\\x16\\x0cC\\x894\\x85\\xae\\'S%\\x9fbdN\\xd0N\\xd7\\xd3\\xd3cx\\x82\\xe1\\xf1x\\xa0(\\x8a\\xfet\\x86\\x88\\x88\\xca\\xc7\\'\\x15DD\\x16\\x91$\\t\\xaa\\xaa\\xa2\\xab\\xab\\x0b\\xa3\\xa3\\xa3\\x88D\"\\x86\\xe1G\\xfd\\xfd\\xfd\\x00P\\x93\\x84B[\\xf9\\xe9\\xee\\xbb\\xef\\xce\\xd9\\xc6\\xe7\\xf3\\x01\\x00\\xc6\\xc6\\xc6\\xf4\\xa1D\\xdajP@\\xe1\\xeb\\xa9\\xa6\\x99\\x99\\x19SIB0\\x18\\xc4\\xcc\\xccL\\xcd\\xe2\"\"Z)\\x98T\\x10\\x11Y\\xc8\\xedv\\xeb\\xcb\\xbd\\xaeY\\xb3\\xc60\\xce_\\x1b\\xf2\\x14\\x8f\\xc7\\r\\xcb\\xbd&\\x93I}\\xb8\\x0f\\x00\\xc3\\r~z\\x9b\\\\\\xdb4ZeiUU166\\x06Y\\x96\\xf5sf;n\\xfb\\xf6\\xed\\x00\\x96\\xe6P\\xd8l6H\\x92\\x84\\xb6\\xb66}\\x12q\\xa1\\xeb\\xa9\\x96h4\\x8a\\xcd\\x9b7\\xe7\\xdc\\xaf\\xaa*\\xa2\\xd1(\\x9cN\\'\\x16\\x17\\x17\\x11\\n\\x85\\x0cK\\xcc\\x12\\x11Q\\xf9\\x98T\\x10\\x11Yh\\xff\\xfe\\xfd\\x98\\x9c\\x9c\\x84$I\\x98\\x9c\\x9c4\\x0c\\x15\\x1a\\x1e\\x1e\\x06\\xb04\\xaf\\xc2f\\xb3AQ\\x148\\x1c\\x0e\\xbc\\xf9\\xe6\\x9bhkk\\xd3\\xdb\\xd9l6\\x000l\\xd3\\xfe\\x9cm\\x9b\\xa6\\xb3\\xb3\\x13v\\xbb\\x1d6\\x9b\\r\\xed\\xed\\xed\\x18\\x1b\\x1b\\xcb\\xdaV\\xfbskk+b\\xb1\\x18\\x14E\\x01\\xb04T*shV\\xbe\\xeb\\xa9\\x96l\\x13\\xb45\\x92$\\xc1f\\xb3\\xe1\\xdc\\xb9sp8\\x1c5\\x89\\x87\\x88h%\\xe2\\x92\\xb2D\\xd4t\\x1aeIY\\xab4\\xdar\\xaa\\xc4%e\\x89\\xa8\\xeeqIY\"\"\"\"\"*\\x0f\\x93\\n\"\\xa2\\x15$\\xdf\\x1c\\x0b\"\"\\xa2R1\\xa9 \"ZA\\xf2\\xcd\\xb1 \"\"*\\x15\\xebT\\x10\\x11\\xad \\x9cGADD\\xd5\\xc0\\'\\x15DDDDDT\\x16&\\x15DDDDDT\\x16&\\x15DDU\\x96L&\\x11\\x0c\\x06a\\xb7\\xdb\\xad\\x0e\\xa5 I\\x92\\x0c/*\\x0e\\xdf?\"Z\\xa9\\x98T\\x10\\x11U\\xd9\\xd0\\xd0\\x10\\xfa\\xfb\\xfb\\x11\\x0e\\x87\\xad\\x0e\\xc54!\\x84a\\xfeE2\\x99\\x84\\xcb\\xe5\\xd2o\\x96\\xb5j\\xdc\\x99\\xc2\\xe10\\xecv;$I\\x82\\xddn\\xcf\\xd9\\xaeX~\\xbf\\x7f\\xd9M\\xba\\xd9\\x98\\xcc0\\xd3W2\\x99\\xd4\\xe3\\xc8\\xd5&\\xf3}#\"Z)\\x98T\\x10\\x11U\\xd9\\xe8\\xe8\\xa8\\xd5!\\x94%\\x99L\\xe2\\x85\\x17^\\xc0\\xf0\\xf00\\x84\\x10\\x08\\x04\\x02\\xe8\\xef\\xef\\x87\\xc7\\xe31\\xb4\\xf3x<\\xb0\\xdb\\xedz\\xbb\\xe1\\xe1\\xe1\\xac\\xed\\x8a\\x15\\x8dF100PRL\\x95\\xba>UU\\xb1g\\xcf\\x1e\\x00K\\x89C\"\\x91\\xc0\\xf8\\xf88\\\\.WY\\xd7FD\\xd4,XQ\\x9b\\x88\\x9aN=V\\xd4n\\x94*\\xd6\\xd9\\xe2\\x9c\\x9b\\x9bCwww\\xc1v\\xb9\\xb6\\xc9\\xb2\\x8cP(TR<\\xaa\\xaa\\xc2\\xedvcdd\\xc4\\xd0\\xb7\\xd9\\x98\\xcc0\\xd3W0\\x18D\\x7f\\x7f?R\\xa9\\x14ZZZ\\x00,%;\\xeb\\xd7\\xaf\\xc7\\xd4\\xd4\\x14zzz*\\x12K.\\xac\\xa8MDu\\x8e\\x15\\xb5\\x89\\x88r\\x99\\x9b\\x9b\\xcb9F\\xde\\xe3\\xf1\\xe8\\xdb\\xe2\\xf18TU5\\x0c\\x8dq\\xb9\\\\9\\x8b\\xcbe\\xeb/\\xd78\\xfcd2\\xa9\\x9f\\xcbn\\xb7czz\\xba:\\x17\\x9bG\\xe6\\r\\xb7\\xaa\\xaa\\x00\\x00EQ\\x0c\\xdb\\xddn7\\x80\\xa5\\xf7\\r\\x00\\xe2\\xf18\\x00`xx\\xb8\\xe4s?\\xf6\\xd8c\\xd8\\xbf\\x7f\\x7f\\xc91\\x99a\\xa6\\xaf\\xf1\\xf1q\\x00\\xd0\\x13\\n\\x00\\xb8\\xf5\\xd6[\\x01\\xf0F\\x9f\\x88\\x08\\xe0\\xf0\\'\"\\xa2\\x9c\\xba\\xbb\\xbb155\\x05`\\xe9\\x063\\xfd[\\xe7C\\x87\\x0eAQ\\x14D\"\\x11\\xb4\\xb7\\xb7\\xe3\\xf0\\xe1\\xc3\\x18\\x18\\x18@\"\\x91@,\\x16\\xc3\\xc8\\xc8\\x08\\x86\\x86\\x86\\xb2\\xf6\\x9bH$\\x96m\\x8b\\xc5b\\xcb\\xb6%\\x93I\\xec\\xd9\\xb3\\x07k\\xd7\\xae\\x85\\x10\\x02\\x07\\x0e\\x1c\\xc0\\x96-[\\x10\\x8dF\\xb3\\xf6\\x9b\\x99\\x00\\xe5z\\x95#\\x1e\\x8f\\xeb\\xc9\\xc3\\xee\\xdd\\xbb\\r\\xfb\\xb4\\xf7d\\xe3\\xc6\\x8d\\x98\\x9b\\x9b\\xc3\\xd9\\xb3g\\x91H$\\xd0\\xd5\\xd5U\\xd2\\xb9\\xa6\\xa7\\xa7\\xf1\\xc9O~\\x12\\xad\\xad\\xad%\\xc7T\\xac\\\\}e\\x9b\\x0f\\xa3%\\x18^\\xaf\\xb7\\xacs\\x12\\x115\\x03&\\x15DDy\\xf4\\xf4\\xf4@Q\\x14\\x8c\\x8c\\x8c\\xe8\\xdf`\\x03\\xef}\\x9b\\xad\\xdd0_\\x7f\\xfd\\xf5p8\\x1chmmE{{;\\x80\\xdc7\\x9b\\xd9n\\x92\\xb5c\\xd2MOO#\\x1c\\x0e\\xa3\\xaf\\xafO\\x8f\\x05\\x00N\\x9d:\\x95\\xb5_m\\x92p\\xa1W\\xa9\\xe2\\xf18n\\xb9\\xe5\\x16}(R\\xb6\\x1b\\xed\\xe1\\xe1a8\\x1c\\x0el\\xdc\\xb8\\x11\\xcf=\\xf7\\x1c\\xde\\xff\\xfe\\xf7\\x97t\\xaed2\\x89\\xe7\\x9f\\x7f~\\xd9S\\x84Rb2+__\\x0e\\x87\\x03\\x00\\xb0\\xb0\\xb0Pr\\xffDD\\xcd\\x8cI\\x05\\x11Q\\x01\\xbd\\xbd\\xbd\\x00\\x80\\xd3\\xa7O\\xeb\\xdb\\xce\\x9f?\\xafo\\x07\\x96n\\xa6GGG\\x11\\x8f\\xc7\\xcb\\x9e\\x98\\xac\\xd1\\x86\\xdcd>e\\xd0nzk\\xad\\xbd\\xbd\\x1dB\\x08D\"\\x11(\\x8a\\x82\\xc1\\xc1A\\xf8\\xfd~C\\x1b\\x8f\\xc7\\x83\\xcd\\x9b7#\\x95J\\x01X\\xfa\\xb6?=\\x193\\xeb\\xf1\\xc7\\x1f\\xc7\\xde\\xbd{+\\x12\\x93Y\\xf9\\xfa\\xba\\xf7\\xde{\\x01\\x00\\x0f=\\xf4\\x90~=\\xda\\x13#\\xed\\xc9\\x06\\x11\\xd1J\\xc6\\xa4\\x82\\x88\\xa8\\x80\\xae\\xae.\\xc8\\xb2\\xac\\xdf\\xe4\\x03\\xc0\\x8f\\x7f\\xfc\\xe3e\\xc3z\\xfc~?\\xf6\\xed\\xdb\\x07Y\\x96+r^\\xed\\x9br\\xb3O\\x1bj1\\xfc\\tXz?\\xb4\\xa1A\\xe9\\xab2\\x05\\x83A\\x0c\\x0e\\x0eb\\xdb\\xb6mhii\\xc1\\xee\\xdd\\xbb\\x11\\x0e\\x87q\\xf2\\xe4\\xc9\\xa2\\xfa\\x0f\\x87\\xc3\\xd8\\xbaukEb*E\\xb6\\xbe\\xb4\\xa1p\\x8b\\x8b\\x8b\\xb0\\xd9l\\xf0\\xfb\\xfdx\\xe5\\x95W\\x00\\x00w\\xdduWY\\xe7#\"j\\x06\\\\\\xfd\\x89\\x88\\x9aN5V\\x7f\\xd2V\\xff\\x99\\x9d\\x9d\\xc5M7\\xdd\\x84h4jH\\x1e\\xb4\\xfd\\xb1X\\x0c\\xed\\xed\\xed\\xcbV\\xff)\\xf4s\\xbe6\\xf3\\xf3\\xf3\\xe8\\xe8\\xe8\\xa8\\xd8\\xb5\\xe4S\\xcc\\xaaE\\x85\\xaeIUU\\xd8l6\\xd3\\xfde\\xf6\\x9bK\\xbe\\xbe*\\xb9\\xeaR\\xa1\\xbe<\\x1e\\x0fR\\xa9T\\xd6\\x89\\xe8\\\\\\xfd\\x89\\x88V\\x18\\xae\\xfeDDd\\x866\\x9f\\xe1\\xc4\\x89\\x138{\\xf6,6m\\xdad\\xd8\\xdf\\xdf\\xdf\\x0f \\xfb\\xdc\\x88R\\xf9|>\\x00\\xc0\\xd8\\xd8\\x98>\\xe4F[\\r\\xcajZ<\\x81@@\\xdf\\x96\\xf9\\x84F\\x9b\\xc8\\\\\\xec\\x93\\x9b|Of\\xf2\\xdd\\xa4g\\x8b\\xa9T\\x85\\xfa\\n\\x06\\x83\\x98\\x99\\x99\\xc1\\xe0\\xe0`\\xd9\\xe7\"\"j\\x06L*\\x88\\x88Lhmm\\x85\\xa2(\\xf0z\\xbdX\\\\\\\\4,-\\n\\xbcw\\xe3\\x1c\\x8f\\xc7\\r\\x93y\\x93\\xc9\\xa4aiY\\xed\\xcf\\x99\\x13\\x7f\\xb5eX\\x01\\xc0\\xe9t\\x02\\x00\\xb6o\\xdf\\x0e`i\\x0e\\x85\\xcdf\\x83$Ihkk\\xd3\\xbf\\xb5\\xae\\x15\\xbb\\xdd\\x0e\\x8f\\xc7\\xa3/\\x11\\xab\\xd5\\x8eP\\x14E\\x9fD\\x0e\\x00\\x07\\x0e\\x1c\\x00\\x00\\xbd\\xd2\\xb4vM\\xdav\\xe0\\xbd\\xa5xs\\xad`U\\xe9\\x98\\xcc\\x9c\\xcfl_\\xaa\\xaa\"\\x1a\\x8d\\xc2\\xe9tbqq\\x11\\xa1Ph\\xd9\\xdf\\x03\"\\xa2\\x15K\\x10\\x115\\x19\\x00bbb\\xa2\\xe2\\xfdF\"\\x11\\x01@\\xcc\\xcf\\xcf\\xe7\\xdc\\xa7(\\x8aH$\\x12BQ\\x14\\xe1p8D,\\x16\\x13\\x00\\x0c/!\\x84\\x88\\xc5bB\\x96e\\x01@\\x84B!!\\x84\\x10\\xb2,\\x8b@  \\x12\\x89\\x84\\xdeo,\\x16\\x13\\x8a\\xa2\\x08\\x00z\\x7f\\xd5\\x94\\x1e\\xa3&\\x14\\n\\x19\\xe2w\\xbb\\xddbvv6\\xeb\\xf1SSS\\xc2\\xe1p\\xe8\\xf1NMM\\x19\\xf6k\\xef\\x8b,\\xcbe\\xc5e6&3\\xe73\\xd3\\x97\\xb6\\xcf\\xe7\\xf3\\x89H$Rt\\xbc\\xe5\\xea\\xed\\xed\\x15\\xbd\\xbd\\xbd\\x15\\xeb\\x8f\\x88\\xa8\\xc2NrN\\x05\\x115\\x9dz\\xac\\xa8\\xdd(jU\\xf9\\xdbn\\xb7\\x97\\\\e\\xbb\\x11\\xce\\xc79\\x15D\\xb4\\xc2pN\\x05\\x11\\x11\\xd5\\xd6\\xdc\\xdc\\x1c\\x8e\\x1c9\\xd2\\xb4\\xe7#\"Z\\x89VY\\x1d\\x00\\x11\\x11\\xad\\x1c\\xd3\\xd3\\xd3\\xb8\\xf9\\xe6\\x9bk\\xb6\\x9aU\\xad\\xcfGD\\xb4R1\\xa9 \"\\xa2e\\xaa5\\x0cJ[E\\xabVj}\\xbeJ\\xd4\\x01!\"jDL*\\x88\\x88H\\xc7iv\\xe5\\xe1\\xfbGD+\\x15\\xe7T\\x10\\x11\\x11\\x11\\x11QY\\x98T\\x10\\x11\\x11\\x11\\x11QY\\x98T\\x10\\x11\\x15\\x90L&\\x11\\x0c\\x06a\\xb7\\xdb\\xad\\x0e\\xa5,.\\x97\\x0b.\\x97\\xabb\\xed\\xeaU\\xb5\\xe2o\\x96\\xbf\\x07DD\\xd5\\xc09\\x15DD\\x05\\x0c\\r\\r\\xc1\\xeb\\xf5Z\\x1d\\x06Y\\x8c\\x7f\\x0f\\x88\\x88rc\\xf1;\"j:\\xd5(~W\\xab\\xa2pT\\xdf\\xac\\xfa{\\xc0\\xe2wDT\\xe7X\\xfc\\x8e\\x88\\x88\\x88\\x88\\x88\\xca\\xc3\\xa4\\x82\\x88\\x08\\x80\\xaa\\xaa\\x08\\x06\\x83\\x90$\\t\\x92$\\xc1\\xef\\xf7\\x17l\\xef\\xf7\\xfb\\xf5\\xf6.\\x97\\x0b\\xc9d\\xd2\\xd0\\xc6\\xe3\\xf1\\xe8}%\\x93\\xc9e5\\x0c\\n\\xed\\xaf\\xa4\\xcc\\xf9\\x00\\xc9d\\x12\\xe1p\\x18v\\xbb\\x1d\\xaa\\xaa\\xc2\\xe9t\\xea\\xd7\\x90m\\xde\\x80\\xd9X\\xe7\\xe6\\xe6\\xf4\\xf7D{e\\xf6!I\\x12\\xe2\\xf1\\xb8\\x1e\\x87\\xb6\\xddn\\xb7czz:o|\\x85\\xe2\\xc9\\x15\\xbf\\x99\\xcf7[\\x9b\\xcc\\xcf4\\x9bB\\xc7\\x15\\xba\\x16\"\\xa2\\xa6 \\x88\\x88\\x9a\\x0c\\x00111Q\\xd41\\xb2,\\x0bEQ\\xf4\\x9f\\x1d\\x0e\\x87\\xe1g\\x00\"\\xfdW\\xa6\\xc3\\xe1\\x10\\x00D\"\\x91\\x10\\xb1XL\\x00\\x10\\x0e\\x87C\\xdf\\xefv\\xbbE,\\x16\\x13B\\x08\\x91J\\xa5\\x84\\xa2(\\x86\\xe3\\x0b\\xed\\xcfvMf^\\xf9\\xae/\\xbdM\\xfa\\xcf\\xb3\\xb3\\xb3\"\\x12\\x89\\x08\\x87\\xc3\\xb1\\xac])\\xb1NMM\\t\\x00\\x86\\xf7O\\xa3(\\x8a\\x88D\"B\\x08!\\x12\\x89\\x84\\x90eY\\x04\\x02\\x01\\xc3q\\x91H$g|\\x85\\xe2\\xc9\\x16\\xbf\\xb6=\\xdf\\xe7\\xab\\xb5\\xf1\\xf9|\\x86\\xd8dY\\x16\\xa9Tj\\xd9\\xe7P\\xccq\\xf9\\xae\\xc5\\xac\\xde\\xde^\\xd1\\xdb\\xdb[\\xd41DD5t\\x92I\\x05\\x115\\x9db\\x93\\x8a@ \\xa0\\'\\x08\\x9a\\xd9\\xd9Y!\\xcb\\xb2\\xa1\\xcf\\xf4\\x9bIEQ\\x0c7\\x86\\x99\\xfb3\\xfbK$\\x12E\\xed\\xaf\\x86l1\\x020\\xdc4\\xe7jWl\\xac\\xda\\x8d~z\\xdfZ\\x02\\xa0\\xd1\\xde\\xf7\\xccskm\\xf2\\xc5W\\xe8\\xbdM\\xff\\xd9\\xcc\\xe7\\xab%4\\x99m\\x00\\xe8IO\\xb6\\xbe\\x8b=.\\xf3Z\\xccbRADu\\xee$\\x87?\\x11\\xd1\\x8a7>>\\x0e\\x00hmm\\xd5\\xb7uww#\\x14\\n\\xe5<fxx\\x18\\xa3\\xa3\\xa3\\x88\\xc7\\xe3\\xf0x<\\xcb\\xf6;\\x1c\\x0e\\xb4\\xb5\\xb5!\\x18\\x0cBUU\\xb4\\xb6\\xb6\\x1a&\\xf7\\x16\\xda_K---y\\xf7\\x97\\x12koo/\\x00\\xe0\\xf4\\xe9\\xd3\\xfa\\xb6\\xf3\\xe7\\xcf\\xeb\\xdb\\x81\\xf7\\xde\\xf7\\xcc\\xa1R###y\\xe3+6\\x1e3\\x9f\\xaf6\\x01:\\xbdMgg\\xa7\\xe1\\xf8l\\x8a=\\xae\\xd0{MD\\xd4\\xb0\\xacMj\\x88\\x88*\\x0fE>\\xa9@\\x81\\xa1C\\xb9\\xda\\xf8|>!\\xcb\\xb2\\x98\\x9f\\x9f_\\xb6\\x7f~~\\xde0\\xec\\xc5\\xedv\\x1b\\x8e-\\xb4?\\xd7\\xf9\\x0b\\xbd\\x8a\\xb9\\x86\\\\\\xc7\\x14{-\\xb9h\\xc3\\x804\\x99\\xc3\\x8d\\n\\xc5\\x9ck\\x7f\\xa1x\\xcc^\\xa7\\x99s\\x15\\xea\\xab\\xd4\\xe3\\x8a\\xc5\\'\\x15DT\\xe7\\xf8\\xa4\\x82\\x88H\\x96e\\x00@4\\x1a5}L0\\x18\\xc4\\xc0\\xc0\\x00\\x1e~\\xf8attt,\\xdb\\xdf\\xd1\\xd1\\x81P(\\x84H$\\x02\\x87\\xc3\\x81\\xc1\\xc1A\\xc3\\x13\\x8dB\\xfb3\\t!L\\xbd\\xaa\\xa1\\xd8X5\\xbbv\\xedB8\\x1c\\xc6\\xdc\\xdc\\x1c\\xe2\\xf186l\\xd8\\x90\\xb5\\xdd\\xc2\\xc2BU\\xe31\\xf3\\xf9jm\\xb2M\\xccv8\\x1c\\x15?\\x8e\\x88\\xa8\\xd90\\xa9 \\xa2\\x15O\\xbb1\\xf4z\\xbdPU\\x15\\x00\\x10\\x8f\\xc7\\xe1t:s\\x1e\\xd3\\xdf\\xdf\\x0f\\x00hoo\\xcf\\xba_\\x92$\\xa8\\xaa\\x8a\\xae\\xae.\\x8c\\x8e\\x8e\"\\x12\\x89`pp\\xd0\\xf4\\xfezRj\\xac===\\x00\\x80\\x13\\'N\\xe0\\xec\\xd9\\xb3\\xd8\\xb4i\\x93a\\xbf\\xcf\\xe7\\x03\\x00\\x8c\\x8d\\x8d\\xe9\\xef\\xbb\\xb6\\x1aT%\\xe31\\xf3\\xf9\\xee\\xda\\xb5\\x0b\\x00\\xf0\\xc2\\x0b/\\xe8\\xdb\\xb4\\xb6Z\\x8d\\x88lJ=\\x8e\\x88\\xa8\\xd90\\xa9 \\xa2\\x15o\\xfb\\xf6\\xed\\x90e\\x19^\\xaf\\x176\\x9b\\r\\x92$\\xe1\\xe8\\xd1\\xa38x\\xf0 \\x00,[\\x1e\\x14x\\xefF5\\x1e\\x8f\\x1b\\xbeiOo\\xebv\\xbb\\xf5\\xa5S\\xd7\\xacY\\x03\\xb7\\xdbm8o\\xa1\\xfd\\x95\\x94y\\r\\xb9\\x96J\\xcdv\\xad@i\\xb1\\xb6\\xb6\\xb6BQ\\x14x\\xbd^,...\\x9bO\\xb0}\\xfbv\\x00Ks(\\xb4\\xf7\\xbd\\xad\\xad\\r;v\\xec(\\xb8\\x94k\\xaex\\xb2\\xc5_\\xe8\\xf3\\x05\\x80m\\xdb\\xb6A\\x96e|\\xedk_\\xd3\\x8f;}\\xfa4\\x1c\\x0e\\x87\\x9e\\x1ce\\xeb\\xbb\\xd8\\xe3\\x88\\x88\\x9a\\x96U\\x03\\xaf\\x88\\x88\\xaa\\x05%,)\\x9bH$\\xf4\\x15\\x8b\\x14E\\x11\\xf3\\xf3\\xf3\\x86\\xfe\\xd2_B\\x08\\x11\\x89D\\xf4\\xb6\\xda\\xb1\\x0e\\x87C_\\xea\\x14\\xbf]\\x11\\xc8\\xedv\\xe7\\x1c\\xf7\\x9fo\\x7f\\xa5e^C\\xfa+\\xdb*W\\xe9\\xd7ZN\\xac\\xda\\xfb\\x94\\xfe~\\xa6\\x8b\\xc5b\\xfa\\xfb\\x9e\\xf9\\xfee\\x8b\\xafP<\\xd9\\xe2\\x17\"\\xff\\xe7\\x9b\\xde\\xc6\\xe7\\xf3\\xe9\\xc7\\x06\\x02\\x81\\xac\\xcb\\xc9f\\xeb\\xdb\\xecq\\x99\\xd7b\\x16\\xe7T\\x10Q\\x9d;)\\ta\\xd1r#DDU\"I\\x12&&&\\xb0s\\xe7N\\xabC!\\xaa\\x08m(\\x95\\xb6\\xda\\x14\\x11Q\\x9d\\x99\\xe4\\xf0\\'\"\"\"\"\"*\\x0b\\x93\\n\"\"\"\"\"*\\x0b\\x93\\n\"\"\"\"\"*\\x0b\\x93\\n\"\"\"\"\"*\\x0b\\x93\\n\"\"\"\"\"*\\x0b\\x93\\n\"\"\"\"\"*\\x0b\\x93\\n\"\"\"\"\"*\\x0b\\x93\\n\"\"\"\"\"*\\xcb*\\xab\\x03 \"\\xaa\\x86\\x87\\x1ez\\xa8\\xa9\\x0b\\x85\\xbd\\xfd\\xf6\\xdb\\xb8\\xea\\xaa\\xab\\xac\\x0e\\xa3.\\x08!\\xf0\\xee\\xbb\\xefb\\xd5\\xaa\\xe6\\xfd\\'mnn\\x0e\\xdd\\xdd\\xddV\\x87AD\\x94\\x13\\x9fT\\x10Q\\xd3\\xe9\\xed\\xed\\xc5\\xcd7\\xdflu\\x18U\\xf3\\x9b\\xdf\\xfc\\x06\\xff\\xf6o\\xff\\x86\\x8b\\x17/Z\\x1dJ]8w\\xee\\x1c\\xce\\x9f?ou\\x18U\\xd5\\xdd\\xdd\\x8d\\x8d\\x1b7Z\\x1d\\x06\\x11QN\\x92\\x10BX\\x1d\\x04\\x11\\x11\\x99w\\xdf}\\xf7!\\x14\\n\\xe1\\xc2\\x85\\x0b\\xb0\\xd9lV\\x87c\\xb9\\'\\x9ex\\x02\\xdb\\xb6m\\xc3\\x0f\\x7f\\xf8Cl\\xdb\\xb6\\xcd\\xeap\\x88\\x88V\\xa2I&\\x15DD\\r\\xe4\\x99g\\x9eAww7\\xbe\\xff\\xfd\\xef\\xa3\\xaf\\xaf\\xcf\\xeap\\xea\\xc6g>\\xf3\\x19\\xfc\\xfc\\xe7?\\xc7/~\\xf1\\x0b\\xac^\\xbd\\xda\\xeap\\x88\\x88V\\x1a&\\x15DD\\x8d\\xe2\\x9dw\\xde\\xc1\\x86\\r\\x1bp\\xfd\\xf5\\xd7\\xe3G?\\xfa\\x91\\xd5\\xe1\\xd4\\x95\\x8b\\x17/\\xa2\\xb3\\xb3\\x13\\x83\\x83\\x83\\x18\\x1a\\x1a\\xb2:\\x1c\"\\xa2\\x95f\\x92s*\\x88\\x88\\x1a\\xc4\\xb1c\\xc7\\xf0\\xcb_\\xfe\\x12\\xc7\\x8f\\x1f\\xb7:\\x94\\xbas\\xf3\\xcd7\\xe3\\xcb_\\xfe2\\x8e\\x1e=\\x8a\\xf9\\xf9y\\xab\\xc3!\"Zq\\xf8\\xa4\\x82\\x88\\xa8\\x01\\xbc\\xfc\\xf2\\xcb\\xe8\\xec\\xec\\xc4\\xc1\\x83\\x07\\xf9M|\\x0e\\xef\\xbc\\xf3\\x0e>\\xf1\\x89O\\xe0\\xc3\\x1f\\xfe0\\x9f\\xe4\\x10\\x11\\xd5\\x16\\x87?\\x11\\x115\\x02\\xce\\x190\\xe7\\xdc\\xb9s\\xd8\\xb8q#\\xc6\\xc7\\xc7q\\xcf=\\xf7X\\x1d\\x0e\\x11\\xd1J\\xc1\\xe1ODD\\xf5\\xee\\x89\\'\\x9e\\xc0\\x0f~\\xf0\\x03\\x1c;v\\x8c\\tE\\x01\\x1b6l\\xc0\\xe7?\\xffy\\x1c8p\\x00\\xa9T\\xca\\xb28\\x92\\xc9$\\x82\\xc1 \\xecv\\xbbe1\\x10\\x11\\xd5\\x12\\x9fT\\x10\\x11\\xd5\\xb17\\xdex\\x03\\xb7\\xdf~;\\xee\\xbc\\xf3N\\x8c\\x8f\\x8f[\\x1dNCx\\xf5\\xd5W\\xd1\\xd9\\xd9\\x89{\\xee\\xb9\\x07\\xc7\\x8e\\x1d3}\\x9c$I\\xa6\\xda\\x99\\xf9g\\xd3\\xe9t\\xc2\\xeb\\xf5\\x9anOD\\xd4\\xe0\\xf8\\xa4\\x82\\x88\\xa8\\x9e\\x8d\\x8c\\x8c\\xe0\\xd2\\xa5Kp\\xbb\\xddV\\x87\\xd20\\xae\\xbb\\xee:|\\xfd\\xeb_\\xc7#\\x8f<\\x82\\xa7\\x9f~\\xda\\xf4qB\\x08\\xc3\\xd3\\r!\\x84\\xe1555e\\xba\\xaf\\xd1\\xd1\\xd1\\xa2b&\"jt|RADT\\xa7\\x16\\x16\\x16\\xf0\\xb1\\x8f}\\x0cn\\xb7\\x1b\\xfb\\xf6\\xed\\xb3:\\x9c\\x86\"\\x84\\xc0]w\\xdd\\x05UU\\xf1\\xf4\\xd3O\\xe3\\xca+\\xaf4}\\xac\\xf6\\xc4\"\\xdb?\\x8f\\x92$\\x99~\\xf2\\x90\\xaf\\x1f\"\\xa2&\\xc3\\'\\x15DD\\xf5H\\x08\\x01\\xa7\\xd3\\x89\\xdbo\\xbf\\x1dN\\xa7\\xd3\\xeap\\x1a\\x8e$I\\x18\\x1d\\x1d\\xc5\\xb3\\xcf>\\xab\\x0fC*\\xb7?\\xc0\\x98 \\xa8\\xaa\\n\\xbf\\xdf\\x0fI\\x92 I\\x12\\\\.\\x17\\x92\\xc9d\\xde~<\\x1e\\x0f$I\\x82\\xdf\\xefG2\\x99\\\\6\\xe4*\\x99L\\xeam\\xecv;\\xa6\\xa7\\xa7\\xcb\\x8e\\x9d\\x88\\xa8\\x16\\x98T\\x10\\x11\\xd5\\xa1\\xef~\\xf7\\xbbx\\xea\\xa9\\xa7\\xf0\\xc8#\\x8f\\x14\\xf5-;\\xbd\\xa7\\xa3\\xa3\\x03\\x0f<\\xf0\\x00\\x8e\\x1c9\\x82\\x97^z\\xa9\\xe4~\\xe2\\xf1x\\xd6\\xed\\x87\\x0f\\x1f\\xc6\\xc0\\xc0\\x00\\x12\\x89\\x04b\\xb1\\x18FFF\\xf2.\\xf7\\xeb\\xf1x\\xb0c\\xc7\\x0e\\x08!\\xb0s\\xe7\\xcee\\xf5F\\x92\\xc9$\\xf6\\xec\\xd9\\x83\\xb5k\\xd7B\\x08\\x81\\x03\\x07\\x0e`\\xcb\\x96-\\x88F\\xa3%\\xc7NDT+\\x1c\\xfeDDTg^{\\xed5\\xdcv\\xdbmEO4\\xa6\\xe5J\\x99\\xe8\\x9ek\\xc2v\\xe6?\\x97.\\x97\\x0b\\x97.]\\xd2\\xe7Od>\\xcd\\xc8\\xf6s\"\\x91@kk+\\x80\\xa5$\\xa2\\xad\\xadM\\xdf\\x1f\\x0c\\x06\\xd1\\xdf\\xdfo8\\x8f$IP\\x14\\x05\\xc3\\xc3\\xc3\\xa6b\\'\"\\xb2\\x08\\xebT\\x10\\x11\\xd5\\x9b\\xfb\\xee\\xbb\\x0f\\xa1P\\x08\\x17.\\\\\\x80\\xcdf\\xb3:\\x9c\\x86\\xf7\\xc4\\x13O`\\xdb\\xb6m\\xf8\\xe1\\x0f\\x7f\\x88m\\xdb\\xb6\\x15l\\x9f\\x99\\x0c\\xc4\\xe3q\\xdcr\\xcb-9\\xe7F\\xc4\\xe3qLNNbpp\\xd0p\\\\f?\\xda\\x8aP\\x81@\\x00\\xdb\\xb6mCKK\\x8b\\xa1\\x1f\\xbb\\xdd\\x8ep8\\x9c\\xf5\\x1c\\xfc\\xa7\\x9a\\x88\\xea\\x1c\\x93\\n\"\\xa2z\\xf2\\xcc3\\xcf\\xa0\\xbb\\xbb\\x1b\\xdf\\xff\\xfe\\xf7\\xd1\\xd7\\xd7gu8M\\xa3\\x98\\xe2\\x81\\xd9\\xe6O\\xe4\\x9a\\xa0\\xed\\xf7\\xfb\\x11\\x0e\\x87\\xe1v\\xbb\\xb1n\\xdd:\\xc3q\\x99\\xfd,,,`ppPO\\x1c\\xdcn7\\x0e\\x1d:\\x94\\xf7\\xbcDD\\r\\x82I\\x05\\x11Q\\xbdx\\xe7\\x9dw\\xb0a\\xc3\\x06\\\\\\x7f\\xfd\\xf5\\xf8\\xd1\\x8f~du8M\\xe5\\xe2\\xc5\\x8b\\xe8\\xec\\xec\\xc4\\xe0\\xe0`\\xdey\\x0f\\x80\\xf9\\x9b{m\\xb8R,\\x16C{{{\\xc1\\xe1O\\x9ah4\\n\\xaf\\xd7\\x0b\\xaf\\xd7kH,\\xb4\\xf6\\xf3\\xf3\\xf3\\xe8\\xe8\\xe8(\\xf2\\n\\x89\\x88,\\xc5\\xd5\\x9f\\x88\\x88\\xea\\xc5\\xb1c\\xc7\\xf0\\xcb_\\xfer\\xd9\\x04^*\\xdf\\xcd7\\xdf\\x8c/\\x7f\\xf9\\xcb8z\\xf4(\\xe6\\xe7\\xe7+\\xd2g\\x7f\\x7f?\\x00\\xa0\\xbd\\xbd\\xddT{I\\x92\\xa0\\xaa*\\xba\\xba\\xba0::\\x8aH$\\xa2\\x0f\\x99\\x02\\x00\\x9f\\xcf\\x07\\x00\\x18\\x1b\\x1b\\x83\\xaa\\xaa\\x00\\xde[\\r\\x8a\\x88\\xa8\\xde1\\xa9 \\xa2\\xa6\\xa0-\\xebi\\xf6Uo^~\\xf9e|\\xe5+_\\xc1\\x17\\xbf\\xf8E}\\x18\\rU\\xd6\\xdf\\xfd\\xdd\\xdf\\xa1\\xb3\\xb3\\x13\\xfb\\xf7\\xef\\xcf\\xd9F\\xbb\\x99\\xcf\\xfcs6\\xb2,\\x03X\\x9aS\\xb1\\xb0\\xb0\\xa0oO&\\x93\\x86\\xa5e\\xd3\\xff\\xecv\\xbb\\xf5\\xd5\\xa4\\xd6\\xacYc(j\\xb8}\\xfbv\\x00K\\x05\\x0fm6\\x1b$IB[[\\x1bv\\xec\\xd8a\\xe6\\xf2\\x88\\x88,\\xc5\\xa4\\x82\\x88\\x9aF ikK\\x8e\\x00\\x00 \\x00IDAT\\x100T@\\xd6\\xa4o\\x0b\\x04\\x02\\x16F\\x98\\xdb\\xbe}\\xfb\\xf0\\xe1\\x0f\\x7f\\x18\\x0f>\\xf8\\xa0\\xd5\\xa14\\xadU\\xabV\\xe1;\\xdf\\xf9\\x0e\\xa6\\xa6\\xa6011\\xb1l\\xbf$I\\x86\\x89\\xf1\\xda\\x8d}.\\xda\\x8aL~\\xbf\\x1f6\\x9b\\r\\x8a\\xa2\\xc0\\xe1p\\xe0\\xcd7\\xdfD[[\\x9b\\xde.\\xfd\\xcf\\xfb\\xf7\\xef\\xc7\\xe4\\xe4$$I\\xc2\\xe4\\xe4\\xa4aNEkk+b\\xb1\\x18\\x14E\\x01\\x008\\x1c\\x0e}h\\x15\\x11Q\\xbd\\xe3\\x9c\\n\"j\\n\\xd9&\\xd2\\xe6*Xf\\xb3\\xd9\\xeaj2l\\xb1\\xab\\x13Qy\\x06\\x06\\x06\\x10\\x0e\\x87\\xb9\\xba\\x16\\x11Q\\xe5pN\\x05\\x115\\x87X,f\\xaa]KK\\x0bb\\xb1\\x18\\x92\\xc9$\\xc2\\xe10\\xecv;TU\\x85\\xd3\\xe9\\x84\\xcb\\xe5\\xca:D*\\xd7\\xb0\\xa9JT?~\\xe3\\x8d7p\\xff\\xfd\\xf7\\xa3\\xbf\\xbf\\x9f\\tE\\x8d\\xfc\\xe3?\\xfe#._\\xbe\\x8c\\xbf\\xff\\xfb\\xbf\\xb7:\\x14\"\\xa2\\xa6\\xc1\\xa4\\x82\\x88\\x9aB1CD\\xda\\xdb\\xdb\\xb1g\\xcf\\x1e\\xbd.\\xc0\\x85\\x0b\\x17\\xe0p8p\\xe9\\xd2%$\\x12\\x89e\\xed\\xb3%,\\x95\\xaa~<22\\x82K\\x97.\\x19\\xc6\\xd6Su]w\\xddu\\xf8\\xfa\\xd7\\xbf\\x8eG\\x1ey\\x04O?\\xfd\\xb4\\xd5\\xe1\\x10\\x115\\x05\\x0e\\x7f\"\\xa2\\xa6UhiPm\\x7f*\\x952\\x14\"\\xcbU\\xa7 }[%\\xaa\\x1f/,,\\xe0c\\x1f\\xfb\\x18\\xdcn7\\xf6\\xed\\xdbg\\xf6\\xb2\\xa8\\x02\\x84\\x10\\xb8\\xeb\\xae\\xbb\\xa0\\xaa*\\x9e~\\xfai\\\\y\\xe5\\x95V\\x87DD\\xd4\\xc8X\\xa7\\x82\\x88\\x9a\\x97\\xd9\\xa4\\xc2\\xcc\\\\\\x8c\\xccm\\xe5V?\\xe6M\\xad\\xf5\\xb4\\xa4\\xce\\xe3\\xf1\\xe0\\xfe\\xfb\\xef\\xb7:\\x1c\"\\xa2F\\xc6\\xa4\\x82\\x88\\x9aW5\\x93\\x8ar\\xab\\x1f\\x9f8q\\x02\\x9f\\xfb\\xdc\\xe7p\\xf6\\xecY\\xdcy\\xe7\\x9d%\\xf5A\\xe5;r\\xe4\\x08\\x1ey\\xe4\\x11\\\\\\xb8p\\x017\\xddt\\x93\\xd5\\xe1\\x10\\x115*&\\x15D\\xd4\\xbcj\\x91T\\x94R\\xfd\\xf8\\xb5\\xd7^\\xc3m\\xb7\\xdd\\x86{\\xee\\xb9\\x07\\xc7\\x8e\\x1d+\\xeaX\\xaa\\xac7\\xdex\\x03\\xb7\\xdf~;\\xee\\xbc\\xf3N\\x8c\\x8f\\x8f[\\x1d\\x0e\\x11Q\\xa3\\xe2\\xeaODD\\xa5(\\xa7\\xfa\\xf1\\xe1\\xc3\\x87q\\xc5\\x15W\\xe0+_\\xf9JUc\\xa4\\xc2\\xae\\xbe\\xfaj<\\xf2\\xc8#\\x08\\x04\\x028}\\xfa\\xb4\\xd5\\xe1\\x10\\x115,&\\x15D\\xd4\\x94rU4\\xce\\xb7M\\xe3p8\\x00@\\xaf\\x92<77\\xa7\\xefs:\\x9d\\x00J\\xaf~\\xfc\\xcc3\\xcf\\xe0\\xb1\\xc7\\x1e\\xc3C\\x0f=\\xc4\\x1a\\tu\\xe2/\\xfe\\xe2/\\xf0\\x97\\x7f\\xf9\\x97\\xf8\\xdb\\xbf\\xfd[\\xbc\\xf9\\xe6\\x9bV\\x87CD\\xd4\\x90\\x98T\\x10Q\\xd3\\xd1n\\xf05mmm\\xcbjL\\xa4\\xef\\xb7\\xdb\\xed\\x86}_\\xfc\\xe2\\x17!\\xcb2\\xd6\\xad[\\x87p8\\x8c\\xee\\xeen\\xc8\\xb2\\x8c@ \\x80\\x7f\\xf8\\x87\\x7f\\x00PZ\\xf5\\xe3w\\xdey\\x07\\xf7\\xddw\\x1f\\xb6l\\xd9\\x82\\xbe\\xbe\\xbe\\xb2\\xaf\\x93*\\xe7\\xdb\\xdf\\xfe6~\\xf5\\xab_\\xe1\\x9f\\xfe\\xe9\\x9f\\xac\\x0e\\x85\\x88\\xa8!qN\\x05\\x11Q\\x8d|\\xf3\\x9b\\xdf\\xc4\\x91#G\\x10\\x8dF\\xb1n\\xdd:\\xab\\xc3\\xa1\\x0c\\x1e\\x8f\\x07_\\xfa\\xd2\\x97\\xf8\\xf9\\x10\\x11\\x15\\x8f\\x13\\xb5\\x89\\x88j\\xe1\\xe5\\x97_Fgg\\'\\x0e\\x1e<\\x88\\xa1\\xa1!\\xab\\xc3\\xa1,\\xdey\\xe7\\x1d|\\xe2\\x13\\x9f\\xc0\\x87?\\xfca\\xfc\\xe8G?\\xb2:\\x1c\"\\xa2F\\xc2\\xa4\\x82\\x88\\xa8\\x16>\\xf3\\x99\\xcf\\xe0\\xe7?\\xff9~\\xf1\\x8b_`\\xf5\\xea\\xd5V\\x87C9\\x9c;w\\x0e\\x1b7n\\xc4\\xf8\\xf88\\xee\\xb9\\xe7\\x1e\\xab\\xc3!\"j\\x14\\\\\\xfd\\x89\\x88\\xa8\\xda\\x9ex\\xe2\\t\\xfc\\xe0\\x07?\\xc0\\xb1c\\xc7\\x98P\\xd4\\xb9\\r\\x1b6\\xe0\\xf3\\x9f\\xff<\\x0e\\x1c8\\x80T*e\\xd87==\\xcd9\\x17DD9\\xf0I\\x05\\x11Q\\x15\\xb1\\x0eB\\xe3y\\xf5\\xd5W\\xd1\\xd9\\xd9\\xa9\\xd7\\x11I$\\x12x\\xe0\\x81\\x070>>\\x8e\\x8e\\x8e\\x0e\\xcc\\xcf\\xcf[\\x1d\"\\x11Q\\xbd\\x99\\\\eu\\x04DD\\xcdldd\\x04\\x97.]\\x82\\xdb\\xed\\xb6:\\x142\\xe9\\xba\\xeb\\xae\\xc3\\xd7\\xbf\\xfeu|\\xees\\x9f\\xc3\\xd5W_\\x8dG\\x1f}\\x14o\\xbd\\xf5\\x16\\x00\\xe0?\\xfe\\xe3?\\xf0?\\xff\\xf3?\\xf8\\xd0\\x87>dq\\x94DD\\xf5\\x85\\xc3\\x9f\\x88\\x88\\xaadaa\\x01\\x1e\\x8f\\x07_\\xfd\\xeaWq\\xd3M7Y\\x1d\\x0e\\x15\\xa1\\xab\\xab\\x0b\\xbf\\xf3;\\xbf\\x83o|\\xe3\\x1b\\xf8\\xdf\\xff\\xfd_\\xbc\\xfd\\xf6\\xdb\\x00\\x96*\\xaa?\\xf3\\xcc3\\x16GGDT\\x7f\\x98T\\x10\\x11U\\x81\\x10\\x02N\\xa7\\x13\\xb7\\xdf~\\xbb^0\\x8f\\xea\\xdf\\xff\\xfd\\xdf\\xff\\xe1\\xf0\\xe1\\xc3\\xf8\\xf8\\xc7?\\x8eT*\\x85\\xcc\\x11\\xc2\\xef{\\xdf\\xfb\\x0c\\xc5\\x10\\x89\\x88h\\t\\x87?\\x11\\x11U\\xc1w\\xbf\\xfb]<\\xf5\\xd4S8{\\xf6,\\xae\\xbc\\xf2J\\xab\\xc3!\\x13&\\'\\'q\\xff\\xfd\\xf7#\\x95J\\xe1\\xf2\\xe5\\xcb\\xb8|\\xf9\\xf2\\xb26\\xef\\xbc\\xf3\\x0e~\\xfa\\xd3\\x9fZ\\x10\\x1d\\x11Q}cRADTa\\xaf\\xbd\\xf6\\x1a\\xbe\\xf0\\x85/\\xe0\\xfe\\xfb\\xef\\xc7\\x9dw\\xdeiu8d\\xd2\\xaf\\x7f\\xfdk\\xbc\\xfa\\xea\\xab\\xcb\\x9eN\\xa4\\xbb|\\xf92fggk\\x18\\x15\\x11Qc\\xe0\\xf0\\'\"\\xa2\\n;|\\xf80\\xae\\xb8\\xe2\\n|\\xe5+_\\xb1:\\x14*\\xc2\\xdf\\xfc\\xcd\\xdf\\xe0\\xa9\\xa7\\x9e\\xc2\\x9a5kp\\xd5UW\\xe5l\\x97J\\xa5\\xf0\\xfc\\xf3\\xcf\\xd702\"\\xa2\\xfa\\xc7\\xa4\\x82\\x88\\xa8\\x82\\x9ey\\xe6\\x19<\\xf6\\xd8cx\\xe8\\xa1\\x87`\\xb3\\xd9\\xac\\x0e\\x87\\x8a\\xf4\\xa7\\x7f\\xfa\\xa7\\x88D\"\\xf8\\xa3?\\xfa\\xa3\\x9c\\x89\\xc5\\x15W\\\\\\xc1y\\x15DD\\x19\\x98T\\x10\\x11\\x95 \\xd7x\\xfb\\xfb\\xee\\xbb\\x0f[\\xb6lA__\\x9f\\x05QQ%\\xdc|\\xf3\\xcd\\x98\\x9d\\x9d\\xc5\\x8e\\x1d;p\\xc5\\x15\\xcb\\xff\\x99\\xbc\\xf2\\xca+\\xf1\\xf4\\xd3O[\\x10\\x19\\x11Q\\xfdbRADT\\xa47\\xdex\\x03]]]\\x98\\x9e\\x9e6l?v\\xec\\x18~\\xf9\\xcb_\\xe2\\xf8\\xf1\\xe3\\x16EF\\x95\\xb2z\\xf5j|\\xef{\\xdf\\xc3\\xd7\\xbe\\xf65H\\x92dH.\\xde~\\xfbm\\x9c9s\\xc6\\xc2\\xe8\\x88\\x88\\xea\\x0f+j\\x13\\x11\\x15\\xe9\\'?\\xf9\\t\\xfe\\xec\\xcf\\xfe\\x0c\\x00\\xf0\\xd9\\xcf~\\x16\\xdf\\xf8\\xc67\\xf0\\x9b\\xdf\\xfc\\x06\\x9d\\x9d\\x9d8x\\xf0 \\x86\\x86\\x86,\\x8e\\x90*\\xe9\\xf4\\xe9\\xd3\\xd8\\xb9s\\'\\xdez\\xeb-\\xbd^\\xc5\\x95W^\\x89\\xd7_\\x7f\\x1dW_}\\xb5\\xc5\\xd1\\x11\\x11\\xd5\\x85I>\\xa9 \"*\\xd2\\xdc\\xdc\\x9c>\\xde\\xfe{\\xdf\\xfb\\x1e~\\xff\\xf7\\x7f\\x1f\\xbbv\\xedBkk+\\x1e|\\xf0A\\x8b\\xa3\\xa3J\\xdb\\xb6m\\x1b~\\xf6\\xb3\\x9f\\xe1\\x96[n\\xd1?\\xf7w\\xdf}\\x17?\\xfb\\xd9\\xcf,\\x8e\\x8c\\x88\\xa8~0\\xa9 \"*\\xd2\\xd9\\xb3g\\xf59\\x15o\\xbf\\xfd6TU\\xc5\\xcc\\xcc\\x0c\\xae\\xbe\\xfaj\\xfc\\xe7\\x7f\\xfe\\xa7\\xc5\\xd1Q5\\xfc\\xc1\\x1f\\xfc\\x01\\x9ey\\xe6\\x19\\xfc\\xf9\\x9f\\xff\\xb9^w\\x84\\xf3*\\x88\\x88\\xde\\xc3\\xe1ODDEjmm\\xc5\\xaf\\x7f\\xfd\\xebe\\xdbW\\xadZ\\x85\\xcb\\x97/c\\xdf\\xbe}\\xf8\\xeaW\\xbf\\x8a\\x0f~\\xf0\\x83\\x16Dg\\xbd\\x1d;vX\\x1dB\\xd5\\x08!\\xf0\\xec\\xb3\\xcfb~~\\x1e7\\xdf|3\\xba\\xbb\\xbb\\xad\\x0e\\x89jd\\xe3\\xc6\\x8dx\\xe0\\x81\\x07\\xac\\x0e\\x83\\xa8^q\\xf8\\x13\\x11Q1.^\\xbc\\x985\\xa1\\x00\\x96V\\x7f\\xba|\\xf92\\x1e}\\xf4Q\\xdcv\\xdbm+v2\\xef\\xa9S\\xa7p\\xf1\\xe2E\\xab\\xc3\\xa8\\nI\\x92\\xf0\\xd1\\x8f~\\x14\\x1b6l\\x80\\xaa\\xaaV\\x87C5277\\xc7\\xa2\\x87D\\x05\\xb0\\xa26\\x11Q\\x11\\xe6\\xe6\\xe6 IR\\xc1\\xaa\\xcb\\xb7\\xddv\\x1b>\\xfa\\xd1\\x8f\\xd60\\xb2\\xfar\\xf0\\xe0A\\xec\\xdc\\xb9\\xd3\\xea0\\xaa\\xea\\xfc\\xf9\\xf3\\xe8\\xec\\xec\\xc4\\x07>\\xf0\\x01\\xabC\\xa1*k\\xe6\\xa7oD\\x95\\xc2\\'\\x15DDEH\\x9f\\xa4\\x9d\\xcb\\xe7?\\xffy<\\xf1\\xc4\\x13X\\xb3fM\\x8d\\xa2\"+|\\xfc\\xe3\\x1fgBAD\\xf4[|RADT\\x84\\x7f\\xff\\xf7\\x7f\\xc7o~\\xf3\\x9be\\xdbW\\xadZ\\x05I\\x92\\xe0\\xf3\\xf9\\xf0\\xd7\\x7f\\xfd\\xd7\\xb5\\x0f\\x8c\\x88\\x88\\xc8BL*\\x88\\x88Lz\\xfb\\xed\\xb7\\x11\\x89D\\x96m\\xbf\\xea\\xaa\\xab\\xb0f\\xcd\\x1a\\x84\\xc3al\\xd8\\xb0\\xc1\\x82\\xc8\\x88\\x88\\x88\\xac\\xc5\\xe1ODD&E\"\\x91eO)V\\xadZ\\x85\\xae\\xae.D\\xa3Q&\\x14DD\\xb4b1\\xa9 \"2inn\\x0e\\xabV\\xbd\\xf7\\x80W\\x92$\\xec\\xdc\\xb9\\x13g\\xce\\x9c\\xc1\\r7\\xdc`adDDD\\xd6bRADd\\xd2\\xdc\\xdc\\x1c\\x84\\x10\\xb8\\xf2\\xca+q\\xc5\\x15W\\xe0\\xe8\\xd1\\xa3\\xf8\\xfe\\xf7\\xbf\\x8f\\xab\\xaf\\xbe\\xda\\xea\\xd0\\xa8\\x82\\x92\\xc9$\\x82\\xc1 \\xecv{Ymj\\xa5\\x9eb!\\xa2\\x95\\x8bI\\x05\\x11\\x91I?\\xf9\\xc9O\\xf0\\xee\\xbb\\xef\\xe2\\xdak\\xaf\\xc5\\x93O>\\x89\\x07\\x1f|\\xd0\\xea\\x90\\xc8\\x04UU!I\\x92\\xe9\\xf6CCC\\xe8\\xef\\xefG8\\x1c.\\xabM\\xb5d^\\x8f\\x95\\xb1\\x94\\xc3\\xef\\xf7\\x9b\\xfe\\\\\\xc2\\xe10\\xecv;$I\\x82\\xddnG0\\x18\\\\\\xd6&\\x1a\\x8dB\\x92$\\xfd\\xe5t:+\\x1d2\\x11\\xe5\\xc1\\x89\\xdaDu\\xe2\\x9b\\xdf\\xfc&\\x8b+\\xd5\\xb1\\xb7\\xdez\\x0b\\xf1x\\x1c\\x1f\\xfa\\xd0\\x87\\xb0q\\xe3F<\\xfa\\xe8\\xa3x\\xf4\\xd1G\\xad\\x0e\\xabd\\x0f<\\xf0\\x006n\\xdchu\\x185Ql\\x11\\xc2\\xd1\\xd1Qx\\xbd\\xde\\xb2\\xdbTK\\xe6\\xf5T+\\x96h4\\x8aS\\xa7Naxx\\xb8*}\\x0f\\x0c\\x0c\\x98j\\xeb\\xf1x088\\x88H$\\x82P(\\x84h4\\x8a\\xf5\\xeb\\xd7cqq\\x11\\x87\\x0e\\x1d\\xd2\\xdb\\x9d;w\\xcep\\xdc\\xddw\\xdf]\\xd1\\x98\\x89(?>\\xa9 \\xaa\\x13\\xb3\\xb3\\xb3\\x98\\x9b\\x9b\\xb3:\\x0c\\xca\\xe1\\xd5W_\\xc5\\x8d7\\xde\\x88O}\\xeaS\\xb8\\xe6\\x9ak\\xac\\x0e\\xa7,\\xa7N\\x9d\\xc2\\x7f\\xff\\xf7\\x7f[\\x1dFM\\xa8\\xaa\\n\\xbf\\xdfou\\x18\\x15S\\xed\\xeb\\xd1\\x86R9\\x9dN\\\\\\xb8p\\x01\\xfb\\xf7\\xef\\xaf\\xf89TU\\xc5\\xa9S\\xa7L\\xb7\\x1f\\x1c\\x1c\\x04\\x00tuu\\x19\\xfe;33chw\\xc3\\r7@\\x08\\xa1\\xbfdY\\xaeP\\xc4Dd\\x8a \\xa2\\xba\\xd0\\xdb\\xdb+z{{\\xad\\x0e\\x83rx\\xf1\\xc5\\x17\\xc5\\xe5\\xcb\\x97\\xad\\x0e\\xa3\"\\x00\\x88\\x89\\x89\\x89\\xba\\xee?\\x91H\\x88P($dY\\x16B\\x08\\xe1\\xf3\\xf9\\x04\\x00\\xe1p8\\xc4\\xfc\\xfc|\\xd6\\xf6n\\xb7[\\x00\\x10\\xb2,\\x8b\\xa9\\xa9)!\\x84\\x10\\x8a\\xa2\\x08\\x00\\x86\\x97\\x10B\\xa4R)\\xbdO\\x00BQ\\x14\\x91H$\\x0c\\xd7P\\xe8\\x9f\\xc8lmr\\xc5\\x91H$D \\x10\\xd0\\xaf\\'\\x14\\n\\xe9mb\\xb1\\x98\\xa1\\x8f\\xa9\\xa9)!\\xcb\\xb2\\x00 \\xdcn\\xb7!\\xae\\\\\\xd7\\x93\\xfeg\\xado\\x87\\xc3a86\\x9fH$\"\\x14E\\x11\\x8a\\xa2\\x88H$b\\xea\\x98Ri\\xd7d\\xe6=\\xd6\\xda\\x03\\x10\\xb3\\xb3\\xb3B\\x08!b\\xb1\\x98\\x00`\\x88S\\xdb\\xa6(\\x8a\\xde\\xae\\x92\\xf8\\xfb\\x99\\xa8\\xa0\\x93L*\\x88\\xea\\x04\\xff\\xd1\\xa2Zi\\x84\\xa4\"\\xfd\\xa6Y\\xbbIL\\xa5R\\xc2\\xe1p\\x08\\x00\\x86\\xc4\"\\x91H\\x08Y\\x96E \\x10\\x10B,\\xdd\\x94\\xa7\\xdftf\\xbby\\xd5\\xfaI$\\x12\\xfa\\r\\xa9\\xc3\\xe1Xv~31\\x9a\\x89CK\\x12\\xb2\\xdd\\x1c\\xa7\\x9fWK\\x08\\xb46\\x81@ o\\x02\\x91\\x19\\x8bv\\xdc\\xfc\\xfc\\xfc\\xb2\\xbe3i\\x89\\x8e\\xc3\\xe1\\x10\\x81@ o\\x02\\x92\\x99\\xc8\\xe4z\\x15255\\xa5\\xc7h\\xf6\\x18!\\xdeK\\xa6fgg\\xb3\\xc6\\xaa\\xbdo\\xdaK\\x96e\\xd3\\t\\x95\\x19\\xfc\\xfdLT\\x10\\x93\\n\\xa2z\\xc1\\x7f\\xb4\\xa8V\\x1a!\\xa9\\xd0\\xfa\\xc9\\xbc\\xe9\\x8cD\"\\xfa7\\xf8\\x1a\\xed\\xc6;\\xf3XEQr\\xf6\\xa3(J\\xde$\\xa2\\x94\\xa4\\xa2\\x948\\xcc\\x9c7\\xf3z\\xcd\\xf4c\\xe6\\x1a\\xb4~S\\xa9T\\xbe\\xcb\\xac\\x98D\"!|>\\x9f\\xe1\\xfc\\xc5\\x0c\\x98\\xd0\\x12AEQ\\xb2\\xc6\\x9cJ\\xa5\\xf4\\'.\\x00\\x0c\\xe7*\\x17\\x7f?\\x13\\x15t\\x92s*\\x88\\x88\\xa8ah\\xe3\\xe9\\xb5q\\xf6\\x000>>\\x0e\\x00\\x86\\x95\\x7f\\x00`dd$g?\\xc3\\xc3\\xc3\\x18\\x1d\\x1dE<\\x1e\\x87\\xc7\\xe3\\xa9Hl\\xa5\\xc4\\x91\\xc9\\xe1pd\\xdd\\x9e~\\xbd\\x95\\x92H$\\xb0v\\xedZ\\x1c>|\\x18\\xc1`\\x10\\xc9d\\xb2\\xe2\\xe7H\\xf7\\xf8\\xe3\\x8fc\\xef\\xde\\xbd%\\x1d\\xeb\\xf1x\\xb0y\\xf3f\\xa4R)\\x00\\xc0\\xee\\xdd\\xbb\\xa1\\xaa\\xaa\\xa1MKK\\x0b\\xba\\xba\\xba0<<\\x0c\\x9f\\xcf\\xd7p\\xaba\\x115:&\\x15DD\\xd4\\xd0\\xb4\\x9bG\\x916IW{\\xe5\\xe3\\xf7\\xfb\\xb1o\\xdf\\xbe\\x8aM\\xe8-5\\x8etZR\\xa1-\\x99\\x1a\\x8dF\\x01\\x00n\\xb7\\xbb\"1\\xa6kmmE__\\x1fFGG\\xd1\\xd9\\xd9\\x89\\xe3\\xc7\\x8f\\xc3\\xe5r\\xe9\\xe7L\\x97\\x9e(\\xe5{\\xe5\\x12\\x0e\\x87\\xb1u\\xeb\\xd6\\x92\\xe2\\x0c\\x06\\x83\\x18\\x1c\\x1c\\xc4\\xb6m\\xdb\\xd0\\xd2\\xd2\\x82\\xdd\\xbbw#\\x1c\\x0e\\xe3\\xe4\\xc9\\x939\\x8f\\xd9\\xb9s\\'\\x93\\n\\xa2\\x1a\\xe3\\x92\\xb2DD\\xd4p\\xb2}\\xa3\\xbf\\xb0\\xb0\\x80\\x8e\\x8e\\x0eS\\xc7\\x07\\x83A\\x0c\\x0c\\x0c \\x16\\x8b\\xa1\\xbd\\xbd\\xbd\\xa2\\xb1\\x15\\x13G\\xa6\\xae\\xae.\\x84B!,,,@\\x92$\\xc8\\xb2\\x8c@ \\x80\\xbe\\xbe\\xbe\\x8a\\xc6\\x98\\xed\\xbc]]]H&\\x93\\x98\\x9e\\x9e\\x86\\xd7\\xeb\\xc5\\xe6\\xcd\\x9b\\xd1\\xd3\\xd3\\x83\\xd6\\xd6\\xd6\\xa2\\x12\\xa3l\\xf2\\x15\\xe6\\x93$)o\\xff\\xfd\\xfd\\xfd\\x00\\x96\\x9eD\\x00@[[\\x1b\\x00``` \\xe7\\x93\\x8f\\x96\\x96\\x96\\x9cO}\\x88\\xa8:\\xf8\\xa4\\x82\\x88\\xaa\\xc6\\xe5r\\xc1\\xe5rU\\xfd\\x18Z9\\x16\\x16\\x16\\x00\\x18k\\x10\\xf8|>\\x00\\xc0\\xd8\\xd8\\x98>$&\\x99L\\xe6\\x1d\\xd6\\xa4\\xdd\\xa8V2\\xa1(%\\x8eL\\xe1p\\x18\\x9b6m\\xc2\\xa1C\\x87 \\x84@(\\x14\\xaazB\\x91.\\xdb\\xd3\\x8bJ\\xc8\\xf7\\xf4\\xa6P\\xc2\\x92\\xf9$IK.\\xf2=aRU\\x15;v\\xec(#b\"*\\x16\\x93\\n\"Z\\x91\\xb4\\n\\xbdv\\xbb\\xbd\\xa8a\\x12\\xa5\\x1eG\\xa5\\xd3\\x86\\x02\\xa9\\xaa\\x8a\\xb1\\xb11\\xc8\\xb2l\\xb8\\xa1\\xdc\\xbe};\\x80\\xa5\\xb9\\x0b6\\x9b\\r\\x92$\\xa1\\xad\\xadM\\xbf\\xa9\\xd4\\xda\\xa6\\xdf\\xe0k\\xdb\\xe2\\xf1\\xb8\\x9e\\xa8hm\\xd2\\xe7\\x16\\xe4\\x9ag\\x90\\xadM\\xbe8\\xd2\\xdbk\\tG\\xfa\\x9c\\x00m\\xbf\\xddn\\xd7\\x8f\\xcd\\xac\\x0e\\xad\\xb5\\xc9\\xbc\\x9el\\xb1d\\xeb\\xbbX\\xda\\xfc\\x84Z\\xca\\xf6\\xa5\\xc2\\x81\\x03\\x07\\x00\\xbc\\xf7\\xf7@\\xab\\xe7\\x93\\xbe}zzZo\\x1f\\x8f\\xc7q\\xe6\\xcc\\x19\\xf4\\xf4\\xf4\\xd4\"d\"\\xfa-&\\x15DT5\\xc3\\xc3\\xc3E\\xdf\\x94\\x94rL\\xb1\\x82\\xc1 \\xfc~?\\xc6\\xc6\\xc6066\\x86\\x1f\\xfe\\xf0\\x87\\xa6\\n\\x8a\\x95z\\x1c\\x95\\xa7\\xb3\\xb3S\\xbf\\xd9noo\\xc7\\xd8\\xd8\\x98a\\x7fkk+b\\xb1\\x18\\x14E\\x01\\xb044*}X\\x93\\xf6\\xf7\\xe9\\xf8\\xf1\\xe3\\xd8\\xbd{\\xb7a\\x9b\\xdf\\xef\\x87\\xcdf\\x83\\xa2(p8\\x1cx\\xf3\\xcd7\\xf5\\xe15\\x00\\x0c\\x7fN\\x97\\xadM\\xbe8\\xd2\\xdb\\xdbl6\\xc3\\x7f\\xd3\\xfb\\x88D\"Y\\xbf\\x81\\xf7z\\xbd\\x18\\x1a\\x1a\\xcaz=\\xd9b\\xc9\\xd6w\\xa3\\xea\\xe9\\xe9\\xc1\\xd4\\xd4\\x14fff I\\x12N\\x9c8\\x81\\xa9\\xa9)=i\\xb8\\xe6\\x9ak\\xb0e\\xcb\\x16H\\x92\\x04\\x97\\xcb\\x85\\xd7^{\\x8d\\x85\\xef\\x88, \\x89r\\x07J\\x12QEh\\xdf\\xaaNNNZ\\x1cIs\\x8b\\xc7\\xe3\\xb8\\xe5\\x96[0;;\\x8b\\xee\\xeen\\x00K\\x93a\\xd7\\xaf_\\x8fH$\\xa2\\xaf.T\\xa9\\xe3\\xea\\x91$I\\x98\\x98\\x98\\xc0\\xce\\x9d;\\xeb\\xba\\x7fm\\xe2\\xefJ\\xfagjaa\\x01\\xabW\\xaf^6,kaa\\x01\\xeb\\xd6\\xad[Q\\xefE=\\xe1\\xefg\\xa2\\x82&\\xf9\\xa4\\x82\\x88J6==\\r\\xbb\\xdd\\x0eI\\x92\\xb2\\x0e\\xc3\\x08\\x06\\x83\\xfa\\x04\\xcd\\xcc\\x9f\\xc3\\xe10$I\\x82\\xddnG<\\x1e\\xcf\\xda\\xa6\\x1a\\xce\\x9e=\\x0b\\x00\\xb8\\xe9\\xa6\\x9b\\xf4m7\\xdex#\\x00\\xe0\\xdc\\xb9s\\x15?\\x8e\\xc8\\xac`0\\x88\\x8e\\x8e\\x8e\\xac\\xf3<\\xda\\xda\\xda\\x10\\x08\\x04,\\x88\\x8a\\x88\\xc8\\x1c\\xae\\xfeDD%\\xd1\\xe6\\x16\\xcc\\xce\\xce\"\\x14\\n!\\x18\\x0c\\x1a\\x86Y\\xc8\\xb2l\\x98s\\xb0g\\xcf\\x1e\\xfd\\xe7\\xb9\\xb99\\xc8\\xb2\\x8cX,\\x86[n\\xb9\\x05k\\xd7\\xae\\xc5\\xe8\\xe8\\xa8\\xa1M.\\xf9\\x96\\xadL\\x97\\xeb\\x1b\\xdd\\x99\\x99\\x19\\x00\\xc6\\t\\xba\\xad\\xad\\xad\\xfa5\\xe5ZM\\xa6\\xd4\\xe3\\xa84\\x99\\t\\xaa\\xf6^7\\xb3\\xf1\\xf1q\\xbc\\xfe\\xfa\\xeb\\xd8\\xbau\\xab\\xe1\\xef\\xd9\\xc2\\xc2\\x02fff\\xf8w\\x8c\\x88\\xea\\x1a\\x87?\\x11\\xd5\\x89F{\\xbc\\x9emh\\x8a$Ip\\xbb\\xdd8t\\xe8P\\xd66\\xb9\\x8e)\\xd4\\xa6\\xdaq\\x9b9o\\xa9\\xc7\\xd5\\xa3F\\x18\\xfe\\x94\\x99<6\\xd2\\xfb[*UUq\\xfa\\xf4i\\xcc\\xcc\\xcc\\xc0\\xeb\\xf5\\x02\\x00\\x14E\\xc1\\xa7>\\xf5)N:\\xb6X\\xa3\\xfd~&\\xb2\\x00\\x87?\\x11QijY\\xf9\\x97V\\x9eR\\x8b\\xc75\\xb2\\x96\\x96\\x16}9W\\xed\\xba\\x87\\x87\\x87\\x99P\\x10QC`RAD%\\xa9e\\xe5\\xdft\\xe5V\\xf6\\xcd\\xb7*L\\xbebY\\xa5\\x1eGDD\\xb4\\x120\\xa9 \\xa2\\x92h\\x95\\x7f\\x17\\x17\\x17\\xf5\\xa5\\x1c\\x03\\x81\\x80>\\xf4\\xa9Z\\xb2\\x15\\xd1\\xcaWX+S\\xfa\\x1a\\xff\\x1am\\xa2\\xf8\\x1dw\\xdcQ\\xf1\\xe3\\x88\\x88\\x88V\\x02N\\xd4&\\xa2\\x92h\\x95\\x7feY\\xaez\"QI[\\xb7n\\x05\\x00\\xbc\\xf0\\xc2\\x0b\\xfa\\xe4\\xdf\\x97^z\\xc9\\xb0\\xaf\\x92\\xc7Qs\\xd2\\n\\xb4\\x15SS\\xa5\\x94c\\x88\\x88\\x1a\\x05\\x9fT\\x10QI\\nU\\xfe\\xcd\\\\\\xbd\\xc7LEa3\\x95\\x8c\\xcb\\xd5\\xde\\xde\\x0e\\x9f\\xcf\\x87\\x13\\'N@UU\\xa8\\xaa\\x8a\\x13\\'N\\xc0\\xe7\\xf3\\x19V\\xdc\\xc9\\xac\\xeck\\xf68\"\\xabU\\xa2\\xea\\xbb\\xdf\\xef_6\\x8c0\\x99L\\xea\\xdb%I\\xd2\\x87>\\x16\\xdb\\x86\\x88\\x9a\\x13\\x9fT\\x10QI\"\\x91\\x08\\\\.\\xd7\\xb2\\x9b\\x16m\\xd5\\x1a\\xed\\xbf\\xc0\\xf2\\x8a\\xbe6\\x9b\\rB\\x88\\xbcU\\x7f\\xdb\\xda\\xda\\xaa6Aw\\xef\\xde\\xbd\\x08\\x87\\xc3\\xb0\\xd9l\\x90e\\x19\\x07\\x0e\\x1c05\\x19\\xb6\\xd4\\xe3\\xa8\\xf9\\x94\\xf2\\xb4\\xa1\\x16O(\\x82\\xc1 \\xc6\\xc7\\xc7\\xf5\\xaa\\xe3\\x87\\x0f\\x1f\\xc6\\xaf~\\xf5\\xab\\xa2\\x96\\xa3\\x8dF\\xa3\\x18\\x18\\x180lSU\\x15{\\xf6\\xec\\x81,\\xcb\\x10B \\x99Lb\\xcf\\x9e=x\\xee\\xb9\\xe7\\xf4\\xeb2\\xd3\\x86\\x88\\x9a\\x17\\x93\\n\"*\\xc9\\xd5W_\\x8d\\x87\\x1f~\\x18\\xa1P\\xc8\\xb0\\xbd\\x98\\xca\\xbfV\\xae\\xea\\xa3\\xdd\\xf8\\xe4\\x92\\xeb&\\xa8\\xd0qDV\\x89\\xc7\\xe3\\xe8\\xef\\xef\\xc7\\xec\\xec,ZZZ\\x00,-\"\\xb0~\\xfdzl\\xd8\\xb0\\xc1T\\xd5wUUq\\xea\\xd4\\xa9e\\xdbO\\x9f>\\x8dp8\\xac\\'+\\xad\\xad\\xad\\x18\\x1e\\x1e\\xc6\\xfa\\xf5\\xeb\\xf5%o\\xcd\\xb4!\\xa2\\xe6\\xc5\\xe1ODT4V\\xfe\\xa5f\\xb7\\x92\\xaa\\xc5\\xa7{\\xec\\xb1\\xc7\\xb0\\x7f\\xff\\xfee\\xdb\\xc7\\xc7\\xc7\\x01@OV\\x00\\xe0\\xd6[o\\x05\\xf0^\\xed\\x063m\\x88\\xa8y1\\xa9 \\xa2\\xa2\\x8d\\x8f\\x8f\\xc3\\xef\\xf7\\xeb7L\\x9a\\x85\\x85\\x05\\x9c<y\\x12}}}\\x16EFT\\xbep8\\x8c-[\\xb6\\xe0\\xc8\\x91#\\x10B`\\xed\\xda\\xb5hkk\\xd3\\xe7\\t\\xec\\xd9\\xb3\\x07\\xfd\\xfd\\xfd\\xfa\\xd0\\xbf\\xf4\\x9f\\xd3\\xab\\xc5\\x87\\xc3a\\x1c=ztY\\x9b\\\\\\xca].\\xb9P\\xd5\\xf7B\\xa6\\xa7\\xa7\\xf1\\xc9O~2k\\xf5\\xf2l\\xc7k\\xc9\\x836\\xd4\\xd1L\\x1b\"j^L*\\x88\\xa8hccc\\xb8\\xf6\\xdakq\\xf4\\xe8Q\\xfdF\\xc7\\xe5r\\xe1\\xe2\\xc5\\x8bE\\x8d\\xdd&\\xaaG\\xda\\xd3\\x84\\xee\\xeen\\x00\\xd0\\x93d\\xb7\\xdb\\r!\\xc4\\xb2!\\x7f\\xe9?k\\xc7h7\\xf6\\xda\\xcdt\\xe61\\xd9\\x94\\xbb\\\\r\\xbe\\x1b\\xf7BIE2\\x99\\xc4\\xf3\\xcf?\\xaf\\xc7\\x9fI\\xab\\xc5\\xb2\\xb0\\xb0\\x90\\xb3\\x0f3m\\x88\\xa8y1\\xa9 \\xa2\\xa2\\xb1\\xf2/5\\xb3\\x95X-\\xfe\\xf1\\xc7\\x1f\\xcf\\xfb\\x85\\xc0\\xbd\\xf7\\xde\\x0b\\x00x\\xe8\\xa1\\x87\\xf4U\\xdb2\\x0b^\\x9aiCD\\xcd\\x8bI\\x05\\x11\\x11Q\\x9a\\x95V->\\x1c\\x0e\\x17\\xac\\xb5\\xd2\\xdd\\xdd\\x8d\\xa9\\xa9),..\\xc2f\\xb3\\xc1\\xef\\xf7\\xe3\\x95W^\\x01\\x00\\xdcu\\xd7]\\xa6\\xdb\\x10Q\\xf3\\xe2\\xeaODDDi\\xb4j\\xf1\\x0b\\x0b\\x0b\\x90$\\t\\xb2,#\\x10\\x08T}\\xaeP\\xb9\\xab\\x8a\\xc9\\xb2\\x8cp8\\x8cd2\\xa9\\xcf\\x8b0S\\xf5=\\xdf\\xe4qI\\x92\\xf4\\xb8zzz\\x0cO#=\\x1e\\x0f\\x14E1\\xac*e\\xa6\\r\\x115\\'&\\x15DT\\x97\\x92\\xc9$\\xa6\\xa7\\xa71>>nj<:Q\\xa5\\xac\\xb4j\\xf1\\xd9\\x92\\x19\\xed\\x89H\\xaeD\\'\\x18\\x0cbffF_>\\xb6\\xd46D\\xd4<8\\xfc\\x89\\x88\\xea\\xd2\\xd0\\xd0P\\xc1\\xd5r\\xeaA<\\x1e\\x87\\xd3\\xe9\\xd4\\xab\\x89OOOgm\\x17\\x8dF\\x97U\\x1e\\xa7\\xfa\\xb4\\xd2\\xaa\\xc5\\x9b\\xa5\\xaa*\\xa2\\xd1(\\x9cN\\'\\x16\\x17\\x17\\x11\\n\\x85\\x0c\\xcb\\xc7\\x9amCD\\xcd\\x89I\\x05\\x11\\xd5\\xa5\\xd1\\xd1Q\\xabC(H\\xbb\\x81\\x1a\\x1d\\x1dE*\\x95\\xc2\\xe6\\xcd\\x9b\\xb1e\\xcb\\x96\\xac\\x89Pf\\x9d\\x80\\xbb\\xef\\xbe\\xbbVaR\\x91\"\\x91H\\xd6\\xf9\\t^\\xaf\\x17CCC\\x86\\xea\\xefmmm\\x86\\x9f\\xb5*\\xf1\\x99\\xd5\\xe23\\x8f\\xa9\\x96\\xbd{\\xf7\\xe2\\xee\\xbb\\xef\\x86\\xcdf\\xc3\\xee\\xdd\\xbb\\xb1c\\xc7\\x8e\\x8a\\xac\\xc8&I\\x12l6\\x1b\\xce\\x9d;\\x07\\x87\\xc3\\x91\\xf5\\t\\x8e\\x996D\\xd4\\xbc8\\xfc\\x89\\x88\\xa8Dg\\xce\\x9c\\xd1o>\\xb5\\x15\\xb1\\xfa\\xfb\\xfba\\xb7\\xdb\\x97\\r\\x1b\\xb9\\xe1\\x86\\x1bX\\x89\\xbbA\\xac\\xd4j\\xf1\\xe92\\x8f\\xaf\\xf7k&\"\\xeb\\xf1I\\x05\\xd1\\n\\xe7\\xf1x I\\x12\\xfc~?\\x92\\xc9\\xa4au\\x19UU\\xe1\\xf7\\xfb\\r\\xb5(\\xb4\\xa1\\x1b\\xb9\\xaa\\x08;\\x9dN}rh0\\x18\\\\\\xb6-\\x99L\"\\x1c\\x0e\\xeb\\xc7i\\xfd;\\x9dNS\\xeb\\xdb\\'\\x93I=f\\xbb\\xdd\\xbel\\xb8Q\\xbe\\xeb\\xa9\\xb4\\\\\\xab\\xedd\\xae\\xb4\\x13\\x8f\\xc7a\\xb7\\xdb\\xe1r\\xb9077W\\xb5x\\xa8|\\xac\\x16ODT\"ADu\\xa1\\xb7\\xb7W\\xf4\\xf6\\xf6\\xd6\\xf4\\x9cn\\xb7[\\xc4b1!\\x84\\x10\\xa9TJ(\\x8a\"\\xd2\\x7f-8\\x1c\\x0e\\x01@$\\x12\\t\\x11\\x8b\\xc5\\x04\\x00\\xe1p8\\x84\\x10B\\xc8\\xb2,\\x00\\x08\\x00\"\\x12\\x89\\x08!\\x84\\x98\\x9d\\x9d\\xd5\\xdb\\xcc\\xce\\xce\\n!\\xc4\\xb2\\xe3\\xb4c\\x00\\xe8mR\\xa9\\x94~\\xae\\xf9\\xf9y\\xfd\\xfcZ;M\"\\x91\\x10\\xb2,\\x8b@  \\x84\\x10bjj\\xcap\\xfeB\\xd7\\x93)=\\x96|/\\xb3R\\xa9\\x94\\x00 B\\xa1\\x90a{(\\x142\\xf4\\'\\xcb\\xb2H$\\x12\\xa6\\xfb\\xad4\\x00bbb\\xa2a\\xfb\\xaf&Y\\x96\\x85\\xcf\\xe7\\xd3\\xff\\x1ei\\xe6\\xe7\\xe7\\x85\\xcf\\xe7\\xb3(*\\xb2\\x9a\\x15\\xbf\\x9f\\x89\\x1a\\xccI>\\xa9 Z\\xc1\\x06\\x07\\x07\\xb1z\\xf5j\\x00K\\xc3w\\xf6\\xef\\xdfo\\xd8\\x7f\\xfd\\xf5\\xd7\\xc3\\xe1p\\xa0\\xb5\\xb55o\\x85`m\\xb9H\\xad\\x1a\\xaf\\xd7\\xeb\\xcdYYX\\xa4\\r\\x91\\xd0\\xda\\xb4\\xb4\\xb4\\xe8\\xdf\\xee\\xe7\\x9b\\x98===\\x8dp8\\xac/\\xed\\xa9-]y\\xea\\xd4)S\\xd7\\x93I\\x94Y\\xc18\\xd3\\xf9\\xf3\\xe7!\\xcb26m\\xdad\\xd8.\\xcb2R\\xa9\\x14\"\\x91\\x08\\x14EA8\\x1c\\xc6\\xe3\\x8f?n\\xba_\\xaa\\x1dV\\x8b\\'\"*\\r\\x93\\n\\xa2\\x15\\xcc\\xe1p\\xa0\\xad\\xad\\r\\xc1`\\x10\\xaa\\xaa\\xa2\\xb5\\xb5\\xd5p\\x13=<<\\x8c\\xd1\\xd1Q\\xc4\\xe3qx<\\x9e\\xaa\\xc6\\xa2%&\\xf9\\xaa\\x16\\x8f\\x8f\\x8f\\x03\\xc0\\xb2B`###\\x00\\n_O\\xb5}\\xeb[\\xdf\\xc2\\x91#G\\xb2\\xaev\\xd3\\xd2\\xd2\\x82\\xae\\xae.\\x0c\\x0f\\x0f\\xc3\\xe7\\xf3\\xd5\\xfd\\xaaV+\\x15\\xab\\xc5\\x13\\x11\\x95\\x86I\\x05\\xd1\\nv\\xf0\\xe0A\\xc8\\xb2\\x8c\\xfe\\xfe~\\xd8l\\xb6\\xac\\x89\\x83\\xdf\\xef\\xc7\\xbe}\\xfb\\xf2V\\xeb\\xad\\x15\\xedF<\\xd7\\xd3\\x043\\xd7\\x93\\xae\\xdc\\n\\xc6\\xe9\\x82\\xc1 dY\\xd6\\x9f\\xbe\\xe4\\xb3s\\xe7N&\\x15DD\\xd4T\\xb8\\xfa\\x13\\xd1\\n\\xd6\\xd1\\xd1\\x81P(\\x84h4\\n\\xaf\\xd7\\xab?%\\xd0\\x96\\x82\\x0c\\x06\\x83\\x18\\x18\\x18@,\\x16\\xcb:q\\xb5\\x1a2\\'9g\\xb3\\xb0\\xb0\\x80\\x8e\\x8e\\x8ee\\xdb\\x0b]O\\xa6J=\\xc5\\x88F\\xa3x\\xee\\xb9\\xe7L\\xad\\xaa\\x03\\x18\\x87{\\x11\\x11\\x115\\x03>\\xa9 Z\\xc1$I\\x82\\xaa\\xaa\\xe8\\xea\\xea\\xc2\\xe8\\xe8(\"\\x91\\x88a\\xf8Q\\x7f\\x7f?\\x00\\xd4$\\xa1\\xd0V~\\xcaW\\xbf\\xc1\\xe7\\xf3\\x01X\\x1a\\xf7\\xae\\x15\\x17\\xd3V\\x83\\x02\\n_O5$\\x93I<\\xf9\\xe4\\x93\\x86\\x84B+\\xfe\\x95\\x8b\\xaa\\xaa\\xd8\\xb1cGU\\xe3\\xa2\\xc6\\x96\\xb9\\xba\\x1a\\x11Q\\xbdcRA\\xb4\\xc2\\xb9\\xddn}\\xb9\\xd75k\\xd6\\xc0\\xedv\\xeb\\xfb\\xb4!O\\xf1x\\xdc\\xb0\\xdck\\xae*\\xc2\\xd9\\xaa\\x06\\xe7\\xab$\\x1c\\x0c\\x06\\xf5\\xe3\\xc7\\xc6\\xc6 \\xcb\\xb2~\\xcel\\xc7m\\xdf\\xbe\\x1d\\xc0\\xd2\\x1c\\n\\xad\\xe2q[[\\x9b\\xe1\\x06=\\xdf\\xf5TZ2\\x99\\xc4\\x9e={088h\\x18.\\xb5~\\xfdz=9\\n\\x06\\x83\\x86eo\\xe3\\xf18\\xce\\x9c9\\xc31\\xfa\\x94W\\xa3T\\x94\\x07\\x8a\\xaf\\x16\\xaf-#MD\\xcd\\x85I\\x05\\xd1\\n\\xb7\\x7f\\xff~LNNB\\x92$LNN\\x1a\\x86\\ni\\xdf\\xbe\\xfb\\xfd~\\xd8l6(\\x8a\\x02\\x87\\xc3\\x817\\xdf|3k\\x15\\xe1lU\\x83\\xf3U\\x12\\xee\\xec\\xec\\x84\\xddn\\x87\\xcdfC{{;\\xc6\\xc6\\xc6\\xb2\\xb6\\xd5\\xfe\\xdc\\xda\\xda\\x8aX,\\x06EQ\\x00,\\r\\x95\\xca\\x1c\\x9a\\x95\\xefz*mhh(\\xe7M\\xdf\\xbau\\xeb\\x00\\x00\\xd7\\\\s\\r\\xb6l\\xd9\\xa2\\xaf\"\\xf4\\xdak\\xaf\\xd5\\xc5\\xfc\\x14\\xaao\\x8dPQ^SL\\xb5\\xf8h4\\x8a\\x81\\x81\\x81j\\x87DD\\x16\\x90D-\\x97F!\\xa2\\x9c\\xb4o\\xdb\\'\\'\\'-\\x8e\\xa4\\xfa\\xb4o)\\xf9\\xeb\\xc7\\x1a\\x92$abb\\x02;w\\xeel\\xc8\\xfeW\\x8aF\\xf9\\xff$\\x1c\\x0e\\x9bJ\\x94UU\\x85\\xdb\\xed\\xd6Wk\\xab\\xf7\\xebJ\\xb7\\x92~?\\x13\\x95h\\x92O*\\x88\\x88h\\xc5bE\\xf9\\xf2\\x14S-\\xfe\\xb1\\xc7\\x1e+X;\\x86\\x88\\x1aX\\xad\\xca\\xec\\x11Q~+\\xa5bk\"\\x91\\xd0+K[YUz%\\x03+j\\x0b!XQ>=\\x96|\\xaf|\\xccV\\x8b\\x9f\\x9a\\x9a\\xd2\\xaf\\xd7L\\xbf\\xf5f\\xa5\\xfc~&*\\x03+j\\x13Qm\\xe5\\x9bcATK\\xac(_~Ey3\\xd5\\xe2\\x93\\xc9$\\x9e\\x7f\\xfeyS5\\\\\\x88\\xa8q1\\xa9 \\xa2\\x9a*\\xe6\\x86\\x85\\xa8\\x9aXQ\\xbe2\\nU\\x8b\\x7f\\xfc\\xf1\\xc7\\xb1w\\xef\\xde\\xaa\\xc7AD\\xd6bRADD+\\x12+\\xcaW\\xae\\xa2\\xbc&\\xb3Z|8\\x1c\\xc6\\xd6\\xad[\\x8b\\xbcR\"jD\\xac\\xa8MDD+\\x12+\\xcaW\\xfe)Ff\\xb5\\xf8|\\xc5\\xfb$I\\xe2\\xd3J\\xa2&\\xc2\\'\\x15D\\xd4P\\xd5{\\xcb\\xf9\\x16\\xb5\\x91\\xad\\xd4\\xeb\\xae&V\\x94\\xaf\\xbc\\xccj\\xf1\\xf9\\xe6h0\\xa1 j.L*\\x88\\xa8\\xa1\\xaa\\xf7j2oP\\x92\\xc9$\\\\.\\x97~\\xd3\\xadU\\xeb\\xce\\xa4-\\xe7\\xa9-\\xc9\\x99\\xab\\x9d\\x19Z_v\\xbb\\xbd\\xec\\xf7\\xaeP_\\x9c\\x83R\\x1d\\xac(_:V\\x8b\\'\"\\x83j\\xaf/ED\\xe6X\\xbdd!\\x1ad\\x99\\xc7lq&\\x12\\t}\\xb9J!\\x84\\x08\\x04\\x02\\x02\\x80p\\xbb\\xdd\\x86vn\\xb7\\xdb\\xb0\\x04g$\\x12\\xc9\\xda\\xce\\x8c@  dY\\x16\\xa9TJ_\\x12\\xd4\\xe7\\xf3\\x95pE\\xc5\\xf5U\\x89\\xcf\\t\\\\RV\\x08!\\xf4\\xe5b\\xb5\\xbf\\x17\\x99\\x7f\\x0f\\xb4\\xbf\\x1f\\x8a\\xa2\\x88D\"!\\x14E\\x11\\x0e\\x87C_&6\\xfd\\xa5\\xf5W\\xcc\\xb6H$\\xa2/M\\xeb\\xf3\\xf9D*\\x952\\xc4\\x96y\\x9c\\x10KK\\xd4jK\\xc5j\\xb1\\x98\\xbd\\x9eJK_NVQ\\x14\\xfd\\xff\\xabB\\x1a\\xe5wM:\\xab\\x7f?\\x135\\x80\\x93\\xac\\xa8MT\\'\\xac\\xae\\xd8\\xda(\\xd5{\\xb3\\xc5977\\xb7l\\xb9\\xcal\\xedrm\\x93e\\xd9\\xb0Dh!\\xf1x\\x1c\\xb7\\xdcr\\x0bfgg\\xf5\\xf3F\\xa3Q\\xac_\\xbf\\x1e\\x91HD_\\xc9\\xa7\\x1a}U\\xe2sbEmk5\\xca\\xffk\\xf4\\x1e\\xab\\x7f?\\x135\\x00V\\xd4&jdsss9\\xc7\\xdak\\x95u%IB<\\x1e\\xcf[\\x1d8S\\xb6\\xfer\\x8d\\xe7/T\\xe1\\xb7\\x162\\x13\\nm8\\x8a\\xa2(\\x86\\xed\\xdaP\\x10\\xad\\xf2\\xaf6Ldxx\\xb8\\xa8\\xf3\\x9d={\\x16\\x00p\\xd3M7\\xe9\\xdbn\\xbc\\xf1F\\x00\\xc0\\xb9s\\xe7,\\xeb\\x8b\\x88\\x88\\xc8*L*\\x88\\x1aXww7\\xa6\\xa6\\xa6\\x00,\\xdd@\\xa7\\x7f\\xf3y\\xe8\\xd0!(\\x8a\\x82H$\\x82\\xf6\\xf6v\\x1c>|\\x18\\x03\\x03\\x03H$\\x12\\x88\\xc5b\\x18\\x19\\x19\\xc1\\xd0\\xd0P\\xd6~\\x13\\x89\\xc4\\xb2m\\xb1Xl\\xd9\\xb6d2\\x89={\\xf6`\\xed\\xda\\xb5\\x10B\\xe0\\xc0\\x81\\x03\\xd8\\xb2e\\x0b\\xa2\\xd1h\\xd6~\\xab\\xb1\\x84e\\xa6x<\\xae\\'\\x0f\\xbbw\\xef6\\xec\\xd3\\xde\\x93\\x8d\\x1b7bnn\\x0eg\\xcf\\x9eE\"\\x91(\\xea\\xc9\\x02\\x00\\xcc\\xcc\\xcc\\x000N\\xe0mmm\\x05\\x90\\xbfxY\\xb5\\xfb\\xa2\\xfa\\x97o\\x8e\\x05\\x11Q#cRA\\xd4\\xe0zzz\\xa0(\\nFFF\\xf4o\\xe8\\x81\\xf7\\xbe\\xad\\xd7n\\x98\\xf3U\\x07\\xce\\xa4\\xdd\\xd4\\xa6\\xcb\\xb6\\x02N\\xa1\\n\\xbf\\x99D\\x05*\\xf8\\xe6\\xa3\\r%\\xd2\\x8a\\x81e\\xbb)\\x1f\\x1e\\x1e\\x86\\xc3\\xe1\\xc0\\xc6\\x8d\\x1b\\xf1\\xdcs\\xcf\\xe1\\xfd\\xef\\x7f\\x7f\\xd1\\xe7\\xc9\\xf5\\xbe\\xe5:g\\xad\\xfa\\xa2\\xfa\\xc7\\x8a\\xf2D\\xd4\\xac\\x98T\\x105\\x81\\xde\\xde^\\x00\\xc0\\xe9\\xd3\\xa7\\xf5m\\xe7\\xcf\\x9f\\xd7\\xb7\\x03\\xd5\\xa9\\x0e\\\\\\xa8\\xc2o\\xad\\xb5\\xb7\\xb7C\\x08\\x81H$\\x02EQ088\\x08\\xbf\\xdfoh\\xe3\\xf1x\\xb0y\\xf3f\\xa4R)\\x00KO3\\xd2\\x931\\xa2j\\xaaT\\x02MDTo\\x98T\\x105\\x81\\xae\\xae.\\xc8\\xb2\\xac\\xdf\\xe4\\x03\\xc0\\x8f\\x7f\\xfc\\xe3e\\xc3z*]\\x1d\\xb8P\\x85\\xdfL\\xb5\\x18\\xfe\\x04,\\xbd\\x1f\\xda\\xd0\\xa7\\x81\\x81\\x01}{0\\x18\\xc4\\xe0\\xe0 \\xb6m\\xdb\\x86\\x96\\x96\\x16\\xec\\xde\\xbd\\x1b\\xe1p\\x18\\'O\\x9e,\\xaa\\xff|\\xef\\x9f\\x99\\xe2e\\xd5\\xea\\x8b\\x88\\x88\\xc8*L*\\x88\\x9a\\xc4\\xae]\\xbb\\x10\\x0e\\x87177\\x87x<\\x8e\\r\\x1b6\\x18\\xf6k\\xd5\\x81\\x1f~\\xf8\\xe1\\xac\\xd5x\\xcb\\x91\\xbe\\x86\\x7f>\\xd5\\x1e\\xfe\\x94.\\xdb5j\\xc5\\xccZZZ\\x00\\xbc7\\xfc$=\\xf10#[-\\x01m\\xd2\\xf7\\x1dw\\xdcaY_DDDVaRA\\xd4$\\xb4\\xf9\\x0c\\'N\\x9c\\xc0\\xd9\\xb3g\\xb1i\\xd3&\\xc3\\xfejT\\x07.T\\xe1\\xd7JZ<\\x81@@\\xdf\\x96\\xf9T@K.\\x8a}r\\xb3u\\xebV\\x00\\xc0\\x0b/\\xbc\\xa0o{\\xe9\\xa5\\x97\\x0c\\xfb\\xac\\xe8\\x8b\\xcca\\x05\\xf9\\xe6\\xc0\\xf7\\x86\\xa8\\xbe0\\xa9 j\\x12\\xad\\xad\\xadP\\x14\\x05^\\xaf\\x17\\x8b\\x8b\\x8b\\xfa\\r\\xb3\\xc6lu`\\xed\\xcf\\xda\\xd0\\x1b\\xad\\xad\\xb6\\x0c+\\x008\\x9dN\\x00\\xe6*\\xfc\\xd6\\x82\\xddn\\x87\\xc7\\xe3\\xd1\\xbf\\xe1WU\\x15n\\xb7\\x1b\\x8a\\xa2\\xe8\\x93\\xc8\\x01\\xe0\\xc0\\x81\\x03\\x00\\xde\\xabd\\xac]\\x93\\xb6\\x1dxo)\\xde\\\\+X\\x01K\\x89\\x99\\xcf\\xe7\\xc3\\x89\\x13\\'\\xa0\\xaa*TU\\xc5\\x89\\x13\\'\\xe0\\xf3\\xf9\\x0cI[%\\xfb\\xa2\\xcai\\x86\\n\\xf2@e+\\xba\\xa7\\xd3\\x96\\x9eNg\\xb6b\\xbd\\x19f\\xfaJ&\\x93\\x86%\\xb0\\xb3\\xb5\\xe1\\xbc\\x14\\xa2:S\\x9d\\xa2zDT\\xacJTl\\xd5*\\x00\\xcf\\xcf\\xcf\\xe7\\xdcg\\xb6:p,\\x16\\xd3\\xab\\xfd\\x86B!!\\x84\\x10\\xb2,\\x8b@  \\x12\\x89\\x84\\xdeo\\xbe\\n\\xbf\\xd5\\x80,\\xd5x\\xd3+\\xfb\\xe2\\xb7\\x95\\x84\\xd3+l\\xa7\\x9b\\x9a\\x9a\\x12\\x0e\\x87C\\x8fwjj\\xca\\xb0_{_dY.\\x18\\x8bv^Y\\x96\\x97\\xf5S\\xe9\\xbe4\\xd9\\xae\\xbfX`E\\xed\\x86\\xa9\\xea\\x9c+\\xceJVtO\\xa7\\xfd\\x9eH?\\xa7\\xd9\\x8a\\xf5f\\x98\\xe9+\\x95J\\tY\\x96\\xf5\\xebI$\\x12B\\x96e\\xa1(J\\xd6>k\\xf1Y\\xb2\\xa26QA\\xac\\xa8MT/X\\xb1\\xd5\\x9cZU#\\xb6\\xdb\\xedEU\\xd9\\xaeU_\\xac\\xa8]\\x19\\x8dR\\xd5:[\\x9c\\x95\\xac\\xe8\\x9eN{\\xc2\\xa7\\xad\\xde\\xa6\\x9d\\xd3l\\xc5z3\\xcc\\xf4\\x15\\x0c\\x06\\xd1\\xdf\\xdf\\x8fT*\\xa5?q\\xd5\\xaeojjJ\\x1f\\xeaYn,\\xc5\\xe0\\xefg\\xa2\\x82XQ\\x9b\\x88(\\xd3\\xdc\\xdc\\x1c\\x8e\\x1c9Rw}\\xadt\\xac \\xbf\\xa4ZU\\xd8\\x1f{\\xec1\\xec\\xdf\\xbf\\x7f\\xd9v\\xb3\\x15\\xeb\\xcd0\\xd3\\x97\\xb6\\x8a]\\xfa\\x10\\xce[o\\xbd\\x15\\x00o\\xea\\x89\\xea\\x19\\x93\\n\"\\xa24\\xd3\\xd3\\xd3\\xb8\\xee\\xba\\xeb\\x96\\xdd\\xfcX\\xdd\\x17\\xb1\\x82\\xbc\\xa6\\x1aU\\xd8\\xa7\\xa7\\xa7\\xf1\\xc9O~2k\\xe1\\xcbt\\xf9*\\xd6\\x17+W_\\xd9\\xaeAK0\\xf2\\x15\\x8b$\"k1\\xa9 \\xa2\\x86T\\xad\\x15_zzz*\\xb6\\xe4n%\\xfb\\xe2\\n7KXA\\xbe\\xf2U\\xd8\\x93\\xc9$\\x9e\\x7f\\xfe\\xf9\\x82\\xc9\\xaf\\x99\\x8a\\xf5f\\xe5\\xeb+s\\x91\\x08\"j\\x0cL*\\x88\\xa8\\xa1\\x94{C\\xd6\\xa8V\\xeaug\\xc3\\n\\xf2\\x95\\xf5\\xf8\\xe3\\x8fc\\xef\\xde\\xbd\\x05\\xdb\\x99\\xa9XoV\\xbe\\xbe\\xee\\xbd\\xf7^\\x00\\xc0C\\x0f=\\xa4\\'\\x8b\\xda\\xd3 \\xed\\xc9\\x06\\x11\\xd5\\x1f&\\x15DD\\xd4PVz\\x05\\xf9JVa\\x0f\\x87\\xc3E\\xd7C\\xc9U\\xb1\\xbe\\x14\\xd9\\xfa\\xd2\\x86\\xb9-..\\xc2f\\xb3\\xc1\\xef\\xf7\\xe3\\x95W^\\x01\\x00\\xdcu\\xd7]e\\x9d\\x8f\\x88\\xaag\\x95\\xd5\\x01\\x10\\x11\\x11\\x15k\\xd7\\xae]\\xe8\\xef\\xef\\xc7\\xdc\\xdc\\x1cn\\xba\\xe9\\xa6\\x9c\\x15\\xe4c\\xb1X\\xc5\\xeb},,,\\x98\\x1a\\xd6V\\xad\\'J\\xb2,#\\x1c\\x0e#\\x99L\\xeaC\\xb7J\\xad\\xc2\\x9e\\xaf\\x00\\xa0$I9\\xaf\\xa1R\\xc3\\xfar\\xf5\\xd5\\xd3\\xd3cX\\xe5\\xc9\\xe3\\xf1@Q\\x94\\x92W\\xb6\"\\xa2\\xea\\xe3\\x93\\n\\xa2&\\xd6H\\x95\\x83\\xf3q\\xb9\\\\p\\xb9\\\\\\x15kG\\x8do%W\\x90\\xafd\\x15\\xf6|O]\\xf2%E\\xd9*\\xd6\\x97\\xaaP_\\xc1`\\x10333\\x18\\x1c\\x1c,\\xfb\\xc3\\xe9\\xdfV\\x00\\x00 \\x00IDAT\\\\DT=L*\\x88\\x9aX#V\\x0ent\\xaa\\xaarBu\\r\\xac\\xe4\\n\\xf2\\x95\\xac\\xe8n\\x86\\xd9\\x8a\\xf5f\\xceg\\xb6/UU\\x11\\x8dF\\xe1t:\\xb1\\xb8\\xb8\\x88P(\\xb4\\xec3&\\xa2:S\\x95\\x9azDT\\xb4jUlE\\x83T\\x0en\\x16Ze\\xecz\\x86&\\xa9\\xa8\\xbdR+\\xc8k*Y\\xd1=\\xdf9\\xcdV\\xac7s>3}i\\xfb|>\\x9f\\x88D\"E\\xc7[\\r\\xac\\xa8MT\\x10+j\\x13\\xd5\\x8bjUlm\\x94\\xca\\xc1\\xcd@UU\\xec\\xde\\xbd\\x1b\\xe1p\\xb8\\xae\\xdfoV\\xd4n\\x1c\\x95\\xf8\\xff\\xb7\\x92\\x15\\xdd\\xeb\\xf1|\\xac\\xa8MT\\x17XQ\\x9b\\xa8\\xd1\\xa9\\xaa\\x8a`0\\xa8\\xaf$Sh\\x89G3\\x95\\x86\\xb5a\\x0c~\\xbf\\x1f\\xc9dr\\xd9p\\x9eB\\xfb+)s^H2\\x99D8\\x1c\\x86\\xddn\\x87\\xaa\\xaap:\\x9d\\xfa5d\\x9b?RJ\\xac\\x85\\x8e\\xc9UU\\xd9\\xedv\\xebC\\xcd2W\\xf6\\xc9\\xf69e\\xab\\xf0\\x9c\\xef\\xdc\\xc5T\\x89&\\x02j_\\xd1\\x9d\\x15\\xe4\\x89V0+\\x9f\\x93\\x10\\xd1{J}\\xbc.\\xcb\\xb2P\\x14E\\xff\\xd9\\xe1p\\x18~F\\xc6\\xd0\\x00\\x87\\xc3!\\x00\\x88D\"\\xa1\\x0f\\x05q8\\x1c\\xfa~\\xb7\\xdb\\xad\\x0f\\xe9H\\xa5R\\xfaP\\x0f\\xb3\\xfb3!c\\xa8I\\xaeW\\xbe\\xebKo\\x93\\xfe\\xf3\\xec\\xec\\xac\\x88D\"\\xfa\\x90\\x8b\\xcc\\xbe\\x8a\\x8d\\xd5\\xcc1\\x89DB\\x1f\\x16#\\x84\\x10SSS\\x02\\x80>L#\\xd7\\xf5\\xc8\\xb2,|>\\x9f\\xa1\\x0fY\\x96E*\\x952}\\xeeB\\x9f\\x9dYh\\x92\\xe1O+A\\xa1\\xff?\\xf2\\x99\\x9a\\x9a\\xca:4\\xacZj}>M9\\xef\\x91Y\\x1c\\xfeDT\\xd0I&\\x15Du\\xa2\\x94\\x7f\\xb4\\x02\\x81\\x80~\\x93\\xa9\\x99\\x9d\\x9d5\\x8ci\\xce\\xfc\\x07W\\x1b\\xf7\\x9ck\\x7ff\\x7f\\x89D\\xa2\\xa8\\xfd\\xd5\\x90-F\\x00\\x86\\x1b\\xf2\\\\\\xed\\x8a\\x8d\\xb5\\xd01\\xda{\\x9ey\\x8c\\x96\\xc8e\\xbb\\xc1\\xd1\\x12\\x8f\\xcc\\xcf\\t\\x80\\x9e\\x9c\\x989w\\xa1\\xcf\\xce,&\\x15\\x8d\\xc3l\\xf2\\xbd\\x12\\xd5\\xf2\\xbdaRAT\\xd0I\\x0e\\x7f\"j`Z\\xf1/m\\xadz`\\xa9pT\\xbe\\xf1\\xcc\\x85*\\r;\\x1c\\x0e\\xb4\\xb5\\xb5!\\x18\\x0cBUU\\xb4\\xb6\\xb6\\x1a\\xc6*\\x17\\xda_K\\x85V\\x83)%\\xd6B\\xc7\\x94RUY\\x1b\\x87\\x9d\\xfe9uvv\\x1a\\xfa3s\\xeejT\\x89\\xa6\\xfa&XI=\\'\\xbe7D\\xf5\\x85I\\x05Q\\x03+u\\xa9\\xd8|\\x95\\x86\\x0f\\x1e<\\x08Y\\x96\\xd1\\xdf\\xdf\\x0f\\x9b\\xcd\\xb6\\xec\\xe6\\xb5\\xd0\\xfeL\\xd5\\xaa*lF\\xb1\\xb1\\x9a9\\xa6\\xd8\\xaa\\xca\\x00\\xe0\\xf5z\\x97m\\xd3\\x12\\xa2\\xf4\\xcf\\xd0L\\xbc\\x95\\xae\\x12MDDT\\x11\\xb5~6BD\\xd9\\x95\\xf2x]\\x9bG\\x90o\\xd9Ed\\x0c\\r\\xd0\\x86\\xefhc\\xf73\\xf7k\\xb4\\xb9\\n\\xf8\\xed\\xb2\\x8f\\xc5\\xee\\xaf\\xa4\\xcc\\x18s\\xc5\\\\\\xea\\xb5d\\x93\\xeb\\x18\\xed\\x1c\\xb9\\xc6\\x8eg\\x8bA\\xfb\\x9c\\xd2\\x876im\\xb3\\xcd\\x89\\xc8un\\xb3\\x9f]!\\xe0\\xf0\\'\\xa2\\xa2p\\xf8\\x13QA\\x9cSAT/J\\xf9G\\xcb\\xe7\\xf3\\xe97\\xa6\\xda\\xfc\\x82X,Vp\\xceD\\xa1\\x9f\\xd3\\xe7*h\\xeb\\xfd\\x9b\\xdd_\\r\\xa5&\\x15\\xa5\\xc4Z\\xe8\\x18\\xed=W\\x14Eo\\x97H$\\xf4\\x9b\\xffl\\xb1i\\xc9@\\xfaz\\xfc\\xa9TJ\\x000\\xd4\\x170\\xf3\\xde\\x9by\\x1f\\ni\\xb4\\xa4\"\\x91H\\x88@ Pt\\xbd\\x85z\\xa3(\\x8aa\\x11\\x85r\\xdb\\xd5\\xabj\\xc5o\\xe5\\xdf\\x03&\\x15D\\x05qN\\x05Q#\\xdb\\xbe};dY\\x86\\xd7\\xeb\\xd5+\\xfc\\x1e=z\\x14\\x07\\x0f\\x1e\\x04\\x80\\xac\\x95\\x83\\xf3U\\x1a\\xd6\\xb8\\xddn\\xbd\\xe2\\xed\\x9a5k\\xe0v\\xbb\\r\\xe7-\\xb4\\xbf\\x922\\xaf!\\xd7\\x12\\xaa\\xd9\\xae\\x15(-\\xd6|\\xc7\\x14\\xaa\\xaa\\xac\\xbd\\xbf\\xda\\xb2\\xb3\\x00\\xb0m\\xdb6\\xc8\\xb2\\x8c\\xaf}\\xedkzl\\xa7O\\x9f\\x86\\xc3\\xe1@OO\\x8f\\xe9s\\x9b\\xf9\\xec\\x9a\\x11+\\xc3\\x13\\xc0\\xbf\\x07Du\\xcf\\xea\\xb4\\x86\\x88\\x96\\x94\\xfaM\\x98V-\\x18\\xbf\\xfd\\xf6<}X\\x0e\\xb2\\xac\\x8e\\x92\\xaf\\xd2\\xb0v\\x8c\\xf6\\xcd;\\xb2\\x0c\\x17*\\xb4\\xbf\\xd22\\xaf!\\xfd\\x95m\\x95\\xab\\xf4k-%V3\\xc7\\xe4\\xab\\xaa\\x9c\\xf9\\xfej\\x12\\x89\\x84\\xfe\\x94\\x03\\xbf]\\xf5)\\xdb\\xeaU\\xf9\\xce]\\xe8\\xb33\\x0b\\r\\xf6\\xa4B\\xeb\\x93\\xffd\\x91U\\x7f\\x0f\\xf8\\xa4\\x82\\xa8 V\\xd4&\\xaa\\x17\\xac\\xd8J\\xb5\\xd2\\x88\\x15\\xb5Y\\x19\\x9e\\x00\\xeb\\xfe\\x1e\\xf0\\xf73QA\\xac\\xa8MDD\\xd6ce\\xf8\\xcaT\\x86\\x9f\\x9b\\x9b\\xcb\\xb9\\xb2\\x9a\\xd6\\x87$I\\xfa\\x10\\xbb\\\\\\xd5\\xe1s\\xc5W(\\x9e\\\\\\xf1\\x9b\\xf9|\\xcdV\\x9d/\\xf6\\xb8B\\xd7BD\\x15b\\xed\\x93\\x12\"\\xd2\\xf0\\xf1:\\xd5\\n\\xeap\\xf8\\x13+\\xc3W\\xae2\\xbcVl1\\xdbdiEQ\\xf4\\xd5\\xe2\\xf2U\\x87\\xcf\\x15_\\xa1x\\xb2\\xc5\\xafm\\xcf\\xf7\\xf9jm\\nU\\x9d\\xcf\\xd5w\\xbe\\xe3\\xf2]\\x8bY\\xfc\\xfdLT\\x10W\\x7f\"\\xaa\\x17\\xfcG\\x8bj\\xa5\\xde\\x92\\nV\\x86\\xaf|ex\\xedF?\\xbdo-\\x01\\xd0\\x98\\xad\\x0e\\x9fk\\xeeO\\xaex2\\xe37\\xf3\\xf9\\x16Su>\\xbd\\xefb\\x8f\\xcb\\xbc\\x16\\xb3\\xf8\\xfb\\x99\\xa8 \\xae\\xfeDDD\\xd6be\\xf8\\xcaW\\x86\\xef\\xed\\xed\\x05\\xb0\\xb4\\xca\\x98\\xe6\\xfc\\xf9\\xf3\\xfav\\xc0|u\\xf8\\xcc\\xf8\\x8a\\x8d\\xc7\\xcc\\xe7k\\xb6\\xea|\\xa6b\\x8f+\\xf4^\\x13Q\\xe9\\x98T\\x10\\x11\\x91\\xa5X\\x19>\\xbfR*\\xc3wuuA\\x96e\\xc3\\x8d\\xf5\\x8f\\x7f\\xfcctuu\\xe9?\\x97R\\x1d\\xbe\\x94x\\xcc|\\xbef\\xab\\xceW\\xea8\"\\xaa<&\\x15DDd)-)\\x88F\\xa3\\xa6\\x8f\\t\\x06\\x83\\x18\\x18\\x18\\xc0\\xc3\\x0f?\\x8c\\x8e\\x8e\\x8ee\\xfb;::\\x10\\n\\x85\\x10\\x89D\\xe0p8088h\\xb8\\xf9-\\xb4?S\\xb6\\x1b\\xefbo\\xc6KUl\\xac\\x9a]\\xbbv!\\x1c\\x0ecnn\\x0e\\xf1x\\x1c\\x1b6l\\xc8\\xda.\\xbd\\xe6I5\\xe21\\xf3\\xf9\\xa6\\xd7w\\xc9\\xe4p8*~\\x1c\\x11U\\x1e\\x93\\n\"\"\\xb2\\x94vc\\xe8\\xf5z\\xa1\\xaa*\\x80\\xa5\\x02\\x7fN\\xa73\\xe71\\xfd\\xfd\\xfd\\x00\\x80\\xf6\\xf6\\xf6\\xac\\xfb%I\\x82\\xaa\\xaa\\xe8\\xea\\xea\\xc2\\xe8\\xe8(\"\\x91\\x08\\x06\\x07\\x07M\\xef\\xaf\\'\\xa5\\xc6\\xaa\\x15V<q\\xe2\\x04\\xce\\x9e=\\x8bM\\x9b6\\x19\\xf6\\xfb|>\\x00\\xc0\\xd8\\xd8\\x98\\xfe\\xbe\\xa7\\x17m\\xacT<f>\\xdf]\\xbbv\\x01\\x00^x\\xe1\\x05}\\x9b\\xd6V[\\xce5\\x9bR\\x8f#\\xa2\\xcacRADD\\x96be\\xf8\\xdc\\xed4\\xa5\\xc4\\xda\\xda\\xda\\nEQ\\xe0\\xf5z\\xb1\\xb8\\xb8\\xb8l>A\\xbe\\xea\\xf0\\x85\\x96r\\xcd\\x15O\\xb6\\xf8\\x0b}\\xbe\\x80\\xb9\\xaa\\xf3\\xd9\\xfa.\\xf68\"\\xaa\\xa2\\x1a\\xcf\\x0c\\'\\xa2\\x1c\\xb8\\xba\\x08\\xd5\\n\\xeal\\xf5\\'!X\\x19>\\xdf\\xb5\\x96\\x13\\xab\\xf6>\\xa5\\xbf\\x9f\\xe9rU\\x87\\xcf\\x15_\\xa1x\\xb2\\xc5/D\\xfe\\xcf7\\xbdM\\xbe\\xaa\\xf3\\xf9\\xfa6{\\\\\\xe6\\xb5\\x98\\xc5\\xdf\\xcfD\\x05\\xb1\\xa26Q\\xbd\\xd8\\xb1c\\x07N\\x9d:eu\\x18\\xb4B4ZEm\"+\\xb1\\xa26QA\\x93\\xab\\xac\\x8e\\x80\\x88\\x96<\\xf0\\xc0\\x03\\x1c\\x03L5\\xf3\\'\\x7f\\xf2\\'V\\x87@DDM\\x84I\\x05Q\\x9d\\xd8\\xb8q#6n\\xdchu\\x18DDDDE\\xe3Dm\"\"\"\"\"*\\x0b\\x93\\n\"\"\"\"\"*\\x0b\\x93\\n\"\"\"\"\"*\\x0b\\x93\\n\"\"\"\"\"*\\x0b\\x93\\n\"\"\"\"\"*\\x0b\\x93\\n\"\"\"\"\"*\\x0b\\x93\\n\"\"\"\"\"*\\x0b+j\\x13\\x11QEI\\x92du\\x08D\\x15\\xd7\\xdb\\xdb\\xcb\\x8a\\xdaD\\xb9\\xb1\\xa26\\x11\\x11U\\xd6\\xc4\\xc4\\x84\\xd5!T\\xcdw\\xbe\\xf3\\x1d\\x9c?\\x7f\\x1e\\xc7\\x8e\\x1d\\xc3\\xea\\xd5\\xab\\xad\\x0e\\xa7nD\"\\x11\\x1c=z\\x14G\\x8e\\x1cAWW\\x97\\xd5\\xe1T\\xc5G>\\xf2\\x11\\xabC \\xaak|RADDd\\xc2\\xcc\\xcc\\x0c>\\xf5\\xa9O!\\x18\\x0cb\\xe7\\xce\\x9dV\\x87Swv\\xec\\xd8\\x81g\\x9ey\\x06\\xcf>\\xfb,>\\xf8\\xc1\\x0fZ\\x1d\\x0e\\x11\\xd5\\xd6$\\x93\\n\"\"\\xa2\\x02\\xdez\\xeb-\\xac_\\xbf\\x1e\\xbf\\xf7{\\xbf\\x87\\x7f\\xfd\\xd7\\x7f\\xb5:\\x9c\\xba\\xf4\\xab_\\xfd\\n\\x7f\\xf8\\x87\\x7f\\x88\\xcf~\\xf6\\xb3\\xf0x<V\\x87CD\\xb55\\xc9\\x89\\xdaDDD\\x05\\x0c\\r\\r\\xe1\\xa5\\x97^\\x82\\xd7\\xeb\\xb5:\\x94\\xbau\\xc3\\r7\\xe0\\x1b\\xdf\\xf8\\x06\\xbe\\xf5\\xadoavv\\xd6\\xeap\\x88\\xa8\\xc6\\xf8\\xa4\\x82\\x88\\x88(\\x8f\\x9f\\xff\\xfc\\xe7\\xf8\\xe3?\\xfec|\\xfb\\xdb\\xdf\\x86\\xd3\\xe9\\xb4:\\x9c\\xba&\\x84\\xc0\\xa7?\\xfdi$\\x12\\t\\x9c?\\x7f\\x1eW]u\\x95\\xd5!\\x11Qmp\\xf8\\x13\\x11\\x11Q.\\xef\\xbe\\xfb.\\xee\\xbc\\xf3N\\\\u\\xd5U\\xf8\\xe9O\\x7f\\x8a+\\xae\\xe0\\x03\\xfeB\\xfe\\xeb\\xbf\\xfe\\x0b\\x1f\\xfd\\xe8G\\xf1\\xc5/~\\x11_\\xfa\\xd2\\x97\\xac\\x0e\\x87\\x88j\\x83\\xc3\\x9f\\x88\\x88\\x88r\\xf9\\xe67\\xbf\\x89g\\x9f}\\x16\\xff\\xfc\\xcf\\xff\\xcc\\x84\\xc2\\xa4\\xdf\\xfd\\xdd\\xdf\\x85\\xcb\\xe5\\xc2\\xf0\\xf00.\\\\\\xb8`u8DT#|RADD\\x94\\xc5\\x8b/\\xbe\\x88\\xdbo\\xbf\\x1d\\x0f>\\xf8 \\\\.\\x97\\xd5\\xe14\\x94w\\xdey\\x07\\xdd\\xdd\\xdd\\xb8\\xe6\\x9ak\\xf0\\xd4SO\\xb1v\\tQ\\xf3\\xe3\\xf0\\'\"\"\\xa2l>\\xfd\\xe9O\\xe3\\xe5\\x97_\\xc6\\xf9\\xf3\\xe7\\xf1\\xbe\\xf7\\xbd\\xcf\\xeap\\x1aN4\\x1a\\xc5\\'>\\xf1\\t\\x1c?~\\x1c\\xf7\\xddw\\x9f\\xd5\\xe1\\x10Quq\\xf8\\x13\\x11\\x11Q\\xa6\\x7f\\xf9\\x97\\x7f\\xc1\\xd4\\xd4\\x14\\xbe\\xf3\\x9d\\xef0\\xa1(QWW\\x17\\x0e\\x1c8\\x80/|\\xe1\\x0b\\xb8x\\xf1\\xa2\\xd5\\xe1\\x10Q\\x95\\xf1I\\x05\\x11\\x11Q\\x9aK\\x97.\\xa1\\xb3\\xb3\\x13\\x7f\\xf5W\\x7f\\x85o}\\xeb[V\\x87\\xd3\\xd0\\xdex\\xe3\\r|\\xecc\\x1f\\xc3m\\xb7\\xdd\\x86p8lu8DT=|RADD\\x94\\xee\\xfe\\xfb\\xef\\xc7\\x07>\\xf0\\x01\\x0c\\x0f\\x0f\\xff?{\\xf7\\x1f\\xe5VY\\xe7\\x0f\\xfc}\\xa5\\x85\\x02\\xca\\x04\\x17f\\xf8\\xf5\\x9d\\xbaGl-\\x14gD\\xa9-\\xddm\\xd7\\x16\\xb6K\\xdd\\x1b\\xf40-\\x9d\\xae=*\\xb6c\\xc6m\\xb5\\xd0\\x91S0\\xe3\\xac\\xcc\\x08U2\\x16-8\\xd3\\xa4x\\x18\\xe7\\xd0d:]\\xd7&BW\\xed\\xa4\\x0c\\xb0\\x9da\\xa0\\x98\\x88]\\x9cQj\\x13)K\",\\tj\\x0b\\xd8\\xf6\\xf9\\xfe1{/\\xf9\\x9d\\x9b\\xe4&7?\\xde\\xafsr:s\\xf3\\xdc\\xe7~n\\x92\\xa7s\\x9f\\xdc\\xe7y>F\\x87R\\xf1\\xce=\\xf7\\\\8\\x1c\\x0e<\\xf6\\xd8c\\xf8\\xf7\\x7f\\xffw\\xa3\\xc3!\\xa2\"\\xe2\\x9d\\n\"\"\\xa2\\xff\\xf3\\xf8\\xe3\\x8f\\xe3S\\x9f\\xfa\\x14\\xdcn7dY6:\\x9c\\xaaq\\xdbm\\xb7a\\xff\\xfe\\xfd\\xf8\\xef\\xff\\xfeo\\\\x\\xe1\\x85F\\x87CD\\xfa\\xe3Dm\"\"\"\\x00x\\xf3\\xcd71\\x7f\\xfe|,]\\xba\\x14\\x83\\x83\\x83F\\x87SU\\xa2\\xd1(\\xae\\xba\\xea*\\xac\\\\\\xb9\\x12\\x0e\\x87\\xc3\\xe8p\\x88H\\x7f\\x1c\\xfeDDD\\x04\\x00w\\xddu\\x17N\\x9c8\\x81\\xde\\xde^\\xa3C\\xa9:uuu\\xd8\\xbe};\\x1e~\\xf8a\\x1c8p\\xc0\\xe8p\\x88\\xa8\\x08x\\xa7\\x82\\x88\\x88j\\xde\\xf8\\xf88\\x16/^\\x8c\\x81\\x81\\x01|\\xf6\\xb3\\x9f5:\\x9c\\xaa\\xf5\\x99\\xcf|\\x06G\\x8e\\x1c\\x81\\xdf\\xef\\xc7\\xb9\\xe7\\x9ekt8D\\xa4\\x1f\\x0e\\x7f\"\"\\xa2\\xda\\xf6\\xce;\\xef\\xe0\\xa3\\x1f\\xfd(\\x1a\\x1b\\x1b\\xb1\\x7f\\xff~\\xa3\\xc3\\xa9j\\xaf\\xbc\\xf2\\n\\xae\\xbe\\xfajX,\\x16\\xdcw\\xdf}F\\x87CD\\xfa\\xe1\\xf0\\'\"\"\\xaam\\xdf\\xfa\\xd6\\xb7p\\xec\\xd81<\\xf4\\xd0CF\\x87R\\xf5.\\xbb\\xec2|\\xeb[\\xdf\\x82\\xcdf\\xc3\\xf3\\xcf?ot8D\\xa4#\\xde\\xa9 \"\\xa2\\x9a\\xf5\\x9b\\xdf\\xfc\\x06\\xcd\\xcd\\xcd\\xd8\\xb6m\\x1b6o\\xdelt85\\xe1\\xcc\\x993X\\xbat)\\xfe\\xf4\\xa7?\\xe1\\xd9g\\x9f\\xc5\\xcc\\x993\\x8d\\x0e\\x89\\x88\\n\\xc7\\xe1ODDT\\x9b\\xce\\x9c9\\x83%K\\x96\\xe0\\x9dw\\xde\\xc1\\xd8\\xd8\\x18\\xce:\\xeb,\\xa3C\\xaa\\x19\\x93\\x93\\x93hnnFww7:::\\x8c\\x0e\\x87\\x88\\n\\xc7\\xe1ODDT\\x9b\\x1e|\\xf0A<\\xf3\\xcc3\\xd8\\xb9s\\';\\x14%6w\\xee\\\\\\xdcu\\xd7]\\xe8\\xea\\xea\\xc2K/\\xbddt8D\\xa4\\x03\\xde\\xa9 \"\\xa2\\x9a\\x13\\x0c\\x061\\x7f\\xfe|l\\xde\\xbc\\x19\\xf7\\xdcs\\x8f\\xd1\\xe1\\xd4\\xa4S\\xa7N\\xe1\\xba\\xeb\\xae\\xc3\\x85\\x17^\\x88\\x91\\x91\\x11H\\x92dtHD\\x94?\\x0e\\x7f\"\"\\xa2\\xdac6\\x9b199\\t\\xbf\\xdf\\x8fY\\xb3f\\x19\\x1dN\\xcd\\x9a\\x98\\x98\\xc0\\xf5\\xd7_\\x8f]\\xbbv\\xe1\\xf3\\x9f\\xff\\xbc\\xd1\\xe1\\x10Q\\xfe8\\xfc\\x89\\x88\\x88j\\xcb\\xa3\\x8f>\\x8a\\xc7\\x1e{\\x0c\\xbbv\\xedb\\x87\\xc2`\\x0b\\x16,\\xc0\\xc6\\x8d\\x1b\\xb1e\\xcb\\x16\\x84B!\\xa3\\xc3!\\xa2\\x02\\xf0N\\x05\\x11\\x11\\xd5\\x8c\\xd7_\\x7f\\x1dW]u\\x15n\\xb9\\xe5\\x16\\xfc\\xe0\\x07?0:\\x1c\\x02p\\xe2\\xc4\\t\\\\s\\xcd5\\xb8\\xee\\xba\\xeb\\xe0r\\xb9\\x8c\\x0e\\x87\\x88\\xf2\\xc3;\\x15DDT;n\\xbf\\xfdv\\x9cu\\xd6Y\\xb8\\xf7\\xde{\\x8d\\x0e\\x85\\xfe\\xcfy\\xe7\\x9d\\x87\\x87\\x1ez\\x08CCC\\xd8\\xb7o\\x9f\\xd1\\xe1\\x10Q\\x9ex\\xa7\\x82\\x88\\x88j\\x82\\xd7\\xeb\\xc5\\r7\\xdc\\x80\\x1f\\xff\\xf8\\xc7\\xf8\\xf4\\xa7?mt8\\x94\\xe0\\xb3\\x9f\\xfd,\\x0e\\x1e<\\x88#G\\x8e\\xc0d2\\x19\\x1d\\x0e\\x11\\xe5\\x86\\x13\\xb5\\x89\\x88\\xa8\\xfa)Cl>\\xf6\\xb1\\x8fa\\xcf\\x9e=F\\x87C)(C\\xd3V\\xadZ\\x85\\x07\\x1f|\\xd0\\xe8p\\x88(7\\x1c\\xfeDDD\\xd5\\xef\\xeb_\\xff:^\\x7f\\xfdul\\xdf\\xbe\\xdd\\xe8P(\\x8d\\xbf\\xf9\\x9b\\xbf\\x81\\xcdfC__\\x1f\\x9e~\\xfai\\xa3\\xc3!\\xa2\\x1c\\xf1N\\x05\\x11\\x11U\\xb5g\\x9f}\\x16\\x8b\\x16-\\x82\\xddn\\xc7m\\xb7\\xddft8\\x94\\x85,\\xcb\\xf8\\xedo\\x7f\\x0b\\x9f\\xcf\\xc7\\xd5\\xb9\\x88*\\x07\\x87?\\x11\\x11Q\\xf5:u\\xea\\x14\\x16,X\\x80\\xba\\xba:x\\xbd^&X\\xab\\x00\\x81@\\x00\\xf3\\xe7\\xcf\\xc7\\x96-[\\xf0o\\xff\\xf6oF\\x87CD\\xdap\\xf8\\x13\\x11\\x11U\\xafm\\xdb\\xb6\\xe17\\xbf\\xf9\\r\\x1c\\x0e\\x07;\\x14\\x15b\\xf6\\xec\\xd9\\xe8\\xee\\xee\\xc6}\\xf7\\xdd\\x87_\\xff\\xfa\\xd7F\\x87CD\\x1a\\xf1N\\x05\\x11\\x11U\\xb4\\xb7\\xdf~\\x1b\\xe7\\x9csN\\xd2\\xf6\\xa9\\xa9)455\\xe1\\x9b\\xdf\\xfc&\\xee\\xbc\\xf3N\\x03\"\\xa3|\\x9d9s\\x06\\x7f\\xff\\xf7\\x7f\\x8fS\\xa7N\\xe1\\xd0\\xa1C8\\xeb\\xac\\xb3\\x8c\\x0e\\x89\\x882\\xe3\\x9d\\n\"\"\\xaal{\\xf7\\xee\\xc5\\x8d7\\xde\\x88\\xdf\\xff\\xfe\\xf7\\xea6!\\x04\\xda\\xdb\\xdb1w\\xee\\\\\\xdc~\\xfb\\xed\\x06FG\\xf9x\\xcf{\\xde\\x83\\xfe\\xfe~\\xf8|><\\xf4\\xd0CF\\x87CD\\x1a\\xb0SADD\\x15\\xed\\xe9\\xa7\\x9f\\xc6\\x81\\x03\\x07p\\xd5UWa\\xfb\\xf6\\xed8}\\xfa4v\\xee\\xdc\\x89\\'\\x9f|\\x12\\x0f?\\xfc0f\\xce\\x9cit\\x88\\x94\\x87k\\xae\\xb9\\x06w\\xdey\\'\\xee\\xbe\\xfb\\xee\\xb8\\x0e#\\x11\\x95\\'\\x0e\\x7f\"\"\\xa2\\x8a\\xf6\\xa1\\x0f}\\x08\\xbf\\xfb\\xdd\\xef\\x00L\\x7f\\xc3=w\\xee\\\\\\xfc\\xe1\\x0f\\x7f@{{;\\xbe\\xf3\\x9d\\xef\\x18\\x1c\\x1d\\x15\\xe2\\xed\\xb7\\xdf\\xc6\\xb5\\xd7^\\x8b\\xd9\\xb3g\\xe3\\xf1\\xc7\\x1f7:\\x1c\"J\\x8f\\xc3\\x9f\\x88\\x88\\xa8r\\xfd\\xef\\xff\\xfe/^z\\xe9%\\xf5\\xf73g\\xce\\xe0\\xb7\\xbf\\xfd-N\\x9c8\\x81\\xd3\\xa7O\\xe3\\xad\\xb7\\xde20:*\\xd49\\xe7\\x9c\\x83]\\xbbv\\xe1g?\\xfb\\x19v\\xef\\xdemt8D\\x94\\x01;\\x15DDT\\xb1\\x9ez\\xea)$\\xdep?u\\xea\\x14\\xce\\x9c9\\x83\\xef}\\xef{\\x98;w.\\xbc^\\xafA\\xd1\\x91\\x1e\\x16-Z\\x84\\xb6\\xb66|\\xf5\\xab_\\xc5\\x1f\\xff\\xf8G\\xa3\\xc3!\\xa24\\xd8\\xa9 \"\\xa2\\x8a\\xf5\\xf4\\xd3O\\xe3\\xec\\xb3\\xcfN\\xf9\\xdc\\xe9\\xd3\\xa7q\\xfc\\xf8q\\xdcp\\xc3\\r\\xb0X,8q\\xe2D\\x89\\xa3#\\xbd|\\xfb\\xdb\\xdf\\xc6\\xacY\\xb3\\xd0\\xd1\\xd1at(D\\x94\\x06;\\x15DDT\\xb1\\xbc^/\\xdey\\xe7\\x9d\\xb4\\xcf\\x0b! I\\x12\\xae\\xbc\\xf2J\\x9c{\\xee\\xb9%\\x8c\\x8c\\xf4t\\xc1\\x05\\x17\\xa0\\xbf\\xbf\\x1f?\\xfa\\xd1\\x8f\\xf0\\xb3\\x9f\\xfd\\xcc\\xe8p\\x88(\\x05N\\xd4&\"\\xa2\\x8at\\xe2\\xc4\\t\\xd4\\xd5\\xd5\\xe1\\xd4\\xa9S)\\x9f\\x9f9s&\\xce?\\xff|\\x0c\\x0f\\x0f\\xe3\\x86\\x1bn(qtT\\x0c\\xabV\\xad\\xc2\\xb3\\xcf>\\x8b_\\xff\\xfa\\xd7x\\xef{\\xdfkt8D\\xf4.N\\xd4&\"\\xa2\\xca466\\x96\\xb6C1c\\xc6\\x0c\\xcc\\x9b7\\x0f>\\x9f\\x8f\\x1d\\x8a*\\xb2c\\xc7\\x0e\\xbc\\xf9\\xe6\\x9b\\xf8\\xc67\\xbeat(D\\x94\\x80\\x9d\\n\"\"\\xaaHO=\\xf5T\\xca\\xf9\\x14\\x92$\\xe1\\x0b_\\xf8\\x02\\x9e}\\xf6Y\\xcc\\x9e=\\xdb\\x80\\xc8\\xa8X.\\xb9\\xe4\\x12\\xdc\\x7f\\xff\\xfd\\xf8\\xde\\xf7\\xbe\\x87\\xb1\\xb1\\xb1\\xa4\\xe7\\xa3\\xd1(\"\\x91\\x88\\x01\\x91\\x11\\x11;\\x15DDT\\x91\\x9ex\\xe2\\t\\xfc\\xf5\\xaf\\x7fU\\x7f\\x9f1c\\x06f\\xce\\x9c\\t\\x87\\xc3\\x01\\xbb\\xdd\\x9ev\\x027U\\xb6\\xdbn\\xbb\\r\\xcb\\x96-\\xc3\\x97\\xbe\\xf4\\xa5\\xb8\\xf7\\xff\\'?\\xf9\\t>\\xfc\\xe1\\x0f\\xe3\\xb1\\xc7\\x1e30:\\xa2\\xda\\xc5N\\x05\\x11\\x11U\\x9cS\\xa7NabbB]Nv\\xe6\\xcc\\x99\\xb8\\xf8\\xe2\\x8b\\xf1_\\xff\\xf5_\\xf8\\xe2\\x17\\xbfhptTL\\x92$\\xc1n\\xb7\\xe3\\xe8\\xd1\\xa3\\xf8\\xcew\\xbe\\x83W_}\\x15\\xb7\\xdcr\\x0b>\\xf3\\x99\\xcf \\x14\\n\\xe1\\xe9\\xa7\\x9f6:D\\xa2\\x9a\\xc4\\x89\\xdaDDTq&&&\\xf0\\x89O|\\x02\\xc0t\\x16\\xed\\x1bo\\xbc\\x11N\\xa7\\x13\\x17^x\\xa1\\xc1\\x91Q\\xa9|\\xfb\\xdb\\xdfFgg\\'f\\xcd\\x9a\\x85\\xb7\\xdezK\\xbdk1g\\xce\\x1cLNN\\x1a\\x1c\\x1dQ\\xcd\\xe1Dm\"\"\\xaa<O=\\xf5\\x14\\x80\\xe9o\\xad\\xbf\\xf6\\xb5\\xaf\\xe1\\xf1\\xc7\\x1fg\\x87\\xa2\\x86\\x1c=z\\x14\\xfb\\xf7\\xef\\xc7\\xa9S\\xa7\\xf0\\xe7?\\xff9n\\x18\\xd4o\\x7f\\xfb[\\xbc\\xfe\\xfa\\xeb\\x06FGT\\x9bx\\xa7\\x82\\x88*\\x9e$IF\\x87@\\xa4\\xbb\\x96\\x96\\x16\\x0c\\x0f\\x0f\\x1b\\x1dFY9u\\xea\\x14\\x1ez\\xe8!l\\xdd\\xba\\x15\\xa7O\\x9f\\x8e\\xebL($I\\xc2\\xbe}\\xfb \\xcb\\xb2\\x01\\x11\\x12\\xd5\\xac\\xe1\\x19FG@D\\xa4\\x87\\xcd\\x9b7c\\xd1\\xa2EF\\x87A% \\x84\\xc0\\xbd\\xf7\\xde\\x8b\\xf5\\xeb\\xd7\\xa3\\xa1\\xa1\\xc1\\xe8p\\x8ab\\xfb\\xf6\\xedF\\x87Pv\\xa2\\xd1(>\\xf9\\xc9O\\xe2\\x97\\xbf\\xfce\\xc6r3g\\xce\\xc4SO=\\xc5N\\x05Q\\x89\\xb1SADUa\\xd1\\xa2EX\\xbdz\\xb5\\xd1aP\\t\\xbc\\xf3\\xce;0\\x9b\\xcdU\\x9d!\\x9bw(\\x92\\xd5\\xd5\\xd5\\xe1\\xdf\\xfe\\xed\\xdf\\xb0v\\xedZ\\xbc\\xf3\\xce;)\\xefR\\x00\\xd3\\x9f\\x8f\\x91\\x91\\x91\\x12GGD\\x9cSADD\\x15\\xe5\\xec\\xb3\\xcf\\xae\\xea\\x0e\\x05\\xa5g6\\x9b\\xe1\\xf3\\xf9p\\xe5\\x95Wb\\xc6\\x8c\\xf4\\xdf\\x8b\\xfa\\xfd~\\x9c8q\\xa2\\x84\\x91\\x11\\x11;\\x15DDDT1\\xae\\xbc\\xf2J<\\xff\\xfc\\xf3\\xf8\\x97\\x7f\\xf9\\x97\\xb4eN\\x9f>\\x8dg\\x9ey\\xa6\\x84Q\\x11\\x11;\\x15DDDTQf\\xcd\\x9a\\x85G\\x1ey\\x04;w\\xee\\xc4\\x8c\\x193p\\xd6Yg\\xc5=\\x7f\\xf6\\xd9g3_\\x05Q\\x89\\xb1SADDD\\x15\\xa9\\xad\\xad\\rO<\\xf1\\x04\\xde\\xff\\xfe\\xf7c\\xe6\\xcc\\x99\\xea\\xf6\\xbf\\xfe\\xf5\\xaf8x\\xf0\\xa0\\x81\\x91\\x11\\xd5\\x1ev*\\x88\\x88\\x88\\xa8b-^\\xbc\\x18G\\x8e\\x1c\\xc1\\xa2E\\x8b\\xd4;\\x16B\\x08\\x8c\\x8f\\x8f\\xe3\\xd4\\xa9S\\x06GGT;\\xd8\\xa9 \"2X8\\x1c\\x86\\xcb\\xe5\\x82\\xd9l.\\xa8L\\xa9\\x94S,D\\x00p\\xf1\\xc5\\x17\\xe3\\xc0\\x81\\x03\\xd8\\xb8q#$I\\x82$I8y\\xf2$|>\\x9f\\xd1\\xa1\\x11\\xd5\\x0cv*\\x88\\x88t\\x16\\x8dFsJ\\xc8\\xd7\\xd5\\xd5\\x85\\xd6\\xd6Vx<\\x9e\\x82\\xca\\x14K\\xe2\\xf9\\x18\\x19K!\\x1c\\x0eG\\xd6\\xf7E9\\xd7T\\x0f\\x97\\xcb\\x15W\\xd6\\xef\\xf7\\xc7=\\xdf\\xde\\xde^\\xcc\\xf0)\\x8b\\x993g\\xe2\\x81\\x07\\x1e\\xc0\\xa3\\x8f>\\x8as\\xce9\\x07\\xc0\\xbb\\x99\\xd7\\x89\\xa8\\xf8\\xd8\\xa9 \"\\xd2\\xd9\\x93O>\\x99S\\xf9\\xbe\\xbe>]\\xca\\x14K\\xe2\\xf9\\x14+\\x16\\xbf\\xdf\\x8f\\xce\\xce\\xce\\xa2\\xd5\\xdd\\xd6\\xd6\\x96\\xb5\\xdc\\x8b/\\xbe\\x98\\xf6\\xb9e\\xcb\\x96\\xc5\\xfd>11\\x11\\xf7\\xfb\\xca\\x95+\\xf3\\x0b\\xce \\xe9:O\\x95\\xfeX\\xbbv-\\xdez\\xeb-\\x00\\xc0\\x1dw\\xdcax<|\\x14\\xf6X\\xb5j\\x95\\xc1-\\x85\\xb4b\\xf2;\"\"\\x1dE\\xa3Q8\\x1c\\x0e\\xa3\\xc3\\xd0M\\xb1\\xcf\\'\\x1c\\x0e\\xc3\\xeb\\xf5btt\\x14K\\x97.\\xc5\\xa6M\\x9bt?F4\\x1a\\xc5\\xde\\xbd{5\\x95=v\\xec\\x18\\x02\\x81\\x00\\x1a\\x1b\\x1b\\xe3b\\xdc\\xb1c\\x07\\xea\\xeb\\xeb\\xe3\\xca^r\\xc9%\\x10B\\xe8\\x1ak\\xa9Us&\\xfa\\x93\\'O\\xe2\\xd1G\\x1f\\xc5\\x17\\xbf\\xf8EH\\x92\\xf6;\\x87T>\\x98Y\\xbe\\xc2\\x08\"\\xa2\\n\\x07@\\x0c\\r\\r\\x15TG(\\x14\\x12n\\xb7[\\xc8\\xb2,\\x84\\x10\\xc2n\\xb7\\x0b\\x00\\xc2b\\xb1\\x88\\xc9\\xc9\\xc9\\x94\\xe5m6\\x9b\\x00 dY\\x16###B\\x08!\\xacV\\xab\\x00\\x10\\xf7\\x10B\\x88H$\\xa2\\xd6\\t@X\\xadV\\x11\\n\\x85\\xe2\\xce!\\xdb\\x7f\\xc9\\xa9\\xca\\xa4\\x8b#\\x14\\n\\t\\xa7\\xd3\\xa9\\x9e\\x8f\\xdb\\xedV\\xcb\\x04\\x02\\x81\\xb8:FFF\\x84,\\xcb\\x02\\x80\\xb0\\xd9lqq\\xa5;\\x9f\\xd8\\x9f\\x95\\xba-\\x16K\\xdc\\xbe\\x99\\xf8|>a\\xb5Z\\x85\\xd5j\\x15>\\x9fO\\xd3>\\xf9R\\xceI\\xcbk\\x9c*~\\xa7\\xd3\\x99\\x14c \\x10P\\xdf\\xc7\\xb1\\xb11]\\xe3\\x15B\\x88\\x96\\x96\\x16\\xd1\\xd2\\xd2\\xa2{\\xbd\\xb1\\xf4h7\\xe5\\xee\\xcc\\x993\\xe2\\xcc\\x993F\\x87Ay*E; \\xdd\\xeca\\xa7\\x82\\x88*\\x9e\\x1e\\x17G\\xb1\\x17\\xcd\\xcaEb$\\x12\\x11\\x16\\x8bE\\x00\\x88\\xebX\\x84B!!\\xcb\\xb2p:\\x9dB\\x88\\xe9\\x8br\\x00\\xea\\x85g\\xaa\\x8bW\\xa5\\x9eP(\\xa4^\\x90Z,\\x96\\xa4\\xe3k\\x89QK\\x1cJ\\'!\\xf6|R\\x1dW\\xe9\\x10(e\\x9cNg\\xc6\\x0eDb,\\xca~\\x93\\x93\\x93Iu\\'R::\\x16\\x8bE8\\x9d\\xce\\x8c\\x1d\\x90\\xc4\\x8eL\\xbaG6###j\\x8cZ\\xf7I\\x94\\xea\\x9c\\x94\\xd7My\\xc8\\xb2\\xac\\xb9C\\xa5\\x05;\\x15D\\xecTT\\x98=\\x9cSAD\\x04\\xc4\\rcY\\xb8p!\\x00\\xa0\\xae\\xae\\x0e\\x16\\x8b\\x05\\x00\\xe2&%{\\xbd^x<\\x1e\\xacY\\xb3\\x06\\xc0\\xbbc\\xed3\\r\\xb1\\xb9\\xe8\\xa2\\x8b`\\xb1XP__\\xaf\\x0e\\xad\\xe9\\xef\\xef/(\\xe6Lq\\xb8\\xdd\\xee\\xa4\\xf3Iu\\\\e\\x05\\'\\xa5\\x8cR\\x97\\xcdf\\xd34\\xb4G\\xd9o\\xce\\x9c9Iu\\'jhh\\xc0\\xf1\\xe3\\xc7\\xb1m\\xdb6\\xacY\\xb3&i8Q,!\\x84\\xa6G&\\xe1p\\x18/\\xbd\\xf4\\x92\\x1ac>\\xfc~?\\x96.]\\x9a\\xb4]\\x96eD\"\\x11\\xf8|>X\\xadVx<\\x1e\\xec\\xdb\\xb7/\\xef\\xe3\\x10\\x11U:v*\\x88\\x882hjj\\x02\\x00ttt\\xa8\\xdbv\\xef\\xde\\r ~\\xa2+\\x00\\xf4\\xf4\\xf4\\xa4\\xad\\xa7\\xbb\\xbb\\x1b}}}\\x08\\x06\\x83\\xe8\\xed\\xed\\xd5%\\xb6|\\xe2H\\xa4t\\x9a\\x12\\xc5\\x9e\\xaf^B\\xa1\\x10.\\xbf\\xfcrl\\xdd\\xba\\x15.\\x97\\x0b\\xe1pX\\xf7c\\xc4\\xda\\xb7o\\x1f6l\\xd8PP\\x1d{\\xf7\\xeeM\\x9a\\xa0\\xad\\xa8\\xab\\xabCSS\\x13\\xba\\xbb\\xbba\\xb7\\xdb+n5,\"\"=\\xb1SAD\\x94#\\xe5\\xe21\\xd7o\\xce\\x1d\\x0e\\x076n\\xdc\\x08Y\\x96\\r\\x8d#\\x96\\xd2\\xa9P\\x96K\\xf5\\xfb\\xfd\\x00\\xa6\\xefT\\xe8\\xad\\xbe\\xbe\\x1ek\\xd6\\xacA__\\x1f\\xe6\\xcd\\x9b\\x87\\x1d;v\\xa0\\xb3\\xb3S=f,\\xad+\\xc3\\xa4\\xe3\\xf1x\\xb0b\\xc5\\x8a\\x82\\xe2U:=\\x99\\xee\\xa8(V\\xaf^\\xcdN\\x05\\x11\\xd54\\xae\\xfeDD\\xa4A\\xaao\\xf4\\xa7\\xa6\\xa6\\xd4a?\\xd9\\xb8\\\\.\\xb4\\xb5\\xb5%\\xad,\\xa4\\x87\\\\\\xe2H\\xd4\\xd4\\xd4\\x04\\xb7\\xdb\\x8d\\xa9\\xa9)H\\x92\\x04Y\\x96\\xe1t:\\xd5aP\\xc5\\xd2\\xd4\\xd4\\x84\\xa6\\xa6&u\\xf5\\xa7\\xfe\\xfe~,]\\xba\\x14\\xcb\\x96-C}}}\\xc1\\xab*eJ\\xcc\\'I\\x92\\xa6\\xfa\\xbd^/ZZZ4\\x1d/v\\xa8\\x1c\\x11Q-\\xe2\\x9d\\n\"\\xa2\\x0c\\xa6\\xa6\\xa6\\x00\\xc4\\xe7 \\xb0\\xdb\\xed\\x00\\x80\\xc1\\xc1AD\\xa3Q\\x00\\xd3\\xdfjg\\x1a\\xd6\\xd4\\xda\\xda\\n\\x00\\xbav(\\xf2\\x89#\\x91\\xc7\\xe3\\xc1\\x92%K\\xb0e\\xcb\\x16\\x08!\\xe0v\\xbb\\x8b\\xde\\xa1\\x88\\x95\\xea\\xee\\x85\\x1e2\\xdd\\xbd\\xd1\\xdaa\\x19\\x1d\\x1dU\\x87\\xbfe\\x13\\x8dF\\xb9\\x9e~\\x99\\xeb\\xec\\xec\\xcc9\\x0fJ>\\xfb\\x10\\xd5*v*\\x88\\x88\\x12(C\\x81\\xa2\\xd1(\\x06\\x07\\x07!\\xcbr\\xdc\\x90\\xa5\\x9bo\\xbe\\x19\\xc0\\xf4\\xdc\\x05\\x93\\xc9\\x04I\\x92\\xd0\\xd0\\xd0\\xa0^T*ec/\\xf0\\x95m\\xc1`P\\xed\\xa8(eb\\xe7\\x16\\xa4\\x9bg\\x90\\xaaL\\xa68b\\xcb+\\x1d\\x0e\\xe5\\xdf\\xd8:\\xccf\\xb3\\xbao\\xec\\xa3\\xbd\\xbd]-\\x93x>\\xa9bIUw\\xae\\x94\\xf9\\t\\xa5\\x94\\xee\\xa21\\xdd\\x04m`\\xfa\\xf3\\xe1\\xf5z\\xd5\\xdf\\x83\\xc1 \\x9e|\\xf2\\xc9\\xb4s/\\x88\\xb2\\xf1x<0\\x9b\\xcd0\\x9b\\xcd9\\r\\xa3\\xcbw?\\xa2b`\\xa7\\x82\\x88(\\xc1\\xbcy\\xf3\\xd4\\x8b\\xed\\xc6\\xc6F\\x0c\\x0e\\x0e\\xc6=___\\x8f@ \\x00\\xab\\xd5\\n`zhT\\xec\\xb0&\\xe5\\xc2x\\xc7\\x8e\\x1dX\\xb7n]\\xdc6\\x87\\xc3\\x01\\x93\\xc9\\x04\\xab\\xd5\\n\\x8b\\xc5\\x82\\xb7\\xdez\\x0b\\r\\r\\rj\\xdd\\xb1?\\xc7JU&S\\x1c\\xb1\\xe5M&S\\xdc\\xbf\\xb1u\\xf8|\\xbe\\x94s<\\xfa\\xfb\\xfb\\xd1\\xd5\\xd5\\x95\\xf2|R\\xc5\\x92\\xaa\\xeeJ\\x96i\\x82\\xf6\\xf9\\xe7\\x9f\\x8f\\xe5\\xcb\\x97C\\x92$tvv\\xe2\\x8d7\\xde\\xd0m\\x9e\\x0c\\x15Owww\\xce\\x9d\\xd6|\\xf6\\xc9\\x95\\xcb\\xe5\\x82\\xc3\\xe1\\xc0\\xe0\\xe0 \\x06\\x07\\x07\\xf1\\xf8\\xe3\\x8fkJ8\\x99\\xef~D\\xc5\"\\x89B\\x07\\xae\\x12\\x11\\x19L\\x92$\\x0c\\r\\ra\\xf5\\xea\\xd5\\x05\\xd7\\x03h\\x1f\\x1eS\\r\\xa6\\xa6\\xa60k\\xd6\\xac\\xa4aYSSS\\x98;wnM\\xbd\\x16\\xe5D\\xb9\\xeb5<<\\\\\\xb4c\\xe8\\xd5n(\\x7f\\xc1`\\x10\\xb3g\\xcf\\xc6\\xd8\\xd8\\x98\\xba\\xf4\\xb1\\xdf\\xefGss3|>_\\xda\\xe1w\\xf9\\xeeWiJ\\xd1\\x0eH7\\xc3\\xbcSADT\\xa3\\\\.\\x17\\xe6\\xcc\\x99\\x93r\\x9eGCC\\x03\\x9cN\\xa7\\x01Q\\x11\\xe5\\xc7\\xeb\\xf5\\xc2l6C\\x92\\xa4\\x94\\xc3\\xf4\\\\.\\x97:\\x81?\\xf1w\\x8f\\xc7\\x03I\\x92`6\\x9b\\x11\\x0c\\x06S\\x96)\\x86C\\x87\\x0e\\x01\\x00.\\xbb\\xec2u\\xdb\\xa5\\x97^\\n\\x00\\x98\\x98\\x98\\xd0}?\\xa2b\\xe2\\xeaODDH\\x9e\\xb3\\xa0e\\x19\\xd1J\\xb7{\\xf7n\\xfc\\xe9O\\x7f\\xc2\\x8a\\x15+\\xe2:\\x16SSS\\x18\\x1d\\x1d-8\\xc7\\x03Q\\xa9(s\\x0b\\xc6\\xc6\\xc6\\xe0v\\xbb\\xe1r\\xb9\\xe2\\x86\\xe1\\xc9\\xb2\\x1c7\\xe7`\\xfd\\xfa\\xf5\\xea\\xef\\xe3\\xe3\\xe3\\x90e\\x19\\x81@\\x00\\xb3g\\xcf\\xc6\\xe5\\x97_\\x8e\\xbe\\xbe\\xbe\\xb82\\xe9dZ\\xd68V\\xba;~\\xa3\\xa3\\xa3\\x00\\xe2\\x17pP\\xfe\\xef\\xf1x<i\\xdb`\\xbe\\xfb\\x11\\x15\\x13\\x87?\\x11Q\\xc5\\xd3c\\x18G\\xe2\\xc5A-\\xfc\\xd7\\x18\\x8dF\\xb1\\x7f\\xff~\\x8c\\x8e\\x8e\\xaa\\x99\\xb0\\xadV+>\\xf9\\xc9Or\\xd2\\xb1\\xc18\\xfc)7\\xa9\\x86.J\\x92\\x04\\x9b\\xcd\\x86-[\\xb6\\xa4,\\x93n\\x9fle\\x8a\\x1d\\xb7\\x96\\xe3\\xe6\\xbb_\\xa5\\xe1\\xf0\\xa7\\x8a\\xc2\\xe1ODD@\\xf2\\x12\\xa4\\xb5\\xa0\\xae\\xaeN]\\xceU9\\xef\\xee\\xeenv(\\xa8\\xe2\\x9423<\\x11\\xa5\\xc6N\\x05\\x11\\x11\\x11U\\xb4Rf\\x86\\x8fUh\\xe6\\xf7L\\xab\\x86eJ\\xa6\\x98\\xef~D\\xc5\\xc4N\\x05\\x11\\x11\\x11U4%3\\xfc\\xf1\\xe3\\xc7\\xd5\\xa5~\\x9dN\\xa7:\\xf4\\xa9XR%Y\\xcc\\x94x1Ql\\x0e\\x18\\x852Q\\xfc\\xdak\\xaf\\xd5}?\\xa2b\\xe2Dm\"\\xa2\\n\\xa0$h\\xcbe\\xcd\\xfc|\\xf6!\\xaaDJfxY\\x96\\x8b\\xde\\x91\\xd0\\xd3\\x8a\\x15+\\x00\\x00G\\x8f\\x1eU\\'Z\\xbf\\xf2\\xca+q\\xcf\\xe9\\xb9\\x1fQ1\\xf1N\\x05\\x11\\x11\\x15\\xa4\\x98\\xd9\\x80\\x952\\xcar\\x9f\\xca\\xf0\\x96X~\\xbf?)\\x1b8\\xd5\\x96l\\x99\\xe1\\x13Ww\\xd3\\x92q^K\\xa6\\xfbB566\\xc2n\\xb7c``\\x00\\xd1h\\x14\\xd1h\\x14\\x03\\x03\\x03\\xb0\\xdb\\xedq+;%f~\\xd7\\xba\\x1fQ)\\xf1N\\x05\\x11Q\\x05\\xc8\\xe7nC)\\xeeP\\xb8\\\\.\\xec\\xde\\xbd[\\xcd:\\xbeu\\xebV\\xbc\\xfa\\xea\\xabY\\x97\\xb4\\xd4\\xb2_oo/:::\\xe0\\xf3\\xf9\\xe0v\\xbb\\xd5\\xe4^\\xc7\\x8f\\x1f\\x8f\\xfb6:q]\\xfe\\x95+W\\xeauzT!|>\\x1f:;;\\x93:\\xa7\\xca\\xaaf\\xca\\xbf@r\\xc6w\\x93\\xc9\\x04!D\\xc6\\xac\\xf0\\r\\r\\rE[\\xc0a\\xc3\\x86\\r\\xf0x<0\\x99L\\x90e\\x19\\x9b7o\\xd6\\xb4XB\\xbe\\xfb\\x11\\x15\\x0b;\\x15DD\\x94\\x97`0\\x88\\xd6\\xd6V\\x8c\\x8d\\x8d\\xa1\\xae\\xae\\x0e\\xc0\\xf4$\\xd1\\xe6\\xe6f,X\\xb0 c6`-\\xfb)+\\xf7(\\xbf+\\xff\\x8e\\x8e\\x8e\\xc6u*.\\xb9\\xe4\\x92\\x9aY\\xb1\\x8bR;\\xf7\\xdcs\\xf1\\xe0\\x83\\x0f\\xc2\\xedv\\xc7m\\xcf%3\\xbc\\x91\\x9f!Y\\x963\\x1e?\\xdd\\x17\\x04\\xd9\\xf6#*%\\x0e\\x7f\"\"*\\x03\\xcc\\x06\\x9c\\xbc\\x9f\\xb2r\\xcf\\xf8\\xf88\\x80w\\'\\xa2\\xc6^`\\x05\\x83A\\x98\\xcdftvv\\xaa\\xe5\\xa8\\xb603<Qy\\xe0\\x9d\\n\"\"\\x831\\x1bp\\xea\\xfd\\xb6l\\xd9\\x82H$\\x82E\\x8b\\x16all\\x0c\\xc7\\x8e\\x1dC(\\x14\\x8a\\xcbv\\xae,\\x1d\\xda\\xd3\\xd3\\x83\\x9e\\x9e\\x1e\\xc8\\xb2\\x8c]\\xbbv\\xd5DFt\\x9a\\xc6\\xcc\\xf0D\\xe5\\x81w*\\x88\\x88\\x0c\\xa6\\xdcMX\\xb8p!\\x00`\\xcd\\x9a5\\x00\\xa6\\xbf\\xa9\\x17B$\\r\\xe9\\x88\\xfd]\\xd9G\\xb9\\x98R\\xc6\\x8e\\'\\xee\\x93J\\xa1\\xcba\\xc6\\x8eSO\\x94\\xa9C\\x93\\xcb~\\xdd\\xdd\\xdd\\xb0X,X\\xb4h\\x11\\x8e\\x1c9\\x82s\\xce9\\'\\xeeyY\\x96\\x11\\x89D\\xe0\\xf3\\xf9`\\xb5Z\\xe1\\xf1x\\xb0o\\xdf\\xbe\\xb4\\xf5S\\xf5\\x19\\x1c\\x1c\\xc4\\xfb\\xde\\xf7>\\xdcw\\xdf}\\xea\\x04\\xed\\xce\\xceN\\xbc\\xfc\\xf2\\xcb\\xecP\\x10\\x95\\x10;\\x15DD\\x06c6\\xe0\\xf4z{{\\xb1t\\xe9RD\"\\x11\\x00\\xc0\\xbau\\xeb\\xe2V\\xe9\\x01\\xa63\\x83755\\xa1\\xbb\\xbb\\x1bv\\xbb=\\xa7\\x15\\xa8\\xa8\\xf213<Qy`\\xa7\\x82\\x88\\xc8`\\xcc\\x06\\x9cz?\\x97\\xcb\\x85\\x8e\\x8e\\x0e\\xdct\\xd3M\\xa8\\xab\\xab\\xc3\\xbau\\xeb\\xe0\\xf1x\\xb0g\\xcf\\x9e\\xb4\\xfb\\xaf^\\xbd\\x9a\\x9d\\n\"\"\\x03\\xb0SADd0f\\x03N\\xbd_kk+\\x00\\xa8+D)\\xf3L\\xda\\xda\\xda\\xd2\\xd6]WW\\x97\\xb1CCDD\\xc5\\xc1N\\x05\\x11\\x91\\xc1\\x94l\\xc0[\\xb6lQ\\xe7P(\\xf3*\\xcaYlV_E\\xae\\xd9\\x803\\xed\\x97xGC\\xe9\\\\d\\xba\\xd3\\x11\\x8dF\\xb1j\\xd5*M\\xf1\\x13iU\\x8a\\xd5\\xd4\\x88*\\x1d;\\x15DD\\x06c6\\xe0\\xd4\\xfbm\\xde\\xbc\\x19\\xc0\\xbb\\xc3\\xc2\\x94%cc\\xb7{\\xbd^\\xb5|0\\x18\\xc4\\x93O>\\xc9\\xb1\\xf4\\xa4\\xbb\\xae\\xae.\\xb4\\xb6\\xb6\\x96\\xfd\\xd0\\xba`0\\x88\\xf6\\xf6v\\xf5\\xff\\x8f\\xd8\\xf6\\x11\\x8bY\\xe8\\xa9\\x18\\xd8\\xa9 \"2\\x98\\xcf\\xe7K\\xf9\\xed{\\x7f\\x7f?\\xba\\xba\\xba\\xe2\\x96\\x97mhh\\x88\\xfb]\\xc9\\x02\\x9c\\x98\\r8q\\x9fb\\xd9\\xb0a\\x03V\\xae\\\\\\t\\x93\\xc9\\x84u\\xeb\\xd6a\\xd5\\xaaU\\x9aV\\xdc\\xd1\\xb2\\xdf\\xb2e\\xcb022\\x82\\xd1\\xd1QH\\x92\\x84\\x81\\x81\\x01\\x8c\\x8c\\x8c\\xa8\\x9d\\x86\\xf3\\xcf?\\x1f\\xcb\\x97/W\\x87\\x8c\\xbd\\xf1\\xc6\\x1b\\x19\\xefb\\x10\\xe5\\xab\\xaf\\xaf\\xcf\\xe8\\x10\\xb2\\x8aF\\xa3\\xf0\\xfb\\xfd\\xe8\\xeb\\xebC$\\x12\\xc1\\xd2\\xa5K\\xb1|\\xf9\\xf2\\x94\\x1d!f\\xa1\\xa7b\\x90\\x04S1\\x12Q\\x85\\x93$\\tCCCX\\xbdz\\xb5\\xd1\\xa1\\xe4ejj\\n\\xb3f\\xcdJJ\\xde\\x95K6`\\xaa.\\xca\\x10\\xae\\xe1\\xe1\\xe1\\xa2\\x1d\\xa3\\xd2\\xdbM\\xa9)\\x8b\\x16\\x94k{\\xf4x<I\\x9d\\xeat1\\xa7*[\\x8eJ\\xd1\\x0eH7\\xc3\\xbcSADd f\\x03&zWoo/$I\\x82\\xc3\\xe1@8\\x1c\\x8e[},\\x1a\\x8d\\xc2\\xe1p\\xc4\\xe5\\xa2P\\x86\\xf6\\xa5\\xcb2\\xdf\\xde\\xde\\xae.\\x02\\xe0r\\xb9\\x92\\xb6\\x85\\xc3a5\\xf9$\\x00\\xb5\\xfe\\xf6\\xf6vLMMe\\x8d7\\x1c\\x0e\\xab1\\x9b\\xcd\\xe6\\xa4\\xe1F\\x99\\xceGo\\xe9:\\t\\x89\\x0b\\x170\\x0b=\\x15\\x8d \"\\xaap\\x00\\xc4\\xd0\\xd0\\x90\\xd1a\\xe4E\\x96ea\\xb7\\xdbE \\x10\\x88\\xdb>99)\\xecv\\xbbAQ\\x91\\xd1ZZZDKKKQ\\x8fQn\\xed\\xc6f\\xb3\\xa9\\xed \\x12\\x89\\x08\\xab\\xd5*b/S,\\x16\\x8b\\x00 B\\xa1\\x90\\x08\\x04\\x02\\x02\\x80\\xb0X,B\\x88\\xe9v\\x04@\\x00\\x10>\\x9fO\\x08!\\xc4\\xd8\\xd8\\x98ZfllL\\x08!\\x92\\xf6S\\xf6\\x01\\xa0\\x96\\x89D\"\\xea\\xb1&\\'\\'\\xd5\\xe3+\\xe5\\x14\\xa1PH\\xc8\\xb2,\\x9cN\\xa7\\x10B\\x88\\x91\\x91\\x91\\xb8\\xe3g;\\x9fD\\xb1\\xb1dzh\\x15\\x89D\\x04\\x00\\xe1v\\xbb\\xe3\\xb6\\xbb\\xdd\\xee\\xb8\\xfadY\\x16\\xa1PHs\\xbd\\xa5T\\x8av@\\xba\\xd9\\xc3;\\x15DD\\x06b6`\\xa2i\\x1d\\x1d\\x1d\\x985k\\x16\\x80\\xe9\\x95\\xbe6m\\xda\\x14\\xf7\\xfcE\\x17]\\x04\\x8b\\xc5\\x82\\xfa\\xfa\\xfa\\x8c\\x19\\xe4\\x9b\\x9a\\x9a\\x00\\xbc\\x9bm\\xbe\\xbf\\xbf?m\\xe6y\\x113,H)\\x13\\xbb,q\\xa6\\x89\\xd9^\\xaf\\x17\\x1e\\x8fG]\\xa9M\\x99\\xeb\\xb3w\\xef^M\\xe7\\x93H\\x14\\xb8\\xc4s\\xa2\\xc3\\x87\\x0fC\\x96e,Y\\xb2$n;\\xb3\\xd0S\\xb1\\xb0SADd f\\x03&\\x9af\\xb1X\\xd0\\xd0\\xd0\\x00\\x97\\xcb\\x85h4\\x8a\\xfa\\xfa\\xfa\\xb8\\x8b\\xe8\\xee\\xeen\\xf4\\xf5\\xf57\\xdd\"\\xba\\x00\\x00 \\x00IDAT!\\x18\\x0c\\xa2\\xb7\\xb7\\xb7\\xa8\\xb1(\\x1d\\x93LY\\xedw\\xef\\xde\\r\\x00I\\x89\"{zz\\x00d?\\x9fb{\\xe0\\x81\\x07p\\xf7\\xddw\\xabK1\\xc7b\\x16z*\\x06v*\\x88\\x88\\x88\\xc8p\\xb7\\xdf~;dYFkk+L&S\\xca\\x8e\\x83\\xc3\\xe1\\xc0\\xc6\\x8d\\x1b\\xcbb\\x92\\xb1r!\\x9e\\xeen\\x82\\x96\\xf3\\x89Uh\\x86\\xfbX.\\x97\\x0b\\xb2,\\xabw_2a\\x16z\\xd2\\xcb\\x0c\\xa3\\x03 \"\"\"\\x9a3g\\x0e\\xdcn7\\xfc~?\\xfa\\xfb\\xfb\\xd5\\xbb\\x04Jfy\\x97\\xcb\\x85\\xb6\\xb66\\x04\\x02\\x81\\x94\\x0b\\x1b\\x14\\x83\\x96\\xec\\xecSSS\\x983gN\\xd2\\xf6l\\xe7\\x93H\\xaf\\xbb\\x18~\\xbf\\x1fG\\x8e\\x1cAww\\xb7\\xa6\\xf2\\xccBOz\\xe1\\x9d\\n\"\"b\\xc6`2\\x9c$I\\x88F\\xa3hjjB__\\x1f|>_\\xdc\\xf0\\xa3\\xd6\\xd6V\\x00(I\\x87BY\\xf9)S\\xfe\\x06\\xbb\\xdd\\x0e`z^\\x94\\x92|RY\\r\\n\\xc8~>\\xc5\\x10\\x0e\\x87q\\xe0\\xc0\\x81\\xb8\\x0e\\x85\\xdf\\xef\\xcf\\x98\\xdc\\x8eY\\xe8I/\\xecT\\x10\\x11QUe\\x0c\\x0e\\x87\\xc3qK\\x8f*\\x19\\xb9\\xa9\\xfc\\xd9l6u\\xb9\\xd7\\x0b/\\xbc\\x106\\x9bM}N\\x19\\xf2\\x14\\x0c\\x06\\xe3\\x96{M\\x97e>UV\\xf9L\\x99\\xe6\\x95\\xcfI4\\x1a\\xc5\\xe0\\xe0 dYV\\x8f\\x99j\\xbf\\x9bo\\xbe\\x19\\xc0\\xf4\\x1c\\n\\x93\\xc9\\x04I\\x92\\xd0\\xd0\\xd0\\x10w\\x81\\x9e\\xe9|\\xf4\\x16\\x0e\\x87\\xb1~\\xfdzttt\\xc4\\r\\x97jnnV;G\\xccBO\\xc5\\xc4N\\x05\\x11\\x11UM\\xc6\\xe0h4\\x8a\\xf5\\xeb\\xd7\\x03\\x98\\x1eN\\x12\\n\\x85\\xb0{\\xf7ntvv\\x1a\\x156\\xe5`\\xd3\\xa6M\\x18\\x1e\\x1e\\x86$I\\x18\\x1e\\x1e\\x8e\\x1b*\\xa4|\\xfb\\xeep8`2\\x99`\\xb5Za\\xb1X\\xf0\\xd6[o\\xa5\\xcc2\\x9f*\\xab|\\xa6L\\xf3\\xf3\\xe6\\xcd\\x83\\xd9l\\x86\\xc9dBcc#\\x06\\x07\\x07S\\x96U~\\xae\\xaf\\xafG \\x10\\x80\\xd5j\\x050=T*qhV\\xa6\\xf3\\xd1[WWW\\xda/\\x05\\xe6\\xce\\x9d\\x0b\\x80Y\\xe8\\xa9\\xb8\\x98Q\\x9b\\x88*\\x1e3\\x03\\xeb\\xa3\\x1a2\\x06\\xbb\\\\.\\xb4\\xb6\\xb6\"\\x12\\x89\\xa8\\xab\\xde\\xf8\\xfd~477cdd\\xa4b\\xbe\\x91eF\\xed\\xd2)\\xf7\\xcf}-cF\\xed\\x8a\\xc2\\x8c\\xdaDD\\xa5\\xc4\\x8c\\xc1\\xf9\\xd3\\x921XY\\xe63v\\x19\\xcd\\x0f|\\xe0\\x03\\x00xaBDTT%\\xca\\xb2GDT4(\\xb3\\xcc\\xc0\\xe90cp\\xf13\\x06\\xa7\\xab#\\xd7\\xba\\x8dV\\x8b\\x19\\xb5\\x8d\\x10\\n\\x85\\xd4\\xcfF\\xb9f\\x95\\xaee\\xcc\\xa8]Q\\x98Q\\x9b\\x88\\xa8T\\x981\\xb8\\xf8\\x19\\x83\\x95\\xf3\\xd2r\\x17\\x86(\\xd3\\x1c\\x0b\"\\xca\\r;\\x15DD%\\xc2\\x8c\\xc1\\xfaJ\\x951\\xf8s\\x9f\\xfb\\x1c\\x00`\\xfb\\xf6\\xed\\xea*@~\\xbf\\x1f\\x00\\x8a\\xba\\xf2\\x0eU\\xa6|;\\xb4D\\x94\\x8c\\x9d\\n\"\\xa2\\x12a\\xc6\\xe0\\xe2g\\x0c^\\xb8p!FFFp\\xfc\\xf8q\\x98L&8\\x1c\\x0e\\xbc\\xfe\\xfa\\xeb\\x00\\x80\\x1bn\\xb8!\\xd7\\x97\\x80\\x88\\x884bFm\"\\xa2\\x12a\\xc6\\xe0\\xd2d\\x0c^\\xb6lY\\xdc*O\\xbd\\xbd\\xbd\\xb0Z\\xad\\xea\\xdd\\x19\"\"\\xd2\\x1f\\xefT\\x10\\x11\\x95\\x083\\x06\\x17.\\xd7\\x8c\\xc1.\\x97\\x0b\\xa3\\xa3\\xa3E\\x8f\\x8b\\xf4SI\\xd9\\xdd\\xf3\\xb9\\xcbV\\rj\\xf5\\xbc)3v*\\x88\\x88J\\x88\\x19\\x83\\xf3\\xa7%c\\xb0r~JG\\xe3\\xf8\\xf1\\xe3p\\xbb\\xddq\\xf3.\\xa8\\xbcUJv\\xf7X\\xa9\\xe6d(K9\\x9b\\xcd\\xe6\\x82\\xcfE\\xaf\\xba\\xc2\\xe10:;;\\xd3f\\x9b\\x8fF\\xa3i\\x87%\\xc6\\x96\\xe5\\x1c\\x14J\\x85\\x9d\\n\"\\xa2\\x12b\\xc6\\xe0\\xfci\\xc9\\x18,I\\x12L&\\x13&&&`\\xb1X\\x8a\\x1a\\x0f\\x15G%dw\\xcf\\xc6\\xe5r\\xc1\\xe1p`pp\\x10\\x83\\x83\\x83x\\xfc\\xf1\\xc7\\xe1p8\\x0c\\xad+\\x1c\\x0e\\xe3\\xe8\\xd1\\xa3\\xe8\\xee\\xee\\x86\\x10\\x02N\\xa7\\x13\\xad\\xad\\xadqs\\xa1^|\\xf1\\xc5\\xb4\\xfbWJ\\xe2H2\\x0e3j\\x13Q\\xc5cf\\xe0\\xcc\\x981\\xb8\\xf2\\xd4zF\\xedJ\\xf9\\xcc\\xa6\\x8a3\\x18\\x0cb\\xf6\\xec\\xd9\\x18\\x1b\\x1bS\\x17\\x12P\\xb2\\xba\\xfb|\\xbe\\x9c\\xe6\\xf6\\xe8Y\\xd7\\xf8\\xf8x\\xd2\\xc2\\x06\\xa92\\xd2_\\x7f\\xfd\\xf5q_\\x1c\\x84\\xc3a\\xec\\xd8\\xb1#\\xe5\\x1c\\xa6b\\xbfO\\xcc\\xa8]Q\\x98Q\\x9b\\x88\\x88\\x88\\n7>>\\x9ev\\xac\\xbd\\x92y]\\x92$\\x04\\x83\\xc1\\x8c\\xd9\\xe3\\x13\\xa5\\xaa/\\xddx\\xfel\\x19\\xe0K\\xe1\\xd0\\xa1C\\x00\\x80\\xcb.\\xbbL\\xddv\\xe9\\xa5\\x97\\x02\\x00&&&\\x0c\\xab+\\xb1C\\xa1\\x0c\\xa3T\\xeeD\\x02\\xd3w#\\x12\\xe7ty\\xbd^\\xb4\\xb4\\xb4\\xe4t,\\xaaM\\xecT\\x10\\x11U\\xb1Ls,\\x88\\xf4\\xa4,\\xe7\\x0bL_\\xa8\\xc6~{\\xbde\\xcb\\x16X\\xadV\\xf8|>466b\\xeb\\xd6\\xadhkkC(\\x14B \\x10@OO\\x0f\\xba\\xba\\xbaR\\xd6\\x1b\\n\\x85\\x92\\xb6\\x05\\x02\\x81\\xa4m\\xca\\x9c\\x9b\\xcb/\\xbf\\x1cB\\x08l\\xde\\xbc\\x19\\xcb\\x97/W\\xf3\\x94$\\xd2s\\x89\\xe3X\\xa3\\xa3\\xa3\\x00\\xe2\\x17\\\\\\xa8\\xaf\\xaf\\x07\\x909\\xd9d\\xb1\\xeb\\x8a\\x15\\x0c\\x06\\xd5\\xf9O\\xeb\\xd6\\xadK\\xaa;1\\x06\\xae\\x9cFZ\\xb0SADT\\xc5\\x981\\x98Ji\\xd9\\xb2e\\xb0Z\\xad\\xe8\\xe9\\xe9Q\\xbf\\t\\x07\\xde\\xfdV\\\\\\xb98\\xcd\\x94=>Q\\xaa\\x0b\\xddT+\\xa4e\\xcb\\x00\\x9fH\\xef\\x0c\\xef\\x8at\\xe7\\x01\\xe4\\xde\\x11\\xd0\\xb3.\\x852\\xa4JIb\\x99\\xa9\\x1e\\xbf\\xdf\\x8f\\xa5K\\x97\\xe6u\\x1c\\xaa=\\xecT\\x10\\x11U1f\\x0c\\xa6RS\\x86\\xca\\xec\\xdf\\xbf_\\xddv\\xf8\\xf0\\xe1\\xb8!4\\xc5\\xc8\\x1e\\x9f-\\x03<Mkll\\x84\\x10\\x02>\\x9f\\x0fV\\xab\\x15\\x1d\\x1d\\x1di\\'~\\xef\\xdd\\xbb\\x97\\x13\\xb4I3v*\\x88\\x88\\x88H7MMM\\x90eY\\xbd\\xc8\\x07\\x80\\x83\\x07\\x0f&\\r\\xa1\\xd1;{|\\xb6\\x0c\\xf0\\x89\\x8a5\\xfc)\\xd3\\xf9hI6Y\\xac\\xba\\x12555\\xa9C\\x9f\\xda\\xda\\xda\\x92\\x9eW\\x86K\\xa6\\xbaSD\\x94\\n;\\x15DDD\\xa4\\xab\\xb5k\\xd7\\xc2\\xe3\\xf1`||\\x1c\\xc1`\\x10\\x0b\\x16,\\x88{^\\xc9\\x1e\\xff\\xe0\\x83\\x0f\\xa6\\xcc\\xd6^\\x88\\xd8\\x1c/\\x99\\x14k\\xf8S\\xaa\\xdc/J.\\x97k\\xaf\\xbd\\xd6\\xb0\\xbaR\\xc9\\xf4\\xdas\\x826\\xe5\\x8a\\x9d\\n\"\\xa2\\x12c\\xc6\\xe0\\xf2W\\xab\\xe7\\xad\\x17e\\xc8\\xcc\\xc0\\xc0\\x00\\x0e\\x1d:\\x84%K\\x96\\xc4=_\\x8c\\xec\\xf1\\xd92\\xc0\\x97\\xca\\x8a\\x15+\\x00\\x00G\\x8f\\x1eU\\xb7\\xbd\\xf2\\xca+q\\xcf\\x19QW*\\xca\\xeb\\xe4t:\\x93\\x9e\\xe3\\x04m\\xca\\x15;\\x15DD%\\xc6\\x8c\\xc1\\x99)K\\x8d\\xc6\\xca\\x96\\t8\\x17\\xc1`\\x10\\xed\\xed\\xed\\x90$\\t\\xed\\xed\\xed)\\x97\\x1d\\xe5\\x1c\\x94\\xc2\\xd4\\xd7\\xd7\\xc3j\\xb5\\xa2\\xbf\\xbf\\x1f\\xc7\\x8f\\x1fO\\xcah\\xae5{\\xbc\\xf2\\xb32\\xd4G);>>\\xae\\x96ioo\\x07\\xa0-\\x03|)466\\xc2n\\xb7c``\\x00\\xd1h\\x14\\xd1h\\x14\\x03\\x03\\x03\\xb0\\xdb\\xedq\\x9d(e\\xe9\\xdbt\\xabS\\xe9]\\x97\\xd9lFoo\\xafz\\xa7#\\x1a\\x8d\\xc2f\\xb3\\xc1j\\xb5\\xaa\\x93\\xdb\\x15\\x9c\\xa0My\\x11DD\\x15\\x0e\\x80\\x18\\x1a\\x1a2:\\x8c\\x9c\\x00\\x10\\x95\\xf0_p\\xba8\\x9dN\\xa7\\x90eYD\"\\x11\\x11\\x89D\\x84\\xc5b\\x11v\\xbb\\xbd\\xe0\\xe3\\xf9|\\xbe\\xa4c\\x86B!166\\x16wl\\x00\\xc2f\\xb3\\xe5\\\\\\x7f$\\x12\\x11n\\xb7[\\xfdY\\xa9K\\xd9\\x96\\xc8\\xa8\\xf7\\xa9\\xa5\\xa5E\\xb4\\xb4\\xb4\\x14\\xf5\\x18\\xc5n7\\xca{999\\x99\\xf69\\xab\\xd5*B\\xa1\\x90\\xb0Z\\xad\\xc2b\\xb1\\x88@ \\xa0\\xbe\\xe6\\xb1\\xaf} \\x10\\x10\\xb2,\\xc7\\xbdW\\xb2,\\x0b\\xa7\\xd3)B\\xa1\\x90Zo \\x10\\x10V\\xabU\\x00P\\xeb+\\xa6L\\x9f\\x0f\\xb7\\xdb-\\x00\\x08Y\\x96\\xc5\\xc8\\xc8H\\xd2\\xf3\\xca9\\xcb\\xb2\\x9c\\xf58z\\xd4\\xa5\\xd4\\xa1<l6[\\\\\\xbbJ\\xac/\\xf6uM\\xa7\\xd8\\xed\\xa3\\x14\\xed\\x80t\\xb3\\x87\\x19\\xb5\\x89\\xa8\\xe2\\x95sf\\xe0t\\x9818\\x99\\xf2\\xcd\\xa9\\xb2Z\\x8frL-\\x99\\x80\\xb5\\xf2x<I\\x93_3\\xd5e\\xd4\\xfbT\\xeb\\x19\\xb5+\\x85\\x1e\\x9f\\x0f\\xb3\\xd9\\x0c\\xb7\\xdb\\xadK<z\\xd6\\xa5\\x053jS\\x0cf\\xd4&\"\\xd2\\x8a\\x19\\x83\\xa7\\xe9\\x99\\xe57\\xd6\\xae]\\xbb\\xb0i\\xd3\\xa6\\xa4\\xedZ2\\x01k\\x95n5\\x9dBW\\xd2!\\xca\\xc7\\xf8\\xf88\\xee\\xbe\\xfb\\xee\\xb2\\xab\\x8b(\\x1f\\xecT\\x10\\x11i\\xc4\\x8c\\xc1\\xd3\\x8a\\x91\\xe5\\xd7\\xeb\\xf5b\\xf1\\xe2\\xc5Y\\x97\\xafL\\x97\\t8_J\\x07e\\xe5\\xca\\x95\\x05\\xd7E\\x94\\x0b\\xaf\\xd7\\x8b\\xf7\\xbf\\xff\\xfdI\\x9df\\xa3\\xeb\"\\xca\\x17;\\x15DD9`\\xc6`\\xfd\\xb3\\xfc\\x86\\xc3a\\xbc\\xf4\\xd2KY/\\x88r\\xc9\\x04\\xac\\xd5\\xe1\\xc3\\x87!\\xcbr\\xd2\\xeaDD\\xb9\\xc8\\xa7\\x83\\xbel\\xd92\\xdd\\x96\\xd3\\xd5\\xb3.-\\xb8*\\x1a\\xa5\\xc2N\\x05\\x11Q\\x8e\\x981X_\\xfb\\xf6\\xed\\xc3\\x86\\r\\x1b\\xb2\\x96\\xcb%\\x13\\xb0V\\x0f<\\xf0\\x00\\xee\\xbe\\xfb\\xee\\xa4\\xd5\\x89\\x88\\xb4(\\xb4\\x83^\\xa9j\\xf5\\xbc)3v*\\x88\\x88r\\xc4\\x8c\\xc1\\xfae\\xf9\\xf5x<9\\xaf\\xb7\\x9f-\\x13\\xb0V.\\x97\\x0b\\xb2,s\\xc8\\x08\\x11\\x91\\x0e\\xd8\\xa9 \"\\xca\\x033\\x06\\xeb\\x93\\xe5\\xd7l6c\\xf6\\xec\\xd9i\\'\\xab\\xa7S\\xe8k\\xea\\xf7\\xfbq\\xe4\\xc8\\x11MwH\\x88\\x88(;v*\\x88\\x88\\xf2\\xc0\\x8c\\xc1\\xfad\\xf9\\xcd\\xd4\\xc9\\xc9\\xd4\\xe1\\xc9\\x94\\t8\\x9bp8\\x8c\\x03\\x07\\x0e\\xa0\\xbb\\xbb[\\xdd\\xe6\\xf7\\xfb\\xd5$j\\x94\\x9fJ\\xca\\x14\\x9fIgg\\':;;u+W\\xaax\\x8aUW\\xa9\\xce\\x93*\\x1f;\\x15DDy`\\xc6`}\\xb2\\xfcj\\xa15\\x13\\xb0\\x96\\xe3)+hutt\\xc4\\xdd\\x1dinn\\xe6\\nP\\x05\\xaa\\xc4L\\xf1D\\xa4#}\\x93\\xe9\\x11\\x11\\x95\\x1e\\x0c\\xca\\xa8\\xcd\\x8c\\xc1\\xfae\\x0c\\xcetL\\xad\\x99\\x80\\xb5\\x1c\\xcfb\\xb1$\\xbd\\xfe\\xca#\\xd5\\xfb\\x98\\xe9\\xfc\\x8b\\xa9R3j\\x1b\\xf5zQubF\\xed\\x8a\\xc2\\x8c\\xdaDT\\xf9\\x98\\x19\\xb8x\\xca-cp\\xa9\\x8f\\xc7\\x8c\\xda\\xb9\\xd7\\t\\x94\\x7f\\xa6x\\xaa\\x0c\\xcc\\xa8]Q\\x98Q\\x9b\\x88\\x88\\x8a\\xa7\\xd4Y~\\x99U\\xb8\\xb8\\xa2\\xd1(\\\\.\\x97:l,\\xdb\\x92\\xbeZ2\\xcb+\\xc3\\xd6\\x1c\\x0e\\x07\\xc2\\xe1p\\xd2\\x04\\xfdl\\xcf\\xeb)q^H8\\x1c\\x86\\xc7\\xe3\\x81\\xd9lF4\\x1aE{{\\xbbz\\x0e\\xa9\\xe6\\x8fh\\x8du||<\\xed*lJ\\x1d\\x92$\\xe1\\xb9\\xe7\\x9e\\xd3\\x14\\x8f\\xc2\\xeb\\xf5\\xc2l6C\\x92$\\xf4\\xf6\\xf6&\\r\\xb5L\\xac+\\xf6w\\x8f\\xc7\\x03I\\x92`6\\x9b\\xd5\\xa1\\x86\\xe9\\xce3\\xdb\\xe7@\\xcb\\xfbNU\\xc8\\xd0\\x1b%DD:\\x80A\\xc3\\x9fj\\x01\\n\\x18\\xce222\\x92rHQ\\xb1\\x14\\xe3x\\x85\\x9c\\x7f!\\xcau\\xf8\\x93,\\xcb\\xc2j\\xb5\\xaa\\xbf[,\\x96\\xb8\\xdf\\x13_/e\\xb8Y(\\x14R\\x87\\xfeY,\\x16\\xf5y\\x9b\\xcd\\xa6\\x0e\\xe1\\x8bD\"\\xea\\xd0>\\xad\\xcf\\xa7:\\'-\\x8fL\\xe7\\x17[&\\xf6\\xf7\\xb1\\xb11\\xe1\\xf3\\xf9\\xd4!v\\x89u\\xe5\\x1a\\xeb\\xc8\\xc8\\x88:D2\\x91\\xd5j\\x15>\\x9fOs<B\\xbc;LP\\x19\\x1a\\xe8t:\\xe3\\xce9[]B\\x88\\xa4\\xf7(\\xd5y*\\xdb3}\\x0e\\xb2\\xbd\\xefZq\\xf8SE\\xd9\\xc3N\\x05\\x11U<v*\\x8aG\\xeb\\xc5X\\xb51\\xfa\\xbc\\xcb\\xb1S\\xa1\\\\\\xa4\\xc6\\xce\\xf1\\x19\\x1b\\x1b\\x8b\\x9b\\xc3\\x92\\xf8z)\\xf3\\\\\\xd2=\\x9fX_(\\x14\\xca\\xe9\\xf9bH\\x15#\\x00\\x11\\x89D\\xb2\\x96\\xcb5V\\xa5\\xe3\\x11[\\xb7\\xd2!)4\\x1ee\\x9b\\xcdf\\xcbZ\\x97\\x96\\xf3Wh\\xf9\\x1cd{\\xdf\\xb5b\\xa7\\xa2\\xa2\\xec\\xe1\\xf0\\'\"\"JK\\xd4h\\xe6\\xdcZ=\\xefL\\x94d\\x8f\\xf5\\xf5\\xf5\\xea\\xb6\\x85\\x0b\\x17f\\x9c\\xbf\\x92-\\xb3\\xbc\\xc5bACC\\x03\\\\.\\x17\\xa2\\xd1(\\xea\\xeb\\xeb\\xe3^\\xefl\\xcf\\x97R\\xb6\\xac\\xeb\\xf9\\xc4\\xda\\xd2\\xd2\\x02\\x00\\xd8\\xbf\\x7f\\xbf\\xba\\xed\\xf0\\xe1\\xc3\\xea\\xf6\\\\\\xe2I\\x97x\\xb2\\xa3\\xa3#k]\\xb9\\xd0\\xf29\\xc8\\xf6\\xbeSub\\xa7\\x82\\x88\\x88\\x88\\xb2\\xcaw\\xa9\\xd8L\\x99\\xe5o\\xbf\\xfdv\\xc8\\xb2\\x8c\\xd6\\xd6V\\x98L\\xa6\\xa4\\x0b\\xd0l\\xcf\\'*V\\x16y-r\\x8d\\x15\\x98\\xce\\x0e/\\xcb\\xb2z\\xa1\\x0e\\x00\\x07\\x0f\\x1eDSSS\\xce\\xc7W:\\x15.\\x97\\x0b\\x00\\xd4\\xa5\\x95m6[\\xceue\\xa2\\xf5s\\x90\\xe9}\\xa7\\xea\\xc4N\\x05\\x11\\x11\\x11e\\xa5\\\\\\x1c\\xe6\\x92w$[f\\xf99s\\xe6\\xc0\\xedv\\xc3\\xe7\\xf3\\xc1b\\xb1\\xa0\\xa3\\xa3#\\xeeb<\\xdb\\xf3\\x89\\x12\\xef0\\xa5{\\x14C\\xae\\xb1*\\xd6\\xae]\\x0b\\x8f\\xc7\\x83\\xf1\\xf1q\\x04\\x83A,X\\xb0 \\xaf\\xe3755\\xc1\\xedv\\xe3\\xf8\\xf1\\xe3\\xea\\xe4h\\xa7\\xd3\\x89-[\\xb6\\xe4U_:Z>\\x07\\xd9\\xdew\\xaaN\\xecT\\x10\\x11%`f\\xe0\\xcaR\\xac\\xf8\\xab\\xe5s\\xa0\\x17\\xe5b\\xb2\\xbf\\xbf_\\xcdh\\x1e\\x0c\\x063f\"\\xcf\\x96Y^\\x92$D\\xa3Q455\\xa1\\xaf\\xaf\\x0f>\\x9f/n\\xb8N\\xb6\\xe7\\xcbI\\xbe\\xb1.[\\xb6\\x0c\\x00000\\x80C\\x87\\x0ea\\xc9\\x92%y\\x1d\\xdf\\xe3\\xf1`\\xc9\\x92%\\xd8\\xb2e\\x0b\\x84\\x10p\\xbb\\xddq\\xc9!\\xf5\\xa2\\xe5s\\x90\\xed}\\xa7\\xea\\xc4N\\x05\\x11Q\\x02f\\x06&\\x80\\x9f\\x83D7\\xdf|3dYF\\x7f\\x7f\\xbf\\x9a\\xd1\\xfd\\xbe\\xfb\\xee\\xc3\\xed\\xb7\\xdf\\x0e\\x00)3\\xc5g\\xca,\\xaf\\xb0\\xd9l\\xea\\x12\\xa6\\x17^xa\\xd2p\\x9dl\\xcf\\xeb)\\xf1\\x1c\\xd2-\\x83\\x9a\\xea\\\\\\x81\\xfcb\\xad\\xaf\\xaf\\x87\\xd5jE\\x7f\\x7f?\\x8e\\x1f?\\x1e7WBk<\\xc0t~\\x16\\xe5}\\x89}\\xb4\\xb7\\xb7\\'\\xed\\x9b\\xf8\\xbb\\xd29P\\xfeMUF\\xf99\\xdb\\xe7\\x00\\xd0\\xf6\\xbeS\\x15*\\xe5\\xb4p\"\\xa2b\\x003\\x03S\\x91\\x18\\xf59(\\xc7\\xd5\\x9f\\x84\\x10jvx\\xfc\\xdfR\\xa8\\xb1K\\xf8*\\xafU\\xeck\\x96)\\xb3\\xbc\\xb2O(\\x14\\x126\\x9b-i\\xa5\"-\\xcf\\xeb-\\xf1\\x1cb\\x1f\\xa9V\\xb9\\x8a=\\xd7BbU^\\xa7\\xc4%\\x91\\xb5\\xc6\\xa3\\xd4\\x11\\xbb\\x04l\\xec#S&\\xf9\\xc4s\\xc8VF\\x88\\xcc\\x9f\\x83\\xd8\\xf3I\\xf7\\xbek\\xc5\\xd5\\x9f*\\n3j\\x13Q\\xe5cf`*\\x16f\\xd4\\xa6J155\\x85Y\\xb3f%\\r9\\x9a\\x9a\\x9a\\xc2\\xdc\\xb9s+\\xf2\\xff2f\\xd4\\xae(\\xcc\\xa8MD\\xb5\\x89\\x99\\x81K\\x9b\\x1986C\\xaf\\xb2\\xddl6\\xc3\\xeb\\xf5f\\x8c/[<\\xf9f\\xfcMWF\\xcb\\xf0\\x8cl\\xfbe;\\x17\"\\xbd\\xb9\\\\.\\xcc\\x993\\'\\xe5\\x1c\\x86\\x86\\x86\\x068\\x9dN\\x03\\xa2\\xa2\\x9ac\\xe8\\x8d\\x12\"\"\\x1d \\x8fa\\x1c\\xcc\\x0c\\\\\\xda\\xcc\\xc0BL\\x0f\\x99\\x90eY8\\x9d\\xce\\xb8\\xfd\\x12\\x87m$f\\n\\xce\\x14O\\xbe\\x19\\x7f\\x952v\\xbb=.6Y\\x96\\xe3\\x92\\x8a\\xa5\\xab;\\xd3~\\x99\\xceE\\xabr\\x1d\\xfeD\\xe5I\\xf9L&\\x0e/\\x9a\\x9c\\x9cT?\\xab\\x95\\x88\\xc3\\x9f*\\n3j\\x13Q\\xe5\\xcb\\xf5\\xe2\\x88\\x99\\x81\\x8d\\xc9\\x0c\\xac\\xbc\\xee\\x89\\xc7V\\xcad\\x8a/\\xdbk\\x1b\\xfb\\xbb\\x96\\xf7W\\xe9\\xd0$\\x96\\x01\\xa0vzR\\xd5\\x9d\\xeb~\\x89\\xe7\\xa2\\x15;\\x15\\x94\\x8bH$\"\\x9cNg\\xdc\\xdc\\t\\xab\\xd5*FFF\\x8c\\x0e\\xad \\xecTT\\x14f\\xd4&\\xa2\\xda\\xc3\\xcc\\xc0\\xc6d\\x06V^\\xf7\\xc4\\xa1R===\\x19\\xe3\\xcb5\\x1e-\\xef\\xaf2F;\\xb6\\xcc\\xbcy\\xf3\\xe2\\xf6O%\\xd7\\xfd\\xb2\\xbd\\xd6Dz\\xa8\\xab\\xab\\xc3\\x9a5k\\xd0\\xd7\\xd7\\xa7\\xe6\\xe2\\xe8\\xee\\xeeV\\x97\\xab%*\\x05v*\\x88\\xa8\\xe603pf\\xc5\\xca\\x0c\\xac\\xbc\\xee\\xcaEO\\xecC\\xcfx\\xb4\\xbc\\xbf\\xfd\\xfd\\xfdI\\xdb\\x94\\x0e@\\xa6\\xfd\\xf3\\xdd\\x8f\\x88\\xa8\\xda\\xb1SAD5\\x87\\x99\\x813+vf\\xe0\\xd8u\\xeb\\x8b\\x11\\x8f\\x96\\xf7W)\\x93jb\\xb6\\xc5b\\xd1}?\"\\xa2j\\xc7N\\x05\\x11\\xd5\\x1cf\\x06\\xce\\xacX\\x99\\x81\\xedv;\\x00`ppP}\\xdd\\x95\\xd5\\xa0\\xf4\\x8cG\\xcb\\xfb\\xbbv\\xedZ\\x00\\xc0\\xd1\\xa3G\\xd5mJYe\\x19\\xcbT\\xf2\\xdd\\x8f\\x88\\xa8\\xda\\xb1SAD5\\x87\\x99\\x81\\xd3\\x97S\\xe8\\x9d\\x19\\x18\\x98~\\xdd\\x81\\xe99\\x14\\xca\\xeb\\xde\\xd0\\xd0\\x80U\\xabVe]\\xca5]<\\xf9f\\xfc\\xbd\\xe9\\xa6\\x9b \\xcb2\\xee\\xbd\\xf7^u\\xbf\\xfd\\xfb\\xf7\\xc3b\\xb1\\xa8\\x9d\\xa3Tu\\xe7\\xba\\x1f\\x11Q\\xad`\\xf2;\"\\xaax\\xf9$\\xf1\\n\\x87\\xc3\\xd8\\xb1c\\x07zzz`\\xb5Z\\xb1n\\xdd:uXS\\xe2\\\\\\x05!\\x04\\xfc~?\\x9a\\x9b\\x9ba\\xb5Z\\xb1i\\xd3&\\xec\\xd8\\xb1\\x03\\xaf\\xbd\\xf6\\x1a\\xee\\xba\\xeb.466B\\x92$\\x84B!\\x0c\\x0e\\x0e\\xa2\\xa3\\xa3\\x036\\x9b\\r[\\xb6l\\x89\\x8b1\\xd3\\xf3z\\xcb4\\xdfB\\x96eu\\xd2r\\xaas-$V\\xe5u\\x9a\\x9c\\x9cL9L,\\x18\\x0c\\xc2\\xe1p\\xa0\\xa7\\xa7\\x07\\x16\\x8b%\\xee\\xf5K\\x15\\x9f\\x12c\\xbaxR\\xc5\\x0fd~\\x7f\\x15\\xe1p\\x18\\xfb\\xf6\\xedC[[\\x1b\\x00\\xc0\\xe9t\\xe2\\xa6\\x9bnR;C\\x99\\xea\\xd6\\xba_\\xe2\\xb9hU\\xaa\\xe4w\\x9b7o\\xc6\\xa2E\\x8b\\x8av\\x0c\\xa2Bl\\xdf\\xbe\\x1dW\\\\q\\x05\\x93\\xdfU\\x86av*\\x88\\xa8\\xe2130U\\x9bRu*\\x88\\xca]KK\\x0b;\\x15\\x95ax\\x86\\xd1\\x11\\x10\\x11\\x11Q\\xe9\\xf1;E\"\\xd2\\x13\\xe7T\\x10\\x11\\x11\\x11\\x11QA\\xd8\\xa9 \"\"\"\"\\xa2\\x82\\xb0SADDDDD\\x05a\\xa7\\x82\\x88\\x88\\x88\\x88\\x88\\n\\xc2N\\x05\\x11\\x11\\x11\\x11\\x11\\x15\\x84\\x9d\\n\"\"\"\"\"*\\x08;\\x15DDDDDT\\x10\\xe6\\xa9 \\xa2\\xaa066ft\\x08D\\xbay\\xf9\\xe5\\x97q\\xc5\\x15W\\x18\\x1d\\x06\\x11\\x91f\\xcc\\xa8MD\\x15\\x8f\\x99\\x81\\xa9\\x1a1\\x930\\x11U\\x10f\\xd4&\\xa2\\xcaW\\x8d\\xdf\\x8d\\x9c9s\\x06\\xff\\xf0\\x0f\\xff\\x807\\xdf|\\x13\\xcf>\\xfb,f\\xce\\x9citHe\\xe7W\\xbf\\xfa\\x15\\xae\\xbb\\xee:|\\xfb\\xdb\\xdf\\xc6\\xe6\\xcd\\x9b\\x8d\\x0e\\x87\\x88\\xa8\\xa6qN\\x05\\x11Q\\x19\\xda\\xb1c\\x07\\xc6\\xc6\\xc6\\xf0\\xf0\\xc3\\x0f\\xb3C\\x91\\xc6G>\\xf2\\x11\\xdcu\\xd7]\\xf8\\xfa\\xd7\\xbf\\x8e\\xdf\\xfd\\xeewF\\x87CDT\\xd38\\xfc\\x89\\x88\\xa8\\xcc\\x1c;v\\x0c\\xd7\\\\s\\r\\xee\\xb8\\xe3\\x0e|\\xf3\\x9b\\xdf4:\\x9c\\xb2v\\xea\\xd4),X\\xb0\\x00\\x17\\\\p\\x01\\x0e\\x1e<\\xc8\\xa1pDD\\xc6\\x18f\\xa7\\x82\\x88\\xa8\\x8c\\x08!\\xb0b\\xc5\\n\\xbc\\xfc\\xf2\\xcbx\\xfe\\xf9\\xe71k\\xd6,\\xa3C*{>\\x9f\\x0f\\x0b\\x16,\\xc0\\x03\\x0f<\\x80/\\x7f\\xf9\\xcbF\\x87CDT\\x8b\\x869\\xfc\\x89\\x88\\xa8\\x8c\\xec\\xdc\\xb9\\x13^\\xaf\\x17\\x03\\x03\\x03\\xecPh\\xd4\\xdc\\xdc\\x8c\\x8e\\x8e\\x0e\\xdcy\\xe7\\x9d8z\\xf4\\xa8\\xd1\\xe1\\x10\\x11\\xd5$\\xde\\xa9 \"*\\x13\\xc7\\x8f\\x1f\\xc7\\xfc\\xf9\\xf3\\xf1\\xa5/}\\t\\xdb\\xb6m3:\\x9c\\x8a\\xf2\\xf6\\xdbo\\xe3c\\x1f\\xfb\\x18\\x1a\\x1a\\x1ap\\xe0\\xc0\\x01\\x0e\\x83\"\"*-\\x0e\\x7f\"\"*\\x177\\xddt\\x13~\\xff\\xfb\\xdf\\xe3\\x97\\xbf\\xfc%\\xce=\\xf7\\\\\\xa3\\xc3\\xa98\\xcf<\\xf3\\x0c\\x16/^\\x8c\\x9d;w\\xe2\\x8b_\\xfc\\xa2\\xd1\\xe1\\x10\\x11\\xd5\\x12\\x0e\\x7f\"\"*\\x07?\\xfc\\xe1\\x0f\\xf1\\xf3\\x9f\\xff\\x1c\\xbbv\\xedb\\x87\"O\\x9f\\xf8\\xc4\\'\\xf0\\xd5\\xaf~\\x15w\\xdcq\\x07\\xfe\\xf0\\x87?\\x18\\x1d\\x0e\\x11QM\\xe1\\x9d\\n\"\"\\x83\\xfd\\xcf\\xff\\xfc\\x0f\\xae\\xbe\\xfaj|\\xfe\\xf3\\x9f\\xc7w\\xbf\\xfb]\\xa3\\xc3\\xa9h\\'O\\x9eDSS\\x13>\\xf4\\xa1\\x0f\\xe1\\xb1\\xc7\\x1e3:\\x1c\"\\xa2Z\\xc1;\\x15DDF\\xfb\\xf2\\x97\\xbf\\x0c\\x93\\xc9\\x84{\\xee\\xb9\\xc7\\xe8P*\\xde\\xb9\\xe7\\x9e\\x8bG\\x1ey\\x04\\xff\\xf9\\x9f\\xff\\x89\\xc1\\xc1A\\xa3\\xc3!\"\\xaa\\x19\\xecT\\x10\\x11\\x19\\xe8\\xd1G\\x1f\\xc5\\xbe}\\xfb`\\xb7\\xdb\\xf1\\xde\\xf7\\xbe\\xd7\\xe8p\\xaa\\xc2\\xf5\\xd7_\\x8f\\xf6\\xf6v|\\xe5+_\\xc1\\xf1\\xe3\\xc7\\x8d\\x0e\\x87\\x88\\xa8&p\\xf8\\x13\\x11\\x91A^{\\xed5\\\\u\\xd5UX\\xb5j\\x15\\x1ez\\xe8!\\xa3\\xc3\\xa9*\\x7f\\xf9\\xcb_\\xd0\\xd4\\xd4\\x84\\xab\\xae\\xba\\nn\\xb7\\xdb\\xe8p\\x88\\x88\\xaa\\x1d\\x87?\\x11\\x11\\x19\\xa5\\xbd\\xbd\\x1d\\xe7\\x9dw\\x1e\\x97\\x8f-\\x82\\xf3\\xcf?\\x1fv\\xbb\\x1d?\\xfd\\xe9O\\xb1g\\xcf\\x1e\\xa3\\xc3!\"\\xaaz\\xecT\\x10\\x11\\x19`xx\\x18{\\xf7\\xee\\xc5\\xce\\x9d;\\xf1\\xbe\\xf7\\xbd\\xcf\\xe8p\\xaa\\xd2\\xb2e\\xcb\\xb0~\\xfdz\\xfc\\xeb\\xbf\\xfe+\\xc2\\xe1\\xb0\\xd1\\xe1\\x10\\x11U5\\x0e\\x7f\"\"*\\xb1\\xd7_\\x7f\\x1dW_}5\\xfe\\xf9\\x9f\\xff\\x19\\xbbv\\xed2:\\x9c\\xaa\\xf6\\xe6\\x9bob\\xfe\\xfc\\xf9X\\xbcx1\\x9cN\\xa7\\xd1\\xe1\\x10\\x11U+\\x0e\\x7f\"\"*\\xb5\\xaf|\\xe5+x\\xcf{\\xde\\x83\\xfb\\xef\\xbf\\xdf\\xe8P\\xaa\\xde\\x05\\x17\\\\\\x80\\x9d;w\\xc2\\xe5r\\xe1\\xc7?\\xfe\\xb1\\xd1\\xe1\\x10\\x11U-\\xde\\xa9 \"*\\xa1\\x9f\\xfe\\xf4\\xa7\\x90e\\x19\\xff\\xf1\\x1f\\xff\\x81O\\x7f\\xfa\\xd3F\\x87S3>\\xf7\\xb9\\xcf\\xe1\\xe7?\\xff9\\x8e\\x1c9\\x82\\xf7\\xbf\\xff\\xfdF\\x87CDTm\\x86\\xd9\\xa9 \"*\\x91h4\\x8a\\xf9\\xf3\\xe7\\xe3\\x93\\x9f\\xfc$~\\xf4\\xa3\\x1f\\x19\\x1dNM\\x89F\\xa3\\xb8\\xfa\\xea\\xabq\\xc3\\r7\\xe0\\x91G\\x1e1:\\x1c\"\\xa2j\\xc3\\xe1ODD\\xa5\\xb2y\\xf3f\\xbc\\xfd\\xf6\\xdb\\xe8\\xed\\xed5:\\x94\\x9aSWW\\x87\\xbe\\xbe>\\x0c\\x0c\\x0c`\\xdf\\xbe}F\\x87CDTux\\xa7\\x82\\x88\\xa8\\x04FFFp\\xe3\\x8d7bxx\\x18\\xb7\\xdcr\\x8b\\xd1\\xe1\\xd4\\xac\\xd6\\xd6V<\\xf9\\xe4\\x938r\\xe4\\x08L&\\x93\\xd1\\xe1\\x10\\x11U\\x0b\\x0e\\x7f\"\"*\\xb67\\xdf|\\x13\\xd7\\\\s\\r\\x16.\\\\\\x88\\xa1\\xa1!\\xa3\\xc3\\xa9i\\xaf\\xbd\\xf6\\x1a\\xe6\\xcf\\x9f\\x0f\\xb3\\xd9\\x0c\\xbb\\xddnt8DD\\xd5\\x82\\xc3\\x9f\\x88\\x88\\x8a\\xed\\xce;\\xef\\xc4_\\xfe\\xf2\\x17|\\xff\\xfb\\xdf7:\\x94\\x9aw\\xd1E\\x17\\xe1{\\xdf\\xfb\\x1ev\\xed\\xda\\x85\\x9f\\xff\\xfc\\xe7F\\x87CDT5x\\xa7\\x82\\x88\\xa8\\x88\\x0e\\x1e<\\x88\\xe5\\xcb\\x97c\\xf7\\xee\\xddX\\xb3f\\x8d\\xd1\\xe1\\xd0\\xffiii\\xc1s\\xcf=\\x87\\x17^x\\x81\\xc9\\x07\\x89\\x88\\n\\xc7\\xe1ODD\\xc5r\\xe2\\xc4\\t|\\xe4#\\x1f\\xc1\\xbcy\\xf3\\xe0\\xf1x\\x8c\\x0e\\x87b\\xfc\\xf1\\x8f\\x7f\\xc4\\xd5W_\\x8d[o\\xbd\\x15;v\\xec0:\\x1c\"\\xa2J\\xc7\\xe1ODD\\xc5\\xb2u\\xebV\\xbc\\xf6\\xdak\\xe8\\xef\\xef7:\\x14Jp\\xf1\\xc5\\x17\\xa3\\xb7\\xb7\\x17?\\xf8\\xc1\\x0f0::jt8DD\\x15\\x8fw*\\x88\\x88\\x8a`ll\\x0c\\x7f\\xf7w\\x7f\\x87\\x1f\\xfe\\xf0\\x87\\xf8\\xdc\\xe7>gt8\\x94\\xc6\\xa7?\\xfdi\\xfc\\xeaW\\xbf\\xc2\\x0b/\\xbc\\x80\\xf3\\xcf?\\xdf\\xe8p\\x88\\x88*\\x15\\x87?\\x11\\x11\\xe9\\xed\\xed\\xb7\\xdf\\xc6G?\\xfaQ|\\xe0\\x03\\x1f\\xc0\\xe3\\x8f?nt8\\x94\\xc1+\\xaf\\xbc\\x82\\xf9\\xf3\\xe7\\xe3\\xb6\\xdbn\\x83\\xcdf3:\\x1c\"\\xa2J\\xc5\\xe1ODDz\\xb3Z\\xad8~\\xfc8v\\xee\\xdcit(\\x94\\xc5e\\x97]\\x86\\xef|\\xe7;\\xd8\\xbe};\\x9e~\\xfai\\xa3\\xc3!\"\\xaaX\\xbcSAD\\xa4\\xa3\\x89\\x89\\t\\\\\\x7f\\xfd\\xf5\\xe8\\xeb\\xeb\\xc3\\x86\\r\\x1b\\x8c\\x0e\\x874\\x10B\\xe0\\xa6\\x9bn\\xc2\\xb1c\\xc7\\xe0\\xf3\\xf90k\\xd6,\\xa3C\"\"\\xaa4\\x1c\\xfeDD\\xa4\\x97\\xb7\\xdf~\\x1b\\x1f\\xff\\xf8\\xc7q\\xf1\\xc5\\x17cdd\\x04\\x92$\\x19\\x1d\\x12i\\x14\\x08\\x04p\\xcd5\\xd7`\\xe3\\xc6\\x8d\\xb8\\xf7\\xde{\\x8d\\x0e\\x87\\x88\\xa8\\xd2p\\xf8\\x13\\x11\\x91^\\xba\\xbb\\xbb\\xf1\\xfb\\xdf\\xff\\x1e\\x0e\\x87\\x83\\x1d\\x8a\\n3{\\xf6ll\\xdb\\xb6\\r\\xf7\\xdf\\x7f?\\x9e{\\xee9\\xa3\\xc3!\"\\xaa8\\xbcSAD\\xa4\\x03\\xbf\\xdf\\x8f\\xeb\\xae\\xbb\\x0e\\xdf\\xfd\\xeew\\xb1q\\xe3F\\xa3\\xc3\\xa1<\\x08!\\xf0\\x8f\\xff\\xf8\\x8f\\x08\\x87\\xc3x\\xf6\\xd9gq\\xf6\\xd9g\\x1b\\x1d\\x12\\x11Q\\xa5\\xe0\\x9d\\n\"\\xa2\\\\<\\xff\\xfc\\xf3I\\xdbN\\x9d:\\x85\\xdbn\\xbb\\r\\xd7]w\\x1d\\xbe\\xfc\\xe5/\\x1b\\x10\\x15\\xe9A\\x92$\\xd8\\xedv\\x1c=z4\\xe5\\x10\\xa8\\xb7\\xdf~\\x1b\\xbf\\xfe\\xf5\\xaf\\r\\x88\\x8c\\x88\\xa8\\xfc\\xb1SAD\\xa4\\xd1\\xc9\\x93\\'\\xb1h\\xd1\"\\xac]\\xbb\\x16\\xaf\\xbf\\xfe\\xba\\xba\\xfd\\xde{\\xef\\xc5\\x8b/\\xbe\\x88G\\x1ey\\x04\\xefy\\x0f\\xff[\\xadd\\x7f\\xfb\\xb7\\x7f\\x8b{\\xee\\xb9\\x07\\xdf\\xfa\\xd6\\xb7\\xe2:\\x90\\xcf<\\xf3\\x0c\\xae\\xb9\\xe6\\x1a|\\xe3\\x1b\\xdf00:\"\\xa2\\xf2\\xc5\\xe1ODD\\x1a\\x1d<x\\x10\\xcb\\x96-\\xc3\\x8c\\x193p\\xc1\\x05\\x17\\xc0n\\xb7\\xe3\\xaa\\xab\\xae\\xc2G?\\xfaQ\\xdc{\\xef\\xbd\\xb8\\xe3\\x8e;\\x8c\\x0e\\x91tp\\xe6\\xcc\\x19,]\\xba\\x14\\x7f\\xfe\\xf3\\x9f1::\\x8a{\\xee\\xb9\\x07\\xdb\\xb7o\\x87\\x10\\x02\\x17\\\\p\\x01\\xdex\\xe3\\r\\xce\\x99!\"\\x8a\\xc7\\xd5\\x9f\\x88\\x88\\xb4\\xea\\xea\\xea\\xc2\\xb6m\\xdb\\xf0\\xce;\\xef\\xe0=\\xefy\\x0f\\xce\\x9c9\\x83\\x0f~\\xf0\\x83\\xa8\\xab\\xab\\xc3\\xc4\\xc4\\x04\\xce:\\xeb,\\xa3C$\\x9d\\xfc\\xe67\\xbf\\xc1\\x82\\x05\\x0bp\\xc1\\x05\\x17 \\x14\\n\\xe1\\xd4\\xa9S\\xeas/\\xbc\\xf0\\x02\\xe6\\xcf\\x9fo`tDDe\\x87s*\\x88\\x88\\xb4\\xfa\\xc5/~\\x81\\xbf\\xfe\\xf5\\xaf\\x00\\xa6\\xbf\\xcd\\x06\\xa6\\x97\"\\x9d\\x9c\\x9c\\xc4\\xc3\\x0f?ldh\\xa4\\xa3\\x93\\'O\\xe2\\x91G\\x1e\\xc1_\\xfe\\xf2\\x17\\xbc\\xfa\\xea\\xabq\\x1d\\x8a\\x193f\\xe0\\x89\\'\\x9e0.8\"\\xa22\\xc5N\\x05\\x11\\x91\\x06\\'O\\x9e\\xc4s\\xcf=\\x87\\xc4\\x9b\\xbb\\xa7N\\x9d\\xc2\\x89\\x13\\'`\\xb1X\\xf0O\\xff\\xf4Ox\\xf9\\xe5\\x97\\r\\x8a\\x90\\xf4\\xf0\\xd4SO\\xe1\\xaa\\xab\\xaeBoo/\\xce\\x9c9\\x83\\xd3\\xa7O\\xc7=/\\x84\\x80\\xd7\\xeb5(:\"\\xa2\\xf2\\xc5N\\x05\\x11\\x91\\x06ccc\\xea]\\x8aDB\\x08\\x08!\\xf0\\x8b_\\xfc\\x02\\xf3\\xe7\\xcf\\xc7\\xe8\\xe8h\\x89\\xa3#=X\\xadV,]\\xba\\x14\\xc1`0\\xee\\xeeD\\xac\\xd3\\xa7O\\xc3\\xeb\\xf5&u.\\x89\\x88j\\x1d;\\x15DD\\x1a<\\xf1\\xc4\\x13\\x19\\xf3\\x16(s,6l\\xd8\\x80\\xc5\\x8b\\x17\\x9702\\xd2\\xcb\\x97\\xbe\\xf4%|\\xfc\\xe3\\x1f\\xcf:\\t;\\x1a\\x8driY\"\\xa2\\x04\\xecT\\x10\\x11i\\x10;\\x9f\"\\xd1\\x8c\\x1930k\\xd6,\\x0c\\x0f\\x0f\\xe3\\xfe\\xfb\\xef\\xc7\\x8c\\x193J\\x1c\\x1d\\xe9\\xe1\\xff\\xfd\\xbf\\xff\\x87C\\x87\\x0e\\xa1\\xa3\\xa3\\x03\\x92$\\xa5]\\x1e\\x98\\xf3*\\x88\\x88\\x92\\xb1SAD\\x94\\xc5\\xc9\\x93\\'q\\xf8\\xf0\\xe1\\x94C^f\\xcc\\x98\\x81\\x0f\\x7f\\xf8\\xc3\\xf8\\xd5\\xaf~\\x85\\x96\\x96\\x16\\x03\\xa2#=\\xcd\\x981\\x03\\xdb\\xb6m\\xc3O~\\xf2\\x13\\x9cw\\xdey\\x989sfR\\x19!\\x04\\x0e\\x1e<h@tDD\\xe5\\x8b\\x9d\\n\"\\xa2,\\x0e\\x1d:\\x94\\xf6.\\xc5\\x9a5k011\\x81\\x0f~\\xf0\\x83%\\x8e\\x8a\\x8a\\xc9l6\\xe3\\x97\\xbf\\xfc%\\xe6\\xcc\\x99\\x93t\\xe7\\xe9\\xf4\\xe9\\xd3\\x18\\x19\\x19QW\\x00#\"\"v*\\x88\\x88\\xb2J\\x9cO1c\\xc6\\x0c\\x9c}\\xf6\\xd9x\\xf8\\xe1\\x87188\\x88s\\xcf=\\xd7\\xc0\\xe8\\xa8X\\xae\\xbc\\xf2J<\\xf7\\xdcshoo\\x07\\x80\\xb8\\xb9\\x16o\\xbe\\xf9&\\x8e\\x1c9bThDDe\\x87\\x9d\\n\"\\xa2,\\x0e\\x1c8\\xa0\\xde\\xa9\\x989s&\\x1a\\x1b\\x1b\\xf1\\xdcs\\xcf\\xe1\\xb6\\xdbn382*\\xb6Y\\xb3f\\xe1\\xfb\\xdf\\xff>~\\xf4\\xa3\\x1f\\xe1\\x9cs\\xceQ\\xefZp^\\x05\\x11Q<v*\\x88\\x8828q\\xe2\\x84\\x9a\\x9fB\\x92$\\xdcr\\xcb-\\xf0\\xfb\\xfd\\xb8\\xe6\\x9ak\\x8c\\x0e\\x8dJh\\xdd\\xbau\\x98\\x98\\x98\\xc0\\xec\\xd9\\xb31s\\xe6LuiY\"\"\\x9a&\\t.\\xb6M\\xa4\\xc9\\xd8\\xd8\\x18\\xfe\\xf0\\x87?\\x18\\x1d\\x06\\x95\\xd8\\x0b/\\xbc\\x80\\x9e\\x9e\\x1e\\x9cu\\xd6Y\\xf8\\xc2\\x17\\xbe\\x80\\x1bo\\xbc\\xd1\\xe8\\x90t\\xb7z\\xf5\\xea\\xa2\\xd4\\xfb\\xf2\\xcb/\\xe3\\xd0\\xa1CE\\xa9\\xdb(\\'O\\x9eD__\\x1f\\x9ey\\xe6\\x19\\x9cw\\xdey\\xf8\\xe1\\x0f\\x7f\\x98u\\tZ\\xaa>\\xd7_\\x7f=\\xae\\xb8\\xe2\\n\\xa3\\xc3 *\\'\\xc3\\xecT\\x10i\\xb4j\\xd5*\\xec\\xdd\\xbb\\xd7\\xe80\\x88tW\\xac?\\x03{\\xf6\\xec\\xc1\\xad\\xb7\\xdeZ\\x94\\xba\\x89\\x8c444T\\xb4\\xce8Q\\x85\\x1a\\xe6b\\xeaD9hii\\xc1\\xf0\\xf0\\xb0\\xd1aP\\t\\xdd\\x7f\\xff\\xfdX\\xbf~=.\\xbc\\xf0B\\xa3C\\xd1]\\xa9.\\xfa\\xab\\xf5\\xbb\\xabg\\x9ey\\x06\\xaf\\xbe\\xfa*n\\xbe\\xf9f\\xa3C\\xa1\\x12\\xe2\\x9d)\\xa2\\xd4\\xd8\\xa9 \"\\xca\\xe0k_\\xfb\\x9a\\xd1!P\\x99\\xfa\\xc4\\'>at\\x08DDe\\x83\\x13\\xb5\\x89\\x88\\x88\\x88\\x88\\xa8 \\xecT\\x10\\x11\\x11\\x11\\x11QA\\xd8\\xa9 \"\"\"\"\\xa2\\x82\\xb0SADDDDD\\x05a\\xa7\\x82\\x88\\x88\\x88\\x88\\x88\\n\\xc2N\\x05Q\\x8d\\t\\x87\\xc3p\\xb9\\\\0\\x9b\\xcd\\xba\\xd7\\xdd\\xd9\\xd9\\x89\\xce\\xce\\xce\\x82\\x8f_\\xcc\\x18\\x89\\n\\xc56DD\\x94\\x8cK\\xca\\x12U\\xb8h4\\n\\x93\\xc9\\xa49\\x17@WW\\x17\\xfa\\xfb\\xfb\\x8b\\x1cUn\\xc7O<\\x07\\xa3c\\xd4*\\x1a\\x8d\\xe2\\xc5\\x17_\\xc4\\x0b/\\xbc\\x00\\x8f\\xc7\\x03\\xb7\\xdb\\x9ds\\x1d~\\xbf\\x1f\\x13\\x13\\x13\\xf0x<\\xf0x<q\\xef\\xa3\\xdf\\xefGss\\xb3\\xfa\\xbb\\xc5bA__\\x9f.\\xb1\\xd3\\xbb\\xd8\\x86\\x8cS\\xec6DD\\xa5\\xc3;\\x15D\\x15\\xee\\xc9\\'\\x9f\\xcc\\xa9|1/J\\xbb\\xbb\\xbb\\xd1\\xdd\\xdd\\x9d\\xf3\\xf1\\x13\\xcf\\xa1X1\\xfa\\xfd\\xfe\\xac\\xdf\\x02\\xe7\\xc2f\\xb3\\xe1\\xb1\\xc7\\x1eC[[\\x1b<\\x1eO\\xce\\xfb\\xf7\\xf6\\xf6\\xa2\\xb3\\xb3\\x13\\x97\\\\r\\t\\x1e|\\xf0\\xc1\\xa4\\x8b\\xa1\\x89\\x89\\x89\\xb8\\xdfW\\xae\\\\YP\\xbc\\x94\\x1a\\xdb\\x90v\\x95\\xd6\\x86\\x88\\xa8tx\\xa7\\x82\\xa8\\x82E\\xa3Q8\\x1c\\x0e\\xa3\\xc3(H\\xb1\\xcf!\\x1c\\x0e\\xc3\\xeb\\xf5btt\\x14K\\x97.\\xc5\\xa6M\\x9bt\\xab[\\xb9\\xf8\\xeb\\xe9\\xe9\\xc9y\\xdf\\xf6\\xf6v\\\\t\\xd1E\\x18\\x1c\\x1cD]]]\\xca2\\x97\\\\r\\t/\\x92\\x8a\\x8cm(\\xbbJnCDT:\\xbcSAd\\x80p8\\x0c\\x8f\\xc7\\xa3\\x8ewv8\\x1c\\x90$\\t\\xed\\xed\\xed\\x98\\x9a\\x9aJY\\xbe\\xb7\\xb7\\x17\\x92$\\xc1l6\\xc3\\xeb\\xf5\\x02\\x98\\xfe\\x96O\\xf9vO\\x92$H\\x92\\x04\\xe0\\xdd\\x8b\\x0ce[gg\\'\\xc2\\xe1\\xb0\\xa6\\xd8\\x82\\xc1\\xa0\\xba\\x9f$I\\xe8\\xed\\xedM\\xda\\xa6\\x1cG\\x89I\\x92$<\\xf7\\xdcs)\\xc7pG\\xa3Q\\xb8\\\\.5\\xf6\\xc4\\xf3Kw\\x0e\\xb1<\\x1e\\x8f\\xfa\\xfah=\\x0f\\xe5\\x1b\\xd5\\x1d;v`\\xde\\xbcy\\xe8\\xeb\\xeb\\xc3\\x9a5kP__\\xafi\\xffbR\\xbe\\xe9\\xed\\xee\\xeeN{1\\x14\\x0c\\x06a6\\x9b\\xd1\\xd9\\xd9\\x89\\xf1\\xf1\\xf1R\\x86W\\x11\\xd8\\x86\\xde\\xc56\\xc4\\x0e\\x05QY\\x10D\\xa4IKK\\x8bhii\\xd1\\xa5.\\x00\\xeacllL\\x08!D$\\x12\\x11\\x16\\x8bE\\x00\\x10\\x93\\x93\\x93j\\xd9P($dY\\x16N\\xa7S\\x08!\\xc4\\xc8\\xc8\\x88\\x00 |>_\\\\]\\xb1\\x94zB\\xa1\\x90\\x08\\x04\\x02\\x02\\x80\\xb0X,I\\xc7OG\\xd9\\'\\xb1\\x8c,\\xcbj\\xbd\\xb1u)1\\xa6\\xdb\\xc7b\\xb1\\x88H$\"\\x84\\x10\\xc2\\xe9t&\\x95K\\xb5_\\xe2\\xeb399\\x99t\\x1e\\x89B\\xa1\\x90p:\\x9d\\xc2b\\xb1\\x08\\xa7\\xd3\\x19\\x17g\\xa2\\xd8\\xf7 \\xd3C\\x8b\\\\\\xca\\xfa|>\\x01@\\xb8\\xddna\\xb7\\xdb\\x05\\x00!\\xcb\\xb2\\x18\\x19\\x19\\x89+\\xe7v\\xbb\\xe3\\xe2\\x90e9\\xe3\\xf9\\xe4chhHs\\xdc\\xe5V?\\xdb\\x10\\xdbP\\xb66T,\\x00\\xc4\\xd0\\xd0PI\\x8eETA\\xf6\\xb0SA\\xa4\\x91\\x9e\\x9d\\n!R\\xff\\x11U\\xfeX\\xdal6u\\x9br\\x01\\x91\\xb8\\xaf\\xd5jM[\\x8f\\xd5j\\xcdx\\x01\\xa4\\xe5\\x0f\\xb8\\xf2\\xc7Z\\xb9\\xf0\\x12\\xe2\\xdd\\x0b\\xa2\\xd8\\x8b\\x94\\xd8X\\x13\\xebU.\\x8cc/\\xf0\"\\x91HN\\x17D\\xd9\\xb6%>o\\xb3\\xd9\\xd4\\x8b\\xafR\\xc9\\xe5\\x82\\xc8f\\xb3\\xc5\\xbd\\xae\\xb1\\x17\\xc2\\xca\\xeb\\xaa\\x88D\"\\xc2\\xe7\\xf3\\t\\xab\\xd5*\\x00\\x08\\xbb\\xdd\\xaek\\xdc\\x95\\xdc\\xa9\\x10\\x82m\\x88m({\\x1b*\\x06v*\\x88R\\xda\\xc3\\xe1ODe\\xa4\\xa9\\xa9\\t\\x00\\xd0\\xd1\\xd1\\xa1n\\xdb\\xbd{7\\x00$\\r\\x9b\\xc84\\x06\\xb9\\xbb\\xbb\\x1b}}}\\x08\\x06\\x83\\xe8\\xed\\xed\\xcd+\\x96\\xa5K\\x97\\x02\\x00\\x0e\\x1c8\\x00\\x00\\x98\\x9a\\x9a\\xc2\\xe5\\x97_\\x0e\\x00x\\xec\\xb1\\xc7\\x00\\x00\\x93\\x93\\x93X\\xbcxq\\xda:\\x1e\\x7f\\xfcq\\x00\\xc0\\x9c9s\\xd4m\\xc5\\x1c\\xaa\\x10\\n\\x85p\\xf9\\xe5\\x97c\\xeb\\xd6\\xadp\\xb9\\\\\\x9a\\x87y\\x94\\x92\\xf2\\xde*\\xefu]]\\x1d,\\x16\\x0b\\x00``` \\xael]]\\x1d\\x9a\\x9a\\x9a\\xd0\\xdd\\xdd\\r\\xbb\\xdd\\x9e\\xd7D\\xd6Z\\xc36T\\x98jkCDTBFwk\\x88*E)\\xeeT\\xa4\\xda\\x9e\\xae\\\\\\xb6\\xe7\\xedv\\xbb\\x90eY\\x1d\\xf2\\x90K\\x9d\\n\\xe5\\xdb\\xbfH$\"\\x9cN\\xa7\\xf0\\xf9|q\\xdb,\\x16K\\xd20\\x0e-\\xc7\\xd1RN\\xeb\\xb6t\\x94o\\xf8\\xadVk\\xdc7\\xc5\\x89ue{h\\xa1G\\xd9lu(\\xdfN\\xeb\\xa9\\x1a\\xefT\\xa4\\xda\\xce6\\x94\\xfd\\\\S\\xa9\\xb66\\xa4\\x17\\xf0N\\x05Q*\\xbcSAT\\x8e\\x94o\\xddb\\xa5\\x9a|\\x9a\\x8e\\xcb\\xe5B[[\\x1b\\x1e|\\xf0\\xc1\\xb8o8s\\xa5,az\\xf8\\xf0a\\xec\\xde\\xbd\\x1bMMM\\xea\\xb6\\xfd\\xfb\\xf7\\x03@YL\\xdaLE\\xf9\\x86\\x7f\\xd3\\xa6Mx\\xf1\\xc5\\x17\\xd1\\xde\\xde\\x1e\\xf7\\xcd\\xab\\x10B\\xd3Co\\xca{\\x1b\\x8dF\\x93\\x9e\\x93e9\\xed~\\xb1\\xdf\\xc6RvlC\\x85\\xab\\xb66DD\\xc5\\xc5N\\x05Q\\x19Q.zb\\xf3\\x11\\xd8\\xedv\\x00\\xc0\\xe0\\xe0\\xa0\\xfaGTY\\xc9&\\x9d\\xd6\\xd6V\\x00@cccA\\xf1,Y\\xb2\\x04\\x00\\xb0|\\xf9r\\xf5\\x8f\\xb5\\xb2\\xad\\xb5\\xb5U\\x1d\\xde\\x91\\x8e\\x12\\xbb\\xdf\\xef/(\\x8eB\\xd4\\xd7\\xd7c\\xcd\\x9a5\\rZ\\x7fG\\x00\\x00 \\x00IDAT\\xe8\\xeb\\xeb\\xc3\\xbcy\\xf3\\xb0c\\xc7\\x0e\\xc3b\\x01\\x80U\\xabV\\x01\\x00\\x8e\\x1d;\\xa6nS\\xde\\xd7\\xb5k\\xd7\\xa6\\xdd/\\x1a\\x8d\\xaa\\xfbRzlC\\xfa\\xab\\x966DDEV\\xda;#D\\x95\\xabX\\xc3\\x9f\\x94\\x15i\"\\x91\\x88\\xb0Z\\xadB\\x96\\xe5\\xb8r\\xa1P(\\xe5\\x90\\x82@  \\x84\\x88_MF\\x99\\xf0\\xa9l\\x0b\\x04\\x02qC7B\\xa1P\\\\}ZV\\x13J\\x9c\\x14)\\x84P\\'\\x0e\\'\\xae\\xb0\\x93X\\xaf\\xb2\\x02\\x8e,\\xcbj\\xbc\\xca\\xca;\\xc0\\xbb\\xab\\xd0$\\x9eC\\xaa\\xbab\\'\\xa7\\xea\\xbd\\nR!b\\xe3J5\\xb9U\\x19>\\x92\\xb8-v5\\'e\\x98\\x8d\\xc2\\xe9t\\xc6\\xadd\\x13\\x08\\x04\\x84\\xdb\\xed\\xd6=\\xf6j\\x19\\xfe\\xc46\\xc46\\x94\\xd8\\x86\\x8a\\t\\x1c\\xfeD\\x94\\n\\x87?\\x11\\x19m\\xde\\xbcy0\\x9b\\xcd0\\x99Lhll\\xc4\\xe0\\xe0`\\xdc\\xf3\\xf5\\xf5\\xf5\\x08\\x04\\x02\\xb0Z\\xad\\x00\\xa6o\\xfd\\x07\\x02\\x01\\xf5\\x1bT%y\\xd4\\x8e\\x1d;\\xb0n\\xdd\\xba\\xb8m\\x0e\\x87\\x03&\\x93\\tV\\xab\\x15\\x16\\x8b\\x05o\\xbd\\xf5\\x16\\x1a\\x1a\\x1a\\xd4\\xbac\\x7fN\\xe7\\x86\\x1bn\\x80,\\xcb\\xea\\xa4H\\x00\\xf8\\xd4\\xa7>\\x05 ~\\xf2h\\xaaz\\x1b\\x1b\\x1b\\x11\\x08\\x04p\\xf9\\xe5\\x97c\\xf6\\xec\\xd9hoo\\xc7\\xfc\\xf9\\xf3!\\xcb2\\x9cN\\'\\xbe\\xf9\\xcdo\\xa6<\\x87Tu\\x99L\\xa6\\x9c\\xe2.\\x05I\\x92\\xe2\\xe22\\x99L)s\\x04$\\xea\\xee\\xee\\x86,\\xcbhhhP\\xcb\\xc7\\xbe\\xef\\xe7\\x9f\\x7f>\\x96/_\\xae\\xe6Gx\\xe3\\x8d78\\xac#\\x03\\xb6!\\xb6!\\x00I\\xef;\\x11\\x95\\x96$\\x04\\xd3\\xb5\\x12i\\xa1\\xdcr\\x1f\\x1e\\x1e\\xd6\\xa5>\\xe5\\x0f!\\x9b \\x19e\\xcf\\x9e=\\xb8\\xf5\\xd6[\\x8b\\xf6\\x19,v\\xfdlCd\\x04I\\x92044\\x84\\xd5\\xabW\\x1b\\x1d\\nQ9\\x19\\xe6\\x9d\\n\"\"\"\"\"*\\x08;\\x15D\\x06\\x88]\\xfb\\xbd\\x1c\\xd7\\x81\\'*wlCDD\\xe5\\x85\\x9d\\n\"\\x03\\xe4:&\\x9b\\x88\\xe2\\xb1\\r\\x11\\x11\\x95\\x97\\x19F\\x07@T\\x8b8\\x06\\x9c\\xa80lCDD\\xe5\\x85w*\\x88\\x88\\x88\\x88\\x88\\xa8 \\xecT\\x10\\x11\\x11\\x11\\x11QA\\xd8\\xa9 \"Ugg\\':;;\\x8b\\xbe\\x0fQ\\xb5`\\x9b!\"\\x9a\\xc6N\\x05\\x11U\\x04\\x8f\\xc7\\x03\\xb3\\xd9\\x0c\\xb3\\xd9\\x0c\\x8f\\xc7S\\xb4\\xfd\\x1c\\x0eG\\xc6\\xe4[~\\xbf\\x1f\\x0e\\x87\\x03f\\xb3YS\\x92.\"\\xa3\\xe4\\xdbfbek\\x0fz\\x96!\\xa2\\xca\\xc6\\xe4wD\\x1a\\xe9\\x9d\\xfc\\x8e\\xb4s\\xb9\\\\\\xd8\\xbd{\\xb7\\x9a1w\\xeb\\xd6\\xad\\xb8\\xf6\\xdak\\xb1a\\xc3\\x06]\\xf7\\xf3\\xfb\\xfdhnn\\x06\\x90z\"poo/FGG\\xb1a\\xc3\\x06455\\xa9\\x19\\x99+U\\xa5\\'\\xbf\\xa3\\xf4\\xf2m3\\xb1\\xb2\\xb5\\x07=\\xcbT\\x12&\\xbf#Ji\\x98\\xab?\\x11QY\\x0b\\x06\\x83hmm\\xc5\\xd8\\xd8\\x18\\xea\\xea\\xea\\x00\\x00\\x16\\x8b\\x05\\xcd\\xcd\\xcdX\\xb0`\\x01\\x9a\\x9a\\x9at\\xd9/\\x1a\\x8db\\xef\\xde\\xbdi\\xe3hoo\\xc7E\\x17]\\x84\\xc1\\xc1A\\xb5>\\xa2r\\x94o\\x9b\\x89\\x95\\xad=\\xe8Y\\x86\\x88\\xaa\\x03\\x87?\\x11\\xd5\\x10\\xaf\\xd7\\xab\\x0e\\xdb\\xe9\\xed\\xedMJ \\xe6r\\xb9`6\\x9bS\\xfe\\xee\\xf1x I\\x12\\xccf3\\x82\\xc1`\\xca2\\xc5p\\xe8\\xd0!\\x00\\xc0e\\x97]\\xa6n\\xbb\\xf4\\xd2K\\x01\\x00\\x13\\x13\\x13\\xba\\xed\\xb7k\\xd7.l\\xda\\xb4)e]\\xca\\xf8\\xf7\\xee\\xeenv(jL-\\xb5\\x99X\\x99\\xda\\x83\\xdee\\x88\\xa8J\\x08\"\\xd2\\xa4\\xa5\\xa5E\\xb4\\xb4\\xb4\\x18\\x1dF\\xde\\xdcn\\xb7\\x00 \\xc6\\xc6\\xc6\\x84\\x10B8\\x9dN\\x01@}\\xc8\\xb2\\xac\\xfe,\\x84\\x88\\xfb]\\xd9\\'\\x10\\x08\\x08\\x00\\xc2b\\xb1$\\x95I\\'\\xf6\\x18\\x99\\x1e\\xe9X,\\x96\\x94\\xcf+1\\xeb\\xb1\\xdf\\xc8\\xc8\\x88z\\x8e\\x89\\xf1\\xf8|>\\x01@\\xb8\\xddna\\xb7\\xdb\\xd5\\xfdGFF\\xd2\\x1e\\xbbR\\x0c\\r\\re|\\xed\\xcb\\xbd\\xfeb\\xab\\xb56\\xa3\\xc8\\xd4\\x1e\\xf4.S\\x89\\x00\\x88\\xa1\\xa1!\\xa3\\xc3 *7{\\xaa\\xa3\\x85\\x13\\x95@\\xa5w*R\\xfdQ\\x07 l6[\\xda2\\xe9\\xf6\\xc9VFO\\xe9\\xea\\xd7za\\x96m{(\\x14\\x12v\\xbb=\\xed\\xf36\\x9bM\\x00\\x10>\\x9fO\\x08!D$\\x12Q/\\xda\\x94\\x0b\\xa6J\\xc5NEf\\xb5\\xd6f\\x84\\xc8\\xde\\x1e\\xf4,S\\xa9\\xd8\\xa9 Ji\\x0f\\x87?\\x11\\xd5\\x08\\x8b\\xc5\\x92r{GGG\\x89#)/\\xfb\\xf6\\xed\\xcb8yUy}\\x94q\\xe8uuu\\xeak900P\\xfc\\x00\\xc90\\xb5\\xd8f\\xb2\\xb5\\x07=\\xcb\\x10Qua\\xa7\\x82\\xa8F(\\x17H.\\x97\\x0b\\xc0\\xf4\\x8a,\\x00`\\xb3\\xd9\\x8az\\\\I\\x924=\\xd2\\x91e9\\xeds\\xe9.\\xfa\\xb4\\xee\\xe7\\xf1x\\xb0b\\xc5\\n\\rg\\x11O\\xe9`\\xf4\\xf7\\xf7\\xe7\\xbc/U\\x8eZk3Z\\xda\\x83^e\\x88\\xa8\\xfa\\xb0SAT#\\x9a\\x9a\\x9a\\xe0v\\xbbq\\xfc\\xf8qH\\x92\\x84\\xce\\xceN8\\x9dNl\\xd9\\xb2\\xa5\\xa8\\xc7\\x15Bhz\\xa4\\xa3\\\\ \\xc5N\\x90U&\\xbd^{\\xed\\xb5\\x05\\xedg6\\x9b1{\\xf6\\xec\\x94\\x17j\\xca\\xcf\\xcaEX4\\x1aM{\\x0c\\xaaN\\xb5\\xd6f\\xb4\\xb4\\x07\\xbd\\xca\\x10Q\\xf5a\\xa7\\x82\\xa8Fx<\\x1e,Y\\xb2\\x04[\\xb6l\\x81\\x10\\x02n\\xb7\\x1bk\\xd6\\xac1:\\xac\\xac\\x94o<\\x8f\\x1e=\\xaan{\\xe5\\x95W\\xe2\\x9e\\xcbw\\xbfL\\x17j\\xca\\xcfJ~\\x92c\\xc7\\x8e\\xa9\\xcf)\\x1d\\x8c\\xb5k\\xd7\\xe6wRT\\x11j\\xad\\xcdhi\\x0fz\\x95!\\xa2\\xea\\xc3N\\x05Q\\x8d0\\x9b\\xcd0\\x99LIC(\\xda\\xdb\\xdb\\x11\\x0e\\x87\\x93\\x96\\xca\\x8c\\xfd]\\xb9\\x88\\x8e\\xfd\\xb6>\\xd5>\\xc5\\xd0\\xd8\\xd8\\x08\\xbb\\xdd\\x8e\\x81\\x81\\x01D\\xa3QD\\xa3Q\\x0c\\x0c\\x0c\\xc0n\\xb7\\xc7%\\x9f\\xeb\\xec\\xecT\\x97~\\xcde\\xbfl\\x96-[\\x06\\xab\\xd5\\x8a\\xce\\xceN\\xf5\\x1c\\xf7\\xec\\xd9\\x03Y\\x96+\\xe2\\x02\\x93\\xf2Wkm\\x86\\x88\\xa8\\x10\\xecT\\x10\\xd5\\x08\\x9f\\xcf\\x97r\\xb8N\\x7f\\x7f?\\xba\\xba\\xba\\xd0\\xd0\\xd0\\xa0nkhh\\x88\\xfb\\xddd2\\xc5\\xfd\\x9b\\xaaL\\xec\\xcfz\\xdb\\xb0a\\x03V\\xae\\\\\\t\\x93\\xc9\\x84u\\xeb\\xd6a\\xd5\\xaaU\\x9a&\\x81\\xe6\\xbb_\\xa2\\xee\\xeen\\xc8\\xb2\\x8c\\x86\\x86\\x06u\\xf8\\x86\\x92\\xa9\\x98\\xaaW-\\xb6\\x19\"\\xa2|I\\x82\\xf7\"\\x894Q\\x86\\xc1\\x0c\\x0f\\x0f\\x1b\\x1cI~\\xa6\\xa6\\xa60k\\xd6\\xac\\xa4o\\xe9\\xa7\\xa6\\xa60w\\xee\\\\\\x0eK\\xa8A{\\xf6\\xec\\xc1\\xad\\xb7\\xdeZ\\xb4\\xf7\\xbe\\xd8\\xf5\\x17\\x1b\\xdb\\x0c\\xa5\"I\\x12\\x86\\x86\\x86\\xb0z\\xf5j\\xa3C!*\\'\\xc3\\xbcSAT\\x03\\\\.\\x17\\xe6\\xcc\\x99\\x93r\\xd8OCC\\x03\\x9cN\\xa7\\x01Q\\x11\\x95/\\xb6\\x19\"\\xa2\\xdc\\xcc0:\\x00\"*\\xbe\\xdd\\xbbw\\xe3O\\x7f\\xfa\\x13V\\xacX\\x11w\\x91455\\x85\\xd1\\xd1Q\\x0e\\x8b J\\xc06CD\\x94\\x1b\\xde\\xa9 \\xaa\\x01\\x83\\x83\\x83x\\xdf\\xfb\\xde\\x87\\xfb\\xee\\xbbO\\x9dl\\xda\\xd9\\xd9\\x89\\x97_~\\x99\\x17GD)\\xb0\\xcd\\x10\\x11\\xe5\\x86w*\\x88j@]]\\x1d\\xd6\\xacY\\x835k\\xd6\\xa0\\xaf\\xaf\\xcf\\xe8p\\x88\\xca\\x1e\\xdb\\x0c\\x11Qnx\\xa7\\x82\\x88\\x88\\x88\\x88\\x88\\n\\xc2N\\x05\\x11\\x11\\x11\\x11\\x11\\x15\\x84\\x9d\\n\"*\\xa9p8\\x0c\\x97\\xcb\\x05\\xb3\\xd9lt(D\\x15\\x8b\\xed\\x88\\x88\\xca\\r;\\x15DTR]]]hmm\\x85\\xc7\\xe31:\\x94\\x8c\\x82\\xc1 \\xda\\xdb\\xdb\\xd5\\x0c\\xca^\\xaf7\\xee\\xf9h4\\x9a\\x94iYy\\xb8\\\\.\\x83\\xa2\\xa6ZQ-\\xed\\x88\\x88\\xaa\\x07;\\x15DTR\\x950\\xe95\\x1a\\x8d\\xc2\\xef\\xf7\\xa3\\xaf\\xaf\\x0f\\x91H\\x04K\\x97.\\xc5\\xf2\\xe5\\xcb\\xe3.\\xe0^|\\xf1\\xc5\\xb4\\xfb/[\\xb6\\xac\\x14aR\\r\\xab\\x96vDD\\xd5\\x83\\x9d\\n\"\\xa2\\x04O>\\xf9$dY\\x06\\xf0\\xee*@\\x00\\xe2\\x86\\x9a\\x1c;v\\x0c\\x81@\\x00B\\x08\\xf5\\x11\\n\\x85`\\xb5ZQ__oH\\xdcD\\xe5DK;\"\\xa2\\xea\\xc1N\\x05Q\\x95\\xea\\xed\\xed\\x85$Ip8\\x1c\\x08\\x87\\xc3\\x90$I}.\\x1a\\x8d\\xc2\\xe1p\\xc4\\xad\\xbf\\x1f\\x0e\\x87\\x01$\\x8f\\xd5\\xf6x<\\xea\\xd0\\x85`0\\x08`:\\xdbp\\xe2\\xb6p8\\x0c\\x8f\\xc7\\xa3\\xee\\xa7\\xd4\\xdf\\xde\\xde\\x8e\\xa9\\xa9\\xa9\\xac\\xf1\\x86\\xc3a5f\\xb3\\xd9\\x9c4L\"\\xd3\\xf9\\xe8M\\xb9\\x10Jd\\xb1X\\xd4\\x9f\\x97-[\\x96\\x94m\\xd9\\xeb\\xf5\\xa2\\xa5\\xa5\\xa5hqQ\\xe9\\xb1\\x1d\\xe5OK;\"\\xa2*\"\\x88H\\x93\\x96\\x96\\x16\\xd1\\xd2\\xd2bt\\x18\\x9a\\xd8l6\\x11\\x08\\x04\\x84\\x10BD\"\\x11a\\xb5ZEls\\xb7X,\\x02\\x80\\x08\\x85B\"\\x10\\x08\\x08\\x00\\xc2b\\xb1\\x08!\\x84\\x90eY\\x00\\x10\\x00\\x84\\xcf\\xe7\\x13B\\x08166\\xa6\\x96\\x19\\x1b\\x1b\\x13B\\x88\\xa4\\xfd\\x94}\\x00\\xa8e\"\\x91\\x88z\\xac\\xc9\\xc9I\\xf5\\xf8J9E(\\x14\\x12\\xb2,\\x0b\\xa7\\xd3)\\x84\\x10bdd$\\xee\\xf8\\xd9\\xce\\'Ql,\\x99\\x1eZE\"\\x11\\x01@\\xb8\\xdd\\xee\\x8c\\xe5\\x94\\xd7\\xa2R\\x0c\\r\\r\\xe5\\xf4:\\x94[\\xfd\\xc5\\xc6vdL;*w\\x00\\xc4\\xd0\\xd0\\x90\\xd1a\\x10\\x95\\x9b=\\x95\\xfb\\xbf=Q\\x89UR\\xa7B\\xb9\\xd0Q\\x84B\\xa1\\xb8?\\xfeV\\xab5\\xee\\x028\\xf1\\xe2 \\xd5\\xc5\\x82\\x96m\\xa9\\xca\\xf8|>\\x01@\\xd8l\\xb6\\xb4\\xe5\\x9cNg\\xca\\xba\\xadV\\xab\\xa6\\xf3)\\xb6\\x91\\x91\\x11!\\xcb\\xb2\\x88D\"i\\xcb\\xf8|>\\xf5b\\xaeR\\xb0S\\x91\\x19\\xdb\\x91\\xbe\\xb4\\xb4\\xa3J\\xc0N\\x05QJ\\xecT\\x10iUI\\x9d\\n\\xe5[M\\xa7\\xd3\\x99\\xf1\\x0fx \\x10\\x106\\x9b\\xad\\xa8\\x17CZ\\xca\\xc5~\\xab\\x9b\\xea[P\\xad\\xe7S,\\xb2,\\xab\\xdf\\x1a\\xa7c\\xb5Z\\xe3.\\xd8*\\x01;\\x15\\x99\\xb1\\x1d\\xe9KK;\\xaa\\x04\\xecT\\x10\\xa5\\xb4\\x87s*\\x88\\xaa\\xd0\\xed\\xb7\\xdf\\x0eY\\x96\\xd1\\xda\\xda\\n\\x93\\xc9\\x84\\xde\\xde\\xde\\xa42\\x0e\\x87\\x03\\x1b7nL;\\xee\\xb9\\x94\\x94\\xd5`D\\xcc\\xa4g\\xe5\\x01h;\\x9fX\\xe9\\x96zM|h\\xe1r\\xb9 \\xcb2\\x16.\\\\\\x98\\xb6\\x8c2\\x8e\\x9e\\x13\\xb4\\xab\\x0b\\xdbQi\\xdb\\x11\\x11U\\xb6\\x19F\\x07@D\\xfa\\x9b3g\\x0e\\xdcn7\\xfc~?\\xfa\\xfb\\xfb\\xd1\\xd1\\xd1\\x01\\x00\\xd8\\xb2e\\x0b\\x80\\xe9?\\xf0mmm\\x08\\x04\\x02I\\x93\\x8d\\x8bE\\xcb\\xe4\\xcc\\xa9\\xa9)\\xcc\\x993\\'i{\\xb6\\xf3I\\xa4\\\\D\\x15\\xca\\xef\\xf7\\xe3\\xc8\\x91#\\xe8\\xee\\xee\\xceX\\x8e\\x13\\xb4\\xab\\x13\\xdbQi\\xdb\\x11\\x11U6\\xde\\xa9 \\xaaB\\x92$!\\x1a\\x8d\\xa2\\xa9\\xa9\\t}}}\\xf0\\xf9|\\xea\\x05\\x04\\x00\\xb4\\xb6\\xb6\\x02@I.\\x84\\x94\\x15kV\\xae\\\\\\x99\\xb6\\x8c\\xddn\\x07\\x00\\x0c\\x0e\\x0e\"\\x1a\\x8d\\x02xw\\x15\\x1b \\xfb\\xf9\\x14C8\\x1c\\xc6\\x81\\x03\\x07\\xe2.\\x84\\xfc~?\\xda\\xdb\\xdb\\x93\\xca\\x8e\\x8e\\x8e\\xa2\\xa9\\xa9\\xa9\\xa8\\xf1P\\xe9\\xb1\\x1d\\x15.\\x97vDD\\x95\\x8d\\x9d\\n\\xa2*e\\xb3\\xd9\\xd4e*/\\xbc\\xf0B\\xd8l6\\xf59e\\xa8F0\\x18\\x8c[\\xa62\\x1c\\x0e\\xabCy\\x00\\xc4]\\x98\\xc4\\x96I\\xb7M\\xa1d\\x94\\x8eF\\xa3\\x18\\x1c\\x1c\\x84,\\xcb\\xea1S\\xedw\\xf3\\xcd7\\x03\\x00zzz`2\\x99 I\\x12\\x1a\\x1a\\x1a\\xb0j\\xd5*M\\xe7\\xa3\\xb7p8\\x8c\\xf5\\xeb\\xd7\\xa3\\xa3\\xa3#n\\x98Gsss\\xd2E\\x9d\\xdf\\xef\\xc7\\xd2\\xa5K\\x8b\\x16\\x0b\\x19\\x8b\\xed(\\x7f\\xb9\\xb4#\"\\xaa|\\xecT\\x10U\\xa9M\\x9b6axx\\x18\\x92$axx8n\\x88\\x83\\xf2\\xad\\xa1\\xc3\\xe1\\x80\\xc9d\\x82\\xd5j\\x85\\xc5b\\xc1[o\\xbd\\x85\\x86\\x86\\x06\\xb5\\x9c\\xc9d\\x02\\x80\\xb8m\\xca\\xcf\\xa9\\xb6)\\xe6\\xcd\\x9b\\x07\\xb3\\xd9\\x0c\\x93\\xc9\\x84\\xc6\\xc6F\\x0c\\x0e\\x0e\\xa6,\\xab\\xfc\\\\__\\x8f@ \\x00\\xab\\xd5\\n`z\\x88G\\xe2\\x90\\x92L\\xe7\\xa3\\xb7\\xae\\xae\\xae\\xb4Y\\x7f\\xe7\\xce\\x9d\\x1b\\xf7\\xfb\\xde\\xbd{\\x99A\\xbb\\x8a\\xb1\\x1d\\xe5/\\x97vDD\\x95O\\x12z\\r\\x9a$\\xaar\\xca\\xb7}\\xc3\\xc3\\xc3\\x06GR\\xbe\\x94I\\x9b\\xfco\\xa52\\xec\\xd9\\xb3\\x07\\xb7\\xdezk\\xd1\\xde\\xafb\\xd7_\\xad\\xd8\\x8e\\xca\\x9b$I\\x18\\x1a\\x1a\\xc2\\xea\\xd5\\xab\\x8d\\x0e\\x85\\xa8\\x9c\\x0c\\xf3N\\x05\\x11\\x11\\x11\\x11\\x11\\x15\\x84\\x9d\\n\"\\xd2E\\xa6\\xb1\\xe1D\\xa4\\r\\xdb\\x11\\x11U*v*\\x88H\\x17\\x99\\xc6\\x86\\x13\\x916lGDT\\xa9\\x98\\xa7\\x82\\x88t\\xc1\\xf1\\xdfD\\x85c;\"\\xa2J\\xc5;\\x15DDDDDT\\x10v*\\x88\\x88\\x88\\x88\\x88\\xa8 \\xecT\\x10U\\xb1p8\\x0c\\x97\\xcb\\x05\\xb3\\xd9lt(Y\\xc5&\\xc7R\\x96\\xd4\\xac\\x05\\xb5z\\xde\\x95\\x84\\xed\\xc8X\\xd5xND\\xd5\\x88\\x9d\\n\\xa2*\\xd6\\xd5\\xd5\\x85\\xd6\\xd6\\xd6\\xb4\\t\\xa8\\xca\\x91\\x10\"i\\\\\\xb9\\xc7\\xe3\\x81\\xd9l\\x86\\xd9l\\xd6\\xf5\\\\\\x1c\\x0eG\\xd2EJ4\\x1a\\xc5\\xf8\\xf88\\x1c\\x0eG\\xc1\\x17\\x91Z\\xeaJu\\xbeT^\\xd8\\x8e\\xe2\\x05\\x83A\\xb4\\xb7\\xb7C\\x92$\\xb4\\xb7\\xb7\\xc3\\xeb\\xf5\\xe6]\\x17\\xdb\\x08Q\\xf5\\xe0Dm\\xa2*\\xd6\\xd7\\xd7\\x87\\xfe\\xfe~\\xa3\\xc3(\\x88\\xcb\\xe5\\xc2\\xee\\xdd\\xbb\\xd5l\\xc2[\\xb7n\\xc5\\xab\\xaf\\xbe\\x8a\\r\\x1b6\\x14T\\xaf\\xdf\\xefG[[[\\xd2v\\x9b\\xcd\\x06\\x00\\xe8\\xe9\\xe9)\\xa8~\\xbd\\xeb\"\\xe3\\xb0\\x1d\\xbd+\\x1a\\x8d\\xc2\\xef\\xf7\\xa3\\xaf\\xaf\\x0f\\xdb\\xb6m\\xc3\\xfe\\xfd\\xfb\\xb1|\\xf9r\\xb8\\xddn\\xc8\\xb2\\x9cs\\\\l#D\\xd5\\x83\\x19\\xb5\\x894\\xaa\\xd4\\x8c\\xda\\x95\\x92\\x9d7U\\x9c\\xc1`\\x10\\xb3g\\xcf\\xc6\\xd8\\xd8\\x18\\x16.\\\\\\x08`\\xba3\\xd0\\xdc\\xdc\\x0c\\x9f\\xcf\\x87\\xa6\\xa6\\xa6\\xbc\\x8e\\x15\\x8dFa\\xb3\\xd9\\xd4\\x0b\\x99T\\xaf\\x8d\\x9e\\xaf\\x9b\\x96\\xba\\x8cx\\x9f\\x98Q[;\\xb6\\xa3i\\x1e\\x8f\\'\\xa9\\xf3\\xa0\\xc7kS\\xaem$]\\x1c\\xcc\\xa8M\\x94\\x84\\x19\\xb5\\x89\\xca\\xd1\\xf8\\xf8x\\xdaq\\xc4\\xbd\\xbd\\xbd\\xea\\xb6`0\\x88h4\\xaa\\x0e\\xe3\\x91$\\t\\x9d\\x9d\\x9di\\x93f\\xa5\\xaa/\\xddX\\xe5p8\\xac\\x1e\\xcbl6\\x174\\xc4!_\\x87\\x0e\\x1d\\x02\\x00\\\\v\\xd9e\\xea\\xb6K/\\xbd\\x14\\x00011\\x91w\\xbd\\xbbv\\xed\\xc2\\xa6M\\x9b\\n\\x0b\\x8e\\xca\\x1e\\xdb\\xd14=\\xdbQ\\xba\\xbb\\x11\\x16\\x8b%\\xcf\\xe8\\x88\\xa8Z\\xb0SAT\\x86\\x16.\\\\\\x88\\x91\\x91\\x11\\x00\\x80\\xd5j\\x8d\\xfbfn\\xcb\\x96-\\xb0Z\\xad\\xf0\\xf9|hll\\xc4\\xd6\\xad[\\xd1\\xd6\\xd6\\x86P(\\x84@ \\x80\\x9e\\x9e\\x1etuu\\xa5\\xac7\\x14\\n%m\\x0b\\x04\\x02I\\xdb\\xc2\\xe10\\xd6\\xaf_\\x8f\\xcb/\\xbf\\x1cB\\x08l\\xde\\xbc\\x19\\xcb\\x97/\\x87\\xdf\\xefOYo\\xe2\\x85[\\xbaG\\xaeFGG\\x01\\x00\\x8d\\x8d\\x8d\\xea\\xb6\\xfa\\xfaz\\x00\\xc8{L\\xb8\\xd7\\xeb\\xc5\\xe2\\xc5\\x8b\\xd5z\\xa8z\\xb1\\x1dM+F;RD\\xa3Q\\x00\\xc0\\xca\\x95+\\x0b\\xaa\\x87\\x88*\\x1f;\\x15Dej\\xd9\\xb2e\\xb0Z\\xad\\xe8\\xe9\\xe9Q\\xffp\\x03\\xef\\xfe\\x11W\\x86,\\\\t\\xd1E\\xb0X,\\xa8\\xaf\\xafW/\\x1a\\xd2\\x8d\\xffNu!\\x1d{\\xa1\\xa1\\xf0z\\xbd\\xf0x<X\\xb3f\\x8d\\x1a\\x0b\\x00\\xec\\xdd\\xbb7e\\xbd\\xcaD\\xcal\\x8f\\\\e\\x1a\\xc7\\x9e\\xcf\\xc5P8\\x1c\\xc6K/\\xbd\\xa4\\x0e\\x01\\xa1\\xea\\xc7v\\xa4\\x7f;\\x8au\\xf8\\xf0a\\xc8\\xb2\\x8c%K\\x96\\x14T\\x0f\\x11U>v*\\x88\\xcaXKK\\x0b\\x00`\\xff\\xfe\\xfd\\xea\\xb6\\xc3\\x87\\x0f\\xab\\xdb\\x01\\xa0\\xbb\\xbb\\x1b}}}\\x08\\x06\\x83\\xe8\\xed\\xed\\xd5\\xe5\\xb8\\xbbw\\xef\\x06\\x90<\\xa4\\xa3\\xd2\\'S\\xee\\xdb\\xb7\\xaf\\xe0\\t\\xdeTy\\xd8\\x8e\\x8a\\xe7\\x81\\x07\\x1e\\xc0\\xddw\\xdf\\x8d\\xba\\xba:\\xa3C!\"\\x83\\xb1SAT\\xc6\\x9a\\x9a\\x9a \\xcb\\xb2zq\\x02\\x00\\x07\\x0f\\x1eL\\x9aX\\xe9p8\\xb0q\\xe3\\xc6\\xbcV_IE\\xf9\\xf6R\\xeb\\xb7\\xa4\\xc5\\x1a\\xb6\\x91\\xe9|r\\x1d\\xc3\\xed\\xf1x\\xb0b\\xc5\\x8a\\x9cc\\xa0\\xca\\xc7v\\xa4_;\\x8a\\xe5r\\xb9 \\xcb2\\xef\\xfc\\x11\\x11\\x00v*\\x88\\xca\\xde\\xda\\xb5k\\xe1\\xf1x0>>\\x8e`0\\x88\\x05\\x0b\\x16\\xc4=\\xefr\\xb9\\xd0\\xd6\\xd6\\x86\\x07\\x1f|\\x10s\\xe6\\xcc\\xd1\\xf5\\xd8SSS\\x9a\\xca\\x15k\\xd8\\x86r1\\x14;a6\\x18\\x0c\\x02\\x00\\xae\\xbd\\xf6\\xda\\x9c\\xea2\\x9b\\xcd\\x98={v\\xdaI\\xb6T\\xdd\\xd8\\x8e\\xf4iG\\n\\xbf\\xdf\\x8f#G\\x8e\\xf0\\xce\\x1f\\x11\\xa9\\xd8\\xa9 *s\\xca8\\xec\\x81\\x81\\x01\\x1c:t(i\\xecrkk+\\x80\\xd4c\\xba\\xf3e\\xb7\\xdb\\x01\\x00\\x83\\x83\\x83\\xea\\xd8se\\x15\\x9bRR\\xee,\\x1c=zT\\xdd\\xf6\\xca+\\xaf\\xc4=\\xa7U\\xa6\\x8b3\\xa3\\x97\\xa8\\xa4\\xe2c;\\xd2\\xa7\\x1d\\x01\\xd3\\xe7p\\xe0\\xc0\\x01tww\\xab\\xdb\\xfc~?\\xda\\xdb\\xdb\\x0b\\x8c\\x94\\x88*\\x19;\\x15De\\xae\\xbe\\xbe\\x1eV\\xab\\x15\\xfd\\xfd\\xfd8~\\xfcx\\xd2\\xd8e\\xe5[\\xc8`0\\x18\\xf7\\x8dh8\\x1c\\x8e\\xfbfR\\xf9Y\\x19\\xee\\xa0\\x94\\x1d\\x1f\\x1fW\\xcb(\\x17\\x057\\xdf|3\\x80\\xe9\\xb1\\xdf&\\x93\\t\\x92$\\xa1\\xa1\\xa1A\\xcd\\xd5Q*\\x8d\\x8d\\x8d\\xb0\\xdb\\xed\\x18\\x18\\x18@4\\x1aE4\\x1a\\xc5\\xc0\\xc0\\x00\\xecv{\\xdc\\xc5\\x9f\\xb2dg\\xbaUur\\x95jBo\\xac\\\\\\x8e\\x97\\xad.*\\r\\xb6#}\\xda\\x91\\xb2\\xa2UGGG\\xdc]\\xbf\\xe6\\xe6\\xe6\\xb8\\x15\\xa0\\xd8F\\x88j\\x90 \"MZZZDKK\\x8b!\\xc7\\xf6\\xf9|\\x02\\x80\\x98\\x9c\\x9cL\\xfb\\x9c\\xd5j\\x15\\xa1PHX\\xadVa\\xb1XD \\x10\\x10\\x00\\xe2\\x1eB\\x08\\x11\\x08\\x04\\x84,\\xcb\\x02\\x80p\\xbb\\xddB\\x08!dY\\x16N\\xa7S\\x84B!\\xb5\\xde@  \\xacV\\xab\\x00\\xa0\\xd6WL\\xb11&r\\xbb\\xdd\\x02\\x80\\x90eY\\x8c\\x8c\\x8c$=\\xaf\\x9c\\xb3,\\xcb\\x05\\x1f3\\xf15KUF\\xeb\\xf1\\xb4\\xd4\\x95)\\x96b\\x1b\\x1a\\x1a*\\xea1\\x8b]\\x7f\\xae\\xd8\\x8e\\noG\\x16\\x8b%\\xed\\xe7:\\xf6u\\xad\\x966\\x92.\\x8e\\xa1\\xa1!\\xa3\\xc3 *7{\\x98Q\\x9bH\\xa3J\\xcd\\xa8])\\xf4\\xc8\\x96k6\\x9b\\xe1v\\xbb\\xf5\\n\\xa9\\xa4\\xc7cFm\\xd2C\\xb9\\xb5\\xa3Jo#\\xe9\\xe2`Fm\\xa2$\\xcc\\xa8MD\\xd5a||\\x1cw\\xdf}w\\xd5\\x1e\\x8f\\xa8\\x14\\xf4\\xfc\\\\\\xb3\\x8d\\x10\\xd5\\x96\\x19F\\x07@DT(\\xaf\\xd7\\x8b+\\xae\\xb8B\\xf7U{\\xca\\xe5xD\\xa5\\xa0\\xe7\\xe7\\x9am\\x84\\xa8\\xf6\\xb0SADe%\\x9f!\\x0e\\xca\\xca>\\xa5\\xa2\\xe7\\xf1\\xb8\\x9c-\\x15\\x83\\xd1\\xed\\x88m\\x84\\xa8\\xf6\\xb0SADe\\xc1\\xe8q\\xd2F\\xa9\\xd5\\xf3\\xa6\\xe2\\xa8\\xc6\\xcfS5\\x9e\\x13Q5\\xe2\\x9c\\n\"\"\"\"\"*\\x08;\\x15DDDDDT\\x10v*\\x88\\x0c\\x14\\x0e\\x87\\xe1r\\xb9`6\\x9b\\x8d\\x0e\\xa5 \\x9d\\x9d\\x9d\\xe8\\xec\\xec\\xd4\\xad\\\\\\xb9*V\\xfc\\xd5\\xf29(\\x85jy\\xad\\xd8f\\nS-\\x9f\\x03\\xa2j\\xc29\\x15D\\x06\\xea\\xea\\xeaB\\x7f\\x7f\\xbf\\xd1a\\x90\\xc1\\xf89\\xd0\\x8e\\xaf\\x15\\x01\\xfc\\x1c\\x10\\x95#&\\xbf#\\xd2\\xa8X\\xc9\\xef\\xca%\\xa1\\x13\\x19\\x8b\\xc9\\xef\\xb4c\\x9b!\\xc0\\xb8\\xcf\\x01\\x93\\xdf\\x11\\xa5\\xc4\\xe4wDDDDDT\\x18v*\\x88\\x8a,\\x1a\\x8d\\xc2\\xe5rA\\x92$H\\x92\\x04\\x87\\xc3\\x91\\xb5\\xbc\\xc3\\xe1P\\xcbwvv\"\\x1c\\x0e\\xc7\\x95\\xe9\\xed\\xedU\\xeb\\n\\x87\\xc3I\\xeb\\xb8g{^O\\x89c\\x9b\\xc3\\xe10<\\x1e\\x0f\\xccf3\\xa2\\xd1(\\xda\\xdb\\xdb\\xd5sH5\\x06Zk\\xac\\xe3\\xe3\\xe3\\xeak\\xa2<\\x12\\xeb\\x90$\\t\\xc1`P\\x8dC\\xd9n6\\x9b\\xe1\\xf5z3\\xc6\\x97-\\x9et\\xf1ky\\x7fS\\x95I|OS\\xc9\\xb6_\\xb6s\\xa9Tl3l3l3D\\x15H\\x10\\x91&---\\xa2\\xa5\\xa5%\\xe7\\xfddY\\x16V\\xabU\\xfd\\xddb\\xb1\\xc4\\xfd\\x0e@\\xc46E\\x8b\\xc5\"\\x00\\x88P($\\x02\\x81\\x80\\x00 ,\\x16\\x8b\\xfa\\xbc\\xcdf\\x13\\x81@@\\x08!D$\\x12\\x11V\\xab5n\\xffl\\xcf\\'R\\x8e\\x9f\\xed\\x91\\xe9\\xfcb\\xcb\\xc4\\xfe>66&|>\\x9f\\xb0X,I\\xe5\\xf2\\x89uddD\\x00\\x88{\\xfd\\x14V\\xabU\\xf8|>!\\x84\\x10\\xa1PH\\xc8\\xb2,\\x9cNg\\xdc~>\\x9f/m|\\xd9\\xe2I\\x15\\xbf\\xb2=\\xd3\\xfb\\xab\\x94\\xb1\\xdb\\xedq\\xb1\\xc9\\xb2,\"\\x91H\\xd2\\xfb\\x90\\xcb~\\x99\\xceE\\x8b\\xa1\\xa1\\xa1\\x8c\\xafw\\xa1\\xf2\\xad\\x9fm\\x86m\\xa6\\\\\\xdb\\x8cr\\xdc\\xa1\\xa1\\xa1\\x9c\\xf6!\\xaa\\x01{\\xd8\\xa9 \\xd2(\\x9fN\\x85\\xd3\\xe9T/v\\x14cccB\\x96e\\xf5\\xf7\\xc4?\\x8cV\\xab5\\xee\\x8f\\\\\\xe2\\xf3\\x89\\xf5\\x85B\\xa1\\x9c\\x9e/\\x86T1\\x02\\x88\\xbb\\x00HW.\\xd7X\\x95\\x8b\\x96\\xd8\\xba\\x95\\x8b\\x19\\x85\\xf2\\xba\\'\\x1e[)\\x93)\\xbel\\xafm\\xec\\xefZ\\xde_\\xe5\\xe2,\\xb1\\x0c\\x00\\xf5\\x02.U\\xdd\\xb9\\xee\\x97x.Z\\x94c\\xa7\\x82m\\x86m\\xa6\\x9c\\xdb\\x8c\\xb2?;\\x15DI\\xd8\\xa9 \\xd2*\\x9fN\\x85\\xf2\\xadX&\\xe9\\xbe\\xd5\\x0c\\x04\\x02\\xc2f\\xb3\\xa5\\xfdV\\xd6\\xe9t\\xa6\\xfc\\xa3\\x98\\xed\\xf9bHw\\x81\\x94\\xad\\\\>\\xb1\\xfa|\\xbe\\xa4\\x8b\\x84\\x91\\x91\\x11\\xf5\\x1bW!\\xe2\\xbf\\x8dL\\xf5\\xedq\\xba\\xf8\\xb2\\xc5\\x93\\xb8\\x9f\\x96\\xf7W\\xa93V$\\x12\\x11\\x002^(\\xe7\\xbb_.\\xca\\xb1S\\xc16\\x93\\xb9\\x1c\\xdb\\x8c\\xb1mF\\xd9\\x9f\\x9d\\n\\xa2$\\xecT\\x10i\\x95O\\xa7B\\xcb\\x1f\\xafTe\\xecv\\xbb\\x90eYLNN&=?99\\x19w\\x01`\\xb3\\xd9\\xe2\\xf6\\xcd\\xf6|\\xba\\xe3g{\\xe4r\\x0eZ/\\x90r\\x8dU\\xa1\\x0ciP$\\x0e\\x9d\\xc8\\x16s\\xba\\xe7\\xb3\\xc5\\xa3\\xf5<\\xb5\\x1c+[]\\xf9\\xee\\x97\\x8br\\xecT\\xb0\\xcdd.\\xf7\\xff\\xdb\\xbb\\xfb\\xe0(\\xea\\xfb\\x0f\\xe0\\xefMx\\xb6\\x08T\\x14D@[[\\x1f:c\\t\\x88\\x1a\\xc1\\x82By(r\\x87h \\x04(\\xe8X\\xede\\xa6Nf\\xf0\\xa1j/C:\\xd2\\xfa\\x14\\x9cft\\x8a\\x13t\\xc4@\\xb9<X[\\x13\\x8b\\x96\\x1aP\\x8a\\\\D4\\x97\\xfaP\\x93\\x0e\\xea\\x85\\x87z\\xa7\\xd5\\x8bQ\\x11I\\xf2\\xfd\\xfd\\x91\\xdf\\x9e\\xf7\\xb4\\xb7{w\\xbb\\xb7{{\\xef\\xd7\\xcc\\rd\\x1f?{\\xbb\\x9f\\xfd\\xde\\xe7\\xf6\\xbb{\\xcc\\x19ssF\\x9e\\x9fE\\x05Q\\x1c\\x16\\x15DZer\\xa5\"\\xf2\\x1b\\xc1X\\xb1\\r\\x9c\\xdc=@\\xee\\xa7\\xac\\xd4\\x00\\xca}\\x81\\x95>X\\xa8\\x8d\\xd7S\\xba\\x8d{\\xba\\xb1\\xca\\xef\\x91\\xd7\\xeb\\x15~\\xbf_477\\'\\\\Ogg\\xa7\\xa6x\\xb5\\xc6\\x13;\\x9f\\x96\\xfd+O\\x13\\xd9%C^V\\xb2.;\\xe9\\xce\\x97\\n+\\x16\\x15\\xcc\\x99\\xe4\\xd3\\xa5\\x1b+sF\\x9f\\x9c\\x91\\xe7gQA\\x14\\x87E\\x05\\x91V\\xe9\\x14\\x15\\xb5\\xb5\\xb5\\xe1\\x06M\\xee\\x1a\\xe0\\xf7\\xfbU\\xfb\\x7f\\xab\\xfd\\x1d\\xd9\\xcd@\\xee\\xda\\xa0u\\xbc\\x112\\xf9\\xc60\\x9dX\\xe5~\\xdb.\\x97+a\\xb7\\x0b\\xf9}w\\xbb\\xdd\\xe1q\\x81@ \\xfca\\'Y|j\\xefm\\xe4\\xdfZ\\xf6o\\xe4\\x879\\x99\\xdc%\\xa3\\xb5\\xb5Uq\\xd9\\xe9\\xce\\x97\\n+\\x16\\x15\\xcc\\x19\\xf5\\xe9\\x983\\x89\\x97\\x9d\\x8d\\x9c\\x91\\xe7gQA\\x14\\x87E\\x05\\x91V\\xe9\\x14\\x15\\xf2\\xd3G\\xe4FLnL\\xe5o\\x03\\xe5\\x86>\\xf2\\xdb5yz\\xbf\\xdf\\x1f\\xd5\\x95C\\x1e/7\\xfc\\xf2\\xb7\\xb2r?r\\x99\\xdax\\xbd\\xc5nC\\xe4\\xdf\\xc9\\xa6\\xcb4V\\xf9\\xe6\\xd3D\\xd3G\\xae+\\xf2\\xe5\\xf7\\xfb\\x15\\xe3S\\x8b\\'Q\\xfcj\\xfbW\\x88\\xc1\\x0f5r\\xd7\\x13y>\\x8f\\xc7\\x13\\xf5!*\\xd1\\xb2S\\x9d/\\x1dV,*\\x983\\xca\\xd3e\\x1a+s&\\xf3\\x9c\\x91\\xb7\\x99E\\x05Q\\x1c\\x16\\x15DZ\\xa5\\xfbH\\xd9@ \\x10n\\xcc\\xddnwT\\xe3\\x19\\xdb\\x80\\x0b\\xf1\\xed7}n\\xb7;<\\xaf\\xcb\\xe5\\x8a\\xea\\xda!\\x7f\\x83\\x98\\xe8\\x03\\x82\\xdax\\xbd%\\xfa \"\\xbf\\x12\\xdd\\x1c\\x19\\xb9\\xad\\x99\\xc4*\\xbfOJ\\xdd5\\xfc~\\x7f\\xf8}\\x8f}\\xff\\x12\\xc5\\xa7\\x16O\\xa2\\xf8\\x85H\\xbe\\x7f#\\xa7\\x91\\xbf\\xa1\\x05\\xe2ojM\\xb6l\\xad\\xf3\\xc5n\\x8b\\x16V,*\\x84`\\xce$\\xdbV\\xe6\\x8c\\xfa\\xb2\\x8d\\xcc\\x19y\\x19,*\\x88\\xe24JB\\x08\\x01\"R\\xb5b\\xc5\\n\\x00@SS\\x93\\xc9\\x91\\x10\\xe9\\xa3\\xb1\\xb1\\x11\\xa5\\xa5\\xa50\\xaa\\x190z\\xf9Df\\x90$\\t\\r\\r\\rX\\xb9r\\xa5\\xd9\\xa1\\x10YI\\x13\\x7fQ\\x9b\\x88\\x88\\x88\\x88\\x882\\xc2\\xa2\\x82\\x88\\x88\\x88\\x88\\x882\\xc2\\xa2\\x82\\x88\\x88\\x88\\x88\\x882\\xc2\\xa2\\x82\\x88\\x88\\x88\\x88\\x882\\xc2\\xa2\\x82\\x88\\x88\\x88\\x88\\x882\\xc2\\xa2\\x82\\x88\\x88\\x88\\x88\\x882\\xc2\\xa2\\x82\\x88\\x88\\x88\\x88\\x882\\xc2\\xa2\\x82\\x88\\x88\\x88\\x88\\x8822\\xc4\\xec\\x00\\x88rI[[[\\xf8G\\xf0\\xd2\\xd1\\xdf\\xdf\\x8f\\xc2\\xc2B\\x1d#\"J\\xdf\\xd1\\xa3G\\xb3\\xb2\\x9eLr\\x86Ho<\\x0f\\x13\\x19\\x83W*\\x884\\xba\\xf2\\xca+Q\\\\\\\\\\x9c\\xd6\\xbc\\xfd\\xfd\\xfdhoo\\xc7\\xbe}\\xfb\\xf8\\xeb\\xc2\\x1a\\x1c?~\\x1c\\x1d\\x1d\\x1df\\x87a{\\x93\\'OFII\\x89a\\xcb\\x9f2e\\x8a\\xa1\\xcb\\xa7A\\'N\\x9c\\xc0k\\xaf\\xbd\\x86\\x13\\'N\\x98\\x1d\\x8a\\xe5\\xf5\\xf6\\xf6\\xe2\\x85\\x17^\\xc0\\x91#G\\xd2^FII\\t\\xa6L\\x99\\xa2cTD\\xf6 \\t~\\xc2!2\\xd4{\\xef\\xbd\\x87U\\xabV\\xe1\\x83\\x0f>\\xc0\\xe3\\x8f?\\x8e\\xb2\\xb22\\xb3C\\xb2\\xbc\\xdf\\xfe\\xf6\\xb7hhh\\xc0\\xbb\\xef\\xbekv(D\\x96\\xf7\\xd6[o\\xe1\\xc7?\\xfe1\\xde}\\xf7]\\\\|\\xf1\\xc5f\\x87ci\\'O\\x9e\\xc4]w\\xdd\\x85G\\x1f}\\x14k\\xd7\\xae\\xc5\\x96-[p\\xdai\\xa7\\x99\\x1d\\x16\\x91\\x1d4\\xf1J\\x05\\x91\\x81\\xea\\xea\\xea0s\\xe6L\\x0c\\x1b6\\x0co\\xbe\\xf9&\\x0b\\n\\x8d\\n\\x0b\\x0b\\xd1\\xdf\\xdfov\\x18D9a``\\x00\\x00\\xd8\\xa5G\\x83\\xe1\\xc3\\x87\\xa3\\xa6\\xa6\\x06\\x7f\\xf9\\xcb_\\xb0k\\xd7.\\xcc\\x9c9\\x93WE\\x89t\\xc2\\xa2\\x82\\xc8\\x00\\xbd\\xbd\\xbdX\\xbbv-n\\xbc\\xf1F\\xdc|\\xf3\\xcd\\xd8\\xbf\\x7f?\\xce?\\xff|\\xb3\\xc3\\xca\\x19\\x05\\x05\\x05\\xe1\\x0fJD\\x94\\x9c\\\\\\x80\\x17\\x14\\xb0I\\xd7j\\xd9\\xb2ehoo\\xc7\\x99g\\x9e\\x89\\xe2\\xe2b\\xd4\\xd4\\xd4\\x98\\x1d\\x12Q\\xce\\xe3\\x19\\x88Hgo\\xbc\\xf1\\x06f\\xcc\\x98\\x81\\xdd\\xbbw\\xe3\\xf9\\xe7\\x9fGMM\\r\\x86\\r\\x1bfvX9\\x85E\\x05\\x91vr\\xae\\xb0\\xa8H\\xcd\\x94)S\\xb0w\\xef^\\xfc\\xfa\\xd7\\xbf\\xc6\\xed\\xb7\\xdf\\x8e\\xe5\\xcb\\x97\\xe3\\xd3O?5;,\\xa2\\x9c\\xc53\\x10\\x91N\\x84\\x10\\xa8\\xa9\\xa9\\xc1\\xacY\\xb30e\\xca\\x14\\xf8|>,Y\\xb2\\xc4\\xec\\xb0r\\x12\\xbb?\\x11i\\xc7\\xeeO\\xe9+,,DUU\\x15\\xfe\\xf1\\x8f\\x7f\\xe0\\xe0\\xc1\\x83\\x98>}:^}\\xf5U\\xb3\\xc3\"\\xcaI,*\\x88t\\xf0\\xc9\\'\\x9f\\xc0\\xe9t\\xe2\\x8e;\\xee\\xc0=\\xf7\\xdc\\x83\\x97^z\\t\\x93&M2;\\xac\\x9c\\xc5+\\x15D\\xda\\xb1\\xfbS\\xe6\\xae\\xb9\\xe6\\x1attt\\xe0\\x92K.\\xc1\\xd5W_\\x8d\\xaa\\xaa*\\x9e\\x83\\x88R\\xc43\\x10Q\\x86^~\\xf9e\\x14\\x15\\x15\\xa1\\xa3\\xa3\\x03{\\xf7\\xeeEUU\\x15\\x1b\\xf7\\x0c\\xb1\\xa8 \\xd2\\x8e\\xdd\\x9f\\xf41~\\xfcx\\xb4\\xb4\\xb4\\xa0\\xba\\xba\\x1a\\xf7\\xdf\\x7f?\\x16,X\\x80\\xff\\xfe\\xf7\\xbff\\x87E\\x943x\\x06\"JS\\x7f\\x7f?\\xaa\\xaa\\xaa\\xf0\\xd3\\x9f\\xfe\\x14\\x97]v\\x19|>\\x1f\\xae\\xba\\xea*\\xb3\\xc3\\xb2\\x05v\\x7f\"\\xd2\\x8e\\xdd\\x9f\\xf4#I\\x12***\\xf0\\xea\\xab\\xaf\\xa2\\xbb\\xbb\\x1b\\xd3\\xa6M\\xc3\\x0b/\\xbc`vXD9\\x81E\\x05Q\\x1a\\x8e\\x1e=\\x8ay\\xf3\\xe6\\xe1\\xc1\\x07\\x1f\\xc4\\xe6\\xcd\\x9b\\xf1\\xec\\xb3\\xcf\\xe2\\xbb\\xdf\\xfd\\xae\\xd9a\\xd9\\x06\\xafT\\x10i\\xc7\\xeeO\\xfa\\x9b9s&\\xdex\\xe3\\r,X\\xb0\\x00\\xd7^{-***p\\xea\\xd4)\\xb3\\xc3\"\\xb24\\x9e\\x81\\x88R\\xd4\\xdc\\xdc\\x8c\\xa2\\xa2\"\\x04\\x02\\x01x\\xbd^TTT@\\x92$\\xb3\\xc3\\xb2\\x15\\x16\\x15D\\xda\\xf1J\\x851N?\\xfdt\\xfc\\xe9O\\x7f\\xc2\\xb6m\\xdb\\xf0\\xe4\\x93Ob\\xf6\\xec\\xd9x\\xff\\xfd\\xf7\\xcd\\x0e\\x8b\\xc8\\xb2XT\\x10it\\xea\\xd4)\\xdc}\\xf7\\xdd\\xb8\\xee\\xba\\xeb\\xb0d\\xc9\\x12\\x1c:t\\x08EEEf\\x87eK\\xec\\xfeD\\xa4\\x1d\\xafT\\x18k\\xdd\\xbau8t\\xe8\\x10N\\x9e<\\x89\\xe9\\xd3\\xa7\\xa3\\xbe\\xbe\\xde\\xec\\x90\\x88,\\x89g \"\\r>\\xfc\\xf0C\\xcc\\x993\\x07\\x7f\\xfc\\xe3\\x1fQWW\\x87\\xba\\xba:|\\xe7;\\xdf1;,\\xdb\\xe2\\x95\\n\"\\xedx\\xa3\\xb6\\xf1.\\xba\\xe8\"\\xbc\\xf6\\xdak\\xb8\\xf1\\xc6\\x1bQVV\\x86u\\xeb\\xd6\\xe1\\xab\\xaf\\xbe2;,\"K\\xe1\\x19\\x88HESS\\x13\\xa6O\\x9f\\x8eo\\xbe\\xf9\\x06o\\xbc\\xf1\\x06\\xd6\\xae]kvH\\xb6\\xc7\\xa2\\x82H;v\\x7f\\xca\\x8e\\x11#F\\xa0\\xa6\\xa6\\x06\\xcf>\\xfb,\\x9e\\x7f\\xfey\\\\v\\xd9ex\\xeb\\xad\\xb7\\xcc\\x0e\\x8b\\xc82XT\\x10)8q\\xe2\\x04***PZZ\\x8au\\xeb\\xd6\\xe1\\xc0\\x81\\x03\\xf8\\xe1\\x0f\\x7fhvXy\\x81\\xdd\\x9f\\x88\\xb4c\\xf7\\xa7\\xecZ\\xbe|9|>\\x1f\\xc6\\x8d\\x1b\\x87+\\xae\\xb8\\x02555f\\x87Dd\\t<\\x03\\x11%\\xf0\\xce;\\xef\\xe0\\xf2\\xcb/\\xc7\\xce\\x9d;\\xd1\\xdc\\xdc\\x8c\\x9a\\x9a\\x1a\\x0c\\x1f>\\xdc\\xec\\xb0\\xf2\\x06\\xafT\\x10i\\xc7\\xeeO\\xd97u\\xeaT\\xbc\\xfc\\xf2\\xcb\\xb8\\xeb\\xae\\xbb\\xb0a\\xc3\\x06\\x94\\x94\\x94 \\x14\\n\\x99\\x1d\\x16\\x91\\xa9x\\x06\"\\x8aQWW\\x87\\xcb/\\xbf\\x1cg\\x9cq\\x06|>\\x1f\\x96.]jvHy\\x87E\\x05\\x91v\\xec\\xfed\\x8e!C\\x86\\xa0\\xaa\\xaa\\n\\xbbw\\xef\\xc6\\x81\\x03\\x070}\\xfatx\\xbd^\\xb3\\xc3\"2\\r\\x8b\\n\\xa2\\xff\\xd7\\xd3\\xd3\\x83\\xd2\\xd2R\\xdct\\xd3M\\xb8\\xed\\xb6\\xdb\\xd0\\xda\\xda\\x8as\\xce9\\xc7\\xec\\xb0\\xf2RAA\\x01\\xbb?\\x11i\\xc4\\xeeO\\xe6\\x9a?\\x7f>|>\\x1f.\\xba\\xe8\"\\xcc\\x993\\x07UUU\\xfcR\\x84\\xf2\\x12\\xcf@D\\x00\\x0e\\x1e<\\x88\\xe9\\xd3\\xa7\\xe3\\x95W^\\xc1\\x8b/\\xbe\\x88\\x07\\x1ex\\x80\\xdf\\xfa\\x99\\xa8\\xb0\\xb0\\x90\\x8d2\\x91F\\xec\\xfed\\xbe\\xb3\\xce:\\x0b\\xbbv\\xedBuu5~\\xff\\xfb\\xdfc\\xf1\\xe2\\xc5\\xf8\\xe8\\xa3\\x8f\\xcc\\x0e\\x8b(\\xabx\\x06\\xa2\\xbc&\\x84@MM\\r\\xae\\xba\\xea*\\xfc\\xe0\\x07?@GG\\x07\\x16,X`vXy\\xaf\\xa0\\xa0\\x00B\\x08\\x08!\\xcc\\x0e\\x85\\xc8\\xf2\\x06\\x06\\x06 I\\x12\\x7f\\x84\\xd3d\\x92$\\xa1\\xa2\\xa2\\x02\\xfb\\xf7\\xef\\xc7\\xe1\\xc3\\x87QTT\\x84\\xdd\\xbbw\\x9b\\x1d\\x16Q\\xd6\\xb0\\xa8\\xa0\\xbc\\x15\\x0c\\x06\\xf1\\xb3\\x9f\\xfd\\x0cw\\xdey\\'\\xee\\xbd\\xf7^\\xbc\\xf8\\xe2\\x8b\\x980a\\x82\\xd9a\\x11\\xbe\\xfd\\xc6\\x95W+\\x88\\xd4\\xf5\\xf7\\xf7\\xf3\\xca\\xaa\\x85\\\\~\\xf9\\xe5x\\xf3\\xcd7q\\xf5\\xd5Wc\\xf1\\xe2\\xc5\\xa8\\xa8\\xa8\\xc0\\xa9S\\xa7\\xcc\\x0e\\x8b\\xc8p,*(/\\xb5\\xb6\\xb6\\xa2\\xa8\\xa8\\x08\\x9d\\x9d\\x9d\\xd8\\xb7o\\x1f\\xaa\\xaa\\xaa\\xd8u\\xc0B\\xe4\\x0fH,*\\x88\\xd4\\r\\x0c\\x0c\\xf0\\xfce1c\\xc6\\x8cA}}=\\xb6m\\xdb\\x86\\'\\x9ex\\x02s\\xe6\\xcc\\xc1\\x87\\x1f~hvXD\\x86\\xe2Y\\x88\\xf2J__\\x1f\\xaa\\xaa\\xaa\\xb0p\\xe1B\\xcc\\x9e=\\x1b\\xed\\xed\\xed(..6;,\\x8a!\\x7f@\\xe2\\xcd\\xdaD\\xeaXTX\\xd7\\xbau\\xeb\\xf0\\xfa\\xeb\\xaf\\xe3\\x8b/\\xbe\\xc0\\xcc\\x993\\xd1\\xd2\\xd2bvHD\\x86\\xe1Y\\x88\\xf2\\x86\\xdf\\xef\\xc7\\xdc\\xb9s\\xf1\\xd0C\\x0f\\xe1\\x91G\\x1eASS\\x13\\xc6\\x8e\\x1dkvX\\x94\\x00\\xbb?\\x11i\\xc7\\xeeO\\xd6\\xf6\\xa3\\x1f\\xfd\\x08\\x07\\x0f\\x1e\\xc4\\x9a5k\\xb0l\\xd92TTT\\xe0\\xe4\\xc9\\x93f\\x87E\\xa4;\\x16\\x15\\x94\\x17\\x9e}\\xf6YL\\x9f>\\x1d\\xa1P\\x08\\xaf\\xbd\\xf6\\x1a***\\xcc\\x0e\\x89\\x92`\\xf7\\'\"\\xedx\\xa5\\xc2\\xfaF\\x8e\\x1c\\x89\\x9a\\x9a\\x1a466\\xa2\\xae\\xae\\x0e\\xb3f\\xcd\\xc2\\x7f\\xfe\\xf3\\x1f\\xb3\\xc3\"\\xd2\\x15\\xcfBdk_\\x7f\\xfd5***p\\xc3\\r7`\\xe9\\xd2\\xa5x\\xfd\\xf5\\xd7q\\xc9%\\x97\\x98\\x1d\\x16\\xa9`\\xf7\\'\"\\xed\\xfa\\xfb\\xfbYT\\xe4\\x88\\x92\\x92\\x12\\xb4\\xb7\\xb7c\\xd8\\xb0a\\xb8\\xf4\\xd2K\\xb1c\\xc7\\x0e\\xb3C\"\\xd2\\r\\xcfBd[\\xff\\xfe\\xf7\\xbfq\\xc5\\x15W`\\xdb\\xb6m\\xa8\\xaf\\xafG]]\\x1dF\\x8d\\x1aevX\\xa4\\x01\\xbb?\\x11i700\\xc0\\xeeO9\\xe4\\xbc\\xf3\\xce\\xc3\\xbe}\\xfb\\xb0a\\xc3\\x06\\xac_\\xbf\\x1e\\xeb\\xd6\\xad\\xc3\\x17_|avXD\\x19cQA\\xb6TWW\\x87\\xcb.\\xbb\\x0c#F\\x8c@{{;JKK\\xcd\\x0e\\x89R\\xc0\\xeeOD\\xda\\xb1\\xfbS\\xee\\x19:t(\\xaa\\xaa\\xaa\\xf0\\xc2\\x0b/`\\xf7\\xee\\xdd\\x989s&|>\\x9f\\xd9a\\x11e\\x84g!\\xb2\\x95\\xcf?\\xff\\x1c\\xabW\\xaf\\xc6\\x8d7\\xde\\x88\\x9bo\\xbe\\x19\\xfb\\xf7\\xef\\xc7\\xf7\\xbf\\xff}\\xb3\\xc3\\xa2\\x14\\xb1\\xfb\\x13\\x91v\\xbcQ;w-\\\\\\xb8\\x10\\x87\\x0e\\x1d\\xc2\\x84\\t\\x13P\\\\\\\\\\x8c\\x9a\\x9a\\x1a\\xfe\\xe8\\'\\xe5,\\x16\\x15d\\x1b\\x87\\x0e\\x1d\\xc2\\x8c\\x193\\xd0\\xda\\xda\\x8a]\\xbbv\\xa1\\xa6\\xa6\\x06C\\x87\\x0e5;,J\\x03\\xbb?\\x11i\\xc7+\\x15\\xb9m\\xf2\\xe4\\xc9\\xd8\\xb3g\\x0f\\xee\\xbe\\xfbn\\xdc~\\xfb\\xedX\\xbe|9>\\xfd\\xf4S\\xb3\\xc3\"J\\x19\\xcfB\\x94\\xf3\\x84\\x10\\xa8\\xa9\\xa9\\xc1\\xec\\xd9\\xb3q\\xdey\\xe7\\xc1\\xe7\\xf3a\\xf1\\xe2\\xc5f\\x87E\\x19`\\xf7\\'\"\\xedXT\\xe4\\xbe\\xc2\\xc2BTUU\\xa1\\xb5\\xb5\\x15\\x87\\x0e\\x1dBQQ\\x11\\xf6\\xef\\xdfovXD)\\xe1Y\\x88r\\xda\\xc7\\x1f\\x7f\\x8c\\xa5K\\x97\\xe2\\x8e;\\xee\\xc0=\\xf7\\xdc\\x83\\xdd\\xbbw\\xe3\\xec\\xb3\\xcf6;,\\xca\\x10\\xbb?\\x11i\\xc7\\xeeO\\xf61w\\xee\\\\\\xf8|>L\\x9b6\\r\\xd7\\\\s\\r\\xaa\\xaa\\xaax\\x1e\\xa4\\x9c\\xc1\\xa2\\x82r\\xd6\\xde\\xbd{QTT\\x84\\xb7\\xdf~\\x1b/\\xbf\\xfc2\\xaa\\xaa\\xaa\\xf8m\\x9dM\\xb0\\xfb\\x13\\x91v\\xbcRa/\\xe3\\xc7\\x8fGss3\\xaa\\xab\\xabq\\xff(GY\\x02\\x00\\x00\\x1f\\xfeIDAT\\xfd\\xf7c\\xc1\\x82\\x058~\\xfc\\xb8\\xd9a\\x11\\xa9\\x1abv\\x00D\\xa9\\xea\\xeb\\xeb\\xc3\\xa6M\\x9b\\xb0i\\xd3&8\\x9dN<\\xf9\\xe4\\x93\\x187n\\x9c\\xd9aQ\\x9aN\\x9e<\\x89\\xe6\\xe6f\\x9c<y\\x12_}\\xf5\\x15\\x00\\xe0\\xc8\\x91#\\x185j\\x14v\\xee\\xdc\\x893\\xce8\\x03\\x00\\xd0\\xdb\\xdb\\x8b\\x81\\x81\\x01l\\xd8\\xb0\\x81\\xdf\\xcaR\\xdez\\xef\\xbd\\xf7\\xf0\\xdcs\\xcfa\\xd4\\xa8Q\\x18>|8\\x00\\xe0\\x8d7\\xde@\\x7f\\x7f?jkk\\xc3\\xd3\\x8d\\x1d;\\x16\\x13&L\\xc0\\xdc\\xb9s\\xcd\\n\\x952 I\\x12***p\\xd5UW\\xa1\\xac\\xac\\x0cEEE\\xd8\\xb6m\\x1b\\x96,YbvhD\\x8a$\\xc1\\xc7\\x0c\\x90\\x85|\\xfd\\xf5\\xd7\\x181b\\x84\\xe2\\xf8#G\\x8e`\\xcd\\x9a5x\\xfd\\xf5\\xd7\\xf1\\xc0\\x03\\x0f\\xf0\\x97\\xb1m\\xe2\\xe2\\x8b/\\xc6{\\xef\\xbd\\x97\\xf4\\xc6\\xfa\\xbe\\xbe>\\xcc\\x9e=\\x1b\\xff\\xfc\\xe7?\\xb3\\x18\\x19\\x91\\xb5|\\xf4\\xd1G8\\xe7\\x9cs\\x00@\\xb1\\xb8\\x1e\\x18\\x18@\\x7f\\x7f?6n\\xdc\\x88\\xaa\\xaa\\xaa,FGF\\xe8\\xed\\xedEyy9v\\xee\\xdc\\x89\\xdbn\\xbb\\r\\x0f?\\xfc0\\x86\\r\\x1b\\xa68\\xbdZ;Jd\\x90&^/%\\xcb\\xe8\\xea\\xea\\xc2\\xacY\\xb3\\x14\\x7f\\x04\\xe8\\xb9\\xe7\\x9eCQQ\\x11>\\xfe\\xf8c\\xb4\\xb5\\xb5\\xb1\\xa0\\xb0\\x91\\xb5k\\xd7b\\xc8\\x90!8u\\xea\\x94\\xe2\\xab\\xa0\\xa0\\x00\\xabW\\xaf6;T\"SM\\x9c8\\x11\\xb3g\\xcf\\x06\\x00\\xc5\\\\\\x91\\xfb\\xe03_\\xeca\\xf4\\xe8\\xd1\\xd8\\xb1c\\x07\\xb6m\\xdb\\x86\\'\\x9f|\\x12\\xb3g\\xcf\\xc6\\xe1\\xc3\\x87\\x13N\\xbbo\\xdf>,^\\xbc\\x98]G\\xc9\\x14,*\\xc8\\x12\\xfa\\xfb\\xfb\\xb1f\\xcd\\x1a\\xb4\\xb7\\xb7\\xa3\\xbc\\xbc<j\\xdc\\xc9\\x93\\'QQQ\\x81\\xe5\\xcb\\x97\\xe3\\xdak\\xaf\\xc5\\xa1C\\x870m\\xda4\\x93\"%#\\xac]\\xbbV\\xf5fD!\\x04\\xae\\xbf\\xfe\\xfa,EDd]k\\xd6\\xac\\x81$I\\x8a\\xe3%I\\xc2\\xa5\\x97^\\x8a\\x0b.\\xb8 \\x8bQ\\x91\\xd1\\xd6\\xad[\\x87C\\x87\\x0e\\xa1\\xaf\\xaf\\x0f3f\\xcc\\x80\\xc7\\xe3\\x89\\x1a\\xff\\xbf\\xff\\xfd\\x0f+W\\xae\\xc4+\\xaf\\xbc\\x82\\xcd\\x9b7\\x9b\\x14%\\xe53\\x16\\x15d\\t\\x0f>\\xf8 \\xda\\xdb\\xdb\\x01\\x00;v\\xec\\xc0\\xf6\\xed\\xdb\\x01\\x00\\x9d\\x9d\\x9d(..\\xc6SO=\\x85\\x1d;v\\xa0\\xae\\xae\\x0e\\xa7\\x9dv\\x9a\\x99\\xa1\\x92\\x01\\xce=\\xf7\\\\\\\\y\\xe5\\x95\\x8a7\\x9b\\x16\\x14\\x14`\\xce\\x9c9\\x980aB\\x96##\\xb2\\x9e\\x1bn\\xb8!\\xe9\\xf8\\xc2\\xc2B\\xdct\\xd3MY\\x8a\\x86\\xb2\\xe9\\xa2\\x8b.\\x82\\xd7\\xeb\\xc5\\x8d7\\xde\\x88\\xd5\\xabWc\\xdd\\xbau\\xf8\\xf2\\xcb/!\\x84\\xc0\\xfa\\xf5\\xeb\\xc3\\xbfo\\xf1\\x9b\\xdf\\xfc\\x06o\\xbf\\xfd\\xb6\\xc9\\xd1R\\xbeaQA\\xa6\\xeb\\xe8\\xe8\\xc0\\xc6\\x8d\\x1b\\xa3\\xbe\\xa9\\xbe\\xf5\\xd6[\\xf1\\xf0\\xc3\\x0fc\\xe6\\xcc\\x99\\x18:t(\\xda\\xdb\\xdby)\\xdf\\xe6\\xd6\\xaf_\\xaf\\xf8\\xed\\xab$IX\\xb3fM\\x96#\"\\xb2\\xa6\\xf1\\xe3\\xc7c\\xee\\xdc\\xb9\\x8a\\xf7T\\x08!\\xb0b\\xc5\\x8a,GE\\xd92b\\xc4\\x08\\xd4\\xd4\\xd4\\xe0\\x99g\\x9eAKK\\x0b\\x8a\\x8b\\x8b\\xe1v\\xbb\\xb1k\\xd7.\\x9c:u*<\\xdd\\xaaU\\xab\\xf0\\xcd7\\xdf\\x98\\x18)\\xe5\\x1b\\x16\\x15d\\xaa\\x93\\'O\\xa2\\xac\\xac,nx\\x7f\\x7f?\\xfe\\xf0\\x87?\\xe0\\xe6\\x9bo\\xc6\\xfe\\xfd\\xfbq\\xfe\\xf9\\xe7\\x9b\\x10\\x1deSiii\\xd2\\xc7b._\\xbe<\\x8b\\xd1\\x10Y\\xdb\\xea\\xd5\\xab\\x91\\xe89+\\x85\\x85\\x85X\\xb4h\\x11\\xce:\\xeb,\\x13\\xa2\\xa2l\\xba\\xe1\\x86\\x1b\\xe0\\xf3\\xf90v\\xecX<\\xf4\\xd0CQ\\xc7\\xc3\\xa9S\\xa7\\xf0\\xde{\\xefa\\xd3\\xa6M&FH\\xf9\\x86E\\x05\\x99j\\xe3\\xc6\\x8d\\xe8\\xea\\xeaB___\\xd4\\xf0S\\xa7N!\\x18\\x0cb`` \\xe9S.\\xc8>\\xc6\\x8c\\x19\\x83%K\\x96`\\xc8\\x90\\xe8\\']\\x17\\x16\\x16b\\xfe\\xfc\\xf9\\xe1G\\xcb\\x12\\x11p\\xfd\\xf5\\xd7\\',\\xc2\\x07\\x06\\x06\\xb0~\\xfdz\\x13\"\"3\\x9cq\\xc6\\x19\\x8a\\xbfa\\xd1\\xdf\\xdf\\x8f\\xdf\\xfd\\xeewx\\xed\\xb5\\xd7\\xb2\\x1c\\x15\\xe5+\\x16\\x15d\\x1a\\xaf\\xd7\\x8b\\x87\\x1f~X\\xf1\\x06\\xdd\\xbe\\xbe><\\xf6\\xd8c\\xf8\\xeb_\\xff\\x9a\\xe5\\xc8\\xc8,\\xeb\\xd7\\xaf\\x8f;\\x1e\\x84\\x10\\xec\\xfaF\\x14c\\xdc\\xb8q\\x98?\\x7f~\\\\\\x17\\xa8\\x91#G\\xc2\\xe1p\\x98\\x14\\x15e\\xdb/\\x7f\\xf9K\\x1c9r$\\xee\\x8b9\\x99$IX\\xbdz5N\\x9c8\\x91\\xe5\\xc8(\\x1f\\xb1\\xa8 S|\\xf9\\xe5\\x97(++S\\xfd\\x15XI\\x92\\xb0~\\xfdz\\x1c9r$K\\x91\\x91\\x99\\xae\\xbd\\xf6Z\\x8c\\x1e=:jXaa!\\x96-[fRDD\\xd6\\x15\\xdb\\x05j\\xe8\\xd0\\xa1(--\\xc5\\xc8\\x91#M\\x8c\\x8a\\xb2e\\xdb\\xb6m\\xd8\\xb9sg\\xd4}\\x14\\xb1\\xfa\\xfb\\xfb\\xd1\\xdd\\xdd\\x8d\\xbb\\xef\\xbe;\\x8b\\x91Q\\xbebQA\\xa6\\xb8\\xf3\\xce;q\\xec\\xd81\\xc5oWd\\x85\\x85\\x85\\xf8\\xfc\\xf3\\xcfq\\xeb\\xad\\xb7f)22\\xd3\\xb0a\\xc3PVV\\x16\\xfe\\x11\\xbc!C\\x86`\\xe1\\xc2\\x85\\x18;v\\xac\\xc9\\x91\\x11Y\\xcfu\\xd7]\\x17u\\xa5\\xe2\\xd4\\xa9S\\xf8\\xf9\\xcf\\x7fnbD\\x94-\\xc7\\x8e\\x1d\\xc3m\\xb7\\xdd\\x86\\x82\\x82\\x02\\xc5\\x1b\\xf6e}}}x\\xf4\\xd1G\\xb1w\\xef\\xde,EG\\xf9\\x8aE\\x05e\\xddK/\\xbd\\x84\\xc7\\x1f\\x7f\\\\\\xb1\\xa0\\x90\\xef\\xa1\\x18;v,V\\xadZ\\x85\\xc6\\xc6F<\\xf3\\xcc3\\xd9\\x0c\\x91L\\xb4v\\xed\\xda\\xf07o\\x03\\x03\\x03\\xec\\xfaD\\xa4\\xe0\\xf4\\xd3O\\xc7\\xe2\\xc5\\x8b\\xc3\\xf7!\\x9du\\xd6Y\\x983g\\x8e\\xc9QQ6\\x9cs\\xce9\\xf8\\xe0\\x83\\x0f\\xf0\\xd4SOa\\xd9\\xb2e\\x189r$$I\\n\\x7f!\\x13K\\x92$\\x94\\x95\\x95\\xe1\\xb3\\xcf>\\xcbr\\xa4\\x94O$\\x91\\xe8\\xf1\\x11D\\x06\\xe9\\xe9\\xe9\\xc1E\\x17]\\x84\\x8f?\\xfe8\\xdcw^\\x92$\\x14\\x16\\x16\\xa2\\xaf\\xaf\\x0fS\\xa6L\\xc1\\xf2\\xe5\\xcb\\xb1b\\xc5\\n\\xcc\\x9e=;\\xe9\\x0f<\\x91=\\t!0u\\xeaT\\x1c=z\\x14\\xc3\\x86\\r\\xc3\\'\\x9f|\\x12\\xd7%\\x8a\\x88\\x06y<\\x1e\\xacY\\xb3\\x06\\x85\\x85\\x85\\xd8\\xb0a\\x03\\x1e|\\xf0A\\xb3C\"\\x13\\x9c8q\\x02\\xaf\\xbe\\xfa*\\x9a\\x9b\\x9b\\xe1\\xf1x\\xf0\\xc9\\'\\x9f`\\xf8\\xf0\\xe18y\\xf2dx\\x9a\\xa1C\\x87b\\xf5\\xea\\xd5\\xd8\\xb6m\\x9by\\x81\\x92\\x9d5\\xb1\\xa8\\xa0\\xacZ\\xb3f\\rv\\xee\\xdc\\x89\\x82\\x82\\x02\\x08!PPP\\x80\\xd9\\xb3g\\xe3\\xfa\\xeb\\xaf\\x87\\xd3\\xe9\\xc4\\xf7\\xbe\\xf7=\\xb3C$\\x0b\\xa8\\xac\\xac\\xc4\\xa6M\\x9b\\xb0|\\xf9r<\\xfb\\xec\\xb3f\\x87CdY_~\\xf9%\\xc6\\x8f\\x1f\\x8f\\xaf\\xbf\\xfe\\x1a\\xff\\xfa\\xd7\\xbfp\\xc9%\\x97\\x98\\x1d\\x12\\x99l``\\x00^\\xaf\\x17\\xcd\\xcd\\xcd\\xf8\\xf3\\x9f\\xff\\x8c\\xc3\\x87\\x0fc\\xe8\\xd0\\xa1\\xe8\\xeb\\xeb\\x83\\x10\\x02\\xcd\\xcd\\xcd\\xbc\\x99\\x9f\\x8c\\x10_Tx\\xbd^<\\xf2\\xc8#f\\x05D6v\\xec\\xd81x\\xbd^\\x14\\x16\\x16\\xe2\\xec\\xb3\\xcf\\xc6\\xa4I\\x930q\\xe2\\xc4\\xac=2v\\xc3\\x86\\r\\xb8\\xf2\\xca+\\rY6\\xf3F_\\xbd\\xbd\\xbd\\xf8\\xfb\\xdf\\xff\\x8e\\xe2\\xe2bL\\x9e<\\xd9\\xecpl\\xc5\\xc8<\\x88\\xf4\\xc8#\\x8f\\xc0\\xeb\\xf5\\x1a\\xbe\\x1e\\x1a<\\xff\\xf4\\xf6\\xf6b\\xe1\\xc2\\x85f\\x87\\x92\\x17\\x9a\\x9a\\x9a\\x0c[\\xb6\\x11y\\xd3\\xdb\\xdb\\x8b\\xe3\\xc7\\x8f\\xe3\\xd8\\xb1c\\xf8\\xec\\xb3\\xcf0l\\xd80,\\\\\\xb8\\x10\\xc3\\x87\\x0f\\xd7u=\\x94_\\x12\\xe4AS\\xdc=\\x15G\\x8e\\x1ca\\xffu\\xd2\\xdd\\xc0\\xc0\\x00zzz\\xf0\\x93\\x9f\\xfc\\x04\\xcb\\x96-Cqq1\\xa6N\\x9d\\x9a\\xb5\\x82\\xe2\\x99g\\x9e1\\xf4\\tR\\xcc\\x1b}\\x8d\\x1e=\\x1ag\\x9ey&&N\\x9chv(\\xb6bt\\x1eD\\xf2z\\xbdhkk\\xcb\\xca\\xba\\xf2\\xdd\\x94)Sp\\xdey\\xe7\\x99\\x1d\\x86\\xed\\x1d=z\\xd4\\xf0\\xf3\\xbc\\x11y3z\\xf4h\\\\x\\xe1\\x85\\x987o\\x1e\\x96.]\\x8aK.\\xb9\\x04\\x1f}\\xf4\\x91\\xae\\xeb\\xa0\\xfc\\x91,\\x0f\\x86$\\x1c\\nc+q\\xa2l\\xcb\\xd6\\xbd\\x19\\xcc\\x1b\\xfd\\x1c>|\\x98\\xbf\\xa4\\xae\\xb3l\\xdf\\xa3T\\\\\\\\\\xcc\\x9c\\xc8\\x82\\xaf\\xbe\\xfa\\n===8\\xfb\\xec\\xb3\\xcd\\x0e\\xc5\\xd6\\x1a\\x1b\\x1bQZZj\\xf8z\\x987de\\xc9\\xf2@\\xb1\\xa8 \"2\\x13\\x0b\\n\"mF\\x8d\\x1a\\x85Q\\xa3F\\x99\\x1d\\x06\\x11\\xe59>R\\x96\\x88\\x88\\x88\\x88\\x882\\xc2\\xa2\\x82\\x88\\x88\\x88\\x88\\x882\\xc2\\xa2\\x82\\x88\\x88\\x88\\x88\\x882\\xc2\\xa2\\x82\\x88\\x88\\x88\\x88\\x882\\xc2\\xa2\"\\x89\\xca\\xcaJTVV\\x1a>\\x0fQ.b~\\x10\\xa9c\\x9e\\x10)c~\\xd8\\x0b\\x8b\\x8a\\x1c\\xd5\\xd2\\xd2\\x02\\xa7\\xd3\\t\\xa7\\xd3\\x89\\x96\\x96\\x16\\xc3\\xe7#\\xca%\\xcc\\x0f\"u\\xcc\\x13\"e\\xcc\\x8f4\\x88\\x18\\r\\r\\r\"\\xc1`\\xb2\\x10\\x8f\\xc7#\\x1c\\x0e\\x87\\x08\\x85B\"\\x14\\n\\t\\x97\\xcb%jkk\\r\\x9b\\xcf\\x0e\\x00\\x88\\x86\\x86\\x06\\xc3\\x96\\xcf\\xbc\\xb1\\x0e\\xe6\\x872\\xa3\\xf3 RII\\x89())\\xc9\\xca\\xba(u\\xcc\\x93\\xd4e\\xe3<\\xcf\\xbc\\xb1\\x06\\xe6\\x87\\xb2$y\\xd0\\xc8\\xa2\"\\xc7\\xf8\\xfd~\\x01@x\\xbd\\xde\\xf00\\x9f\\xcf\\'\\x00\\x08\\x9f\\xcf\\xa7\\xfb|v\\xc1\\xa2\"?0?\\x92cQAB0O\\xd2\\xc5\\xa2\"?0?\\x92KVT\\xe4u\\xf7\\xa7={\\xf6\\xc0\\xe9tB\\x92$l\\xde\\xbc\\x19\\xc1`0<.\\x18\\x0c\\xa2\\xbe\\xbe\\x1eN\\xa73\\xe1\\xdf---\\x90$\\tN\\xa7\\x13\\xdd\\xdd\\xdd\\t\\xa71\\xc2\\x81\\x03\\x07\\x00\\x00\\x93&M\\n\\x0f\\x93\\x7fE\\xf5\\xe0\\xc1\\x83\\xba\\xcfG\\xf9\\x8b\\xf9\\xc1\\xfc u\\xcc\\x13\\xe6\\t)c~\\xe4Y~\\xa4P\\x81\\xd8JsssTE\\xe9\\xf1x\\x04\\x80\\xf0\\xcb\\xe1p\\x84\\xff/\\x84\\x88\\xfa[\\x9eG\\xaeJ].W\\xdc4J\"\\xd7\\x91\\xec\\xa5\\xc4\\xe5r%\\x1c/\\xc7\\xac\\xf7|v\\x01^\\xa9H\\t\\xf3C\\xdb|\\xb9\\xc6\\xe8<\\x88\\x94\\x0f\\xdf\\xb82O\\xb4\\xcdg\\x17\\xbcR\\x91\\x1a\\xe6\\x87\\xb6\\xf9r\\r\\xbb?%\\x90\\xe8\\xa0\\x02 \\xaa\\xab\\xab\\x15\\xa7Q\\x9aGm\\x1a=)-_k\\x92\\xa5:\\x9f]\\xb0\\xa8H\\r\\xf3C\\xdb|\\xb9\\x86E\\x85\\xbe\\x98\\'\\xda\\xe6\\xb3\\x0b\\x16\\x15\\xa9a~h\\x9b/\\xd7\\xb0\\xfbS\\x02.\\x97+\\xe1\\xf0;\\xee\\xb8#\\xcb\\x91\\x10Y\\x0f\\xf3\\x83H\\x1d\\xf3\\x84H\\x19\\xf3#\\xff\\xe4}QQ__\\x0f\\x00\\xe8\\xe8\\xe8\\x00\\x00TWW\\x1b\\xba^I\\x924\\xbd\\x948\\x1c\\x0e\\xc5qJ\\t\\x9c\\xc9|\\x94\\x9f\\x98\\x1f\\xda\\xe6\\xa3\\xfc\\xc6<\\xd16\\x1f\\xe5\\'\\xe6\\x87\\xb6\\xf9\\xec$o\\x8b\\x8ai\\xd3\\xa6\\xa1\\xb9\\xb9\\x19\\xc7\\x8e\\x1d\\x83$I\\xa8\\xac\\xac\\x84\\xc7\\xe3\\xc1\\xed\\xb7\\xdfn\\xe8z\\x85\\x10\\x9a^J\\xe4\\x836\\xf2f\\'\\xf9\\x06\\xa6\\x193f\\xe8>\\x1f\\xe5\\'\\xe6\\x07\\xf3\\x83\\xd41O\\x98\\'\\xa4\\x8c\\xf9\\x91\\x7f\\xf91\\xc4\\xec\\x00\\xcc\\xd2\\xd2\\xd2\\x829s\\xe6\\xc0\\xe1p\\x18~\\x80\\xebi\\xd1\\xa2E\\x00\\x80\\xf7\\xdf\\x7f\\x1fg\\x9du\\x16\\x00\\xe0\\xf8\\xf1\\xe3Q\\xe3\\xf4\\x9c\\x8f\\xf2\\x13\\xf3\\x83\\xf9A\\xea\\x98\\'\\xcc\\x13R\\xc6\\xfc\\xc8\\xbf\\xfc\\xc8\\xdb+\\x15N\\xa7\\x13c\\xc7\\x8e\\x8d\\xbb\\x1cV^^\\x8e`0\\x18\\xf7\\xd8\\xb3\\xc8\\xbf{zz\\xa2\\xfeM4M\\xe4\\xff\\xf54u\\xeaT\\xd4\\xd6\\xd6\\xe2\\xe9\\xa7\\x9fFOO\\x0fzzz\\xf0\\xf4\\xd3O\\xa3\\xb6\\xb6\\x16S\\xa7N\\rO\\x17\\xfb3\\xf6Z\\xe7#\\x02\\x98\\x1f\\xcc\\x0f\\xd2\\x82y\\xc2<!e\\xcc\\x8f<\\xcc\\x8f\\x14\\xee\\xea\\xb6\\x15\\x9f\\xcf\\x17\\xf5h\\xb2\\xc8\\x97\\xfcX\\xb0d/!\\xd4\\x1f[f$\\xf9Qm\\x0e\\x87C\\xb4\\xb6\\xb6\\xc6\\x8dw\\xbb\\xdd\\xc2\\xedv\\xa7<\\x9f]\\x81O\\x7fJ\\t\\xf3\\xc3\\x9e\\xf9at\\x1eD\\xb2\\xd3Sl\\x940O\\xec\\x99\\'J\\xf8\\xf4\\xa7\\xd40?\\xec\\x99\\x1f\\xc9\\x9e\\xfe$\\t\\x11\\xdd\\xb1\\xac\\xb1\\xb1\\x11\\xa5\\xa5\\xa5I\\xfb\\x9b\\xd9AWW\\x17F\\x8c\\x18\\x11W=vuu\\xe1\\xc2\\x0b/\\xb4\\xfd\\xf6\\xe7\\x1bI\\x92\\xd0\\xd0\\xd0\\x80\\x95+W\\x1a\\xb2|\\xbb\\xe5\\r\\xf3\\xc3\\x9e\\x8c\\xce\\x83H+V\\xac\\x00\\x00455\\x19\\xbe.\\xb30O\\xf2K6\\xce\\xf3v\\xca\\x1b\\xe6\\x87=%\\xc9\\x83\\xa6\\xbc\\xec\\xfeT__\\x8f\\x0b.\\xb8 \\xe1\\xe5\\xa8\\t\\x13&\\xc0\\xe3\\xf1\\x98\\x10\\x15\\x9150?\\x88\\xd41O\\x88\\x941?\\xf2S^\\xde\\xa8\\xbds\\xe7N\\xf4\\xf6\\xf6b\\xd1\\xa2EQ\\x07|WW\\x17^y\\xe5\\x15\\xdcr\\xcb-&FGd.\\xe6\\x07\\x91:\\xe6\\t\\x912\\xe6G~\\xca\\xcb+\\x15\\xdb\\xb7o\\xc7\\xe8\\xd1\\xa3q\\xff\\xfd\\xf7\\x87o\\x1c\\xaa\\xac\\xac\\xc4\\xd1\\xa3Gy\\xa0S\\xdec~\\x10\\xa9c\\x9e\\x10)c~\\xe4\\xa7\\xbc\\xbcR1f\\xcc\\x18\\xacZ\\xb5\\n\\xabV\\xad\\xc2\\x96-[\\xcc\\x0e\\x87\\xc8R\\x98\\x1fD\\xea\\x98\\'D\\xca\\x98\\x1f\\xf9)/\\xafT\\x10\\x11\\x11\\x11\\x11\\x91~XT\\x10\\x11\\x11\\x11\\x11QFXT\\x18$\\x18\\x0c\\xa2\\xbe\\xbe\\x1eN\\xa7\\xd3\\xecP\\x88r\\x02s\\x86H\\x1d\\xf3\\x84H\\x19\\xf3\\xc3\\\\,*\\x0c\\xb2q\\xe3F\\x94\\x95\\x95\\xa1\\xa5\\xa5\\xc5\\xecP\\x92\\xea\\xee\\xeeFyyy\\xf8W.\\xf7\\xec\\xd9\\x93t\\xfa\\x8e\\x8e\\x0el\\xdd\\xba\\x15N\\xa7\\x13\\x92$e)J\\xca\\x07\\xb9\\x923===hkk\\x0b\\xe7\\x01Q61O\\x88\\x941?\\xcc\\xc5\\xa2\\xc2 \\xb9pcROO\\x0f:::\\xb0e\\xcb\\x16\\x84B!\\xcc\\x9d;\\x17\\xf3\\xe7\\xcfWL\\xc6\\xcd\\x9b7\\xa3\\xb2\\xb2\\x12\\x13\\'N\\xc4c\\x8f=\\xc6\\x1f\\xae!]\\xe5B\\xce\\x00@uu5\\xfe\\xf6\\xb7\\xbf\\xe1\\xd6[o\\xb5|\\xc3E\\xf6\\xc3<!R\\xc6\\xfc0W^>\\xfd\\x89\\x06\\xed\\xdb\\xb7\\x0f\\x0e\\x87\\x03\\xc0\\xb7Oj(++\\x83\\xd3\\xe9\\x8c+\\x18\\xca\\xcb\\xcb1~\\xfcxl\\xdf\\xbe\\x1dc\\xc6\\x8c1#\\\\\"K\\xb8\\xef\\xbe\\xfb\\x00\\x00\\x9b6m29\\x12\"\\xebb\\x9e\\x10)\\xb3k~\\xe4\\xfc\\x95\\x8a\\xcd\\x9b7C\\x92$l\\xdd\\xba\\x15\\xc1`0\\xaaKNOO\\x0f\\xb6n\\xdd\\x1a\\xf5\\x8c\\xe4`0\\x08 \\xbe\\xdf]KKK\\xb8\\x0bPww7\\x80\\xc1_\\x84\\x8c\\x1d\\x16\\x0c\\x06\\xd1\\xd2\\xd2\\x12\\x9eO^~yy9\\xba\\xba\\xbaT\\xe3\\r\\x06\\x83\\xe1\\x98\\x9dNg\\\\w\\xa3d\\xdb\\xa37\\xb9\\xa0\\x88\\xe5r\\xb9\\xa2\\xfe\\xae\\xac\\xac\\x040\\x98\\x04,(r\\x1fs\\x86H\\x1d\\xf3\\x84H\\x19\\xf3\\x83\\x12\\x121\\x1a\\x1a\\x1aD\\x82\\xc1\\x96T]]-\\xfc~\\xbf\\x10B\\x88P($\\xdcnwT\\xec.\\x97K\\x00\\x10\\x81@@\\xf8\\xfd~\\x01@\\xb8\\\\.!\\x84\\x10\\x0e\\x87C\\x00\\x10\\x00\\x84\\xcf\\xe7\\x13B\\x08\\xe1\\xf5z\\xc3\\xd3x\\xbd^!\\x84\\x88\\x9bO\\x9e\\x07@x\\x9aP(\\x14^Wgggx\\xfd\\xf2t\\xb2@  \\x1c\\x0e\\x87\\xf0x<B\\x08!Z[[\\xa3\\xd6\\xaf\\xb6=\\xb1\"cI\\xf6\\xd2*\\x14\\n\\t\\x00\\xa2\\xb9\\xb99<\\xcc\\xe7\\xf3\\x85\\x87\\xd5\\xd6\\xd6\\n\\x00\\xc2\\xe1p\\x88\\xd6\\xd6V\\xcd\\xcb\\xb5\\x02\\x00\\xa2\\xa1\\xa1\\xc1\\xb0\\xe5\\xe7J\\xde0g\\xf4\\xcb\\x99T\\xf3\\xcb\\n\\x8c\\xce\\x83H%%%\\xa2\\xa4\\xa4$+\\xeb\\xd2\\x1b\\xf3$\\xbf\\xf3DI6\\xce\\xf3\\xb9\\x907\\xcc\\x8f\\xfc\\xce\\x8f$y\\xd0\\x98\\xd3E\\x85|\\xd0\\xca\\x02\\x81@T\\xecn\\xb7;|@\\xca\\xd3G\\x8eO\\xb43\\xb5\\x0cK4\\x8d\\xfc\\xe1\\xbb\\xba\\xbaZq:\\x8f\\xc7\\x93p\\xd9n\\xb7[\\xd3\\xf6\\x18\\xad\\xb5\\xb5U8\\x1c\\x0e\\x11\\n\\x85\\xc2\\xc3\\xaa\\xab\\xab\\xa3\\x92/2\\x89\\xe5\\xc4\\xce\\x05,*\\x061g\\xf4\\x93\\x8b\\x8d\\x01\\x8b\\nm\\x98\\'\\xfa\\xc9\\xc5<Q\\xc2\\xa2b\\x10\\xf3C?\\xb9\\x98\\x1f\\xb6-*\\xe4\\x0f\\xb7\\x1e\\x8f\\'\\xea\\x83p,\\xbf\\xdf\\x1f\\xfepl\\xd4\\x81\\xade\\xba\\xc8\\n=QE\\xabu{\\x8c\\xe2p8\\xe2\\n\\x85dI\\x1cy\\xd2\\xb0:\\x16\\x15\\x83\\x983\\xfa\\xc9\\xc5\\xc6\\x80E\\x856\\xcc\\x13\\xfd\\xe4b\\x9e(aQ1\\x88\\xf9\\xa1\\x9f\\\\\\xcc\\x0f\\xdb\\x16\\x15\\x9d\\x9d\\x9dQ\\x07Kd\\xa5*\\xab\\xad\\xad\\x15\\x0e\\x87Ctvv\\x9a~`\\xab\\x1d<Z\\xb6\\'\\xd1\\xfa\\xd4^Zx<\\x1eQ[[\\xab\\xbaMZ\\xb7\\xc5jXT\\x0cb\\xce\\xe4\\xf7ek\\x16\\x15\\xda0O\\xf2;O\\x94\\xb0\\xa8\\x18\\xc4\\xfc\\xc8\\xef\\xfc\\xb0mQ!\\xf3\\xf9|\\xe1J3\\xf2`\\x90/y\\xc9}\\xe5\\xb2q`k\\xb9\\xe4\\x17\\xd9\\xf7/\\x95\\xed1\\x8a\\xcf\\xe7\\x0b_\\x06\\x8c%\\xc7\\x11[\\xbd\\x03\\x83\\xf7V\\xe4\\n\\x16\\x15\\xd1\\x983\\x99\\xcb\\xc5\\xc6\\x80EEj\\x98\\'\\x99\\xcb\\xc5<Q\\xc2\\xa2\"\\x1a\\xf3#s\\xb9\\x98\\x1f\\xb6-*b?\\xec\\xca\\xddr\"\\xc7\\xa7Z\\xbd\\xa6{`\\xcb\\xd5x\\xe4M\\xce\\xb1\\xd3\\xc97:\\xbb\\xdd\\xeep\\xdc\\x81@ |\\xf0\\xaam\\x8f\\x11\"\\xd7\\x1f\\xb9^9Acoh\\x12\\xe2\\xdb\\x1b\\xba\\xe5\\x9b\\x9er\\x01\\x8b\\x8aA\\xcc\\x19\\xfd\\xe4bc\\xc0\\xa2B\\x1b\\xe6\\x89~r1O\\x94\\xb0\\xa8\\x18\\xc4\\xfc\\xd0O.\\xe6G\\xb2\\xa2\"\\xe7\\x1f)[]]\\x1d~\\xe4\\xd8\\xb8q\\xe3P]]\\x1d\\x1e\\'?2\\xb5\\xbb\\xbb;\\xea\\x91c\\xc1`0\\xfcx3`\\xf0\\xf1g\\xf2\\xf0\\xc8i\\x94\\x86\\xc9\\xea\\xeb\\xeb\\xc3\\xf3o\\xdf\\xbe\\x1d\\x0e\\x87#\\xbc\\xceD\\xf3-[\\xb6\\x0c\\xc0\\xe0s\\x89\\xc7\\x8e\\x1d\\x0bI\\x920a\\xc2\\x04\\xacX\\xb1B\\xd3\\xf6\\xe8-\\x18\\x0c\\xe2\\x17\\xbf\\xf8\\x05\\xee\\xb8\\xe3\\x8e\\xf0\\xa3\\xdf$IBQQ\\x11\\x96,Y\\x02\\x00\\x987o\\x1e\\xdcnw\\xd4#\\xe1\\x1a\\x1b\\x1b\\xe1p8\\xb0j\\xd5*\\xc3b#\\xe30g2\\'o\\x7f\\xec\\xff\\xc9>\\x98\\'\\x99c\\x9e\\xd8\\x17\\xf3#s\\xb6\\xcc\\x8f\\x14*\\x10\\xcb\\x01\\x10\\xae6\\x91\\xe0r\\x95\\\\m\\xba\\xddn\\x11\\x08\\x04\\xc2O$\\x90\\x1fU\\x16\\xf9\\x92\\x97\\x97\\xca0\\x9f\\xcf\\x17\\xee\\x87W[[\\x1bU\\xe9&\\x9aO\\x88\\xc1\\x1b\\x97\\xe4\\xc7\\x95\\xc9\\xb1h\\xdd\\x1e\\xbd\\xc9\\x97\\xf9\\x12\\xbdb/\\x13\\xca\\x95~\\xa2m\\xcd\\x05\\xe0\\x95\\n!\\x04sF\\x0fJ9\\x93\\x0b\\x8c\\xce\\x83H\\xb9\\xf0\\x8d\\xab\\x12\\xe6I\\xe6r9O\\x94\\xf0J\\xc5 \\xe6G\\xe6r9?\\x92]\\xa9\\x90\\x84\\x10\\x02\\x11\\x1a\\x1b\\x1bQZZ\\x8a\\x98\\xc1\\x14A\\xfeQ\\x14\\xbeG\\xb9C\\x92$444`\\xe5\\xca\\x95\\x86,\\x9fy\\x93\\x1cs\\xc6\\x1a\\x8c\\xce\\x83H\\xf2\\xb7\\x80MMM\\x86\\xaf\\xcb.\\x98\\'\\xd6\\x96\\x8d\\xf3<\\xf3F\\x19\\xf3\\xc3\\x1a\\x92\\xe4AS\\xcew\\x7f\"\"\"\"\"\"s\\xb1\\xa8HQ\\xb2~~D\\x14\\x8f9C\\xa4\\x8eyB\\xa4\\x8c\\xf9\\x91\\x1bXT\\xa4h\\xc2\\x84\\t\\t\\xffOD\\x891g\\x88\\xd41O\\x88\\x941?r\\xc3\\x10\\xb3\\x03\\xc85\\xec\\xcbG\\x94\\x1a\\xe6\\x0c\\x91:\\xe6\\t\\x912\\xe6Gn\\xe0\\x95\\n\"\"\"\"\"\\xca\\x08\\x8b\\n\"\"\"\"\"\\xca\\x88-\\x8a\\x8a`0\\x88\\xfa\\xfaz8\\x9dN\\xb3CQ\\x15\\xf9#s\\xf2\\xe3\\xd1\\xf2A\\xben\\xb7U1g\\xcce\\xc7m\\xb2#\\xe6\\x89\\xb9\\xec\\xb8Mv\\xc2\\xfc0\\x97\\x15\\xb7\\xc9\\x16E\\xc5\\xc6\\x8d\\x1bQVV\\x86\\x96\\x96\\x16\\xb3C\\xd1L\\x08\\x11\\xd7G\\xb0\\xa5\\xa5\\x05N\\xa7\\x13N\\xa7S\\xd7m\\xd9\\xbauk\\xdc\\x01\\xd7\\xd3\\xd3\\x83\\xb6\\xb66l\\xdd\\xbaU\\x97\\x13\\x82Z\\xec\\x89\\xb6\\x97\\xcc\\xc3\\x9c\\x89\\xa7\\xd7\\xb2\\xb4\\xe4\\x16\\xf3!70O\\xa2uww\\xa3\\xbc\\xbc\\x1c\\x92$\\xa1\\xbc\\xbc\\x1c{\\xf6\\xec\\xc9(V\\xb6\\x1b\\xb9\\x8d\\xf9\\x11/\\xef\\xdb\\x91\\x14~)\\xcf\\xd2\\x90#\\xbfF\\xa8\\x14\\xa7\\xc7\\xe3\\x11\\x0e\\x87C\\x84B!\\x11\\n\\x85\\x84\\xcb\\xe5\\x12\\xb5\\xb5\\xb5\\x19\\xafO\\xfee\\xcb\\xd8u\\xba\\xdd\\xee\\xf0\\xafKf\\xfa\\xbe\\xa5\\x12\\xbbY\\xfb\\t\\xfcE\\xed8\\xcc\\x19c\\x96\\x95Jne{\\x1f\\x18\\x9d\\x07\\x91r\\xe1\\x97\\x81\\xb5`\\x9e\\x0c\\n\\x85B\\xa2\\xb9\\xb99\\xfc\\x7f\\x8f\\xc7#\\x00\\x84\\x87\\xa5*\\x17\\xda\\x8dX\\xfcE\\xedxV\\xd97j\\xd8\\x8e\\xe8\\'\\xd9/j\\xb3\\xa8\\xc8\\xb2Dq\\xca?]\\xef\\xf5z\\xc3\\xc3\\xe4b\\xc0\\xe7\\xf3\\xa5\\xbd\\xaeP(\\xa4zPf\\xfa\\xbe\\xa5\\x1a;\\x8b\\n\\xeb`\\xce\\xe8\\xbf,\\xb5\\xb8\\xd3\\x99FO,*R\\xc7<\\x19\\x94\\xa8xH\\xf7\\xbd\\xc9\\x95v#\\x16\\x8b\\x8axV\\xd97j\\xd8\\x8e\\xe8\\'YQaj\\xf7\\xa7\\xb6\\xb66\\xc5>a\\x9b7o\\x0e\\x0f\\xeb\\xee\\xeeFOOO\\xb8\\x1b\\x8f$I\\xa8\\xac\\xacT\\xfc\\x01\\x94D\\xcbS\\xeaw\\x16\\x0c\\x06\\xc3\\xebr:\\x9d\\x19_\\xceM\\xc7\\x81\\x03\\x07\\x00\\x00\\x93&M\\n\\x0f;\\xfb\\xec\\xb3\\x01\\x00\\x07\\x0f\\x1eL{\\xb9O<\\xf1\\x04n\\xbb\\xed\\xb6\\xcc\\x82SaT\\xec\\x94\\x18sf\\x90\\x9e\\xc7\\x1d\\x8fa\\xfba\\x9e\\x0c\\xd2\\xf3\\xd8v8\\x1c\\t\\x87\\xbb\\\\.S\\xe3\\xa2\\xd41?\\x06\\xb1\\x1d1@\\n\\x15\\x88!Z[[\\x05\\x00\\xe1v\\xbb\\xe3\\xc6\\xb9\\xdd\\xeep\\x85\\xe7r\\xb9\\x04\\x00\\x11\\x08\\x04\\xc2\\x15\\xa1\\xcb\\xe5\\nO\\x8b\\x88J-\\x10\\x08\\xc4Un\\xf2<\\x91\\xc3\\x02\\x81\\x80p8\\x1c\\xc2\\xe3\\xf1D\\xc5\\xa2TU\\xca\\xf3\\xab\\xbd\\x92I4\\x8d\\xbcm\\x89\\xa6u8\\x1cI\\x97\\xa7\\xa4\\xb5\\xb55\\\\1\\'\\x8bKK\\xcc\\xc9\\xa4\\x1a{\\xa6\\xebK\\x17lt\\xa5\\x829\\xa3o\\xce\\x18\\x91\\x7f\\xf2\\xfc\\xe9l\\x9b\\x91\\x8c\\xce\\x83Hf\\x7f\\xe3\\xca<1\\xee\\xd8\\x16b\\xf0J8\\x90^\\xf7\\xa7\\\\i7b\\xd9\\xe9J\\x05\\xf3\\x83\\xedH\\xba,\\xdf\\xfdI\\xee\\xa2\\x13\\n\\x85\\xc2\\xc3\\xe4\\xae;\\x91\\xd3(\\x1d\\xc8Z\\xfeN4L\\xee\\x13\\x1a;M\\xa2$\\xd3\\x8b\\x96\\xb8\\xd4\\x86\\xab\\t\\x04\\x02Q\\xfd\\xf8\\x8c,*R\\x8d\\x9dE\\x85>\\x983\\xfa\\x1d_F\\x1d\\xabVl\\x0c\\xf2\\xa9\\xa8\\x10\\x82yb\\xe4y\\xb8\\xb5\\xb55\\xdc\\x7f<U\\xb9\\xd2n\\xc4\\xb2SQ!\\x04\\xf3\\x83\\xedHz,_T\\xc8\\xfd\\xce\\xe4\\xaaU\\x88\\xc1\\x13V\\xa2\\xaa\\xd5\\xef\\xf7\\x8b\\xea\\xeaj]\\x0el\\x87\\xc3\\x11\\x1e\\x16\\xfb2J6N\\xfc\\xb17\\x06\\xb1\\xa8\\xb0_Q\\xc1\\x9cac\\x90\\x8e|+*\\x98\\'\\xc6\\x9d\\x87\\x1d\\x0eGT\\xff\\xf1T\\xe4J\\xbb\\x11\\xcbnE\\x05\\xf3\\x83\\xedH:,{O\\x85l\\xda\\xb4ip8\\x1c\\xd8\\xb9sgx\\xd8\\xde\\xbd{1m\\xda\\xb4\\xa8\\xe9\\xb6n\\xdd\\x8a_\\xfd\\xeaW\\x8a};S%?\\xeeK\\x08\\x11\\xf7J$\\xb6\\x0f\\xa2\\xd2+U\\xc9\\xb6\\'\\xd5\\xfe\\xaa---X\\xb4hQ\\xca1\\xa4K\\xcf\\xd8I;\\xe6\\x8c~\\xc7\\x1d\\x8fa\\xfbb\\x9e\\x18sl\\xd7\\xd7\\xd7\\xc3\\xe1p\\xa0\\xb8\\xb88\\xad\\xf9\\x99s\\xd6\\xc0\\xfc`;\\xa27K\\x14\\x15\\x00\\xb0z\\xf5j\\xb4\\xb4\\xb4\\xa0\\xad\\xad\\r\\xdd\\xdd\\xdd\\xb8\\xfc\\xf2\\xcb\\xa3\\xc6\\xd7\\xd7\\xd7\\xe3\\xd6[o\\xc5c\\x8f=\\x86\\x0b.\\xb8@\\xd7uwuui\\x9a.Q\\x02hM\\x8ad\\xe4\\x831\\xf2\\xe6\\xa7\\xee\\xeen\\x00\\xc0\\x8c\\x193RZ\\x96\\xd3\\xe9\\xc4\\xb9\\xe7\\x9e\\xabx\\xc3\\x94\\xde\\xf4\\x8c\\x9dR\\xc3\\x9c\\xd1\\xe7\\xb8\\xe31lo\\xcc\\x13}\\x8f\\xed\\x8e\\x8e\\x0e\\xbc\\xf3\\xce;\\xb8\\xe5\\x96[\\xd2\\x9a\\xdf\\xa8\\xb8(=\\xcc\\x0f\\xb6#z\\xb2LQ1o\\xde<\\x00\\xc0\\xd3O?\\x8d\\x03\\x07\\x0e`\\xce\\x9c9Q\\xe3\\xcb\\xca\\xca\\x00\\x00S\\xa7N\\xd5m\\x9d\\xb5\\xb5\\xb5\\x00\\x80\\xed\\xdb\\xb7\\xa3\\xa7\\xa7\\x07\\xc0\\xb7O$\\xc8&\\xf9\\xca\\xc2\\xfb\\xef\\xbf\\x1f\\x1ev\\xfc\\xf8\\xf1\\xa8qZ%K\\xb4t\\x92N\\x8d\\x9e\\xb1Sj\\x983\\xfa\\x1cw<\\x86\\xed\\x8dy\\xa2\\xdf\\xb1\\x1d\\x0c\\x06\\xf1\\xd2K/\\xe1\\xbe\\xfb\\xee\\x0b\\x0f\\xeb\\xe8\\xe8@yy\\xb9\\xa9qQ\\xfa\\x98\\x1flGt\\x95B_)\\xc3\\xc97\\rUWW\\xc7\\x8d\\x93\\xfb\\xe0\\xf9\\xfd~\\xd1\\xd9\\xd9\\x19\\xeeC\\x16\\x08\\x04\\xa2\\x9e8\\x10\\x08\\x04\\x84\\x10\\xdf\\xde\\x89\\xdf\\xd9\\xd9)\\x84\\x10\\xc2\\xeb\\xf5\\x86\\xa7\\x91o:\\x8a\\x9c/\\xf2\\xe5\\xf7\\xfb\\r\\xdbF(\\xf4}\\xab\\xad\\xad\\x15.\\x97+\\xe9\\x8f\\xa6\\xc8\\xfd\\x19S}\\xe6\\xb1\\xd2:\\xe5\\xa7w\\x00Hx\\xb3\\x9d\\xd6\\xf5i\\x89]-\\x16\\xa3\\xc1f\\xf7T\\xc8\\x983\\xfa\\xe4\\x8c\\xde\\xf9\\xa7\\x96[j\\xdbf\\x14\\xa3\\xf3 \\x92\\x15\\xee\\xa9\\x901O2?\\xb6\\xe5\\'\\xf6$\\xda\\xae\\xc8\\'@\\xd9\\xa9\\xdd\\x88e\\xb7{*d\\xcc\\x0f\\xb6#\\xa9\\xb0\\xfc\\x8d\\xda2\\xf9\\xa6!\\xf9`L4\\xce\\xedv\\x8b@ \\x10~\"A\\xe4\\xe3\\xca\"\\xdfX\\xbf\\xdf\\x1fN\\x06\\xf9\\x84\\'?\\xc2L>\\xf8\\xe5\\xe9\\xe4\\x84\\x92\\x97g\\xa4d;\\xbf\\xb9\\xb9Y\\x00\\x83\\x8f\\x1fkmm\\x8d\\x1b/os\\xaa\\x8f\\'K\\xb4\\xceD\\t\\x1d;M*\\xebS\\x8b=Y,\\xd9`\\xd7\\xa2\\x829\\xa3_\\xce\\xe8\\xb5,-\\xb9\\xa5e\\xdb\\x8c\\x90\\xafE\\x05\\xf3$\\xf3c[\\xfe\\xb0\\x98\\xe8\\x15\\xf9\\xbe\\xda\\xa9\\xdd\\x88e\\xd7\\xa2\\x82\\xf9\\xc1v$\\x159ST\\xe4\\x03=v~\\xa6\\xcf\\x177s},*(UV\\xcb\\x99\\\\\\xce\\x87|-*\\xf2\\x01\\xf3\\xc4xv-*\\xf2\\x01\\xf3C?\\x96\\x7f\\xfa\\x13i\\xd7\\xd6\\xd6\\x86{\\xef\\xbd\\xd7\\xb6\\xeb#\\xd2\\x9b\\x9e\\xc70\\xf3\\x81\\xec\\x8ayB\\xa4\\x8c\\xf9\\xa1\\xcd\\x10\\xb3\\x03 \\xed\\xf6\\xec\\xd9\\x83\\xc9\\x93\\'\\xeb\\xfe\\x04\\x06\\xab\\xac\\x8fHoz\\x1e\\xc3\\xcc\\x07\\xb2+\\xe6\\t\\x912\\xe6\\x87v,*L\"?\\xdeU\\xa4\\xf0D&\\xf9)\\r\\xd9\\xa2\\xe7\\xfa\\x8cx\\x9c-\\xe5\\x17\\xb3s\\x86\\xf9@\\xb9\\x80yB\\xa4\\x8c\\xf9a,\\x16\\x15Y\\x96\\xca\\x81l\\'\\xf9\\xba\\xdd\\x949;\\x1e;v\\xdc&2\\x97\\x1d\\x8f);n\\x13\\x99\\xc3\\x8e\\xc7\\x92\\x15\\xb7\\x89\\xf7T\\x10\\x11\\x11\\x11\\x11QFXT\\x10\\x11\\x11\\x11\\x11QF\\xb2RT\\x04\\x83A\\xd4\\xd7\\xd7\\xc3\\xe9tfcu\\x86\\xa9\\xac\\xacDee\\xa5n\\xd3Y\\x95Q\\xf1\\xdb\\xe58\\xc8\\x16\\xbb\\xbc_V\\xcb\\x1b=\\xd7\\x93\\xce\\xb2r\\xfd\\xfc`&\\xe6Dna[b\\rvy\\xbf\\xac\\x967lK\\xe2e\\xe5\\x9e\\x8a\\x8d\\x1b7\\xe2\\xf1\\xc7\\x1f\\xcf\\xc6\\xaa\\xc8\\xc2x\\x1c\\xa4\\x86\\xef\\x17Q4\\xe6\\x04\\x01<\\x0eR\\xc5\\xf7\\x8b\\xb2E\\x121wz466\\xa2\\xb4\\xb4T\\xf7\\x1b@\\xd2\\xb9\\xe3\\x9e\\xec\\xc7\\xac\\xe3@\\x92$444`\\xe5\\xca\\x95\\x86,\\x9fyC\\xb9\\xc0\\xe8<\\x88\\xb4b\\xc5\\n\\x00@SS\\x93\\xae\\xcbeN\\x10`\\xceq`\\xd4y>\\x12\\xf3\\x86\\xac.I\\x1e4\\xf1\\x9e\\n\"\"\"\"\"\\xca\\x88nEEOO\\x0f\\xea\\xeb\\xeb!I\\x12$I\\xc2\\xd6\\xad[U\\xa7\\xdf\\xbaukx\\xfa\\xca\\xcaJ\\x04\\x83\\xc1\\xa8i6o\\xde\\x1c^V0\\x18\\x8c{&\\xaf\\xdax=\\xc5\\xf6I\\x0c\\x06\\x83hii\\x81\\xd3\\xe9DOO\\x0f\\xca\\xcb\\xcb\\xc3\\xdb\\x90\\xa8\\xef\\xa2\\xd6X\\xdb\\xda\\xda\\xc2\\xef\\x89\\xfc\\x8a]\\x86$I\\xe8\\xee\\xee\\x0e\\xc7!\\x0fw:\\x9d\\xd8\\xb3gO\\xd2\\xf8\\xd4\\xe2Q\\x8a_\\xcb\\xfeM4M\\xec>MDm>\\xb5m\\xc9e\\xcc\\x9b\\xec\\xe6\\xcd\\xa1C\\x874\\xc5#\\xdb\\xb3g\\x0f\\x9cN\\'$I\\xc2\\xe6\\xcd\\x9b\\xe3\\x8e\\xcb\\xd8eE\\xfe\\xdd\\xd2\\xd2\\x12\\xce\\xcb\\xc8|M\\'\\xbf\\xb4\\xecw\\xbb`N\\xb0-a[\\x92:\\xe6\\r\\xdb\\x12\\xc0\\x02m\\x89\\x88\\xd1\\xd0\\xd0 \\x12\\x0cV\\xe5p8\\x84\\xdb\\xed\\x0e\\xff\\xedr\\xb9\\xa2\\xfe\\x06\\x10\\xb5\\\\\\x97\\xcb%\\x00\\x88@  \\xfc~\\xbf\\x00 \\\\.Wx|uu\\xb5\\xf0\\xfb\\xfdB\\x08!B\\xa1\\x90p\\xbb\\xddQ\\xf3\\xab\\x8d\\x8f%\\xaf_\\xed\\x95l\\xfb\"\\xa7\\x89\\xfc\\xdb\\xeb\\xf5\\n\\x9f\\xcf\\'\\\\.W\\xdct\\xe9\\xc4\\xda\\xda\\xda*\\x00D\\xbd\\x7f2\\xb7\\xdb-|>\\x9f\\x10B\\x88@  \\x1c\\x0e\\x87\\xf0x<Q\\xf3\\xf9|>\\xc5\\xf8\\xd4\\xe2I\\x14\\xbf<<\\xd9\\xfe\\x95\\xa7\\xa9\\xad\\xad\\x8d\\x8a\\xcd\\xe1p\\x88P(\\x14\\xb7\\x1fR\\x99/\\xd9\\xb6h\\x05@444\\xa44O*\\x987\\xca\\xdbg\\xa5\\xbc\\xd1\\x1a\\x8f\\x10B477\\x87\\x87\\x0b!\\x84\\xc7\\xe3\\x89\\xdaf\\xb5e\\t!\\xe2\\xf6Q\\xba\\xf9\\xa5\\xb6\\xdf\\xb52:\\x0f\"\\x95\\x94\\x94\\x88\\x92\\x92\\x92\\x94\\xe7cN\\xb0-\\xb1j[\\x92\\xeey>\\x15\\xcc\\x1b\\xe5\\xed\\xb3R\\xde\\xe4s[\\x92$\\x0f\\x1au)*\\xe47(\\x10\\x08\\x84\\x87y\\xbd^\\xe1p8\\xc2\\x7f\\xc7n\\xbc\\xdb\\xed\\x8e\\xda\\x90\\xd8\\xf1\\xb1\\xcb\\x0b\\x04\\x02)\\x8d7B\\xa2\\x18\\x01D\\x9d\\xe8\\x94\\xa6K5V\\xf9\\xa0\\x8f\\\\\\xb6\\x9c\\x0c2\\xf9}\\x8f]\\xb7<M\\xb2\\xf8\\xd4\\xde\\xdb\\xc8\\xbf\\xb5\\xec_9\\tc\\xa7\\x01\\x10n\\xa8\\x12-;\\xd5\\xf9b\\xb7E+\\xa3?L1o\\x94Y-o\\xd2\\x8dG\\x1eV]]\\xad\\xba,-\\xdb/\\xd3r\\x1c\\xa8\\xedw\\xad\\x8c\\xce\\x83H\\xe9|8bN\\xb0-\\xb1r[b\\xd5\\xa2\\x82y\\xc3\\xb6D\\x88\\xec\\xb5%\\x86\\x17\\x15r\\xc5\\x94\\x8cR\\xe0~\\xbf_TWW\\xc7\\x8d\\x97\\xab)\\x8f\\xc7\\x930\\xf9\\xd5\\xc6\\x1bA\\xcbNO4<\\x9dX}>_\\xdc\\xc9\\xb0\\xb5\\xb55\\xfc\\xcd\\x92\\x10\\xd1\\x95j\\xec+Y|j\\xf1\\xc4\\xce\\xa7e\\xff\\xca\\xcb\\x8c\\x14\\n\\x85\\x04\\x80\\xa4\\'\\xb6t\\xe7K\\x95\\xd1\\x1f\\xa6\\x987\\xca\\xac\\x967Z\\xe3Itl\\xaa\\xcd\\x9bNC\\xa0\\xe58\\x90)\\xedw\\xad\\x8c\\xce\\x83H\\xe9|8bN$\\x9f\\x8em\\x89\\xb9m\\x89U\\x8b\\n\\xe6M\\xf2\\xe9\\xd8\\x96\\xc4\\xcb\\xa4-1\\xbc\\xa8\\xd0\\x12T\\xa2ijkk\\x85\\xc3\\xe1\\x10\\x9d\\x9d\\x9dq\\xe3;;;\\xa3Nt\\x91\\x15\\x9d\\x96\\xf1J\\xebW{\\xa5\\xb2\\rZ\\x0f\\xe8Tc\\x95\\xc9\\x97ne\\xb1\\x97\\xe2\\xd4bV\\x1a\\xaf\\x16\\x8f\\xd6\\xed\\xd4\\xb2\\xaet\\x12\\'\\xdd\\x18\\xd4\\xe2\\xb3ZQ\\xc1\\xbcI>]\\xb6\\xf2F)\\x9e\\xd8FE\\xfe[\\xefo\\x97\\xb4\\x1e\\xdb\\xc9\\xf6\\xbbVF\\xe7A\\xa4t>\\x1c1\\'\\x92O\\xc7\\xb6\\xc4\\xdc\\xb6\\xc4\\xaaE\\x05\\xf3&\\xf9tlK\\xa2e\\xda\\x96d\\xedJEd\\x05\\x17+6p\\xf92\\x8d\\xdc\\xcf-\\xd9\\xce\\x90\\xab\\xbcD\\x07\\x82\\xdax=\\xa5{@\\xa7\\x1b\\xab\\xfc\\x1ey\\xbd^\\xe1\\xf7\\xfbEsss\\xc2\\xf5tvvj\\x8aWk<\\xb1\\xf3i\\xd9\\xbf\\xf24\\x91\\x97\\xdd\\xe4e%\\xbb\\xd4\\x96\\xee|\\xa9\\x02\\xacWT0o\\x92O\\x97n\\xacZ\\xf3Fm\\xbdB\\x0c\\xf6\\x85\\x95\\xbf\\xcd\\x89\\xecs\\x9e\\xca\\xb2\\xd4\\xa6\\xd1r\\x1ch\\xdd\\xefj\\x8c\\xce\\x83H\\x99|\\xe3\\xca\\x9cH>\\x9cm\\x899m\\x89U\\x8b\\n\\xe6M\\xf2\\xe9\\xd2\\x8d\\x95mIb\\x86\\x17\\x15\\xb5\\xb5\\xb5\\xe1\\xc4\\x95/-\\xf9\\xfd~\\xd5\\xfezj\\x7fG^\\xa6\\x92+;\\xad\\xe3\\x8d\\x90\\xee\\x01\\x9dn\\xacr\\xbf?\\x97\\xcb\\x95\\xf0\\xb2\\x9d\\xfc\\xbe\\xbb\\xdd\\xee\\xf0\\xb8@ \\x10N\\x96d\\xf1\\xa9\\xbd\\xb7\\x91\\x7fk\\xd9\\xbf\\x91\\xc9\\'\\x93/=\\xb7\\xb6\\xb6*.;\\xdd\\xf9Re\\xf4\\x87)\\xe6\\x8d2\\xab\\xe5\\x8d\\xd6x\\x9a\\x9b\\x9bU/\\x95\\xeb\\xd1\\x10\\xe8q\\x1chet\\x1eDJ\\xe7\\xc3\\x11sB}:\\xb6%\\x89\\x97\\x9d\\x8d\\xb6\\xc4\\xaaE\\x05\\xf3F}:\\xb6%\\xa9\\xc5\\x9c\\x8c\\xe1E\\x85\\xfc\\x94\\x0598y\\xa3\\xe4o=\\xe4\\x1d\\x03|\\xfb-\\x82<\\xbd\\xdf\\xef\\x8f\\xba\\x04#\\x8f\\x97Opr5%\\xf7\\xff\\x92\\xa9\\x8d\\xd7[\\xec6D\\xfe\\x9dl\\xbaLc\\x95o\\x16J4}\\xe4\\xba\"_~\\xbf_1>\\xb5x\\x12\\xc5\\xaf\\xb6\\x7f\\x85\\x18<y\\xcb\\x97\\n\\xe5\\xf9<\\x1eO\\xd4\\xc1\\x9ch\\xd9\\xa9\\xce\\x97.\\xa3?L1o\\x94\\xb7\\xd1Jy\\xa35\\x1ey\\xfd\\x89^.\\x97+n\\xde\\xd8\\xbf\\xe5\\x13\\xba\\xfc\\xa1&\\xd14\\xa9\\xe4\\x97\\xda~\\xd7\\xca\\xe8<\\x88\\x94\\xce\\x87#\\xe6\\x84\\xf2t\\x99\\xc6\\xca\\xb6$\\xf3\\xb6\\xc4\\xaaE\\x05\\xf3Fy\\xbaLce[\\x12\\xcf\\xf0\\xa2B\\xde\\x18\\xf9\\xcdw\\xbb\\xddQ\\x1b\\x11\\xfbF\\n\\xf1m\\xa5\\xe8v\\xbb\\xc3\\xf3\\xba\\\\\\xae\\xa8K2\\xf27%\\x89v\\xa8\\xdax\\xbd)\\x1d\\x14@\\xe2\\x9b\\xc0\"\\xb75\\x93X\\xe5\\xf7I\\xe9\\xb2\\xb4\\xdf\\xef\\x0f\\xbf\\xef\\xb1\\xef_\\xa2\\xf8\\xd4\\xe2I\\x14\\xbf\\x10\\xc9\\xf7o\\xe44r\\xa5\\x0c\\xc4\\xdf\\x14\\x95l\\xd9Z\\xe7\\x8b\\xdd\\x16\\xad\\x8c\\xfe0\\xc5\\xbcI\\xccjy\\xa35\\x1ey\\x19J7\\xb0\\xca\\x97\\xd0\\x93\\xbd\\xd4\\xd6\\x97J~\\xa9\\xedw\\xad\\x8c\\xce\\x83H\\xe9>\\x1a\\x939\\xa1\\xbc\\xadlK\\xd4\\x97md[b\\xd5\\xa2B\\x08\\xe6M\\xb2me[\\x12\\xbf=\\x99\\xb4%\\xc9\\x8a\\n\\xe9\\xff\\x83\\r\\xcb\\xc6\\xcf\\xd0\\x13e\\x9b$Ihhh\\xc0\\xca\\x95+\\rY>\\xf3\\xc6~\\xba\\xba\\xba0b\\xc4\\x08L\\x9d:5n\\xf8\\x85\\x17^\\x98\\x93\\xfb\\xda\\xe8<\\x88\\xb4b\\xc5\\n\\x00@SS\\x93\\xe1\\xeb\"\\xca\\x86l\\x9c\\xe7\\x997\\xf6c\\xb7\\xb6$I\\x1e4\\xe9\\xf6\\x8b\\xdaDDvQ__\\x8f\\x0b.\\xb8 \\xae\\x11\\x00\\x80\\t\\x13&\\xc0\\xe3\\xf1\\x98\\x10\\x15\\x11\\x11\\xe5\\x92|kK\\x86\\x98\\x1d\\x00\\x11\\x91\\xd5\\xec\\xdc\\xb9\\x13\\xbd\\xbd\\xbdX\\xb4hQTc\\xd0\\xd5\\xd5\\x85W^y\\x05\\xb7\\xdcr\\x8b\\x89\\xd1\\x11\\x11Q.\\xc8\\xb7\\xb6\\x84W*\\x88\\x88bl\\xdf\\xbe\\x1d\\xa3G\\x8f\\xc6\\xfd\\xf7\\xdf\\x0fI\\x92 I\\x12*++q\\xf4\\xe8Q\\xdb5\\x02DDd\\x8c|kKx\\xa5\\x82\\x88(\\xc6\\x981c\\xb0j\\xd5*\\xacZ\\xb5\\n[\\xb6l1;\\x1c\"\"\\xcaA\\xf9\\xd6\\x96\\xf0J\\x05\\x11\\x11\\x11\\x11\\x11e\\x84E\\x05\\x11\\x11\\x11\\x11\\x11e\\x84E\\x05\\x11\\x11\\x11\\x11\\x11e\\x84E\\x05\\x11\\x11\\x11\\x11\\x11e\\x84E\\x05\\x11\\x11\\x11\\x11\\x11eD\\xf1\\xe9O\\x92$e3\\x0e\"[`\\xde\\x10}\\xeb\\x99g\\x9eaN\\x10\\xa5\\x88yC\\xb9J\\x121\\xbf\\xb3}\\xf4\\xe8Q\\x1c8p\\xc0\\xacx\\x88\\x0c3k\\xd6,L\\x9e<\\xd9\\x90e3o(W\\x18\\x99\\x07\\x91\\xbc^/\\x8e\\x1c9b\\xf8z\\x88\\xb2m\\xe5\\xca\\x95\\x86-\\x9byC\\xb9\"A\\x1e4\\xc5\\x15\\x15DDDDDD)h\\xe2=\\x15DDDDD\\x94\\x11\\x16\\x15DDDDD\\x94\\x11\\x16\\x15DDDDD\\x94\\x91\\xff\\x03\\xe7^K\\xfe\\xaf{@\\'\\x00\\x00\\x00\\x00IEND\\xaeB`\\x82'"
      ]
     },
     "execution_count": 31,
     "metadata": {},
     "output_type": "execute_result"
    }
   ],
   "source": [
    "## 첫번째 Decision Tree 이미지 변경 후 이미지 내용 확인\n",
    "# create_png()를 적어줘야 변경된다.\n",
    "data = pydotplus.graph_from_dot_data(dt_dot_data0).create_png()\n",
    "data"
   ]
  },
  {
   "cell_type": "code",
   "execution_count": 32,
   "metadata": {},
   "outputs": [
    {
     "data": {
      "image/png": "[encoded data removed]",
      "text/plain": [
       "<PIL.PngImagePlugin.PngImageFile image mode=RGBA size=789x736 at 0x2C119225F40>"
      ]
     },
     "execution_count": 32,
     "metadata": {},
     "output_type": "execute_result"
    }
   ],
   "source": [
    "## 첫번째 Decision Tree 시각화 출력하기\n",
    "Image.open(BytesIO(data))"
   ]
  },
  {
   "cell_type": "code",
   "execution_count": 33,
   "metadata": {},
   "outputs": [],
   "source": [
    "## Decision Tree 비교하기\n",
    "# 비교하기위해서 for문을 돌려서 10개의 Decision Tree 시각화하기\n",
    "# 첫번째는 이미 저장했으니 첫번째 빼고 돌려주기\n",
    "# 랜덤이니 각자 다른 Decision Tree를 가지고 있다.\n",
    "# 확인해보면 petal length가 많이 사용된 것을 확인할 수 있는데 gini가 0이라서 작아서 자주 사용되기 때문이다.\n",
    "for i in range(1,11):\n",
    "    dt_dot_data = tree.export_graphviz(\n",
    "                rfc.estimators_[i],\n",
    "                feature_names = X_train.columns,\n",
    "                class_names = ['iris setosa', 'iris versicolor', 'iris virginica']\n",
    "                )\n",
    "    pydotplus.graph_from_dot_data(dt_dot_data).write_pdf('tree' + str(i) + '.pdf')"
   ]
  },
  {
   "cell_type": "code",
   "execution_count": 34,
   "metadata": {},
   "outputs": [
    {
     "data": {
      "text/plain": [
       "array([0.09577878, 0.02363488, 0.45272171, 0.42786464])"
      ]
     },
     "execution_count": 34,
     "metadata": {},
     "output_type": "execute_result"
    }
   ],
   "source": [
    "## Decision Tree nodes 칼럼 사용 비율 확인하기\n",
    "# [0번째 컬럼 사용 비율(sepal length), 1번째 컬럼 사용 비율(sepal width),\n",
    "# 2번째 컬럼 사용 비율(petal length), 3번째 컬럼 사용 비율(petal width)]\n",
    "# 사용 비율이 적은 것들은 지니가 높아서 사용하지않은것으로 잘 안나눠진 것으로 예측할때의 중요도가 낮다.\n",
    "# 그렇기에 많이 사용한 petal length, petal width가 중요함을 알 수 있다.\n",
    "rfc.feature_importances_"
   ]
  },
  {
   "cell_type": "code",
   "execution_count": 35,
   "metadata": {},
   "outputs": [
    {
     "data": {
      "text/plain": [
       "Index(['sepal length', 'sepal width', 'petal length', 'petal width'], dtype='object')"
      ]
     },
     "execution_count": 35,
     "metadata": {},
     "output_type": "execute_result"
    }
   ],
   "source": [
    "## 컬럼명을 확인하기\n",
    "X_train.columns"
   ]
  },
  {
   "cell_type": "code",
   "execution_count": 36,
   "metadata": {},
   "outputs": [
    {
     "data": {
      "text/plain": [
       "[('sepal length', 0.09577877720584785),\n",
       " ('sepal width', 0.023634880537093023),\n",
       " ('petal length', 0.45272170682692353),\n",
       " ('petal width', 0.4278646354301357)]"
      ]
     },
     "execution_count": 36,
     "metadata": {},
     "output_type": "execute_result"
    }
   ],
   "source": [
    "## 컬럼명과 합쳐서 보기\n",
    "list(zip(X_train.columns, rfc.feature_importances_))"
   ]
  },
  {
   "cell_type": "code",
   "execution_count": 37,
   "metadata": {},
   "outputs": [
    {
     "name": "stdout",
     "output_type": "stream",
     "text": [
      "sepal length : 0.09577877720584785\n",
      "sepal width : 0.023634880537093023\n",
      "petal length : 0.45272170682692353\n",
      "petal width : 0.4278646354301357\n"
     ]
    }
   ],
   "source": [
    "## for문에 넣어서 합쳐보기\n",
    "for name, importances in zip(X_train.columns, rfc.feature_importances_):\n",
    "    print(name,':', importances)"
   ]
  },
  {
   "cell_type": "code",
   "execution_count": 38,
   "metadata": {},
   "outputs": [
    {
     "data": {
      "text/plain": [
       "array([1, 1, 2, 2, 1, 2, 0, 2, 2, 1, 1, 0, 2, 0, 2, 0, 0, 2, 1, 2, 0, 1,\n",
       "       1, 0, 1, 1, 1, 2, 0, 2])"
      ]
     },
     "execution_count": 38,
     "metadata": {},
     "output_type": "execute_result"
    }
   ],
   "source": [
    "## 예측값 구하기\n",
    "predict = rfc.predict(X_test)\n",
    "predict"
   ]
  },
  {
   "cell_type": "code",
   "execution_count": 39,
   "metadata": {},
   "outputs": [
    {
     "data": {
      "text/plain": [
       "55     1\n",
       "91     1\n",
       "136    2\n",
       "130    2\n",
       "71     1\n",
       "72     1\n",
       "35     0\n",
       "128    2\n",
       "132    2\n",
       "58     1\n",
       "57     1\n",
       "1      0\n",
       "131    2\n",
       "13     0\n",
       "142    2\n",
       "4      0\n",
       "38     0\n",
       "108    2\n",
       "64     1\n",
       "137    2\n",
       "44     0\n",
       "68     1\n",
       "75     1\n",
       "19     0\n",
       "81     1\n",
       "98     1\n",
       "52     1\n",
       "113    2\n",
       "9      0\n",
       "147    2\n",
       "Name: target, dtype: int32"
      ]
     },
     "execution_count": 39,
     "metadata": {},
     "output_type": "execute_result"
    }
   ],
   "source": [
    "## 진짜값 확인하기\n",
    "y_test"
   ]
  },
  {
   "cell_type": "code",
   "execution_count": 40,
   "metadata": {},
   "outputs": [
    {
     "data": {
      "text/plain": [
       "55      True\n",
       "91      True\n",
       "136     True\n",
       "130     True\n",
       "71      True\n",
       "72     False\n",
       "35      True\n",
       "128     True\n",
       "132     True\n",
       "58      True\n",
       "57      True\n",
       "1       True\n",
       "131     True\n",
       "13      True\n",
       "142     True\n",
       "4       True\n",
       "38      True\n",
       "108     True\n",
       "64      True\n",
       "137     True\n",
       "44      True\n",
       "68      True\n",
       "75      True\n",
       "19      True\n",
       "81      True\n",
       "98      True\n",
       "52      True\n",
       "113     True\n",
       "9       True\n",
       "147     True\n",
       "Name: target, dtype: bool"
      ]
     },
     "execution_count": 40,
     "metadata": {},
     "output_type": "execute_result"
    }
   ],
   "source": [
    "predict == y_test"
   ]
  },
  {
   "cell_type": "code",
   "execution_count": 41,
   "metadata": {},
   "outputs": [
    {
     "data": {
      "text/plain": [
       "29"
      ]
     },
     "execution_count": 41,
     "metadata": {},
     "output_type": "execute_result"
    }
   ],
   "source": [
    "## True의 개수\n",
    "(predict == y_test).sum()"
   ]
  },
  {
   "cell_type": "code",
   "execution_count": 42,
   "metadata": {},
   "outputs": [
    {
     "data": {
      "text/plain": [
       "30"
      ]
     },
     "execution_count": 42,
     "metadata": {},
     "output_type": "execute_result"
    }
   ],
   "source": [
    "## 전체 예측 개수\n",
    "len((predict == y_test))"
   ]
  },
  {
   "cell_type": "code",
   "execution_count": 43,
   "metadata": {},
   "outputs": [
    {
     "data": {
      "text/plain": [
       "0.9666666666666667"
      ]
     },
     "execution_count": 43,
     "metadata": {},
     "output_type": "execute_result"
    }
   ],
   "source": [
    "## 정확도 계산\n",
    "(predict == y_test).sum() / len((predict == y_test))"
   ]
  },
  {
   "cell_type": "code",
   "execution_count": 44,
   "metadata": {},
   "outputs": [],
   "source": [
    "from sklearn.metrics import accuracy_score"
   ]
  },
  {
   "cell_type": "code",
   "execution_count": 45,
   "metadata": {},
   "outputs": [
    {
     "data": {
      "text/plain": [
       "0.9666666666666667"
      ]
     },
     "execution_count": 45,
     "metadata": {},
     "output_type": "execute_result"
    }
   ],
   "source": [
    "## 정확도 계산\n",
    "accuracy_score(y_test, predict)"
   ]
  },
  {
   "cell_type": "code",
   "execution_count": 46,
   "metadata": {},
   "outputs": [],
   "source": [
    "from sklearn.metrics import confusion_matrix"
   ]
  },
  {
   "cell_type": "code",
   "execution_count": 47,
   "metadata": {},
   "outputs": [
    {
     "data": {
      "text/plain": [
       "array([[ 8,  0,  0],\n",
       "       [ 0, 11,  1],\n",
       "       [ 0,  0, 10]], dtype=int64)"
      ]
     },
     "execution_count": 47,
     "metadata": {},
     "output_type": "execute_result"
    }
   ],
   "source": [
    "## 1번과 2번이 헷갈려서 자주 틀린다.\n",
    "confusion_matrix(y_test, predict)"
   ]
  },
  {
   "cell_type": "code",
   "execution_count": null,
   "metadata": {},
   "outputs": [],
   "source": []
  }
 ],
 "metadata": {
  "kernelspec": {
   "display_name": "Python 3",
   "language": "python",
   "name": "python3"
  },
  "language_info": {
   "codemirror_mode": {
    "name": "ipython",
    "version": 3
   },
   "file_extension": ".py",
   "mimetype": "text/x-python",
   "name": "python",
   "nbconvert_exporter": "python",
   "pygments_lexer": "ipython3",
   "version": "3.8.5"
  }
 },
 "nbformat": 4,
 "nbformat_minor": 4
}
