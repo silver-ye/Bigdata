{
 "cells": [
  {
   "cell_type": "markdown",
   "id": "5cf4625f",
   "metadata": {},
   "source": [
    "### spark를 사용한 소수 계산"
   ]
  },
  {
   "cell_type": "code",
   "execution_count": 1,
   "id": "ac68f5c5",
   "metadata": {},
   "outputs": [],
   "source": [
    "import numpy as np"
   ]
  },
  {
   "cell_type": "code",
   "execution_count": 2,
   "id": "ff907469",
   "metadata": {},
   "outputs": [],
   "source": [
    "import time"
   ]
  },
  {
   "cell_type": "code",
   "execution_count": 3,
   "id": "d0fce360",
   "metadata": {},
   "outputs": [
    {
     "data": {
      "text/html": [
       "\n",
       "        <div>\n",
       "            <p><b>SparkContext</b></p>\n",
       "\n",
       "            <p><a href=\"http://DESKTOP-VH8V6JM:4040\">Spark UI</a></p>\n",
       "\n",
       "            <dl>\n",
       "              <dt>Version</dt>\n",
       "                <dd><code>v2.4.7</code></dd>\n",
       "              <dt>Master</dt>\n",
       "                <dd><code>local[*]</code></dd>\n",
       "              <dt>AppName</dt>\n",
       "                <dd><code>PySparkShell</code></dd>\n",
       "            </dl>\n",
       "        </div>\n",
       "        "
      ],
      "text/plain": [
       "<SparkContext master=local[*] appName=PySparkShell>"
      ]
     },
     "execution_count": 3,
     "metadata": {},
     "output_type": "execute_result"
    }
   ],
   "source": [
    "# 스파크 접속하기\n",
    "sc = SparkContext.getOrCreate()\n",
    "sc"
   ]
  },
  {
   "cell_type": "code",
   "execution_count": 4,
   "id": "b943a5f7",
   "metadata": {},
   "outputs": [],
   "source": [
    "# 소수를 계산할 최대 수\n",
    "MAX = 100000"
   ]
  },
  {
   "cell_type": "code",
   "execution_count": 5,
   "id": "7f454dfc",
   "metadata": {},
   "outputs": [],
   "source": [
    "# 3이상 ~ MAX +1 미만의 수를 저장하는 리스트 생성\n",
    "# 해당 리스트는 10개의 멀티 쓰레드로 동시에 실행\n",
    "rdd = sc.parallelize([i for i in range(3, MAX+1)], 10)"
   ]
  },
  {
   "cell_type": "code",
   "execution_count": 6,
   "id": "f26e3399",
   "metadata": {},
   "outputs": [],
   "source": [
    "# 소수를 계산할 함수\n",
    "# rdd에 저장된 값을 순서대로 매개변수 num에 대입받음\n",
    "def get_prime(num):\n",
    "    # isPrime의 초기값 설정\n",
    "    isPrime = True\n",
    "    # 2 ~ num 미만의 수\n",
    "    for index in range(2, num):\n",
    "        # num을 index로 나눈 나머지가 0\n",
    "        if num % index == 0:\n",
    "            # isPrime에 False대입\n",
    "            isPrime = False\n",
    "            # 반복문 종료\n",
    "            break\n",
    "    # 반복문이 종료되고 나서 실행됨\n",
    "    # isPrime이 True이면 num은 나눠진 수가 없음\n",
    "    if isPrime == True:\n",
    "        # num은 소수이므로 num리턴\n",
    "        return num"
   ]
  },
  {
   "cell_type": "code",
   "execution_count": 7,
   "id": "55614ffb",
   "metadata": {},
   "outputs": [
    {
     "name": "stdout",
     "output_type": "stream",
     "text": [
      "소요시간 =  16.43236207962036\n"
     ]
    }
   ],
   "source": [
    "# 현재 시간을 start에 대입\n",
    "start = time.time()\n",
    "# rdd.map(get_prime) : rdd에 저장된 숫자들을 순서대로 get_prime함수에 대입\n",
    "# .collect() : 함수의 실행 결과를 가져옴\n",
    "prime_list = rdd.map(get_prime).collect()\n",
    "# 현재 시간을 end에 대입\n",
    "end = time.time()\n",
    "# 소요된 시간을 출력\n",
    "print('소요시간 = ', end-start)\n",
    "# 데이터를 10개로 나눠서 동시에 처리한다."
   ]
  },
  {
   "cell_type": "markdown",
   "id": "84574f64",
   "metadata": {},
   "source": [
    "### spark를 사용하지않은 소수 계산"
   ]
  },
  {
   "cell_type": "code",
   "execution_count": 9,
   "id": "2b25e3d3",
   "metadata": {},
   "outputs": [],
   "source": [
    "import numpy as np"
   ]
  },
  {
   "cell_type": "code",
   "execution_count": 10,
   "id": "7b9175ad",
   "metadata": {},
   "outputs": [],
   "source": [
    "import time"
   ]
  },
  {
   "cell_type": "code",
   "execution_count": 11,
   "id": "65ca95b3",
   "metadata": {},
   "outputs": [],
   "source": [
    "# 소수를 계산할 최대 수\n",
    "MAX = 100000"
   ]
  },
  {
   "cell_type": "code",
   "execution_count": 12,
   "id": "640a32ec",
   "metadata": {},
   "outputs": [],
   "source": [
    "# 3이상 MAX+1 미만의 수를 저장한 list01 생성\n",
    "lst01 = [ i for i in range(3, MAX+1)]"
   ]
  },
  {
   "cell_type": "code",
   "execution_count": 13,
   "id": "69f71abc",
   "metadata": {},
   "outputs": [],
   "source": [
    "# 소수로 계산할 함수\n",
    "# rdd에 저장된 값을 순서대로 매개변수 num에 대입받음\n",
    "def get_prime(num):\n",
    "    # isPrime의 초기값 설정\n",
    "    isPrime = True\n",
    "    # 2 ~ num 미만의 수\n",
    "    for index in range(2, num):\n",
    "        # num을 index로 나눈 나머지가 0\n",
    "        if num % index == 0:\n",
    "            # isPrime에 False대입\n",
    "            isPrime = False\n",
    "            # 반복문 종료\n",
    "            break\n",
    "    # 반복문이 종료되고 나서 실행됨\n",
    "    # isPrime이 True이면 num은 나눠진 수가 없음\n",
    "    if isPrime == True:\n",
    "        # num은 소수이므로 num리턴\n",
    "        return num"
   ]
  },
  {
   "cell_type": "code",
   "execution_count": 14,
   "id": "d878f615",
   "metadata": {},
   "outputs": [
    {
     "name": "stdout",
     "output_type": "stream",
     "text": [
      "소요시간 =  37.78818917274475\n"
     ]
    }
   ],
   "source": [
    "# 현재 시간을 start에 대입\n",
    "start = time.time()\n",
    "# lst01의 데이터를 순서대로 get_prime함수에 대입하곡 결과를 리턴함\n",
    "prime_list = list(map(get_prime, lst01))\n",
    "# 현재 시간을 end에 대입\n",
    "end = time.time()\n",
    "# 소요된 시간을 출력\n",
    "print('소요시간 = ', end-start)\n",
    "# 전체 데이터를 순서대로 처리하기때문에 시간이 많이 걸림"
   ]
  },
  {
   "cell_type": "code",
   "execution_count": null,
   "id": "f3d44d33",
   "metadata": {},
   "outputs": [],
   "source": []
  }
 ],
 "metadata": {
  "kernelspec": {
   "display_name": "Python 3",
   "language": "python",
   "name": "python3"
  },
  "language_info": {
   "codemirror_mode": {
    "name": "ipython",
    "version": 3
   },
   "file_extension": ".py",
   "mimetype": "text/x-python",
   "name": "python",
   "nbconvert_exporter": "python",
   "pygments_lexer": "ipython3",
   "version": "3.6.13"
  }
 },
 "nbformat": 4,
 "nbformat_minor": 5
}
