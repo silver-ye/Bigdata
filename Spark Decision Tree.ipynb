{
 "cells": [
  {
   "cell_type": "markdown",
   "id": "b13f7b83",
   "metadata": {},
   "source": [
    "### Spark Decision Tree"
   ]
  },
  {
   "cell_type": "code",
   "execution_count": 18,
   "id": "9829f80d",
   "metadata": {},
   "outputs": [
    {
     "data": {
      "text/plain": [
       "DataFrame[Outlook: string, Temperature: string, Humidity: string, Wind: string, PlayTennis: string]"
      ]
     },
     "execution_count": 18,
     "metadata": {},
     "output_type": "execute_result"
    }
   ],
   "source": [
    "## 파일 불러오기\n",
    "# show()를 통해서 볼 수 있음.\n",
    "# 첫번째 줄이 제목이라면 hearder = True로 제목으로 만들어줌.\n",
    "df = spark.read.csv('playtennis.csv', header = True)\n",
    "df"
   ]
  },
  {
   "cell_type": "code",
   "execution_count": 19,
   "id": "b66fb1e2",
   "metadata": {},
   "outputs": [
    {
     "data": {
      "text/plain": [
       "pyspark.sql.dataframe.DataFrame"
      ]
     },
     "execution_count": 19,
     "metadata": {},
     "output_type": "execute_result"
    }
   ],
   "source": [
    "## Spark DataFrame\n",
    "# 줄을 여러개 블럭으로 나눠서 저장한다.\n",
    "# 처리할 때, 블록별로 동시에 시작해서 빠르다.\n",
    "type(df)"
   ]
  },
  {
   "cell_type": "code",
   "execution_count": 20,
   "id": "f47408c6",
   "metadata": {},
   "outputs": [
    {
     "name": "stdout",
     "output_type": "stream",
     "text": [
      "+--------+-----------+--------+------+----------+\n",
      "| Outlook|Temperature|Humidity|  Wind|PlayTennis|\n",
      "+--------+-----------+--------+------+----------+\n",
      "|   Sunny|        Hot|    High|  Weak|        No|\n",
      "|   Sunny|        Hot|    High|Strong|        No|\n",
      "|Overcast|        Hot|    High|  Weak|       Yes|\n",
      "|    Rain|       Mild|    High|  Weak|       Yes|\n",
      "|    Rain|       Cool|  Normal|  Weak|       Yes|\n",
      "|    Rain|       Cool|  Normal|Strong|        No|\n",
      "|Overcast|       Cool|  Normal|Strong|       Yes|\n",
      "|   Sunny|       Mild|    High|  Weak|        No|\n",
      "|   Sunny|       Cool|  Normal|  Weak|       Yes|\n",
      "|    Rain|       Mild|  Normal|  Weak|       Yes|\n",
      "|   Sunny|       Mild|  Normal|Strong|       Yes|\n",
      "|Overcast|       Mild|    High|Strong|       Yes|\n",
      "|Overcast|        Hot|  Normal|  Weak|       Yes|\n",
      "|    Rain|       Mild|    High|Strong|        No|\n",
      "+--------+-----------+--------+------+----------+\n",
      "\n"
     ]
    }
   ],
   "source": [
    "## 확인하기\n",
    "# 현재 문자인데 숫자로 변경해야지 Decision Tree로 사용할 수 있다.\n",
    "df.show()"
   ]
  },
  {
   "cell_type": "markdown",
   "id": "ff4f7f7b",
   "metadata": {},
   "source": [
    "#### 컬럼값 수정"
   ]
  },
  {
   "cell_type": "code",
   "execution_count": 21,
   "id": "c52f1b87",
   "metadata": {},
   "outputs": [],
   "source": [
    "from pyspark.sql import functions as F"
   ]
  },
  {
   "cell_type": "code",
   "execution_count": 22,
   "id": "ca6e3973",
   "metadata": {},
   "outputs": [],
   "source": [
    "## Outlook데이터 변경하기\n",
    "# df.withColumn : 컬럼 데이터를 수정해서 리턴한다.\n",
    "# df.withColumn('Outlook', F.when(F.col('Outlook') == 'Sunny',0) : Outlook 컬럼의 값이 Sunny이면 0으로 수정해서 리턴한다.\n",
    "# otherwise(F.col('Outlook')) :  조건이 거짓이면 Outlook 컬럼의 기존값을 리턴한다.\n",
    "df = df.withColumn('Outlook', F.when(F.col('Outlook') == 'Sunny',0).otherwise(F.col('Outlook')))"
   ]
  },
  {
   "cell_type": "code",
   "execution_count": 23,
   "id": "8b84e3a0",
   "metadata": {},
   "outputs": [
    {
     "name": "stdout",
     "output_type": "stream",
     "text": [
      "+--------+-----------+--------+------+----------+\n",
      "| Outlook|Temperature|Humidity|  Wind|PlayTennis|\n",
      "+--------+-----------+--------+------+----------+\n",
      "|       0|        Hot|    High|  Weak|        No|\n",
      "|       0|        Hot|    High|Strong|        No|\n",
      "|Overcast|        Hot|    High|  Weak|       Yes|\n",
      "|    Rain|       Mild|    High|  Weak|       Yes|\n",
      "|    Rain|       Cool|  Normal|  Weak|       Yes|\n",
      "|    Rain|       Cool|  Normal|Strong|        No|\n",
      "|Overcast|       Cool|  Normal|Strong|       Yes|\n",
      "|       0|       Mild|    High|  Weak|        No|\n",
      "|       0|       Cool|  Normal|  Weak|       Yes|\n",
      "|    Rain|       Mild|  Normal|  Weak|       Yes|\n",
      "|       0|       Mild|  Normal|Strong|       Yes|\n",
      "|Overcast|       Mild|    High|Strong|       Yes|\n",
      "|Overcast|        Hot|  Normal|  Weak|       Yes|\n",
      "|    Rain|       Mild|    High|Strong|        No|\n",
      "+--------+-----------+--------+------+----------+\n",
      "\n"
     ]
    }
   ],
   "source": [
    "## 데이터 확인하기\n",
    "df.show()"
   ]
  },
  {
   "cell_type": "code",
   "execution_count": 24,
   "id": "bb1c0bbb",
   "metadata": {},
   "outputs": [],
   "source": [
    "## Outlook데이터 변경하기\n",
    "# df.withColumn : 컬럼 데이터를 수정해서 리턴한다.\n",
    "# df.withColumn('Outlook', F.when(F.col('Outlook') == 'Overcast',1) : Outlook 컬럼의 값이 Overcast이면 1으로 수정해서 리턴한다.\n",
    "# otherwise(F.col('Outlook')) :  조건이 거짓이면 Outlook 컬럼의 기존값을 리턴한다.\n",
    "df = df.withColumn('Outlook', F.when(F.col('Outlook') == 'Overcast',1).otherwise(F.col('Outlook')))"
   ]
  },
  {
   "cell_type": "code",
   "execution_count": 25,
   "id": "1c61d6b3",
   "metadata": {},
   "outputs": [],
   "source": [
    "## Outlook데이터 변경하기\n",
    "# df.withColumn : 컬럼 데이터를 수정해서 리턴한다.\n",
    "# df.withColumn('Outlook', F.when(F.col('Outlook') == 'Rain',2) : Outlook 컬럼의 값이 Rain이면 2으로 수정해서 리턴한다.\n",
    "# otherwise(F.col('Outlook')) :  조건이 거짓이면 Outlook 컬럼의 기존값을 리턴한다.\n",
    "df = df.withColumn('Outlook', F.when(F.col('Outlook') == 'Rain',2).otherwise(F.col('Outlook')))"
   ]
  },
  {
   "cell_type": "code",
   "execution_count": 26,
   "id": "c8f0d814",
   "metadata": {},
   "outputs": [
    {
     "name": "stdout",
     "output_type": "stream",
     "text": [
      "+-------+-----------+--------+------+----------+\n",
      "|Outlook|Temperature|Humidity|  Wind|PlayTennis|\n",
      "+-------+-----------+--------+------+----------+\n",
      "|      0|        Hot|    High|  Weak|        No|\n",
      "|      0|        Hot|    High|Strong|        No|\n",
      "|      1|        Hot|    High|  Weak|       Yes|\n",
      "|      2|       Mild|    High|  Weak|       Yes|\n",
      "|      2|       Cool|  Normal|  Weak|       Yes|\n",
      "|      2|       Cool|  Normal|Strong|        No|\n",
      "|      1|       Cool|  Normal|Strong|       Yes|\n",
      "|      0|       Mild|    High|  Weak|        No|\n",
      "|      0|       Cool|  Normal|  Weak|       Yes|\n",
      "|      2|       Mild|  Normal|  Weak|       Yes|\n",
      "|      0|       Mild|  Normal|Strong|       Yes|\n",
      "|      1|       Mild|    High|Strong|       Yes|\n",
      "|      1|        Hot|  Normal|  Weak|       Yes|\n",
      "|      2|       Mild|    High|Strong|        No|\n",
      "+-------+-----------+--------+------+----------+\n",
      "\n"
     ]
    }
   ],
   "source": [
    "## Outlook데이터 확인하기\n",
    "df.show()"
   ]
  },
  {
   "cell_type": "code",
   "execution_count": 27,
   "id": "fc2d8f38",
   "metadata": {},
   "outputs": [],
   "source": [
    "## Temperature데이터 변경하기\n",
    "# df.withColumn : 컬럼 데이터를 수정해서 리턴한다.\n",
    "# df.withColumn('Temperature', F.when(F.col('Temperature') == 'Hot',0) : Temperature컬럼의 값이 Hot이면 0으로 수정해서 리턴한다.\n",
    "# otherwise(F.col('Temperature')) :  조건이 거짓이면 Temperature 컬럼의 기존값을 리턴한다.\n",
    "df = df.withColumn('Temperature', F.when(F.col('Temperature') == 'Hot',0).otherwise(F.col('Temperature')))"
   ]
  },
  {
   "cell_type": "code",
   "execution_count": 28,
   "id": "bee80458",
   "metadata": {},
   "outputs": [],
   "source": [
    "## Temperature데이터 변경하기\n",
    "# df.withColumn : 컬럼 데이터를 수정해서 리턴한다.\n",
    "# df.withColumn('Temperature', F.when(F.col('Temperature') == 'Mild',1) : Temperature컬럼의 값이 Mild이면 1으로 수정해서 리턴한다.\n",
    "# otherwise(F.col('Temperature')) :  조건이 거짓이면 Temperature 컬럼의 기존값을 리턴한다.\n",
    "df = df.withColumn('Temperature', F.when(F.col('Temperature') == 'Mild',1).otherwise(F.col('Temperature')))"
   ]
  },
  {
   "cell_type": "code",
   "execution_count": 29,
   "id": "ee5ec8ed",
   "metadata": {},
   "outputs": [],
   "source": [
    "## Temperature데이터 변경하기\n",
    "# df.withColumn : 컬럼 데이터를 수정해서 리턴한다.\n",
    "# df.withColumn('Temperature', F.when(F.col('Temperature') == 'Cool',2) : Temperature컬럼의 값이 Cool이면 2으로 수정해서 리턴한다.\n",
    "# otherwise(F.col('Temperature')) :  조건이 거짓이면 Temperature 컬럼의 기존값을 리턴한다.\n",
    "df = df.withColumn('Temperature', F.when(F.col('Temperature') == 'Cool',2).otherwise(F.col('Temperature')))"
   ]
  },
  {
   "cell_type": "code",
   "execution_count": 30,
   "id": "f2078989",
   "metadata": {},
   "outputs": [
    {
     "name": "stdout",
     "output_type": "stream",
     "text": [
      "+-------+-----------+--------+------+----------+\n",
      "|Outlook|Temperature|Humidity|  Wind|PlayTennis|\n",
      "+-------+-----------+--------+------+----------+\n",
      "|      0|          0|    High|  Weak|        No|\n",
      "|      0|          0|    High|Strong|        No|\n",
      "|      1|          0|    High|  Weak|       Yes|\n",
      "|      2|          1|    High|  Weak|       Yes|\n",
      "|      2|          2|  Normal|  Weak|       Yes|\n",
      "|      2|          2|  Normal|Strong|        No|\n",
      "|      1|          2|  Normal|Strong|       Yes|\n",
      "|      0|          1|    High|  Weak|        No|\n",
      "|      0|          2|  Normal|  Weak|       Yes|\n",
      "|      2|          1|  Normal|  Weak|       Yes|\n",
      "|      0|          1|  Normal|Strong|       Yes|\n",
      "|      1|          1|    High|Strong|       Yes|\n",
      "|      1|          0|  Normal|  Weak|       Yes|\n",
      "|      2|          1|    High|Strong|        No|\n",
      "+-------+-----------+--------+------+----------+\n",
      "\n"
     ]
    }
   ],
   "source": [
    "## Temperature데이터 확인하기\n",
    "df.show()"
   ]
  },
  {
   "cell_type": "code",
   "execution_count": 31,
   "id": "986a5e82",
   "metadata": {},
   "outputs": [],
   "source": [
    "## Humidity데이터 변경하기\n",
    "# df.withColumn : 컬럼 데이터를 수정해서 리턴한다.\n",
    "# df.withColumn('Humidity', F.when(F.col('Humidity') == 'High',0) : Humidity컬럼의 값이 High이면 0으로 수정해서 리턴한다.\n",
    "# otherwise(F.col('Humidity')) :  조건이 거짓이면 Humidity 컬럼의 기존값을 리턴한다.\n",
    "df = df.withColumn('Humidity', F.when(F.col('Humidity') == 'High',0).otherwise(F.col('Humidity')))"
   ]
  },
  {
   "cell_type": "code",
   "execution_count": 32,
   "id": "8b842897",
   "metadata": {},
   "outputs": [],
   "source": [
    "## Humidity데이터 변경하기\n",
    "# df.withColumn : 컬럼 데이터를 수정해서 리턴한다.\n",
    "# df.withColumn('Humidity', F.when(F.col('Humidity') == 'Normal',1) : Humidity컬럼의 값이 Normal이면 1으로 수정해서 리턴한다.\n",
    "# otherwise(F.col('Humidity')) :  조건이 거짓이면 Humidity 컬럼의 기존값을 리턴한다.\n",
    "df = df.withColumn('Humidity', F.when(F.col('Humidity') == 'Normal',1).otherwise(F.col('Humidity')))"
   ]
  },
  {
   "cell_type": "code",
   "execution_count": 33,
   "id": "c84086e9",
   "metadata": {},
   "outputs": [
    {
     "name": "stdout",
     "output_type": "stream",
     "text": [
      "+-------+-----------+--------+------+----------+\n",
      "|Outlook|Temperature|Humidity|  Wind|PlayTennis|\n",
      "+-------+-----------+--------+------+----------+\n",
      "|      0|          0|       0|  Weak|        No|\n",
      "|      0|          0|       0|Strong|        No|\n",
      "|      1|          0|       0|  Weak|       Yes|\n",
      "|      2|          1|       0|  Weak|       Yes|\n",
      "|      2|          2|       1|  Weak|       Yes|\n",
      "|      2|          2|       1|Strong|        No|\n",
      "|      1|          2|       1|Strong|       Yes|\n",
      "|      0|          1|       0|  Weak|        No|\n",
      "|      0|          2|       1|  Weak|       Yes|\n",
      "|      2|          1|       1|  Weak|       Yes|\n",
      "|      0|          1|       1|Strong|       Yes|\n",
      "|      1|          1|       0|Strong|       Yes|\n",
      "|      1|          0|       1|  Weak|       Yes|\n",
      "|      2|          1|       0|Strong|        No|\n",
      "+-------+-----------+--------+------+----------+\n",
      "\n"
     ]
    }
   ],
   "source": [
    "## Humidity데이터 확인하기\n",
    "df.show()"
   ]
  },
  {
   "cell_type": "code",
   "execution_count": 34,
   "id": "1bc6f29e",
   "metadata": {},
   "outputs": [],
   "source": [
    "## Wind데이터 변경하기\n",
    "# df.withColumn : 컬럼 데이터를 수정해서 리턴한다.\n",
    "# df.withColumn('Wind', F.when(F.col('Wind') == 'Weak',0) : Wind컬럼의 값이 Weak이면 0으로 수정해서 리턴한다.\n",
    "# otherwise(F.col('Wind')) :  조건이 거짓이면 Wind 컬럼의 기존값을 리턴한다.\n",
    "df = df.withColumn('Wind', F.when(F.col('Wind') == 'Weak',0).otherwise(F.col('Wind')))"
   ]
  },
  {
   "cell_type": "code",
   "execution_count": 35,
   "id": "9acbcd5d",
   "metadata": {},
   "outputs": [],
   "source": [
    "## Wind데이터 변경하기\n",
    "# df.withColumn : 컬럼 데이터를 수정해서 리턴한다.\n",
    "# df.withColumn('Wind', F.when(F.col('Wind') == 'Strong',1) : Wind컬럼의 값이 Strong이면 1으로 수정해서 리턴한다.\n",
    "# otherwise(F.col('Wind')) :  조건이 거짓이면 Wind 컬럼의 기존값을 리턴한다.\n",
    "df = df.withColumn('Wind', F.when(F.col('Wind') == 'Strong',1).otherwise(F.col('Wind')))"
   ]
  },
  {
   "cell_type": "code",
   "execution_count": 36,
   "id": "9db904b9",
   "metadata": {},
   "outputs": [
    {
     "name": "stdout",
     "output_type": "stream",
     "text": [
      "+-------+-----------+--------+----+----------+\n",
      "|Outlook|Temperature|Humidity|Wind|PlayTennis|\n",
      "+-------+-----------+--------+----+----------+\n",
      "|      0|          0|       0|   0|        No|\n",
      "|      0|          0|       0|   1|        No|\n",
      "|      1|          0|       0|   0|       Yes|\n",
      "|      2|          1|       0|   0|       Yes|\n",
      "|      2|          2|       1|   0|       Yes|\n",
      "|      2|          2|       1|   1|        No|\n",
      "|      1|          2|       1|   1|       Yes|\n",
      "|      0|          1|       0|   0|        No|\n",
      "|      0|          2|       1|   0|       Yes|\n",
      "|      2|          1|       1|   0|       Yes|\n",
      "|      0|          1|       1|   1|       Yes|\n",
      "|      1|          1|       0|   1|       Yes|\n",
      "|      1|          0|       1|   0|       Yes|\n",
      "|      2|          1|       0|   1|        No|\n",
      "+-------+-----------+--------+----+----------+\n",
      "\n"
     ]
    }
   ],
   "source": [
    "## Wind데이터 확인하기\n",
    "df.show()"
   ]
  },
  {
   "cell_type": "code",
   "execution_count": 37,
   "id": "b6315c3e",
   "metadata": {},
   "outputs": [],
   "source": [
    "## PlayTennis데이터 변경하기\n",
    "# df.withColumn : 컬럼 데이터를 수정해서 리턴한다.\n",
    "# df.withColumn('PlayTennis', F.when(F.col('PlayTennis') == 'No',0) : PlayTennis컬럼의 값이 No이면 0으로 수정해서 리턴한다.\n",
    "# otherwise(F.col('PlayTennis')) :  조건이 거짓이면 PlayTennis 컬럼의 기존값을 리턴한다.\n",
    "df = df.withColumn('PlayTennis', F.when(F.col('PlayTennis') == 'No',0).otherwise(F.col('PlayTennis')))"
   ]
  },
  {
   "cell_type": "code",
   "execution_count": 38,
   "id": "8cffc51a",
   "metadata": {},
   "outputs": [],
   "source": [
    "## PlayTennis데이터 변경하기\n",
    "# df.withColumn : 컬럼 데이터를 수정해서 리턴한다.\n",
    "# df.withColumn('PlayTennis', F.when(F.col('PlayTennis') == 'Yes',1) : PlayTennis컬럼의 값이 Yes이면 1으로 수정해서 리턴한다.\n",
    "# otherwise(F.col('PlayTennis')) :  조건이 거짓이면 PlayTennis 컬럼의 기존값을 리턴한다.\n",
    "df = df.withColumn('PlayTennis', F.when(F.col('PlayTennis') == 'Yes',1).otherwise(F.col('PlayTennis')))"
   ]
  },
  {
   "cell_type": "code",
   "execution_count": 39,
   "id": "65ca7ec1",
   "metadata": {},
   "outputs": [
    {
     "name": "stdout",
     "output_type": "stream",
     "text": [
      "+-------+-----------+--------+----+----------+\n",
      "|Outlook|Temperature|Humidity|Wind|PlayTennis|\n",
      "+-------+-----------+--------+----+----------+\n",
      "|      0|          0|       0|   0|         0|\n",
      "|      0|          0|       0|   1|         0|\n",
      "|      1|          0|       0|   0|         1|\n",
      "|      2|          1|       0|   0|         1|\n",
      "|      2|          2|       1|   0|         1|\n",
      "|      2|          2|       1|   1|         0|\n",
      "|      1|          2|       1|   1|         1|\n",
      "|      0|          1|       0|   0|         0|\n",
      "|      0|          2|       1|   0|         1|\n",
      "|      2|          1|       1|   0|         1|\n",
      "|      0|          1|       1|   1|         1|\n",
      "|      1|          1|       0|   1|         1|\n",
      "|      1|          0|       1|   0|         1|\n",
      "|      2|          1|       0|   1|         0|\n",
      "+-------+-----------+--------+----+----------+\n",
      "\n"
     ]
    }
   ],
   "source": [
    "## PlayTennis데이터 확인하기\n",
    "df.show()"
   ]
  },
  {
   "cell_type": "markdown",
   "id": "dd6a0426",
   "metadata": {},
   "source": [
    "#### 컬럼 타입 수정"
   ]
  },
  {
   "cell_type": "code",
   "execution_count": 40,
   "id": "86408079",
   "metadata": {},
   "outputs": [
    {
     "data": {
      "text/plain": [
       "StructType(List(StructField(Outlook,StringType,true),StructField(Temperature,StringType,true),StructField(Humidity,StringType,true),StructField(Wind,StringType,true),StructField(PlayTennis,StringType,true)))"
      ]
     },
     "execution_count": 40,
     "metadata": {},
     "output_type": "execute_result"
    }
   ],
   "source": [
    "## df의 컬럼 타입 조회\n",
    "# 컬럼 타입들이 StringType임을 확인할 수 있다.\n",
    "df.schema"
   ]
  },
  {
   "cell_type": "code",
   "execution_count": 43,
   "id": "bcea0f70",
   "metadata": {},
   "outputs": [],
   "source": [
    "## Outlook 컬럼 타입 변경하기\n",
    "# df.withColumn('Outlook' : Outlook 컬럼 수정한다.\n",
    "# df.['Outlook'].cast('int') : Outlook 컬럼의 타입을 inf로 변환시켜서 리턴한다.\n",
    "df = df.withColumn('Outlook', df['Outlook'].cast('int'))"
   ]
  },
  {
   "cell_type": "code",
   "execution_count": 44,
   "id": "0774b5b9",
   "metadata": {},
   "outputs": [
    {
     "data": {
      "text/plain": [
       "StructType(List(StructField(Outlook,IntegerType,true),StructField(Temperature,StringType,true),StructField(Humidity,StringType,true),StructField(Wind,StringType,true),StructField(PlayTennis,StringType,true),StructField(Outlookd,IntegerType,true)))"
      ]
     },
     "execution_count": 44,
     "metadata": {},
     "output_type": "execute_result"
    }
   ],
   "source": [
    "## Outlook 컬럼 타입 확인하기\n",
    "# Outlook의 타입이 IntegerType으로 변경되었다.\n",
    "df.schema"
   ]
  },
  {
   "cell_type": "code",
   "execution_count": 45,
   "id": "6d66b010",
   "metadata": {},
   "outputs": [],
   "source": [
    "## Temperature 컬럼 타입 변경하기\n",
    "# df.withColumn('Temperature' : Temperature 컬럼 수정한다.\n",
    "# df.['Temperature'].cast('int') : Temperature 컬럼의 타입을 inf로 변환시켜서 리턴한다.\n",
    "df = df.withColumn('Temperature', df['Temperature'].cast('int'))"
   ]
  },
  {
   "cell_type": "code",
   "execution_count": 46,
   "id": "6e89673d",
   "metadata": {},
   "outputs": [
    {
     "data": {
      "text/plain": [
       "StructType(List(StructField(Outlook,IntegerType,true),StructField(Temperature,IntegerType,true),StructField(Humidity,StringType,true),StructField(Wind,StringType,true),StructField(PlayTennis,StringType,true),StructField(Outlookd,IntegerType,true)))"
      ]
     },
     "execution_count": 46,
     "metadata": {},
     "output_type": "execute_result"
    }
   ],
   "source": [
    "## Temperature 컬럼 타입 확인하기\n",
    "# Temperature 타입이 IntegerType으로 변경되었다.\n",
    "df.schema"
   ]
  },
  {
   "cell_type": "code",
   "execution_count": 47,
   "id": "8be7aec3",
   "metadata": {},
   "outputs": [],
   "source": [
    "## Humidity 컬럼 타입 변경하기\n",
    "# df.withColumn('Humidity' : Humidity 컬럼 수정한다.\n",
    "# df.['Humidity'].cast('int') : Humidity 컬럼의 타입을 inf로 변환시켜서 리턴한다.\n",
    "df = df.withColumn('Humidity', df['Humidity'].cast('int'))"
   ]
  },
  {
   "cell_type": "code",
   "execution_count": 48,
   "id": "c38e7610",
   "metadata": {},
   "outputs": [
    {
     "data": {
      "text/plain": [
       "StructType(List(StructField(Outlook,IntegerType,true),StructField(Temperature,IntegerType,true),StructField(Humidity,IntegerType,true),StructField(Wind,StringType,true),StructField(PlayTennis,StringType,true),StructField(Outlookd,IntegerType,true)))"
      ]
     },
     "execution_count": 48,
     "metadata": {},
     "output_type": "execute_result"
    }
   ],
   "source": [
    "## Humidity 컬럼 타입 확인하기\n",
    "# Humidity 타입이 IntegerType으로 변경되었다.\n",
    "df.schema"
   ]
  },
  {
   "cell_type": "code",
   "execution_count": 49,
   "id": "b5ae3b32",
   "metadata": {},
   "outputs": [],
   "source": [
    "## Wind 컬럼 타입 변경하기\n",
    "# df.withColumn('Wind' : Wind 컬럼 수정한다.\n",
    "# df.['Wind'].cast('int') : Wind 컬럼의 타입을 inf로 변환시켜서 리턴한다.\n",
    "df = df.withColumn('Wind', df['Wind'].cast('int'))"
   ]
  },
  {
   "cell_type": "code",
   "execution_count": 50,
   "id": "1d942d6e",
   "metadata": {},
   "outputs": [
    {
     "data": {
      "text/plain": [
       "StructType(List(StructField(Outlook,IntegerType,true),StructField(Temperature,IntegerType,true),StructField(Humidity,IntegerType,true),StructField(Wind,IntegerType,true),StructField(PlayTennis,StringType,true),StructField(Outlookd,IntegerType,true)))"
      ]
     },
     "execution_count": 50,
     "metadata": {},
     "output_type": "execute_result"
    }
   ],
   "source": [
    "## Wind 컬럼 타입 확인하기\n",
    "# Wind 타입이 IntegerType으로 변경되었다.\n",
    "df.schema"
   ]
  },
  {
   "cell_type": "code",
   "execution_count": 52,
   "id": "603b7697",
   "metadata": {},
   "outputs": [],
   "source": [
    "## PlayTennis 컬럼 타입 변경하기\n",
    "# df.withColumn('PlayTennis' : PlayTennis 컬럼 수정한다.\n",
    "# df.['PlayTennis'].cast('int') : PlayTennis 컬럼의 타입을 inf로 변환시켜서 리턴한다.\n",
    "df = df.withColumn('PlayTennis', df['PlayTennis'].cast('int'))"
   ]
  },
  {
   "cell_type": "code",
   "execution_count": 53,
   "id": "e4708616",
   "metadata": {},
   "outputs": [
    {
     "data": {
      "text/plain": [
       "StructType(List(StructField(Outlook,IntegerType,true),StructField(Temperature,IntegerType,true),StructField(Humidity,IntegerType,true),StructField(Wind,IntegerType,true),StructField(PlayTennis,IntegerType,true),StructField(Outlookd,IntegerType,true)))"
      ]
     },
     "execution_count": 53,
     "metadata": {},
     "output_type": "execute_result"
    }
   ],
   "source": [
    "## PlayTennis 컬럼 타입 확인하기\n",
    "# PlayTennis 타입이 IntegerType으로 변경되었다.\n",
    "df.schema"
   ]
  },
  {
   "cell_type": "markdown",
   "id": "013e0904",
   "metadata": {},
   "source": [
    "#### Decision Tree 생성"
   ]
  },
  {
   "cell_type": "code",
   "execution_count": 54,
   "id": "68d98fb2",
   "metadata": {},
   "outputs": [
    {
     "name": "stdout",
     "output_type": "stream",
     "text": [
      "+-------+-----------+--------+----+----------+--------+\n",
      "|Outlook|Temperature|Humidity|Wind|PlayTennis|Outlookd|\n",
      "+-------+-----------+--------+----+----------+--------+\n",
      "|      0|          0|       0|   0|         0|       0|\n",
      "|      0|          0|       0|   1|         0|       0|\n",
      "|      1|          0|       0|   0|         1|       1|\n",
      "|      2|          1|       0|   0|         1|       2|\n",
      "|      2|          2|       1|   0|         1|       2|\n",
      "|      2|          2|       1|   1|         0|       2|\n",
      "|      1|          2|       1|   1|         1|       1|\n",
      "|      0|          1|       0|   0|         0|       0|\n",
      "|      0|          2|       1|   0|         1|       0|\n",
      "|      2|          1|       1|   0|         1|       2|\n",
      "|      0|          1|       1|   1|         1|       0|\n",
      "|      1|          1|       0|   1|         1|       1|\n",
      "|      1|          0|       1|   0|         1|       1|\n",
      "|      2|          1|       0|   1|         0|       2|\n",
      "+-------+-----------+--------+----+----------+--------+\n",
      "\n"
     ]
    }
   ],
   "source": [
    "df.show()"
   ]
  },
  {
   "cell_type": "code",
   "execution_count": 55,
   "id": "645761a7",
   "metadata": {},
   "outputs": [],
   "source": [
    "from pyspark.ml.feature import VectorAssembler"
   ]
  },
  {
   "cell_type": "code",
   "execution_count": 57,
   "id": "d15d899e",
   "metadata": {},
   "outputs": [],
   "source": [
    "# inputCols = ['Outlook', 'Temperature', 'Humidity', 'Wind'] :  ''Outlook', 'Temperature', 'Humidity', 'Wind' 컬럼의 값을 찹쳐서 features 칼럼을 생성\n",
    "# outputCol = 'features' : features 컬럼을 생성\n",
    "# 할 객체는 VectorAssembler\n",
    "assembler = VectorAssembler(inputCols = ['Outlook', 'Temperature', 'Humidity', 'Wind'], outputCol = 'features')"
   ]
  },
  {
   "cell_type": "code",
   "execution_count": null,
   "id": "9a658849",
   "metadata": {},
   "outputs": [],
   "source": []
  }
 ],
 "metadata": {
  "kernelspec": {
   "display_name": "Python 3",
   "language": "python",
   "name": "python3"
  },
  "language_info": {
   "codemirror_mode": {
    "name": "ipython",
    "version": 3
   },
   "file_extension": ".py",
   "mimetype": "text/x-python",
   "name": "python",
   "nbconvert_exporter": "python",
   "pygments_lexer": "ipython3",
   "version": "3.6.13"
  }
 },
 "nbformat": 4,
 "nbformat_minor": 5
}
