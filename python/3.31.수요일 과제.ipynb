{
 "cells": [
  {
   "cell_type": "markdown",
   "metadata": {},
   "source": [
    "# 1. 가위바위보를 while문을 이용하여 이길 때 까지 반복하기"
   ]
  },
  {
   "cell_type": "code",
   "execution_count": 26,
   "metadata": {},
   "outputs": [
    {
     "name": "stdout",
     "output_type": "stream",
     "text": [
      "가위 바위 보 중에 하나를 골라주세요: 가위\n",
      "You: 가위 Com: 가위\n",
      "무승부 입니다! 다시 기회를 드리겠습니다!\n",
      "\n",
      "가위 바위 보 중에 하나를 골라주세요: 바위\n",
      "You: 바위 Com: 가위\n",
      "당신이 이겼습니다!!\n"
     ]
    }
   ],
   "source": [
    "#사용자 결정\n",
    "user = input('가위 바위 보 중에 하나를 골라주세요: ')\n",
    "\n",
    "#컴퓨터의 결정\n",
    "import random\n",
    "random = random.randint(1,3)\n",
    "if random == 1:\n",
    "    hand = '가위'\n",
    "elif random == 2:\n",
    "    hand = '바위'\n",
    "else:\n",
    "    hand = '보'\n",
    "    \n",
    "#반복문\n",
    "while True:\n",
    "    if (hand == user):\n",
    "        print('You: ' + user + ' Com: ' + hand)\n",
    "        print('무승부 입니다! 다시 기회를 드리겠습니다!')\n",
    "        print()\n",
    "        user = input('가위 바위 보 중에 하나를 골라주세요: ')\n",
    "        \n",
    "    elif (hand == '바위' and user == '가위') or (hand == '가위' and user == '보'):\n",
    "        print('You: ' + user + ' Com: ' + hand)\n",
    "        print('당신이 졌습니다! 다시 기회를 드리겠습니다!')\n",
    "        print()\n",
    "        user = input('가위 바위 보 중에 하나를 골라주세요: ')\n",
    "        \n",
    "    else: #브레이크를 사용하여 멈추기\n",
    "        print('You: ' + user + ' Com: ' + hand)\n",
    "        print('당신이 이겼습니다!!')\n",
    "        break\n",
    "    "
   ]
  },
  {
   "cell_type": "markdown",
   "metadata": {},
   "source": [
    "# 2-1. 중복없는 로또번호생성기 만들기"
   ]
  },
  {
   "cell_type": "code",
   "execution_count": 2,
   "metadata": {},
   "outputs": [
    {
     "name": "stdout",
     "output_type": "stream",
     "text": [
      "로또번호 생성 프로그램\n",
      "============================\n",
      "1번째 번호는 21입니다.\n",
      "2번째 번호는 6입니다.\n",
      "3번째 번호는 37입니다.\n",
      "4번째 번호는 36입니다.\n",
      "5번째 번호는 5입니다.\n",
      "6번째 번호는 10입니다.\n"
     ]
    }
   ],
   "source": [
    "print('로또번호 생성 프로그램')\n",
    "print('============================')\n",
    "cnt = 1\n",
    "import random\n",
    "num_same = None\n",
    "\n",
    "while cnt < 7:\n",
    "    num = random.randint(1,45)\n",
    "    if num_same is None: #첫번째값\n",
    "        num = random.randint(1,45)\n",
    "        print(str(cnt) + '번째 번호는 ' + str(num) + '입니다.')\n",
    "        cnt = cnt + 1\n",
    "        num_same1 = num\n",
    "    elif cnt == 2 and num_same1 == num:\n",
    "        num = random.randint(1,45)\n",
    "        print(str(cnt) + '번째 번호는 ' + str(num) + '입니다.')\n",
    "        cnt = cnt + 1\n",
    "        num_same2 = num\n",
    "    elif (cnt == 2 and num_same1 == num) or (cnt == 3 and num_same2 == num):\n",
    "        num = random.randint(1,45)\n",
    "        print(str(cnt) + '번째 번호는 ' + str(num) + '입니다.')\n",
    "        cnt = cnt + 1\n",
    "        num_same3 = num\n",
    "    elif (cnt == 2 and num_same1 == num) or (cnt == 3 and num_same2 == num) or (cnt == 4 and num_same3 == num):\n",
    "        num = random.randint(1,45)\n",
    "        print(str(cnt) + '번째 번호는 ' + str(num) + '입니다.')\n",
    "        cnt = cnt + 1\n",
    "        num_same4 = num\n",
    "    elif (cnt == 2 and num_same1 == num) or (cnt == 3 and num_same2 == num) or (cnt == 4 and num_same3 == num) or (cnt == 5 and num_same4 == num):\n",
    "        num = random.randint(1,45)\n",
    "        print(str(cnt) + '번째 번호는 ' + str(num) + '입니다.')\n",
    "        cnt = cnt + 1\n",
    "        num_same5 = num\n",
    "    elif (cnt == 2 and num_same1 == num) or (cnt == 3 and num_same2 == num) or (cnt == 4 and num_same2 == num) or (cnt == 5 and num_same4 == num) or (cnt == 6 and num_same5 == num):\n",
    "        num = random.randint(1,45)\n",
    "        print(str(cnt) + '번째 번호는 ' + str(num) + '입니다.')\n",
    "        cnt = cnt + 1\n",
    "        num_same6 = num\n",
    "\n",
    "\n",
    "        \n",
    "        \n",
    "        "
   ]
  },
  {
   "cell_type": "markdown",
   "metadata": {},
   "source": [
    "# 2-2. 중복없는 로또번호생성기 만들기"
   ]
  },
  {
   "cell_type": "code",
   "execution_count": 83,
   "metadata": {},
   "outputs": [
    {
     "name": "stdout",
     "output_type": "stream",
     "text": [
      "1번째 번호는 29입니다.\n",
      "2번째 번호는 20입니다.\n",
      "3번째 번호는 40입니다.\n",
      "4번째 번호는 45입니다.\n",
      "5번째 번호는 44입니다.\n",
      "6번째 번호는 27입니다.\n"
     ]
    }
   ],
   "source": [
    "import random\n",
    "cnt = 1\n",
    "num_list = []\n",
    "\n",
    "while cnt < 7:\n",
    "    num = random.randint(1,45)\n",
    "    if num not in num_list:\n",
    "        print(str(cnt) + '번째 번호는 ' + str(num) + '입니다.')\n",
    "        num_list.append(num)\n",
    "        cnt = cnt + 1\n",
    "        "
   ]
  }
 ],
 "metadata": {
  "kernelspec": {
   "display_name": "Python 3",
   "language": "python",
   "name": "python3"
  },
  "language_info": {
   "codemirror_mode": {
    "name": "ipython",
    "version": 3
   },
   "file_extension": ".py",
   "mimetype": "text/x-python",
   "name": "python",
   "nbconvert_exporter": "python",
   "pygments_lexer": "ipython3",
   "version": "3.8.5"
  }
 },
 "nbformat": 4,
 "nbformat_minor": 4
}
