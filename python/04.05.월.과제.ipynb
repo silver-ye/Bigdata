{
 "cells": [
  {
   "cell_type": "markdown",
   "metadata": {},
   "source": [
    "# 가위,바위,보"
   ]
  },
  {
   "cell_type": "code",
   "execution_count": 2,
   "metadata": {},
   "outputs": [
    {
     "name": "stdout",
     "output_type": "stream",
     "text": [
      "가위~ 바위~ 보 ! 중에 하나를 골라주세요~   가위\n",
      "\n",
      "무승부! 또 해! (You:가위~, Com:가위~)\n",
      "가위~ 바위~ 보 ! 중에 하나를 골라주세요~   바위\n",
      "\n",
      "당신 짐! 컴퓨터 이김! 또 해! You:바위~, Com:보~)\n",
      "가위~ 바위~ 보 ! 중에 하나를 골라주세요~   보\n",
      "\n",
      "당신 이김! 컴퓨터 짐! (You:보~, Com:바위~)\n"
     ]
    }
   ],
   "source": [
    "import random\n",
    "\n",
    "\n",
    "def inputdata():\n",
    "    lista = []\n",
    "    # 사용자 결정-------------------------------------------------------\n",
    "    lista.append(input('가위~ 바위~ 보 ! 중에 하나를 골라주세요~   '))   \n",
    "    print ()\n",
    "    \n",
    "    # 컴퓨터 결정-------------------------------------------------------\n",
    "    com = random.randint(1,3)  # uniformly distributed random number generator\n",
    "    if com == 1:\n",
    "        lista.append('가위')\n",
    "    elif com == 2:\n",
    "        lista.append('바위')\n",
    "    else:\n",
    "        lista.append('보')\n",
    "    return lista\n",
    "    \n",
    "def fight(lista):    \n",
    "    if lista[1] == lista[0]:\n",
    "        print ('무승부! 또 해! (You:' + lista[0] + '~, Com:' + lista[1] + '~)')\n",
    "        winner = '없음'\n",
    "    elif (lista[1]=='바위' and lista[0]=='가위') or (lista[1]=='가위' and lista[0]=='보') or (lista[1]=='보' and lista[0]=='바위'):\n",
    "        print ('당신 짐! 컴퓨터 이김! 또 해! You:' + lista[0] + '~, Com:' + lista[1] + '~)')\n",
    "        winner = '컴퓨터'\n",
    "    else: ## 사용자가 이기는 경우\n",
    "        print ('당신 이김! 컴퓨터 짐! (You:' + lista[0] + '~, Com:' + lista[1] + '~)')\n",
    "        winner = '사용자'\n",
    "        \n",
    "    return winner\n",
    "    \n",
    "while True:\n",
    "    first = inputdata()\n",
    "    last = fight(first)\n",
    "    if last == '사용자':\n",
    "        break "
   ]
  },
  {
   "cell_type": "markdown",
   "metadata": {},
   "source": [
    "# 로또번호"
   ]
  },
  {
   "cell_type": "code",
   "execution_count": 4,
   "metadata": {},
   "outputs": [
    {
     "name": "stdout",
     "output_type": "stream",
     "text": [
      "복권 번호를 맞춰보세요!\n",
      "이번주 복권 번호는 [10, 40, 7, 16, 30, 4] 입니다\n",
      "6개의 숫자를 입력하세요: 10, 40, 7, 16, 30, 4\n",
      "맞춘 숫자는 [10, 40, 7, 16, 30, 4] 입니다.\n",
      "6개를 맞춰서 100000원 입니다\n",
      "또 하시겠습니까?y\n",
      "복권 번호를 맞춰보세요!\n",
      "이번주 복권 번호는 [4, 23, 14, 28, 38, 35] 입니다\n",
      "6개의 숫자를 입력하세요: 4, 23, 14, 28, 38, 35\n",
      "맞춘 숫자는 [4, 23, 14, 28, 38, 35] 입니다.\n",
      "6개를 맞춰서 100000원 입니다\n",
      "또 하시겠습니까?n\n",
      "총 당첨금은 200000입니다\n"
     ]
    }
   ],
   "source": [
    "import random\n",
    "\n",
    "def com_num():\n",
    "    listlotto = list(range(1,46))\n",
    "    random.shuffle(listlotto)\n",
    "    listlotto = listlotto[:6]\n",
    "    #print('이번주 복권 번호는', listlotto, '입니다')\n",
    "    return listlotto\n",
    "\n",
    "#listlotto = com_num()\n",
    "\n",
    "def in_num():\n",
    "    list_user= []\n",
    "    num = input('6개의 숫자를 입력하세요: ')\n",
    "    for j in num.split(','):  \n",
    "        list_user.append(int(j))\n",
    "    return list_user\n",
    "\n",
    "#list_user = in_num()\n",
    "\n",
    "\n",
    "def compare(list_user, listlotto):\n",
    "    list_same = []\n",
    "    for num in range(0,6):\n",
    "        for i in range(0,6):\n",
    "            if listlotto[num] == list_user[i]:\n",
    "                list_same.append(listlotto[num])   \n",
    "    return list_same\n",
    "\n",
    "#list_same = compare(list_user, listlotto)\n",
    "\n",
    "def money(list_same):\n",
    "    list_money = [0, 0, 0, 5000, 10000, 50000, 100000 ]\n",
    "    result = list_money[len(list_same)]\n",
    "    #print(len(list_same) + '을', '맞춰서', int(result))\n",
    "    return result\n",
    "\n",
    "#money(list_same)\n",
    "list_sum = 0\n",
    "while True:\n",
    "    print('복권 번호를 맞춰보세요!')\n",
    "    #list_user = in_num()\n",
    "    listlotto = com_num()\n",
    "    print('이번주 복권 번호는', listlotto, '입니다')\n",
    "    list_user = in_num()\n",
    "    list_same = compare(list_user, listlotto)\n",
    "    print('맞춘 숫자는', list_same, '입니다.')\n",
    "    result = money(list_same)\n",
    "    print(str(len(list_same)) + '개를', '맞춰서', str(result) + '원 입니다')\n",
    "    list_sum += result\n",
    "    question = input('또 하시겠습니까?')\n",
    "    if question == 'n':\n",
    "        print('총 당첨금은', str(list_sum) + '입니다')\n",
    "        break\n",
    "            "
   ]
  },
  {
   "cell_type": "code",
   "execution_count": null,
   "metadata": {},
   "outputs": [],
   "source": []
  }
 ],
 "metadata": {
  "kernelspec": {
   "display_name": "Python 3",
   "language": "python",
   "name": "python3"
  },
  "language_info": {
   "codemirror_mode": {
    "name": "ipython",
    "version": 3
   },
   "file_extension": ".py",
   "mimetype": "text/x-python",
   "name": "python",
   "nbconvert_exporter": "python",
   "pygments_lexer": "ipython3",
   "version": "3.8.5"
  }
 },
 "nbformat": 4,
 "nbformat_minor": 4
}
